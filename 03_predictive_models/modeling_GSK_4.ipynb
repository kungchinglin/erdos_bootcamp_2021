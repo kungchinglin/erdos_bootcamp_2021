{
 "cells": [
  {
   "cell_type": "markdown",
   "id": "e3808979",
   "metadata": {},
   "source": [
    "# Model building"
   ]
  },
  {
   "cell_type": "code",
   "execution_count": 18,
   "id": "b51dd14e",
   "metadata": {},
   "outputs": [],
   "source": [
    "import numpy as np\n",
    "import pandas as pd\n",
    "import pylab as plt\n",
    "import seaborn as sns\n",
    "\n",
    "\n",
    "from sklearn.metrics import accuracy_score, precision_score, recall_score, f1_score\n",
    "from sklearn.metrics import precision_recall_fscore_support\n",
    "from sklearn.metrics import confusion_matrix, make_scorer\n",
    "from sklearn.metrics import plot_roc_curve, precision_recall_curve\n",
    "from sklearn.metrics import plot_precision_recall_curve\n",
    "from sklearn.feature_selection import SelectFromModel\n",
    "\n",
    "from sklearn.feature_extraction.text import TfidfVectorizer\n",
    "from sklearn.feature_extraction.text import CountVectorizer\n",
    "\n",
    "\n",
    "from sklearn.model_selection import train_test_split\n",
    "from sklearn.model_selection import GridSearchCV, KFold, StratifiedKFold\n",
    "from sklearn.linear_model import LogisticRegression\n",
    "\n",
    "from sklearn import tree\n",
    "from sklearn.tree import DecisionTreeClassifier\n",
    "from sklearn.ensemble import RandomForestClassifier\n",
    "\n",
    "import warnings\n",
    "warnings.filterwarnings(\"ignore\")"
   ]
  },
  {
   "cell_type": "code",
   "execution_count": 2,
   "id": "1a0ed1c1",
   "metadata": {},
   "outputs": [],
   "source": [
    "df_orig = pd.read_csv(\"df_processed.csv\")\n",
    "df_orig.replace(np.nan, \"no_text\", inplace=True)"
   ]
  },
  {
   "cell_type": "code",
   "execution_count": 3,
   "id": "4c82f552",
   "metadata": {},
   "outputs": [
    {
     "data": {
      "text/html": [
       "<div>\n",
       "<style scoped>\n",
       "    .dataframe tbody tr th:only-of-type {\n",
       "        vertical-align: middle;\n",
       "    }\n",
       "\n",
       "    .dataframe tbody tr th {\n",
       "        vertical-align: top;\n",
       "    }\n",
       "\n",
       "    .dataframe thead th {\n",
       "        text-align: right;\n",
       "    }\n",
       "</style>\n",
       "<table border=\"1\" class=\"dataframe\">\n",
       "  <thead>\n",
       "    <tr style=\"text-align: right;\">\n",
       "      <th></th>\n",
       "      <th>Unnamed: 0</th>\n",
       "      <th>id</th>\n",
       "      <th>subreddit</th>\n",
       "      <th>title</th>\n",
       "      <th>author</th>\n",
       "      <th>url</th>\n",
       "      <th>created</th>\n",
       "      <th>ext_link</th>\n",
       "      <th>id.1</th>\n",
       "      <th>body</th>\n",
       "      <th>...</th>\n",
       "      <th>upvote_ratio</th>\n",
       "      <th>body_processed</th>\n",
       "      <th>title_processed</th>\n",
       "      <th>author_processed</th>\n",
       "      <th>subreddit_processed</th>\n",
       "      <th>body_and_title</th>\n",
       "      <th>body_and_author</th>\n",
       "      <th>title_and_author</th>\n",
       "      <th>body_title_and_author</th>\n",
       "      <th>body_title_author_subreddit</th>\n",
       "    </tr>\n",
       "  </thead>\n",
       "  <tbody>\n",
       "    <tr>\n",
       "      <th>0</th>\n",
       "      <td>0</td>\n",
       "      <td>koaw8g</td>\n",
       "      <td>finance</td>\n",
       "      <td>Tech's top seven companies added $3.4 trillion...</td>\n",
       "      <td>Obrocheetah</td>\n",
       "      <td>https://www.reddit.com/r/finance/comments/koaw...</td>\n",
       "      <td>1609505868</td>\n",
       "      <td>no_text</td>\n",
       "      <td>koaw8g</td>\n",
       "      <td>[deleted]</td>\n",
       "      <td>...</td>\n",
       "      <td>1.0</td>\n",
       "      <td>deleted</td>\n",
       "      <td>top seven companies added trillion value</td>\n",
       "      <td>obrocheetah</td>\n",
       "      <td>finance</td>\n",
       "      <td>deleted top seven companies added trillion value</td>\n",
       "      <td>deleted obrocheetah</td>\n",
       "      <td>top seven companies added trillion value obroc...</td>\n",
       "      <td>deleted top seven companies added trillion val...</td>\n",
       "      <td>deleted top seven companies added trillion val...</td>\n",
       "    </tr>\n",
       "    <tr>\n",
       "      <th>1</th>\n",
       "      <td>1</td>\n",
       "      <td>kobbka</td>\n",
       "      <td>finance</td>\n",
       "      <td>Mogo: Establishes ATM Equity Program Mogo a fi...</td>\n",
       "      <td>fintechinshorts</td>\n",
       "      <td>https://www.reddit.com/r/finance/comments/kobb...</td>\n",
       "      <td>1609507913</td>\n",
       "      <td>https://www.fintechinshorts.com/mogo-establish...</td>\n",
       "      <td>kobbka</td>\n",
       "      <td>no_text</td>\n",
       "      <td>...</td>\n",
       "      <td>1.0</td>\n",
       "      <td>no_text</td>\n",
       "      <td>mogo establishes atm equity program mogo finan...</td>\n",
       "      <td>fintechinshorts</td>\n",
       "      <td>finance</td>\n",
       "      <td>no_text mogo establishes atm equity program mo...</td>\n",
       "      <td>no_text fintechinshorts</td>\n",
       "      <td>mogo establishes atm equity program mogo finan...</td>\n",
       "      <td>no_text mogo establishes atm equity program mo...</td>\n",
       "      <td>no_text mogo establishes atm equity program mo...</td>\n",
       "    </tr>\n",
       "  </tbody>\n",
       "</table>\n",
       "<p>2 rows × 21 columns</p>\n",
       "</div>"
      ],
      "text/plain": [
       "   Unnamed: 0      id subreddit  \\\n",
       "0           0  koaw8g   finance   \n",
       "1           1  kobbka   finance   \n",
       "\n",
       "                                               title           author  \\\n",
       "0  Tech's top seven companies added $3.4 trillion...      Obrocheetah   \n",
       "1  Mogo: Establishes ATM Equity Program Mogo a fi...  fintechinshorts   \n",
       "\n",
       "                                                 url     created  \\\n",
       "0  https://www.reddit.com/r/finance/comments/koaw...  1609505868   \n",
       "1  https://www.reddit.com/r/finance/comments/kobb...  1609507913   \n",
       "\n",
       "                                            ext_link    id.1       body  ...  \\\n",
       "0                                            no_text  koaw8g  [deleted]  ...   \n",
       "1  https://www.fintechinshorts.com/mogo-establish...  kobbka    no_text  ...   \n",
       "\n",
       "   upvote_ratio  body_processed  \\\n",
       "0           1.0         deleted   \n",
       "1           1.0         no_text   \n",
       "\n",
       "                                     title_processed author_processed  \\\n",
       "0           top seven companies added trillion value      obrocheetah   \n",
       "1  mogo establishes atm equity program mogo finan...  fintechinshorts   \n",
       "\n",
       "  subreddit_processed                                     body_and_title  \\\n",
       "0             finance   deleted top seven companies added trillion value   \n",
       "1             finance  no_text mogo establishes atm equity program mo...   \n",
       "\n",
       "           body_and_author                                   title_and_author  \\\n",
       "0      deleted obrocheetah  top seven companies added trillion value obroc...   \n",
       "1  no_text fintechinshorts  mogo establishes atm equity program mogo finan...   \n",
       "\n",
       "                               body_title_and_author  \\\n",
       "0  deleted top seven companies added trillion val...   \n",
       "1  no_text mogo establishes atm equity program mo...   \n",
       "\n",
       "                         body_title_author_subreddit  \n",
       "0  deleted top seven companies added trillion val...  \n",
       "1  no_text mogo establishes atm equity program mo...  \n",
       "\n",
       "[2 rows x 21 columns]"
      ]
     },
     "execution_count": 3,
     "metadata": {},
     "output_type": "execute_result"
    }
   ],
   "source": [
    "df_orig.head(2)"
   ]
  },
  {
   "cell_type": "code",
   "execution_count": 4,
   "id": "3a252f5b",
   "metadata": {},
   "outputs": [
    {
     "data": {
      "text/plain": [
       "Index(['Unnamed: 0', 'id', 'subreddit', 'title', 'author', 'url', 'created',\n",
       "       'ext_link', 'id.1', 'body', 'score', 'upvote_ratio', 'body_processed',\n",
       "       'title_processed', 'author_processed', 'subreddit_processed',\n",
       "       'body_and_title', 'body_and_author', 'title_and_author',\n",
       "       'body_title_and_author', 'body_title_author_subreddit'],\n",
       "      dtype='object')"
      ]
     },
     "execution_count": 4,
     "metadata": {},
     "output_type": "execute_result"
    }
   ],
   "source": [
    "df_orig.columns"
   ]
  },
  {
   "cell_type": "code",
   "execution_count": 5,
   "id": "b7a2dd7c",
   "metadata": {},
   "outputs": [
    {
     "data": {
      "text/html": [
       "<div>\n",
       "<style scoped>\n",
       "    .dataframe tbody tr th:only-of-type {\n",
       "        vertical-align: middle;\n",
       "    }\n",
       "\n",
       "    .dataframe tbody tr th {\n",
       "        vertical-align: top;\n",
       "    }\n",
       "\n",
       "    .dataframe thead th {\n",
       "        text-align: right;\n",
       "    }\n",
       "</style>\n",
       "<table border=\"1\" class=\"dataframe\">\n",
       "  <thead>\n",
       "    <tr style=\"text-align: right;\">\n",
       "      <th></th>\n",
       "      <th>subreddit</th>\n",
       "      <th>score</th>\n",
       "      <th>body_processed</th>\n",
       "      <th>title_processed</th>\n",
       "      <th>author_processed</th>\n",
       "      <th>body_and_title</th>\n",
       "      <th>body_and_author</th>\n",
       "      <th>title_and_author</th>\n",
       "      <th>body_title_and_author</th>\n",
       "      <th>body_title_author_subreddit</th>\n",
       "    </tr>\n",
       "  </thead>\n",
       "  <tbody>\n",
       "    <tr>\n",
       "      <th>0</th>\n",
       "      <td>finance</td>\n",
       "      <td>1</td>\n",
       "      <td>deleted</td>\n",
       "      <td>top seven companies added trillion value</td>\n",
       "      <td>obrocheetah</td>\n",
       "      <td>deleted top seven companies added trillion value</td>\n",
       "      <td>deleted obrocheetah</td>\n",
       "      <td>top seven companies added trillion value obroc...</td>\n",
       "      <td>deleted top seven companies added trillion val...</td>\n",
       "      <td>deleted top seven companies added trillion val...</td>\n",
       "    </tr>\n",
       "    <tr>\n",
       "      <th>1</th>\n",
       "      <td>finance</td>\n",
       "      <td>1</td>\n",
       "      <td>no_text</td>\n",
       "      <td>mogo establishes atm equity program mogo finan...</td>\n",
       "      <td>fintechinshorts</td>\n",
       "      <td>no_text mogo establishes atm equity program mo...</td>\n",
       "      <td>no_text fintechinshorts</td>\n",
       "      <td>mogo establishes atm equity program mogo finan...</td>\n",
       "      <td>no_text mogo establishes atm equity program mo...</td>\n",
       "      <td>no_text mogo establishes atm equity program mo...</td>\n",
       "    </tr>\n",
       "  </tbody>\n",
       "</table>\n",
       "</div>"
      ],
      "text/plain": [
       "  subreddit  score body_processed  \\\n",
       "0   finance      1        deleted   \n",
       "1   finance      1        no_text   \n",
       "\n",
       "                                     title_processed author_processed  \\\n",
       "0           top seven companies added trillion value      obrocheetah   \n",
       "1  mogo establishes atm equity program mogo finan...  fintechinshorts   \n",
       "\n",
       "                                      body_and_title          body_and_author  \\\n",
       "0   deleted top seven companies added trillion value      deleted obrocheetah   \n",
       "1  no_text mogo establishes atm equity program mo...  no_text fintechinshorts   \n",
       "\n",
       "                                    title_and_author  \\\n",
       "0  top seven companies added trillion value obroc...   \n",
       "1  mogo establishes atm equity program mogo finan...   \n",
       "\n",
       "                               body_title_and_author  \\\n",
       "0  deleted top seven companies added trillion val...   \n",
       "1  no_text mogo establishes atm equity program mo...   \n",
       "\n",
       "                         body_title_author_subreddit  \n",
       "0  deleted top seven companies added trillion val...  \n",
       "1  no_text mogo establishes atm equity program mo...  "
      ]
     },
     "execution_count": 5,
     "metadata": {},
     "output_type": "execute_result"
    }
   ],
   "source": [
    "df = df_orig[[\"subreddit\", \"score\",\n",
    "          'body_processed','title_processed', 'author_processed',\n",
    "          'body_and_title', 'body_and_author', 'title_and_author',\n",
    "          'body_title_and_author','body_title_author_subreddit'\n",
    "         ]]\n",
    "\n",
    "df.head(2)"
   ]
  },
  {
   "cell_type": "markdown",
   "id": "4f58aabb",
   "metadata": {},
   "source": [
    "# Binarize the Score\n",
    "\n",
    "- Looking into the score distribution barely going above 0 give  us a 60/40 splits.\n",
    "- So, convert the score into less than or equal to 1 or bigger than 1\n",
    "- name that column `score_label`"
   ]
  },
  {
   "cell_type": "code",
   "execution_count": 8,
   "id": "4e6116c6",
   "metadata": {},
   "outputs": [],
   "source": [
    "def binarize_score(df, threshold):\n",
    "    df[\"score_label_th_\"+str(threshold)] = df[\"score\"].apply(lambda x: int(x>threshold))\n",
    "    return df"
   ]
  },
  {
   "cell_type": "code",
   "execution_count": 9,
   "id": "13fac63f",
   "metadata": {},
   "outputs": [],
   "source": [
    "df_ = binarize_score(df_, 1000)"
   ]
  },
  {
   "cell_type": "code",
   "execution_count": 10,
   "id": "2354ec8c",
   "metadata": {},
   "outputs": [
    {
     "data": {
      "text/html": [
       "<div>\n",
       "<style scoped>\n",
       "    .dataframe tbody tr th:only-of-type {\n",
       "        vertical-align: middle;\n",
       "    }\n",
       "\n",
       "    .dataframe tbody tr th {\n",
       "        vertical-align: top;\n",
       "    }\n",
       "\n",
       "    .dataframe thead th {\n",
       "        text-align: right;\n",
       "    }\n",
       "</style>\n",
       "<table border=\"1\" class=\"dataframe\">\n",
       "  <thead>\n",
       "    <tr style=\"text-align: right;\">\n",
       "      <th></th>\n",
       "      <th>subreddit</th>\n",
       "      <th>score</th>\n",
       "      <th>body_processed</th>\n",
       "      <th>title_processed</th>\n",
       "      <th>author_processed</th>\n",
       "      <th>body_and_title</th>\n",
       "      <th>body_and_author</th>\n",
       "      <th>title_and_author</th>\n",
       "      <th>body_title_and_author</th>\n",
       "      <th>score_label_th_1000</th>\n",
       "    </tr>\n",
       "  </thead>\n",
       "  <tbody>\n",
       "    <tr>\n",
       "      <th>0</th>\n",
       "      <td>finance</td>\n",
       "      <td>1</td>\n",
       "      <td>deleted</td>\n",
       "      <td>top seven companies added trillion value</td>\n",
       "      <td>obrocheetah</td>\n",
       "      <td>deleted top seven companies added trillion value</td>\n",
       "      <td>deleted obrocheetah</td>\n",
       "      <td>top seven companies added trillion value obroc...</td>\n",
       "      <td>deleted top seven companies added trillion val...</td>\n",
       "      <td>0</td>\n",
       "    </tr>\n",
       "    <tr>\n",
       "      <th>1</th>\n",
       "      <td>finance</td>\n",
       "      <td>1</td>\n",
       "      <td>no_text</td>\n",
       "      <td>mogo establishes atm equity program mogo finan...</td>\n",
       "      <td>fintechinshorts</td>\n",
       "      <td>no_text mogo establishes atm equity program mo...</td>\n",
       "      <td>no_text fintechinshorts</td>\n",
       "      <td>mogo establishes atm equity program mogo finan...</td>\n",
       "      <td>no_text mogo establishes atm equity program mo...</td>\n",
       "      <td>0</td>\n",
       "    </tr>\n",
       "  </tbody>\n",
       "</table>\n",
       "</div>"
      ],
      "text/plain": [
       "  subreddit  score body_processed  \\\n",
       "0   finance      1        deleted   \n",
       "1   finance      1        no_text   \n",
       "\n",
       "                                     title_processed author_processed  \\\n",
       "0           top seven companies added trillion value      obrocheetah   \n",
       "1  mogo establishes atm equity program mogo finan...  fintechinshorts   \n",
       "\n",
       "                                      body_and_title          body_and_author  \\\n",
       "0   deleted top seven companies added trillion value      deleted obrocheetah   \n",
       "1  no_text mogo establishes atm equity program mo...  no_text fintechinshorts   \n",
       "\n",
       "                                    title_and_author  \\\n",
       "0  top seven companies added trillion value obroc...   \n",
       "1  mogo establishes atm equity program mogo finan...   \n",
       "\n",
       "                               body_title_and_author  score_label_th_1000  \n",
       "0  deleted top seven companies added trillion val...                    0  \n",
       "1  no_text mogo establishes atm equity program mo...                    0  "
      ]
     },
     "execution_count": 10,
     "metadata": {},
     "output_type": "execute_result"
    }
   ],
   "source": [
    "df_.head(2)"
   ]
  },
  {
   "cell_type": "code",
   "execution_count": null,
   "id": "8079aa33",
   "metadata": {},
   "outputs": [],
   "source": []
  },
  {
   "cell_type": "markdown",
   "id": "2a81f9db",
   "metadata": {},
   "source": [
    "## Saving the test data"
   ]
  },
  {
   "cell_type": "code",
   "execution_count": 11,
   "id": "ec79d006",
   "metadata": {},
   "outputs": [],
   "source": [
    "df, df_test_ = train_test_split(df_, test_size=0.2,\n",
    "                                stratify=df_['score_label_th_1000'],\n",
    "                                random_state = 8848)\n"
   ]
  },
  {
   "cell_type": "code",
   "execution_count": 12,
   "id": "7869d4c5",
   "metadata": {},
   "outputs": [
    {
     "name": "stdout",
     "output_type": "stream",
     "text": [
      "Class 0 99.0 %\n",
      "Class 1 1.0 %\n"
     ]
    }
   ],
   "source": [
    "# Label distribution\n",
    "count_0_1=df.groupby(\"score_label_th_1000\").count()['subreddit'].values\n",
    "print (f\"Class 0 {np.round(100*count_0_1[0]/np.sum(count_0_1), 2)} %\")\n",
    "print (f\"Class 1 {np.round(100*count_0_1[1]/np.sum(count_0_1), 2)} %\")\n"
   ]
  },
  {
   "cell_type": "markdown",
   "id": "2ea709c6",
   "metadata": {},
   "source": [
    "## TFIDF Vectorizer"
   ]
  },
  {
   "cell_type": "code",
   "execution_count": 18,
   "id": "5290e3de",
   "metadata": {},
   "outputs": [],
   "source": [
    "def prepare_vectors(df, feature_col, target_col, tfidf=True):\n",
    "    df = df[[feature_col, target_col]]\n",
    "    \n",
    "    df_train, df_test = train_test_split(df, test_size=0.2,\n",
    "                                         stratify=df[target_col],\n",
    "                                         random_state = 8848)\n",
    "    \n",
    "    if tfidf:\n",
    "        vectorizer = TfidfVectorizer(use_idf=True, max_df=0.95)\n",
    "    else:\n",
    "        vectorizer = CountVectorizer(max_df=0.95)\n",
    "        \n",
    "    vectorizer.fit_transform(df_train[feature_col].values)\n",
    "    \n",
    "    X_train = vectorizer.transform(df_train[feature_col].values)\n",
    "    X_test  = vectorizer.transform(df_test[feature_col].values)\n",
    "\n",
    "    y_train = df_train[target_col].values\n",
    "    y_test  = df_test[target_col].values\n",
    "\n",
    "    return X_train, X_test, y_train, y_test, vectorizer"
   ]
  },
  {
   "cell_type": "markdown",
   "id": "6ebb61f0",
   "metadata": {},
   "source": [
    "## Logistic Regression models"
   ]
  },
  {
   "cell_type": "code",
   "execution_count": 24,
   "id": "f4d8b399",
   "metadata": {},
   "outputs": [],
   "source": []
  },
  {
   "cell_type": "code",
   "execution_count": 15,
   "id": "53f5c8cc",
   "metadata": {},
   "outputs": [],
   "source": [
    "columns = [\"Accuracy\", \"Pr_0\", \"Pr_1\", \"Re_0\", \"Re_1\", \"F1_0\", \"F1_1\"]\n",
    "df_res = pd.DataFrame([], columns = columns)"
   ]
  },
  {
   "cell_type": "code",
   "execution_count": 16,
   "id": "e914e33e",
   "metadata": {},
   "outputs": [],
   "source": [
    "# A dataframe to store results\n",
    "def update_results(df_res, model, X, y, model_name):\n",
    "    ypred = model.predict(X)\n",
    "    ac = accuracy_score(y.ravel(), ypred.ravel() )\n",
    "    pr, re, f1, _ = precision_recall_fscore_support(y.ravel(), ypred.ravel() )\n",
    "    df_res.loc[model_name, \"Accuracy\"] = np.round(100*ac, 2)\n",
    "    df_res.loc[model_name, [\"Pr_0\", \"Pr_1\"]] = np.round(100*pr, 2)\n",
    "    df_res.loc[model_name, [\"Re_0\", \"Re_1\"]] = np.round(100*re, 2)\n",
    "    df_res.loc[model_name, [\"F1_0\", \"F1_1\"]] = np.round(100*f1, 2)\n",
    "    return df_res"
   ]
  },
  {
   "cell_type": "code",
   "execution_count": 17,
   "id": "feb3f522",
   "metadata": {},
   "outputs": [],
   "source": [
    "def print_metrics(model, X, y):\n",
    "    pred = model.predict(X)\n",
    "    conf = confusion_matrix(y, pred)\n",
    "    ac   = accuracy_score(y, pred)\n",
    "    pr, re, f1, _ = precision_recall_fscore_support(y, pred)\n",
    "    \n",
    "    print (\"Confusion Matrix:\\n\", conf)\n",
    "    print (f\"Accuracy Score: {np.round(100*ac,2)}\")\n",
    "    print (f\"Precision Score: {np.round(100*pr,2)}\")\n",
    "    print (f\"Recall Score: {np.round(100*re,2)}\")\n",
    "    print (f\"F1 Score: {np.round(100*f1,2)}\")\n"
   ]
  },
  {
   "cell_type": "code",
   "execution_count": 16,
   "id": "51389b30",
   "metadata": {},
   "outputs": [],
   "source": [
    "xcol=\"body_and_title\";\n",
    "ycol=\"score_label_th_1000\"\n",
    "\n",
    "X_train, X_test, y_train, y_test, vectorizer= prepare_TFIDF(df,\n",
    "                                                            xcol,\n",
    "                                                            ycol)"
   ]
  },
  {
   "cell_type": "code",
   "execution_count": null,
   "id": "aeca8dc5",
   "metadata": {},
   "outputs": [],
   "source": [
    "X_train.shape, X_test.shape, y_train.shape, y_test.shape"
   ]
  },
  {
   "cell_type": "code",
   "execution_count": null,
   "id": "f3dd1051",
   "metadata": {},
   "outputs": [],
   "source": [
    "model = LogisticRegression(max_iter=1000)\n",
    "model.fit(X_train, y_train)"
   ]
  },
  {
   "cell_type": "code",
   "execution_count": null,
   "id": "97426bc8",
   "metadata": {},
   "outputs": [],
   "source": [
    "pred = model.predict(X_test)"
   ]
  },
  {
   "cell_type": "code",
   "execution_count": null,
   "id": "524304e5",
   "metadata": {},
   "outputs": [],
   "source": [
    "accuracy_score(y_test, pred)"
   ]
  },
  {
   "cell_type": "markdown",
   "id": "f4772bfd",
   "metadata": {},
   "source": [
    "### predict a new post\n"
   ]
  },
  {
   "cell_type": "code",
   "execution_count": 152,
   "id": "e7eb1758",
   "metadata": {},
   "outputs": [],
   "source": [
    "import pickle"
   ]
  },
  {
   "cell_type": "code",
   "execution_count": 153,
   "id": "77811f95",
   "metadata": {},
   "outputs": [],
   "source": [
    "with open(\"vectorizer.pkl\", 'wb') as fvec:\n",
    "    pickle.dump(vectorizer, fvec)\n"
   ]
  },
  {
   "cell_type": "code",
   "execution_count": null,
   "id": "b5e8a312",
   "metadata": {},
   "outputs": [],
   "source": [
    "with open(\"model_test.pkl\", 'wb') as fmod:\n",
    "     pickle.dump(model, fmod)"
   ]
  },
  {
   "cell_type": "code",
   "execution_count": 154,
   "id": "837da34d",
   "metadata": {},
   "outputs": [],
   "source": [
    "## Load the model and vectorizer\n",
    "\n",
    "with open(\"vectorizer.pkl\", 'rb') as fvec:\n",
    "    vect = pickle.load(fvec)\n",
    "\n",
    "with open(\"model_test.pkl\", 'rb') as fmod:\n",
    "    saved_model = pickle.load(fmod)"
   ]
  },
  {
   "cell_type": "code",
   "execution_count": null,
   "id": "4a2b6937",
   "metadata": {},
   "outputs": [],
   "source": []
  },
  {
   "cell_type": "code",
   "execution_count": 155,
   "id": "d6c618a2",
   "metadata": {},
   "outputs": [],
   "source": [
    "import praw\n",
    "reddit = praw.Reddit(\n",
    "    client_id=\"kxbUr-4PyE7DlQ\",\n",
    "    client_secret=\"Q5rIAPS9IHZ1QgOIkHNY09Y9VMxDsA\",\n",
    "    password=\"AACAXZDE\",\n",
    "    user_agent=\"testscript by u/kc_the_scraper\",\n",
    "    username=\"kc_the_scraper\",\n",
    ")"
   ]
  },
  {
   "cell_type": "code",
   "execution_count": 156,
   "id": "16528446",
   "metadata": {},
   "outputs": [],
   "source": [
    "in1 = \"https://www.reddit.com/r/science/comments/ng11s2/meat_eaters_wilfully_disregard_factory_farming_as/\"\n",
    "in3 = \"https://www.reddit.com/r/postsreddit/comments/jjuci1/do_people_engage_more_when_you_post_an_earnest/\""
   ]
  },
  {
   "cell_type": "code",
   "execution_count": 157,
   "id": "f6ac8228",
   "metadata": {},
   "outputs": [],
   "source": [
    "Sub = reddit.submission(url = in3)"
   ]
  },
  {
   "cell_type": "code",
   "execution_count": 158,
   "id": "3d4866a2",
   "metadata": {},
   "outputs": [
    {
     "data": {
      "text/plain": [
       "1"
      ]
     },
     "execution_count": 158,
     "metadata": {},
     "output_type": "execute_result"
    }
   ],
   "source": [
    "Sub.score"
   ]
  },
  {
   "cell_type": "code",
   "execution_count": null,
   "id": "e3698ce7",
   "metadata": {},
   "outputs": [],
   "source": []
  },
  {
   "cell_type": "code",
   "execution_count": 159,
   "id": "903503fc",
   "metadata": {},
   "outputs": [
    {
     "data": {
      "text/plain": [
       "{'score': 1,\n",
       " 'body': '',\n",
       " 'created_utc': 1603912722.0,\n",
       " 'ext_link': 'https://www.reddit.com/r/postsreddit/comments/jjuci1/do_people_engage_more_when_you_post_an_earnest/',\n",
       " 'title': 'Do people engage more when you post an earnest yet unpopular post?',\n",
       " 'subreddit': 'postsreddit',\n",
       " 'upvote_ratio': 1.0,\n",
       " 'author': 'urlradar3',\n",
       " 'original_url': 'https://www.reddit.com/r/postsreddit/comments/jjuci1/do_people_engage_more_when_you_post_an_earnest/'}"
      ]
     },
     "execution_count": 159,
     "metadata": {},
     "output_type": "execute_result"
    }
   ],
   "source": [
    "Sub = reddit.submission(url = in3)\n",
    "data={'score':Sub.score,\n",
    "          'body':Sub.selftext,\n",
    "          'created_utc': Sub.created_utc,\n",
    "          'ext_link': Sub.url,\n",
    "          'title':Sub.title,\n",
    "          'subreddit':Sub.subreddit.display_name,\n",
    "          'upvote_ratio':Sub.upvote_ratio,\n",
    "          'author':Sub.author.name,\n",
    "          'original_url':in3}\n",
    "data"
   ]
  },
  {
   "cell_type": "code",
   "execution_count": 161,
   "id": "fe295f20",
   "metadata": {},
   "outputs": [],
   "source": [
    "def add_processed_data(data):\n",
    "    # process body, title and author name\n",
    "    data['body_processed'] = prepare_text(data['body'])\n",
    "    data['title_processed'] = prepare_text(data['title'])\n",
    "    data['author_processed'] = prepare_text(data['author'])\n",
    "\n",
    "    # combine the features\n",
    "    data['body_and_title'] = data['body_processed']+' '+data['title_processed']\n",
    "    data['body_and_author'] = data['body_processed']+' '+data['author_processed']\n",
    "    data['title_and_author'] = data['title_processed']+' '+data['author_processed']\n",
    "    data['body_title_and_author'] = data['body_processed']+' '+data['title_processed']+' '+data['author_processed']\n",
    "    return data\n"
   ]
  },
  {
   "cell_type": "code",
   "execution_count": 167,
   "id": "9754b07b",
   "metadata": {},
   "outputs": [],
   "source": [
    "sw = open('english_STOPWORDS', 'r')\n",
    "STOPWORDS = set([w.strip(\"\\n\") for w in sw.readlines()])\n",
    "\n",
    "def prepare_text(text):\n",
    "    if not text:\n",
    "        return \"\"\n",
    "    text = text.lower()\n",
    "    # remove \\n                                                                                                                                               \n",
    "    text = re.sub(\"\\\\n\", \" \", text)\n",
    "    # remove 've, 're\n",
    "    text = re.sub(\"[a-z]*\\'[r,v]e\", \"\", text)\n",
    "    # remove 's, 't, 'r, 'v\n",
    "    text = re.sub(\"[a-z]*\\'[s,t,r,v]\", \"\", text) \n",
    "    # Replace everything not a letter with a space\n",
    "    text = re.sub(\"[^a-zA-Z]\", \" \", text)\n",
    "    # Remove stopwords\n",
    "    text = ' '.join([word for word in text.split() if word not in STOPWORDS])\n",
    "    return text"
   ]
  },
  {
   "cell_type": "code",
   "execution_count": 164,
   "id": "2e0fcbb7",
   "metadata": {},
   "outputs": [],
   "source": [
    "def get_reddit_info(url):\n",
    "    Sub = reddit.submission(url = in3)\n",
    "    data={'score':Sub.score,\n",
    "              'body':Sub.selftext,\n",
    "              'created_utc': Sub.created_utc,\n",
    "              'ext_link': Sub.url,\n",
    "              'title':Sub.title,\n",
    "              'subreddit':Sub.subreddit.display_name,\n",
    "              'upvote_ratio':Sub.upvote_ratio,\n",
    "              'author':Sub.author.name,\n",
    "              'original_url':in3}\n",
    "    return data\n",
    "        \n",
    "data_in=get_reddit_info(in1)\n"
   ]
  },
  {
   "cell_type": "code",
   "execution_count": 168,
   "id": "64d696c0",
   "metadata": {},
   "outputs": [
    {
     "data": {
      "text/plain": [
       "{'score': 1,\n",
       " 'body': '',\n",
       " 'created_utc': 1603912722.0,\n",
       " 'ext_link': 'https://www.reddit.com/r/postsreddit/comments/jjuci1/do_people_engage_more_when_you_post_an_earnest/',\n",
       " 'title': 'Do people engage more when you post an earnest yet unpopular post?',\n",
       " 'subreddit': 'postsreddit',\n",
       " 'upvote_ratio': 1.0,\n",
       " 'author': 'urlradar3',\n",
       " 'original_url': 'https://www.reddit.com/r/postsreddit/comments/jjuci1/do_people_engage_more_when_you_post_an_earnest/',\n",
       " 'body_processed': '',\n",
       " 'title_processed': 'people engage post earnest yet unpopular post',\n",
       " 'author_processed': 'urlradar',\n",
       " 'body_and_title': ' people engage post earnest yet unpopular post',\n",
       " 'body_and_author': ' urlradar',\n",
       " 'title_and_author': 'people engage post earnest yet unpopular post urlradar',\n",
       " 'body_title_and_author': ' people engage post earnest yet unpopular post urlradar'}"
      ]
     },
     "execution_count": 168,
     "metadata": {},
     "output_type": "execute_result"
    }
   ],
   "source": [
    "add_processed_data(data_in)"
   ]
  },
  {
   "cell_type": "code",
   "execution_count": 169,
   "id": "ad553499",
   "metadata": {},
   "outputs": [],
   "source": [
    "def process_data(input_url, vect, xcol='body_title_and_author'):\n",
    "    data_from_reddit = get_reddit_info(input_url)\n",
    "    data_processed = add_processed_data(data_from_reddit)\n",
    "    X_tfidf = vect.transform([data_processed[xcol]])\n",
    "    return X_tfidf\n",
    "    \n",
    "X_in=(in1, vect)"
   ]
  },
  {
   "cell_type": "code",
   "execution_count": 170,
   "id": "e38485ba",
   "metadata": {},
   "outputs": [
    {
     "data": {
      "text/plain": [
       "('https://www.reddit.com/r/science/comments/ng11s2/meat_eaters_wilfully_disregard_factory_farming_as/',\n",
       " TfidfVectorizer(max_df=0.95))"
      ]
     },
     "execution_count": 170,
     "metadata": {},
     "output_type": "execute_result"
    }
   ],
   "source": [
    "X_in"
   ]
  },
  {
   "cell_type": "code",
   "execution_count": null,
   "id": "e7c49f6e",
   "metadata": {},
   "outputs": [],
   "source": [
    "#from prepare_text import get_processed_data\n",
    "in3 = \"https://www.reddit.com/r/postsreddit/comments/jjuci1/do_people_engage_more_when_you_post_an_earnest/\"\n",
    "\n",
    "with open(\"vectorizer.pkl\", 'rb') as fvec:\n",
    "    vect2 = pickle.load(fvec)"
   ]
  },
  {
   "cell_type": "code",
   "execution_count": null,
   "id": "d9efaeb6",
   "metadata": {},
   "outputs": [],
   "source": [
    "XX= df_prepared[\"body_and_title\"]"
   ]
  },
  {
   "cell_type": "code",
   "execution_count": null,
   "id": "331c87fa",
   "metadata": {},
   "outputs": [],
   "source": []
  },
  {
   "cell_type": "code",
   "execution_count": null,
   "id": "4a30e3d2",
   "metadata": {},
   "outputs": [],
   "source": [
    "vect2.transform(XX)"
   ]
  },
  {
   "cell_type": "code",
   "execution_count": null,
   "id": "c3a420a2",
   "metadata": {},
   "outputs": [],
   "source": [
    "df_prepared"
   ]
  },
  {
   "cell_type": "code",
   "execution_count": null,
   "id": "b66ff5cd",
   "metadata": {},
   "outputs": [],
   "source": [
    "xcol=\"body_and_title\";\n",
    "ycol=\"score_label\"\n",
    "X_tfidf = vectorizer.transform(df_prepared[xcol].values)"
   ]
  },
  {
   "cell_type": "code",
   "execution_count": null,
   "id": "771f8d56",
   "metadata": {},
   "outputs": [],
   "source": [
    "ypred = model.predict(X_tfidf)"
   ]
  },
  {
   "cell_type": "code",
   "execution_count": null,
   "id": "a3a07c5b",
   "metadata": {},
   "outputs": [],
   "source": [
    "ypred[0]"
   ]
  },
  {
   "cell_type": "code",
   "execution_count": null,
   "id": "589947de",
   "metadata": {},
   "outputs": [],
   "source": [
    "model = LogisticRegression(max_iter=1000)\n",
    "model.fit(X_train, y_train)\n",
    "return model, X_train, X_test, y_train, y_test"
   ]
  },
  {
   "cell_type": "code",
   "execution_count": null,
   "id": "be6551cb",
   "metadata": {},
   "outputs": [],
   "source": [
    "model, X_train, X_test, y_train, y_test = logistic_regression()\n",
    "df_res = update_results(df_res, model, X_test, y_test, 'LR : Title + Body')\n",
    "df_res"
   ]
  },
  {
   "cell_type": "code",
   "execution_count": null,
   "id": "84af7bc4",
   "metadata": {},
   "outputs": [],
   "source": [
    "import praw\n",
    "reddit = praw.Reddit(\n",
    "    client_id=\"kxbUr-4PyE7DlQ\",\n",
    "    client_secret=\"Q5rIAPS9IHZ1QgOIkHNY09Y9VMxDsA\",\n",
    "    password=\"AACAXZDE\",\n",
    "    user_agent=\"testscript by u/kc_the_scraper\",\n",
    "    username=\"kc_the_scraper\",\n",
    ")"
   ]
  },
  {
   "cell_type": "code",
   "execution_count": null,
   "id": "0dbf1b04",
   "metadata": {},
   "outputs": [],
   "source": [
    "\n",
    "def get_reddit_info(url):\n",
    "    Sub = reddit.submission(url = url)\n",
    "    data={'score':Sub.score,\n",
    "              'body':Sub.selftext,\n",
    "              'created_utc': Sub.created_utc,\n",
    "              'ext_link': Sub.url,\n",
    "              'title':Sub.title,\n",
    "              'subreddit':Sub.subreddit.display_name,\n",
    "              'upvote_ratio':Sub.upvote_ratio,\n",
    "              'author':Sub.author.name,\n",
    "              'original_url':url}\n",
    "    return data \n",
    "\n",
    "def process_data(input_url, vect, xcol=\"body_and_title\"):\n",
    "    data_from_reddit = get_reddit_info(input_url)\n",
    "    data_processed = add_processed_data(data_from_reddit)\n",
    "    X_tfidata = vect.transform(data_processed[xcol])\n",
    "    return X_tfidf\n"
   ]
  },
  {
   "cell_type": "code",
   "execution_count": null,
   "id": "e792e2ef",
   "metadata": {},
   "outputs": [],
   "source": []
  },
  {
   "cell_type": "code",
   "execution_count": null,
   "id": "49671b74",
   "metadata": {},
   "outputs": [],
   "source": []
  },
  {
   "cell_type": "code",
   "execution_count": null,
   "id": "85088f16",
   "metadata": {},
   "outputs": [],
   "source": []
  },
  {
   "cell_type": "code",
   "execution_count": null,
   "id": "57bf3525",
   "metadata": {},
   "outputs": [],
   "source": [
    "def logistic_regression(df=df, xcol=\"body_processed\", ycol=\"score_label\"):\n",
    "    X_train, X_test, y_train, y_test, vectorizer= prepare_TFIDF(df,\n",
    "                                                                xcol,\n",
    "                                                                ycol)\n",
    "\n",
    "    model = LogisticRegression(max_iter=1000)\n",
    "    model.fit(X_train, y_train)\n",
    "    return model, X_train, X_test, y_train, y_test"
   ]
  },
  {
   "cell_type": "markdown",
   "id": "4eaa5942",
   "metadata": {},
   "source": [
    "## Logistic Regression with Body only"
   ]
  },
  {
   "cell_type": "code",
   "execution_count": null,
   "id": "332c1091",
   "metadata": {},
   "outputs": [],
   "source": [
    "model, X_train, X_test, y_train, y_test = logistic_regression(xcol=\"body_processed\")\n",
    "df_res = update_results(df_res, model, X_test, y_test, 'LR : Body Only')\n",
    "df_res"
   ]
  },
  {
   "cell_type": "code",
   "execution_count": null,
   "id": "d69101f6",
   "metadata": {},
   "outputs": [],
   "source": [
    "model, X_train, X_test, y_train, y_test = logistic_regression(xcol=\"body_processed\")\n",
    "df_res = update_results(df_res, model, X_test, y_test, 'LR : Body Only')\n",
    "df_res"
   ]
  },
  {
   "cell_type": "code",
   "execution_count": null,
   "id": "572e3489",
   "metadata": {},
   "outputs": [],
   "source": [
    "conf_matrix = confusion_matrix(y_train, model.predict(X_train))\n",
    "conf_matrix"
   ]
  },
  {
   "cell_type": "markdown",
   "id": "95bafd1c",
   "metadata": {},
   "source": [
    "## Logistic Regression with Title only"
   ]
  },
  {
   "cell_type": "code",
   "execution_count": null,
   "id": "ee79e04a",
   "metadata": {},
   "outputs": [],
   "source": [
    "model, X_train, X_test, y_train, y_test = logistic_regression(xcol=\"title_processed\")\n",
    "df_res = update_results(df_res, model, X_test, y_test, 'LR : Title Only')\n",
    "df_res"
   ]
  },
  {
   "cell_type": "markdown",
   "id": "9cc41d24",
   "metadata": {},
   "source": [
    "## Logistic Regression with Title + Body"
   ]
  },
  {
   "cell_type": "code",
   "execution_count": null,
   "id": "1780dbc0",
   "metadata": {},
   "outputs": [],
   "source": [
    "model, X_train, X_test, y_train, y_test = logistic_regression(xcol=\"body_and_title\")\n",
    "df_res = update_results(df_res, model, X_test, y_test, 'LR : Title + Body')\n",
    "df_res"
   ]
  },
  {
   "cell_type": "markdown",
   "id": "d3c77387",
   "metadata": {},
   "source": [
    "## Logistic Regression with Title + Body + author"
   ]
  },
  {
   "cell_type": "code",
   "execution_count": null,
   "id": "0bd988d2",
   "metadata": {
    "scrolled": true
   },
   "outputs": [],
   "source": [
    "model, X_train, X_test, y_train, y_test = logistic_regression(xcol=\"body_title_and_author\")\n",
    "df_res = update_results(df_res, model, X_test, y_test, 'LR : Title + Body + Author')\n",
    "df_res"
   ]
  },
  {
   "cell_type": "code",
   "execution_count": null,
   "id": "b58b00fe",
   "metadata": {},
   "outputs": [],
   "source": [
    "# save LR results\n",
    "dftmp = df_res.drop([\"SVM: Body only [CV]\", \"SVM: Title + Body [CV]\"] , axis=0)"
   ]
  },
  {
   "cell_type": "code",
   "execution_count": null,
   "id": "f08a7b40",
   "metadata": {},
   "outputs": [],
   "source": [
    "dftmp.to_csv(\"df_res_LR.csv\")"
   ]
  },
  {
   "cell_type": "markdown",
   "id": "8d740257",
   "metadata": {},
   "source": [
    "## Logistic Regression Results\n",
    "| Method | Accuracy | Pr_0 | Pr_1 | Re_0 | Re_1 | F1_0 | F1_1 | \n",
    "| --- | --- | --- | --- | --- | --- | --- | --- |\n",
    "| LR : Body Only | 71.82 | 65.29 | 76.43 | 66.11 | 75.77 | 65.7 | 76.09 | \n",
    "| LR : Title Only | 68.76 | 67.75 | 69.14 | 44.77 | 85.3 | 53.92 | 76.37 | \n",
    "| LR : Title + Body | 75.52 | 73.54 | 76.58 | 62.52 | 84.49 | 67.58 | 80.34 | \n",
    "| LR : Title + Body + Author | 81.21 | 80.59 | 81.56 | 71.08 | 88.19 | 75.54 | 84.75 | "
   ]
  },
  {
   "cell_type": "markdown",
   "id": "60282ce6",
   "metadata": {},
   "source": [
    "## Support Vector Machine"
   ]
  },
  {
   "cell_type": "code",
   "execution_count": null,
   "id": "d24fbb04",
   "metadata": {},
   "outputs": [],
   "source": [
    "# load the LR results\n",
    "#df_res = pd.read_csv('df_res_LR.csv')\n",
    "#df_res.set_index(\"Method\", drop=True, inplace=True)\n",
    "#df_res"
   ]
  },
  {
   "cell_type": "code",
   "execution_count": null,
   "id": "07acf33f",
   "metadata": {},
   "outputs": [],
   "source": [
    "xcol=\"body_processed\";\n",
    "ycol=\"score_label\"\n",
    "X_train, X_test, y_train, y_test, vectorizer= prepare_TFIDF(df,\n",
    "                                                            xcol,\n",
    "                                                            ycol)\n",
    "\n"
   ]
  },
  {
   "cell_type": "code",
   "execution_count": null,
   "id": "cf48934a",
   "metadata": {},
   "outputs": [],
   "source": []
  },
  {
   "cell_type": "code",
   "execution_count": null,
   "id": "34eb226c",
   "metadata": {},
   "outputs": [],
   "source": [
    "def grid_search_CV_SVM(params, df=df, xcol=\"body_processed\", ycol=\"score_label\", N_cv=5):\n",
    "    X_train, X_test, y_train, y_test, vectorizer = prepare_TFIDF(df,\n",
    "                                                                xcol,\n",
    "                                                                ycol)\n",
    "    \n",
    "    model_grid = GridSearchCV(estimator = SVC(kernel='rbf', degree=3, max_iter=1000),\n",
    "                              param_grid = params,\n",
    "                              cv = StratifiedKFold(n_splits=N_cv,\n",
    "                                                   random_state=8848,\n",
    "                                                   shuffle=True),\n",
    "                              verbose=3)\n",
    "    grid_res = model_grid.fit(X_train, y_train)\n",
    "    print ( \"Best Score:\", grid_res.best_score_, grid_res.best_params_)\n",
    "    return model_grid, X_train, X_test, y_train, y_test, grid_res"
   ]
  },
  {
   "cell_type": "code",
   "execution_count": null,
   "id": "8714b59e",
   "metadata": {},
   "outputs": [],
   "source": [
    "params = {\"C\":[5, 10, 15]}\n",
    "\n",
    "model_grid, X_train, X_test, y_train, y_test, grid_res = grid_search_CV_SVM(params,\n",
    "                                                                            xcol=\"body_processed\")"
   ]
  },
  {
   "cell_type": "code",
   "execution_count": null,
   "id": "e47498a5",
   "metadata": {},
   "outputs": [],
   "source": [
    "df_res = update_results(df_res, model_grid, X_test, y_test, 'SVM: Body only [CV]')\n",
    "df_res"
   ]
  },
  {
   "cell_type": "code",
   "execution_count": null,
   "id": "d4d6272c",
   "metadata": {},
   "outputs": [],
   "source": [
    "params = {\"C\":[5, 10]}\n",
    "\n",
    "model_grid, X_train, X_test, y_train, y_test, grid_res = grid_search_CV_SVM(params,\n",
    "                                                                            xcol=\"body_and_title\")\n",
    "\n",
    "df_res = update_results(df_res, model_grid, X_test, y_test, 'SVM: Title + Body [CV]')\n",
    "df_res"
   ]
  },
  {
   "cell_type": "code",
   "execution_count": null,
   "id": "fb2dfa29",
   "metadata": {},
   "outputs": [],
   "source": [
    "pred=model_grid.predict(X_test)"
   ]
  },
  {
   "cell_type": "code",
   "execution_count": null,
   "id": "e470558c",
   "metadata": {},
   "outputs": [],
   "source": [
    "sum(pred), len(pred)"
   ]
  },
  {
   "cell_type": "code",
   "execution_count": null,
   "id": "da0c1c95",
   "metadata": {},
   "outputs": [],
   "source": []
  },
  {
   "cell_type": "code",
   "execution_count": null,
   "id": "60c05da1",
   "metadata": {},
   "outputs": [],
   "source": [
    "model_svm = SVC(C=10.0, kernel='rbf',\n",
    "                degree=3, gamma='scale',\n",
    "                max_iter=1000)\n",
    "model_svm.fit(X_train, y_train)\n",
    "pred = model_svm.predict(X_test)\n",
    "print ( accuracy_score(y_test, pred),\n",
    "       pred.sum(),\n",
    "       y_test.sum()\n",
    "      )"
   ]
  },
  {
   "cell_type": "code",
   "execution_count": null,
   "id": "859c0d96",
   "metadata": {
    "scrolled": true
   },
   "outputs": [],
   "source": [
    "print ( accuracy_score(y_train, model_svm.predict(X_train)) )"
   ]
  },
  {
   "cell_type": "code",
   "execution_count": null,
   "id": "f6076c6a",
   "metadata": {},
   "outputs": [],
   "source": []
  },
  {
   "cell_type": "code",
   "execution_count": null,
   "id": "af0fb1b3",
   "metadata": {},
   "outputs": [],
   "source": []
  },
  {
   "cell_type": "code",
   "execution_count": null,
   "id": "c4026047",
   "metadata": {},
   "outputs": [],
   "source": []
  },
  {
   "cell_type": "code",
   "execution_count": null,
   "id": "a231eec1",
   "metadata": {},
   "outputs": [],
   "source": []
  },
  {
   "cell_type": "code",
   "execution_count": null,
   "id": "afc98f30",
   "metadata": {},
   "outputs": [],
   "source": []
  },
  {
   "cell_type": "code",
   "execution_count": null,
   "id": "bce2d01a",
   "metadata": {},
   "outputs": [],
   "source": []
  },
  {
   "cell_type": "code",
   "execution_count": null,
   "id": "9f914944",
   "metadata": {},
   "outputs": [],
   "source": [
    "def train_SVM(df=df, xcol=\"body_processed\", ycol=\"score_label\"):\n",
    "    X_train, X_test, y_train, y_test, vectorizer= prepare_TFIDF(df,\n",
    "                                                                xcol,\n",
    "                                                                ycol)\n",
    "\n",
    "    model_svm = SVC(C=1.0, kernel='rbf', degree=3, gamma='scale', max_iter=500)\n",
    "    model_svm.fit(X_train, y_train)\n",
    "    return model_svm, X_train, X_test, y_train, y_test\n"
   ]
  },
  {
   "cell_type": "code",
   "execution_count": null,
   "id": "0d31120f",
   "metadata": {},
   "outputs": [],
   "source": [
    "model_svm, X_train, X_test, y_train, y_test = train_SVM(df=df, xcol=\"body_processed\")"
   ]
  },
  {
   "cell_type": "code",
   "execution_count": null,
   "id": "90c49c02",
   "metadata": {},
   "outputs": [],
   "source": [
    "model_svm = SVC(C=1.0, kernel='rbf', degree=3, gamma='scale', max_iter=500)\n",
    "model_svm.fit()"
   ]
  },
  {
   "cell_type": "code",
   "execution_count": null,
   "id": "b5ed8436",
   "metadata": {},
   "outputs": [],
   "source": []
  },
  {
   "cell_type": "code",
   "execution_count": null,
   "id": "ca7e49fe",
   "metadata": {},
   "outputs": [],
   "source": []
  },
  {
   "cell_type": "code",
   "execution_count": null,
   "id": "5f74aefb",
   "metadata": {},
   "outputs": [],
   "source": []
  },
  {
   "cell_type": "code",
   "execution_count": null,
   "id": "5fe13cd8",
   "metadata": {},
   "outputs": [],
   "source": []
  },
  {
   "cell_type": "code",
   "execution_count": null,
   "id": "b57695f9",
   "metadata": {},
   "outputs": [],
   "source": []
  },
  {
   "cell_type": "markdown",
   "id": "67789d30",
   "metadata": {},
   "source": [
    "# Decision Trees"
   ]
  },
  {
   "cell_type": "code",
   "execution_count": null,
   "id": "b43cc9e6",
   "metadata": {},
   "outputs": [],
   "source": []
  },
  {
   "cell_type": "code",
   "execution_count": null,
   "id": "fd11f253",
   "metadata": {},
   "outputs": [],
   "source": []
  },
  {
   "cell_type": "code",
   "execution_count": null,
   "id": "e2cb2238",
   "metadata": {},
   "outputs": [],
   "source": [
    "def decision_tree(df=df, xcol=\"body_processed\", ycol=\"score_label\"):\n",
    "    X_train, X_test, y_train, y_test, vectorizer= prepare_TFIDF(df,\n",
    "                                                                xcol,\n",
    "                                                                ycol)\n",
    "    model = DecisionTreeClassifier(random_state = 8848, max_depth=2)\n",
    "    model.fit(X_train, y_train)\n",
    "    return model, X_train, X_test, y_train, y_test"
   ]
  },
  {
   "cell_type": "markdown",
   "id": "010376bd",
   "metadata": {},
   "source": [
    "## Decision Tree with Body + Title + Author"
   ]
  },
  {
   "cell_type": "code",
   "execution_count": null,
   "id": "6a5f96b4",
   "metadata": {},
   "outputs": [],
   "source": [
    "model, X_train, X_test, y_train, y_test = decision_tree(xcol=\"body_title_and_author\")"
   ]
  },
  {
   "cell_type": "code",
   "execution_count": null,
   "id": "5ca4b22f",
   "metadata": {},
   "outputs": [],
   "source": [
    "model, X_train, X_test, y_train, y_test = decision_tree(xcol=\"body_title_and_author\")\n",
    "df_res = update_results(df_res, model, X_train, y_train, 'DT : Title + Body + Author')\n",
    "df_res"
   ]
  },
  {
   "cell_type": "markdown",
   "id": "c733f71b",
   "metadata": {},
   "source": [
    "## Decision Tree : Cross Validation"
   ]
  },
  {
   "cell_type": "code",
   "execution_count": null,
   "id": "f981b10b",
   "metadata": {},
   "outputs": [],
   "source": []
  },
  {
   "cell_type": "code",
   "execution_count": null,
   "id": "425fd0b3",
   "metadata": {},
   "outputs": [],
   "source": []
  },
  {
   "cell_type": "code",
   "execution_count": null,
   "id": "82240fd4",
   "metadata": {},
   "outputs": [],
   "source": [
    "def grid_search_CV(params, df=df, xcol=\"body_processed\", ycol=\"label\", N_cv=5):\n",
    "    X_train, X_test, y_train, y_test, vectorizer = prepare_TFIDF(df,\n",
    "                                                                xcol,\n",
    "                                                                ycol)\n",
    "    \n",
    "    model_grid = GridSearchCV(estimator = DecisionTreeClassifier(random_state = 8848),\n",
    "                              param_grid = params,\n",
    "                              cv = StratifiedKFold(n_splits=N_cv,\n",
    "                                                   random_state=8848,\n",
    "                                                   shuffle=True),\n",
    "                              verbose=3)\n",
    "    grid_res = model_grid.fit(X_train, y_train)\n",
    "    print ( \"Best Score:\", grid_res.best_score_, grid_res.best_params_)\n",
    "    return model_grid, X_train, X_test, y_train, y_test, grid_res"
   ]
  },
  {
   "cell_type": "markdown",
   "id": "efa5a8b5",
   "metadata": {},
   "source": [
    "## Decision Tree : CV, Body Only"
   ]
  },
  {
   "cell_type": "code",
   "execution_count": null,
   "id": "afc82bdf",
   "metadata": {},
   "outputs": [],
   "source": []
  },
  {
   "cell_type": "code",
   "execution_count": null,
   "id": "75592bf7",
   "metadata": {},
   "outputs": [],
   "source": [
    "params = {\"max_depth\": [4, 5, 6] }\n",
    "model, X_train, X_test, y_train, y_test, grid_res = grid_search_CV(params,\n",
    "                                                                   xcol=\"body_processed\")\n",
    "df_res = update_results(df_res, model, X_train, y_train, 'DT : Body Only [CV]')\n",
    "df_res"
   ]
  },
  {
   "cell_type": "code",
   "execution_count": null,
   "id": "9db7a19f",
   "metadata": {},
   "outputs": [],
   "source": [
    "params = {\"max_depth\": [4, 5, 6, 10, 20] }\n",
    "model, X_train, X_test, y_train, y_test, grid_res = grid_search_CV(params,\n",
    "                                                                   xcol=\"title_processed\")\n",
    "df_res = update_results(df_res, model, X_train, y_train, 'DT : Title Only [CV]')\n",
    "df_res"
   ]
  },
  {
   "cell_type": "code",
   "execution_count": null,
   "id": "1d7ee038",
   "metadata": {},
   "outputs": [],
   "source": [
    "params = {\"max_depth\": [10, 15, 20, 25] }\n",
    "model, X_train, X_test, y_train, y_test, grid_res = grid_search_CV(params,\n",
    "                                                                   xcol=\"title_processed\")\n"
   ]
  },
  {
   "cell_type": "code",
   "execution_count": null,
   "id": "7ba885e2",
   "metadata": {},
   "outputs": [],
   "source": []
  },
  {
   "cell_type": "code",
   "execution_count": null,
   "id": "e0755dec",
   "metadata": {},
   "outputs": [],
   "source": []
  },
  {
   "cell_type": "code",
   "execution_count": null,
   "id": "fd1632cd",
   "metadata": {},
   "outputs": [],
   "source": []
  },
  {
   "cell_type": "code",
   "execution_count": null,
   "id": "256a603d",
   "metadata": {},
   "outputs": [],
   "source": []
  },
  {
   "cell_type": "code",
   "execution_count": null,
   "id": "1f3316eb",
   "metadata": {},
   "outputs": [],
   "source": []
  },
  {
   "cell_type": "code",
   "execution_count": null,
   "id": "a4e7811f",
   "metadata": {},
   "outputs": [],
   "source": []
  },
  {
   "cell_type": "code",
   "execution_count": null,
   "id": "801fe7f1",
   "metadata": {},
   "outputs": [],
   "source": []
  },
  {
   "cell_type": "code",
   "execution_count": null,
   "id": "0453cfbe",
   "metadata": {},
   "outputs": [],
   "source": []
  },
  {
   "cell_type": "code",
   "execution_count": null,
   "id": "4798e9e2",
   "metadata": {},
   "outputs": [],
   "source": []
  },
  {
   "cell_type": "code",
   "execution_count": null,
   "id": "a3e7abd7",
   "metadata": {},
   "outputs": [],
   "source": []
  },
  {
   "cell_type": "markdown",
   "id": "75c6112f",
   "metadata": {},
   "source": [
    "# Decision Trees"
   ]
  },
  {
   "cell_type": "code",
   "execution_count": null,
   "id": "2dffce3d",
   "metadata": {},
   "outputs": [],
   "source": []
  },
  {
   "cell_type": "code",
   "execution_count": null,
   "id": "1496c502",
   "metadata": {},
   "outputs": [],
   "source": [
    "# Body only\n",
    "X_train, X_test, y_train, y_test, vectorizer= prepare_TFIDF(df,\n",
    "                                                            \"body_processed\",\n",
    "                                                            \"label\")\n",
    "\n",
    "model = DecisionTreeClassifier(random_state = 8848)\n",
    "model.fit(X_train, y_train)\n",
    "df_res = update_results(df_res, model, X_train, y_train,'DT : Body Only')\n",
    "df_res"
   ]
  },
  {
   "cell_type": "code",
   "execution_count": null,
   "id": "25cafe4f",
   "metadata": {},
   "outputs": [],
   "source": [
    "# Title only\n",
    "X_train, X_test, y_train, y_test, vectorizer= prepare_TFIDF(df,\n",
    "                                                            \"title_processed\",\n",
    "                                                            \"label\")\n",
    "\n",
    "model = DecisionTreeClassifier(random_state = 8848)\n",
    "model.fit(X_train, y_train)\n",
    "df_res = update_results(df_res, model, X_train, y_train,'DT : Title Only')\n",
    "df_res"
   ]
  },
  {
   "cell_type": "code",
   "execution_count": null,
   "id": "123e31b4",
   "metadata": {},
   "outputs": [],
   "source": [
    "# Body + Title only\n",
    "X_train, X_test, y_train, y_test, vectorizer= prepare_TFIDF(df,\n",
    "                                                            \"body_and_title\",\n",
    "                                                            \"label\")\n",
    "\n",
    "model = DecisionTreeClassifier(random_state = 8848)\n",
    "model.fit(X_train, y_train)\n",
    "df_res = update_results(df_res, model, X_train, y_train,'DT : Title + Body')\n",
    "df_res"
   ]
  },
  {
   "cell_type": "markdown",
   "id": "d7f7f2cf",
   "metadata": {},
   "source": [
    "# Decision Tree: Grid Search CV"
   ]
  },
  {
   "cell_type": "code",
   "execution_count": null,
   "id": "51b99f74",
   "metadata": {},
   "outputs": [],
   "source": []
  },
  {
   "cell_type": "code",
   "execution_count": null,
   "id": "84b3e0fc",
   "metadata": {},
   "outputs": [],
   "source": [
    "def grid_search_CV(model, params, X_train, y_train):\n",
    "    #max_depths = \n",
    "    #\n",
    "    model_grid = GridSearchCV(estimator = model,\n",
    "                              param_grid = params,\n",
    "                              cv = StratifiedKFold(n_splits=5, random_state=8848, shuffle=True), \n",
    "                              verbose=2)\n",
    "    grid_res = model_grid.fit(X_train, y_train)\n",
    "    print ( \"Besy Score:\", grid_res.best_score_, grid_res.best_params_)\n",
    "    return grid_res"
   ]
  },
  {
   "cell_type": "code",
   "execution_count": null,
   "id": "50284aa5",
   "metadata": {
    "scrolled": true
   },
   "outputs": [],
   "source": [
    "model = DecisionTreeClassifier(random_state = 8848)\n",
    "params = {\"max_depth\": [5, 6, 7, 8] }\n",
    "X_train, X_test, y_train, y_test, vectorizer= prepare_TFIDF(df,\n",
    "                                                            \"title_processed\",\n",
    "                                                            \"label\")\n",
    "\n",
    "grid_res = grid_search_CV(model, params, X_train, y_train)"
   ]
  },
  {
   "cell_type": "code",
   "execution_count": null,
   "id": "35f41065",
   "metadata": {},
   "outputs": [],
   "source": [
    "model = DecisionTreeClassifier(random_state = 8848, max_depth=6)\n",
    "model.fit(X_train, y_train)\n",
    "df_res = update_results(df_res, model, X_train, y_train,'DT : Title Only [CV]')\n",
    "df_res"
   ]
  },
  {
   "cell_type": "markdown",
   "id": "476e955f",
   "metadata": {},
   "source": [
    "## Decision Tree: Grid Search CV Title + Body"
   ]
  },
  {
   "cell_type": "code",
   "execution_count": null,
   "id": "ffa57678",
   "metadata": {},
   "outputs": [],
   "source": [
    "model = DecisionTreeClassifier(random_state = 8848)\n",
    "params = {\"max_depth\": [7, 8, 9, 10] }\n",
    "X_train, X_test, y_train, y_test, vectorizer= prepare_TFIDF(df,\n",
    "                                                            \"body_and_title\",\n",
    "                                                            \"label\")\n",
    "\n",
    "grid_res = grid_search_CV(model, params, X_train, y_train)"
   ]
  },
  {
   "cell_type": "code",
   "execution_count": null,
   "id": "e37aef62",
   "metadata": {},
   "outputs": [],
   "source": [
    "model = DecisionTreeClassifier(random_state = 8848, max_depth=9)\n",
    "model.fit(X_train, y_train)\n",
    "df_res = update_results(df_res, model, X_train, y_train,'DT : Title + Body [CV]')\n",
    "df_res"
   ]
  },
  {
   "cell_type": "code",
   "execution_count": null,
   "id": "73e81a1a",
   "metadata": {},
   "outputs": [],
   "source": [
    "model = DecisionTreeClassifier(random_state = 8848)\n",
    "params = {\"max_depth\": [7, 8, 9, 10] }\n",
    "X_train, X_test, y_train, y_test, vectorizer= prepare_TFIDF(df,\n",
    "                                                            \"body_processed\",\n",
    "                                                            \"label\")\n",
    "grid_res = grid_search_CV(model, params, X_train, y_train)"
   ]
  },
  {
   "cell_type": "code",
   "execution_count": null,
   "id": "655f1bf6",
   "metadata": {},
   "outputs": [],
   "source": [
    "model = DecisionTreeClassifier(random_state = 8848, max_depth=9)\n",
    "model.fit(X_train, y_train)\n",
    "df_res = update_results(df_res, model, X_train, y_train,'DT : Body Only [CV]')\n",
    "df_res"
   ]
  },
  {
   "cell_type": "markdown",
   "id": "3541ffc2",
   "metadata": {},
   "source": [
    "## Random Forest"
   ]
  },
  {
   "cell_type": "code",
   "execution_count": null,
   "id": "428241b8",
   "metadata": {},
   "outputs": [],
   "source": []
  },
  {
   "cell_type": "code",
   "execution_count": null,
   "id": "2114abbc",
   "metadata": {},
   "outputs": [],
   "source": [
    "# Body only\n",
    "X_train, X_test, y_train, y_test, vectorizer= prepare_TFIDF(df,\n",
    "                                                            \"body_processed\",\n",
    "                                                            \"label\")\n",
    "\n",
    "model = RandomForestClassifier(random_state = 8848)\n",
    "model.fit(X_train, y_train)\n",
    "df_res = update_results(df_res, model, X_train, y_train,'RF : Body Only')\n",
    "df_res"
   ]
  },
  {
   "cell_type": "markdown",
   "id": "ee018eb7",
   "metadata": {},
   "source": [
    "## Random Forest : Grid Search CV"
   ]
  },
  {
   "cell_type": "code",
   "execution_count": null,
   "id": "c0c096c9",
   "metadata": {},
   "outputs": [],
   "source": [
    "model = RandomForestClassifier(random_state = 8848)\n",
    "params = {\"max_depth\": [7, 8], \"n_estimators\":[100, 200] }\n",
    "X_train, X_test, y_train, y_test, vectorizer= prepare_TFIDF(df,\n",
    "                                                            \"body_processed\",\n",
    "                                                            \"label\")\n",
    "\n",
    "grid_res = grid_search_CV(model, params, X_train, y_train)"
   ]
  },
  {
   "cell_type": "code",
   "execution_count": null,
   "id": "806426f1",
   "metadata": {},
   "outputs": [],
   "source": [
    "model = RandomForestClassifier(random_state = 8848)\n",
    "params = {\"max_depth\": [8, 9, 10], \"n_estimators\":[200, 300] }\n",
    "X_train, X_test, y_train, y_test, vectorizer= prepare_TFIDF(df,\n",
    "                                                            \"body_processed\",\n",
    "                                                            \"label\")\n",
    "\n",
    "grid_res = grid_search_CV(model, params, X_train, y_train)"
   ]
  },
  {
   "cell_type": "code",
   "execution_count": null,
   "id": "f1ca5428",
   "metadata": {},
   "outputs": [],
   "source": [
    "# Body only\n",
    "model = RandomForestClassifier(random_state = 8848, max_depth= 10, n_estimators=300)\n",
    "model.fit(X_train, y_train)\n",
    "df_res = update_results(df_res, model, X_train, y_train,'RF : Body Only [CV]')\n",
    "df_res"
   ]
  },
  {
   "cell_type": "markdown",
   "id": "60f430f0",
   "metadata": {},
   "source": [
    "**Few words:**\n",
    "- The GridSearchCV takes the default score as *accuracy* I guess.\n",
    "- We may have to use a differnt scoring as well."
   ]
  },
  {
   "cell_type": "markdown",
   "id": "871342ed",
   "metadata": {},
   "source": [
    "## Popular as 95 percentile"
   ]
  },
  {
   "cell_type": "code",
   "execution_count": 23,
   "id": "fbea6adb",
   "metadata": {},
   "outputs": [],
   "source": [
    "df_superstocks = df[df.subreddit == 'Superstonks']\n",
    "df_finance     = df[df.subreddit == 'finance']\n",
    "df_options     = df[df.subreddit == 'options']\n",
    "df_pennystocks = df[df.subreddit == 'pennystocks']\n",
    "df_gme         = df[df.subreddit == 'GME']"
   ]
  },
  {
   "cell_type": "code",
   "execution_count": 24,
   "id": "78e05524",
   "metadata": {},
   "outputs": [],
   "source": [
    "df_superstocks['popular'] = 0\n",
    "df_finance['popular'] = 0\n",
    "df_options['popular'] = 0\n",
    "df_pennystocks['popular'] = 0\n",
    "df_gme['popular'] = 0"
   ]
  },
  {
   "cell_type": "code",
   "execution_count": 25,
   "id": "16fbf581",
   "metadata": {},
   "outputs": [],
   "source": [
    "df_superstocks.loc[df_superstocks['score'] > np.percentile(df_superstocks.score.values, 95), 'popular'] = 1\n",
    "df_finance.loc[df_finance['score'] > np.percentile(df_finance.score.values, 95), 'popular'] = 1\n",
    "df_options.loc[df_options['score'] > np.percentile(df_options.score.values, 95), 'popular'] = 1\n",
    "df_pennystocks.loc[df_pennystocks['score'] > np.percentile(df_pennystocks.score.values, 95), 'popular'] = 1\n",
    "df_gme.loc[df_gme['score'] > np.percentile(df_gme.score.values, 95), 'popular'] = 1"
   ]
  },
  {
   "cell_type": "code",
   "execution_count": 26,
   "id": "68e6fa95",
   "metadata": {},
   "outputs": [],
   "source": [
    "df = pd.concat([df_superstocks, df_finance, df_options,\n",
    "                df_pennystocks, df_gme], ignore_index=True)"
   ]
  },
  {
   "cell_type": "code",
   "execution_count": 27,
   "id": "18e9b97e",
   "metadata": {},
   "outputs": [],
   "source": [
    "df = df[(df.body_processed != 'deleted') & (df.body_processed != 'removed')]"
   ]
  },
  {
   "cell_type": "code",
   "execution_count": 28,
   "id": "41032c9c",
   "metadata": {},
   "outputs": [
    {
     "data": {
      "text/html": [
       "<div>\n",
       "<style scoped>\n",
       "    .dataframe tbody tr th:only-of-type {\n",
       "        vertical-align: middle;\n",
       "    }\n",
       "\n",
       "    .dataframe tbody tr th {\n",
       "        vertical-align: top;\n",
       "    }\n",
       "\n",
       "    .dataframe thead th {\n",
       "        text-align: right;\n",
       "    }\n",
       "</style>\n",
       "<table border=\"1\" class=\"dataframe\">\n",
       "  <thead>\n",
       "    <tr style=\"text-align: right;\">\n",
       "      <th></th>\n",
       "      <th>subreddit</th>\n",
       "      <th>score</th>\n",
       "      <th>body_processed</th>\n",
       "      <th>title_processed</th>\n",
       "      <th>author_processed</th>\n",
       "      <th>body_and_title</th>\n",
       "      <th>body_and_author</th>\n",
       "      <th>title_and_author</th>\n",
       "      <th>body_title_and_author</th>\n",
       "      <th>body_title_author_subreddit</th>\n",
       "      <th>popular</th>\n",
       "    </tr>\n",
       "  </thead>\n",
       "  <tbody>\n",
       "    <tr>\n",
       "      <th>1</th>\n",
       "      <td>Superstonks</td>\n",
       "      <td>81</td>\n",
       "      <td>r superstonk</td>\n",
       "      <td>sub looking r superstonk</td>\n",
       "      <td>seppukkake</td>\n",
       "      <td>r superstonk sub looking r superstonk</td>\n",
       "      <td>r superstonk seppukkake</td>\n",
       "      <td>sub looking r superstonk seppukkake</td>\n",
       "      <td>r superstonk sub looking r superstonk seppukkake</td>\n",
       "      <td>r superstonk sub looking r superstonk seppukka...</td>\n",
       "      <td>1</td>\n",
       "    </tr>\n",
       "    <tr>\n",
       "      <th>2</th>\n",
       "      <td>Superstonks</td>\n",
       "      <td>15</td>\n",
       "      <td>no_text</td>\n",
       "      <td>https www reddit com r superstonk</td>\n",
       "      <td>fairytalee</td>\n",
       "      <td>no_text https www reddit com r superstonk</td>\n",
       "      <td>no_text fairytalee</td>\n",
       "      <td>https www reddit com r superstonk fairytalee</td>\n",
       "      <td>no_text https www reddit com r superstonk fair...</td>\n",
       "      <td>no_text https www reddit com r superstonk fair...</td>\n",
       "      <td>0</td>\n",
       "    </tr>\n",
       "  </tbody>\n",
       "</table>\n",
       "</div>"
      ],
      "text/plain": [
       "     subreddit  score body_processed                    title_processed  \\\n",
       "1  Superstonks     81   r superstonk           sub looking r superstonk   \n",
       "2  Superstonks     15        no_text  https www reddit com r superstonk   \n",
       "\n",
       "  author_processed                             body_and_title  \\\n",
       "1       seppukkake      r superstonk sub looking r superstonk   \n",
       "2       fairytalee  no_text https www reddit com r superstonk   \n",
       "\n",
       "           body_and_author                              title_and_author  \\\n",
       "1  r superstonk seppukkake           sub looking r superstonk seppukkake   \n",
       "2       no_text fairytalee  https www reddit com r superstonk fairytalee   \n",
       "\n",
       "                               body_title_and_author  \\\n",
       "1   r superstonk sub looking r superstonk seppukkake   \n",
       "2  no_text https www reddit com r superstonk fair...   \n",
       "\n",
       "                         body_title_author_subreddit  popular  \n",
       "1  r superstonk sub looking r superstonk seppukka...        1  \n",
       "2  no_text https www reddit com r superstonk fair...        0  "
      ]
     },
     "execution_count": 28,
     "metadata": {},
     "output_type": "execute_result"
    }
   ],
   "source": [
    "df.head(2)"
   ]
  },
  {
   "cell_type": "code",
   "execution_count": 20,
   "id": "454b44ef",
   "metadata": {},
   "outputs": [],
   "source": [
    "def grid_search_CV_LR(params, df=df,\n",
    "                      xcol=\"body_processed\",\n",
    "                      ycol=\"score_label\",\n",
    "                      N_cv=5,\n",
    "                      wt_factor=1,\n",
    "                      scorer = \"precision\",\n",
    "                      verbose = 0,\n",
    "                      tfidf=True\n",
    "                     ):\n",
    "    \n",
    "    X_train, X_test, y_train, y_test, vectorizer = prepare_vectors(df,\n",
    "                                                                   xcol,\n",
    "                                                                   ycol,\n",
    "                                                                   tfidf=tfidf)        \n",
    "    \n",
    "    scoring_dict = {\"precision\": precision_score, \n",
    "                    \"recall\"   : recall_score,\n",
    "                    \"accuracy\" : accuracy_score,\n",
    "                    \"f1\"       : f1_score}\n",
    "\n",
    "    custom_score = make_scorer(scoring_dict[scorer])\n",
    "    model_grid = GridSearchCV(estimator = LogisticRegression(max_iter=1000),\n",
    "                              param_grid = params,\n",
    "                              cv = StratifiedKFold(n_splits=N_cv,\n",
    "                                                   random_state=8848,\n",
    "                                                   shuffle=True),\n",
    "                              verbose=verbose,\n",
    "                              scoring = custom_score)\n",
    "    w = np.ones(len(y_train))\n",
    "    w[y_train==1] = wt_factor/y_train.mean()\n",
    "    \n",
    "    grid_res = model_grid.fit(X_train, y_train, sample_weight=w)\n",
    "    print ( \"Best Score:\", grid_res.best_score_, grid_res.best_params_)\n",
    "    return model_grid, X_train, X_test, y_train, y_test, grid_res"
   ]
  },
  {
   "cell_type": "code",
   "execution_count": 17,
   "id": "04741bf3",
   "metadata": {},
   "outputs": [
    {
     "name": "stdout",
     "output_type": "stream",
     "text": [
      "Superstonks [113   7] [0.94166667 0.05833333]\n",
      "finance [2361  135] [0.94591346 0.05408654]\n",
      "options [8091  692] [0.92121143 0.07878857]\n",
      "pennystocks [14102  2013] [0.87508532 0.12491468]\n",
      "GME [98879  6529] [0.93805973 0.06194027]\n"
     ]
    }
   ],
   "source": [
    "subs = ['Superstonks', 'finance', 'options', 'pennystocks', 'GME']\n",
    "\n",
    "for sub in subs:\n",
    "    df_sub = df[df['subreddit']==sub]\n",
    "    df_sub_count = df_sub.groupby(\"popular\").count()['subreddit']\n",
    "    print ( sub, df_sub_count.values, df_sub_count.values/df_sub_count.values.sum())"
   ]
  },
  {
   "cell_type": "code",
   "execution_count": 18,
   "id": "8d16bb90",
   "metadata": {},
   "outputs": [
    {
     "name": "stdout",
     "output_type": "stream",
     "text": [
      "Best Score: 0.17180328047469035 {'C': 10, 'penalty': 'l2'}\n"
     ]
    }
   ],
   "source": [
    "subs = ['Superstonks', 'finance', 'options', 'pennystocks', 'GME']\n",
    "\n",
    "sub = 'GME'\n",
    "df_sub = df[df['subreddit']==sub]\n",
    "\n",
    "params = {'penalty': ['l1','l2','None'],\n",
    "          'C'      : [1, 10, 20]}\n",
    "\n",
    "model_grid, X_train, X_test, y_train, y_test, grid_res = grid_search_CV_LR(params, \n",
    "                                                                           df=df_sub, \n",
    "                                                                           xcol='body_title_author_subreddit',\n",
    "                                                                           ycol='popular',\n",
    "                                                                           scorer = \"precision\",\n",
    "                                                                          )"
   ]
  },
  {
   "cell_type": "code",
   "execution_count": 41,
   "id": "946655c5",
   "metadata": {},
   "outputs": [
    {
     "data": {
      "text/html": [
       "<div>\n",
       "<style scoped>\n",
       "    .dataframe tbody tr th:only-of-type {\n",
       "        vertical-align: middle;\n",
       "    }\n",
       "\n",
       "    .dataframe tbody tr th {\n",
       "        vertical-align: top;\n",
       "    }\n",
       "\n",
       "    .dataframe thead th {\n",
       "        text-align: right;\n",
       "    }\n",
       "</style>\n",
       "<table border=\"1\" class=\"dataframe\">\n",
       "  <thead>\n",
       "    <tr style=\"text-align: right;\">\n",
       "      <th></th>\n",
       "      <th>Accuracy</th>\n",
       "      <th>Pr_0</th>\n",
       "      <th>Pr_1</th>\n",
       "      <th>Re_0</th>\n",
       "      <th>Re_1</th>\n",
       "      <th>F1_0</th>\n",
       "      <th>F1_1</th>\n",
       "    </tr>\n",
       "  </thead>\n",
       "  <tbody>\n",
       "    <tr>\n",
       "      <th>LR, body_title_author_subreddit</th>\n",
       "      <td>84.83</td>\n",
       "      <td>95.24</td>\n",
       "      <td>15.69</td>\n",
       "      <td>88.24</td>\n",
       "      <td>33.15</td>\n",
       "      <td>91.6</td>\n",
       "      <td>21.3</td>\n",
       "    </tr>\n",
       "  </tbody>\n",
       "</table>\n",
       "</div>"
      ],
      "text/plain": [
       "                                Accuracy   Pr_0   Pr_1   Re_0   Re_1  F1_0  \\\n",
       "LR, body_title_author_subreddit    84.83  95.24  15.69  88.24  33.15  91.6   \n",
       "\n",
       "                                 F1_1  \n",
       "LR, body_title_author_subreddit  21.3  "
      ]
     },
     "execution_count": 41,
     "metadata": {},
     "output_type": "execute_result"
    }
   ],
   "source": [
    "df_res = update_results(df_res, model_grid, X_test, y_test, \"LR, body_title_author_subreddit\")\n",
    "df_res"
   ]
  },
  {
   "cell_type": "code",
   "execution_count": 42,
   "id": "deba2770",
   "metadata": {},
   "outputs": [
    {
     "name": "stdout",
     "output_type": "stream",
     "text": [
      "Best Score: 0.40168160736218816 {'C': 1, 'penalty': 'l2'}\n"
     ]
    }
   ],
   "source": [
    "subs = ['Superstonks', 'finance', 'options', 'pennystocks', 'GME']\n",
    "\n",
    "sub = 'GME'\n",
    "df_sub = df[df['subreddit']==sub]\n",
    "\n",
    "params = {'penalty': ['l1','l2','None'],\n",
    "          'C'      : [1, 10, 20]}\n",
    "\n",
    "model_grid, X_train, X_test, y_train, y_test, grid_res = grid_search_CV_LR(params, \n",
    "                                                                           df=df_sub, \n",
    "                                                                           xcol='body_title_author_subreddit',\n",
    "                                                                           ycol='popular',\n",
    "                                                                           scorer = \"recall\",\n",
    "                                                                          )\n",
    "                                                                           "
   ]
  },
  {
   "cell_type": "code",
   "execution_count": 43,
   "id": "28aa045e",
   "metadata": {},
   "outputs": [
    {
     "data": {
      "text/html": [
       "<div>\n",
       "<style scoped>\n",
       "    .dataframe tbody tr th:only-of-type {\n",
       "        vertical-align: middle;\n",
       "    }\n",
       "\n",
       "    .dataframe tbody tr th {\n",
       "        vertical-align: top;\n",
       "    }\n",
       "\n",
       "    .dataframe thead th {\n",
       "        text-align: right;\n",
       "    }\n",
       "</style>\n",
       "<table border=\"1\" class=\"dataframe\">\n",
       "  <thead>\n",
       "    <tr style=\"text-align: right;\">\n",
       "      <th></th>\n",
       "      <th>Accuracy</th>\n",
       "      <th>Pr_0</th>\n",
       "      <th>Pr_1</th>\n",
       "      <th>Re_0</th>\n",
       "      <th>Re_1</th>\n",
       "      <th>F1_0</th>\n",
       "      <th>F1_1</th>\n",
       "    </tr>\n",
       "  </thead>\n",
       "  <tbody>\n",
       "    <tr>\n",
       "      <th>LR, body_title_author_subreddit</th>\n",
       "      <td>84.83</td>\n",
       "      <td>95.24</td>\n",
       "      <td>15.69</td>\n",
       "      <td>88.24</td>\n",
       "      <td>33.15</td>\n",
       "      <td>91.6</td>\n",
       "      <td>21.3</td>\n",
       "    </tr>\n",
       "    <tr>\n",
       "      <th>LR, sc:Recall</th>\n",
       "      <td>80.43</td>\n",
       "      <td>95.62</td>\n",
       "      <td>14.13</td>\n",
       "      <td>82.94</td>\n",
       "      <td>42.5</td>\n",
       "      <td>88.83</td>\n",
       "      <td>21.2</td>\n",
       "    </tr>\n",
       "  </tbody>\n",
       "</table>\n",
       "</div>"
      ],
      "text/plain": [
       "                                Accuracy   Pr_0   Pr_1   Re_0   Re_1   F1_0  \\\n",
       "LR, body_title_author_subreddit    84.83  95.24  15.69  88.24  33.15   91.6   \n",
       "LR, sc:Recall                      80.43  95.62  14.13  82.94   42.5  88.83   \n",
       "\n",
       "                                 F1_1  \n",
       "LR, body_title_author_subreddit  21.3  \n",
       "LR, sc:Recall                    21.2  "
      ]
     },
     "execution_count": 43,
     "metadata": {},
     "output_type": "execute_result"
    }
   ],
   "source": [
    "df_res = update_results(df_res, model_grid, X_test, y_test, \"LR, sc:Recall\")\n",
    "df_res"
   ]
  },
  {
   "cell_type": "code",
   "execution_count": 55,
   "id": "e1fb2c94",
   "metadata": {},
   "outputs": [
    {
     "name": "stdout",
     "output_type": "stream",
     "text": [
      "Confusion Matrix:\n",
      " [[16402  3374]\n",
      " [  751   555]]\n",
      "Accuracy Score: 80.43\n",
      "Precision Score: [95.62 14.13]\n",
      "Recall Score: [82.94 42.5 ]\n",
      "F1 Score: [88.83 21.2 ]\n"
     ]
    }
   ],
   "source": [
    "print_metrics(model_grid, X_test, y_test)"
   ]
  },
  {
   "cell_type": "code",
   "execution_count": null,
   "id": "8109fa16",
   "metadata": {},
   "outputs": [],
   "source": []
  },
  {
   "cell_type": "code",
   "execution_count": 19,
   "id": "a00f23f7",
   "metadata": {},
   "outputs": [
    {
     "data": {
      "text/plain": [
       "<matplotlib.legend.Legend at 0x14ba578b0>"
      ]
     },
     "execution_count": 19,
     "metadata": {},
     "output_type": "execute_result"
    },
    {
     "data": {
      "image/png": "[encoded data removed]",
      "text/plain": [
       "<Figure size 360x288 with 1 Axes>"
      ]
     },
     "metadata": {
      "needs_background": "light"
     },
     "output_type": "display_data"
    }
   ],
   "source": [
    "fig, ax = plt.subplots(1,1,figsize=(5,4))\n",
    "plot_roc_curve(model_grid, X_test, y_test, ax=ax, color='C2')\n",
    "ax.plot([0,1],[0,1], ls=\"--\", lw=2., color=\"C1\", label=\"y=x line\" )\n",
    "ax.set_xlim([0,1])\n",
    "ax.set_ylim([0,1])\n",
    "ax.legend()"
   ]
  },
  {
   "cell_type": "code",
   "execution_count": 21,
   "id": "c05df0b2",
   "metadata": {},
   "outputs": [
    {
     "data": {
      "text/plain": [
       "<sklearn.metrics._plot.roc_curve.RocCurveDisplay at 0x1229278e0>"
      ]
     },
     "execution_count": 21,
     "metadata": {},
     "output_type": "execute_result"
    }
   ],
   "source": [
    "plot_roc_curve(model_grid, X_test, y_test, ax=ax, color='C2')"
   ]
  },
  {
   "cell_type": "code",
   "execution_count": 28,
   "id": "a7092b18",
   "metadata": {},
   "outputs": [
    {
     "data": {
      "text/plain": [
       "<sklearn.metrics._plot.precision_recall_curve.PrecisionRecallDisplay at 0x14d062ee0>"
      ]
     },
     "execution_count": 28,
     "metadata": {},
     "output_type": "execute_result"
    },
    {
     "data": {
      "image/png": "[encoded data removed]",
      "text/plain": [
       "<Figure size 432x288 with 1 Axes>"
      ]
     },
     "metadata": {
      "needs_background": "light"
     },
     "output_type": "display_data"
    }
   ],
   "source": [
    "plot_precision_recall_curve(model_grid, X_test, y_test)"
   ]
  },
  {
   "cell_type": "markdown",
   "id": "bc754f0c",
   "metadata": {},
   "source": [
    "## Grid Search CV LR on Bag of Words"
   ]
  },
  {
   "cell_type": "code",
   "execution_count": 33,
   "id": "678d33fc",
   "metadata": {},
   "outputs": [
    {
     "name": "stdout",
     "output_type": "stream",
     "text": [
      "Best Score: 0.2933139012630846 {'C': 1, 'penalty': 'l2'}\n"
     ]
    }
   ],
   "source": [
    "subs = ['Superstonks', 'finance', 'options', 'pennystocks', 'GME']\n",
    "\n",
    "sub = 'GME'\n",
    "df_sub = df[df['subreddit']==sub]\n",
    "\n",
    "params = {'penalty': ['l1','l2','None'],\n",
    "          'C'      : [1, 10, 20]}\n",
    "\n",
    "model_grid1, X_train, X_test, y_train, y_test, grid_res = grid_search_CV_LR(params, \n",
    "                                                                           df=df_sub, \n",
    "                                                                           xcol='body_title_author_subreddit',\n",
    "                                                                           ycol='popular',\n",
    "                                                                           scorer = \"recall\",\n",
    "                                                                           tfidf=False)\n",
    "                                                                           "
   ]
  },
  {
   "cell_type": "code",
   "execution_count": 34,
   "id": "54b5cf8d",
   "metadata": {},
   "outputs": [
    {
     "data": {
      "text/plain": [
       "<sklearn.metrics._plot.precision_recall_curve.PrecisionRecallDisplay at 0x148145e80>"
      ]
     },
     "execution_count": 34,
     "metadata": {},
     "output_type": "execute_result"
    },
    {
     "data": {
      "image/png": "[encoded data removed]",
      "text/plain": [
       "<Figure size 432x288 with 1 Axes>"
      ]
     },
     "metadata": {
      "needs_background": "light"
     },
     "output_type": "display_data"
    }
   ],
   "source": [
    "plot_precision_recall_curve(model_grid, X_test, y_test)"
   ]
  },
  {
   "cell_type": "code",
   "execution_count": 31,
   "id": "ea4798b0",
   "metadata": {},
   "outputs": [
    {
     "name": "stdout",
     "output_type": "stream",
     "text": [
      "Best Score: 0.15708803520980527 {'C': 1, 'penalty': 'l2'}\n"
     ]
    }
   ],
   "source": [
    "subs = ['Superstonks', 'finance', 'options', 'pennystocks', 'GME']\n",
    "\n",
    "sub = 'GME'\n",
    "df_sub = df[df['subreddit']==sub]\n",
    "\n",
    "params = {'penalty': ['l1','l2','None'],\n",
    "          'C'      : [1, 10, 20]}\n",
    "\n",
    "model_grid, X_train, X_test, y_train, y_test, grid_res = grid_search_CV_LR(params, \n",
    "                                                                           df=df_sub, \n",
    "                                                                           xcol='body_title_author_subreddit',\n",
    "                                                                           ycol='popular',\n",
    "                                                                           scorer = \"precision\",\n",
    "                                                                           tfidf=False)\n",
    "                                                                           "
   ]
  },
  {
   "cell_type": "code",
   "execution_count": 32,
   "id": "bfe0ee3d",
   "metadata": {},
   "outputs": [
    {
     "data": {
      "text/plain": [
       "<sklearn.metrics._plot.precision_recall_curve.PrecisionRecallDisplay at 0x1470d0d00>"
      ]
     },
     "execution_count": 32,
     "metadata": {},
     "output_type": "execute_result"
    },
    {
     "data": {
      "image/png": "[encoded data removed]",
      "text/plain": [
       "<Figure size 432x288 with 1 Axes>"
      ]
     },
     "metadata": {
      "needs_background": "light"
     },
     "output_type": "display_data"
    }
   ],
   "source": [
    "plot_precision_recall_curve(model_grid, X_test, y_test)"
   ]
  },
  {
   "cell_type": "code",
   "execution_count": 36,
   "id": "0c7b9874",
   "metadata": {},
   "outputs": [
    {
     "name": "stdout",
     "output_type": "stream",
     "text": [
      "BOW: Precision vs Recall\n"
     ]
    },
    {
     "data": {
      "image/png": "[encoded data removed]",
      "text/plain": [
       "<Figure size 432x360 with 1 Axes>"
      ]
     },
     "metadata": {
      "needs_background": "light"
     },
     "output_type": "display_data"
    }
   ],
   "source": [
    "print (\"BOW: Precision vs Recall\")\n",
    "fig, ax = plt.subplots(1, 1, figsize=(6,5))\n",
    "plot_precision_recall_curve(model_grid1, X_test, y_test, ax=ax)\n",
    "plot_precision_recall_curve(model_grid, X_test, y_test, ax=ax)\n",
    "plt.show()"
   ]
  },
  {
   "cell_type": "code",
   "execution_count": 37,
   "id": "fe800545",
   "metadata": {},
   "outputs": [
    {
     "name": "stdout",
     "output_type": "stream",
     "text": [
      "Best Score: 0.16197527218044735 {'C': 1, 'penalty': 'l2'}\n"
     ]
    }
   ],
   "source": [
    "#Best Score: 0.40168160736218816 {'C': 1, 'penalty': 'l2'}\n",
    "subs = ['Superstonks', 'finance', 'options', 'pennystocks', 'GME']\n",
    "\n",
    "sub = 'GME'\n",
    "df_sub = df[df['subreddit']==sub]\n",
    "\n",
    "params = {'penalty': ['l2'],\n",
    "          'C'      : [1]}\n",
    "\n",
    "model_grid2, X_train, X_test, y_train, y_test, grid_res = grid_search_CV_LR(params, \n",
    "                                                                           df=df_sub, \n",
    "                                                                           xcol='body_title_author_subreddit',\n",
    "                                                                           ycol='popular',\n",
    "                                                                           scorer = \"precision\",\n",
    "                                                                           tfidf=True)\n",
    "                                                                           "
   ]
  },
  {
   "cell_type": "code",
   "execution_count": 43,
   "id": "24583ef5",
   "metadata": {},
   "outputs": [
    {
     "name": "stdout",
     "output_type": "stream",
     "text": [
      "BOW: vs TFIDF\n"
     ]
    },
    {
     "data": {
      "image/png": "[encoded data removed]",
      "text/plain": [
       "<Figure size 432x360 with 1 Axes>"
      ]
     },
     "metadata": {
      "needs_background": "light"
     },
     "output_type": "display_data"
    }
   ],
   "source": [
    "print (\"BOW: vs TFIDF\")\n",
    "fig, ax = plt.subplots(1, 1, figsize=(6,5))\n",
    "plot_precision_recall_curve(model_grid, X_test, y_test, ax=ax, label=\"BOW\")\n",
    "plot_precision_recall_curve(model_grid2, X_test, y_test, ax=ax, label=\"TFIDF\")\n",
    "plt.legend(fontsize=16)\n",
    "plt.show()"
   ]
  },
  {
   "cell_type": "markdown",
   "id": "0e4b92f6",
   "metadata": {},
   "source": [
    "## BOW vs TFIDF for all the subs"
   ]
  },
  {
   "cell_type": "markdown",
   "id": "5a9c9897",
   "metadata": {},
   "source": [
    "# PCA  on TFIDF features"
   ]
  },
  {
   "cell_type": "code",
   "execution_count": 45,
   "id": "4b4e5717",
   "metadata": {},
   "outputs": [
    {
     "name": "stdout",
     "output_type": "stream",
     "text": [
      "Best Score: 0.206354161060963 {'C': 10, 'penalty': 'l2'}\n"
     ]
    }
   ],
   "source": [
    "params = {'penalty': ['l2', 'l1'],\n",
    "          'C'      : [1, 5, 10]}\n",
    "\n",
    "model_grid3, X_train, X_test, y_train, y_test, grid_res = grid_search_CV_LR(params, \n",
    "                                                                           df=df, \n",
    "                                                                           xcol='body_title_author_subreddit',\n",
    "                                                                           ycol='popular',\n",
    "                                                                           scorer = \"precision\",\n",
    "                                                                           tfidf=True)\n",
    "                                                                           "
   ]
  },
  {
   "cell_type": "code",
   "execution_count": 46,
   "id": "46da3f4e",
   "metadata": {},
   "outputs": [
    {
     "name": "stdout",
     "output_type": "stream",
     "text": [
      "Best Score: 0.18757242723580408 {'C': 1, 'penalty': 'l2'}\n"
     ]
    }
   ],
   "source": [
    "params = {'penalty': ['l2', 'l1'],\n",
    "          'C'      : [1, 5, 10]}\n",
    "\n",
    "model_grid4, X_train, X_test_b, y_train, y_test_b, grid_res = grid_search_CV_LR(params, \n",
    "                                                                           df=df, \n",
    "                                                                           xcol='body_title_author_subreddit',\n",
    "                                                                           ycol='popular',\n",
    "                                                                           scorer = \"precision\",\n",
    "                                                                           tfidf=False)\n",
    "                                                                           "
   ]
  },
  {
   "cell_type": "code",
   "execution_count": null,
   "id": "877242b0",
   "metadata": {},
   "outputs": [],
   "source": []
  },
  {
   "cell_type": "code",
   "execution_count": null,
   "id": "6a50a4cb",
   "metadata": {},
   "outputs": [],
   "source": []
  },
  {
   "cell_type": "code",
   "execution_count": null,
   "id": "ba8de326",
   "metadata": {},
   "outputs": [],
   "source": []
  },
  {
   "cell_type": "code",
   "execution_count": null,
   "id": "ae5a6c86",
   "metadata": {},
   "outputs": [],
   "source": []
  },
  {
   "cell_type": "code",
   "execution_count": null,
   "id": "5d04dfdb",
   "metadata": {},
   "outputs": [],
   "source": []
  },
  {
   "cell_type": "code",
   "execution_count": 72,
   "id": "1f277fff",
   "metadata": {},
   "outputs": [
    {
     "name": "stdout",
     "output_type": "stream",
     "text": [
      "TypeError: PCA does not support sparse input. See TruncatedSVD for a possible alternative.\n"
     ]
    }
   ],
   "source": [
    "from sklearn.decomposition import PCA\n",
    "from sklearn.decomposition import TruncatedSVD\n",
    "\n",
    "print (\"TypeError: PCA does not support sparse input. See TruncatedSVD for a possible alternative.\")\n"
   ]
  },
  {
   "cell_type": "code",
   "execution_count": 73,
   "id": "8ba4276f",
   "metadata": {},
   "outputs": [
    {
     "data": {
      "text/plain": [
       "TruncatedSVD(n_components=10, n_iter=7, random_state=42)"
      ]
     },
     "execution_count": 73,
     "metadata": {},
     "output_type": "execute_result"
    }
   ],
   "source": [
    "tsvd = TruncatedSVD(n_components=10, n_iter=50, random_state=8848)\n",
    "tsvd.fit(X_train)"
   ]
  },
  {
   "cell_type": "code",
   "execution_count": 74,
   "id": "9819bb01",
   "metadata": {},
   "outputs": [
    {
     "data": {
      "text/plain": [
       "(84326, 92984)"
      ]
     },
     "execution_count": 74,
     "metadata": {},
     "output_type": "execute_result"
    }
   ],
   "source": [
    "X_train.shape"
   ]
  },
  {
   "cell_type": "code",
   "execution_count": null,
   "id": "9cd406cd",
   "metadata": {},
   "outputs": [],
   "source": [
    "N=10000\n",
    "tsvd = TruncatedSVD(n_components=N, n_iter=50, random_state=8848)\n",
    "tsvd.fit(X_train)"
   ]
  },
  {
   "cell_type": "code",
   "execution_count": null,
   "id": "a7b4a1fc",
   "metadata": {},
   "outputs": [],
   "source": [
    "plt.plot(range(1,N+1), np.cumsum(tsvd.explained_variance_ratio_))\n",
    "plt.xlabel(\"Number of Components\", fontsize=16)\n",
    "plt.ylabel(\"Cumulative Explained Variance\", fontsize=16)\n",
    "plt.show()"
   ]
  },
  {
   "cell_type": "code",
   "execution_count": null,
   "id": "537bce51",
   "metadata": {},
   "outputs": [],
   "source": []
  },
  {
   "cell_type": "code",
   "execution_count": 24,
   "id": "2cd653d1",
   "metadata": {},
   "outputs": [
    {
     "data": {
      "text/plain": [
       "(346520, 108976)"
      ]
     },
     "execution_count": 24,
     "metadata": {},
     "output_type": "execute_result"
    }
   ],
   "source": [
    "X_train.shape"
   ]
  },
  {
   "cell_type": "code",
   "execution_count": 23,
   "id": "ca24755a",
   "metadata": {
    "scrolled": true
   },
   "outputs": [
    {
     "data": {
      "text/plain": [
       "(10, 108976)"
      ]
     },
     "execution_count": 23,
     "metadata": {},
     "output_type": "execute_result"
    }
   ],
   "source": [
    "tsvd.components_.shape"
   ]
  },
  {
   "cell_type": "code",
   "execution_count": null,
   "id": "836ff021",
   "metadata": {},
   "outputs": [],
   "source": [
    "# PCA on TFIDF features\n",
    "\n",
    "from sklearn.decomposition import PCA\n",
    "from sklearn.decomposition import TruncatedSVD\n",
    "\n",
    "print (\"TypeError: PCA does not support sparse input. See TruncatedSVD for a possible alternative.\")\n",
    "\n",
    "\n",
    "tsvd = TruncatedSVD(n_components=10, n_iter=7, random_state=42)\n",
    "tsvd.fit(X_train)\n",
    "\n",
    "X_train.shape\n",
    "\n",
    "tsvd.components_.shape"
   ]
  },
  {
   "cell_type": "markdown",
   "id": "49787c75",
   "metadata": {},
   "source": [
    "## convert the numerical columns to text columns"
   ]
  },
  {
   "cell_type": "code",
   "execution_count": 6,
   "id": "65f5fb48",
   "metadata": {},
   "outputs": [],
   "source": [
    "import string, re, datetime\n",
    "\n",
    "def emoji_count(s):\n",
    "    s = ''.join(word.strip(string.punctuation) for word in s.split())\n",
    "    return len(re.findall('[^\\w\\s,\\(\\)\\'\\/-]',s))\n",
    "\n",
    "def hourOfDay(utc):\n",
    "    return datetime.datetime.utcfromtimestamp(utc).hour\n",
    "\n",
    "def dayOfWeek(utc):\n",
    "    return datetime.datetime.utcfromtimestamp(utc).weekday()\n",
    "\n",
    "def textLength(text):\n",
    "    return len(text.split())\n",
    "\n",
    "def postType(link):\n",
    "    if not link:\n",
    "        return 'others'\n",
    "    if 'png' in link or 'jpg' in link:\n",
    "        return 'figures'\n",
    "    elif '/r/' in link:\n",
    "        return 'others'\n",
    "    else:\n",
    "        return 'outside_link'\n",
    "\n",
    "def countUpper(text):\n",
    "    Up = 0\n",
    "    Low = 0\n",
    "    for ch in text:\n",
    "        if ch.isupper():\n",
    "            Up += 1\n",
    "        elif ch.islower():\n",
    "            Low += 1\n",
    "    \n",
    "    if Up + Low:\n",
    "        return Up/(Up+Low)\n",
    "    else:\n",
    "        return 0\n",
    "    \n",
    "def exclamationAndQuestion(text):\n",
    "    return text.count('!') + text.count('?')\n",
    "\n",
    "def getMonth(utc):\n",
    "    return datetime.datetime.utcfromtimestamp(utc).month\n",
    "    \n",
    "def primeTime(hour):\n",
    "    primeTime = 1 if hour >= 7 and hour <= 11 else 0\n",
    "    return primeTime\n",
    "\n",
    "def weekend(day):\n",
    "    return 1 if day >= 5 else 0"
   ]
  },
  {
   "cell_type": "code",
   "execution_count": 7,
   "id": "5f52a253",
   "metadata": {},
   "outputs": [],
   "source": [
    "df_orig = pd.read_csv(\"df_processed.csv\")\n",
    "df_orig.replace(np.nan, \"no_text\", inplace=True)"
   ]
  },
  {
   "cell_type": "code",
   "execution_count": 8,
   "id": "9c7d5ce4",
   "metadata": {},
   "outputs": [
    {
     "data": {
      "text/plain": [
       "Index(['Unnamed: 0', 'id', 'subreddit', 'title', 'author', 'url', 'created',\n",
       "       'ext_link', 'id.1', 'body', 'score', 'upvote_ratio', 'body_processed',\n",
       "       'title_processed', 'author_processed', 'subreddit_processed',\n",
       "       'body_and_title', 'body_and_author', 'title_and_author',\n",
       "       'body_title_and_author', 'body_title_author_subreddit'],\n",
       "      dtype='object')"
      ]
     },
     "execution_count": 8,
     "metadata": {},
     "output_type": "execute_result"
    }
   ],
   "source": [
    "df_orig.columns"
   ]
  },
  {
   "cell_type": "code",
   "execution_count": 9,
   "id": "a3a66810",
   "metadata": {},
   "outputs": [
    {
     "data": {
      "text/html": [
       "<div>\n",
       "<style scoped>\n",
       "    .dataframe tbody tr th:only-of-type {\n",
       "        vertical-align: middle;\n",
       "    }\n",
       "\n",
       "    .dataframe tbody tr th {\n",
       "        vertical-align: top;\n",
       "    }\n",
       "\n",
       "    .dataframe thead th {\n",
       "        text-align: right;\n",
       "    }\n",
       "</style>\n",
       "<table border=\"1\" class=\"dataframe\">\n",
       "  <thead>\n",
       "    <tr style=\"text-align: right;\">\n",
       "      <th></th>\n",
       "      <th>Unnamed: 0</th>\n",
       "      <th>id</th>\n",
       "      <th>subreddit</th>\n",
       "      <th>title</th>\n",
       "      <th>author</th>\n",
       "      <th>url</th>\n",
       "      <th>created</th>\n",
       "      <th>ext_link</th>\n",
       "      <th>id.1</th>\n",
       "      <th>body</th>\n",
       "      <th>...</th>\n",
       "      <th>upvote_ratio</th>\n",
       "      <th>body_processed</th>\n",
       "      <th>title_processed</th>\n",
       "      <th>author_processed</th>\n",
       "      <th>subreddit_processed</th>\n",
       "      <th>body_and_title</th>\n",
       "      <th>body_and_author</th>\n",
       "      <th>title_and_author</th>\n",
       "      <th>body_title_and_author</th>\n",
       "      <th>body_title_author_subreddit</th>\n",
       "    </tr>\n",
       "  </thead>\n",
       "  <tbody>\n",
       "    <tr>\n",
       "      <th>1</th>\n",
       "      <td>1</td>\n",
       "      <td>kobbka</td>\n",
       "      <td>finance</td>\n",
       "      <td>Mogo: Establishes ATM Equity Program Mogo a fi...</td>\n",
       "      <td>fintechinshorts</td>\n",
       "      <td>https://www.reddit.com/r/finance/comments/kobb...</td>\n",
       "      <td>1609507913</td>\n",
       "      <td>https://www.fintechinshorts.com/mogo-establish...</td>\n",
       "      <td>kobbka</td>\n",
       "      <td>no_text</td>\n",
       "      <td>...</td>\n",
       "      <td>1.0</td>\n",
       "      <td>no_text</td>\n",
       "      <td>mogo establishes atm equity program mogo finan...</td>\n",
       "      <td>fintechinshorts</td>\n",
       "      <td>finance</td>\n",
       "      <td>no_text mogo establishes atm equity program mo...</td>\n",
       "      <td>no_text fintechinshorts</td>\n",
       "      <td>mogo establishes atm equity program mogo finan...</td>\n",
       "      <td>no_text mogo establishes atm equity program mo...</td>\n",
       "      <td>no_text mogo establishes atm equity program mo...</td>\n",
       "    </tr>\n",
       "    <tr>\n",
       "      <th>3</th>\n",
       "      <td>3</td>\n",
       "      <td>koe39g</td>\n",
       "      <td>finance</td>\n",
       "      <td>Standard Capital: Partners with SolidBlock Sta...</td>\n",
       "      <td>fintechinshorts</td>\n",
       "      <td>https://www.reddit.com/r/finance/comments/koe3...</td>\n",
       "      <td>1609518689</td>\n",
       "      <td>https://www.fintechinshorts.com/standard-capit...</td>\n",
       "      <td>koe39g</td>\n",
       "      <td>no_text</td>\n",
       "      <td>...</td>\n",
       "      <td>1.0</td>\n",
       "      <td>no_text</td>\n",
       "      <td>standard capital partners solidblock standard ...</td>\n",
       "      <td>fintechinshorts</td>\n",
       "      <td>finance</td>\n",
       "      <td>no_text standard capital partners solidblock s...</td>\n",
       "      <td>no_text fintechinshorts</td>\n",
       "      <td>standard capital partners solidblock standard ...</td>\n",
       "      <td>no_text standard capital partners solidblock s...</td>\n",
       "      <td>no_text standard capital partners solidblock s...</td>\n",
       "    </tr>\n",
       "  </tbody>\n",
       "</table>\n",
       "<p>2 rows × 21 columns</p>\n",
       "</div>"
      ],
      "text/plain": [
       "   Unnamed: 0      id subreddit  \\\n",
       "1           1  kobbka   finance   \n",
       "3           3  koe39g   finance   \n",
       "\n",
       "                                               title           author  \\\n",
       "1  Mogo: Establishes ATM Equity Program Mogo a fi...  fintechinshorts   \n",
       "3  Standard Capital: Partners with SolidBlock Sta...  fintechinshorts   \n",
       "\n",
       "                                                 url     created  \\\n",
       "1  https://www.reddit.com/r/finance/comments/kobb...  1609507913   \n",
       "3  https://www.reddit.com/r/finance/comments/koe3...  1609518689   \n",
       "\n",
       "                                            ext_link    id.1     body  ...  \\\n",
       "1  https://www.fintechinshorts.com/mogo-establish...  kobbka  no_text  ...   \n",
       "3  https://www.fintechinshorts.com/standard-capit...  koe39g  no_text  ...   \n",
       "\n",
       "   upvote_ratio  body_processed  \\\n",
       "1           1.0         no_text   \n",
       "3           1.0         no_text   \n",
       "\n",
       "                                     title_processed author_processed  \\\n",
       "1  mogo establishes atm equity program mogo finan...  fintechinshorts   \n",
       "3  standard capital partners solidblock standard ...  fintechinshorts   \n",
       "\n",
       "  subreddit_processed                                     body_and_title  \\\n",
       "1             finance  no_text mogo establishes atm equity program mo...   \n",
       "3             finance  no_text standard capital partners solidblock s...   \n",
       "\n",
       "           body_and_author                                   title_and_author  \\\n",
       "1  no_text fintechinshorts  mogo establishes atm equity program mogo finan...   \n",
       "3  no_text fintechinshorts  standard capital partners solidblock standard ...   \n",
       "\n",
       "                               body_title_and_author  \\\n",
       "1  no_text mogo establishes atm equity program mo...   \n",
       "3  no_text standard capital partners solidblock s...   \n",
       "\n",
       "                         body_title_author_subreddit  \n",
       "1  no_text mogo establishes atm equity program mo...  \n",
       "3  no_text standard capital partners solidblock s...  \n",
       "\n",
       "[2 rows x 21 columns]"
      ]
     },
     "execution_count": 9,
     "metadata": {},
     "output_type": "execute_result"
    }
   ],
   "source": [
    "# delete the rows with empty body\n",
    "df = df_orig[(df_orig.body_processed != 'deleted') & (df_orig.body_processed != 'removed')]\n",
    "df.head(2)"
   ]
  },
  {
   "cell_type": "code",
   "execution_count": 10,
   "id": "b4a0e4cd",
   "metadata": {},
   "outputs": [],
   "source": [
    "df_superstocks = df[df.subreddit == 'Superstonks']\n",
    "df_finance     = df[df.subreddit == 'finance']\n",
    "df_options     = df[df.subreddit == 'options']\n",
    "df_pennystocks = df[df.subreddit == 'pennystocks']\n",
    "df_gme         = df[df.subreddit == 'GME']\n",
    "\n",
    "df_superstocks['popular'] = 0\n",
    "df_finance['popular'] = 0\n",
    "df_options['popular'] = 0\n",
    "df_pennystocks['popular'] = 0\n",
    "df_gme['popular'] = 0\n",
    "\n",
    "df_superstocks.loc[df_superstocks['score'] > np.percentile(df_superstocks.score.values, 95), 'popular'] = 1\n",
    "df_finance.loc[df_finance['score'] > np.percentile(df_finance.score.values, 95), 'popular'] = 1\n",
    "df_options.loc[df_options['score'] > np.percentile(df_options.score.values, 95), 'popular'] = 1\n",
    "df_pennystocks.loc[df_pennystocks['score'] > np.percentile(df_pennystocks.score.values, 95), 'popular'] = 1\n",
    "df_gme.loc[df_gme['score'] > np.percentile(df_gme.score.values, 95), 'popular'] = 1\n",
    "\n",
    "df = pd.concat([df_superstocks, df_finance, df_options,\n",
    "                df_pennystocks, df_gme], ignore_index=True)"
   ]
  },
  {
   "cell_type": "code",
   "execution_count": 11,
   "id": "c9e141d1",
   "metadata": {},
   "outputs": [
    {
     "data": {
      "text/html": [
       "<div>\n",
       "<style scoped>\n",
       "    .dataframe tbody tr th:only-of-type {\n",
       "        vertical-align: middle;\n",
       "    }\n",
       "\n",
       "    .dataframe tbody tr th {\n",
       "        vertical-align: top;\n",
       "    }\n",
       "\n",
       "    .dataframe thead th {\n",
       "        text-align: right;\n",
       "    }\n",
       "</style>\n",
       "<table border=\"1\" class=\"dataframe\">\n",
       "  <thead>\n",
       "    <tr style=\"text-align: right;\">\n",
       "      <th></th>\n",
       "      <th>Unnamed: 0</th>\n",
       "      <th>id</th>\n",
       "      <th>subreddit</th>\n",
       "      <th>title</th>\n",
       "      <th>author</th>\n",
       "      <th>url</th>\n",
       "      <th>created</th>\n",
       "      <th>ext_link</th>\n",
       "      <th>id.1</th>\n",
       "      <th>body</th>\n",
       "      <th>...</th>\n",
       "      <th>body_processed</th>\n",
       "      <th>title_processed</th>\n",
       "      <th>author_processed</th>\n",
       "      <th>subreddit_processed</th>\n",
       "      <th>body_and_title</th>\n",
       "      <th>body_and_author</th>\n",
       "      <th>title_and_author</th>\n",
       "      <th>body_title_and_author</th>\n",
       "      <th>body_title_author_subreddit</th>\n",
       "      <th>popular</th>\n",
       "    </tr>\n",
       "  </thead>\n",
       "  <tbody>\n",
       "    <tr>\n",
       "      <th>0</th>\n",
       "      <td>41437</td>\n",
       "      <td>mkga8b</td>\n",
       "      <td>Superstonks</td>\n",
       "      <td>The sub you are looking for is r/Superstonk</td>\n",
       "      <td>seppukkake</td>\n",
       "      <td>https://www.reddit.com/r/Superstonks/comments/...</td>\n",
       "      <td>1617613228</td>\n",
       "      <td>https://www.reddit.com/r/Superstonks/comments/...</td>\n",
       "      <td>mkga8b</td>\n",
       "      <td>r/Superstonk</td>\n",
       "      <td>...</td>\n",
       "      <td>r superstonk</td>\n",
       "      <td>sub looking r superstonk</td>\n",
       "      <td>seppukkake</td>\n",
       "      <td>superstonks</td>\n",
       "      <td>r superstonk sub looking r superstonk</td>\n",
       "      <td>r superstonk seppukkake</td>\n",
       "      <td>sub looking r superstonk seppukkake</td>\n",
       "      <td>r superstonk sub looking r superstonk seppukkake</td>\n",
       "      <td>r superstonk sub looking r superstonk seppukka...</td>\n",
       "      <td>1</td>\n",
       "    </tr>\n",
       "    <tr>\n",
       "      <th>1</th>\n",
       "      <td>41438</td>\n",
       "      <td>mkhpr9</td>\n",
       "      <td>Superstonks</td>\n",
       "      <td>https://www.reddit.com/r/Superstonk/</td>\n",
       "      <td>fairytalee20</td>\n",
       "      <td>https://www.reddit.com/r/Superstonks/comments/...</td>\n",
       "      <td>1617619355</td>\n",
       "      <td>https://www.reddit.com/r/Superstonks/comments/...</td>\n",
       "      <td>mkhpr9</td>\n",
       "      <td>no_text</td>\n",
       "      <td>...</td>\n",
       "      <td>no_text</td>\n",
       "      <td>https www reddit com r superstonk</td>\n",
       "      <td>fairytalee</td>\n",
       "      <td>superstonks</td>\n",
       "      <td>no_text https www reddit com r superstonk</td>\n",
       "      <td>no_text fairytalee</td>\n",
       "      <td>https www reddit com r superstonk fairytalee</td>\n",
       "      <td>no_text https www reddit com r superstonk fair...</td>\n",
       "      <td>no_text https www reddit com r superstonk fair...</td>\n",
       "      <td>0</td>\n",
       "    </tr>\n",
       "  </tbody>\n",
       "</table>\n",
       "<p>2 rows × 22 columns</p>\n",
       "</div>"
      ],
      "text/plain": [
       "   Unnamed: 0      id    subreddit  \\\n",
       "0       41437  mkga8b  Superstonks   \n",
       "1       41438  mkhpr9  Superstonks   \n",
       "\n",
       "                                         title        author  \\\n",
       "0  The sub you are looking for is r/Superstonk    seppukkake   \n",
       "1         https://www.reddit.com/r/Superstonk/  fairytalee20   \n",
       "\n",
       "                                                 url     created  \\\n",
       "0  https://www.reddit.com/r/Superstonks/comments/...  1617613228   \n",
       "1  https://www.reddit.com/r/Superstonks/comments/...  1617619355   \n",
       "\n",
       "                                            ext_link    id.1          body  \\\n",
       "0  https://www.reddit.com/r/Superstonks/comments/...  mkga8b  r/Superstonk   \n",
       "1  https://www.reddit.com/r/Superstonks/comments/...  mkhpr9       no_text   \n",
       "\n",
       "   ...  body_processed                    title_processed author_processed  \\\n",
       "0  ...    r superstonk           sub looking r superstonk       seppukkake   \n",
       "1  ...         no_text  https www reddit com r superstonk       fairytalee   \n",
       "\n",
       "  subreddit_processed                             body_and_title  \\\n",
       "0         superstonks      r superstonk sub looking r superstonk   \n",
       "1         superstonks  no_text https www reddit com r superstonk   \n",
       "\n",
       "           body_and_author                              title_and_author  \\\n",
       "0  r superstonk seppukkake           sub looking r superstonk seppukkake   \n",
       "1       no_text fairytalee  https www reddit com r superstonk fairytalee   \n",
       "\n",
       "                               body_title_and_author  \\\n",
       "0   r superstonk sub looking r superstonk seppukkake   \n",
       "1  no_text https www reddit com r superstonk fair...   \n",
       "\n",
       "                         body_title_author_subreddit popular  \n",
       "0  r superstonk sub looking r superstonk seppukka...       1  \n",
       "1  no_text https www reddit com r superstonk fair...       0  \n",
       "\n",
       "[2 rows x 22 columns]"
      ]
     },
     "execution_count": 11,
     "metadata": {},
     "output_type": "execute_result"
    }
   ],
   "source": [
    "df.head(2)"
   ]
  },
  {
   "cell_type": "code",
   "execution_count": 26,
   "id": "f18da8f1",
   "metadata": {},
   "outputs": [],
   "source": [
    "df['title_emoji'] = df['title'].apply(emoji_count)\n",
    "df['body_emoji'] = df['body'].apply(emoji_count)\n",
    "df['title_length'] = df['title'].apply(textLength)\n",
    "df['body_length'] = df['body'].apply(textLength)\n",
    "df['title_EQ'] = df['title'].apply(exclamationAndQuestion)\n",
    "df['body_EQ'] = df['body'].apply(exclamationAndQuestion)\n",
    "#df['title_UL'] = df['title'].apply(countUpper)\n",
    "#df['body_UL'] = df['body'].apply(countUpper)    \n",
    "df['hour'] = df['created'].apply(hourOfDay)\n",
    "df['day'] = df['created'].apply(dayOfWeek)\n",
    "#df['post_type'] = df['ext_link'].apply(postType)\n",
    "df['prime_time'] = df['hour'].apply(primeTime)\n",
    "df['weekend'] = df['day'].apply(weekend)\n",
    "df['month'] = df['created'].apply(getMonth)"
   ]
  },
  {
   "cell_type": "code",
   "execution_count": 27,
   "id": "1f71b0e9",
   "metadata": {},
   "outputs": [],
   "source": [
    "from num2words import num2words"
   ]
  },
  {
   "cell_type": "code",
   "execution_count": 28,
   "id": "452a98c2",
   "metadata": {},
   "outputs": [
    {
     "data": {
      "text/plain": [
       "'zero twelve forty_four one_hundred_and_twenty_three'"
      ]
     },
     "execution_count": 28,
     "metadata": {},
     "output_type": "execute_result"
    }
   ],
   "source": [
    "def get_num2words(num):\n",
    "    w = num2words(num)\n",
    "    w = re.sub(' ', '_', w)\n",
    "    w = re.sub('-', '_', w)\n",
    "    return w\n",
    "\n",
    "def convert_nums(nums):\n",
    "    return \" \".join([get_num2words(num) for num in nums])\n",
    "\n",
    "convert_nums([0, 12, 44, 123])"
   ]
  },
  {
   "cell_type": "code",
   "execution_count": 29,
   "id": "e4d2ea22",
   "metadata": {},
   "outputs": [
    {
     "data": {
      "text/html": [
       "<div>\n",
       "<style scoped>\n",
       "    .dataframe tbody tr th:only-of-type {\n",
       "        vertical-align: middle;\n",
       "    }\n",
       "\n",
       "    .dataframe tbody tr th {\n",
       "        vertical-align: top;\n",
       "    }\n",
       "\n",
       "    .dataframe thead th {\n",
       "        text-align: right;\n",
       "    }\n",
       "</style>\n",
       "<table border=\"1\" class=\"dataframe\">\n",
       "  <thead>\n",
       "    <tr style=\"text-align: right;\">\n",
       "      <th></th>\n",
       "      <th>Unnamed: 0</th>\n",
       "      <th>id</th>\n",
       "      <th>subreddit</th>\n",
       "      <th>title</th>\n",
       "      <th>author</th>\n",
       "      <th>url</th>\n",
       "      <th>created</th>\n",
       "      <th>ext_link</th>\n",
       "      <th>id.1</th>\n",
       "      <th>body</th>\n",
       "      <th>...</th>\n",
       "      <th>title_length</th>\n",
       "      <th>body_length</th>\n",
       "      <th>hour</th>\n",
       "      <th>day</th>\n",
       "      <th>title_EQ</th>\n",
       "      <th>body_EQ</th>\n",
       "      <th>prime_time</th>\n",
       "      <th>weekend</th>\n",
       "      <th>month</th>\n",
       "      <th>feats_joined_w</th>\n",
       "    </tr>\n",
       "  </thead>\n",
       "  <tbody>\n",
       "    <tr>\n",
       "      <th>0</th>\n",
       "      <td>41437</td>\n",
       "      <td>mkga8b</td>\n",
       "      <td>Superstonks</td>\n",
       "      <td>The sub you are looking for is r/Superstonk</td>\n",
       "      <td>seppukkake</td>\n",
       "      <td>https://www.reddit.com/r/Superstonks/comments/...</td>\n",
       "      <td>1617613228</td>\n",
       "      <td>https://www.reddit.com/r/Superstonks/comments/...</td>\n",
       "      <td>mkga8b</td>\n",
       "      <td>r/Superstonk</td>\n",
       "      <td>...</td>\n",
       "      <td>8</td>\n",
       "      <td>1</td>\n",
       "      <td>9</td>\n",
       "      <td>0</td>\n",
       "      <td>0</td>\n",
       "      <td>0</td>\n",
       "      <td>1</td>\n",
       "      <td>0</td>\n",
       "      <td>4</td>\n",
       "      <td>zero zero eight one zero zero nine zero one ze...</td>\n",
       "    </tr>\n",
       "    <tr>\n",
       "      <th>1</th>\n",
       "      <td>41438</td>\n",
       "      <td>mkhpr9</td>\n",
       "      <td>Superstonks</td>\n",
       "      <td>https://www.reddit.com/r/Superstonk/</td>\n",
       "      <td>fairytalee20</td>\n",
       "      <td>https://www.reddit.com/r/Superstonks/comments/...</td>\n",
       "      <td>1617619355</td>\n",
       "      <td>https://www.reddit.com/r/Superstonks/comments/...</td>\n",
       "      <td>mkhpr9</td>\n",
       "      <td>no_text</td>\n",
       "      <td>...</td>\n",
       "      <td>1</td>\n",
       "      <td>1</td>\n",
       "      <td>10</td>\n",
       "      <td>0</td>\n",
       "      <td>0</td>\n",
       "      <td>0</td>\n",
       "      <td>1</td>\n",
       "      <td>0</td>\n",
       "      <td>4</td>\n",
       "      <td>three zero one one zero zero ten zero one zero...</td>\n",
       "    </tr>\n",
       "  </tbody>\n",
       "</table>\n",
       "<p>2 rows × 34 columns</p>\n",
       "</div>"
      ],
      "text/plain": [
       "   Unnamed: 0      id    subreddit  \\\n",
       "0       41437  mkga8b  Superstonks   \n",
       "1       41438  mkhpr9  Superstonks   \n",
       "\n",
       "                                         title        author  \\\n",
       "0  The sub you are looking for is r/Superstonk    seppukkake   \n",
       "1         https://www.reddit.com/r/Superstonk/  fairytalee20   \n",
       "\n",
       "                                                 url     created  \\\n",
       "0  https://www.reddit.com/r/Superstonks/comments/...  1617613228   \n",
       "1  https://www.reddit.com/r/Superstonks/comments/...  1617619355   \n",
       "\n",
       "                                            ext_link    id.1          body  \\\n",
       "0  https://www.reddit.com/r/Superstonks/comments/...  mkga8b  r/Superstonk   \n",
       "1  https://www.reddit.com/r/Superstonks/comments/...  mkhpr9       no_text   \n",
       "\n",
       "   ...  title_length  body_length hour day title_EQ body_EQ prime_time  \\\n",
       "0  ...             8            1    9   0        0       0          1   \n",
       "1  ...             1            1   10   0        0       0          1   \n",
       "\n",
       "  weekend month                                     feats_joined_w  \n",
       "0       0     4  zero zero eight one zero zero nine zero one ze...  \n",
       "1       0     4  three zero one one zero zero ten zero one zero...  \n",
       "\n",
       "[2 rows x 34 columns]"
      ]
     },
     "execution_count": 29,
     "metadata": {},
     "output_type": "execute_result"
    }
   ],
   "source": [
    "cols = ['title_emoji', 'body_emoji', 'title_length',\n",
    "        'body_length','title_EQ','body_EQ', 'hour',\n",
    "        'day', 'prime_time', 'weekend', 'month']\n",
    "\n",
    "df['feats_joined_w'] = df[cols].apply(convert_nums, axis=1)\n",
    "df.head(2)"
   ]
  },
  {
   "cell_type": "code",
   "execution_count": 30,
   "id": "ef0faca9",
   "metadata": {
    "scrolled": true
   },
   "outputs": [
    {
     "data": {
      "text/html": [
       "<div>\n",
       "<style scoped>\n",
       "    .dataframe tbody tr th:only-of-type {\n",
       "        vertical-align: middle;\n",
       "    }\n",
       "\n",
       "    .dataframe tbody tr th {\n",
       "        vertical-align: top;\n",
       "    }\n",
       "\n",
       "    .dataframe thead th {\n",
       "        text-align: right;\n",
       "    }\n",
       "</style>\n",
       "<table border=\"1\" class=\"dataframe\">\n",
       "  <thead>\n",
       "    <tr style=\"text-align: right;\">\n",
       "      <th></th>\n",
       "      <th>Unnamed: 0</th>\n",
       "      <th>id</th>\n",
       "      <th>subreddit</th>\n",
       "      <th>title</th>\n",
       "      <th>author</th>\n",
       "      <th>url</th>\n",
       "      <th>created</th>\n",
       "      <th>ext_link</th>\n",
       "      <th>id.1</th>\n",
       "      <th>body</th>\n",
       "      <th>...</th>\n",
       "      <th>hour</th>\n",
       "      <th>day</th>\n",
       "      <th>title_EQ</th>\n",
       "      <th>body_EQ</th>\n",
       "      <th>prime_time</th>\n",
       "      <th>weekend</th>\n",
       "      <th>month</th>\n",
       "      <th>feats_joined_w</th>\n",
       "      <th>join1</th>\n",
       "      <th>join2</th>\n",
       "    </tr>\n",
       "  </thead>\n",
       "  <tbody>\n",
       "    <tr>\n",
       "      <th>0</th>\n",
       "      <td>41437</td>\n",
       "      <td>mkga8b</td>\n",
       "      <td>Superstonks</td>\n",
       "      <td>The sub you are looking for is r/Superstonk</td>\n",
       "      <td>seppukkake</td>\n",
       "      <td>https://www.reddit.com/r/Superstonks/comments/...</td>\n",
       "      <td>1617613228</td>\n",
       "      <td>https://www.reddit.com/r/Superstonks/comments/...</td>\n",
       "      <td>mkga8b</td>\n",
       "      <td>r/Superstonk</td>\n",
       "      <td>...</td>\n",
       "      <td>9</td>\n",
       "      <td>0</td>\n",
       "      <td>0</td>\n",
       "      <td>0</td>\n",
       "      <td>1</td>\n",
       "      <td>0</td>\n",
       "      <td>4</td>\n",
       "      <td>zero zero eight one zero zero nine zero one ze...</td>\n",
       "      <td>superstonks r superstonk sub looking r superst...</td>\n",
       "      <td>superstonks r superstonk sub looking r superst...</td>\n",
       "    </tr>\n",
       "    <tr>\n",
       "      <th>1</th>\n",
       "      <td>41438</td>\n",
       "      <td>mkhpr9</td>\n",
       "      <td>Superstonks</td>\n",
       "      <td>https://www.reddit.com/r/Superstonk/</td>\n",
       "      <td>fairytalee20</td>\n",
       "      <td>https://www.reddit.com/r/Superstonks/comments/...</td>\n",
       "      <td>1617619355</td>\n",
       "      <td>https://www.reddit.com/r/Superstonks/comments/...</td>\n",
       "      <td>mkhpr9</td>\n",
       "      <td>no_text</td>\n",
       "      <td>...</td>\n",
       "      <td>10</td>\n",
       "      <td>0</td>\n",
       "      <td>0</td>\n",
       "      <td>0</td>\n",
       "      <td>1</td>\n",
       "      <td>0</td>\n",
       "      <td>4</td>\n",
       "      <td>three zero one one zero zero ten zero one zero...</td>\n",
       "      <td>superstonks no_text https www reddit com r sup...</td>\n",
       "      <td>superstonks no_text https www reddit com r sup...</td>\n",
       "    </tr>\n",
       "  </tbody>\n",
       "</table>\n",
       "<p>2 rows × 36 columns</p>\n",
       "</div>"
      ],
      "text/plain": [
       "   Unnamed: 0      id    subreddit  \\\n",
       "0       41437  mkga8b  Superstonks   \n",
       "1       41438  mkhpr9  Superstonks   \n",
       "\n",
       "                                         title        author  \\\n",
       "0  The sub you are looking for is r/Superstonk    seppukkake   \n",
       "1         https://www.reddit.com/r/Superstonk/  fairytalee20   \n",
       "\n",
       "                                                 url     created  \\\n",
       "0  https://www.reddit.com/r/Superstonks/comments/...  1617613228   \n",
       "1  https://www.reddit.com/r/Superstonks/comments/...  1617619355   \n",
       "\n",
       "                                            ext_link    id.1          body  \\\n",
       "0  https://www.reddit.com/r/Superstonks/comments/...  mkga8b  r/Superstonk   \n",
       "1  https://www.reddit.com/r/Superstonks/comments/...  mkhpr9       no_text   \n",
       "\n",
       "   ...  hour  day title_EQ body_EQ prime_time weekend month  \\\n",
       "0  ...     9    0        0       0          1       0     4   \n",
       "1  ...    10    0        0       0          1       0     4   \n",
       "\n",
       "                                      feats_joined_w  \\\n",
       "0  zero zero eight one zero zero nine zero one ze...   \n",
       "1  three zero one one zero zero ten zero one zero...   \n",
       "\n",
       "                                               join1  \\\n",
       "0  superstonks r superstonk sub looking r superst...   \n",
       "1  superstonks no_text https www reddit com r sup...   \n",
       "\n",
       "                                               join2  \n",
       "0  superstonks r superstonk sub looking r superst...  \n",
       "1  superstonks no_text https www reddit com r sup...  \n",
       "\n",
       "[2 rows x 36 columns]"
      ]
     },
     "execution_count": 30,
     "metadata": {},
     "output_type": "execute_result"
    }
   ],
   "source": [
    "df['join1'] = df['subreddit'].str.lower() + ' ' + df['body_title_and_author']\n",
    "df['join2'] = df['join1'] + ' '+ df['feats_joined_w']\n",
    "df.head(2)"
   ]
  },
  {
   "cell_type": "markdown",
   "id": "fe19e109",
   "metadata": {},
   "source": [
    "## Split data by time"
   ]
  },
  {
   "cell_type": "code",
   "execution_count": 31,
   "id": "12e32e99",
   "metadata": {},
   "outputs": [
    {
     "data": {
      "text/html": [
       "<div>\n",
       "<style scoped>\n",
       "    .dataframe tbody tr th:only-of-type {\n",
       "        vertical-align: middle;\n",
       "    }\n",
       "\n",
       "    .dataframe tbody tr th {\n",
       "        vertical-align: top;\n",
       "    }\n",
       "\n",
       "    .dataframe thead th {\n",
       "        text-align: right;\n",
       "    }\n",
       "</style>\n",
       "<table border=\"1\" class=\"dataframe\">\n",
       "  <thead>\n",
       "    <tr style=\"text-align: right;\">\n",
       "      <th></th>\n",
       "      <th>Unnamed: 0</th>\n",
       "      <th>id</th>\n",
       "      <th>subreddit</th>\n",
       "      <th>title</th>\n",
       "      <th>author</th>\n",
       "      <th>url</th>\n",
       "      <th>created</th>\n",
       "      <th>ext_link</th>\n",
       "      <th>id.1</th>\n",
       "      <th>body</th>\n",
       "      <th>...</th>\n",
       "      <th>title_EQ</th>\n",
       "      <th>body_EQ</th>\n",
       "      <th>prime_time</th>\n",
       "      <th>weekend</th>\n",
       "      <th>month</th>\n",
       "      <th>feats_joined_w</th>\n",
       "      <th>join1</th>\n",
       "      <th>join2</th>\n",
       "      <th>posting_time</th>\n",
       "      <th>posting_month</th>\n",
       "    </tr>\n",
       "  </thead>\n",
       "  <tbody>\n",
       "    <tr>\n",
       "      <th>0</th>\n",
       "      <td>41437</td>\n",
       "      <td>mkga8b</td>\n",
       "      <td>Superstonks</td>\n",
       "      <td>The sub you are looking for is r/Superstonk</td>\n",
       "      <td>seppukkake</td>\n",
       "      <td>https://www.reddit.com/r/Superstonks/comments/...</td>\n",
       "      <td>1617613228</td>\n",
       "      <td>https://www.reddit.com/r/Superstonks/comments/...</td>\n",
       "      <td>mkga8b</td>\n",
       "      <td>r/Superstonk</td>\n",
       "      <td>...</td>\n",
       "      <td>0</td>\n",
       "      <td>0</td>\n",
       "      <td>1</td>\n",
       "      <td>0</td>\n",
       "      <td>4</td>\n",
       "      <td>zero zero eight one zero zero nine zero one ze...</td>\n",
       "      <td>superstonks r superstonk sub looking r superst...</td>\n",
       "      <td>superstonks r superstonk sub looking r superst...</td>\n",
       "      <td>2021-04-05 05:00:28</td>\n",
       "      <td>4</td>\n",
       "    </tr>\n",
       "    <tr>\n",
       "      <th>1</th>\n",
       "      <td>41438</td>\n",
       "      <td>mkhpr9</td>\n",
       "      <td>Superstonks</td>\n",
       "      <td>https://www.reddit.com/r/Superstonk/</td>\n",
       "      <td>fairytalee20</td>\n",
       "      <td>https://www.reddit.com/r/Superstonks/comments/...</td>\n",
       "      <td>1617619355</td>\n",
       "      <td>https://www.reddit.com/r/Superstonks/comments/...</td>\n",
       "      <td>mkhpr9</td>\n",
       "      <td>no_text</td>\n",
       "      <td>...</td>\n",
       "      <td>0</td>\n",
       "      <td>0</td>\n",
       "      <td>1</td>\n",
       "      <td>0</td>\n",
       "      <td>4</td>\n",
       "      <td>three zero one one zero zero ten zero one zero...</td>\n",
       "      <td>superstonks no_text https www reddit com r sup...</td>\n",
       "      <td>superstonks no_text https www reddit com r sup...</td>\n",
       "      <td>2021-04-05 06:42:35</td>\n",
       "      <td>4</td>\n",
       "    </tr>\n",
       "  </tbody>\n",
       "</table>\n",
       "<p>2 rows × 38 columns</p>\n",
       "</div>"
      ],
      "text/plain": [
       "   Unnamed: 0      id    subreddit  \\\n",
       "0       41437  mkga8b  Superstonks   \n",
       "1       41438  mkhpr9  Superstonks   \n",
       "\n",
       "                                         title        author  \\\n",
       "0  The sub you are looking for is r/Superstonk    seppukkake   \n",
       "1         https://www.reddit.com/r/Superstonk/  fairytalee20   \n",
       "\n",
       "                                                 url     created  \\\n",
       "0  https://www.reddit.com/r/Superstonks/comments/...  1617613228   \n",
       "1  https://www.reddit.com/r/Superstonks/comments/...  1617619355   \n",
       "\n",
       "                                            ext_link    id.1          body  \\\n",
       "0  https://www.reddit.com/r/Superstonks/comments/...  mkga8b  r/Superstonk   \n",
       "1  https://www.reddit.com/r/Superstonks/comments/...  mkhpr9       no_text   \n",
       "\n",
       "   ...  title_EQ  body_EQ prime_time weekend month  \\\n",
       "0  ...         0        0          1       0     4   \n",
       "1  ...         0        0          1       0     4   \n",
       "\n",
       "                                      feats_joined_w  \\\n",
       "0  zero zero eight one zero zero nine zero one ze...   \n",
       "1  three zero one one zero zero ten zero one zero...   \n",
       "\n",
       "                                               join1  \\\n",
       "0  superstonks r superstonk sub looking r superst...   \n",
       "1  superstonks no_text https www reddit com r sup...   \n",
       "\n",
       "                                               join2        posting_time  \\\n",
       "0  superstonks r superstonk sub looking r superst... 2021-04-05 05:00:28   \n",
       "1  superstonks no_text https www reddit com r sup... 2021-04-05 06:42:35   \n",
       "\n",
       "  posting_month  \n",
       "0             4  \n",
       "1             4  \n",
       "\n",
       "[2 rows x 38 columns]"
      ]
     },
     "execution_count": 31,
     "metadata": {},
     "output_type": "execute_result"
    }
   ],
   "source": [
    "df['posting_time'] = df['created'].apply(datetime.datetime.fromtimestamp)\n",
    "df['posting_month'] = df['posting_time'].apply(lambda dd: dd.month)\n",
    "df.head(2)"
   ]
  },
  {
   "cell_type": "code",
   "execution_count": 32,
   "id": "9f77394f",
   "metadata": {},
   "outputs": [],
   "source": [
    "df = df[[\"posting_month\", \"join1\", \"join2\", \"popular\"]]"
   ]
  },
  {
   "cell_type": "code",
   "execution_count": 33,
   "id": "44f9ede7",
   "metadata": {},
   "outputs": [],
   "source": [
    "df_train = df[df['posting_month']<4]\n",
    "df_test  = df[df['posting_month']==4]"
   ]
  },
  {
   "cell_type": "code",
   "execution_count": 34,
   "id": "eafbafe0",
   "metadata": {},
   "outputs": [
    {
     "name": "stdout",
     "output_type": "stream",
     "text": [
      "Training Shape: 99226,  Test shape: 27072\n"
     ]
    }
   ],
   "source": [
    "print (f\"Training Shape: {df_train.shape[0]},  Test shape: {df_test.shape[0]}\")"
   ]
  },
  {
   "cell_type": "code",
   "execution_count": null,
   "id": "77168b52",
   "metadata": {},
   "outputs": [],
   "source": []
  },
  {
   "cell_type": "code",
   "execution_count": null,
   "id": "21d6268b",
   "metadata": {},
   "outputs": [],
   "source": []
  },
  {
   "cell_type": "code",
   "execution_count": null,
   "id": "7cfb5a76",
   "metadata": {},
   "outputs": [],
   "source": []
  },
  {
   "cell_type": "markdown",
   "id": "0368eb8a",
   "metadata": {},
   "source": [
    "## Convert Text to Vectors"
   ]
  },
  {
   "cell_type": "code",
   "execution_count": 35,
   "id": "22ec6945",
   "metadata": {},
   "outputs": [],
   "source": [
    "xcol = 'join2'\n",
    "ycol = 'popular'"
   ]
  },
  {
   "cell_type": "markdown",
   "id": "37a3bff9",
   "metadata": {},
   "source": [
    "# TFIDF"
   ]
  },
  {
   "cell_type": "code",
   "execution_count": 35,
   "id": "dda452b1",
   "metadata": {},
   "outputs": [],
   "source": [
    "def train_LR(df_train=df_train,\n",
    "             df_test=df_test,\n",
    "             xcol = 'all_joined',\n",
    "             ycol = 'popular',\n",
    "             normalize = True\n",
    "             tfidf=True):\n",
    "    vectorizer = TfidfVectorizer(use_idf=True, max_df=0.95)\n",
    "    vectorizer.fit(df_train[xcol].values)\n",
    "\n",
    "    X_train = vectorizer.transform(df_train[xcol].values)\n",
    "    X_test  = vectorizer.transform(df_test[xcol].values)\n",
    "\n",
    "    if normalize:\n",
    "        \n",
    "    \n",
    "    y_train = df_train[ycol].values\n",
    "    y_test  = df_test[ycol].values\n",
    "    \n",
    "    model = LogisticRegression(max_iter=1000)\n",
    "    model.fit(X_train, y_train)\n",
    "    \n",
    "    return model, X_train, y_train, X_test, y_test, vectorizer\n",
    "\n",
    "model1, X_train1, y_train1, X_test1, y_test1, vectorizer1 = train_LR(xcol = 'all_joined')"
   ]
  },
  {
   "cell_type": "code",
   "execution_count": 36,
   "id": "cd2e0eee",
   "metadata": {},
   "outputs": [
    {
     "data": {
      "text/plain": [
       "<sklearn.metrics._plot.precision_recall_curve.PrecisionRecallDisplay at 0x1275027f0>"
      ]
     },
     "execution_count": 36,
     "metadata": {},
     "output_type": "execute_result"
    },
    {
     "data": {
      "image/png": "[encoded data removed]",
      "text/plain": [
       "<Figure size 432x288 with 1 Axes>"
      ]
     },
     "metadata": {
      "needs_background": "light"
     },
     "output_type": "display_data"
    }
   ],
   "source": [
    "fig, ax = plt.subplots(1,1, figsize=(6,4))\n",
    "plot_precision_recall_curve(model1, X_train1, y_train1, ax=ax, label=\"Train\")\n",
    "plot_precision_recall_curve(model1, X_test1, y_test1, ax=ax, label=\"Test\")"
   ]
  },
  {
   "cell_type": "code",
   "execution_count": 37,
   "id": "b49f2f05",
   "metadata": {},
   "outputs": [],
   "source": [
    "model2, X_train2, y_train2, X_test2, y_test2, vectorizer2 = train_LR(xcol = 'bta_sub')"
   ]
  },
  {
   "cell_type": "code",
   "execution_count": 38,
   "id": "96a057cb",
   "metadata": {},
   "outputs": [
    {
     "data": {
      "text/plain": [
       "<sklearn.metrics._plot.precision_recall_curve.PrecisionRecallDisplay at 0x127c34c70>"
      ]
     },
     "execution_count": 38,
     "metadata": {},
     "output_type": "execute_result"
    },
    {
     "data": {
      "image/png": "[encoded data removed]",
      "text/plain": [
       "<Figure size 432x288 with 1 Axes>"
      ]
     },
     "metadata": {
      "needs_background": "light"
     },
     "output_type": "display_data"
    }
   ],
   "source": [
    "fig, ax = plt.subplots(1,1, figsize=(6,4))\n",
    "plot_precision_recall_curve(model2, X_train2, y_train2, ax=ax, label=\"Train\")\n",
    "plot_precision_recall_curve(model2, X_test2, y_test2, ax=ax, label=\"Test\")"
   ]
  },
  {
   "cell_type": "code",
   "execution_count": 41,
   "id": "627cb63d",
   "metadata": {},
   "outputs": [
    {
     "data": {
      "text/plain": [
       "<sklearn.metrics._plot.precision_recall_curve.PrecisionRecallDisplay at 0x1292d5190>"
      ]
     },
     "execution_count": 41,
     "metadata": {},
     "output_type": "execute_result"
    },
    {
     "data": {
      "image/png": "[encoded data removed]",
      "text/plain": [
       "<Figure size 576x504 with 1 Axes>"
      ]
     },
     "metadata": {},
     "output_type": "display_data"
    }
   ],
   "source": [
    "sns.set_style(style=\"whitegrid\")\n",
    "fig, ax = plt.subplots(1,1, figsize=(8,7))\n",
    "plot_precision_recall_curve(model1, X_train1, y_train1, ax=ax, label=\"Train: With Features\")\n",
    "plot_precision_recall_curve(model1, X_test1, y_test1, ax=ax, label=\"Test: With Features\")\n",
    "plot_precision_recall_curve(model2, X_train2, y_train2, ax=ax, label=\"Train: Text only\")\n",
    "plot_precision_recall_curve(model2, X_test2, y_test2, ax=ax, label=\"Test:  Text only\")"
   ]
  },
  {
   "cell_type": "code",
   "execution_count": null,
   "id": "9cfc4186",
   "metadata": {},
   "outputs": [],
   "source": []
  },
  {
   "cell_type": "code",
   "execution_count": null,
   "id": "0f107514",
   "metadata": {},
   "outputs": [],
   "source": [
    "# save models in case we need them\n"
   ]
  },
  {
   "cell_type": "code",
   "execution_count": 45,
   "id": "116bc548",
   "metadata": {},
   "outputs": [
    {
     "data": {
      "text/plain": [
       "array([0, 0, 0, ..., 0, 0, 0])"
      ]
     },
     "execution_count": 45,
     "metadata": {},
     "output_type": "execute_result"
    }
   ],
   "source": [
    "y_train1"
   ]
  },
  {
   "cell_type": "code",
   "execution_count": 46,
   "id": "0403dfd0",
   "metadata": {},
   "outputs": [
    {
     "data": {
      "text/plain": [
       "array([[0.98789315, 0.01210685],\n",
       "       [0.98891054, 0.01108946],\n",
       "       [0.90490502, 0.09509498],\n",
       "       ...,\n",
       "       [0.93273688, 0.06726312],\n",
       "       [0.9787247 , 0.0212753 ],\n",
       "       [0.94625003, 0.05374997]])"
      ]
     },
     "execution_count": 46,
     "metadata": {},
     "output_type": "execute_result"
    }
   ],
   "source": [
    "model1.predict_proba(X_train1)"
   ]
  },
  {
   "cell_type": "code",
   "execution_count": 52,
   "id": "0c99cf26",
   "metadata": {},
   "outputs": [],
   "source": [
    "pr_train, re_train, th_train = precision_recall_curve(y_train1, model1.predict_proba(X_train1)[:,1] )\n",
    "pr_test, re_test, th_test = precision_recall_curve(y_test1,  model1.predict_proba(X_test1)[:,1] )\n"
   ]
  },
  {
   "cell_type": "code",
   "execution_count": null,
   "id": "c80ff35c",
   "metadata": {},
   "outputs": [],
   "source": [
    "pr_train, re_train, th_train, pr_test, re_test, th_test"
   ]
  },
  {
   "cell_type": "code",
   "execution_count": 62,
   "id": "b739fc0d",
   "metadata": {},
   "outputs": [
    {
     "data": {
      "text/plain": [
       "((97211,), (97211,), (97210,))"
      ]
     },
     "execution_count": 62,
     "metadata": {},
     "output_type": "execute_result"
    }
   ],
   "source": [
    "pr_train.shape, re_train.shape, th_train.shape"
   ]
  },
  {
   "cell_type": "code",
   "execution_count": 65,
   "id": "c2336725",
   "metadata": {},
   "outputs": [],
   "source": [
    "pr_re_train = np.stack([pr_train, re_train], axis=1)\n",
    "pr_re_test  = np.stack([pr_test, re_test], axis=1)\n"
   ]
  },
  {
   "cell_type": "code",
   "execution_count": 66,
   "id": "d651bebd",
   "metadata": {},
   "outputs": [],
   "source": [
    "np.savetxt('pr_re_train.dat', pr_re_train)\n",
    "np.savetxt('pr_re_test.dat', pr_re_test)\n"
   ]
  },
  {
   "cell_type": "code",
   "execution_count": 67,
   "id": "c9da7eeb",
   "metadata": {},
   "outputs": [],
   "source": [
    "f = 'pr_re_train.dat'\n",
    "dat = np.loadtxt(f)"
   ]
  },
  {
   "cell_type": "markdown",
   "id": "b305af1c",
   "metadata": {},
   "source": [
    "That looked promising. So let me try with more features."
   ]
  },
  {
   "cell_type": "code",
   "execution_count": 72,
   "id": "a4e28bbe",
   "metadata": {},
   "outputs": [
    {
     "data": {
      "text/html": [
       "<div>\n",
       "<style scoped>\n",
       "    .dataframe tbody tr th:only-of-type {\n",
       "        vertical-align: middle;\n",
       "    }\n",
       "\n",
       "    .dataframe tbody tr th {\n",
       "        vertical-align: top;\n",
       "    }\n",
       "\n",
       "    .dataframe thead th {\n",
       "        text-align: right;\n",
       "    }\n",
       "</style>\n",
       "<table border=\"1\" class=\"dataframe\">\n",
       "  <thead>\n",
       "    <tr style=\"text-align: right;\">\n",
       "      <th></th>\n",
       "      <th>Unnamed: 0</th>\n",
       "      <th>id</th>\n",
       "      <th>subreddit</th>\n",
       "      <th>title</th>\n",
       "      <th>author</th>\n",
       "      <th>url</th>\n",
       "      <th>created</th>\n",
       "      <th>ext_link</th>\n",
       "      <th>id.1</th>\n",
       "      <th>body</th>\n",
       "      <th>...</th>\n",
       "      <th>hour</th>\n",
       "      <th>day</th>\n",
       "      <th>title_emoji_w</th>\n",
       "      <th>body_emoji_w</th>\n",
       "      <th>title_length_w</th>\n",
       "      <th>body_length_w</th>\n",
       "      <th>hour_w</th>\n",
       "      <th>day_w</th>\n",
       "      <th>bta_sub</th>\n",
       "      <th>all_joined</th>\n",
       "    </tr>\n",
       "  </thead>\n",
       "  <tbody>\n",
       "    <tr>\n",
       "      <th>0</th>\n",
       "      <td>41437</td>\n",
       "      <td>mkga8b</td>\n",
       "      <td>Superstonks</td>\n",
       "      <td>The sub you are looking for is r/Superstonk</td>\n",
       "      <td>seppukkake</td>\n",
       "      <td>https://www.reddit.com/r/Superstonks/comments/...</td>\n",
       "      <td>1617613228</td>\n",
       "      <td>https://www.reddit.com/r/Superstonks/comments/...</td>\n",
       "      <td>mkga8b</td>\n",
       "      <td>r/Superstonk</td>\n",
       "      <td>...</td>\n",
       "      <td>9</td>\n",
       "      <td>0</td>\n",
       "      <td>zero</td>\n",
       "      <td>zero</td>\n",
       "      <td>eight</td>\n",
       "      <td>one</td>\n",
       "      <td>nine</td>\n",
       "      <td>zero</td>\n",
       "      <td>superstonks r superstonk sub looking r superst...</td>\n",
       "      <td>superstonks r superstonk sub looking r superst...</td>\n",
       "    </tr>\n",
       "    <tr>\n",
       "      <th>1</th>\n",
       "      <td>41438</td>\n",
       "      <td>mkhpr9</td>\n",
       "      <td>Superstonks</td>\n",
       "      <td>https://www.reddit.com/r/Superstonk/</td>\n",
       "      <td>fairytalee20</td>\n",
       "      <td>https://www.reddit.com/r/Superstonks/comments/...</td>\n",
       "      <td>1617619355</td>\n",
       "      <td>https://www.reddit.com/r/Superstonks/comments/...</td>\n",
       "      <td>mkhpr9</td>\n",
       "      <td>no_text</td>\n",
       "      <td>...</td>\n",
       "      <td>10</td>\n",
       "      <td>0</td>\n",
       "      <td>three</td>\n",
       "      <td>zero</td>\n",
       "      <td>one</td>\n",
       "      <td>one</td>\n",
       "      <td>ten</td>\n",
       "      <td>zero</td>\n",
       "      <td>superstonks no_text https www reddit com r sup...</td>\n",
       "      <td>superstonks no_text https www reddit com r sup...</td>\n",
       "    </tr>\n",
       "  </tbody>\n",
       "</table>\n",
       "<p>2 rows × 36 columns</p>\n",
       "</div>"
      ],
      "text/plain": [
       "   Unnamed: 0      id    subreddit  \\\n",
       "0       41437  mkga8b  Superstonks   \n",
       "1       41438  mkhpr9  Superstonks   \n",
       "\n",
       "                                         title        author  \\\n",
       "0  The sub you are looking for is r/Superstonk    seppukkake   \n",
       "1         https://www.reddit.com/r/Superstonk/  fairytalee20   \n",
       "\n",
       "                                                 url     created  \\\n",
       "0  https://www.reddit.com/r/Superstonks/comments/...  1617613228   \n",
       "1  https://www.reddit.com/r/Superstonks/comments/...  1617619355   \n",
       "\n",
       "                                            ext_link    id.1          body  \\\n",
       "0  https://www.reddit.com/r/Superstonks/comments/...  mkga8b  r/Superstonk   \n",
       "1  https://www.reddit.com/r/Superstonks/comments/...  mkhpr9       no_text   \n",
       "\n",
       "   ...  hour  day title_emoji_w body_emoji_w title_length_w body_length_w  \\\n",
       "0  ...     9    0          zero         zero          eight           one   \n",
       "1  ...    10    0         three         zero            one           one   \n",
       "\n",
       "  hour_w day_w                                            bta_sub  \\\n",
       "0   nine  zero  superstonks r superstonk sub looking r superst...   \n",
       "1    ten  zero  superstonks no_text https www reddit com r sup...   \n",
       "\n",
       "                                          all_joined  \n",
       "0  superstonks r superstonk sub looking r superst...  \n",
       "1  superstonks no_text https www reddit com r sup...  \n",
       "\n",
       "[2 rows x 36 columns]"
      ]
     },
     "execution_count": 72,
     "metadata": {},
     "output_type": "execute_result"
    }
   ],
   "source": [
    "df.head(2)"
   ]
  },
  {
   "cell_type": "code",
   "execution_count": 77,
   "id": "8527ce6a",
   "metadata": {},
   "outputs": [],
   "source": [
    "df['title_emoji'] = df['title'].apply(emoji_count)\n",
    "df['body_emoji'] = df['body'].apply(emoji_count)\n",
    "df['title_length'] = df['title'].apply(textLength)\n",
    "df['body_length'] = df['body'].apply(textLength)\n",
    "df['title_EQ'] = df['title'].apply(exclamationAndQuestion)\n",
    "df['body_EQ'] = df['body'].apply(exclamationAndQuestion)\n",
    "df['title_UL'] = df['title'].apply(countUpper)\n",
    "df['body_UL'] = df['body'].apply(countUpper)    \n",
    "df['hour'] = df['created'].apply(hourOfDay)\n",
    "df['day'] = df['created'].apply(dayOfWeek)\n",
    "df['post_type'] = df['ext_link'].apply(postType)\n",
    "df['prime_time'] = df['hour'].apply(primeTime)\n",
    "df['weekend'] = df['day'].apply(weekend)\n",
    "df['month'] = df['created'].apply(getMonth)"
   ]
  },
  {
   "cell_type": "code",
   "execution_count": 79,
   "id": "49b5b2cc",
   "metadata": {},
   "outputs": [
    {
     "data": {
      "text/html": [
       "<div>\n",
       "<style scoped>\n",
       "    .dataframe tbody tr th:only-of-type {\n",
       "        vertical-align: middle;\n",
       "    }\n",
       "\n",
       "    .dataframe tbody tr th {\n",
       "        vertical-align: top;\n",
       "    }\n",
       "\n",
       "    .dataframe thead th {\n",
       "        text-align: right;\n",
       "    }\n",
       "</style>\n",
       "<table border=\"1\" class=\"dataframe\">\n",
       "  <thead>\n",
       "    <tr style=\"text-align: right;\">\n",
       "      <th></th>\n",
       "      <th>Unnamed: 0</th>\n",
       "      <th>id</th>\n",
       "      <th>subreddit</th>\n",
       "      <th>title</th>\n",
       "      <th>author</th>\n",
       "      <th>url</th>\n",
       "      <th>created</th>\n",
       "      <th>ext_link</th>\n",
       "      <th>id.1</th>\n",
       "      <th>body</th>\n",
       "      <th>...</th>\n",
       "      <th>bta_sub</th>\n",
       "      <th>all_joined</th>\n",
       "      <th>title_EQ</th>\n",
       "      <th>body_EQ</th>\n",
       "      <th>title_UL</th>\n",
       "      <th>body_UL</th>\n",
       "      <th>post_type</th>\n",
       "      <th>prime_time</th>\n",
       "      <th>weekend</th>\n",
       "      <th>month</th>\n",
       "    </tr>\n",
       "  </thead>\n",
       "  <tbody>\n",
       "    <tr>\n",
       "      <th>0</th>\n",
       "      <td>41437</td>\n",
       "      <td>mkga8b</td>\n",
       "      <td>Superstonks</td>\n",
       "      <td>The sub you are looking for is r/Superstonk</td>\n",
       "      <td>seppukkake</td>\n",
       "      <td>https://www.reddit.com/r/Superstonks/comments/...</td>\n",
       "      <td>1617613228</td>\n",
       "      <td>https://www.reddit.com/r/Superstonks/comments/...</td>\n",
       "      <td>mkga8b</td>\n",
       "      <td>r/Superstonk</td>\n",
       "      <td>...</td>\n",
       "      <td>superstonks r superstonk sub looking r superst...</td>\n",
       "      <td>superstonks r superstonk sub looking r superst...</td>\n",
       "      <td>0</td>\n",
       "      <td>0</td>\n",
       "      <td>0.057143</td>\n",
       "      <td>0.090909</td>\n",
       "      <td>others</td>\n",
       "      <td>1</td>\n",
       "      <td>0</td>\n",
       "      <td>4</td>\n",
       "    </tr>\n",
       "    <tr>\n",
       "      <th>1</th>\n",
       "      <td>41438</td>\n",
       "      <td>mkhpr9</td>\n",
       "      <td>Superstonks</td>\n",
       "      <td>https://www.reddit.com/r/Superstonk/</td>\n",
       "      <td>fairytalee20</td>\n",
       "      <td>https://www.reddit.com/r/Superstonks/comments/...</td>\n",
       "      <td>1617619355</td>\n",
       "      <td>https://www.reddit.com/r/Superstonks/comments/...</td>\n",
       "      <td>mkhpr9</td>\n",
       "      <td>no_text</td>\n",
       "      <td>...</td>\n",
       "      <td>superstonks no_text https www reddit com r sup...</td>\n",
       "      <td>superstonks no_text https www reddit com r sup...</td>\n",
       "      <td>0</td>\n",
       "      <td>0</td>\n",
       "      <td>0.035714</td>\n",
       "      <td>0.000000</td>\n",
       "      <td>others</td>\n",
       "      <td>1</td>\n",
       "      <td>0</td>\n",
       "      <td>4</td>\n",
       "    </tr>\n",
       "  </tbody>\n",
       "</table>\n",
       "<p>2 rows × 44 columns</p>\n",
       "</div>"
      ],
      "text/plain": [
       "   Unnamed: 0      id    subreddit  \\\n",
       "0       41437  mkga8b  Superstonks   \n",
       "1       41438  mkhpr9  Superstonks   \n",
       "\n",
       "                                         title        author  \\\n",
       "0  The sub you are looking for is r/Superstonk    seppukkake   \n",
       "1         https://www.reddit.com/r/Superstonk/  fairytalee20   \n",
       "\n",
       "                                                 url     created  \\\n",
       "0  https://www.reddit.com/r/Superstonks/comments/...  1617613228   \n",
       "1  https://www.reddit.com/r/Superstonks/comments/...  1617619355   \n",
       "\n",
       "                                            ext_link    id.1          body  \\\n",
       "0  https://www.reddit.com/r/Superstonks/comments/...  mkga8b  r/Superstonk   \n",
       "1  https://www.reddit.com/r/Superstonks/comments/...  mkhpr9       no_text   \n",
       "\n",
       "   ...                                            bta_sub  \\\n",
       "0  ...  superstonks r superstonk sub looking r superst...   \n",
       "1  ...  superstonks no_text https www reddit com r sup...   \n",
       "\n",
       "                                          all_joined title_EQ body_EQ  \\\n",
       "0  superstonks r superstonk sub looking r superst...        0       0   \n",
       "1  superstonks no_text https www reddit com r sup...        0       0   \n",
       "\n",
       "   title_UL   body_UL post_type prime_time weekend month  \n",
       "0  0.057143  0.090909    others          1       0     4  \n",
       "1  0.035714  0.000000    others          1       0     4  \n",
       "\n",
       "[2 rows x 44 columns]"
      ]
     },
     "execution_count": 79,
     "metadata": {},
     "output_type": "execute_result"
    }
   ],
   "source": [
    "df.head(2)"
   ]
  },
  {
   "cell_type": "code",
   "execution_count": 126,
   "id": "a00713fb",
   "metadata": {},
   "outputs": [],
   "source": [
    "cols = ['title_emoji', 'body_emoji', 'title_length',\n",
    "        'body_length','title_EQ','body_EQ', 'hour',\n",
    "        'day', 'prime_time', 'weekend', 'month']\n",
    "# following features are not integers so remove them\n",
    "#title_UL\tbody_UL\tpost_type"
   ]
  },
  {
   "cell_type": "code",
   "execution_count": 127,
   "id": "31fd8860",
   "metadata": {},
   "outputs": [
    {
     "data": {
      "text/html": [
       "<div>\n",
       "<style scoped>\n",
       "    .dataframe tbody tr th:only-of-type {\n",
       "        vertical-align: middle;\n",
       "    }\n",
       "\n",
       "    .dataframe tbody tr th {\n",
       "        vertical-align: top;\n",
       "    }\n",
       "\n",
       "    .dataframe thead th {\n",
       "        text-align: right;\n",
       "    }\n",
       "</style>\n",
       "<table border=\"1\" class=\"dataframe\">\n",
       "  <thead>\n",
       "    <tr style=\"text-align: right;\">\n",
       "      <th></th>\n",
       "      <th>Unnamed: 0</th>\n",
       "      <th>id</th>\n",
       "      <th>subreddit</th>\n",
       "      <th>title</th>\n",
       "      <th>author</th>\n",
       "      <th>url</th>\n",
       "      <th>created</th>\n",
       "      <th>ext_link</th>\n",
       "      <th>id.1</th>\n",
       "      <th>body</th>\n",
       "      <th>...</th>\n",
       "      <th>title_EQ</th>\n",
       "      <th>body_EQ</th>\n",
       "      <th>title_UL</th>\n",
       "      <th>body_UL</th>\n",
       "      <th>post_type</th>\n",
       "      <th>prime_time</th>\n",
       "      <th>weekend</th>\n",
       "      <th>month</th>\n",
       "      <th>feats_w</th>\n",
       "      <th>joined_full</th>\n",
       "    </tr>\n",
       "  </thead>\n",
       "  <tbody>\n",
       "    <tr>\n",
       "      <th>0</th>\n",
       "      <td>41437</td>\n",
       "      <td>mkga8b</td>\n",
       "      <td>Superstonks</td>\n",
       "      <td>The sub you are looking for is r/Superstonk</td>\n",
       "      <td>seppukkake</td>\n",
       "      <td>https://www.reddit.com/r/Superstonks/comments/...</td>\n",
       "      <td>1617613228</td>\n",
       "      <td>https://www.reddit.com/r/Superstonks/comments/...</td>\n",
       "      <td>mkga8b</td>\n",
       "      <td>r/Superstonk</td>\n",
       "      <td>...</td>\n",
       "      <td>0</td>\n",
       "      <td>0</td>\n",
       "      <td>0.057143</td>\n",
       "      <td>0.090909</td>\n",
       "      <td>others</td>\n",
       "      <td>1</td>\n",
       "      <td>0</td>\n",
       "      <td>4</td>\n",
       "      <td>zero zero eight one nine zero</td>\n",
       "      <td>zero zero eight one nine zero</td>\n",
       "    </tr>\n",
       "    <tr>\n",
       "      <th>1</th>\n",
       "      <td>41438</td>\n",
       "      <td>mkhpr9</td>\n",
       "      <td>Superstonks</td>\n",
       "      <td>https://www.reddit.com/r/Superstonk/</td>\n",
       "      <td>fairytalee20</td>\n",
       "      <td>https://www.reddit.com/r/Superstonks/comments/...</td>\n",
       "      <td>1617619355</td>\n",
       "      <td>https://www.reddit.com/r/Superstonks/comments/...</td>\n",
       "      <td>mkhpr9</td>\n",
       "      <td>no_text</td>\n",
       "      <td>...</td>\n",
       "      <td>0</td>\n",
       "      <td>0</td>\n",
       "      <td>0.035714</td>\n",
       "      <td>0.000000</td>\n",
       "      <td>others</td>\n",
       "      <td>1</td>\n",
       "      <td>0</td>\n",
       "      <td>4</td>\n",
       "      <td>three zero one one ten zero</td>\n",
       "      <td>three zero one one ten zero</td>\n",
       "    </tr>\n",
       "  </tbody>\n",
       "</table>\n",
       "<p>2 rows × 46 columns</p>\n",
       "</div>"
      ],
      "text/plain": [
       "   Unnamed: 0      id    subreddit  \\\n",
       "0       41437  mkga8b  Superstonks   \n",
       "1       41438  mkhpr9  Superstonks   \n",
       "\n",
       "                                         title        author  \\\n",
       "0  The sub you are looking for is r/Superstonk    seppukkake   \n",
       "1         https://www.reddit.com/r/Superstonk/  fairytalee20   \n",
       "\n",
       "                                                 url     created  \\\n",
       "0  https://www.reddit.com/r/Superstonks/comments/...  1617613228   \n",
       "1  https://www.reddit.com/r/Superstonks/comments/...  1617619355   \n",
       "\n",
       "                                            ext_link    id.1          body  \\\n",
       "0  https://www.reddit.com/r/Superstonks/comments/...  mkga8b  r/Superstonk   \n",
       "1  https://www.reddit.com/r/Superstonks/comments/...  mkhpr9       no_text   \n",
       "\n",
       "   ...  title_EQ  body_EQ  title_UL   body_UL post_type prime_time weekend  \\\n",
       "0  ...         0        0  0.057143  0.090909    others          1       0   \n",
       "1  ...         0        0  0.035714  0.000000    others          1       0   \n",
       "\n",
       "  month                        feats_w                    joined_full  \n",
       "0     4  zero zero eight one nine zero  zero zero eight one nine zero  \n",
       "1     4    three zero one one ten zero    three zero one one ten zero  \n",
       "\n",
       "[2 rows x 46 columns]"
      ]
     },
     "execution_count": 127,
     "metadata": {},
     "output_type": "execute_result"
    }
   ],
   "source": [
    "df.head(2)"
   ]
  },
  {
   "cell_type": "code",
   "execution_count": 128,
   "id": "c5816de8",
   "metadata": {},
   "outputs": [
    {
     "data": {
      "text/plain": [
       "'zero twelve forty_four one_hundred_and_twenty_three'"
      ]
     },
     "execution_count": 128,
     "metadata": {},
     "output_type": "execute_result"
    }
   ],
   "source": [
    "def convert_nums(nums):\n",
    "    return \" \".join([get_num2words(num) for num in nums])\n",
    "\n",
    "convert_nums([0, 12, 44, 123])"
   ]
  },
  {
   "cell_type": "code",
   "execution_count": 129,
   "id": "9e853118",
   "metadata": {},
   "outputs": [
    {
     "data": {
      "text/html": [
       "<div>\n",
       "<style scoped>\n",
       "    .dataframe tbody tr th:only-of-type {\n",
       "        vertical-align: middle;\n",
       "    }\n",
       "\n",
       "    .dataframe tbody tr th {\n",
       "        vertical-align: top;\n",
       "    }\n",
       "\n",
       "    .dataframe thead th {\n",
       "        text-align: right;\n",
       "    }\n",
       "</style>\n",
       "<table border=\"1\" class=\"dataframe\">\n",
       "  <thead>\n",
       "    <tr style=\"text-align: right;\">\n",
       "      <th></th>\n",
       "      <th>Unnamed: 0</th>\n",
       "      <th>id</th>\n",
       "      <th>subreddit</th>\n",
       "      <th>title</th>\n",
       "      <th>author</th>\n",
       "      <th>url</th>\n",
       "      <th>created</th>\n",
       "      <th>ext_link</th>\n",
       "      <th>id.1</th>\n",
       "      <th>body</th>\n",
       "      <th>...</th>\n",
       "      <th>body_EQ</th>\n",
       "      <th>title_UL</th>\n",
       "      <th>body_UL</th>\n",
       "      <th>post_type</th>\n",
       "      <th>prime_time</th>\n",
       "      <th>weekend</th>\n",
       "      <th>month</th>\n",
       "      <th>feats_w</th>\n",
       "      <th>joined_full</th>\n",
       "      <th>feats_joined_w</th>\n",
       "    </tr>\n",
       "  </thead>\n",
       "  <tbody>\n",
       "    <tr>\n",
       "      <th>0</th>\n",
       "      <td>41437</td>\n",
       "      <td>mkga8b</td>\n",
       "      <td>Superstonks</td>\n",
       "      <td>The sub you are looking for is r/Superstonk</td>\n",
       "      <td>seppukkake</td>\n",
       "      <td>https://www.reddit.com/r/Superstonks/comments/...</td>\n",
       "      <td>1617613228</td>\n",
       "      <td>https://www.reddit.com/r/Superstonks/comments/...</td>\n",
       "      <td>mkga8b</td>\n",
       "      <td>r/Superstonk</td>\n",
       "      <td>...</td>\n",
       "      <td>0</td>\n",
       "      <td>0.057143</td>\n",
       "      <td>0.090909</td>\n",
       "      <td>others</td>\n",
       "      <td>1</td>\n",
       "      <td>0</td>\n",
       "      <td>4</td>\n",
       "      <td>zero zero eight one nine zero</td>\n",
       "      <td>zero zero eight one nine zero</td>\n",
       "      <td>zero zero eight one zero zero nine zero one ze...</td>\n",
       "    </tr>\n",
       "    <tr>\n",
       "      <th>1</th>\n",
       "      <td>41438</td>\n",
       "      <td>mkhpr9</td>\n",
       "      <td>Superstonks</td>\n",
       "      <td>https://www.reddit.com/r/Superstonk/</td>\n",
       "      <td>fairytalee20</td>\n",
       "      <td>https://www.reddit.com/r/Superstonks/comments/...</td>\n",
       "      <td>1617619355</td>\n",
       "      <td>https://www.reddit.com/r/Superstonks/comments/...</td>\n",
       "      <td>mkhpr9</td>\n",
       "      <td>no_text</td>\n",
       "      <td>...</td>\n",
       "      <td>0</td>\n",
       "      <td>0.035714</td>\n",
       "      <td>0.000000</td>\n",
       "      <td>others</td>\n",
       "      <td>1</td>\n",
       "      <td>0</td>\n",
       "      <td>4</td>\n",
       "      <td>three zero one one ten zero</td>\n",
       "      <td>three zero one one ten zero</td>\n",
       "      <td>three zero one one zero zero ten zero one zero...</td>\n",
       "    </tr>\n",
       "  </tbody>\n",
       "</table>\n",
       "<p>2 rows × 47 columns</p>\n",
       "</div>"
      ],
      "text/plain": [
       "   Unnamed: 0      id    subreddit  \\\n",
       "0       41437  mkga8b  Superstonks   \n",
       "1       41438  mkhpr9  Superstonks   \n",
       "\n",
       "                                         title        author  \\\n",
       "0  The sub you are looking for is r/Superstonk    seppukkake   \n",
       "1         https://www.reddit.com/r/Superstonk/  fairytalee20   \n",
       "\n",
       "                                                 url     created  \\\n",
       "0  https://www.reddit.com/r/Superstonks/comments/...  1617613228   \n",
       "1  https://www.reddit.com/r/Superstonks/comments/...  1617619355   \n",
       "\n",
       "                                            ext_link    id.1          body  \\\n",
       "0  https://www.reddit.com/r/Superstonks/comments/...  mkga8b  r/Superstonk   \n",
       "1  https://www.reddit.com/r/Superstonks/comments/...  mkhpr9       no_text   \n",
       "\n",
       "   ...  body_EQ  title_UL   body_UL post_type prime_time weekend month  \\\n",
       "0  ...        0  0.057143  0.090909    others          1       0     4   \n",
       "1  ...        0  0.035714  0.000000    others          1       0     4   \n",
       "\n",
       "                         feats_w                    joined_full  \\\n",
       "0  zero zero eight one nine zero  zero zero eight one nine zero   \n",
       "1    three zero one one ten zero    three zero one one ten zero   \n",
       "\n",
       "                                      feats_joined_w  \n",
       "0  zero zero eight one zero zero nine zero one ze...  \n",
       "1  three zero one one zero zero ten zero one zero...  \n",
       "\n",
       "[2 rows x 47 columns]"
      ]
     },
     "execution_count": 129,
     "metadata": {},
     "output_type": "execute_result"
    }
   ],
   "source": [
    "df['feats_joined_w'] = df[cols].apply(convert_nums, axis=1)\n",
    "df.head(2)"
   ]
  },
  {
   "cell_type": "code",
   "execution_count": 130,
   "id": "5ad4e995",
   "metadata": {},
   "outputs": [
    {
     "data": {
      "text/plain": [
       "0    zero zero eight one zero zero nine zero one ze...\n",
       "1    three zero one one zero zero ten zero one zero...\n",
       "Name: feats_joined_w, dtype: object"
      ]
     },
     "execution_count": 130,
     "metadata": {},
     "output_type": "execute_result"
    }
   ],
   "source": [
    "df['feats_joined_w'].head(2)"
   ]
  },
  {
   "cell_type": "code",
   "execution_count": 132,
   "id": "f4eba3f1",
   "metadata": {},
   "outputs": [
    {
     "data": {
      "text/html": [
       "<div>\n",
       "<style scoped>\n",
       "    .dataframe tbody tr th:only-of-type {\n",
       "        vertical-align: middle;\n",
       "    }\n",
       "\n",
       "    .dataframe tbody tr th {\n",
       "        vertical-align: top;\n",
       "    }\n",
       "\n",
       "    .dataframe thead th {\n",
       "        text-align: right;\n",
       "    }\n",
       "</style>\n",
       "<table border=\"1\" class=\"dataframe\">\n",
       "  <thead>\n",
       "    <tr style=\"text-align: right;\">\n",
       "      <th></th>\n",
       "      <th>Unnamed: 0</th>\n",
       "      <th>id</th>\n",
       "      <th>subreddit</th>\n",
       "      <th>title</th>\n",
       "      <th>author</th>\n",
       "      <th>url</th>\n",
       "      <th>created</th>\n",
       "      <th>ext_link</th>\n",
       "      <th>id.1</th>\n",
       "      <th>body</th>\n",
       "      <th>...</th>\n",
       "      <th>title_UL</th>\n",
       "      <th>body_UL</th>\n",
       "      <th>post_type</th>\n",
       "      <th>prime_time</th>\n",
       "      <th>weekend</th>\n",
       "      <th>month</th>\n",
       "      <th>feats_w</th>\n",
       "      <th>joined_full</th>\n",
       "      <th>feats_joined_w</th>\n",
       "      <th>all_joined2</th>\n",
       "    </tr>\n",
       "  </thead>\n",
       "  <tbody>\n",
       "    <tr>\n",
       "      <th>0</th>\n",
       "      <td>41437</td>\n",
       "      <td>mkga8b</td>\n",
       "      <td>Superstonks</td>\n",
       "      <td>The sub you are looking for is r/Superstonk</td>\n",
       "      <td>seppukkake</td>\n",
       "      <td>https://www.reddit.com/r/Superstonks/comments/...</td>\n",
       "      <td>1617613228</td>\n",
       "      <td>https://www.reddit.com/r/Superstonks/comments/...</td>\n",
       "      <td>mkga8b</td>\n",
       "      <td>r/Superstonk</td>\n",
       "      <td>...</td>\n",
       "      <td>0.057143</td>\n",
       "      <td>0.090909</td>\n",
       "      <td>others</td>\n",
       "      <td>1</td>\n",
       "      <td>0</td>\n",
       "      <td>4</td>\n",
       "      <td>zero zero eight one nine zero</td>\n",
       "      <td>zero zero eight one nine zero</td>\n",
       "      <td>zero zero eight one zero zero nine zero one ze...</td>\n",
       "      <td>superstonks r superstonk sub looking r superst...</td>\n",
       "    </tr>\n",
       "    <tr>\n",
       "      <th>1</th>\n",
       "      <td>41438</td>\n",
       "      <td>mkhpr9</td>\n",
       "      <td>Superstonks</td>\n",
       "      <td>https://www.reddit.com/r/Superstonk/</td>\n",
       "      <td>fairytalee20</td>\n",
       "      <td>https://www.reddit.com/r/Superstonks/comments/...</td>\n",
       "      <td>1617619355</td>\n",
       "      <td>https://www.reddit.com/r/Superstonks/comments/...</td>\n",
       "      <td>mkhpr9</td>\n",
       "      <td>no_text</td>\n",
       "      <td>...</td>\n",
       "      <td>0.035714</td>\n",
       "      <td>0.000000</td>\n",
       "      <td>others</td>\n",
       "      <td>1</td>\n",
       "      <td>0</td>\n",
       "      <td>4</td>\n",
       "      <td>three zero one one ten zero</td>\n",
       "      <td>three zero one one ten zero</td>\n",
       "      <td>three zero one one zero zero ten zero one zero...</td>\n",
       "      <td>superstonks no_text https www reddit com r sup...</td>\n",
       "    </tr>\n",
       "  </tbody>\n",
       "</table>\n",
       "<p>2 rows × 48 columns</p>\n",
       "</div>"
      ],
      "text/plain": [
       "   Unnamed: 0      id    subreddit  \\\n",
       "0       41437  mkga8b  Superstonks   \n",
       "1       41438  mkhpr9  Superstonks   \n",
       "\n",
       "                                         title        author  \\\n",
       "0  The sub you are looking for is r/Superstonk    seppukkake   \n",
       "1         https://www.reddit.com/r/Superstonk/  fairytalee20   \n",
       "\n",
       "                                                 url     created  \\\n",
       "0  https://www.reddit.com/r/Superstonks/comments/...  1617613228   \n",
       "1  https://www.reddit.com/r/Superstonks/comments/...  1617619355   \n",
       "\n",
       "                                            ext_link    id.1          body  \\\n",
       "0  https://www.reddit.com/r/Superstonks/comments/...  mkga8b  r/Superstonk   \n",
       "1  https://www.reddit.com/r/Superstonks/comments/...  mkhpr9       no_text   \n",
       "\n",
       "   ...  title_UL   body_UL post_type prime_time weekend month  \\\n",
       "0  ...  0.057143  0.090909    others          1       0     4   \n",
       "1  ...  0.035714  0.000000    others          1       0     4   \n",
       "\n",
       "                         feats_w                    joined_full  \\\n",
       "0  zero zero eight one nine zero  zero zero eight one nine zero   \n",
       "1    three zero one one ten zero    three zero one one ten zero   \n",
       "\n",
       "                                      feats_joined_w  \\\n",
       "0  zero zero eight one zero zero nine zero one ze...   \n",
       "1  three zero one one zero zero ten zero one zero...   \n",
       "\n",
       "                                         all_joined2  \n",
       "0  superstonks r superstonk sub looking r superst...  \n",
       "1  superstonks no_text https www reddit com r sup...  \n",
       "\n",
       "[2 rows x 48 columns]"
      ]
     },
     "execution_count": 132,
     "metadata": {},
     "output_type": "execute_result"
    }
   ],
   "source": [
    "df['all_joined2'] = df['subreddit'].str.lower() + ' ' +df['body_title_and_author'] + ' '+ df['feats_joined_w']\n",
    "df.head(2)"
   ]
  },
  {
   "cell_type": "code",
   "execution_count": 133,
   "id": "344932b1",
   "metadata": {},
   "outputs": [
    {
     "data": {
      "text/html": [
       "<div>\n",
       "<style scoped>\n",
       "    .dataframe tbody tr th:only-of-type {\n",
       "        vertical-align: middle;\n",
       "    }\n",
       "\n",
       "    .dataframe tbody tr th {\n",
       "        vertical-align: top;\n",
       "    }\n",
       "\n",
       "    .dataframe thead th {\n",
       "        text-align: right;\n",
       "    }\n",
       "</style>\n",
       "<table border=\"1\" class=\"dataframe\">\n",
       "  <thead>\n",
       "    <tr style=\"text-align: right;\">\n",
       "      <th></th>\n",
       "      <th>popular</th>\n",
       "      <th>all_joined2</th>\n",
       "      <th>all_joined</th>\n",
       "      <th>bta_sub</th>\n",
       "      <th>created</th>\n",
       "    </tr>\n",
       "  </thead>\n",
       "  <tbody>\n",
       "    <tr>\n",
       "      <th>0</th>\n",
       "      <td>1</td>\n",
       "      <td>superstonks r superstonk sub looking r superst...</td>\n",
       "      <td>superstonks r superstonk sub looking r superst...</td>\n",
       "      <td>superstonks r superstonk sub looking r superst...</td>\n",
       "      <td>1617613228</td>\n",
       "    </tr>\n",
       "    <tr>\n",
       "      <th>1</th>\n",
       "      <td>0</td>\n",
       "      <td>superstonks no_text https www reddit com r sup...</td>\n",
       "      <td>superstonks no_text https www reddit com r sup...</td>\n",
       "      <td>superstonks no_text https www reddit com r sup...</td>\n",
       "      <td>1617619355</td>\n",
       "    </tr>\n",
       "  </tbody>\n",
       "</table>\n",
       "</div>"
      ],
      "text/plain": [
       "   popular                                        all_joined2  \\\n",
       "0        1  superstonks r superstonk sub looking r superst...   \n",
       "1        0  superstonks no_text https www reddit com r sup...   \n",
       "\n",
       "                                          all_joined  \\\n",
       "0  superstonks r superstonk sub looking r superst...   \n",
       "1  superstonks no_text https www reddit com r sup...   \n",
       "\n",
       "                                             bta_sub     created  \n",
       "0  superstonks r superstonk sub looking r superst...  1617613228  \n",
       "1  superstonks no_text https www reddit com r sup...  1617619355  "
      ]
     },
     "execution_count": 133,
     "metadata": {},
     "output_type": "execute_result"
    }
   ],
   "source": [
    "cols_to_keep = ['popular', 'all_joined2', 'all_joined', 'bta_sub', 'created']\n",
    "df2 = df[cols_to_keep].copy()\n",
    "df2.head(2)"
   ]
  },
  {
   "cell_type": "code",
   "execution_count": 134,
   "id": "b8b8c126",
   "metadata": {},
   "outputs": [],
   "source": [
    "df2['posting_time'] = df2['created'].apply(datetime.datetime.fromtimestamp)\n",
    "df2['posting_month'] = df2['posting_time'].apply(lambda dd: dd.month)\n",
    "df2_train = df2[df2['posting_month']<4]\n",
    "df2_test  = df2[df2['posting_month']==4]"
   ]
  },
  {
   "cell_type": "code",
   "execution_count": 135,
   "id": "43acfe52",
   "metadata": {},
   "outputs": [
    {
     "data": {
      "text/plain": [
       "((99226, 7), (27072, 7))"
      ]
     },
     "execution_count": 135,
     "metadata": {},
     "output_type": "execute_result"
    }
   ],
   "source": [
    "df2_train.shape, df2_test.shape"
   ]
  },
  {
   "cell_type": "code",
   "execution_count": 136,
   "id": "710935f4",
   "metadata": {},
   "outputs": [
    {
     "data": {
      "text/html": [
       "<div>\n",
       "<style scoped>\n",
       "    .dataframe tbody tr th:only-of-type {\n",
       "        vertical-align: middle;\n",
       "    }\n",
       "\n",
       "    .dataframe tbody tr th {\n",
       "        vertical-align: top;\n",
       "    }\n",
       "\n",
       "    .dataframe thead th {\n",
       "        text-align: right;\n",
       "    }\n",
       "</style>\n",
       "<table border=\"1\" class=\"dataframe\">\n",
       "  <thead>\n",
       "    <tr style=\"text-align: right;\">\n",
       "      <th></th>\n",
       "      <th>popular</th>\n",
       "      <th>all_joined2</th>\n",
       "      <th>all_joined</th>\n",
       "      <th>bta_sub</th>\n",
       "      <th>created</th>\n",
       "      <th>posting_time</th>\n",
       "      <th>posting_month</th>\n",
       "    </tr>\n",
       "  </thead>\n",
       "  <tbody>\n",
       "    <tr>\n",
       "      <th>120</th>\n",
       "      <td>0</td>\n",
       "      <td>finance no_text mogo establishes atm equity pr...</td>\n",
       "      <td>finance no_text mogo establishes atm equity pr...</td>\n",
       "      <td>finance no_text mogo establishes atm equity pr...</td>\n",
       "      <td>1609507913</td>\n",
       "      <td>2021-01-01 08:31:53</td>\n",
       "      <td>1</td>\n",
       "    </tr>\n",
       "    <tr>\n",
       "      <th>121</th>\n",
       "      <td>0</td>\n",
       "      <td>finance no_text standard capital partners soli...</td>\n",
       "      <td>finance no_text standard capital partners soli...</td>\n",
       "      <td>finance no_text standard capital partners soli...</td>\n",
       "      <td>1609518689</td>\n",
       "      <td>2021-01-01 11:31:29</td>\n",
       "      <td>1</td>\n",
       "    </tr>\n",
       "  </tbody>\n",
       "</table>\n",
       "</div>"
      ],
      "text/plain": [
       "     popular                                        all_joined2  \\\n",
       "120        0  finance no_text mogo establishes atm equity pr...   \n",
       "121        0  finance no_text standard capital partners soli...   \n",
       "\n",
       "                                            all_joined  \\\n",
       "120  finance no_text mogo establishes atm equity pr...   \n",
       "121  finance no_text standard capital partners soli...   \n",
       "\n",
       "                                               bta_sub     created  \\\n",
       "120  finance no_text mogo establishes atm equity pr...  1609507913   \n",
       "121  finance no_text standard capital partners soli...  1609518689   \n",
       "\n",
       "           posting_time  posting_month  \n",
       "120 2021-01-01 08:31:53              1  \n",
       "121 2021-01-01 11:31:29              1  "
      ]
     },
     "execution_count": 136,
     "metadata": {},
     "output_type": "execute_result"
    }
   ],
   "source": [
    "df2_train.head(2)"
   ]
  },
  {
   "cell_type": "code",
   "execution_count": 137,
   "id": "185fe97a",
   "metadata": {},
   "outputs": [],
   "source": [
    "model3, X_train3, y_train3, X_test3, y_test3, vectorizer3 = train_LR(df_train=df2_train,\n",
    "                                                                     df_test=df2_test,\n",
    "                                                                     xcol = 'all_joined2',\n",
    "                                                                     ycol = 'popular')"
   ]
  },
  {
   "cell_type": "code",
   "execution_count": 138,
   "id": "8039b592",
   "metadata": {},
   "outputs": [
    {
     "data": {
      "text/plain": [
       "<sklearn.metrics._plot.precision_recall_curve.PrecisionRecallDisplay at 0x12b066ac0>"
      ]
     },
     "execution_count": 138,
     "metadata": {},
     "output_type": "execute_result"
    },
    {
     "data": {
      "image/png": "[encoded data removed]",
      "text/plain": [
       "<Figure size 576x504 with 1 Axes>"
      ]
     },
     "metadata": {},
     "output_type": "display_data"
    }
   ],
   "source": [
    "sns.set_style(style=\"whitegrid\")\n",
    "fig, ax = plt.subplots(1,1, figsize=(8,7))\n",
    "plot_precision_recall_curve(model3, X_train3, y_train3, ax=ax, label=\"Train: With Features\")\n",
    "plot_precision_recall_curve(model3, X_test3, y_test3, ax=ax, label=\"Test: With Features\")"
   ]
  },
  {
   "cell_type": "code",
   "execution_count": 147,
   "id": "53143005",
   "metadata": {},
   "outputs": [],
   "source": [
    "def plot_precision_recall(model, X, y, ax=None, lab=\"Data\"):\n",
    "    if ax is None:\n",
    "        fig, ax = plt.subplots(1,1, figsize=(6,5))\n",
    "    pr, re, th = precision_recall_curve(y, model1.predict_proba(X)[:,1] )\n",
    "    ax.plot(re, pr, label=lab)    "
   ]
  },
  {
   "cell_type": "code",
   "execution_count": 149,
   "id": "eb3e21b4",
   "metadata": {},
   "outputs": [
    {
     "data": {
      "text/plain": [
       "Text(0, 0.5, 'Precision (Positive Label:1)')"
      ]
     },
     "execution_count": 149,
     "metadata": {},
     "output_type": "execute_result"
    },
    {
     "data": {
      "image/png": "[encoded data removed]",
      "text/plain": [
       "<Figure size 720x432 with 1 Axes>"
      ]
     },
     "metadata": {},
     "output_type": "display_data"
    }
   ],
   "source": [
    "sns.set_style(style=\"whitegrid\")\n",
    "fig, ax = plt.subplots(1,1, figsize=(10,6))\n",
    "plot_precision_recall_curve(model1, X_train1, y_train1, ax=ax, label=\"Train: With Features\")\n",
    "plot_precision_recall_curve(model1, X_test1, y_test1, ax=ax, label=\"Test: With Features\")\n",
    "plot_precision_recall_curve(model2, X_train2, y_train2, ax=ax, label=\"Train: Text only\")\n",
    "plot_precision_recall_curve(model2, X_test2, y_test2, ax=ax, label=\"Test:  Text only\")\n",
    "plot_precision_recall_curve(model3, X_train3, y_train3, ax=ax, label=\"Train: With Full Features\")\n",
    "plot_precision_recall_curve(model3, X_test3, y_test3, ax=ax, label=\"Test: With Full Features\")\n",
    "ax.legend(loc='upper right', fontsize=16)\n",
    "ax.set_xlabel(\"Recall (Positive Label:1)\", fontsize=16)\n",
    "ax.set_ylabel(\"Precision (Positive Label:1)\", fontsize=16)"
   ]
  },
  {
   "cell_type": "code",
   "execution_count": 148,
   "id": "04b1dda0",
   "metadata": {},
   "outputs": [
    {
     "data": {
      "image/png": "[encoded data removed]",
      "text/plain": [
       "<Figure size 432x360 with 1 Axes>"
      ]
     },
     "metadata": {},
     "output_type": "display_data"
    }
   ],
   "source": [
    "fig, ax = plt.subplots(1,1, figsize=(6,5))\n",
    "plot_precision_recall(model1, X_train1, y_train1, ax=ax, lab=\"Train: With Features\")"
   ]
  },
  {
   "cell_type": "markdown",
   "id": "504276de",
   "metadata": {},
   "source": [
    "### Stratified method as suggested by Kung Chin"
   ]
  },
  {
   "cell_type": "code",
   "execution_count": 171,
   "id": "a60209f1",
   "metadata": {},
   "outputs": [
    {
     "data": {
      "text/html": [
       "<div>\n",
       "<style scoped>\n",
       "    .dataframe tbody tr th:only-of-type {\n",
       "        vertical-align: middle;\n",
       "    }\n",
       "\n",
       "    .dataframe tbody tr th {\n",
       "        vertical-align: top;\n",
       "    }\n",
       "\n",
       "    .dataframe thead th {\n",
       "        text-align: right;\n",
       "    }\n",
       "</style>\n",
       "<table border=\"1\" class=\"dataframe\">\n",
       "  <thead>\n",
       "    <tr style=\"text-align: right;\">\n",
       "      <th></th>\n",
       "      <th>Unnamed: 0</th>\n",
       "      <th>id</th>\n",
       "      <th>subreddit</th>\n",
       "      <th>title</th>\n",
       "      <th>author</th>\n",
       "      <th>url</th>\n",
       "      <th>created</th>\n",
       "      <th>ext_link</th>\n",
       "      <th>id.1</th>\n",
       "      <th>body</th>\n",
       "      <th>...</th>\n",
       "      <th>title_UL</th>\n",
       "      <th>body_UL</th>\n",
       "      <th>post_type</th>\n",
       "      <th>prime_time</th>\n",
       "      <th>weekend</th>\n",
       "      <th>month</th>\n",
       "      <th>feats_w</th>\n",
       "      <th>joined_full</th>\n",
       "      <th>feats_joined_w</th>\n",
       "      <th>all_joined2</th>\n",
       "    </tr>\n",
       "  </thead>\n",
       "  <tbody>\n",
       "    <tr>\n",
       "      <th>0</th>\n",
       "      <td>41437</td>\n",
       "      <td>mkga8b</td>\n",
       "      <td>Superstonks</td>\n",
       "      <td>The sub you are looking for is r/Superstonk</td>\n",
       "      <td>seppukkake</td>\n",
       "      <td>https://www.reddit.com/r/Superstonks/comments/...</td>\n",
       "      <td>1617613228</td>\n",
       "      <td>https://www.reddit.com/r/Superstonks/comments/...</td>\n",
       "      <td>mkga8b</td>\n",
       "      <td>r/Superstonk</td>\n",
       "      <td>...</td>\n",
       "      <td>0.057143</td>\n",
       "      <td>0.090909</td>\n",
       "      <td>others</td>\n",
       "      <td>1</td>\n",
       "      <td>0</td>\n",
       "      <td>4</td>\n",
       "      <td>zero zero eight one nine zero</td>\n",
       "      <td>zero zero eight one nine zero</td>\n",
       "      <td>zero zero eight one zero zero nine zero one ze...</td>\n",
       "      <td>superstonks r superstonk sub looking r superst...</td>\n",
       "    </tr>\n",
       "    <tr>\n",
       "      <th>1</th>\n",
       "      <td>41438</td>\n",
       "      <td>mkhpr9</td>\n",
       "      <td>Superstonks</td>\n",
       "      <td>https://www.reddit.com/r/Superstonk/</td>\n",
       "      <td>fairytalee20</td>\n",
       "      <td>https://www.reddit.com/r/Superstonks/comments/...</td>\n",
       "      <td>1617619355</td>\n",
       "      <td>https://www.reddit.com/r/Superstonks/comments/...</td>\n",
       "      <td>mkhpr9</td>\n",
       "      <td>no_text</td>\n",
       "      <td>...</td>\n",
       "      <td>0.035714</td>\n",
       "      <td>0.000000</td>\n",
       "      <td>others</td>\n",
       "      <td>1</td>\n",
       "      <td>0</td>\n",
       "      <td>4</td>\n",
       "      <td>three zero one one ten zero</td>\n",
       "      <td>three zero one one ten zero</td>\n",
       "      <td>three zero one one zero zero ten zero one zero...</td>\n",
       "      <td>superstonks no_text https www reddit com r sup...</td>\n",
       "    </tr>\n",
       "  </tbody>\n",
       "</table>\n",
       "<p>2 rows × 48 columns</p>\n",
       "</div>"
      ],
      "text/plain": [
       "   Unnamed: 0      id    subreddit  \\\n",
       "0       41437  mkga8b  Superstonks   \n",
       "1       41438  mkhpr9  Superstonks   \n",
       "\n",
       "                                         title        author  \\\n",
       "0  The sub you are looking for is r/Superstonk    seppukkake   \n",
       "1         https://www.reddit.com/r/Superstonk/  fairytalee20   \n",
       "\n",
       "                                                 url     created  \\\n",
       "0  https://www.reddit.com/r/Superstonks/comments/...  1617613228   \n",
       "1  https://www.reddit.com/r/Superstonks/comments/...  1617619355   \n",
       "\n",
       "                                            ext_link    id.1          body  \\\n",
       "0  https://www.reddit.com/r/Superstonks/comments/...  mkga8b  r/Superstonk   \n",
       "1  https://www.reddit.com/r/Superstonks/comments/...  mkhpr9       no_text   \n",
       "\n",
       "   ...  title_UL   body_UL post_type prime_time weekend month  \\\n",
       "0  ...  0.057143  0.090909    others          1       0     4   \n",
       "1  ...  0.035714  0.000000    others          1       0     4   \n",
       "\n",
       "                         feats_w                    joined_full  \\\n",
       "0  zero zero eight one nine zero  zero zero eight one nine zero   \n",
       "1    three zero one one ten zero    three zero one one ten zero   \n",
       "\n",
       "                                      feats_joined_w  \\\n",
       "0  zero zero eight one zero zero nine zero one ze...   \n",
       "1  three zero one one zero zero ten zero one zero...   \n",
       "\n",
       "                                         all_joined2  \n",
       "0  superstonks r superstonk sub looking r superst...  \n",
       "1  superstonks no_text https www reddit com r sup...  \n",
       "\n",
       "[2 rows x 48 columns]"
      ]
     },
     "execution_count": 171,
     "metadata": {},
     "output_type": "execute_result"
    }
   ],
   "source": [
    "df.head(2)"
   ]
  },
  {
   "cell_type": "code",
   "execution_count": 174,
   "id": "94b43a83",
   "metadata": {},
   "outputs": [],
   "source": [
    "df3_train, df3_test = train_test_split(df, test_size=0.1,\n",
    "                                stratify=df['popular'],\n",
    "                                random_state = 8848)\n"
   ]
  },
  {
   "cell_type": "code",
   "execution_count": 175,
   "id": "cf8c7db8",
   "metadata": {},
   "outputs": [],
   "source": [
    "model4, X_train4, y_train4, X_test4, y_test4, vectorizer4 = train_LR(df_train=df3_train,\n",
    "                                                                     df_test=df3_test,\n",
    "                                                                     xcol = 'all_joined2',\n",
    "                                                                     ycol = 'popular')"
   ]
  },
  {
   "cell_type": "code",
   "execution_count": 16,
   "id": "2448d28e",
   "metadata": {},
   "outputs": [
    {
     "ename": "NameError",
     "evalue": "name 'sns' is not defined",
     "output_type": "error",
     "traceback": [
      "\u001b[0;31m---------------------------------------------------------------------------\u001b[0m",
      "\u001b[0;31mNameError\u001b[0m                                 Traceback (most recent call last)",
      "\u001b[0;32m<ipython-input-16-71d10e6842da>\u001b[0m in \u001b[0;36m<module>\u001b[0;34m\u001b[0m\n\u001b[0;32m----> 1\u001b[0;31m \u001b[0msns\u001b[0m\u001b[0;34m.\u001b[0m\u001b[0mset_style\u001b[0m\u001b[0;34m(\u001b[0m\u001b[0mstyle\u001b[0m\u001b[0;34m=\u001b[0m\u001b[0;34m\"whitegrid\"\u001b[0m\u001b[0;34m)\u001b[0m\u001b[0;34m\u001b[0m\u001b[0;34m\u001b[0m\u001b[0m\n\u001b[0m\u001b[1;32m      2\u001b[0m \u001b[0mfig\u001b[0m\u001b[0;34m,\u001b[0m \u001b[0max\u001b[0m \u001b[0;34m=\u001b[0m \u001b[0mplt\u001b[0m\u001b[0;34m.\u001b[0m\u001b[0msubplots\u001b[0m\u001b[0;34m(\u001b[0m\u001b[0;36m1\u001b[0m\u001b[0;34m,\u001b[0m\u001b[0;36m1\u001b[0m\u001b[0;34m,\u001b[0m \u001b[0mfigsize\u001b[0m\u001b[0;34m=\u001b[0m\u001b[0;34m(\u001b[0m\u001b[0;36m10\u001b[0m\u001b[0;34m,\u001b[0m\u001b[0;36m6\u001b[0m\u001b[0;34m)\u001b[0m\u001b[0;34m)\u001b[0m\u001b[0;34m\u001b[0m\u001b[0;34m\u001b[0m\u001b[0m\n\u001b[1;32m      3\u001b[0m \u001b[0mplot_precision_recall_curve\u001b[0m\u001b[0;34m(\u001b[0m\u001b[0mmodel1\u001b[0m\u001b[0;34m,\u001b[0m \u001b[0mX_train1\u001b[0m\u001b[0;34m,\u001b[0m \u001b[0my_train1\u001b[0m\u001b[0;34m,\u001b[0m \u001b[0max\u001b[0m\u001b[0;34m=\u001b[0m\u001b[0max\u001b[0m\u001b[0;34m,\u001b[0m \u001b[0mlabel\u001b[0m\u001b[0;34m=\u001b[0m\u001b[0;34m\"Train: Few Features\"\u001b[0m\u001b[0;34m)\u001b[0m\u001b[0;34m\u001b[0m\u001b[0;34m\u001b[0m\u001b[0m\n\u001b[1;32m      4\u001b[0m \u001b[0mplot_precision_recall_curve\u001b[0m\u001b[0;34m(\u001b[0m\u001b[0mmodel1\u001b[0m\u001b[0;34m,\u001b[0m \u001b[0mX_test1\u001b[0m\u001b[0;34m,\u001b[0m \u001b[0my_test1\u001b[0m\u001b[0;34m,\u001b[0m \u001b[0max\u001b[0m\u001b[0;34m=\u001b[0m\u001b[0max\u001b[0m\u001b[0;34m,\u001b[0m \u001b[0mlabel\u001b[0m\u001b[0;34m=\u001b[0m\u001b[0;34m\"Test: Few Features\"\u001b[0m\u001b[0;34m)\u001b[0m\u001b[0;34m\u001b[0m\u001b[0;34m\u001b[0m\u001b[0m\n\u001b[1;32m      5\u001b[0m \u001b[0mplot_precision_recall_curve\u001b[0m\u001b[0;34m(\u001b[0m\u001b[0mmodel2\u001b[0m\u001b[0;34m,\u001b[0m \u001b[0mX_train2\u001b[0m\u001b[0;34m,\u001b[0m \u001b[0my_train2\u001b[0m\u001b[0;34m,\u001b[0m \u001b[0max\u001b[0m\u001b[0;34m=\u001b[0m\u001b[0max\u001b[0m\u001b[0;34m,\u001b[0m \u001b[0mlabel\u001b[0m\u001b[0;34m=\u001b[0m\u001b[0;34m\"Train: Text only\"\u001b[0m\u001b[0;34m)\u001b[0m\u001b[0;34m\u001b[0m\u001b[0;34m\u001b[0m\u001b[0m\n",
      "\u001b[0;31mNameError\u001b[0m: name 'sns' is not defined"
     ]
    }
   ],
   "source": [
    "sns.set_style(style=\"whitegrid\")\n",
    "fig, ax = plt.subplots(1,1, figsize=(10,6))\n",
    "plot_precision_recall_curve(model1, X_train1, y_train1, ax=ax, label=\"Train: Few Features\")\n",
    "plot_precision_recall_curve(model1, X_test1, y_test1, ax=ax, label=\"Test: Few Features\")\n",
    "plot_precision_recall_curve(model2, X_train2, y_train2, ax=ax, label=\"Train: Text only\")\n",
    "plot_precision_recall_curve(model2, X_test2, y_test2, ax=ax, label=\"Test:  Text only\")\n",
    "plot_precision_recall_curve(model3, X_train3, y_train3, ax=ax, label=\"Train: Full Features\")\n",
    "plot_precision_recall_curve(model3, X_test3, y_test3, ax=ax, label=\"Test: Full Features\")\n",
    "plot_precision_recall_curve(model4, X_train4, y_train4, ax=ax, label=\"Train: Full Features (strat)\")\n",
    "plot_precision_recall_curve(model4, X_test4, y_test4, ax=ax, label=\"Test: Full Features (Strat)\")\n",
    "\n",
    "ax.legend(loc='upper right', fontsize=16)\n",
    "ax.set_xlabel(\"Recall (Positive Label:1)\", fontsize=16)\n",
    "ax.tick_params(axis='both', which='major', labelsize=16),\n",
    "ax.set_ylabel(\"Precision (Positive Label:1)\", fontsize=16)"
   ]
  },
  {
   "cell_type": "code",
   "execution_count": 181,
   "id": "43170062",
   "metadata": {},
   "outputs": [],
   "source": [
    "def save_pr_data(model, X, y, save_name):\n",
    "    pr, re, th = precision_recall_curve(y, model.predict_proba(X)[:,1] )\n",
    "    pr_re = np.stack([pr, re], axis=1)\n",
    "    np.savetxt(save_name, pr_re)    "
   ]
  },
  {
   "cell_type": "code",
   "execution_count": 184,
   "id": "9b3be9c3",
   "metadata": {},
   "outputs": [],
   "source": [
    "save_pr_data(model4, X_train4, y_train4, \"pr_train_Stratified.dat\")"
   ]
  },
  {
   "cell_type": "code",
   "execution_count": 185,
   "id": "b8c9a03c",
   "metadata": {},
   "outputs": [],
   "source": [
    "save_pr_data(model4, X_test4, y_test4, \"pr_test_Stratified.dat\")"
   ]
  },
  {
   "cell_type": "code",
   "execution_count": 177,
   "id": "be1994a9",
   "metadata": {},
   "outputs": [],
   "source": [
    "pr, re, th = precision_recall_curve(y_test4, model4.predict_proba(X_test4)[:,1] )"
   ]
  },
  {
   "cell_type": "code",
   "execution_count": 178,
   "id": "728fa53c",
   "metadata": {},
   "outputs": [
    {
     "data": {
      "text/plain": [
       "13193"
      ]
     },
     "execution_count": 178,
     "metadata": {},
     "output_type": "execute_result"
    }
   ],
   "source": [
    "len(pr)"
   ]
  },
  {
   "cell_type": "code",
   "execution_count": null,
   "id": "daabd18c",
   "metadata": {},
   "outputs": [],
   "source": []
  },
  {
   "cell_type": "markdown",
   "id": "4a9bf7ab",
   "metadata": {},
   "source": [
    "## Choosing correct number of features\n",
    "`sklearn.feature_selection.SelectFromModel`"
   ]
  },
  {
   "cell_type": "code",
   "execution_count": 188,
   "id": "294eec1f",
   "metadata": {},
   "outputs": [],
   "source": [
    "# evaluation of a model using 5 features chosen with random forest importance\n",
    "from sklearn.datasets import make_classification\n",
    "from sklearn.model_selection import train_test_split\n",
    "from sklearn.feature_selection import SelectFromModel\n",
    "from sklearn.ensemble import RandomForestClassifier\n",
    "from sklearn.linear_model import LogisticRegression\n",
    "from sklearn.metrics import accuracy_score\n",
    "\n",
    "# feature selection\n",
    "def select_features(X_train, y_train, X_test):\n",
    "    # configure to select a subset of features\n",
    "    fs = SelectFromModel(RandomForestClassifier(n_estimators=1000), max_features=5)\n",
    "    # learn relationship from training data\n",
    "    fs.fit(X_train, y_train)\n",
    "    # transform train input data\n",
    "    X_train_fs = fs.transform(X_train)\n",
    "    # transform test input data\n",
    "    X_test_fs = fs.transform(X_test)\n",
    "    return X_train_fs, X_test_fs, fs"
   ]
  },
  {
   "cell_type": "code",
   "execution_count": 189,
   "id": "e56aa473",
   "metadata": {},
   "outputs": [
    {
     "name": "stdout",
     "output_type": "stream",
     "text": [
      "Accuracy: 84.55\n"
     ]
    }
   ],
   "source": [
    "# define the dataset\n",
    "X, y = make_classification(n_samples=1000, n_features=10, n_informative=5, n_redundant=5, random_state=1)\n",
    "# split into train and test sets\n",
    "X_train, X_test, y_train, y_test = train_test_split(X, y, test_size=0.33, random_state=1)\n",
    "# feature selection\n",
    "X_train_fs, X_test_fs, fs = select_features(X_train, y_train, X_test)\n",
    "# fit the model\n",
    "model = LogisticRegression(solver='liblinear')\n",
    "model.fit(X_train_fs, y_train)\n",
    "# evaluate the model\n",
    "yhat = model.predict(X_test_fs)\n",
    "# evaluate predictions\n",
    "accuracy = accuracy_score(y_test, yhat)\n",
    "print('Accuracy: %.2f' % (accuracy*100))"
   ]
  },
  {
   "cell_type": "code",
   "execution_count": 190,
   "id": "44c41262",
   "metadata": {},
   "outputs": [
    {
     "data": {
      "text/plain": [
       "((670, 5), (330, 5))"
      ]
     },
     "execution_count": 190,
     "metadata": {},
     "output_type": "execute_result"
    }
   ],
   "source": [
    "X_train_fs.shape, X_test_fs.shape"
   ]
  },
  {
   "cell_type": "code",
   "execution_count": 201,
   "id": "e84108f7",
   "metadata": {},
   "outputs": [],
   "source": [
    "xcol = 'all_joined2'\n",
    "ycol = 'popular'\n",
    "vectorizer5 = TfidfVectorizer(use_idf=True, max_df=0.95)\n",
    "vectorizer5.fit(df3_train['all_joined2'].values)\n",
    "\n",
    "X_train5 = vectorizer.transform(df3_train[xcol].values)\n",
    "X_test5  = vectorizer.transform(df3_test[xcol].values)\n",
    "\n",
    "y_train5 = df3_train[ycol]\n",
    "y_test5  = df3_test[ycol]"
   ]
  },
  {
   "cell_type": "code",
   "execution_count": 204,
   "id": "59cbf78d",
   "metadata": {},
   "outputs": [
    {
     "data": {
      "text/plain": [
       "((119629, 141747), (13293, 141747))"
      ]
     },
     "execution_count": 204,
     "metadata": {},
     "output_type": "execute_result"
    }
   ],
   "source": [
    "X_train5.shape, X_test5.shape"
   ]
  },
  {
   "cell_type": "code",
   "execution_count": 194,
   "id": "f6e026ea",
   "metadata": {},
   "outputs": [],
   "source": []
  },
  {
   "cell_type": "code",
   "execution_count": 205,
   "id": "cc82093f",
   "metadata": {},
   "outputs": [],
   "source": [
    "fs = SelectFromModel(LogisticRegression(max_iter=1000), max_features=20000)\n",
    "fs.fit(X_train5, y_train5)\n",
    "X_train5_fs = fs.transform(X_train5)\n",
    "X_test5_fs = fs.transform(X_test5)"
   ]
  },
  {
   "cell_type": "code",
   "execution_count": 206,
   "id": "2bd3b77c",
   "metadata": {},
   "outputs": [
    {
     "data": {
      "text/plain": [
       "LogisticRegression(max_iter=1000)"
      ]
     },
     "execution_count": 206,
     "metadata": {},
     "output_type": "execute_result"
    }
   ],
   "source": [
    "model5 = LogisticRegression(max_iter=1000)\n",
    "model5.fit(X_train5_fs, y_train5)"
   ]
  },
  {
   "cell_type": "code",
   "execution_count": 209,
   "id": "fd580704",
   "metadata": {},
   "outputs": [
    {
     "data": {
      "text/plain": [
       "array([0, 0, 0, ..., 0, 0, 0])"
      ]
     },
     "execution_count": 209,
     "metadata": {},
     "output_type": "execute_result"
    }
   ],
   "source": [
    "model5.predict(X_test5_fs)"
   ]
  },
  {
   "cell_type": "code",
   "execution_count": 214,
   "id": "b545b6ff",
   "metadata": {},
   "outputs": [
    {
     "data": {
      "text/plain": [
       "Text(0, 0.5, 'Precision (Positive Label:1)')"
      ]
     },
     "execution_count": 214,
     "metadata": {},
     "output_type": "execute_result"
    },
    {
     "data": {
      "image/png": "[encoded data removed]",
      "text/plain": [
       "<Figure size 720x432 with 1 Axes>"
      ]
     },
     "metadata": {},
     "output_type": "display_data"
    }
   ],
   "source": [
    "sns.set_style(style=\"whitegrid\")\n",
    "fig, ax = plt.subplots(1,1, figsize=(10,6))\n",
    "plot_precision_recall_curve(model4, X_train4, y_train4, ax=ax, label=\"Train: Full Features (strat)\")\n",
    "plot_precision_recall_curve(model4, X_test4, y_test4, ax=ax, label=\"Test: Full Features (Strat)\")\n",
    "plot_precision_recall_curve(model5, X_train5_fs, y_train5, ax=ax, label=\"Train: 20k Features (strat)\")\n",
    "plot_precision_recall_curve(model5, X_test5_fs, y_test5, ax=ax, label=\"Test: 20k Features (Strat)\")\n",
    "\n",
    "ax.legend(loc='upper right', fontsize=16)\n",
    "ax.set_xlabel(\"Recall (Positive Label:1)\", fontsize=16)\n",
    "ax.tick_params(axis='both', which='major', labelsize=16),\n",
    "ax.set_ylabel(\"Precision (Positive Label:1)\", fontsize=16)\n"
   ]
  },
  {
   "cell_type": "code",
   "execution_count": null,
   "id": "1b62c4c2",
   "metadata": {},
   "outputs": [],
   "source": [
    "from sklearn.tree import DecisionTreeClassifier"
   ]
  },
  {
   "cell_type": "code",
   "execution_count": 212,
   "id": "1d83f780",
   "metadata": {},
   "outputs": [],
   "source": [
    "fs_dt = SelectFromModel(DecisionTreeClassifier( max_depth=10 ), max_features=20000)\n",
    "fs_dt.fit(X_train5, y_train5)\n",
    "X_train6_fs = fs.transform(X_train5)\n",
    "X_test6_fs = fs.transform(X_test5)"
   ]
  },
  {
   "cell_type": "code",
   "execution_count": 213,
   "id": "8e3a554d",
   "metadata": {},
   "outputs": [
    {
     "data": {
      "text/plain": [
       "DecisionTreeClassifier(max_depth=10)"
      ]
     },
     "execution_count": 213,
     "metadata": {},
     "output_type": "execute_result"
    }
   ],
   "source": [
    "model6 = DecisionTreeClassifier( max_depth=10 )\n",
    "model6.fit(X_train6_fs, y_train5)"
   ]
  },
  {
   "cell_type": "code",
   "execution_count": 215,
   "id": "d0e47ea1",
   "metadata": {},
   "outputs": [
    {
     "data": {
      "text/plain": [
       "Text(0, 0.5, 'Precision (Positive Label:1)')"
      ]
     },
     "execution_count": 215,
     "metadata": {},
     "output_type": "execute_result"
    },
    {
     "data": {
      "image/png": "[encoded data removed]",
      "text/plain": [
       "<Figure size 720x432 with 1 Axes>"
      ]
     },
     "metadata": {},
     "output_type": "display_data"
    }
   ],
   "source": [
    "sns.set_style(style=\"whitegrid\")\n",
    "fig, ax = plt.subplots(1,1, figsize=(10,6))\n",
    "plot_precision_recall_curve(model4, X_train4, y_train4, ax=ax, label=\"Train: Full Features (strat)\")\n",
    "plot_precision_recall_curve(model4, X_test4, y_test4, ax=ax, label=\"Test: Full Features (Strat)\")\n",
    "plot_precision_recall_curve(model5, X_train5_fs, y_train5, ax=ax, label=\"Train: 20k Features (strat)\")\n",
    "plot_precision_recall_curve(model5, X_test5_fs, y_test5, ax=ax, label=\"Test: 20k Features (Strat)\")\n",
    "plot_precision_recall_curve(model6, X_train6_fs, y_train5, ax=ax, label=\"Train: 20k Features DT \")\n",
    "plot_precision_recall_curve(model6, X_test6_fs, y_test5, ax=ax, label=\"Test: 20k Features DT\")\n",
    "\n",
    "ax.legend(loc='upper right', fontsize=16)\n",
    "ax.set_xlabel(\"Recall (Positive Label:1)\", fontsize=16)\n",
    "ax.tick_params(axis='both', which='major', labelsize=16),\n",
    "ax.set_ylabel(\"Precision (Positive Label:1)\", fontsize=16)\n"
   ]
  },
  {
   "cell_type": "code",
   "execution_count": 218,
   "id": "ef1cdb40",
   "metadata": {},
   "outputs": [
    {
     "data": {
      "text/plain": [
       "DecisionTreeClassifier(max_depth=100)"
      ]
     },
     "execution_count": 218,
     "metadata": {},
     "output_type": "execute_result"
    }
   ],
   "source": [
    "fs_dt = SelectFromModel(DecisionTreeClassifier( max_depth=100 ), max_features=20000)\n",
    "fs_dt.fit(X_train5, y_train5)\n",
    "X_train7_fs = fs.transform(X_train5)\n",
    "X_test7_fs = fs.transform(X_test5)\n",
    "model7 = DecisionTreeClassifier( max_depth=100 )\n",
    "model7.fit(X_train7_fs, y_train5)"
   ]
  },
  {
   "cell_type": "code",
   "execution_count": 217,
   "id": "aa049515",
   "metadata": {},
   "outputs": [
    {
     "data": {
      "text/plain": [
       "Text(0, 0.5, 'Precision (Positive Label:1)')"
      ]
     },
     "execution_count": 217,
     "metadata": {},
     "output_type": "execute_result"
    },
    {
     "data": {
      "image/png": "[encoded data removed]",
      "text/plain": [
       "<Figure size 720x432 with 1 Axes>"
      ]
     },
     "metadata": {},
     "output_type": "display_data"
    }
   ],
   "source": [
    "sns.set_style(style=\"whitegrid\")\n",
    "fig, ax = plt.subplots(1,1, figsize=(10,6))\n",
    "plot_precision_recall_curve(model4, X_train4, y_train4, ax=ax, label=\"Train: Full Features (strat)\")\n",
    "plot_precision_recall_curve(model4, X_test4, y_test4, ax=ax, label=\"Test: Full Features (Strat)\")\n",
    "plot_precision_recall_curve(model5, X_train5_fs, y_train5, ax=ax, label=\"Train: 20k Features (strat)\")\n",
    "plot_precision_recall_curve(model5, X_test5_fs, y_test5, ax=ax, label=\"Test: 20k Features (Strat)\")\n",
    "plot_precision_recall_curve(model7, X_train7_fs, y_train5, ax=ax, label=\"Train: 20k Features DT\")\n",
    "plot_precision_recall_curve(model7, X_test7_fs, y_test5, ax=ax, label=\"Test: 20k Features DT\")\n",
    "\n",
    "ax.legend(loc='upper right', fontsize=16)\n",
    "ax.set_xlabel(\"Recall (Positive Label:1)\", fontsize=16)\n",
    "ax.tick_params(axis='both', which='major', labelsize=16),\n",
    "ax.set_ylabel(\"Precision (Positive Label:1)\", fontsize=16)\n"
   ]
  },
  {
   "cell_type": "code",
   "execution_count": 15,
   "id": "9ef41703",
   "metadata": {},
   "outputs": [
    {
     "name": "stdout",
     "output_type": "stream",
     "text": [
      "['Subreddit', 'Number of Posts', 'Complete with Post Body?']\n",
      "[['r/wallstreetbets', '954311', 'No'], ['r/dogecoin', '576871', 'No'], ['r/CryptoCurrency', '172461', 'No'], ['r/GME', '152800', 'Yes'], ['r/amcstock', '121480', 'Yes'], ['r/pennystocks', '48514', 'Yes'], ['r/options', '16589', 'Yes'], ['r/finance', '2941', 'Yes'], ['r/Superstonks', '146', 'Yes']]\n"
     ]
    },
    {
     "data": {
      "text/html": [
       "<div>\n",
       "<style scoped>\n",
       "    .dataframe tbody tr th:only-of-type {\n",
       "        vertical-align: middle;\n",
       "    }\n",
       "\n",
       "    .dataframe tbody tr th {\n",
       "        vertical-align: top;\n",
       "    }\n",
       "\n",
       "    .dataframe thead th {\n",
       "        text-align: right;\n",
       "    }\n",
       "</style>\n",
       "<table border=\"1\" class=\"dataframe\">\n",
       "  <thead>\n",
       "    <tr style=\"text-align: right;\">\n",
       "      <th></th>\n",
       "      <th>Number of Posts</th>\n",
       "      <th>Complete with Post Body?</th>\n",
       "    </tr>\n",
       "    <tr>\n",
       "      <th>Subreddit</th>\n",
       "      <th></th>\n",
       "      <th></th>\n",
       "    </tr>\n",
       "  </thead>\n",
       "  <tbody>\n",
       "    <tr>\n",
       "      <th>r/wallstreetbets</th>\n",
       "      <td>954311</td>\n",
       "      <td>No</td>\n",
       "    </tr>\n",
       "    <tr>\n",
       "      <th>r/dogecoin</th>\n",
       "      <td>576871</td>\n",
       "      <td>No</td>\n",
       "    </tr>\n",
       "    <tr>\n",
       "      <th>r/CryptoCurrency</th>\n",
       "      <td>172461</td>\n",
       "      <td>No</td>\n",
       "    </tr>\n",
       "    <tr>\n",
       "      <th>r/GME</th>\n",
       "      <td>152800</td>\n",
       "      <td>Yes</td>\n",
       "    </tr>\n",
       "    <tr>\n",
       "      <th>r/amcstock</th>\n",
       "      <td>121480</td>\n",
       "      <td>Yes</td>\n",
       "    </tr>\n",
       "    <tr>\n",
       "      <th>r/pennystocks</th>\n",
       "      <td>48514</td>\n",
       "      <td>Yes</td>\n",
       "    </tr>\n",
       "    <tr>\n",
       "      <th>r/options</th>\n",
       "      <td>16589</td>\n",
       "      <td>Yes</td>\n",
       "    </tr>\n",
       "    <tr>\n",
       "      <th>r/finance</th>\n",
       "      <td>2941</td>\n",
       "      <td>Yes</td>\n",
       "    </tr>\n",
       "    <tr>\n",
       "      <th>r/Superstonks</th>\n",
       "      <td>146</td>\n",
       "      <td>Yes</td>\n",
       "    </tr>\n",
       "  </tbody>\n",
       "</table>\n",
       "</div>"
      ],
      "text/plain": [
       "                 Number of Posts Complete with Post Body?\n",
       "Subreddit                                                \n",
       "r/wallstreetbets          954311                       No\n",
       "r/dogecoin                576871                       No\n",
       "r/CryptoCurrency          172461                       No\n",
       "r/GME                     152800                      Yes\n",
       "r/amcstock                121480                      Yes\n",
       "r/pennystocks              48514                      Yes\n",
       "r/options                  16589                      Yes\n",
       "r/finance                   2941                      Yes\n",
       "r/Superstonks                146                      Yes"
      ]
     },
     "execution_count": 15,
     "metadata": {},
     "output_type": "execute_result"
    }
   ],
   "source": [
    "table_head = \" Subreddit  ,Number of Posts,Complete with Post Body?\"\n",
    "table_entries = [\" r/wallstreetbets     ,954311          ,No \",\n",
    "    \" r/dogecoin  ,576871       ,No\",\n",
    "    \" r/CryptoCurrency  ,172461       ,No\",\n",
    "    \" r/GME  ,152800       ,Yes\",\n",
    "    \" r/amcstock  ,121480       ,Yes\",\n",
    "    \" r/pennystocks  ,48514       ,Yes\",\n",
    "    \" r/options  ,16589       ,Yes\",\n",
    "    \" r/finance  ,2941       ,Yes\",\n",
    "    \" r/Superstonks  ,146      ,Yes\"]\n",
    "\n",
    "cols = [h.strip() for h in table_head.split(\",\")]\n",
    "data = [ [row.strip() for row in entry.split(\",\")] for entry in table_entries ]\n",
    "\n",
    "print (cols)\n",
    "print (data)\n",
    "\n",
    "import pandas as pd\n",
    "dff = pd.DataFrame(data, columns = cols)\n",
    "dff.set_index(\"Subreddit\", inplace=True)\n",
    "dff"
   ]
  },
  {
   "cell_type": "code",
   "execution_count": 27,
   "id": "936783ca",
   "metadata": {},
   "outputs": [],
   "source": [
    "string_punc = open(\"../gristock/string.puntuations\", \"r\").read()"
   ]
  },
  {
   "cell_type": "code",
   "execution_count": 28,
   "id": "8982a845",
   "metadata": {},
   "outputs": [
    {
     "data": {
      "text/plain": [
       "'!\"#$%&\\'()*+, -./:;<=>?@[\\\\]^_`{|}~\\n'"
      ]
     },
     "execution_count": 28,
     "metadata": {},
     "output_type": "execute_result"
    }
   ],
   "source": [
    "string_punc"
   ]
  },
  {
   "cell_type": "code",
   "execution_count": 34,
   "id": "38245e53",
   "metadata": {},
   "outputs": [
    {
     "data": {
      "text/plain": [
       "0"
      ]
     },
     "execution_count": 34,
     "metadata": {},
     "output_type": "execute_result"
    }
   ],
   "source": [
    "import re\n",
    "s = \"I thing Doge to the Moon!!!!! A milinior.!!!\"\n",
    "s = ''.join(word.strip(string_punc) for word in s.split())\n",
    "len(re.findall('[^\\w\\s,\\(\\)\\'\\/-]',s))"
   ]
  },
  {
   "cell_type": "code",
   "execution_count": 32,
   "id": "20fd72f6",
   "metadata": {},
   "outputs": [
    {
     "data": {
      "text/plain": [
       "'I thing Doge to the Moon A milinior'"
      ]
     },
     "execution_count": 32,
     "metadata": {},
     "output_type": "execute_result"
    }
   ],
   "source": [
    "s"
   ]
  },
  {
   "cell_type": "code",
   "execution_count": null,
   "id": "eac453fe",
   "metadata": {},
   "outputs": [],
   "source": []
  }
 ],
 "metadata": {
  "kernelspec": {
   "display_name": "Python 3",
   "language": "python",
   "name": "python3"
  },
  "language_info": {
   "codemirror_mode": {
    "name": "ipython",
    "version": 3
   },
   "file_extension": ".py",
   "mimetype": "text/x-python",
   "name": "python",
   "nbconvert_exporter": "python",
   "pygments_lexer": "ipython3",
   "version": "3.9.5"
  }
 },
 "nbformat": 4,
 "nbformat_minor": 5
}
