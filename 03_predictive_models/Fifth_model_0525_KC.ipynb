{
 "cells": [
  {
   "cell_type": "code",
   "execution_count": 1,
   "metadata": {},
   "outputs": [],
   "source": [
    "import sqlite3\n",
    "import pandas as pd\n",
    "import numpy as np\n",
    "import re\n",
    "import string\n",
    "import datetime as dt\n",
    "import matplotlib.pyplot as plt\n",
    "\n",
    "from vaderSentiment.vaderSentiment import SentimentIntensityAnalyzer\n",
    "from azure.ai.textanalytics import TextAnalyticsClient\n",
    "from azure.core.credentials import AzureKeyCredential"
   ]
  },
  {
   "cell_type": "code",
   "execution_count": 2,
   "metadata": {},
   "outputs": [],
   "source": [
    "conn = sqlite3.connect('../redditPosts.sqlite')\n",
    "cur = conn.cursor()"
   ]
  },
  {
   "cell_type": "markdown",
   "metadata": {},
   "source": [
    "## Get the list of existing subreddits in the database."
   ]
  },
  {
   "cell_type": "code",
   "execution_count": 3,
   "metadata": {},
   "outputs": [
    {
     "data": {
      "text/plain": [
       "['Superstonks',\n",
       " 'finance',\n",
       " 'options',\n",
       " 'pennystocks',\n",
       " 'amcstock',\n",
       " 'GME',\n",
       " 'CryptoCurrency',\n",
       " 'dogecoin',\n",
       " 'wallstreetbets']"
      ]
     },
     "execution_count": 3,
     "metadata": {},
     "output_type": "execute_result"
    }
   ],
   "source": [
    "cur.execute('''SELECT subreddit FROM Posts GROUP BY subreddit ORDER BY (COUNT(id))''')\n",
    "subreddits = list(map(lambda x: x[0], cur.fetchall()))\n",
    "\n",
    "subreddits"
   ]
  },
  {
   "cell_type": "code",
   "execution_count": 4,
   "metadata": {},
   "outputs": [
    {
     "name": "stdout",
     "output_type": "stream",
     "text": [
      "Superstonks [(1.4615384615384615, 26, 0), (12.1, 120, 1)]\n",
      "finance [(16.512359550561797, 445, 0), (49.87940705128205, 2496, 1)]\n",
      "options [(5.675890340763515, 7806, 0), (27.118068996925878, 8783, 1)]\n",
      "pennystocks [(5.620451248495324, 32399, 0), (72.21061123177164, 16115, 1)]\n",
      "amcstock [(17.93377755244924, 41421, 0), (104.13195268489488, 80059, 1)]\n",
      "GME [(45.454079474483066, 40189, 0), (137.4685982088646, 105408, 1)]\n",
      "CryptoCurrency [(3.595744680851064, 282, 0), (67.27064220183486, 218, 1)]\n",
      "dogecoin [(3.3076923076923075, 26, 0), (49.43283582089552, 67, 1)]\n",
      "wallstreetbets [(18.386555853530623, 436651, 0), (248.8108802860313, 162220, 1)]\n"
     ]
    }
   ],
   "source": [
    "for subreddit in subreddits:\n",
    "    cur.execute('''SELECT AVG(score), COUNT(score), flag FROM\n",
    "                    (SELECT B.score, (CASE\n",
    "                                    WHEN B.body == '[deleted]' OR B.body == '[removed]' THEN 0\n",
    "                                    ELSE 1\n",
    "                                    END) AS flag\n",
    "                    FROM PostBodyAndScore B\n",
    "                    JOIN (SELECT id FROM Posts WHERE subreddit ==?) P\n",
    "                    On P.id = B.id) comb\n",
    "                    GROUP BY flag''', (subreddit,))\n",
    "\n",
    "    print(subreddit,cur.fetchall())"
   ]
  },
  {
   "cell_type": "markdown",
   "metadata": {},
   "source": [
    "## Retrieve data from the database based on the subreddit."
   ]
  },
  {
   "cell_type": "code",
   "execution_count": 5,
   "metadata": {},
   "outputs": [],
   "source": [
    "subreddit = 'GME'\n",
    "cmd = '''SELECT P.title, P.author, P.ext_link, P.created, B.body, B.score \n",
    "            FROM (SELECT * FROM Posts WHERE subreddit = '{}') P \n",
    "            JOIN PostBodyAndScore B\n",
    "            On P.id = B.id\n",
    "            WHERE B.body != \"[removed]\" AND B.body != \"[deleted]\"'''.format(subreddit)\n",
    "\n",
    "df = pd.read_sql(cmd, conn)"
   ]
  },
  {
   "cell_type": "code",
   "execution_count": 6,
   "metadata": {},
   "outputs": [
    {
     "data": {
      "text/html": [
       "<div>\n",
       "<style scoped>\n",
       "    .dataframe tbody tr th:only-of-type {\n",
       "        vertical-align: middle;\n",
       "    }\n",
       "\n",
       "    .dataframe tbody tr th {\n",
       "        vertical-align: top;\n",
       "    }\n",
       "\n",
       "    .dataframe thead th {\n",
       "        text-align: right;\n",
       "    }\n",
       "</style>\n",
       "<table border=\"1\" class=\"dataframe\">\n",
       "  <thead>\n",
       "    <tr style=\"text-align: right;\">\n",
       "      <th></th>\n",
       "      <th>title</th>\n",
       "      <th>author</th>\n",
       "      <th>ext_link</th>\n",
       "      <th>created</th>\n",
       "      <th>body</th>\n",
       "      <th>score</th>\n",
       "    </tr>\n",
       "  </thead>\n",
       "  <tbody>\n",
       "    <tr>\n",
       "      <th>0</th>\n",
       "      <td>You NEED to see this about GME 🚀🚀🚀🚀🚀🚀</td>\n",
       "      <td>TitsDownOnly</td>\n",
       "      <td>https://www.reddit.com/r/GME/comments/kqfajb/y...</td>\n",
       "      <td>1609786946</td>\n",
       "      <td>After watching this I took a position RIGHT AW...</td>\n",
       "      <td>6</td>\n",
       "    </tr>\n",
       "    <tr>\n",
       "      <th>1</th>\n",
       "      <td>THIS CONVINCED ME TO ALL IN 💰GME (EXTREME PUMP...</td>\n",
       "      <td>TitsDownOnly</td>\n",
       "      <td>https://www.reddit.com/r/GME/comments/kqvp7l/t...</td>\n",
       "      <td>1609841999</td>\n",
       "      <td>This guy explained exactly how to take a posit...</td>\n",
       "      <td>2</td>\n",
       "    </tr>\n",
       "    <tr>\n",
       "      <th>2</th>\n",
       "      <td>ICR conference (11th Jan)</td>\n",
       "      <td>nicky94</td>\n",
       "      <td>https://www.reddit.com/r/GME/comments/krnthg/i...</td>\n",
       "      <td>1609939549</td>\n",
       "      <td>Any speculation or ideas on what Gamestop migh...</td>\n",
       "      <td>14</td>\n",
       "    </tr>\n",
       "    <tr>\n",
       "      <th>3</th>\n",
       "      <td>GME is FINALLY going to the moon, this technic...</td>\n",
       "      <td>TitsDownOnly</td>\n",
       "      <td>https://www.reddit.com/r/GME/comments/kuo3w1/g...</td>\n",
       "      <td>1610315957</td>\n",
       "      <td>After some downwards movement, I think everyb...</td>\n",
       "      <td>11</td>\n",
       "    </tr>\n",
       "    <tr>\n",
       "      <th>4</th>\n",
       "      <td>Ryan Cohen appointed to board!!!!?</td>\n",
       "      <td>nicky94</td>\n",
       "      <td>https://news.gamestop.com/news-releases/news-r...</td>\n",
       "      <td>1610368592</td>\n",
       "      <td></td>\n",
       "      <td>18</td>\n",
       "    </tr>\n",
       "  </tbody>\n",
       "</table>\n",
       "</div>"
      ],
      "text/plain": [
       "                                               title        author  \\\n",
       "0              You NEED to see this about GME 🚀🚀🚀🚀🚀🚀  TitsDownOnly   \n",
       "1  THIS CONVINCED ME TO ALL IN 💰GME (EXTREME PUMP...  TitsDownOnly   \n",
       "2                          ICR conference (11th Jan)       nicky94   \n",
       "3  GME is FINALLY going to the moon, this technic...  TitsDownOnly   \n",
       "4                 Ryan Cohen appointed to board!!!!?       nicky94   \n",
       "\n",
       "                                            ext_link     created  \\\n",
       "0  https://www.reddit.com/r/GME/comments/kqfajb/y...  1609786946   \n",
       "1  https://www.reddit.com/r/GME/comments/kqvp7l/t...  1609841999   \n",
       "2  https://www.reddit.com/r/GME/comments/krnthg/i...  1609939549   \n",
       "3  https://www.reddit.com/r/GME/comments/kuo3w1/g...  1610315957   \n",
       "4  https://news.gamestop.com/news-releases/news-r...  1610368592   \n",
       "\n",
       "                                                body  score  \n",
       "0  After watching this I took a position RIGHT AW...      6  \n",
       "1  This guy explained exactly how to take a posit...      2  \n",
       "2  Any speculation or ideas on what Gamestop migh...     14  \n",
       "3   After some downwards movement, I think everyb...     11  \n",
       "4                                                        18  "
      ]
     },
     "execution_count": 6,
     "metadata": {},
     "output_type": "execute_result"
    }
   ],
   "source": [
    "df.head()"
   ]
  },
  {
   "cell_type": "markdown",
   "metadata": {},
   "source": [
    "## Feature Engineering"
   ]
  },
  {
   "cell_type": "code",
   "execution_count": 7,
   "metadata": {},
   "outputs": [
    {
     "data": {
      "text/html": [
       "<div>\n",
       "<style scoped>\n",
       "    .dataframe tbody tr th:only-of-type {\n",
       "        vertical-align: middle;\n",
       "    }\n",
       "\n",
       "    .dataframe tbody tr th {\n",
       "        vertical-align: top;\n",
       "    }\n",
       "\n",
       "    .dataframe thead th {\n",
       "        text-align: right;\n",
       "    }\n",
       "</style>\n",
       "<table border=\"1\" class=\"dataframe\">\n",
       "  <thead>\n",
       "    <tr style=\"text-align: right;\">\n",
       "      <th></th>\n",
       "      <th>title</th>\n",
       "      <th>author</th>\n",
       "      <th>ext_link</th>\n",
       "      <th>created</th>\n",
       "      <th>body</th>\n",
       "      <th>score</th>\n",
       "      <th>Popular</th>\n",
       "    </tr>\n",
       "  </thead>\n",
       "  <tbody>\n",
       "    <tr>\n",
       "      <th>0</th>\n",
       "      <td>You NEED to see this about GME 🚀🚀🚀🚀🚀🚀</td>\n",
       "      <td>TitsDownOnly</td>\n",
       "      <td>https://www.reddit.com/r/GME/comments/kqfajb/y...</td>\n",
       "      <td>1609786946</td>\n",
       "      <td>After watching this I took a position RIGHT AW...</td>\n",
       "      <td>6</td>\n",
       "      <td>0</td>\n",
       "    </tr>\n",
       "    <tr>\n",
       "      <th>1</th>\n",
       "      <td>THIS CONVINCED ME TO ALL IN 💰GME (EXTREME PUMP...</td>\n",
       "      <td>TitsDownOnly</td>\n",
       "      <td>https://www.reddit.com/r/GME/comments/kqvp7l/t...</td>\n",
       "      <td>1609841999</td>\n",
       "      <td>This guy explained exactly how to take a posit...</td>\n",
       "      <td>2</td>\n",
       "      <td>0</td>\n",
       "    </tr>\n",
       "    <tr>\n",
       "      <th>2</th>\n",
       "      <td>ICR conference (11th Jan)</td>\n",
       "      <td>nicky94</td>\n",
       "      <td>https://www.reddit.com/r/GME/comments/krnthg/i...</td>\n",
       "      <td>1609939549</td>\n",
       "      <td>Any speculation or ideas on what Gamestop migh...</td>\n",
       "      <td>14</td>\n",
       "      <td>0</td>\n",
       "    </tr>\n",
       "    <tr>\n",
       "      <th>3</th>\n",
       "      <td>GME is FINALLY going to the moon, this technic...</td>\n",
       "      <td>TitsDownOnly</td>\n",
       "      <td>https://www.reddit.com/r/GME/comments/kuo3w1/g...</td>\n",
       "      <td>1610315957</td>\n",
       "      <td>After some downwards movement, I think everyb...</td>\n",
       "      <td>11</td>\n",
       "      <td>0</td>\n",
       "    </tr>\n",
       "    <tr>\n",
       "      <th>4</th>\n",
       "      <td>Ryan Cohen appointed to board!!!!?</td>\n",
       "      <td>nicky94</td>\n",
       "      <td>https://news.gamestop.com/news-releases/news-r...</td>\n",
       "      <td>1610368592</td>\n",
       "      <td></td>\n",
       "      <td>18</td>\n",
       "      <td>0</td>\n",
       "    </tr>\n",
       "  </tbody>\n",
       "</table>\n",
       "</div>"
      ],
      "text/plain": [
       "                                               title        author  \\\n",
       "0              You NEED to see this about GME 🚀🚀🚀🚀🚀🚀  TitsDownOnly   \n",
       "1  THIS CONVINCED ME TO ALL IN 💰GME (EXTREME PUMP...  TitsDownOnly   \n",
       "2                          ICR conference (11th Jan)       nicky94   \n",
       "3  GME is FINALLY going to the moon, this technic...  TitsDownOnly   \n",
       "4                 Ryan Cohen appointed to board!!!!?       nicky94   \n",
       "\n",
       "                                            ext_link     created  \\\n",
       "0  https://www.reddit.com/r/GME/comments/kqfajb/y...  1609786946   \n",
       "1  https://www.reddit.com/r/GME/comments/kqvp7l/t...  1609841999   \n",
       "2  https://www.reddit.com/r/GME/comments/krnthg/i...  1609939549   \n",
       "3  https://www.reddit.com/r/GME/comments/kuo3w1/g...  1610315957   \n",
       "4  https://news.gamestop.com/news-releases/news-r...  1610368592   \n",
       "\n",
       "                                                body  score  Popular  \n",
       "0  After watching this I took a position RIGHT AW...      6        0  \n",
       "1  This guy explained exactly how to take a posit...      2        0  \n",
       "2  Any speculation or ideas on what Gamestop migh...     14        0  \n",
       "3   After some downwards movement, I think everyb...     11        0  \n",
       "4                                                        18        0  "
      ]
     },
     "execution_count": 7,
     "metadata": {},
     "output_type": "execute_result"
    }
   ],
   "source": [
    "df_model = df.copy()\n",
    "\n",
    "df_model['Popular'] = 1*(df_model['score'] > np.percentile(df_model['score'], 95))\n",
    "\n",
    "df_model.head()"
   ]
  },
  {
   "cell_type": "code",
   "execution_count": 8,
   "metadata": {},
   "outputs": [],
   "source": [
    "def emoji_count(s):\n",
    "    s = ''.join(word.strip(string.punctuation) for word in s.split())\n",
    "    return len(re.findall('[^\\w\\s,\\(\\)\\'\\/-]',s))\n",
    "\n",
    "def hourOfDay(utc):\n",
    "    return dt.datetime.utcfromtimestamp(utc).hour\n",
    "\n",
    "def dayOfWeek(utc):\n",
    "    return dt.datetime.utcfromtimestamp(utc).weekday()\n",
    "\n",
    "def textLength(text):\n",
    "    return len(text.split())\n",
    "\n",
    "def postType(link):\n",
    "    if not link:\n",
    "        return 'others'\n",
    "    if 'png' in link or 'jpg' in link:\n",
    "        return 'figures'\n",
    "    elif '/r/' in link:\n",
    "        return 'others'\n",
    "    else:\n",
    "        return 'outside_link'\n",
    "\n",
    "def countUpper(text):\n",
    "    Up = 0\n",
    "    Low = 0\n",
    "    for ch in text:\n",
    "        if ch.isupper():\n",
    "            Up += 1\n",
    "        elif ch.islower():\n",
    "            Low += 1\n",
    "    \n",
    "    if Up + Low:\n",
    "        return Up/(Up+Low)\n",
    "    else:\n",
    "        return 0\n",
    "    \n",
    "def exclamationAndQuestion(text):\n",
    "    return text.count('!') + text.count('?')\n",
    "\n",
    "def getMonth(utc):\n",
    "    return dt.datetime.utcfromtimestamp(utc).month\n",
    "\n",
    "def getAuthorInfo(author,created, df):\n",
    "    df_author = df[df['author'] == author]\n",
    "    df_prevHist = df_author[df_author['created'] < created]\n",
    "    \n",
    "    if df_prevHist.shape[0] == 0:\n",
    "        return 0, 1, 1\n",
    "    \n",
    "    log_post = np.log10(df_prevHist.shape[0])\n",
    "    mean_upvotes = df_prevHist['score'].mean()\n",
    "    max_upvotes = df_prevHist['score'].max()\n",
    "    return log_post, mean_upvotes, max_upvotes\n",
    "    \n",
    "def primeTime(hour):\n",
    "    primeTime = 1 if hour >= 7 and hour <= 11 else 0\n",
    "    \n",
    "    return primeTime\n",
    "\n",
    "def weekend(day):\n",
    "    return 1 if day >= 5 else 0\n",
    "\n",
    "def featureProcessing(df_model):\n",
    "    df_model['title_emoji'] = df_model['title'].apply(emoji_count)\n",
    "    df_model['body_emoji'] = df_model['body'].apply(emoji_count)\n",
    "    df_model['title_length'] = df_model['title'].apply(textLength)\n",
    "    df_model['body_length'] = df_model['body'].apply(textLength)\n",
    "    df_model['title_EQ'] = df_model['title'].apply(exclamationAndQuestion)\n",
    "    df_model['body_EQ'] = df_model['body'].apply(exclamationAndQuestion)\n",
    "    df_model['title_UL'] = df_model['title'].apply(countUpper)\n",
    "    df_model['body_UL'] = df_model['body'].apply(countUpper)    \n",
    "    df_model['hour'] = df_model['created'].apply(hourOfDay)\n",
    "    df_model['day'] = df_model['created'].apply(dayOfWeek)\n",
    "    df_model['post_type'] = df_model['ext_link'].apply(postType)\n",
    "    df_model['prime_time'] = df_model['hour'].apply(primeTime)\n",
    "    df_model['weekend'] = df_model['day'].apply(weekend)\n",
    "    df_model['month'] = df_model['created'].apply(getMonth)\n",
    "    \n",
    "    \n",
    "    for row in range(df_model.shape[0]):\n",
    "        df_model.loc[row, ['log_num', 'mean_upvotes', 'max_upvotes']] = getAuthorInfo(df_model.loc[row,'author'], df_model.loc[row,'created'], df_model)\n",
    "\n",
    "    "
   ]
  },
  {
   "cell_type": "code",
   "execution_count": 9,
   "metadata": {},
   "outputs": [],
   "source": [
    "featureProcessing(df_model)"
   ]
  },
  {
   "cell_type": "code",
   "execution_count": 31,
   "metadata": {},
   "outputs": [
    {
     "name": "stderr",
     "output_type": "stream",
     "text": [
      "C:\\Users\\kungc\\AppData\\Local\\Packages\\PythonSoftwareFoundation.Python.3.8_qbz5n2kfra8p0\\LocalCache\\local-packages\\Python38\\site-packages\\IPython\\core\\interactiveshell.py:3145: DtypeWarning: Columns (1,3) have mixed types.Specify dtype option on import or set low_memory=False.\n",
      "  has_raised = await self.run_ast_nodes(code_ast.body, cell_name,\n"
     ]
    }
   ],
   "source": [
    "df_twitter = pd.read_csv('../Twitter Data/TWEETS+SENTIMENT_individual.csv')\n",
    "\n",
    "df_twitter.Date = df_twitter.Date.astype('str')\n",
    "\n",
    "def convertToUNIX(date):\n",
    "    try:\n",
    "        result = np.datetime64(date).astype('datetime64[s]').astype('int')\n",
    "    except:\n",
    "        result = 0\n",
    "    return result\n",
    "\n",
    "df_twitter['Vader_weighted'] = df_twitter['Vader'] * df_twitter['retweet']\n",
    "\n",
    "df_grouped = df_twitter.groupby('Date').sum()\n",
    "\n",
    "df_grouped['Date'] = df_grouped.index\n",
    "\n",
    "df_grouped['UNIX'] = df_grouped.Date.apply(convertToUNIX)\n",
    "\n",
    "def getTwitterInfo(timestamp, df, gap = 86400*3):\n",
    "    df_sum = df[(df['UNIX'] < timestamp) & (df['UNIX'] >= timestamp - gap)].sum()\n",
    "    \n",
    "    return df_sum.retweet, df_sum.likes, df_sum.num, df_sum.Vader_weighted/df_sum.retweet\n",
    "\n",
    "\n",
    "for i in range(df_model.shape[0]):\n",
    "    df_model.loc[i,['retweet', 'likes', 'num', 'twitter_sent']] = getTwitterInfo(df_model.loc[i,'created'], df_grouped)"
   ]
  },
  {
   "cell_type": "code",
   "execution_count": 10,
   "metadata": {},
   "outputs": [],
   "source": [
    "analyzer = SentimentIntensityAnalyzer()\n",
    "\n",
    "def sentiment(title):\n",
    "    \n",
    "    return analyzer.polarity_scores(title)['compound']\n",
    "\n",
    "df_model['sentiment'] = df_model['title'].apply(sentiment)"
   ]
  },
  {
   "cell_type": "code",
   "execution_count": 11,
   "metadata": {},
   "outputs": [],
   "source": [
    "df_model[['figures', 'outside_link']] = pd.get_dummies(df_model['post_type'])[['figures', 'outside_link']]\n",
    "df_model['title_EQ_Norm'] = df_model['title_EQ']/df_model['title_length']"
   ]
  },
  {
   "cell_type": "code",
   "execution_count": 22,
   "metadata": {},
   "outputs": [
    {
     "data": {
      "text/plain": [
       "0.2793348148148148"
      ]
     },
     "execution_count": 22,
     "metadata": {},
     "output_type": "execute_result"
    }
   ],
   "source": [
    "df_model.twitter_sent.max()"
   ]
  },
  {
   "cell_type": "markdown",
   "metadata": {},
   "source": [
    "## Some exploratory data analysis on the features\n",
    "\n",
    "### Effect of time and day"
   ]
  },
  {
   "cell_type": "code",
   "execution_count": 12,
   "metadata": {},
   "outputs": [],
   "source": [
    "hots = np.zeros((7,24))\n",
    "\n",
    "for hr in range(24):\n",
    "    df_hour = df_model[df_model['hour'] == hr]\n",
    "    for dy in range(7):\n",
    "        hots[dy,hr] = df_hour[df_hour['day'] == dy].Popular.mean()"
   ]
  },
  {
   "cell_type": "code",
   "execution_count": 13,
   "metadata": {},
   "outputs": [
    {
     "name": "stdout",
     "output_type": "stream",
     "text": [
      "0.1569767441860465\n"
     ]
    },
    {
     "data": {
      "image/png": "[encoded data removed]",
      "text/plain": [
       "<Figure size 432x288 with 2 Axes>"
      ]
     },
     "metadata": {
      "needs_background": "light"
     },
     "output_type": "display_data"
    }
   ],
   "source": [
    "import seaborn as sns\n",
    "\n",
    "ax = sns.heatmap(hots)\n",
    "ax.set_title('Popularity chance for different time and day.')\n",
    "ax.set_xlabel('Hour')\n",
    "ax.set_ylabel('Day')\n",
    "print(np.max(hots))"
   ]
  },
  {
   "cell_type": "markdown",
   "metadata": {},
   "source": [
    "### Effect of Uppercase Proportion of the post"
   ]
  },
  {
   "cell_type": "code",
   "execution_count": 89,
   "metadata": {},
   "outputs": [
    {
     "data": {
      "text/plain": [
       "Text(0.5, 1.0, 'The proportion of uppercase letters in titles/bodies vs popular rate.')"
      ]
     },
     "execution_count": 89,
     "metadata": {},
     "output_type": "execute_result"
    },
    {
     "data": {
      "image/png": "[encoded data removed]",
      "text/plain": [
       "<Figure size 432x288 with 1 Axes>"
      ]
     },
     "metadata": {
      "needs_background": "light"
     },
     "output_type": "display_data"
    }
   ],
   "source": [
    "xx = np.linspace(0.1,1,10)\n",
    "\n",
    "titlesL = []\n",
    "titlesS = []\n",
    "bodiesL = []\n",
    "bodiesS = []\n",
    "\n",
    "for x in xx:\n",
    "    titlesL.append(df_model[df_model['title_UL'] >= x].Popular.mean())\n",
    "    titlesS.append(df_model[df_model['title_UL'] < x].Popular.mean())\n",
    "    bodiesL.append(df_model[df_model['body_UL'] >= x].Popular.mean())\n",
    "    bodiesS.append(df_model[df_model['body_UL'] < x].Popular.mean())\n",
    "\n",
    "    \n",
    "plt.plot(xx,titlesL, label = 'Title >=')\n",
    "plt.plot(xx,titlesS, label = 'Title <')\n",
    "plt.plot(xx,bodiesL, label = 'Body >=')\n",
    "plt.plot(xx,bodiesS, label = 'Body <')\n",
    "\n",
    "plt.legend()\n",
    "plt.title('The proportion of uppercase letters in titles/bodies vs popular rate.')"
   ]
  },
  {
   "cell_type": "markdown",
   "metadata": {},
   "source": [
    "### Effect of Exclamation Points and Question Marks"
   ]
  },
  {
   "cell_type": "code",
   "execution_count": 88,
   "metadata": {},
   "outputs": [
    {
     "data": {
      "text/plain": [
       "Text(0.5, 1.0, 'The proportion of exclamation points/question marks in titles/bodies vs popular rate.')"
      ]
     },
     "execution_count": 88,
     "metadata": {},
     "output_type": "execute_result"
    },
    {
     "data": {
      "image/png": "[encoded data removed]",
      "text/plain": [
       "<Figure size 432x288 with 1 Axes>"
      ]
     },
     "metadata": {
      "needs_background": "light"
     },
     "output_type": "display_data"
    }
   ],
   "source": [
    "xx = np.linspace(0,90)\n",
    "\n",
    "titlesL = []\n",
    "titlesS = []\n",
    "bodiesL = []\n",
    "bodiesS = []\n",
    "\n",
    "for x in xx:\n",
    "    titlesL.append(df_model[df_model['title_EQ'] >= x].Popular.mean())\n",
    "    titlesS.append(df_model[df_model['title_EQ'] < x].Popular.mean())\n",
    "    bodiesL.append(df_model[df_model['body_EQ'] >= x].Popular.mean())\n",
    "    bodiesS.append(df_model[df_model['body_EQ'] < x].Popular.mean())\n",
    "\n",
    "    \n",
    "plt.plot(xx,titlesL, label = 'Title >=')\n",
    "plt.plot(xx,titlesS, label = 'Title <')\n",
    "plt.plot(xx,bodiesL, label = 'Body >=')\n",
    "plt.plot(xx,bodiesS, label = 'Body <')\n",
    "\n",
    "plt.legend()\n",
    "plt.title('The proportion of exclamation points/question marks in titles/bodies vs popular rate.')"
   ]
  },
  {
   "cell_type": "code",
   "execution_count": 74,
   "metadata": {},
   "outputs": [
    {
     "data": {
      "text/plain": [
       "Text(0.5, 1.0, 'The proportion of exclamation points/question marks in titles vs popular rate.')"
      ]
     },
     "execution_count": 74,
     "metadata": {},
     "output_type": "execute_result"
    },
    {
     "data": {
      "image/png": "[encoded data removed]",
      "text/plain": [
       "<Figure size 432x288 with 1 Axes>"
      ]
     },
     "metadata": {
      "needs_background": "light"
     },
     "output_type": "display_data"
    }
   ],
   "source": [
    "xx = np.linspace(0,1, 100)\n",
    "\n",
    "\n",
    "titlesLN = []\n",
    "titlesSN = []\n",
    "\n",
    "\n",
    "for x in xx:\n",
    "    titlesLN.append(df_model[df_model['title_EQ_Norm'] >= x].Popular.mean())\n",
    "    titlesSN.append(df_model[df_model['title_EQ_Norm'] < x].Popular.mean())\n",
    "\n",
    "\n",
    "    \n",
    "plt.plot(xx,titlesLN, label = 'Title >=')\n",
    "plt.plot(xx,titlesSN, label = 'Title <')\n",
    "\n",
    "\n",
    "plt.legend()\n",
    "plt.title('The proportion of exclamation points/question marks in titles vs popular rate.')"
   ]
  },
  {
   "cell_type": "markdown",
   "metadata": {},
   "source": [
    "### Check the feasibility of splitting the training/testing set by time"
   ]
  },
  {
   "cell_type": "code",
   "execution_count": 22,
   "metadata": {},
   "outputs": [
    {
     "name": "stdout",
     "output_type": "stream",
     "text": [
      "76718\n",
      "28690\n"
     ]
    }
   ],
   "source": [
    "\n",
    "df_model_TrAiN = df_model[df_model['month'] < 4]\n",
    "df_model_TeSt = df_model[df_model['month'] >= 4]\n",
    "\n",
    "df_model_TeSt.head()\n",
    "\n",
    "print(df_model_TrAiN.Popular.count())\n",
    "\n",
    "print(df_model_TeSt.Popular.count())"
   ]
  },
  {
   "cell_type": "markdown",
   "metadata": {},
   "source": [
    "### Check if the three features of Twitter are useful, and whether they are mutually redundant."
   ]
  },
  {
   "cell_type": "code",
   "execution_count": 32,
   "metadata": {},
   "outputs": [
    {
     "data": {
      "text/plain": [
       "37396"
      ]
     },
     "execution_count": 32,
     "metadata": {},
     "output_type": "execute_result"
    },
    {
     "data": {
      "image/png": "[encoded data removed]",
      "text/plain": [
       "<Figure size 1440x1080 with 4 Axes>"
      ]
     },
     "metadata": {
      "needs_background": "light"
     },
     "output_type": "display_data"
    }
   ],
   "source": [
    "fig, axes = plt.subplots(2,2)\n",
    "\n",
    "axs = axes.ravel()\n",
    "fig.set_size_inches((20,15))\n",
    "axs[0].scatter(df_model.retweet, df_model.score)\n",
    "axs[0].set_ylabel('Total score')\n",
    "axs[1].scatter(df_model.likes, df_model.score)\n",
    "axs[2].scatter(df_model.num, df_model.score)\n",
    "axs[3].scatter(df_model.twitter_sent, df_model.score)\n",
    "df_model.score.max()"
   ]
  },
  {
   "cell_type": "code",
   "execution_count": 95,
   "metadata": {},
   "outputs": [
    {
     "data": {
      "text/plain": [
       "<matplotlib.collections.PathCollection at 0x1919b2b33a0>"
      ]
     },
     "execution_count": 95,
     "metadata": {},
     "output_type": "execute_result"
    },
    {
     "data": {
      "image/png": "[encoded data removed]",
      "text/plain": [
       "<Figure size 432x288 with 1 Axes>"
      ]
     },
     "metadata": {
      "needs_background": "light"
     },
     "output_type": "display_data"
    }
   ],
   "source": [
    "plt.scatter(df_model.num, df_model.likes)"
   ]
  },
  {
   "cell_type": "markdown",
   "metadata": {},
   "source": [
    "### Sentiment vs upvotes"
   ]
  },
  {
   "cell_type": "code",
   "execution_count": 31,
   "metadata": {},
   "outputs": [
    {
     "data": {
      "text/plain": [
       "<matplotlib.collections.PathCollection at 0x2242b583c70>"
      ]
     },
     "execution_count": 31,
     "metadata": {},
     "output_type": "execute_result"
    },
    {
     "data": {
      "image/png": "[encoded data removed]",
      "text/plain": [
       "<Figure size 432x288 with 1 Axes>"
      ]
     },
     "metadata": {
      "needs_background": "light"
     },
     "output_type": "display_data"
    }
   ],
   "source": [
    "plt.scatter(df_model.sentiment, df_model.score)"
   ]
  },
  {
   "cell_type": "markdown",
   "metadata": {},
   "source": [
    "## Training the Model\n",
    "\n",
    "Since the dataset is quite imbalanced (~3% popular posts), I decided to use oversampling to make a balanced dataset. One thing I realized is that I should not oversample before splitting the dataset into training/testing sets, as the testing datapoints will have leaked into the training set. \n",
    "\n",
    "By extension, the cross validation also shouldn't be performed if we oversample. I did not think of that when writing this block, so you can see that the cross validation gives increasingly good results as the complexity increases. "
   ]
  },
  {
   "cell_type": "code",
   "execution_count": 44,
   "metadata": {},
   "outputs": [
    {
     "data": {
      "text/html": [
       "<div>\n",
       "<style scoped>\n",
       "    .dataframe tbody tr th:only-of-type {\n",
       "        vertical-align: middle;\n",
       "    }\n",
       "\n",
       "    .dataframe tbody tr th {\n",
       "        vertical-align: top;\n",
       "    }\n",
       "\n",
       "    .dataframe thead th {\n",
       "        text-align: right;\n",
       "    }\n",
       "</style>\n",
       "<table border=\"1\" class=\"dataframe\">\n",
       "  <thead>\n",
       "    <tr style=\"text-align: right;\">\n",
       "      <th></th>\n",
       "      <th>title_emoji</th>\n",
       "      <th>body_emoji</th>\n",
       "      <th>title_length</th>\n",
       "      <th>body_length</th>\n",
       "      <th>body_EQ</th>\n",
       "      <th>title_UL</th>\n",
       "      <th>body_UL</th>\n",
       "      <th>hour</th>\n",
       "      <th>day</th>\n",
       "      <th>prime_time</th>\n",
       "      <th>weekend</th>\n",
       "      <th>log_num</th>\n",
       "      <th>mean_upvotes</th>\n",
       "      <th>sentiment</th>\n",
       "      <th>figures</th>\n",
       "      <th>outside_link</th>\n",
       "      <th>title_EQ_Norm</th>\n",
       "    </tr>\n",
       "  </thead>\n",
       "  <tbody>\n",
       "    <tr>\n",
       "      <th>76718</th>\n",
       "      <td>0</td>\n",
       "      <td>0</td>\n",
       "      <td>4</td>\n",
       "      <td>69</td>\n",
       "      <td>0</td>\n",
       "      <td>0.166667</td>\n",
       "      <td>0.041237</td>\n",
       "      <td>0</td>\n",
       "      <td>3</td>\n",
       "      <td>0</td>\n",
       "      <td>0</td>\n",
       "      <td>0.000000</td>\n",
       "      <td>1.000000</td>\n",
       "      <td>0.0000</td>\n",
       "      <td>0</td>\n",
       "      <td>0</td>\n",
       "      <td>0.000000</td>\n",
       "    </tr>\n",
       "    <tr>\n",
       "      <th>76719</th>\n",
       "      <td>1</td>\n",
       "      <td>0</td>\n",
       "      <td>18</td>\n",
       "      <td>0</td>\n",
       "      <td>0</td>\n",
       "      <td>0.048780</td>\n",
       "      <td>0.000000</td>\n",
       "      <td>0</td>\n",
       "      <td>3</td>\n",
       "      <td>0</td>\n",
       "      <td>0</td>\n",
       "      <td>0.000000</td>\n",
       "      <td>1.000000</td>\n",
       "      <td>0.6351</td>\n",
       "      <td>1</td>\n",
       "      <td>0</td>\n",
       "      <td>0.111111</td>\n",
       "    </tr>\n",
       "    <tr>\n",
       "      <th>76720</th>\n",
       "      <td>0</td>\n",
       "      <td>9</td>\n",
       "      <td>3</td>\n",
       "      <td>65</td>\n",
       "      <td>0</td>\n",
       "      <td>0.090909</td>\n",
       "      <td>0.017483</td>\n",
       "      <td>0</td>\n",
       "      <td>3</td>\n",
       "      <td>0</td>\n",
       "      <td>0</td>\n",
       "      <td>0.301030</td>\n",
       "      <td>10.000000</td>\n",
       "      <td>0.0000</td>\n",
       "      <td>0</td>\n",
       "      <td>0</td>\n",
       "      <td>0.000000</td>\n",
       "    </tr>\n",
       "    <tr>\n",
       "      <th>76721</th>\n",
       "      <td>0</td>\n",
       "      <td>0</td>\n",
       "      <td>12</td>\n",
       "      <td>0</td>\n",
       "      <td>0</td>\n",
       "      <td>0.317073</td>\n",
       "      <td>0.000000</td>\n",
       "      <td>0</td>\n",
       "      <td>3</td>\n",
       "      <td>0</td>\n",
       "      <td>0</td>\n",
       "      <td>0.477121</td>\n",
       "      <td>10.000000</td>\n",
       "      <td>0.0000</td>\n",
       "      <td>1</td>\n",
       "      <td>0</td>\n",
       "      <td>0.000000</td>\n",
       "    </tr>\n",
       "    <tr>\n",
       "      <th>76722</th>\n",
       "      <td>0</td>\n",
       "      <td>3</td>\n",
       "      <td>3</td>\n",
       "      <td>23</td>\n",
       "      <td>1</td>\n",
       "      <td>0.090909</td>\n",
       "      <td>0.102804</td>\n",
       "      <td>0</td>\n",
       "      <td>3</td>\n",
       "      <td>0</td>\n",
       "      <td>0</td>\n",
       "      <td>1.819544</td>\n",
       "      <td>20.848485</td>\n",
       "      <td>0.0000</td>\n",
       "      <td>0</td>\n",
       "      <td>0</td>\n",
       "      <td>0.000000</td>\n",
       "    </tr>\n",
       "  </tbody>\n",
       "</table>\n",
       "</div>"
      ],
      "text/plain": [
       "       title_emoji  body_emoji  title_length  body_length  body_EQ  title_UL  \\\n",
       "76718            0           0             4           69        0  0.166667   \n",
       "76719            1           0            18            0        0  0.048780   \n",
       "76720            0           9             3           65        0  0.090909   \n",
       "76721            0           0            12            0        0  0.317073   \n",
       "76722            0           3             3           23        1  0.090909   \n",
       "\n",
       "        body_UL  hour  day  prime_time  weekend   log_num  mean_upvotes  \\\n",
       "76718  0.041237     0    3           0        0  0.000000      1.000000   \n",
       "76719  0.000000     0    3           0        0  0.000000      1.000000   \n",
       "76720  0.017483     0    3           0        0  0.301030     10.000000   \n",
       "76721  0.000000     0    3           0        0  0.477121     10.000000   \n",
       "76722  0.102804     0    3           0        0  1.819544     20.848485   \n",
       "\n",
       "       sentiment  figures  outside_link  title_EQ_Norm  \n",
       "76718     0.0000        0             0       0.000000  \n",
       "76719     0.6351        1             0       0.111111  \n",
       "76720     0.0000        0             0       0.000000  \n",
       "76721     0.0000        1             0       0.000000  \n",
       "76722     0.0000        0             0       0.000000  "
      ]
     },
     "execution_count": 44,
     "metadata": {},
     "output_type": "execute_result"
    }
   ],
   "source": [
    "df_features = df_model.drop(columns = ['title','author','ext_link','created','body','post_type','title_EQ','score','max_upvotes'])\n",
    "\n",
    "X = df_features.drop(columns = ['Popular'])\n",
    "y = df_model['Popular']\n",
    "\n",
    "X_train, X_test, y_train, y_test = X[X['month'] < 4].drop(columns = ['month']), X[X['month'] >= 4].drop(columns = ['month']), y[X['month'] < 4], y[X['month'] >= 4]\n",
    "\n",
    "X_test.head()\n",
    "#X_train, X_test, y_train, y_test = train_test_split(X,y, test_size = 0.2, stratify = y)"
   ]
  },
  {
   "cell_type": "markdown",
   "metadata": {},
   "source": [
    "### Modulizing the training process.\n",
    "\n",
    "I will write a function to automate the training process, including cross validation."
   ]
  },
  {
   "cell_type": "code",
   "execution_count": 15,
   "metadata": {},
   "outputs": [],
   "source": [
    "from sklearn.preprocessing import StandardScaler\n",
    "from sklearn.model_selection import GridSearchCV\n",
    "from sklearn.model_selection import TimeSeriesSplit\n",
    "from sklearn.metrics import confusion_matrix\n",
    "from sklearn.tree import DecisionTreeClassifier\n",
    "from sklearn.ensemble import RandomForestClassifier\n",
    "from sklearn.linear_model import LogisticRegression\n",
    "from sklearn.svm import SVC\n",
    "from sklearn.ensemble import AdaBoostClassifier\n",
    "from xgboost import XGBClassifier\n",
    "from sklearn.metrics import precision_recall_curve\n",
    "from sklearn.metrics import precision_score\n",
    "from sklearn.ensemble import GradientBoostingClassifier\n",
    "from sklearn.ensemble import VotingClassifier\n",
    "from sklearn.calibration import CalibratedClassifierCV\n",
    "from sklearn.neighbors import KNeighborsClassifier\n",
    "from sklearn.model_selection import train_test_split\n",
    "from sklearn.base import clone"
   ]
  },
  {
   "cell_type": "markdown",
   "metadata": {},
   "source": [
    "### Probability Calibration\n",
    "\n",
    "Most models are not calibrated in probability, and I would like to see if calibrating the probability can help with the PR curve.\n"
   ]
  },
  {
   "cell_type": "code",
   "execution_count": 90,
   "metadata": {},
   "outputs": [],
   "source": [
    "def trainingImbalanced(gridModel, X_train, y_train, weight_factor):\n",
    "    \n",
    "    weights = np.ones(y_train.shape)\n",
    "    \n",
    "    weights[y_train == 1] = weight_factor/np.mean(y_train)\n",
    "    gridModel.fit(X_train, y_train, sample_weight = weights)\n",
    "    \n",
    "    \n",
    "    \n",
    "def trainAndNotCalibrate(gridModel, X_train, y_train, X_test, weight_factor):\n",
    "    scaler = StandardScaler()\n",
    "    \n",
    "    X_transformed = scaler.fit_transform(X_train)\n",
    "    \n",
    "    \n",
    "    trainingImbalanced(gridModel, X_train, y_train, weight_factor)\n",
    "    \n",
    "    \n",
    "    X_testTrans = scaler.transform(X_test)\n",
    "    \n",
    "    return gridModel.predict_proba(X_testTrans)[:,1], gridModel.predict_proba(X_transformed)[:,-1], y_train\n",
    "\n",
    "def trainAndCalibrate1(Model, X_train, y_train, X_test, weight_factor):\n",
    "    scaler = StandardScaler()\n",
    "    \n",
    "    X_transformed = scaler.fit_transform(X_train)\n",
    "\n",
    "    \n",
    "    calibrated = CalibratedClassifierCV(Model, method = 'isotonic', cv = 10)#, cv = TimeSeriesSplit(n_splits = 8).split(X_train))\n",
    "    \n",
    "    calibrated.fit(X_transformed, y_train)\n",
    "    \n",
    "    X_testTrans = scaler.transform(X_test)\n",
    "    \n",
    "    #return gridModel.predict(X_testTrans), gridModel.predict_proba(X_testTrans)[:,1]\n",
    "    return calibrated.predict_proba(X_testTrans)[:,1], calibrated.predict_proba(X_transformed)[:,1], y_train, calibrated\n",
    "\n",
    "def trainAndCalibrate(gridModel, X_train, y_train, X_test, weight_factor):\n",
    "    scaler = StandardScaler()\n",
    "    \n",
    "    X_transformed = scaler.fit_transform(X_train)\n",
    "    \n",
    "    X_train_train, X_val, y_train_train, y_val = train_test_split(X_transformed, y_train, test_size = 0.1, stratify = y_train)\n",
    "    \n",
    "    trainingImbalanced(gridModel, X_train_train, y_train_train, weight_factor)\n",
    "    \n",
    "    calibrated = CalibratedClassifierCV(gridModel, method = 'isotonic', cv = 'prefit')\n",
    "    \n",
    "    calibrated.fit(X_val, y_val)\n",
    "    \n",
    "    X_testTrans = scaler.transform(X_test)\n",
    "    \n",
    "    #return gridModel.predict(X_testTrans), gridModel.predict_proba(X_testTrans)[:,1]\n",
    "    return calibrated.predict_proba(X_testTrans)[:,1], calibrated.predict_proba(X_val)[:,1], y_val\n",
    "\n",
    "def trainAndCompareCalibration(Model, X_train, y_train, X_test, y_test, modelName, weight_factor = 1):\n",
    "    \n",
    "    yProbCal, yCalTrain, y_valCal, calibrated = trainAndCalibrate1(Model, X_train, y_train, X_test, weight_factor)\n",
    "\n",
    "    \n",
    "\n",
    "    precCal, recCal, thresholdCal = precision_recall_curve(y_test, yProbCal)\n",
    "    plt.plot(recCal,precCal, label = f'Calibrated {modelName}')\n",
    " \n",
    "    \n",
    "    trainInfo = precision_recall_curve(y_valCal, yCalTrain)\n",
    "    plt.plot(trainInfo[1],trainInfo[0], label = f'Calibrated Train {modelName}')  \n",
    "    \n",
    "    plt.grid()\n",
    "    plt.legend()\n",
    "    plt.show()\n",
    "    \n",
    "    return calibrated, trainInfo\n",
    "    #return thresholdCal\n"
   ]
  },
  {
   "cell_type": "code",
   "execution_count": 20,
   "metadata": {},
   "outputs": [
    {
     "data": {
      "image/png": "[encoded data removed]",
      "text/plain": [
       "<Figure size 432x288 with 1 Axes>"
      ]
     },
     "metadata": {
      "needs_background": "light"
     },
     "output_type": "display_data"
    },
    {
     "data": {
      "text/plain": [
       "array([0.01233934, 0.01458263, 0.01489333, 0.01753825, 0.01961527,\n",
       "       0.01978154, 0.02009224, 0.02125428, 0.02393346, 0.02424417,\n",
       "       0.02439809, 0.02548513, 0.02577999, 0.02609069, 0.02725273,\n",
       "       0.02772842, 0.02803912, 0.02839977, 0.02967547, 0.03024629,\n",
       "       0.03039655, 0.03095359, 0.0312094 , 0.03198745, 0.03305592,\n",
       "       0.03372687, 0.03403757, 0.03455215, 0.03466809, 0.03487437,\n",
       "       0.03492673, 0.03651462, 0.03652174, 0.03718636, 0.03744848,\n",
       "       0.03775918, 0.03822952, 0.03826679, 0.0383484 , 0.03839199,\n",
       "       0.03923258, 0.04011332, 0.04030442, 0.04082048, 0.04094598,\n",
       "       0.04114545, 0.04149222, 0.04182808, 0.04258233, 0.0426165 ,\n",
       "       0.04342843, 0.0439296 , 0.04441918, 0.04453512, 0.0446366 ,\n",
       "       0.04513324, 0.04539536, 0.04545131, 0.04570606, 0.04584484,\n",
       "       0.04638165, 0.04654286, 0.04694443, 0.04715428, 0.04723189,\n",
       "       0.04725329, 0.04758036, 0.04769137, 0.04809641, 0.04814808,\n",
       "       0.04818311, 0.04885485, 0.04894245, 0.04907841, 0.04942688,\n",
       "       0.04961913, 0.04983597, 0.04995006, 0.05029054, 0.05046398,\n",
       "       0.05058892, 0.0506875 , 0.05169511, 0.05185174, 0.05199722,\n",
       "       0.05211317, 0.05324662, 0.05352162, 0.05373274, 0.05395969,\n",
       "       0.05432278, 0.05439188, 0.05440866, 0.05499556, 0.05510116,\n",
       "       0.05545904, 0.05598835, 0.0561043 , 0.05612999, 0.05621838,\n",
       "       0.05630509, 0.05680173, 0.05727695, 0.0574666 , 0.05756648,\n",
       "       0.05796344, 0.05798966, 0.05805014, 0.05826555, 0.05828456,\n",
       "       0.05830222, 0.05927315, 0.05997372, 0.06042077, 0.06052255,\n",
       "       0.0606602 , 0.06168459, 0.06225668, 0.06227149, 0.06307585,\n",
       "       0.06311753, 0.06326428, 0.06341487, 0.06358102, 0.06364333,\n",
       "       0.06482841, 0.06491511, 0.06532607, 0.0655028 , 0.06554148,\n",
       "       0.06562819, 0.06595256, 0.06599702, 0.06601134, 0.06611163,\n",
       "       0.06623143, 0.06658565, 0.06678714, 0.0676967 , 0.06785668,\n",
       "       0.06802284, 0.06869379, 0.06909638, 0.06953261, 0.06961932,\n",
       "       0.06963413, 0.06995305, 0.07039347, 0.07055345, 0.07100732,\n",
       "       0.07102272, 0.07143655, 0.07154124, 0.0720391 , 0.07290412,\n",
       "       0.07328727, 0.07331656, 0.07357506, 0.07406308, 0.07414978,\n",
       "       0.07420612, 0.07433373, 0.07505934, 0.0752589 , 0.07543473,\n",
       "       0.07587837, 0.07637231, 0.07645268, 0.07645902, 0.0764789 ,\n",
       "       0.07660712, 0.07663308, 0.07675479, 0.07689525, 0.07717129,\n",
       "       0.07746431, 0.0775662 , 0.07758995, 0.07769129, 0.0777561 ,\n",
       "       0.0777624 , 0.07789993, 0.07819376, 0.07828325, 0.07840966,\n",
       "       0.07871248, 0.07906999, 0.07919954, 0.07942586, 0.08016108,\n",
       "       0.08059249, 0.08074592, 0.08107965, 0.08140925, 0.08142437,\n",
       "       0.08142571, 0.08190411, 0.08190613, 0.08209666, 0.082153  ,\n",
       "       0.08262154, 0.08287545, 0.0831543 , 0.08320578, 0.08331765,\n",
       "       0.08345641, 0.08372465, 0.08373495, 0.08382525, 0.08392959,\n",
       "       0.08403072, 0.0844059 , 0.08460289, 0.0849304 , 0.08527639,\n",
       "       0.0854697 , 0.08585107, 0.08626556, 0.08634593, 0.08648193,\n",
       "       0.08686508, 0.08708054, 0.08758562, 0.08802185, 0.0882979 ,\n",
       "       0.08830157, 0.08872951, 0.08878971, 0.08888271, 0.08902653,\n",
       "       0.0893607 , 0.08953994, 0.08989525, 0.08995012, 0.0900236 ,\n",
       "       0.09007815, 0.09051413, 0.09056842, 0.09063917, 0.09073235,\n",
       "       0.09081024, 0.09109894, 0.09140329, 0.09229029, 0.09255232,\n",
       "       0.09255464, 0.0927687 , 0.09303907, 0.09304774, 0.0934753 ,\n",
       "       0.09392397, 0.09433123, 0.09433616, 0.09472348, 0.09476721,\n",
       "       0.09486155, 0.09494962, 0.09498706, 0.09499244, 0.09548192,\n",
       "       0.09600544, 0.09611264, 0.09659889, 0.09669687, 0.09673211,\n",
       "       0.09689546, 0.09725925, 0.09745258, 0.09789973, 0.0979151 ,\n",
       "       0.09844911, 0.09892277, 0.09942818, 0.09968109, 0.09991631,\n",
       "       0.09992374, 0.10027867, 0.100315  , 0.10033156, 0.10040171,\n",
       "       0.10079038, 0.10085197, 0.10120476, 0.10135137, 0.10156318,\n",
       "       0.10159966, 0.10164074, 0.10164441, 0.10222555, 0.10275989,\n",
       "       0.10334795, 0.10335695, 0.10398201, 0.10431016, 0.10453518,\n",
       "       0.10481522, 0.10481657, 0.10539946, 0.10546151, 0.10589748,\n",
       "       0.10625828, 0.10653668, 0.10681814, 0.10711662, 0.10720333,\n",
       "       0.10720468, 0.10755814, 0.10761002, 0.107679  , 0.1076942 ,\n",
       "       0.1077255 , 0.10790614, 0.10806632, 0.10830129, 0.10928155,\n",
       "       0.10957939, 0.10994173, 0.11008273, 0.11125794, 0.11129193,\n",
       "       0.11135597, 0.11149485, 0.11152831, 0.11194727, 0.11199958,\n",
       "       0.11223112, 0.11235898, 0.11258795, 0.11297221, 0.11323842,\n",
       "       0.11326091, 0.11337124, 0.11339966, 0.11349412, 0.11405905,\n",
       "       0.11447926, 0.11448356, 0.11448723, 0.11456732, 0.11496237,\n",
       "       0.11504163, 0.11515021, 0.11518207, 0.11547869, 0.11562918,\n",
       "       0.11580336, 0.11585302, 0.11626381, 0.11648728, 0.11695627,\n",
       "       0.11722917, 0.1173197 , 0.11735692, 0.11805751, 0.11806385,\n",
       "       0.11820382, 0.11832993, 0.11836838, 0.11859857, 0.1187403 ,\n",
       "       0.11880425, 0.1188208 , 0.11903274, 0.11929598, 0.11954638,\n",
       "       0.11975916, 0.11989786, 0.12053702, 0.12060106, 0.12124913,\n",
       "       0.12241424, 0.12242221, 0.1224569 , 0.12248625, 0.12278455,\n",
       "       0.12297662, 0.12298406, 0.12342557, 0.12419879, 0.12420207,\n",
       "       0.12433767, 0.12479009, 0.12485413, 0.12487301, 0.1252018 ,\n",
       "       0.12544782, 0.12560587, 0.12561383, 0.12572754, 0.12616824,\n",
       "       0.12688122, 0.12703762, 0.1271218 , 0.12749326, 0.128472  ,\n",
       "       0.12853604, 0.12876617, 0.12901182, 0.12919045, 0.13025999,\n",
       "       0.13026706, 0.13059174, 0.1307052 , 0.13086516, 0.13121487,\n",
       "       0.13137487, 0.13166362, 0.13172766, 0.13203811, 0.13234859,\n",
       "       0.13296986, 0.13321272, 0.13345162, 0.13351849, 0.13391115,\n",
       "       0.13482694, 0.13510771, 0.13519504, 0.13532907, 0.13546795,\n",
       "       0.13581344, 0.13626839, 0.1370335 , 0.13711422, 0.1382484 ,\n",
       "       0.13861343, 0.13902563, 0.1390455 , 0.13916175, 0.13918367,\n",
       "       0.13922212, 0.13955604, 0.13974605, 0.13996704, 0.14001434,\n",
       "       0.14015322, 0.14028097, 0.14060564, 0.14180505, 0.14312263,\n",
       "       0.14341483, 0.14383512, 0.14428173, 0.14430944, 0.14464119,\n",
       "       0.14505313, 0.1450611 , 0.14550935, 0.14562295, 0.14588936,\n",
       "       0.14605554, 0.14641606, 0.14654767, 0.14702675, 0.14750106,\n",
       "       0.14756794, 0.14784069, 0.14784615, 0.14822785, 0.14871423,\n",
       "       0.14987632, 0.15111089, 0.15111106, 0.15182932, 0.15234905,\n",
       "       0.15266287, 0.15270257, 0.15289888, 0.15299604, 0.15309495,\n",
       "       0.15313315, 0.15344846, 0.15430268, 0.15434312, 0.15455966,\n",
       "       0.15537957, 0.1558545 , 0.15667794, 0.15696575, 0.15788725,\n",
       "       0.15796796, 0.15821764, 0.1583594 , 0.15986957, 0.15989657,\n",
       "       0.16000359, 0.16041652, 0.16051649, 0.16100696, 0.16107887,\n",
       "       0.16141227, 0.16258919, 0.1627688 , 0.1639404 , 0.16423635,\n",
       "       0.16468886, 0.16514731, 0.16550569, 0.16573491, 0.16632203,\n",
       "       0.16694833, 0.16788049, 0.16839257, 0.16869443, 0.16906365,\n",
       "       0.16976161, 0.16993205, 0.17013143, 0.17041068, 0.17042861,\n",
       "       0.17073006, 0.17110988, 0.17158419, 0.17188863, 0.17218323,\n",
       "       0.17251521, 0.17289129, 0.17351662, 0.17384978, 0.17387602,\n",
       "       0.17408075, 0.17516449, 0.17549605, 0.17549894, 0.17670824,\n",
       "       0.17698201, 0.17723634, 0.17753168, 0.17758307, 0.17759451,\n",
       "       0.17838581, 0.17885627, 0.17943641, 0.18052613, 0.18072331,\n",
       "       0.18125804, 0.18126759, 0.18197037, 0.18328655, 0.18438469,\n",
       "       0.18509009, 0.18524981, 0.18587707, 0.18635944, 0.1864395 ,\n",
       "       0.18759793, 0.18778264, 0.18814458, 0.18862203, 0.18890483,\n",
       "       0.19005273, 0.19009534, 0.19112441, 0.19153115, 0.19196362,\n",
       "       0.19219911, 0.19315791, 0.19336895, 0.19424413, 0.19523581,\n",
       "       0.19580539, 0.1961555 , 0.19668054, 0.19689696, 0.19750573,\n",
       "       0.19827185, 0.20003144, 0.20017057, 0.2008199 , 0.20203743,\n",
       "       0.20219984, 0.20240569, 0.20289555, 0.20301928, 0.20332939,\n",
       "       0.20396723, 0.20600014, 0.20606477, 0.20846782, 0.20851596,\n",
       "       0.20899832, 0.21135237, 0.21167606, 0.21180751, 0.21220688,\n",
       "       0.21394702, 0.21396048, 0.21414776, 0.21466107, 0.21509787,\n",
       "       0.21511667, 0.21605156, 0.21617221, 0.21629238, 0.21665913,\n",
       "       0.21755416, 0.21834799, 0.21864865, 0.21943813, 0.2194787 ,\n",
       "       0.21999426, 0.22015376, 0.22073152, 0.22202106, 0.22202989,\n",
       "       0.22303096, 0.22359286, 0.22520079, 0.22522152, 0.22533522,\n",
       "       0.22553444, 0.22627413, 0.22712062, 0.22783393, 0.22836492,\n",
       "       0.22851427, 0.22852206, 0.22943302, 0.2307835 , 0.2308408 ,\n",
       "       0.23113523, 0.23220397, 0.23306062, 0.2331869 , 0.23399415,\n",
       "       0.23665625, 0.23765926, 0.23805944, 0.24011386, 0.24085089,\n",
       "       0.24422045, 0.24446168, 0.24454871, 0.24466878, 0.24486106,\n",
       "       0.24696427, 0.24722103, 0.24991366, 0.2526093 , 0.25276237,\n",
       "       0.25285896, 0.25305771, 0.25484286, 0.25540468, 0.2597817 ,\n",
       "       0.26029815, 0.2606044 , 0.26123433, 0.26183869, 0.26214257,\n",
       "       0.26456559, 0.26726662, 0.26810786, 0.2682475 , 0.26926406,\n",
       "       0.27075004, 0.27100064, 0.27153846, 0.27245569, 0.27397943,\n",
       "       0.27429516, 0.2756966 , 0.27757848, 0.27949326, 0.28046862,\n",
       "       0.28085296, 0.28087369, 0.28160425, 0.28513867, 0.2852445 ,\n",
       "       0.29190295, 0.29212111, 0.2928592 , 0.29433422, 0.29552028,\n",
       "       0.29613545, 0.29798879, 0.29875969, 0.29911888, 0.3017067 ,\n",
       "       0.30459243, 0.30840887, 0.30854068, 0.31176482, 0.31732043,\n",
       "       0.31897114, 0.31937353, 0.32019481, 0.32397444, 0.32455253,\n",
       "       0.32526731, 0.32642828, 0.32753088, 0.32840571, 0.33075926,\n",
       "       0.33401365, 0.33582418, 0.33817417, 0.33870614, 0.34305397,\n",
       "       0.34443747, 0.35022636, 0.35858925, 0.35866624, 0.35907759,\n",
       "       0.3619975 , 0.36565217, 0.36661312, 0.3666884 , 0.37141134,\n",
       "       0.37428571, 0.37855315, 0.38004488, 0.38249662, 0.38386781,\n",
       "       0.38799176, 0.38893567, 0.39130592, 0.39302531, 0.39723551,\n",
       "       0.39830175, 0.39970048, 0.40045904, 0.4035758 , 0.40361709,\n",
       "       0.43148685, 0.43676329, 0.44539683, 0.45655079, 0.46258746,\n",
       "       0.47598506, 0.501049  ])"
      ]
     },
     "execution_count": 20,
     "metadata": {},
     "output_type": "execute_result"
    }
   ],
   "source": [
    "tree_clf = DecisionTreeClassifier(max_depth = 6)\n",
    "\n",
    "trainAndCompareCalibration(tree_clf, X_train, y_train, X_test, y_test,'Decision Tree', 1)"
   ]
  },
  {
   "cell_type": "code",
   "execution_count": 18,
   "metadata": {},
   "outputs": [
    {
     "data": {
      "text/plain": [
       "DecisionTreeClassifier(max_depth=6)"
      ]
     },
     "execution_count": 18,
     "metadata": {},
     "output_type": "execute_result"
    }
   ],
   "source": [
    "tree_clf.best_estimator_"
   ]
  },
  {
   "cell_type": "code",
   "execution_count": 37,
   "metadata": {},
   "outputs": [
    {
     "data": {
      "image/png": "[encoded data removed]",
      "text/plain": [
       "<Figure size 432x288 with 1 Axes>"
      ]
     },
     "metadata": {
      "needs_background": "light"
     },
     "output_type": "display_data"
    },
    {
     "data": {
      "text/plain": [
       "array([0.00846154, 0.01399027, 0.02061856, 0.02139037, 0.02658789,\n",
       "       0.04464286, 0.05405405, 0.06129398, 0.06277056, 0.0862069 ,\n",
       "       0.10722611, 0.12449799, 0.19417476, 0.21126761, 0.25      ,\n",
       "       0.55555556])"
      ]
     },
     "execution_count": 37,
     "metadata": {},
     "output_type": "execute_result"
    }
   ],
   "source": [
    "tree_clf = GridSearchCV(DecisionTreeClassifier(), param_grid = {'max_depth': range(4,7)}, scoring = 'precision')\n",
    "\n",
    "trainAndCompareCalibration(tree_clf, X_train, y_train, X_test, y_test,'Decision Tree', 1)"
   ]
  },
  {
   "cell_type": "code",
   "execution_count": 31,
   "metadata": {},
   "outputs": [
    {
     "ename": "AttributeError",
     "evalue": "'CalibratedClassifierCV' object has no attribute 'feature_importances_'",
     "output_type": "error",
     "traceback": [
      "\u001b[1;31m---------------------------------------------------------------------------\u001b[0m",
      "\u001b[1;31mAttributeError\u001b[0m                            Traceback (most recent call last)",
      "\u001b[1;32m<ipython-input-31-d5ee661da5e0>\u001b[0m in \u001b[0;36m<module>\u001b[1;34m\u001b[0m\n\u001b[0;32m      1\u001b[0m \u001b[0mName\u001b[0m \u001b[1;33m=\u001b[0m \u001b[1;33m[\u001b[0m\u001b[1;33m]\u001b[0m\u001b[1;33m\u001b[0m\u001b[1;33m\u001b[0m\u001b[0m\n\u001b[0;32m      2\u001b[0m \u001b[0mImportance\u001b[0m \u001b[1;33m=\u001b[0m \u001b[1;33m[\u001b[0m\u001b[1;33m]\u001b[0m\u001b[1;33m\u001b[0m\u001b[1;33m\u001b[0m\u001b[0m\n\u001b[1;32m----> 3\u001b[1;33m \u001b[1;32mfor\u001b[0m \u001b[0mname\u001b[0m\u001b[1;33m,\u001b[0m \u001b[0mimportance\u001b[0m \u001b[1;32min\u001b[0m \u001b[0mzip\u001b[0m\u001b[1;33m(\u001b[0m\u001b[0mX_train\u001b[0m\u001b[1;33m.\u001b[0m\u001b[0mcolumns\u001b[0m\u001b[1;33m,\u001b[0m \u001b[0mcal_rf\u001b[0m\u001b[1;33m.\u001b[0m\u001b[0mfeature_importances_\u001b[0m\u001b[1;33m)\u001b[0m\u001b[1;33m:\u001b[0m\u001b[1;33m\u001b[0m\u001b[1;33m\u001b[0m\u001b[0m\n\u001b[0m\u001b[0;32m      4\u001b[0m     \u001b[0mName\u001b[0m\u001b[1;33m.\u001b[0m\u001b[0mappend\u001b[0m\u001b[1;33m(\u001b[0m\u001b[0mname\u001b[0m\u001b[1;33m)\u001b[0m\u001b[1;33m\u001b[0m\u001b[1;33m\u001b[0m\u001b[0m\n\u001b[0;32m      5\u001b[0m     \u001b[0mImportance\u001b[0m\u001b[1;33m.\u001b[0m\u001b[0mappend\u001b[0m\u001b[1;33m(\u001b[0m\u001b[0mimportance\u001b[0m\u001b[1;33m)\u001b[0m\u001b[1;33m\u001b[0m\u001b[1;33m\u001b[0m\u001b[0m\n",
      "\u001b[1;31mAttributeError\u001b[0m: 'CalibratedClassifierCV' object has no attribute 'feature_importances_'"
     ]
    }
   ],
   "source": [
    "Name = []\n",
    "Importance = []\n",
    "for name, importance in zip(X_train.columns, cal_rf.feature_importances_):\n",
    "    Name.append(name)\n",
    "    Importance.append(importance)\n",
    "\n",
    "df_imp = pd.DataFrame({'Name': Name, 'Importance': Importance})\n",
    "\n",
    "df_imp.sort_values('Importance', ascending = False)"
   ]
  },
  {
   "cell_type": "code",
   "execution_count": 49,
   "metadata": {},
   "outputs": [
    {
     "data": {
      "image/png": "[encoded data removed]",
      "text/plain": [
       "<Figure size 432x288 with 1 Axes>"
      ]
     },
     "metadata": {
      "needs_background": "light"
     },
     "output_type": "display_data"
    }
   ],
   "source": [
    "rf_clf = RandomForestClassifier(max_depth = 8)\n",
    "cal_rf, rf_info = trainAndCompareCalibration(rf_clf, X_train, y_train, X_test, y_test, 'Random Forest', 1)"
   ]
  },
  {
   "cell_type": "code",
   "execution_count": 92,
   "metadata": {},
   "outputs": [
    {
     "data": {
      "image/png": "[encoded data removed]",
      "text/plain": [
       "<Figure size 432x288 with 1 Axes>"
      ]
     },
     "metadata": {
      "needs_background": "light"
     },
     "output_type": "display_data"
    }
   ],
   "source": [
    "rf_clf = RandomForestClassifier(max_depth = 8, n_estimators = 200)\n",
    "cal_rf, rf_info = trainAndCompareCalibration(rf_clf, X_train, y_train, X_test, y_test, 'Random Forest', 1)"
   ]
  },
  {
   "cell_type": "code",
   "execution_count": 80,
   "metadata": {},
   "outputs": [
    {
     "data": {
      "image/png": "[encoded data removed]",
      "text/plain": [
       "<Figure size 432x288 with 1 Axes>"
      ]
     },
     "metadata": {
      "needs_background": "light"
     },
     "output_type": "display_data"
    },
    {
     "data": {
      "text/plain": [
       "array([0.        , 0.00228124, 0.00357458, 0.00469006, 0.00564972,\n",
       "       0.00760067, 0.00804717, 0.00842891, 0.00954806, 0.01043111,\n",
       "       0.01339122, 0.01754386, 0.01758369, 0.01788909, 0.01811566,\n",
       "       0.01958579, 0.02297214, 0.02545455, 0.02610213, 0.02679308,\n",
       "       0.02681992, 0.03347068, 0.03571429, 0.03574445, 0.03580395,\n",
       "       0.03581836, 0.03587661, 0.03588061, 0.03591471, 0.03591774,\n",
       "       0.03594538, 0.03597405, 0.0359933 , 0.03603748, 0.03605057,\n",
       "       0.03609272, 0.0361128 , 0.03611333, 0.03611505, 0.03617021,\n",
       "       0.03849806, 0.03981481, 0.04243211, 0.043131  , 0.04347826,\n",
       "       0.04352651, 0.04654953, 0.05057471, 0.05068569, 0.05082598,\n",
       "       0.05085229, 0.05093842, 0.0511453 , 0.05152934, 0.0519478 ,\n",
       "       0.05302956, 0.05368517, 0.05436251, 0.056674  , 0.05834039,\n",
       "       0.06067712, 0.06080966, 0.06540934, 0.06576784, 0.06756757,\n",
       "       0.06896552, 0.07815235, 0.08646328, 0.08701083, 0.0952381 ,\n",
       "       0.10069469, 0.10229654, 0.10255393, 0.10572703, 0.1073869 ,\n",
       "       0.11399522, 0.11864407, 0.12492237, 0.13130587, 0.133991  ,\n",
       "       0.13681254, 0.1374919 , 0.14516169, 0.14736049, 0.1488054 ,\n",
       "       0.14945472, 0.15168539, 0.23809524, 0.2511251 , 0.25301205,\n",
       "       0.44444444, 0.45095701, 0.45454545, 0.46051761, 0.47517676,\n",
       "       0.48614877, 0.48782534, 0.49260527, 0.5       , 0.5013895 ,\n",
       "       0.50338716, 0.7097802 , 0.90520057, 0.93142732, 1.        ])"
      ]
     },
     "execution_count": 80,
     "metadata": {},
     "output_type": "execute_result"
    }
   ],
   "source": [
    "rf_clf = GridSearchCV(RandomForestClassifier(), param_grid = {'max_depth': range(5,9)}, scoring = 'f1')\n",
    "trainAndCompareCalibration(rf_clf, X_train, y_train, X_test, y_test, 'Random Forest', 1)"
   ]
  },
  {
   "cell_type": "code",
   "execution_count": 50,
   "metadata": {},
   "outputs": [
    {
     "data": {
      "image/png": "[encoded data removed]",
      "text/plain": [
       "<Figure size 432x288 with 1 Axes>"
      ]
     },
     "metadata": {
      "needs_background": "light"
     },
     "output_type": "display_data"
    }
   ],
   "source": [
    "xgb = XGBClassifier(verbosity=0)\n",
    "\n",
    "cal_xgb, xgb_info = trainAndCompareCalibration(rf_clf, X_train, y_train, X_test, y_test, 'XGBoost', 1)"
   ]
  },
  {
   "cell_type": "code",
   "execution_count": 39,
   "metadata": {},
   "outputs": [
    {
     "data": {
      "image/png": "[encoded data removed]",
      "text/plain": [
       "<Figure size 432x288 with 1 Axes>"
      ]
     },
     "metadata": {
      "needs_background": "light"
     },
     "output_type": "display_data"
    },
    {
     "data": {
      "text/plain": [
       "CalibratedClassifierCV(base_estimator=AdaBoostClassifier(n_estimators=500),\n",
       "                       cv=10, method='isotonic')"
      ]
     },
     "execution_count": 39,
     "metadata": {},
     "output_type": "execute_result"
    }
   ],
   "source": [
    "ada_clf = AdaBoostClassifier(n_estimators= 500)\n",
    "\n",
    "trainAndCompareCalibration(ada_clf, X_train, y_train, X_test, y_test, 'AdaBoost')"
   ]
  },
  {
   "cell_type": "code",
   "execution_count": 58,
   "metadata": {},
   "outputs": [
    {
     "data": {
      "image/png": "[encoded data removed]",
      "text/plain": [
       "<Figure size 432x288 with 1 Axes>"
      ]
     },
     "metadata": {
      "needs_background": "light"
     },
     "output_type": "display_data"
    }
   ],
   "source": [
    "ada_clf = AdaBoostClassifier(n_estimators= 100)\n",
    "\n",
    "cal_ada, ada_info = trainAndCompareCalibration(ada_clf, X_train, y_train, X_test, y_test, 'AdaBoost')"
   ]
  },
  {
   "cell_type": "code",
   "execution_count": 53,
   "metadata": {},
   "outputs": [
    {
     "name": "stderr",
     "output_type": "stream",
     "text": [
      "C:\\Users\\kungc\\AppData\\Local\\Packages\\PythonSoftwareFoundation.Python.3.8_qbz5n2kfra8p0\\LocalCache\\local-packages\\Python38\\site-packages\\xgboost\\sklearn.py:1146: UserWarning: The use of label encoder in XGBClassifier is deprecated and will be removed in a future release. To remove this warning, do the following: 1) Pass option use_label_encoder=False when constructing XGBClassifier object; and 2) Encode your labels (y) as integers starting with 0, i.e. 0, 1, 2, ..., [num_class - 1].\n",
      "  warnings.warn(label_encoder_deprecation_msg, UserWarning)\n",
      "C:\\Users\\kungc\\AppData\\Local\\Packages\\PythonSoftwareFoundation.Python.3.8_qbz5n2kfra8p0\\LocalCache\\local-packages\\Python38\\site-packages\\xgboost\\sklearn.py:1146: UserWarning: The use of label encoder in XGBClassifier is deprecated and will be removed in a future release. To remove this warning, do the following: 1) Pass option use_label_encoder=False when constructing XGBClassifier object; and 2) Encode your labels (y) as integers starting with 0, i.e. 0, 1, 2, ..., [num_class - 1].\n",
      "  warnings.warn(label_encoder_deprecation_msg, UserWarning)\n",
      "C:\\Users\\kungc\\AppData\\Local\\Packages\\PythonSoftwareFoundation.Python.3.8_qbz5n2kfra8p0\\LocalCache\\local-packages\\Python38\\site-packages\\xgboost\\sklearn.py:1146: UserWarning: The use of label encoder in XGBClassifier is deprecated and will be removed in a future release. To remove this warning, do the following: 1) Pass option use_label_encoder=False when constructing XGBClassifier object; and 2) Encode your labels (y) as integers starting with 0, i.e. 0, 1, 2, ..., [num_class - 1].\n",
      "  warnings.warn(label_encoder_deprecation_msg, UserWarning)\n",
      "C:\\Users\\kungc\\AppData\\Local\\Packages\\PythonSoftwareFoundation.Python.3.8_qbz5n2kfra8p0\\LocalCache\\local-packages\\Python38\\site-packages\\xgboost\\sklearn.py:1146: UserWarning: The use of label encoder in XGBClassifier is deprecated and will be removed in a future release. To remove this warning, do the following: 1) Pass option use_label_encoder=False when constructing XGBClassifier object; and 2) Encode your labels (y) as integers starting with 0, i.e. 0, 1, 2, ..., [num_class - 1].\n",
      "  warnings.warn(label_encoder_deprecation_msg, UserWarning)\n",
      "C:\\Users\\kungc\\AppData\\Local\\Packages\\PythonSoftwareFoundation.Python.3.8_qbz5n2kfra8p0\\LocalCache\\local-packages\\Python38\\site-packages\\xgboost\\sklearn.py:1146: UserWarning: The use of label encoder in XGBClassifier is deprecated and will be removed in a future release. To remove this warning, do the following: 1) Pass option use_label_encoder=False when constructing XGBClassifier object; and 2) Encode your labels (y) as integers starting with 0, i.e. 0, 1, 2, ..., [num_class - 1].\n",
      "  warnings.warn(label_encoder_deprecation_msg, UserWarning)\n",
      "C:\\Users\\kungc\\AppData\\Local\\Packages\\PythonSoftwareFoundation.Python.3.8_qbz5n2kfra8p0\\LocalCache\\local-packages\\Python38\\site-packages\\xgboost\\sklearn.py:1146: UserWarning: The use of label encoder in XGBClassifier is deprecated and will be removed in a future release. To remove this warning, do the following: 1) Pass option use_label_encoder=False when constructing XGBClassifier object; and 2) Encode your labels (y) as integers starting with 0, i.e. 0, 1, 2, ..., [num_class - 1].\n",
      "  warnings.warn(label_encoder_deprecation_msg, UserWarning)\n",
      "C:\\Users\\kungc\\AppData\\Local\\Packages\\PythonSoftwareFoundation.Python.3.8_qbz5n2kfra8p0\\LocalCache\\local-packages\\Python38\\site-packages\\xgboost\\sklearn.py:1146: UserWarning: The use of label encoder in XGBClassifier is deprecated and will be removed in a future release. To remove this warning, do the following: 1) Pass option use_label_encoder=False when constructing XGBClassifier object; and 2) Encode your labels (y) as integers starting with 0, i.e. 0, 1, 2, ..., [num_class - 1].\n",
      "  warnings.warn(label_encoder_deprecation_msg, UserWarning)\n",
      "C:\\Users\\kungc\\AppData\\Local\\Packages\\PythonSoftwareFoundation.Python.3.8_qbz5n2kfra8p0\\LocalCache\\local-packages\\Python38\\site-packages\\xgboost\\sklearn.py:1146: UserWarning: The use of label encoder in XGBClassifier is deprecated and will be removed in a future release. To remove this warning, do the following: 1) Pass option use_label_encoder=False when constructing XGBClassifier object; and 2) Encode your labels (y) as integers starting with 0, i.e. 0, 1, 2, ..., [num_class - 1].\n",
      "  warnings.warn(label_encoder_deprecation_msg, UserWarning)\n"
     ]
    },
    {
     "data": {
      "image/png": "[encoded data removed]",
      "text/plain": [
       "<Figure size 432x288 with 1 Axes>"
      ]
     },
     "metadata": {
      "needs_background": "light"
     },
     "output_type": "display_data"
    },
    {
     "data": {
      "text/plain": [
       "(CalibratedClassifierCV(base_estimator=VotingClassifier(estimators=[('rf',\n",
       "                                                                     RandomForestClassifier(max_depth=8)),\n",
       "                                                                    ('xgb',\n",
       "                                                                     XGBClassifier(base_score=None,\n",
       "                                                                                   booster=None,\n",
       "                                                                                   colsample_bylevel=None,\n",
       "                                                                                   colsample_bynode=None,\n",
       "                                                                                   colsample_bytree=None,\n",
       "                                                                                   gamma=None,\n",
       "                                                                                   gpu_id=None,\n",
       "                                                                                   importance_type='gain',\n",
       "                                                                                   interaction_constraints=None,\n",
       "                                                                                   learning_rate=None,\n",
       "                                                                                   max_delta_step=None,\n",
       "                                                                                   max_depth...\n",
       "                                                                                   monotone_constraints=None,\n",
       "                                                                                   n_estimators=100,\n",
       "                                                                                   n_jobs=None,\n",
       "                                                                                   num_parallel_tree=None,\n",
       "                                                                                   random_state=None,\n",
       "                                                                                   reg_alpha=None,\n",
       "                                                                                   reg_lambda=None,\n",
       "                                                                                   scale_pos_weight=None,\n",
       "                                                                                   subsample=None,\n",
       "                                                                                   tree_method=None,\n",
       "                                                                                   validate_parameters=None,\n",
       "                                                                                   verbosity=0)),\n",
       "                                                                    ('ada',\n",
       "                                                                     AdaBoostClassifier(n_estimators=100))],\n",
       "                                                        voting='soft'),\n",
       "                        cv=<generator object TimeSeriesSplit.split at 0x0000027336CD35F0>,\n",
       "                        method='isotonic'),\n",
       " (array([0.04793013, 0.04791729, 0.04791797, ..., 1.        , 1.        ,\n",
       "         1.        ]),\n",
       "  array([1.        , 0.9997037 , 0.9997037 , ..., 0.00177778, 0.00148148,\n",
       "         0.        ]),\n",
       "  array([0.00879107, 0.00879402, 0.00879637, ..., 0.8129145 , 0.8148604 ,\n",
       "         0.8237069 ])))"
      ]
     },
     "execution_count": 53,
     "metadata": {},
     "output_type": "execute_result"
    }
   ],
   "source": [
    "vote_clf = VotingClassifier([('rf',RandomForestClassifier(max_depth = 8)), \n",
    "                             ('xgb', XGBClassifier(verbosity=0)),\n",
    "                            ('ada', AdaBoostClassifier(n_estimators= 100))],\n",
    "                               voting = 'soft')\n",
    "\n",
    "trainAndCompareCalibration(vote_clf, X_train, y_train, X_test, y_test, 'Voting')"
   ]
  },
  {
   "cell_type": "markdown",
   "metadata": {},
   "source": [
    "### Maximum Voting\n",
    "\n",
    "We tried the voting classifier before, but the result was not great. We will try to see if we can do things differently."
   ]
  },
  {
   "cell_type": "code",
   "execution_count": 85,
   "metadata": {},
   "outputs": [
    {
     "name": "stdout",
     "output_type": "stream",
     "text": [
      "[[26325   473]\n",
      " [ 1787   105]]\n",
      "[[ 9385 17413]\n",
      " [  616  1276]]\n",
      "[[26156   642]\n",
      " [ 1776   116]]\n",
      "[[13553 13245]\n",
      " [  977   915]]\n"
     ]
    },
    {
     "data": {
      "image/png": "[encoded data removed]",
      "text/plain": [
       "<Figure size 432x288 with 1 Axes>"
      ]
     },
     "metadata": {
      "needs_background": "light"
     },
     "output_type": "display_data"
    }
   ],
   "source": [
    "def maxVoting(models, thresholds, X_test, y_test):\n",
    "    predictions = []\n",
    "    \n",
    "    for model,threshold in zip(models,thresholds):\n",
    "        yProba = model.predict_proba(X_test)[:,1]\n",
    "        print(confusion_matrix(y_test, 1 * (yProba > 0.7)))\n",
    "        print(confusion_matrix(y_test, 1 * (yProba > 0.4)))\n",
    "    \n",
    "    #yPred = np.max(np.hstack(predictions), axis = 1)\n",
    "    \n",
    "    #return confusion_matrix(y_test, yPred)\n",
    "\n",
    "models = [cal_rf, cal_xgb]\n",
    "infos = [rf_info, xgb_info]\n",
    "thresholds = []\n",
    "\n",
    "for info in infos:\n",
    "    for prec, thres in zip(info[0], info[2]):\n",
    "        if prec > 0.9:\n",
    "            thresholds.append(thres)\n",
    "            break\n",
    "    \n",
    "    plt.plot(info[1],info[0])\n",
    "\n",
    "plt.grid()\n",
    "\n",
    "#thresholds\n",
    "maxVoting(models, thresholds, X_test, y_test)\n"
   ]
  },
  {
   "cell_type": "code",
   "execution_count": 60,
   "metadata": {},
   "outputs": [
    {
     "data": {
      "text/plain": [
       "(array([0.04449924, 0.04457421, 0.04457597, ..., 1.        , 1.        ,\n",
       "        1.        ]),\n",
       " array([1.00000000e+00, 9.99703704e-01, 9.99703704e-01, ...,\n",
       "        1.18518519e-03, 2.96296296e-04, 0.00000000e+00]),\n",
       " array([0.00256267, 0.00257059, 0.0025732 , ..., 0.90398848, 0.91477273,\n",
       "        0.92748449]))"
      ]
     },
     "execution_count": 60,
     "metadata": {},
     "output_type": "execute_result"
    }
   ],
   "source": [
    "infos[0]"
   ]
  },
  {
   "cell_type": "code",
   "execution_count": 93,
   "metadata": {},
   "outputs": [],
   "source": [
    "import pickle\n",
    "filename = './saved_models/KC_0525_rf.sav'\n",
    "pickle.dump(cal_rf, open(filename,'wb'))"
   ]
  },
  {
   "cell_type": "code",
   "execution_count": 94,
   "metadata": {},
   "outputs": [],
   "source": [
    "scaler = StandardScaler().fit(X_train)\n",
    "filename = './saved_models/KC_0525_scaler.sav'\n",
    "pickle.dump(scaler, open(filename,'wb'))\n"
   ]
  },
  {
   "cell_type": "markdown",
   "metadata": {},
   "source": [
    "### Use the important features to train again"
   ]
  },
  {
   "cell_type": "code",
   "execution_count": 33,
   "metadata": {},
   "outputs": [
    {
     "data": {
      "text/html": [
       "<div>\n",
       "<style scoped>\n",
       "    .dataframe tbody tr th:only-of-type {\n",
       "        vertical-align: middle;\n",
       "    }\n",
       "\n",
       "    .dataframe tbody tr th {\n",
       "        vertical-align: top;\n",
       "    }\n",
       "\n",
       "    .dataframe thead th {\n",
       "        text-align: right;\n",
       "    }\n",
       "</style>\n",
       "<table border=\"1\" class=\"dataframe\">\n",
       "  <thead>\n",
       "    <tr style=\"text-align: right;\">\n",
       "      <th></th>\n",
       "      <th>title_length</th>\n",
       "      <th>mean_upvotes</th>\n",
       "      <th>body_length</th>\n",
       "      <th>body_emoji</th>\n",
       "      <th>figures</th>\n",
       "      <th>body_EQ</th>\n",
       "      <th>title_UL</th>\n",
       "      <th>body_UL</th>\n",
       "      <th>log_num</th>\n",
       "      <th>title_emoji</th>\n",
       "      <th>title_EQ</th>\n",
       "      <th>day_3</th>\n",
       "      <th>day_6</th>\n",
       "      <th>day_4</th>\n",
       "      <th>outside_link</th>\n",
       "    </tr>\n",
       "  </thead>\n",
       "  <tbody>\n",
       "    <tr>\n",
       "      <th>0</th>\n",
       "      <td>8</td>\n",
       "      <td>1.0</td>\n",
       "      <td>11</td>\n",
       "      <td>3</td>\n",
       "      <td>0</td>\n",
       "      <td>0</td>\n",
       "      <td>0.333333</td>\n",
       "      <td>0.278689</td>\n",
       "      <td>0.00000</td>\n",
       "      <td>6</td>\n",
       "      <td>0</td>\n",
       "      <td>0</td>\n",
       "      <td>0</td>\n",
       "      <td>0</td>\n",
       "      <td>0</td>\n",
       "    </tr>\n",
       "    <tr>\n",
       "      <th>1</th>\n",
       "      <td>10</td>\n",
       "      <td>6.0</td>\n",
       "      <td>17</td>\n",
       "      <td>11</td>\n",
       "      <td>0</td>\n",
       "      <td>2</td>\n",
       "      <td>1.000000</td>\n",
       "      <td>0.105691</td>\n",
       "      <td>0.00000</td>\n",
       "      <td>1</td>\n",
       "      <td>0</td>\n",
       "      <td>0</td>\n",
       "      <td>0</td>\n",
       "      <td>0</td>\n",
       "      <td>0</td>\n",
       "    </tr>\n",
       "    <tr>\n",
       "      <th>2</th>\n",
       "      <td>4</td>\n",
       "      <td>1.0</td>\n",
       "      <td>86</td>\n",
       "      <td>1</td>\n",
       "      <td>0</td>\n",
       "      <td>2</td>\n",
       "      <td>0.222222</td>\n",
       "      <td>0.048387</td>\n",
       "      <td>0.00000</td>\n",
       "      <td>0</td>\n",
       "      <td>0</td>\n",
       "      <td>0</td>\n",
       "      <td>0</td>\n",
       "      <td>0</td>\n",
       "      <td>0</td>\n",
       "    </tr>\n",
       "    <tr>\n",
       "      <th>3</th>\n",
       "      <td>14</td>\n",
       "      <td>4.0</td>\n",
       "      <td>43</td>\n",
       "      <td>5</td>\n",
       "      <td>0</td>\n",
       "      <td>1</td>\n",
       "      <td>0.166667</td>\n",
       "      <td>0.040724</td>\n",
       "      <td>0.30103</td>\n",
       "      <td>3</td>\n",
       "      <td>0</td>\n",
       "      <td>0</td>\n",
       "      <td>1</td>\n",
       "      <td>0</td>\n",
       "      <td>0</td>\n",
       "    </tr>\n",
       "    <tr>\n",
       "      <th>4</th>\n",
       "      <td>5</td>\n",
       "      <td>14.0</td>\n",
       "      <td>0</td>\n",
       "      <td>0</td>\n",
       "      <td>0</td>\n",
       "      <td>0</td>\n",
       "      <td>0.080000</td>\n",
       "      <td>0.000000</td>\n",
       "      <td>0.00000</td>\n",
       "      <td>0</td>\n",
       "      <td>5</td>\n",
       "      <td>0</td>\n",
       "      <td>0</td>\n",
       "      <td>0</td>\n",
       "      <td>1</td>\n",
       "    </tr>\n",
       "  </tbody>\n",
       "</table>\n",
       "</div>"
      ],
      "text/plain": [
       "   title_length  mean_upvotes  body_length  body_emoji  figures  body_EQ  \\\n",
       "0             8           1.0           11           3        0        0   \n",
       "1            10           6.0           17          11        0        2   \n",
       "2             4           1.0           86           1        0        2   \n",
       "3            14           4.0           43           5        0        1   \n",
       "4             5          14.0            0           0        0        0   \n",
       "\n",
       "   title_UL   body_UL  log_num  title_emoji  title_EQ  day_3  day_6  day_4  \\\n",
       "0  0.333333  0.278689  0.00000            6         0      0      0      0   \n",
       "1  1.000000  0.105691  0.00000            1         0      0      0      0   \n",
       "2  0.222222  0.048387  0.00000            0         0      0      0      0   \n",
       "3  0.166667  0.040724  0.30103            3         0      0      1      0   \n",
       "4  0.080000  0.000000  0.00000            0         5      0      0      0   \n",
       "\n",
       "   outside_link  \n",
       "0             0  \n",
       "1             0  \n",
       "2             0  \n",
       "3             0  \n",
       "4             1  "
      ]
     },
     "execution_count": 33,
     "metadata": {},
     "output_type": "execute_result"
    }
   ],
   "source": [
    "df_features[df_imp.sort_values('Importance', ascending = False).Name.values[:15]].head()"
   ]
  },
  {
   "cell_type": "code",
   "execution_count": 34,
   "metadata": {},
   "outputs": [],
   "source": [
    "impColumns = df_imp.sort_values('Importance', ascending = False).Name.values[:15]\n",
    "\n",
    "X = df_features[impColumns]\n",
    "y = df_model['Popular']\n",
    "\n",
    "X_train, X_test, y_train, y_test = X[df_model['month'] < 4], X[df_model['month'] >= 4], y[df_model['month'] < 4], y[df_model['month'] >= 4]\n",
    "\n"
   ]
  },
  {
   "cell_type": "code",
   "execution_count": 35,
   "metadata": {},
   "outputs": [
    {
     "name": "stdout",
     "output_type": "stream",
     "text": [
      "[[17306 10223]\n",
      " [  350   811]]\n",
      "DecisionTreeClassifier(max_depth=5)\n"
     ]
    },
    {
     "data": {
      "image/png": "[encoded data removed]",
      "text/plain": [
       "<Figure size 432x288 with 1 Axes>"
      ]
     },
     "metadata": {
      "needs_background": "light"
     },
     "output_type": "display_data"
    },
    {
     "data": {
      "text/plain": [
       "(array([0.04046706, 0.04013308, 0.04623053, 0.05195561, 0.0585094 ,\n",
       "        0.06515643, 0.0685967 , 0.0735426 , 0.07350009, 0.07397912,\n",
       "        0.07831786, 0.0867069 , 0.09178826, 0.09168371, 0.09499719,\n",
       "        0.10295804, 0.1055091 , 0.1143445 , 0.11792602, 0.12286325,\n",
       "        0.15574348, 0.15691869, 0.17078916, 0.17664234, 0.18108974,\n",
       "        0.37423313, 0.42156863, 0.        , 1.        ]),\n",
       " array([1.        , 0.9870801 , 0.95865633, 0.92334195, 0.86821705,\n",
       "        0.76055125, 0.73471146, 0.70628768, 0.69853575, 0.69595177,\n",
       "        0.61757106, 0.50732127, 0.46597761, 0.46339363, 0.43669251,\n",
       "        0.38673557, 0.36950904, 0.33505599, 0.32127476, 0.29715762,\n",
       "        0.19035314, 0.18949182, 0.12489233, 0.1042205 , 0.09732989,\n",
       "        0.05254091, 0.03703704, 0.        , 0.        ]),\n",
       " array([0.        , 0.08324463, 0.22763541, 0.35170271, 0.42229311,\n",
       "        0.42667957, 0.47753755, 0.48899104, 0.52769799, 0.54166478,\n",
       "        0.57820423, 0.58671193, 0.59405312, 0.60689033, 0.68385087,\n",
       "        0.71131652, 0.71343106, 0.74817027, 0.75639119, 0.76585093,\n",
       "        0.76922614, 0.81532921, 0.84033264, 0.86704902, 0.87094768,\n",
       "        0.90378782, 0.9734933 , 0.97560914]))"
      ]
     },
     "execution_count": 35,
     "metadata": {},
     "output_type": "execute_result"
    }
   ],
   "source": [
    "tree_clf = GridSearchCV(DecisionTreeClassifier(), param_grid = {'max_depth': range(4,7)}, scoring = 'precision')\n",
    "\n",
    "trainAndShowConfusionMatrix(tree_clf, X_train, y_train, X_test, y_test,1)\n"
   ]
  },
  {
   "cell_type": "markdown",
   "metadata": {},
   "source": [
    "Using the important features, the result is not too much different. We might be able to only use those and add in other ones."
   ]
  },
  {
   "cell_type": "markdown",
   "metadata": {},
   "source": [
    "### Incorporate Twitter Data\n",
    "\n",
    "We will add in twitter information as our features. We can collect the number of total retweets, likes, and tweets for the past 3 days. Let's see if those information will be useful."
   ]
  },
  {
   "cell_type": "code",
   "execution_count": 14,
   "metadata": {},
   "outputs": [],
   "source": [
    "df_twitter = pd.read_csv('../Twitter Data/GME_TWEETS_individual.csv')\n",
    "\n",
    "df_twitter.Date = df_twitter.Date.astype('str')\n",
    "\n",
    "def convertToUNIX(date):\n",
    "    try:\n",
    "        result = np.datetime64(date).astype('datetime64[s]').astype('int')\n",
    "    except:\n",
    "        result = 0\n",
    "    return result\n",
    "\n",
    "df_grouped = df_twitter.groupby('Date').sum()\n",
    "\n",
    "df_grouped['Date'] = df_grouped.index\n",
    "\n",
    "df_grouped['UNIX'] = df_grouped.Date.apply(convertToUNIX)\n",
    "\n",
    "def getTwitterInfo(timestamp, df, gap = 86400*3):\n",
    "    df_sum = df[(df['UNIX'] < timestamp) & (df['UNIX'] >= timestamp - gap)].sum()\n",
    "    \n",
    "    return df_sum.retweet, df_sum.likes, df_sum.num\n",
    "\n",
    "\n",
    "for i in range(df_model.shape[0]):\n",
    "    df_model.loc[i,['retweet', 'likes', 'num']] = getTwitterInfo(df_model.loc[i,'created'], df_grouped)\n",
    "    "
   ]
  },
  {
   "cell_type": "code",
   "execution_count": 71,
   "metadata": {},
   "outputs": [
    {
     "data": {
      "text/html": [
       "<div>\n",
       "<style scoped>\n",
       "    .dataframe tbody tr th:only-of-type {\n",
       "        vertical-align: middle;\n",
       "    }\n",
       "\n",
       "    .dataframe tbody tr th {\n",
       "        vertical-align: top;\n",
       "    }\n",
       "\n",
       "    .dataframe thead th {\n",
       "        text-align: right;\n",
       "    }\n",
       "</style>\n",
       "<table border=\"1\" class=\"dataframe\">\n",
       "  <thead>\n",
       "    <tr style=\"text-align: right;\">\n",
       "      <th></th>\n",
       "      <th>title</th>\n",
       "      <th>author</th>\n",
       "      <th>ext_link</th>\n",
       "      <th>created</th>\n",
       "      <th>body</th>\n",
       "      <th>score</th>\n",
       "      <th>Popular</th>\n",
       "      <th>title_emoji</th>\n",
       "      <th>body_emoji</th>\n",
       "      <th>title_length</th>\n",
       "      <th>...</th>\n",
       "      <th>day_1</th>\n",
       "      <th>day_2</th>\n",
       "      <th>day_3</th>\n",
       "      <th>day_4</th>\n",
       "      <th>day_5</th>\n",
       "      <th>day_6</th>\n",
       "      <th>month</th>\n",
       "      <th>retweet</th>\n",
       "      <th>likes</th>\n",
       "      <th>num</th>\n",
       "    </tr>\n",
       "  </thead>\n",
       "  <tbody>\n",
       "    <tr>\n",
       "      <th>0</th>\n",
       "      <td>You NEED to see this about GME 🚀🚀🚀🚀🚀🚀</td>\n",
       "      <td>TitsDownOnly</td>\n",
       "      <td>https://www.reddit.com/r/GME/comments/kqfajb/y...</td>\n",
       "      <td>1609786946</td>\n",
       "      <td>After watching this I took a position RIGHT AW...</td>\n",
       "      <td>6</td>\n",
       "      <td>0</td>\n",
       "      <td>6</td>\n",
       "      <td>3</td>\n",
       "      <td>8</td>\n",
       "      <td>...</td>\n",
       "      <td>0</td>\n",
       "      <td>0</td>\n",
       "      <td>0</td>\n",
       "      <td>0</td>\n",
       "      <td>0</td>\n",
       "      <td>0</td>\n",
       "      <td>1</td>\n",
       "      <td>4.0</td>\n",
       "      <td>29.0</td>\n",
       "      <td>11.0</td>\n",
       "    </tr>\n",
       "    <tr>\n",
       "      <th>1</th>\n",
       "      <td>THIS CONVINCED ME TO ALL IN 💰GME (EXTREME PUMP...</td>\n",
       "      <td>TitsDownOnly</td>\n",
       "      <td>https://www.reddit.com/r/GME/comments/kqvp7l/t...</td>\n",
       "      <td>1609841999</td>\n",
       "      <td>This guy explained exactly how to take a posit...</td>\n",
       "      <td>2</td>\n",
       "      <td>0</td>\n",
       "      <td>1</td>\n",
       "      <td>11</td>\n",
       "      <td>10</td>\n",
       "      <td>...</td>\n",
       "      <td>1</td>\n",
       "      <td>0</td>\n",
       "      <td>0</td>\n",
       "      <td>0</td>\n",
       "      <td>0</td>\n",
       "      <td>0</td>\n",
       "      <td>1</td>\n",
       "      <td>3.0</td>\n",
       "      <td>10.0</td>\n",
       "      <td>9.0</td>\n",
       "    </tr>\n",
       "    <tr>\n",
       "      <th>2</th>\n",
       "      <td>ICR conference (11th Jan)</td>\n",
       "      <td>nicky94</td>\n",
       "      <td>https://www.reddit.com/r/GME/comments/krnthg/i...</td>\n",
       "      <td>1609939549</td>\n",
       "      <td>Any speculation or ideas on what Gamestop migh...</td>\n",
       "      <td>14</td>\n",
       "      <td>0</td>\n",
       "      <td>0</td>\n",
       "      <td>1</td>\n",
       "      <td>4</td>\n",
       "      <td>...</td>\n",
       "      <td>0</td>\n",
       "      <td>1</td>\n",
       "      <td>0</td>\n",
       "      <td>0</td>\n",
       "      <td>0</td>\n",
       "      <td>0</td>\n",
       "      <td>1</td>\n",
       "      <td>3.0</td>\n",
       "      <td>23.0</td>\n",
       "      <td>12.0</td>\n",
       "    </tr>\n",
       "    <tr>\n",
       "      <th>3</th>\n",
       "      <td>GME is FINALLY going to the moon, this technic...</td>\n",
       "      <td>TitsDownOnly</td>\n",
       "      <td>https://www.reddit.com/r/GME/comments/kuo3w1/g...</td>\n",
       "      <td>1610315957</td>\n",
       "      <td>After some downwards movement, I think everyb...</td>\n",
       "      <td>11</td>\n",
       "      <td>0</td>\n",
       "      <td>3</td>\n",
       "      <td>5</td>\n",
       "      <td>14</td>\n",
       "      <td>...</td>\n",
       "      <td>0</td>\n",
       "      <td>0</td>\n",
       "      <td>0</td>\n",
       "      <td>0</td>\n",
       "      <td>0</td>\n",
       "      <td>1</td>\n",
       "      <td>1</td>\n",
       "      <td>8.0</td>\n",
       "      <td>24.0</td>\n",
       "      <td>19.0</td>\n",
       "    </tr>\n",
       "    <tr>\n",
       "      <th>4</th>\n",
       "      <td>Ryan Cohen appointed to board!!!!?</td>\n",
       "      <td>nicky94</td>\n",
       "      <td>https://news.gamestop.com/news-releases/news-r...</td>\n",
       "      <td>1610368592</td>\n",
       "      <td></td>\n",
       "      <td>18</td>\n",
       "      <td>0</td>\n",
       "      <td>0</td>\n",
       "      <td>0</td>\n",
       "      <td>5</td>\n",
       "      <td>...</td>\n",
       "      <td>0</td>\n",
       "      <td>0</td>\n",
       "      <td>0</td>\n",
       "      <td>0</td>\n",
       "      <td>0</td>\n",
       "      <td>0</td>\n",
       "      <td>1</td>\n",
       "      <td>18.0</td>\n",
       "      <td>63.0</td>\n",
       "      <td>50.0</td>\n",
       "    </tr>\n",
       "  </tbody>\n",
       "</table>\n",
       "<p>5 rows × 55 columns</p>\n",
       "</div>"
      ],
      "text/plain": [
       "                                               title        author  \\\n",
       "0              You NEED to see this about GME 🚀🚀🚀🚀🚀🚀  TitsDownOnly   \n",
       "1  THIS CONVINCED ME TO ALL IN 💰GME (EXTREME PUMP...  TitsDownOnly   \n",
       "2                          ICR conference (11th Jan)       nicky94   \n",
       "3  GME is FINALLY going to the moon, this technic...  TitsDownOnly   \n",
       "4                 Ryan Cohen appointed to board!!!!?       nicky94   \n",
       "\n",
       "                                            ext_link     created  \\\n",
       "0  https://www.reddit.com/r/GME/comments/kqfajb/y...  1609786946   \n",
       "1  https://www.reddit.com/r/GME/comments/kqvp7l/t...  1609841999   \n",
       "2  https://www.reddit.com/r/GME/comments/krnthg/i...  1609939549   \n",
       "3  https://www.reddit.com/r/GME/comments/kuo3w1/g...  1610315957   \n",
       "4  https://news.gamestop.com/news-releases/news-r...  1610368592   \n",
       "\n",
       "                                                body  score  Popular  \\\n",
       "0  After watching this I took a position RIGHT AW...      6        0   \n",
       "1  This guy explained exactly how to take a posit...      2        0   \n",
       "2  Any speculation or ideas on what Gamestop migh...     14        0   \n",
       "3   After some downwards movement, I think everyb...     11        0   \n",
       "4                                                        18        0   \n",
       "\n",
       "   title_emoji  body_emoji  title_length  ...  day_1  day_2  day_3  day_4  \\\n",
       "0            6           3             8  ...      0      0      0      0   \n",
       "1            1          11            10  ...      1      0      0      0   \n",
       "2            0           1             4  ...      0      1      0      0   \n",
       "3            3           5            14  ...      0      0      0      0   \n",
       "4            0           0             5  ...      0      0      0      0   \n",
       "\n",
       "   day_5 day_6 month retweet  likes   num  \n",
       "0      0     0     1     4.0   29.0  11.0  \n",
       "1      0     0     1     3.0   10.0   9.0  \n",
       "2      0     0     1     3.0   23.0  12.0  \n",
       "3      0     1     1     8.0   24.0  19.0  \n",
       "4      0     0     1    18.0   63.0  50.0  \n",
       "\n",
       "[5 rows x 55 columns]"
      ]
     },
     "execution_count": 71,
     "metadata": {},
     "output_type": "execute_result"
    }
   ],
   "source": [
    "df_model.head()"
   ]
  },
  {
   "cell_type": "code",
   "execution_count": 63,
   "metadata": {},
   "outputs": [
    {
     "data": {
      "text/html": [
       "<div>\n",
       "<style scoped>\n",
       "    .dataframe tbody tr th:only-of-type {\n",
       "        vertical-align: middle;\n",
       "    }\n",
       "\n",
       "    .dataframe tbody tr th {\n",
       "        vertical-align: top;\n",
       "    }\n",
       "\n",
       "    .dataframe thead th {\n",
       "        text-align: right;\n",
       "    }\n",
       "</style>\n",
       "<table border=\"1\" class=\"dataframe\">\n",
       "  <thead>\n",
       "    <tr style=\"text-align: right;\">\n",
       "      <th></th>\n",
       "      <th>title_emoji</th>\n",
       "      <th>body_emoji</th>\n",
       "      <th>title_length</th>\n",
       "      <th>body_length</th>\n",
       "      <th>title_EQ</th>\n",
       "      <th>body_EQ</th>\n",
       "      <th>title_UL</th>\n",
       "      <th>body_UL</th>\n",
       "      <th>log_num</th>\n",
       "      <th>mean_upvotes</th>\n",
       "      <th>prime_time</th>\n",
       "      <th>weekend</th>\n",
       "      <th>figures</th>\n",
       "      <th>outside_link</th>\n",
       "      <th>retweet</th>\n",
       "    </tr>\n",
       "  </thead>\n",
       "  <tbody>\n",
       "    <tr>\n",
       "      <th>0</th>\n",
       "      <td>6</td>\n",
       "      <td>3</td>\n",
       "      <td>8</td>\n",
       "      <td>11</td>\n",
       "      <td>0</td>\n",
       "      <td>0</td>\n",
       "      <td>0.333333</td>\n",
       "      <td>0.278689</td>\n",
       "      <td>0.00000</td>\n",
       "      <td>1.0</td>\n",
       "      <td>0</td>\n",
       "      <td>0</td>\n",
       "      <td>0</td>\n",
       "      <td>0</td>\n",
       "      <td>4.0</td>\n",
       "    </tr>\n",
       "    <tr>\n",
       "      <th>1</th>\n",
       "      <td>1</td>\n",
       "      <td>11</td>\n",
       "      <td>10</td>\n",
       "      <td>17</td>\n",
       "      <td>0</td>\n",
       "      <td>2</td>\n",
       "      <td>1.000000</td>\n",
       "      <td>0.105691</td>\n",
       "      <td>0.00000</td>\n",
       "      <td>6.0</td>\n",
       "      <td>1</td>\n",
       "      <td>0</td>\n",
       "      <td>0</td>\n",
       "      <td>0</td>\n",
       "      <td>3.0</td>\n",
       "    </tr>\n",
       "    <tr>\n",
       "      <th>2</th>\n",
       "      <td>0</td>\n",
       "      <td>1</td>\n",
       "      <td>4</td>\n",
       "      <td>86</td>\n",
       "      <td>0</td>\n",
       "      <td>2</td>\n",
       "      <td>0.222222</td>\n",
       "      <td>0.048387</td>\n",
       "      <td>0.00000</td>\n",
       "      <td>1.0</td>\n",
       "      <td>0</td>\n",
       "      <td>0</td>\n",
       "      <td>0</td>\n",
       "      <td>0</td>\n",
       "      <td>3.0</td>\n",
       "    </tr>\n",
       "    <tr>\n",
       "      <th>3</th>\n",
       "      <td>3</td>\n",
       "      <td>5</td>\n",
       "      <td>14</td>\n",
       "      <td>43</td>\n",
       "      <td>0</td>\n",
       "      <td>1</td>\n",
       "      <td>0.166667</td>\n",
       "      <td>0.040724</td>\n",
       "      <td>0.30103</td>\n",
       "      <td>4.0</td>\n",
       "      <td>0</td>\n",
       "      <td>1</td>\n",
       "      <td>0</td>\n",
       "      <td>0</td>\n",
       "      <td>8.0</td>\n",
       "    </tr>\n",
       "    <tr>\n",
       "      <th>4</th>\n",
       "      <td>0</td>\n",
       "      <td>0</td>\n",
       "      <td>5</td>\n",
       "      <td>0</td>\n",
       "      <td>5</td>\n",
       "      <td>0</td>\n",
       "      <td>0.080000</td>\n",
       "      <td>0.000000</td>\n",
       "      <td>0.00000</td>\n",
       "      <td>14.0</td>\n",
       "      <td>0</td>\n",
       "      <td>0</td>\n",
       "      <td>0</td>\n",
       "      <td>1</td>\n",
       "      <td>18.0</td>\n",
       "    </tr>\n",
       "  </tbody>\n",
       "</table>\n",
       "</div>"
      ],
      "text/plain": [
       "   title_emoji  body_emoji  title_length  body_length  title_EQ  body_EQ  \\\n",
       "0            6           3             8           11         0        0   \n",
       "1            1          11            10           17         0        2   \n",
       "2            0           1             4           86         0        2   \n",
       "3            3           5            14           43         0        1   \n",
       "4            0           0             5            0         5        0   \n",
       "\n",
       "   title_UL   body_UL  log_num  mean_upvotes  prime_time  weekend  figures  \\\n",
       "0  0.333333  0.278689  0.00000           1.0           0        0        0   \n",
       "1  1.000000  0.105691  0.00000           6.0           1        0        0   \n",
       "2  0.222222  0.048387  0.00000           1.0           0        0        0   \n",
       "3  0.166667  0.040724  0.30103           4.0           0        1        0   \n",
       "4  0.080000  0.000000  0.00000          14.0           0        0        0   \n",
       "\n",
       "   outside_link  retweet  \n",
       "0             0      4.0  \n",
       "1             0      3.0  \n",
       "2             0      3.0  \n",
       "3             0      8.0  \n",
       "4             1     18.0  "
      ]
     },
     "execution_count": 63,
     "metadata": {},
     "output_type": "execute_result"
    }
   ],
   "source": [
    "df_featuresTwitter = df_model.drop(columns = ['title','author','ext_link','created','body','post_type', 'hour','day','score','num','likes'])\n",
    "\n",
    "X = df_featuresTwitter.drop(columns = ['Popular'])\n",
    "y = df_model['Popular']\n",
    "\n",
    "X_train, X_test, y_train, y_test = X[X['month'] < 4].drop(columns = ['month']), X[X['month'] >= 4].drop(columns = ['month']), y[X['month'] < 4], y[X['month'] >= 4]\n",
    "\n",
    "X_train.head()"
   ]
  },
  {
   "cell_type": "code",
   "execution_count": 68,
   "metadata": {},
   "outputs": [
    {
     "data": {
      "image/png": "[encoded data removed]",
      "text/plain": [
       "<Figure size 432x288 with 1 Axes>"
      ]
     },
     "metadata": {
      "needs_background": "light"
     },
     "output_type": "display_data"
    },
    {
     "data": {
      "text/plain": [
       "array([0.00312989, 0.00342724, 0.00400183, 0.00422667, 0.00439883,\n",
       "       0.00598515, 0.0060936 , 0.00637468, 0.0064871 , 0.00973455,\n",
       "       0.00984698, 0.01084011, 0.01141016, 0.01420518, 0.01536379,\n",
       "       0.0155782 , 0.0162187 , 0.01629802, 0.01852806, 0.01905774,\n",
       "       0.01948292, 0.01986755, 0.02051481, 0.02070129, 0.02083333,\n",
       "       0.0211402 , 0.02122021, 0.02158621, 0.02250285, 0.02262443,\n",
       "       0.024012  , 0.0253285 , 0.02564103, 0.02645276, 0.02694382,\n",
       "       0.03196347, 0.03332218, 0.03344941, 0.03355618, 0.03452968,\n",
       "       0.03503769, 0.03680982, 0.037699  , 0.04133292, 0.0427917 ,\n",
       "       0.04414361, 0.0480819 , 0.05153928, 0.05167594, 0.05187468,\n",
       "       0.05216285, 0.05238726, 0.05261602, 0.0530509 , 0.05339632,\n",
       "       0.0539573 , 0.05406411, 0.05428512, 0.05438625, 0.05445619,\n",
       "       0.05454707, 0.05486284, 0.05963303, 0.059898  , 0.06164544,\n",
       "       0.06420088, 0.06677659, 0.06682849, 0.06891994, 0.06972681,\n",
       "       0.07535035, 0.07575758, 0.07999401, 0.08106154, 0.08367615,\n",
       "       0.08505747, 0.08522562, 0.08548215, 0.08591253, 0.08615772,\n",
       "       0.08624523, 0.08727479, 0.08729467, 0.08740635, 0.08749317,\n",
       "       0.08763777, 0.08804599, 0.08823529, 0.08827875, 0.08837339,\n",
       "       0.08854498, 0.08856531, 0.08862455, 0.08865213, 0.08894022,\n",
       "       0.0890717 , 0.08907232, 0.08910891, 0.08966258, 0.0920161 ,\n",
       "       0.09435946, 0.09489438, 0.09546625, 0.09647228, 0.09775388,\n",
       "       0.09859155, 0.09867634, 0.09916353, 0.09920932, 0.09928748,\n",
       "       0.09937888, 0.10065399, 0.10458152, 0.1060147 , 0.10780754,\n",
       "       0.10869191, 0.112     , 0.16407104, 0.17279853, 0.20996441,\n",
       "       0.23122209, 0.23542398, 0.23985972, 0.29411765, 0.29475593,\n",
       "       0.29677692, 0.29812947, 0.29833397, 0.29873512, 0.30019754,\n",
       "       0.30065259, 0.30232558, 0.33275556, 0.36756521, 0.38652746,\n",
       "       0.40858514, 0.41462408, 0.45950152, 0.46092015, 0.4747344 ,\n",
       "       0.50602505, 0.51248316, 0.53448337, 0.54158015, 0.5567295 ,\n",
       "       0.58447963, 0.6       , 0.60114527, 0.6017309 , 0.60217144,\n",
       "       0.61257031, 0.61323426, 0.61712869, 0.635775  , 0.64378126,\n",
       "       0.64794368, 0.65357375, 0.66666667])"
      ]
     },
     "execution_count": 68,
     "metadata": {},
     "output_type": "execute_result"
    }
   ],
   "source": [
    "rf_clf = GridSearchCV(RandomForestClassifier(), param_grid = {'max_depth': range(5,9)}, scoring = 'precision')\n",
    "trainAndCompareCalibration(rf_clf, X_train, y_train, X_test, y_test, 'Random Forest', 1)"
   ]
  },
  {
   "cell_type": "code",
   "execution_count": 81,
   "metadata": {},
   "outputs": [
    {
     "data": {
      "text/html": [
       "<div>\n",
       "<style scoped>\n",
       "    .dataframe tbody tr th:only-of-type {\n",
       "        vertical-align: middle;\n",
       "    }\n",
       "\n",
       "    .dataframe tbody tr th {\n",
       "        vertical-align: top;\n",
       "    }\n",
       "\n",
       "    .dataframe thead th {\n",
       "        text-align: right;\n",
       "    }\n",
       "</style>\n",
       "<table border=\"1\" class=\"dataframe\">\n",
       "  <thead>\n",
       "    <tr style=\"text-align: right;\">\n",
       "      <th></th>\n",
       "      <th>Name</th>\n",
       "      <th>Importance</th>\n",
       "    </tr>\n",
       "  </thead>\n",
       "  <tbody>\n",
       "    <tr>\n",
       "      <th>2</th>\n",
       "      <td>title_length</td>\n",
       "      <td>0.236853</td>\n",
       "    </tr>\n",
       "    <tr>\n",
       "      <th>9</th>\n",
       "      <td>mean_upvotes</td>\n",
       "      <td>0.218369</td>\n",
       "    </tr>\n",
       "    <tr>\n",
       "      <th>3</th>\n",
       "      <td>body_length</td>\n",
       "      <td>0.123542</td>\n",
       "    </tr>\n",
       "    <tr>\n",
       "      <th>12</th>\n",
       "      <td>figures</td>\n",
       "      <td>0.067197</td>\n",
       "    </tr>\n",
       "    <tr>\n",
       "      <th>1</th>\n",
       "      <td>body_emoji</td>\n",
       "      <td>0.065059</td>\n",
       "    </tr>\n",
       "    <tr>\n",
       "      <th>14</th>\n",
       "      <td>title_EQ_Norm</td>\n",
       "      <td>0.050348</td>\n",
       "    </tr>\n",
       "    <tr>\n",
       "      <th>6</th>\n",
       "      <td>title_UL</td>\n",
       "      <td>0.047300</td>\n",
       "    </tr>\n",
       "    <tr>\n",
       "      <th>7</th>\n",
       "      <td>body_UL</td>\n",
       "      <td>0.046788</td>\n",
       "    </tr>\n",
       "    <tr>\n",
       "      <th>5</th>\n",
       "      <td>body_EQ</td>\n",
       "      <td>0.037640</td>\n",
       "    </tr>\n",
       "    <tr>\n",
       "      <th>8</th>\n",
       "      <td>log_num</td>\n",
       "      <td>0.032553</td>\n",
       "    </tr>\n",
       "    <tr>\n",
       "      <th>0</th>\n",
       "      <td>title_emoji</td>\n",
       "      <td>0.023932</td>\n",
       "    </tr>\n",
       "    <tr>\n",
       "      <th>4</th>\n",
       "      <td>title_EQ</td>\n",
       "      <td>0.019377</td>\n",
       "    </tr>\n",
       "    <tr>\n",
       "      <th>11</th>\n",
       "      <td>weekend</td>\n",
       "      <td>0.011413</td>\n",
       "    </tr>\n",
       "    <tr>\n",
       "      <th>13</th>\n",
       "      <td>outside_link</td>\n",
       "      <td>0.011167</td>\n",
       "    </tr>\n",
       "    <tr>\n",
       "      <th>10</th>\n",
       "      <td>prime_time</td>\n",
       "      <td>0.008462</td>\n",
       "    </tr>\n",
       "  </tbody>\n",
       "</table>\n",
       "</div>"
      ],
      "text/plain": [
       "             Name  Importance\n",
       "2    title_length    0.236853\n",
       "9    mean_upvotes    0.218369\n",
       "3     body_length    0.123542\n",
       "12        figures    0.067197\n",
       "1      body_emoji    0.065059\n",
       "14  title_EQ_Norm    0.050348\n",
       "6        title_UL    0.047300\n",
       "7         body_UL    0.046788\n",
       "5         body_EQ    0.037640\n",
       "8         log_num    0.032553\n",
       "0     title_emoji    0.023932\n",
       "4        title_EQ    0.019377\n",
       "11        weekend    0.011413\n",
       "13   outside_link    0.011167\n",
       "10     prime_time    0.008462"
      ]
     },
     "execution_count": 81,
     "metadata": {},
     "output_type": "execute_result"
    }
   ],
   "source": [
    "Name = []\n",
    "Importance = []\n",
    "for name, importance in zip(X_train.columns, rf_clf.best_estimator_.feature_importances_):\n",
    "    Name.append(name)\n",
    "    Importance.append(importance)\n",
    "\n",
    "df_imp = pd.DataFrame({'Name': Name, 'Importance': Importance})\n",
    "\n",
    "df_imp.sort_values('Importance', ascending = False)"
   ]
  },
  {
   "cell_type": "code",
   "execution_count": 78,
   "metadata": {},
   "outputs": [
    {
     "name": "stdout",
     "output_type": "stream",
     "text": [
      "[[11049 16480]\n",
      " [  144  1017]]\n",
      "RandomForestClassifier(max_depth=5)\n"
     ]
    }
   ],
   "source": [
    "impColumns = df_imp.sort_values('Importance', ascending = False).Name.values[:15]\n",
    "\n",
    "X = df_model[impColumns]\n",
    "y = df_model['Popular']\n",
    "\n",
    "X_train, X_test, y_train, y_test = X[df_model['month'] < 4], X[df_model['month'] >= 4], y[df_model['month'] < 4], y[df_model['month'] >= 4]\n",
    "\n",
    "rf_clf = GridSearchCV(RandomForestClassifier(), param_grid = {'max_depth': range(5,9)}, scoring = 'precision')\n",
    "trainAndShowConfusionMatrix(rf_clf, X_train, y_train, X_test, y_test, 1)"
   ]
  },
  {
   "cell_type": "code",
   "execution_count": 69,
   "metadata": {},
   "outputs": [
    {
     "data": {
      "image/png": "[encoded data removed]",
      "text/plain": [
       "<Figure size 432x288 with 1 Axes>"
      ]
     },
     "metadata": {
      "needs_background": "light"
     },
     "output_type": "display_data"
    },
    {
     "data": {
      "text/plain": [
       "array([0.00278164, 0.00820264, 0.00952381, 0.00992756, 0.01045296,\n",
       "       0.01123596, 0.01126716, 0.01165599, 0.01186097, 0.01217014,\n",
       "       0.0125    , 0.01272569, 0.01366164, 0.0166113 , 0.02178218,\n",
       "       0.02398269, 0.04      , 0.04055043, 0.04635762, 0.04636727,\n",
       "       0.04688202, 0.0473139 , 0.04822335, 0.05091542, 0.0560303 ,\n",
       "       0.05879944, 0.06521739, 0.06815601, 0.06986752, 0.07379135,\n",
       "       0.07498778, 0.07986545, 0.08128945, 0.08367593, 0.08543138,\n",
       "       0.09152889, 0.0970156 , 0.0999194 , 0.1008547 , 0.15714286,\n",
       "       0.15753868, 0.15768618, 0.15790431, 0.15823238, 0.15835666,\n",
       "       0.15861063, 0.15870354, 0.15875425, 0.15881517, 0.15888794,\n",
       "       0.15960912, 0.17238013, 0.17451453, 0.1783588 , 0.18555995,\n",
       "       0.18974629, 0.19239092, 0.1931818 , 0.23608693, 0.2385687 ,\n",
       "       0.24468711, 0.25      , 0.26030353, 0.28571429, 0.29164076,\n",
       "       0.29170792, 0.2950302 , 0.33333333, 0.37408201, 1.        ])"
      ]
     },
     "execution_count": 69,
     "metadata": {},
     "output_type": "execute_result"
    }
   ],
   "source": [
    "ada_clf = AdaBoostClassifier(n_estimators= 500)\n",
    "\n",
    "trainAndCompareCalibration(ada_clf, X_train, y_train, X_test, y_test, 'AdaBoost')"
   ]
  }
 ],
 "metadata": {
  "kernelspec": {
   "display_name": "Python 3",
   "language": "python",
   "name": "python3"
  },
  "language_info": {
   "codemirror_mode": {
    "name": "ipython",
    "version": 3
   },
   "file_extension": ".py",
   "mimetype": "text/x-python",
   "name": "python",
   "nbconvert_exporter": "python",
   "pygments_lexer": "ipython3",
   "version": "3.8.10"
  }
 },
 "nbformat": 4,
 "nbformat_minor": 4
}
