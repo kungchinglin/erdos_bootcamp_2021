{
 "cells": [
  {
   "cell_type": "code",
   "execution_count": 1,
   "id": "british-world",
   "metadata": {},
   "outputs": [],
   "source": [
    "import sqlite3\n",
    "import pandas as pd\n",
    "import numpy as np\n",
    "import datetime as dt\n",
    "import matplotlib.pyplot as plt\n",
    "\n",
    "from nltk.tokenize import TweetTokenizer\n",
    "from sklearn.linear_model import LogisticRegression\n",
    "from sklearn.model_selection import GridSearchCV\n",
    "from sklearn.metrics import accuracy_score, precision_recall_fscore_support, confusion_matrix\n",
    "from sklearn.metrics import plot_precision_recall_curve, plot_roc_curve"
   ]
  },
  {
   "cell_type": "code",
   "execution_count": 2,
   "id": "senior-warner",
   "metadata": {},
   "outputs": [],
   "source": [
    "conn = sqlite3.connect('../redditPosts.sqlite')\n",
    "cur = conn.cursor()"
   ]
  },
  {
   "cell_type": "code",
   "execution_count": 3,
   "id": "broadband-value",
   "metadata": {},
   "outputs": [
    {
     "data": {
      "text/plain": [
       "['Superstonks',\n",
       " 'finance',\n",
       " 'options',\n",
       " 'pennystocks',\n",
       " 'GME',\n",
       " 'CryptoCurrency',\n",
       " 'dogecoin',\n",
       " 'wallstreetbets']"
      ]
     },
     "execution_count": 3,
     "metadata": {},
     "output_type": "execute_result"
    }
   ],
   "source": [
    "cur.execute('''SELECT subreddit FROM Posts GROUP BY subreddit ORDER BY (COUNT(id))''')\n",
    "subreddits = list(map(lambda x: x[0], cur.fetchall()))\n",
    "\n",
    "subreddits"
   ]
  },
  {
   "cell_type": "code",
   "execution_count": 4,
   "id": "efficient-radical",
   "metadata": {},
   "outputs": [
    {
     "data": {
      "text/html": [
       "<div>\n",
       "<style scoped>\n",
       "    .dataframe tbody tr th:only-of-type {\n",
       "        vertical-align: middle;\n",
       "    }\n",
       "\n",
       "    .dataframe tbody tr th {\n",
       "        vertical-align: top;\n",
       "    }\n",
       "\n",
       "    .dataframe thead th {\n",
       "        text-align: right;\n",
       "    }\n",
       "</style>\n",
       "<table border=\"1\" class=\"dataframe\">\n",
       "  <thead>\n",
       "    <tr style=\"text-align: right;\">\n",
       "      <th></th>\n",
       "      <th>id</th>\n",
       "      <th>subreddit</th>\n",
       "      <th>title</th>\n",
       "      <th>author</th>\n",
       "      <th>url</th>\n",
       "      <th>created</th>\n",
       "      <th>ext_link</th>\n",
       "      <th>id</th>\n",
       "      <th>body</th>\n",
       "      <th>score</th>\n",
       "      <th>upvote_ratio</th>\n",
       "    </tr>\n",
       "  </thead>\n",
       "  <tbody>\n",
       "    <tr>\n",
       "      <th>0</th>\n",
       "      <td>kobbka</td>\n",
       "      <td>finance</td>\n",
       "      <td>Mogo: Establishes ATM Equity Program Mogo a fi...</td>\n",
       "      <td>fintechinshorts</td>\n",
       "      <td>https://www.reddit.com/r/finance/comments/kobb...</td>\n",
       "      <td>1609507913</td>\n",
       "      <td>https://www.fintechinshorts.com/mogo-establish...</td>\n",
       "      <td>kobbka</td>\n",
       "      <td></td>\n",
       "      <td>1</td>\n",
       "      <td>1.0</td>\n",
       "    </tr>\n",
       "    <tr>\n",
       "      <th>1</th>\n",
       "      <td>koe39g</td>\n",
       "      <td>finance</td>\n",
       "      <td>Standard Capital: Partners with SolidBlock Sta...</td>\n",
       "      <td>fintechinshorts</td>\n",
       "      <td>https://www.reddit.com/r/finance/comments/koe3...</td>\n",
       "      <td>1609518689</td>\n",
       "      <td>https://www.fintechinshorts.com/standard-capit...</td>\n",
       "      <td>koe39g</td>\n",
       "      <td></td>\n",
       "      <td>1</td>\n",
       "      <td>1.0</td>\n",
       "    </tr>\n",
       "  </tbody>\n",
       "</table>\n",
       "</div>"
      ],
      "text/plain": [
       "       id subreddit                                              title  \\\n",
       "0  kobbka   finance  Mogo: Establishes ATM Equity Program Mogo a fi...   \n",
       "1  koe39g   finance  Standard Capital: Partners with SolidBlock Sta...   \n",
       "\n",
       "            author                                                url  \\\n",
       "0  fintechinshorts  https://www.reddit.com/r/finance/comments/kobb...   \n",
       "1  fintechinshorts  https://www.reddit.com/r/finance/comments/koe3...   \n",
       "\n",
       "      created                                           ext_link      id body  \\\n",
       "0  1609507913  https://www.fintechinshorts.com/mogo-establish...  kobbka        \n",
       "1  1609518689  https://www.fintechinshorts.com/standard-capit...  koe39g        \n",
       "\n",
       "   score  upvote_ratio  \n",
       "0      1           1.0  \n",
       "1      1           1.0  "
      ]
     },
     "execution_count": 4,
     "metadata": {},
     "output_type": "execute_result"
    }
   ],
   "source": [
    "conn = sqlite3.connect('../redditPosts.sqlite')\n",
    "query = '''SELECT * FROM Posts P JOIN PostBodyAndScore B ON P.id = B.id \n",
    "           WHERE B.body != \"[removed]\" AND B.body != \"[deleted]\"'''\n",
    "df = pd.read_sql(sql=query, con=conn)\n",
    "df.head(2)"
   ]
  },
  {
   "cell_type": "code",
   "execution_count": 5,
   "id": "sacred-stream",
   "metadata": {},
   "outputs": [
    {
     "data": {
      "text/plain": [
       "(226890, 11)"
      ]
     },
     "execution_count": 5,
     "metadata": {},
     "output_type": "execute_result"
    }
   ],
   "source": [
    "df.shape"
   ]
  },
  {
   "cell_type": "markdown",
   "id": "controlled-cattle",
   "metadata": {},
   "source": [
    "## Selecting subreddit with complete datasets"
   ]
  },
  {
   "cell_type": "code",
   "execution_count": 6,
   "id": "demographic-abortion",
   "metadata": {},
   "outputs": [],
   "source": [
    "df = df[\n",
    "        (df.subreddit == 'finance') |\n",
    "        (df.subreddit == 'options') |\n",
    "        (df.subreddit == 'pennystocks') |\n",
    "        (df.subreddit == 'GME')]"
   ]
  },
  {
   "cell_type": "markdown",
   "id": "respective-suicide",
   "metadata": {},
   "source": [
    "## Plot the histogram of score for each subreddit"
   ]
  },
  {
   "cell_type": "code",
   "execution_count": 7,
   "id": "royal-boundary",
   "metadata": {},
   "outputs": [
    {
     "name": "stdout",
     "output_type": "stream",
     "text": [
      "finance 1.0 1.0 240.2\n",
      "options 0.0 1.0 44.0\n",
      "pennystocks 1.0 4.0 154.0\n",
      "GME 0.0 12.0 465.0\n"
     ]
    },
    {
     "data": {
      "image/png": "[encoded data removed]",
      "text/plain": [
       "<Figure size 432x288 with 1 Axes>"
      ]
     },
     "metadata": {
      "needs_background": "light"
     },
     "output_type": "display_data"
    }
   ],
   "source": [
    "for sr in df.subreddit.unique():\n",
    "    scores = df[df.subreddit == sr].score.values\n",
    "    plt.hist(scores, 100, alpha=0.5)\n",
    "    print(sr, '%.1f %.1f %.1f' % (np.percentile(scores, 5), np.percentile(scores, 50), np.percentile(scores, 95)))\n",
    "plt.yscale('log')\n",
    "plt.show()"
   ]
  },
  {
   "cell_type": "markdown",
   "id": "owned-missouri",
   "metadata": {},
   "source": [
    "## Defining the popular posts for binary classification"
   ]
  },
  {
   "cell_type": "code",
   "execution_count": 8,
   "id": "grave-strategy",
   "metadata": {},
   "outputs": [],
   "source": [
    "df_finance     = df[df.subreddit == 'finance']\n",
    "df_options     = df[df.subreddit == 'options']\n",
    "df_pennystocks = df[df.subreddit == 'pennystocks']\n",
    "df_gme         = df[df.subreddit == 'GME']"
   ]
  },
  {
   "cell_type": "code",
   "execution_count": 9,
   "id": "valued-starter",
   "metadata": {},
   "outputs": [
    {
     "name": "stderr",
     "output_type": "stream",
     "text": [
      "<ipython-input-9-93d1be54b864>:1: SettingWithCopyWarning: \n",
      "A value is trying to be set on a copy of a slice from a DataFrame.\n",
      "Try using .loc[row_indexer,col_indexer] = value instead\n",
      "\n",
      "See the caveats in the documentation: https://pandas.pydata.org/pandas-docs/stable/user_guide/indexing.html#returning-a-view-versus-a-copy\n",
      "  df_finance['popular'] = 0\n",
      "<ipython-input-9-93d1be54b864>:2: SettingWithCopyWarning: \n",
      "A value is trying to be set on a copy of a slice from a DataFrame.\n",
      "Try using .loc[row_indexer,col_indexer] = value instead\n",
      "\n",
      "See the caveats in the documentation: https://pandas.pydata.org/pandas-docs/stable/user_guide/indexing.html#returning-a-view-versus-a-copy\n",
      "  df_options['popular'] = 0\n",
      "<ipython-input-9-93d1be54b864>:3: SettingWithCopyWarning: \n",
      "A value is trying to be set on a copy of a slice from a DataFrame.\n",
      "Try using .loc[row_indexer,col_indexer] = value instead\n",
      "\n",
      "See the caveats in the documentation: https://pandas.pydata.org/pandas-docs/stable/user_guide/indexing.html#returning-a-view-versus-a-copy\n",
      "  df_pennystocks['popular'] = 0\n",
      "<ipython-input-9-93d1be54b864>:4: SettingWithCopyWarning: \n",
      "A value is trying to be set on a copy of a slice from a DataFrame.\n",
      "Try using .loc[row_indexer,col_indexer] = value instead\n",
      "\n",
      "See the caveats in the documentation: https://pandas.pydata.org/pandas-docs/stable/user_guide/indexing.html#returning-a-view-versus-a-copy\n",
      "  df_gme['popular'] = 0\n"
     ]
    }
   ],
   "source": [
    "df_finance['popular'] = 0\n",
    "df_options['popular'] = 0\n",
    "df_pennystocks['popular'] = 0\n",
    "df_gme['popular'] = 0"
   ]
  },
  {
   "cell_type": "code",
   "execution_count": 10,
   "id": "light-tuesday",
   "metadata": {},
   "outputs": [
    {
     "name": "stderr",
     "output_type": "stream",
     "text": [
      "/Users/dutomo/miniconda3/lib/python3.8/site-packages/pandas/core/indexing.py:966: SettingWithCopyWarning: \n",
      "A value is trying to be set on a copy of a slice from a DataFrame.\n",
      "Try using .loc[row_indexer,col_indexer] = value instead\n",
      "\n",
      "See the caveats in the documentation: https://pandas.pydata.org/pandas-docs/stable/user_guide/indexing.html#returning-a-view-versus-a-copy\n",
      "  self.obj[item] = s\n"
     ]
    }
   ],
   "source": [
    "df_finance.loc[df_finance['score'] > np.percentile(df_finance.score.values, 95), 'popular'] = 1\n",
    "df_options.loc[df_options['score'] > np.percentile(df_options.score.values, 95), 'popular'] = 1\n",
    "df_pennystocks.loc[df_pennystocks['score'] > np.percentile(df_pennystocks.score.values, 95), 'popular'] = 1\n",
    "df_gme.loc[df_gme['score'] > np.percentile(df_gme.score.values, 95), 'popular'] = 1"
   ]
  },
  {
   "cell_type": "code",
   "execution_count": 11,
   "id": "motivated-giant",
   "metadata": {},
   "outputs": [
    {
     "data": {
      "text/html": [
       "<div>\n",
       "<style scoped>\n",
       "    .dataframe tbody tr th:only-of-type {\n",
       "        vertical-align: middle;\n",
       "    }\n",
       "\n",
       "    .dataframe tbody tr th {\n",
       "        vertical-align: top;\n",
       "    }\n",
       "\n",
       "    .dataframe thead th {\n",
       "        text-align: right;\n",
       "    }\n",
       "</style>\n",
       "<table border=\"1\" class=\"dataframe\">\n",
       "  <thead>\n",
       "    <tr style=\"text-align: right;\">\n",
       "      <th></th>\n",
       "      <th>id</th>\n",
       "      <th>subreddit</th>\n",
       "      <th>title</th>\n",
       "      <th>author</th>\n",
       "      <th>url</th>\n",
       "      <th>created</th>\n",
       "      <th>ext_link</th>\n",
       "      <th>id</th>\n",
       "      <th>body</th>\n",
       "      <th>score</th>\n",
       "      <th>upvote_ratio</th>\n",
       "      <th>popular</th>\n",
       "    </tr>\n",
       "  </thead>\n",
       "  <tbody>\n",
       "    <tr>\n",
       "      <th>0</th>\n",
       "      <td>kobbka</td>\n",
       "      <td>finance</td>\n",
       "      <td>Mogo: Establishes ATM Equity Program Mogo a fi...</td>\n",
       "      <td>fintechinshorts</td>\n",
       "      <td>https://www.reddit.com/r/finance/comments/kobb...</td>\n",
       "      <td>1609507913</td>\n",
       "      <td>https://www.fintechinshorts.com/mogo-establish...</td>\n",
       "      <td>kobbka</td>\n",
       "      <td></td>\n",
       "      <td>1</td>\n",
       "      <td>1.0</td>\n",
       "      <td>0</td>\n",
       "    </tr>\n",
       "    <tr>\n",
       "      <th>1</th>\n",
       "      <td>koe39g</td>\n",
       "      <td>finance</td>\n",
       "      <td>Standard Capital: Partners with SolidBlock Sta...</td>\n",
       "      <td>fintechinshorts</td>\n",
       "      <td>https://www.reddit.com/r/finance/comments/koe3...</td>\n",
       "      <td>1609518689</td>\n",
       "      <td>https://www.fintechinshorts.com/standard-capit...</td>\n",
       "      <td>koe39g</td>\n",
       "      <td></td>\n",
       "      <td>1</td>\n",
       "      <td>1.0</td>\n",
       "      <td>0</td>\n",
       "    </tr>\n",
       "  </tbody>\n",
       "</table>\n",
       "</div>"
      ],
      "text/plain": [
       "       id subreddit                                              title  \\\n",
       "0  kobbka   finance  Mogo: Establishes ATM Equity Program Mogo a fi...   \n",
       "1  koe39g   finance  Standard Capital: Partners with SolidBlock Sta...   \n",
       "\n",
       "            author                                                url  \\\n",
       "0  fintechinshorts  https://www.reddit.com/r/finance/comments/kobb...   \n",
       "1  fintechinshorts  https://www.reddit.com/r/finance/comments/koe3...   \n",
       "\n",
       "      created                                           ext_link      id body  \\\n",
       "0  1609507913  https://www.fintechinshorts.com/mogo-establish...  kobbka        \n",
       "1  1609518689  https://www.fintechinshorts.com/standard-capit...  koe39g        \n",
       "\n",
       "   score  upvote_ratio  popular  \n",
       "0      1           1.0        0  \n",
       "1      1           1.0        0  "
      ]
     },
     "execution_count": 11,
     "metadata": {},
     "output_type": "execute_result"
    }
   ],
   "source": [
    "del df\n",
    "df = pd.concat([df_finance, df_options, df_pennystocks, df_gme], ignore_index=True)\n",
    "df.head(2)"
   ]
  },
  {
   "cell_type": "code",
   "execution_count": 12,
   "id": "bibliographic-talent",
   "metadata": {},
   "outputs": [
    {
     "data": {
      "text/plain": [
       "array([0, 1])"
      ]
     },
     "execution_count": 12,
     "metadata": {},
     "output_type": "execute_result"
    }
   ],
   "source": [
    "df.popular.unique()"
   ]
  },
  {
   "cell_type": "markdown",
   "id": "caring-jefferson",
   "metadata": {},
   "source": [
    "## Dropping unnecessary columns"
   ]
  },
  {
   "cell_type": "code",
   "execution_count": 13,
   "id": "breathing-while",
   "metadata": {},
   "outputs": [
    {
     "data": {
      "text/html": [
       "<div>\n",
       "<style scoped>\n",
       "    .dataframe tbody tr th:only-of-type {\n",
       "        vertical-align: middle;\n",
       "    }\n",
       "\n",
       "    .dataframe tbody tr th {\n",
       "        vertical-align: top;\n",
       "    }\n",
       "\n",
       "    .dataframe thead th {\n",
       "        text-align: right;\n",
       "    }\n",
       "</style>\n",
       "<table border=\"1\" class=\"dataframe\">\n",
       "  <thead>\n",
       "    <tr style=\"text-align: right;\">\n",
       "      <th></th>\n",
       "      <th>subreddit</th>\n",
       "      <th>title</th>\n",
       "      <th>author</th>\n",
       "      <th>created</th>\n",
       "      <th>ext_link</th>\n",
       "      <th>body</th>\n",
       "      <th>score</th>\n",
       "      <th>upvote_ratio</th>\n",
       "      <th>popular</th>\n",
       "    </tr>\n",
       "  </thead>\n",
       "  <tbody>\n",
       "    <tr>\n",
       "      <th>0</th>\n",
       "      <td>finance</td>\n",
       "      <td>Mogo: Establishes ATM Equity Program Mogo a fi...</td>\n",
       "      <td>fintechinshorts</td>\n",
       "      <td>1609507913</td>\n",
       "      <td>https://www.fintechinshorts.com/mogo-establish...</td>\n",
       "      <td></td>\n",
       "      <td>1</td>\n",
       "      <td>1.0</td>\n",
       "      <td>0</td>\n",
       "    </tr>\n",
       "    <tr>\n",
       "      <th>1</th>\n",
       "      <td>finance</td>\n",
       "      <td>Standard Capital: Partners with SolidBlock Sta...</td>\n",
       "      <td>fintechinshorts</td>\n",
       "      <td>1609518689</td>\n",
       "      <td>https://www.fintechinshorts.com/standard-capit...</td>\n",
       "      <td></td>\n",
       "      <td>1</td>\n",
       "      <td>1.0</td>\n",
       "      <td>0</td>\n",
       "    </tr>\n",
       "  </tbody>\n",
       "</table>\n",
       "</div>"
      ],
      "text/plain": [
       "  subreddit                                              title  \\\n",
       "0   finance  Mogo: Establishes ATM Equity Program Mogo a fi...   \n",
       "1   finance  Standard Capital: Partners with SolidBlock Sta...   \n",
       "\n",
       "            author     created  \\\n",
       "0  fintechinshorts  1609507913   \n",
       "1  fintechinshorts  1609518689   \n",
       "\n",
       "                                            ext_link body  score  \\\n",
       "0  https://www.fintechinshorts.com/mogo-establish...           1   \n",
       "1  https://www.fintechinshorts.com/standard-capit...           1   \n",
       "\n",
       "   upvote_ratio  popular  \n",
       "0           1.0        0  \n",
       "1           1.0        0  "
      ]
     },
     "execution_count": 13,
     "metadata": {},
     "output_type": "execute_result"
    }
   ],
   "source": [
    "df.drop(['id','url'], axis=1, inplace=True)\n",
    "df.head(2)"
   ]
  },
  {
   "cell_type": "markdown",
   "id": "alpha-avatar",
   "metadata": {},
   "source": [
    "## Running sentiment analysis"
   ]
  },
  {
   "cell_type": "code",
   "execution_count": 14,
   "id": "automotive-commission",
   "metadata": {},
   "outputs": [],
   "source": [
    "from vaderSentiment.vaderSentiment import SentimentIntensityAnalyzer\n",
    "\n",
    "analyzer = SentimentIntensityAnalyzer()"
   ]
  },
  {
   "cell_type": "code",
   "execution_count": 15,
   "id": "informational-illinois",
   "metadata": {},
   "outputs": [],
   "source": [
    "def neg_sentiment(inp):\n",
    "    return analyzer.polarity_scores(inp)['neg']\n",
    "\n",
    "def pos_sentiment(inp):\n",
    "    return analyzer.polarity_scores(inp)['pos']\n",
    "\n",
    "def neu_sentiment(inp):\n",
    "    return analyzer.polarity_scores(inp)['neu']\n",
    "\n",
    "def comp_sentiment(inp):\n",
    "    return analyzer.polarity_scores(inp)['compound']\n",
    "\n",
    "df['pos_sent'] = df['title'].apply(pos_sentiment)\n",
    "df['neg_sent'] = df['title'].apply(neg_sentiment)\n",
    "df['neu_sent'] = df['title'].apply(neu_sentiment)\n",
    "df['comp_sent'] = df['title'].apply(comp_sentiment)"
   ]
  },
  {
   "cell_type": "markdown",
   "id": "phantom-cleanup",
   "metadata": {},
   "source": [
    "## Transforming time info"
   ]
  },
  {
   "cell_type": "code",
   "execution_count": 16,
   "id": "outer-health",
   "metadata": {},
   "outputs": [
    {
     "data": {
      "text/html": [
       "<div>\n",
       "<style scoped>\n",
       "    .dataframe tbody tr th:only-of-type {\n",
       "        vertical-align: middle;\n",
       "    }\n",
       "\n",
       "    .dataframe tbody tr th {\n",
       "        vertical-align: top;\n",
       "    }\n",
       "\n",
       "    .dataframe thead th {\n",
       "        text-align: right;\n",
       "    }\n",
       "</style>\n",
       "<table border=\"1\" class=\"dataframe\">\n",
       "  <thead>\n",
       "    <tr style=\"text-align: right;\">\n",
       "      <th></th>\n",
       "      <th>subreddit</th>\n",
       "      <th>title</th>\n",
       "      <th>author</th>\n",
       "      <th>ext_link</th>\n",
       "      <th>body</th>\n",
       "      <th>score</th>\n",
       "      <th>upvote_ratio</th>\n",
       "      <th>popular</th>\n",
       "      <th>pos_sent</th>\n",
       "      <th>neg_sent</th>\n",
       "      <th>neu_sent</th>\n",
       "      <th>comp_sent</th>\n",
       "      <th>posting_time</th>\n",
       "    </tr>\n",
       "  </thead>\n",
       "  <tbody>\n",
       "    <tr>\n",
       "      <th>0</th>\n",
       "      <td>finance</td>\n",
       "      <td>Mogo: Establishes ATM Equity Program Mogo a fi...</td>\n",
       "      <td>fintechinshorts</td>\n",
       "      <td>https://www.fintechinshorts.com/mogo-establish...</td>\n",
       "      <td></td>\n",
       "      <td>1</td>\n",
       "      <td>1.0</td>\n",
       "      <td>0</td>\n",
       "      <td>0.000</td>\n",
       "      <td>0.0</td>\n",
       "      <td>1.000</td>\n",
       "      <td>0.0000</td>\n",
       "      <td>2021-01-01 08:31:53</td>\n",
       "    </tr>\n",
       "    <tr>\n",
       "      <th>1</th>\n",
       "      <td>finance</td>\n",
       "      <td>Standard Capital: Partners with SolidBlock Sta...</td>\n",
       "      <td>fintechinshorts</td>\n",
       "      <td>https://www.fintechinshorts.com/standard-capit...</td>\n",
       "      <td></td>\n",
       "      <td>1</td>\n",
       "      <td>1.0</td>\n",
       "      <td>0</td>\n",
       "      <td>0.096</td>\n",
       "      <td>0.0</td>\n",
       "      <td>0.904</td>\n",
       "      <td>0.1531</td>\n",
       "      <td>2021-01-01 11:31:29</td>\n",
       "    </tr>\n",
       "  </tbody>\n",
       "</table>\n",
       "</div>"
      ],
      "text/plain": [
       "  subreddit                                              title  \\\n",
       "0   finance  Mogo: Establishes ATM Equity Program Mogo a fi...   \n",
       "1   finance  Standard Capital: Partners with SolidBlock Sta...   \n",
       "\n",
       "            author                                           ext_link body  \\\n",
       "0  fintechinshorts  https://www.fintechinshorts.com/mogo-establish...        \n",
       "1  fintechinshorts  https://www.fintechinshorts.com/standard-capit...        \n",
       "\n",
       "   score  upvote_ratio  popular  pos_sent  neg_sent  neu_sent  comp_sent  \\\n",
       "0      1           1.0        0     0.000       0.0     1.000     0.0000   \n",
       "1      1           1.0        0     0.096       0.0     0.904     0.1531   \n",
       "\n",
       "         posting_time  \n",
       "0 2021-01-01 08:31:53  \n",
       "1 2021-01-01 11:31:29  "
      ]
     },
     "execution_count": 16,
     "metadata": {},
     "output_type": "execute_result"
    }
   ],
   "source": [
    "df['posting_time'] = df['created'].apply(dt.datetime.fromtimestamp)\n",
    "df.drop('created', axis=1, inplace=True)\n",
    "df.head(2)"
   ]
  },
  {
   "cell_type": "code",
   "execution_count": 17,
   "id": "general-departure",
   "metadata": {},
   "outputs": [],
   "source": [
    "df['posting_year'] = df['posting_time'].dt.year\n",
    "df['posting_month'] = df['posting_time'].dt.month\n",
    "df['posting_date'] = df['posting_time'].dt.day\n",
    "\n",
    "def to_hour(inp):\n",
    "    return inp.hour + (inp.minute/60.) + (inp.second/3600.)\n",
    "\n",
    "df['posting_hour'] = df['posting_time'].apply(to_hour)"
   ]
  },
  {
   "cell_type": "code",
   "execution_count": 18,
   "id": "coupled-berkeley",
   "metadata": {},
   "outputs": [],
   "source": [
    "def weekday(inp):\n",
    "    return inp.weekday()\n",
    "\n",
    "df['posting_day'] = df['posting_time'].apply(weekday)"
   ]
  },
  {
   "cell_type": "code",
   "execution_count": 19,
   "id": "another-target",
   "metadata": {},
   "outputs": [],
   "source": [
    "df = pd.concat([df, pd.get_dummies(df.posting_day, prefix='posting_day', drop_first=True)], axis=1)\n",
    "df.drop('posting_day', axis=1, inplace=True)"
   ]
  },
  {
   "cell_type": "code",
   "execution_count": 20,
   "id": "recreational-pierre",
   "metadata": {},
   "outputs": [
    {
     "data": {
      "text/html": [
       "<div>\n",
       "<style scoped>\n",
       "    .dataframe tbody tr th:only-of-type {\n",
       "        vertical-align: middle;\n",
       "    }\n",
       "\n",
       "    .dataframe tbody tr th {\n",
       "        vertical-align: top;\n",
       "    }\n",
       "\n",
       "    .dataframe thead th {\n",
       "        text-align: right;\n",
       "    }\n",
       "</style>\n",
       "<table border=\"1\" class=\"dataframe\">\n",
       "  <thead>\n",
       "    <tr style=\"text-align: right;\">\n",
       "      <th></th>\n",
       "      <th>subreddit</th>\n",
       "      <th>title</th>\n",
       "      <th>author</th>\n",
       "      <th>ext_link</th>\n",
       "      <th>body</th>\n",
       "      <th>score</th>\n",
       "      <th>upvote_ratio</th>\n",
       "      <th>popular</th>\n",
       "      <th>pos_sent</th>\n",
       "      <th>neg_sent</th>\n",
       "      <th>...</th>\n",
       "      <th>posting_year</th>\n",
       "      <th>posting_month</th>\n",
       "      <th>posting_date</th>\n",
       "      <th>posting_hour</th>\n",
       "      <th>posting_day_1</th>\n",
       "      <th>posting_day_2</th>\n",
       "      <th>posting_day_3</th>\n",
       "      <th>posting_day_4</th>\n",
       "      <th>posting_day_5</th>\n",
       "      <th>posting_day_6</th>\n",
       "    </tr>\n",
       "  </thead>\n",
       "  <tbody>\n",
       "    <tr>\n",
       "      <th>0</th>\n",
       "      <td>finance</td>\n",
       "      <td>Mogo: Establishes ATM Equity Program Mogo a fi...</td>\n",
       "      <td>fintechinshorts</td>\n",
       "      <td>https://www.fintechinshorts.com/mogo-establish...</td>\n",
       "      <td></td>\n",
       "      <td>1</td>\n",
       "      <td>1.0</td>\n",
       "      <td>0</td>\n",
       "      <td>0.000</td>\n",
       "      <td>0.0</td>\n",
       "      <td>...</td>\n",
       "      <td>2021</td>\n",
       "      <td>1</td>\n",
       "      <td>1</td>\n",
       "      <td>8.531389</td>\n",
       "      <td>0</td>\n",
       "      <td>0</td>\n",
       "      <td>0</td>\n",
       "      <td>1</td>\n",
       "      <td>0</td>\n",
       "      <td>0</td>\n",
       "    </tr>\n",
       "    <tr>\n",
       "      <th>1</th>\n",
       "      <td>finance</td>\n",
       "      <td>Standard Capital: Partners with SolidBlock Sta...</td>\n",
       "      <td>fintechinshorts</td>\n",
       "      <td>https://www.fintechinshorts.com/standard-capit...</td>\n",
       "      <td></td>\n",
       "      <td>1</td>\n",
       "      <td>1.0</td>\n",
       "      <td>0</td>\n",
       "      <td>0.096</td>\n",
       "      <td>0.0</td>\n",
       "      <td>...</td>\n",
       "      <td>2021</td>\n",
       "      <td>1</td>\n",
       "      <td>1</td>\n",
       "      <td>11.524722</td>\n",
       "      <td>0</td>\n",
       "      <td>0</td>\n",
       "      <td>0</td>\n",
       "      <td>1</td>\n",
       "      <td>0</td>\n",
       "      <td>0</td>\n",
       "    </tr>\n",
       "  </tbody>\n",
       "</table>\n",
       "<p>2 rows × 22 columns</p>\n",
       "</div>"
      ],
      "text/plain": [
       "  subreddit                                              title  \\\n",
       "0   finance  Mogo: Establishes ATM Equity Program Mogo a fi...   \n",
       "1   finance  Standard Capital: Partners with SolidBlock Sta...   \n",
       "\n",
       "            author                                           ext_link body  \\\n",
       "0  fintechinshorts  https://www.fintechinshorts.com/mogo-establish...        \n",
       "1  fintechinshorts  https://www.fintechinshorts.com/standard-capit...        \n",
       "\n",
       "   score  upvote_ratio  popular  pos_sent  neg_sent  ...  posting_year  \\\n",
       "0      1           1.0        0     0.000       0.0  ...          2021   \n",
       "1      1           1.0        0     0.096       0.0  ...          2021   \n",
       "\n",
       "   posting_month  posting_date  posting_hour  posting_day_1  posting_day_2  \\\n",
       "0              1             1      8.531389              0              0   \n",
       "1              1             1     11.524722              0              0   \n",
       "\n",
       "   posting_day_3  posting_day_4  posting_day_5  posting_day_6  \n",
       "0              0              1              0              0  \n",
       "1              0              1              0              0  \n",
       "\n",
       "[2 rows x 22 columns]"
      ]
     },
     "execution_count": 20,
     "metadata": {},
     "output_type": "execute_result"
    }
   ],
   "source": [
    "df.drop('posting_time', axis=1, inplace=True)\n",
    "df.head(2)"
   ]
  },
  {
   "cell_type": "markdown",
   "id": "worldwide-graduation",
   "metadata": {},
   "source": [
    "## Extracting the external link"
   ]
  },
  {
   "cell_type": "code",
   "execution_count": 21,
   "id": "aging-heavy",
   "metadata": {},
   "outputs": [],
   "source": [
    "image_file_formats = ['ai','bmp','gif','ico','jpg','jpeg','png','ps','psd','svg','tif','tiff']\n",
    "video_file_formats = ['.3g2','3gp','avi','flv','h264','m4v','mkv','mov','mp4','mpg','mpeg','rm','swf','vob','wmv']"
   ]
  },
  {
   "cell_type": "code",
   "execution_count": 22,
   "id": "collect-vocabulary",
   "metadata": {},
   "outputs": [],
   "source": [
    "def get_ext_media(inp):\n",
    "    if (inp == None) or (inp == 0):\n",
    "        last_term = 'None'\n",
    "    else:\n",
    "        last_term = inp.split('.')[-1]\n",
    "        \n",
    "    if (last_term in image_file_formats) or (last_term in video_file_formats):\n",
    "        out = 1\n",
    "    else:\n",
    "        out = 0\n",
    "    return out\n",
    "\n",
    "df['ext_link_media'] = df['ext_link'].apply(get_ext_media)"
   ]
  },
  {
   "cell_type": "code",
   "execution_count": 23,
   "id": "compact-madness",
   "metadata": {},
   "outputs": [],
   "source": [
    "def get_ext_web(inp):\n",
    "    if (inp == None) or (inp == 0):\n",
    "        last_term = 'None'\n",
    "    else:\n",
    "        last_term = inp.split('.')[-1]\n",
    "\n",
    "    if (last_term not in image_file_formats+video_file_formats) and (last_term != 'None'):\n",
    "        out = 1\n",
    "    else:\n",
    "        out = 0\n",
    "    return out\n",
    "\n",
    "df['ext_link_web'] = df['ext_link'].apply(get_ext_web)"
   ]
  },
  {
   "cell_type": "code",
   "execution_count": 24,
   "id": "beautiful-statement",
   "metadata": {},
   "outputs": [],
   "source": [
    "df.drop('ext_link', axis=1, inplace=True)"
   ]
  },
  {
   "cell_type": "code",
   "execution_count": 25,
   "id": "legendary-mozambique",
   "metadata": {},
   "outputs": [
    {
     "data": {
      "text/html": [
       "<div>\n",
       "<style scoped>\n",
       "    .dataframe tbody tr th:only-of-type {\n",
       "        vertical-align: middle;\n",
       "    }\n",
       "\n",
       "    .dataframe tbody tr th {\n",
       "        vertical-align: top;\n",
       "    }\n",
       "\n",
       "    .dataframe thead th {\n",
       "        text-align: right;\n",
       "    }\n",
       "</style>\n",
       "<table border=\"1\" class=\"dataframe\">\n",
       "  <thead>\n",
       "    <tr style=\"text-align: right;\">\n",
       "      <th></th>\n",
       "      <th>subreddit</th>\n",
       "      <th>title</th>\n",
       "      <th>author</th>\n",
       "      <th>body</th>\n",
       "      <th>score</th>\n",
       "      <th>upvote_ratio</th>\n",
       "      <th>popular</th>\n",
       "      <th>pos_sent</th>\n",
       "      <th>neg_sent</th>\n",
       "      <th>neu_sent</th>\n",
       "      <th>...</th>\n",
       "      <th>posting_date</th>\n",
       "      <th>posting_hour</th>\n",
       "      <th>posting_day_1</th>\n",
       "      <th>posting_day_2</th>\n",
       "      <th>posting_day_3</th>\n",
       "      <th>posting_day_4</th>\n",
       "      <th>posting_day_5</th>\n",
       "      <th>posting_day_6</th>\n",
       "      <th>ext_link_media</th>\n",
       "      <th>ext_link_web</th>\n",
       "    </tr>\n",
       "  </thead>\n",
       "  <tbody>\n",
       "    <tr>\n",
       "      <th>0</th>\n",
       "      <td>finance</td>\n",
       "      <td>Mogo: Establishes ATM Equity Program Mogo a fi...</td>\n",
       "      <td>fintechinshorts</td>\n",
       "      <td></td>\n",
       "      <td>1</td>\n",
       "      <td>1.0</td>\n",
       "      <td>0</td>\n",
       "      <td>0.000</td>\n",
       "      <td>0.0</td>\n",
       "      <td>1.000</td>\n",
       "      <td>...</td>\n",
       "      <td>1</td>\n",
       "      <td>8.531389</td>\n",
       "      <td>0</td>\n",
       "      <td>0</td>\n",
       "      <td>0</td>\n",
       "      <td>1</td>\n",
       "      <td>0</td>\n",
       "      <td>0</td>\n",
       "      <td>0</td>\n",
       "      <td>1</td>\n",
       "    </tr>\n",
       "    <tr>\n",
       "      <th>1</th>\n",
       "      <td>finance</td>\n",
       "      <td>Standard Capital: Partners with SolidBlock Sta...</td>\n",
       "      <td>fintechinshorts</td>\n",
       "      <td></td>\n",
       "      <td>1</td>\n",
       "      <td>1.0</td>\n",
       "      <td>0</td>\n",
       "      <td>0.096</td>\n",
       "      <td>0.0</td>\n",
       "      <td>0.904</td>\n",
       "      <td>...</td>\n",
       "      <td>1</td>\n",
       "      <td>11.524722</td>\n",
       "      <td>0</td>\n",
       "      <td>0</td>\n",
       "      <td>0</td>\n",
       "      <td>1</td>\n",
       "      <td>0</td>\n",
       "      <td>0</td>\n",
       "      <td>0</td>\n",
       "      <td>1</td>\n",
       "    </tr>\n",
       "  </tbody>\n",
       "</table>\n",
       "<p>2 rows × 23 columns</p>\n",
       "</div>"
      ],
      "text/plain": [
       "  subreddit                                              title  \\\n",
       "0   finance  Mogo: Establishes ATM Equity Program Mogo a fi...   \n",
       "1   finance  Standard Capital: Partners with SolidBlock Sta...   \n",
       "\n",
       "            author body  score  upvote_ratio  popular  pos_sent  neg_sent  \\\n",
       "0  fintechinshorts           1           1.0        0     0.000       0.0   \n",
       "1  fintechinshorts           1           1.0        0     0.096       0.0   \n",
       "\n",
       "   neu_sent  ...  posting_date  posting_hour  posting_day_1  posting_day_2  \\\n",
       "0     1.000  ...             1      8.531389              0              0   \n",
       "1     0.904  ...             1     11.524722              0              0   \n",
       "\n",
       "   posting_day_3  posting_day_4  posting_day_5  posting_day_6  ext_link_media  \\\n",
       "0              0              1              0              0               0   \n",
       "1              0              1              0              0               0   \n",
       "\n",
       "   ext_link_web  \n",
       "0             1  \n",
       "1             1  \n",
       "\n",
       "[2 rows x 23 columns]"
      ]
     },
     "execution_count": 25,
     "metadata": {},
     "output_type": "execute_result"
    }
   ],
   "source": [
    "df.head(2)"
   ]
  },
  {
   "cell_type": "markdown",
   "id": "floral-situation",
   "metadata": {},
   "source": [
    "## Making one-hot-encoding from subreddit forum"
   ]
  },
  {
   "cell_type": "code",
   "execution_count": 26,
   "id": "processed-motion",
   "metadata": {},
   "outputs": [],
   "source": [
    "df = pd.concat([df, pd.get_dummies(df.subreddit, prefix='subreddit', drop_first=True)], axis=1)\n",
    "df.drop('subreddit', axis=1, inplace=True)"
   ]
  },
  {
   "cell_type": "code",
   "execution_count": 27,
   "id": "living-effects",
   "metadata": {},
   "outputs": [
    {
     "data": {
      "text/html": [
       "<div>\n",
       "<style scoped>\n",
       "    .dataframe tbody tr th:only-of-type {\n",
       "        vertical-align: middle;\n",
       "    }\n",
       "\n",
       "    .dataframe tbody tr th {\n",
       "        vertical-align: top;\n",
       "    }\n",
       "\n",
       "    .dataframe thead th {\n",
       "        text-align: right;\n",
       "    }\n",
       "</style>\n",
       "<table border=\"1\" class=\"dataframe\">\n",
       "  <thead>\n",
       "    <tr style=\"text-align: right;\">\n",
       "      <th></th>\n",
       "      <th>title</th>\n",
       "      <th>author</th>\n",
       "      <th>body</th>\n",
       "      <th>score</th>\n",
       "      <th>upvote_ratio</th>\n",
       "      <th>popular</th>\n",
       "      <th>pos_sent</th>\n",
       "      <th>neg_sent</th>\n",
       "      <th>neu_sent</th>\n",
       "      <th>comp_sent</th>\n",
       "      <th>...</th>\n",
       "      <th>posting_day_2</th>\n",
       "      <th>posting_day_3</th>\n",
       "      <th>posting_day_4</th>\n",
       "      <th>posting_day_5</th>\n",
       "      <th>posting_day_6</th>\n",
       "      <th>ext_link_media</th>\n",
       "      <th>ext_link_web</th>\n",
       "      <th>subreddit_finance</th>\n",
       "      <th>subreddit_options</th>\n",
       "      <th>subreddit_pennystocks</th>\n",
       "    </tr>\n",
       "  </thead>\n",
       "  <tbody>\n",
       "    <tr>\n",
       "      <th>0</th>\n",
       "      <td>Mogo: Establishes ATM Equity Program Mogo a fi...</td>\n",
       "      <td>fintechinshorts</td>\n",
       "      <td></td>\n",
       "      <td>1</td>\n",
       "      <td>1.0</td>\n",
       "      <td>0</td>\n",
       "      <td>0.000</td>\n",
       "      <td>0.0</td>\n",
       "      <td>1.000</td>\n",
       "      <td>0.0000</td>\n",
       "      <td>...</td>\n",
       "      <td>0</td>\n",
       "      <td>0</td>\n",
       "      <td>1</td>\n",
       "      <td>0</td>\n",
       "      <td>0</td>\n",
       "      <td>0</td>\n",
       "      <td>1</td>\n",
       "      <td>1</td>\n",
       "      <td>0</td>\n",
       "      <td>0</td>\n",
       "    </tr>\n",
       "    <tr>\n",
       "      <th>1</th>\n",
       "      <td>Standard Capital: Partners with SolidBlock Sta...</td>\n",
       "      <td>fintechinshorts</td>\n",
       "      <td></td>\n",
       "      <td>1</td>\n",
       "      <td>1.0</td>\n",
       "      <td>0</td>\n",
       "      <td>0.096</td>\n",
       "      <td>0.0</td>\n",
       "      <td>0.904</td>\n",
       "      <td>0.1531</td>\n",
       "      <td>...</td>\n",
       "      <td>0</td>\n",
       "      <td>0</td>\n",
       "      <td>1</td>\n",
       "      <td>0</td>\n",
       "      <td>0</td>\n",
       "      <td>0</td>\n",
       "      <td>1</td>\n",
       "      <td>1</td>\n",
       "      <td>0</td>\n",
       "      <td>0</td>\n",
       "    </tr>\n",
       "  </tbody>\n",
       "</table>\n",
       "<p>2 rows × 25 columns</p>\n",
       "</div>"
      ],
      "text/plain": [
       "                                               title           author body  \\\n",
       "0  Mogo: Establishes ATM Equity Program Mogo a fi...  fintechinshorts        \n",
       "1  Standard Capital: Partners with SolidBlock Sta...  fintechinshorts        \n",
       "\n",
       "   score  upvote_ratio  popular  pos_sent  neg_sent  neu_sent  comp_sent  ...  \\\n",
       "0      1           1.0        0     0.000       0.0     1.000     0.0000  ...   \n",
       "1      1           1.0        0     0.096       0.0     0.904     0.1531  ...   \n",
       "\n",
       "   posting_day_2  posting_day_3  posting_day_4  posting_day_5  posting_day_6  \\\n",
       "0              0              0              1              0              0   \n",
       "1              0              0              1              0              0   \n",
       "\n",
       "   ext_link_media  ext_link_web  subreddit_finance  subreddit_options  \\\n",
       "0               0             1                  1                  0   \n",
       "1               0             1                  1                  0   \n",
       "\n",
       "   subreddit_pennystocks  \n",
       "0                      0  \n",
       "1                      0  \n",
       "\n",
       "[2 rows x 25 columns]"
      ]
     },
     "execution_count": 27,
     "metadata": {},
     "output_type": "execute_result"
    }
   ],
   "source": [
    "df.head(2)"
   ]
  },
  {
   "cell_type": "code",
   "execution_count": 28,
   "id": "continent-celebration",
   "metadata": {},
   "outputs": [
    {
     "data": {
      "text/plain": [
       "array([0, 1])"
      ]
     },
     "execution_count": 28,
     "metadata": {},
     "output_type": "execute_result"
    }
   ],
   "source": [
    "df.popular.unique()"
   ]
  },
  {
   "cell_type": "markdown",
   "id": "informative-sugar",
   "metadata": {},
   "source": [
    "## Calculate the length of text"
   ]
  },
  {
   "cell_type": "code",
   "execution_count": 29,
   "id": "tired-coordination",
   "metadata": {},
   "outputs": [],
   "source": [
    "tokenizer = TweetTokenizer()\n",
    "df['tokens_title'] = df['title'].str.lower().apply(tokenizer.tokenize)\n",
    "df['tokens_body'] = df['body'].str.lower().apply(tokenizer.tokenize)\n",
    "df['title_length'] = df['tokens_title'].apply(len)\n",
    "df['body_length'] = df['tokens_body'].apply(len)"
   ]
  },
  {
   "cell_type": "code",
   "execution_count": 30,
   "id": "comparative-assist",
   "metadata": {},
   "outputs": [
    {
     "data": {
      "text/html": [
       "<div>\n",
       "<style scoped>\n",
       "    .dataframe tbody tr th:only-of-type {\n",
       "        vertical-align: middle;\n",
       "    }\n",
       "\n",
       "    .dataframe tbody tr th {\n",
       "        vertical-align: top;\n",
       "    }\n",
       "\n",
       "    .dataframe thead th {\n",
       "        text-align: right;\n",
       "    }\n",
       "</style>\n",
       "<table border=\"1\" class=\"dataframe\">\n",
       "  <thead>\n",
       "    <tr style=\"text-align: right;\">\n",
       "      <th></th>\n",
       "      <th>title</th>\n",
       "      <th>author</th>\n",
       "      <th>body</th>\n",
       "      <th>score</th>\n",
       "      <th>upvote_ratio</th>\n",
       "      <th>popular</th>\n",
       "      <th>pos_sent</th>\n",
       "      <th>neg_sent</th>\n",
       "      <th>neu_sent</th>\n",
       "      <th>comp_sent</th>\n",
       "      <th>...</th>\n",
       "      <th>posting_day_6</th>\n",
       "      <th>ext_link_media</th>\n",
       "      <th>ext_link_web</th>\n",
       "      <th>subreddit_finance</th>\n",
       "      <th>subreddit_options</th>\n",
       "      <th>subreddit_pennystocks</th>\n",
       "      <th>tokens_title</th>\n",
       "      <th>tokens_body</th>\n",
       "      <th>title_length</th>\n",
       "      <th>body_length</th>\n",
       "    </tr>\n",
       "  </thead>\n",
       "  <tbody>\n",
       "    <tr>\n",
       "      <th>0</th>\n",
       "      <td>Mogo: Establishes ATM Equity Program Mogo a fi...</td>\n",
       "      <td>fintechinshorts</td>\n",
       "      <td></td>\n",
       "      <td>1</td>\n",
       "      <td>1.0</td>\n",
       "      <td>0</td>\n",
       "      <td>0.000</td>\n",
       "      <td>0.0</td>\n",
       "      <td>1.000</td>\n",
       "      <td>0.0000</td>\n",
       "      <td>...</td>\n",
       "      <td>0</td>\n",
       "      <td>0</td>\n",
       "      <td>1</td>\n",
       "      <td>1</td>\n",
       "      <td>0</td>\n",
       "      <td>0</td>\n",
       "      <td>[mogo, :, establishes, atm, equity, program, m...</td>\n",
       "      <td>[]</td>\n",
       "      <td>18</td>\n",
       "      <td>0</td>\n",
       "    </tr>\n",
       "    <tr>\n",
       "      <th>1</th>\n",
       "      <td>Standard Capital: Partners with SolidBlock Sta...</td>\n",
       "      <td>fintechinshorts</td>\n",
       "      <td></td>\n",
       "      <td>1</td>\n",
       "      <td>1.0</td>\n",
       "      <td>0</td>\n",
       "      <td>0.096</td>\n",
       "      <td>0.0</td>\n",
       "      <td>0.904</td>\n",
       "      <td>0.1531</td>\n",
       "      <td>...</td>\n",
       "      <td>0</td>\n",
       "      <td>0</td>\n",
       "      <td>1</td>\n",
       "      <td>1</td>\n",
       "      <td>0</td>\n",
       "      <td>0</td>\n",
       "      <td>[standard, capital, :, partners, with, solidbl...</td>\n",
       "      <td>[]</td>\n",
       "      <td>18</td>\n",
       "      <td>0</td>\n",
       "    </tr>\n",
       "  </tbody>\n",
       "</table>\n",
       "<p>2 rows × 29 columns</p>\n",
       "</div>"
      ],
      "text/plain": [
       "                                               title           author body  \\\n",
       "0  Mogo: Establishes ATM Equity Program Mogo a fi...  fintechinshorts        \n",
       "1  Standard Capital: Partners with SolidBlock Sta...  fintechinshorts        \n",
       "\n",
       "   score  upvote_ratio  popular  pos_sent  neg_sent  neu_sent  comp_sent  ...  \\\n",
       "0      1           1.0        0     0.000       0.0     1.000     0.0000  ...   \n",
       "1      1           1.0        0     0.096       0.0     0.904     0.1531  ...   \n",
       "\n",
       "   posting_day_6  ext_link_media  ext_link_web  subreddit_finance  \\\n",
       "0              0               0             1                  1   \n",
       "1              0               0             1                  1   \n",
       "\n",
       "   subreddit_options  subreddit_pennystocks  \\\n",
       "0                  0                      0   \n",
       "1                  0                      0   \n",
       "\n",
       "                                        tokens_title  tokens_body  \\\n",
       "0  [mogo, :, establishes, atm, equity, program, m...           []   \n",
       "1  [standard, capital, :, partners, with, solidbl...           []   \n",
       "\n",
       "   title_length  body_length  \n",
       "0            18            0  \n",
       "1            18            0  \n",
       "\n",
       "[2 rows x 29 columns]"
      ]
     },
     "execution_count": 30,
     "metadata": {},
     "output_type": "execute_result"
    }
   ],
   "source": [
    "df.head(2)"
   ]
  },
  {
   "cell_type": "markdown",
   "id": "convinced-bedroom",
   "metadata": {},
   "source": [
    "## Other text attributes"
   ]
  },
  {
   "cell_type": "code",
   "execution_count": 31,
   "id": "bearing-letter",
   "metadata": {},
   "outputs": [],
   "source": [
    "import string\n",
    "import re\n",
    "\n",
    "def emoji_count(s):\n",
    "    s = ''.join(word.strip(string.punctuation) for word in s.split())\n",
    "    return len(re.findall('[^\\w\\s,\\(\\)\\'\\/-]',s))\n",
    "\n",
    "def countUpper(text):\n",
    "    Up = 0\n",
    "    Low = 0\n",
    "    for ch in text:\n",
    "        if ch.isupper():\n",
    "            Up += 1\n",
    "        elif ch.islower():\n",
    "            Low += 1\n",
    "    \n",
    "    if Up + Low:\n",
    "        return Up/(Up+Low)\n",
    "    else:\n",
    "        return 0\n",
    "    \n",
    "def exclamationAndQuestion(text):\n",
    "    return text.count('!') + text.count('?')"
   ]
  },
  {
   "cell_type": "code",
   "execution_count": 32,
   "id": "becoming-contract",
   "metadata": {},
   "outputs": [],
   "source": [
    "df['title_emoji'] = df['title'].apply(emoji_count)\n",
    "df['body_emoji']  = df['body'].apply(emoji_count)\n",
    "df['title_EQ']    = df['title'].apply(exclamationAndQuestion)\n",
    "df['body_EQ']     = df['body'].apply(exclamationAndQuestion)\n",
    "df['title_UL']    = df['title'].apply(countUpper)\n",
    "df['body_UL']     = df['body'].apply(countUpper)"
   ]
  },
  {
   "cell_type": "markdown",
   "id": "quality-aspect",
   "metadata": {},
   "source": [
    "## Splitting Data into train and test set"
   ]
  },
  {
   "cell_type": "code",
   "execution_count": 33,
   "id": "intermediate-clarity",
   "metadata": {},
   "outputs": [],
   "source": [
    "df_train = df[df.posting_month < 4]\n",
    "df_test  = df[df.posting_month == 4]"
   ]
  },
  {
   "cell_type": "code",
   "execution_count": 34,
   "id": "ignored-rally",
   "metadata": {},
   "outputs": [
    {
     "data": {
      "text/plain": [
       "0.044806804668131334"
      ]
     },
     "execution_count": 34,
     "metadata": {},
     "output_type": "execute_result"
    }
   ],
   "source": [
    "df_train.popular.sum()/len(df_train)"
   ]
  },
  {
   "cell_type": "code",
   "execution_count": 35,
   "id": "choice-police",
   "metadata": {},
   "outputs": [
    {
     "data": {
      "text/plain": [
       "0.06811776920795017"
      ]
     },
     "execution_count": 35,
     "metadata": {},
     "output_type": "execute_result"
    }
   ],
   "source": [
    "df_test.popular.sum()/len(df_test)"
   ]
  },
  {
   "cell_type": "markdown",
   "id": "detailed-nylon",
   "metadata": {},
   "source": [
    "## Bag of Words"
   ]
  },
  {
   "cell_type": "code",
   "execution_count": 106,
   "id": "supported-dealing",
   "metadata": {},
   "outputs": [],
   "source": [
    "from sklearn.feature_extraction.text import CountVectorizer\n",
    "\n",
    "vectorizer = CountVectorizer(strip_accents='unicode',\n",
    "                             lowercase=True,\n",
    "                             stop_words='english',\n",
    "                             max_df=0.95\n",
    "                             )\n",
    "\n",
    "bow_train = vectorizer.fit_transform(df_train['title'])\n",
    "\n",
    "bow_test  = vectorizer.transform(df_test['title'])"
   ]
  },
  {
   "cell_type": "code",
   "execution_count": 100,
   "id": "prescription-republican",
   "metadata": {},
   "outputs": [
    {
     "data": {
      "text/plain": [
       "(99226, 33945)"
      ]
     },
     "execution_count": 100,
     "metadata": {},
     "output_type": "execute_result"
    }
   ],
   "source": [
    "bow_train.shape"
   ]
  },
  {
   "cell_type": "code",
   "execution_count": 107,
   "id": "alternative-tuition",
   "metadata": {},
   "outputs": [],
   "source": [
    "popular_train_index = df_train[df_train.popular == 1].reset_index().index\n",
    "popular_test_index  = df_test[df_test.popular == 1].reset_index().index"
   ]
  },
  {
   "cell_type": "code",
   "execution_count": 156,
   "id": "periodic-testament",
   "metadata": {},
   "outputs": [],
   "source": [
    "popular_words_count = bow_train[popular_train_index, :].toarray().sum(axis=0)\n",
    "\n",
    "zipped_lists = zip(popular_words_count.tolist(), vectorizer.get_feature_names())\n",
    "\n",
    "sorted_zipped_lists = sorted(zipped_lists)\n",
    "\n",
    "sorted_words = [element for _, element in sorted_zipped_lists][::-1]\n",
    "sorted_count = [element for element, _ in sorted_zipped_lists][::-1]\n"
   ]
  },
  {
   "cell_type": "code",
   "execution_count": 176,
   "id": "opposite-arizona",
   "metadata": {},
   "outputs": [
    {
     "data": {
      "text/plain": [
       "(33945,)"
      ]
     },
     "execution_count": 176,
     "metadata": {},
     "output_type": "execute_result"
    }
   ],
   "source": [
    "popular_words_count.shape"
   ]
  },
  {
   "cell_type": "code",
   "execution_count": 175,
   "id": "forced-capture",
   "metadata": {},
   "outputs": [
    {
     "data": {
      "text/plain": [
       "matrix([[17],\n",
       "        [15],\n",
       "        [ 1],\n",
       "        ...,\n",
       "        [ 0],\n",
       "        [ 3],\n",
       "        [ 0]])"
      ]
     },
     "execution_count": 175,
     "metadata": {},
     "output_type": "execute_result"
    }
   ],
   "source": [
    "bow_train[:, popular_words_count > np.min(sorted_count[:100])].sum(axis=1)"
   ]
  },
  {
   "cell_type": "markdown",
   "id": "third-completion",
   "metadata": {},
   "source": [
    "## Extract author information"
   ]
  },
  {
   "cell_type": "code",
   "execution_count": 36,
   "id": "potential-ottawa",
   "metadata": {},
   "outputs": [
    {
     "data": {
      "image/png": "[encoded data removed]",
      "text/plain": [
       "<Figure size 432x288 with 1 Axes>"
      ]
     },
     "metadata": {
      "needs_background": "light"
     },
     "output_type": "display_data"
    }
   ],
   "source": [
    "num_post_per_author = df_train['author'].value_counts().values\n",
    "\n",
    "plt.plot(range(len(num_post_per_author)), num_post_per_author)\n",
    "plt.xscale('log')\n",
    "plt.yscale('log')\n",
    "plt.ylabel('number of posts')\n",
    "plt.xlabel('authors')\n",
    "plt.show()"
   ]
  },
  {
   "cell_type": "code",
   "execution_count": 37,
   "id": "above-camera",
   "metadata": {},
   "outputs": [
    {
     "data": {
      "text/plain": [
       "fintechinshorts      358\n",
       "nmstanley32          291\n",
       "tiptoeintotown       230\n",
       "BatSoup7519          202\n",
       "Several_Meet_8653    201\n",
       "Name: author, dtype: int64"
      ]
     },
     "execution_count": 37,
     "metadata": {},
     "output_type": "execute_result"
    }
   ],
   "source": [
    "author_posts = df_train['author'].value_counts()\n",
    "author_posts.head()"
   ]
  },
  {
   "cell_type": "code",
   "execution_count": 38,
   "id": "abstract-spiritual",
   "metadata": {},
   "outputs": [
    {
     "name": "stderr",
     "output_type": "stream",
     "text": [
      "<ipython-input-38-d0715e3caf88>:8: SettingWithCopyWarning: \n",
      "A value is trying to be set on a copy of a slice from a DataFrame.\n",
      "Try using .loc[row_indexer,col_indexer] = value instead\n",
      "\n",
      "See the caveats in the documentation: https://pandas.pydata.org/pandas-docs/stable/user_guide/indexing.html#returning-a-view-versus-a-copy\n",
      "  df_train['num_posts'] = df_train['author'].apply(num_posts)\n",
      "<ipython-input-38-d0715e3caf88>:9: SettingWithCopyWarning: \n",
      "A value is trying to be set on a copy of a slice from a DataFrame.\n",
      "Try using .loc[row_indexer,col_indexer] = value instead\n",
      "\n",
      "See the caveats in the documentation: https://pandas.pydata.org/pandas-docs/stable/user_guide/indexing.html#returning-a-view-versus-a-copy\n",
      "  df_test['num_posts']  = df_test['author'].apply(num_posts)\n"
     ]
    }
   ],
   "source": [
    "def num_posts(author):\n",
    "    if author in author_posts.index:\n",
    "        out = author_posts[author]\n",
    "    else:\n",
    "        out = 1\n",
    "    return out\n",
    "\n",
    "df_train['num_posts'] = df_train['author'].apply(num_posts)\n",
    "df_test['num_posts']  = df_test['author'].apply(num_posts)"
   ]
  },
  {
   "cell_type": "code",
   "execution_count": 39,
   "id": "looking-australia",
   "metadata": {},
   "outputs": [
    {
     "data": {
      "text/plain": [
       "author\n",
       "----The_Truth-----    107.83871\n",
       "---Tsing__Tao---        1.00000\n",
       "--GoldenFire--         37.50000\n",
       "--Superb               15.25000\n",
       "--Warmonger--           1.00000\n",
       "Name: score, dtype: float64"
      ]
     },
     "execution_count": 39,
     "metadata": {},
     "output_type": "execute_result"
    }
   ],
   "source": [
    "author_scores = df_train.groupby('author').score.mean()\n",
    "author_scores.head()"
   ]
  },
  {
   "cell_type": "code",
   "execution_count": 40,
   "id": "perfect-software",
   "metadata": {},
   "outputs": [
    {
     "data": {
      "text/plain": [
       "0.32505191337881933"
      ]
     },
     "execution_count": 40,
     "metadata": {},
     "output_type": "execute_result"
    }
   ],
   "source": [
    "# Fraction of newbie authors in the test set\n",
    "\n",
    "count = 0\n",
    "for author in df_test.author.unique():\n",
    "    if author not in author_scores.index:\n",
    "        count += 1\n",
    "\n",
    "count/len(df_test)"
   ]
  },
  {
   "cell_type": "code",
   "execution_count": 41,
   "id": "active-pioneer",
   "metadata": {},
   "outputs": [
    {
     "name": "stderr",
     "output_type": "stream",
     "text": [
      "<ipython-input-41-2283c3336a32>:8: SettingWithCopyWarning: \n",
      "A value is trying to be set on a copy of a slice from a DataFrame.\n",
      "Try using .loc[row_indexer,col_indexer] = value instead\n",
      "\n",
      "See the caveats in the documentation: https://pandas.pydata.org/pandas-docs/stable/user_guide/indexing.html#returning-a-view-versus-a-copy\n",
      "  df_train['mean_scores'] = df_train['author'].apply(mean_scores)\n",
      "<ipython-input-41-2283c3336a32>:9: SettingWithCopyWarning: \n",
      "A value is trying to be set on a copy of a slice from a DataFrame.\n",
      "Try using .loc[row_indexer,col_indexer] = value instead\n",
      "\n",
      "See the caveats in the documentation: https://pandas.pydata.org/pandas-docs/stable/user_guide/indexing.html#returning-a-view-versus-a-copy\n",
      "  df_test['mean_scores']  = df_test['author'].apply(mean_scores)\n"
     ]
    }
   ],
   "source": [
    "def mean_scores(author):\n",
    "    if author in author_scores.index:\n",
    "        out = author_scores[author]\n",
    "    else:\n",
    "        out = -99\n",
    "    return out\n",
    "\n",
    "df_train['mean_scores'] = df_train['author'].apply(mean_scores)\n",
    "df_test['mean_scores']  = df_test['author'].apply(mean_scores)"
   ]
  },
  {
   "cell_type": "code",
   "execution_count": 42,
   "id": "reasonable-insight",
   "metadata": {},
   "outputs": [],
   "source": [
    "no_newbie_index = df_test[df_test.mean_scores != -99].index"
   ]
  },
  {
   "cell_type": "code",
   "execution_count": 43,
   "id": "prescribed-spider",
   "metadata": {},
   "outputs": [
    {
     "data": {
      "text/plain": [
       "0.5142390981904479"
      ]
     },
     "execution_count": 43,
     "metadata": {},
     "output_type": "execute_result"
    }
   ],
   "source": [
    "len(no_newbie_index)/len(df_test)"
   ]
  },
  {
   "cell_type": "code",
   "execution_count": 44,
   "id": "premier-fiber",
   "metadata": {},
   "outputs": [
    {
     "name": "stderr",
     "output_type": "stream",
     "text": [
      "/Users/dutomo/miniconda3/lib/python3.8/site-packages/pandas/core/indexing.py:966: SettingWithCopyWarning: \n",
      "A value is trying to be set on a copy of a slice from a DataFrame.\n",
      "Try using .loc[row_indexer,col_indexer] = value instead\n",
      "\n",
      "See the caveats in the documentation: https://pandas.pydata.org/pandas-docs/stable/user_guide/indexing.html#returning-a-view-versus-a-copy\n",
      "  self.obj[item] = s\n"
     ]
    }
   ],
   "source": [
    "median_score_newbie = df_train[df_train.num_posts == 1]['score'].median()\n",
    "\n",
    "df_test.loc[df_test.mean_scores == -99, 'mean_scores'] = median_score_newbie"
   ]
  },
  {
   "cell_type": "code",
   "execution_count": 45,
   "id": "sunrise-kitty",
   "metadata": {},
   "outputs": [],
   "source": [
    "#train_score = []\n",
    "#test_score  = []\n",
    "\n",
    "#for author in df_test.author.unique():\n",
    "#    if author in author_scores.index:\n",
    "#        \n",
    "#        scores = df_train[df_train['author'] == author].score.values\n",
    "#        time_length = 5. - df_train[df_train['author'] == author].posting_month\n",
    "#        train_score.append(np.mean(scores/time_length))\n",
    "#        \n",
    "#        test_score.append(df_test[df_test['author'] == author].score.mean())"
   ]
  },
  {
   "cell_type": "code",
   "execution_count": 46,
   "id": "fatty-equipment",
   "metadata": {},
   "outputs": [],
   "source": [
    "#score_ratio = np.array(train_score)/np.array(test_score)\n",
    "\n",
    "#plt.hist(score_ratio, 100, (0,200))\n",
    "#plt.yscale('log')\n",
    "#plt.show()"
   ]
  },
  {
   "cell_type": "markdown",
   "id": "marine-accuracy",
   "metadata": {},
   "source": [
    "## Preparing for modeling"
   ]
  },
  {
   "cell_type": "code",
   "execution_count": 47,
   "id": "turkish-bermuda",
   "metadata": {},
   "outputs": [
    {
     "data": {
      "text/html": [
       "<div>\n",
       "<style scoped>\n",
       "    .dataframe tbody tr th:only-of-type {\n",
       "        vertical-align: middle;\n",
       "    }\n",
       "\n",
       "    .dataframe tbody tr th {\n",
       "        vertical-align: top;\n",
       "    }\n",
       "\n",
       "    .dataframe thead th {\n",
       "        text-align: right;\n",
       "    }\n",
       "</style>\n",
       "<table border=\"1\" class=\"dataframe\">\n",
       "  <thead>\n",
       "    <tr style=\"text-align: right;\">\n",
       "      <th></th>\n",
       "      <th>pos_sent</th>\n",
       "      <th>neg_sent</th>\n",
       "      <th>neu_sent</th>\n",
       "      <th>comp_sent</th>\n",
       "      <th>posting_month</th>\n",
       "      <th>posting_date</th>\n",
       "      <th>posting_hour</th>\n",
       "      <th>posting_day_1</th>\n",
       "      <th>posting_day_2</th>\n",
       "      <th>posting_day_3</th>\n",
       "      <th>...</th>\n",
       "      <th>title_length</th>\n",
       "      <th>body_length</th>\n",
       "      <th>title_emoji</th>\n",
       "      <th>body_emoji</th>\n",
       "      <th>title_EQ</th>\n",
       "      <th>body_EQ</th>\n",
       "      <th>title_UL</th>\n",
       "      <th>body_UL</th>\n",
       "      <th>num_posts</th>\n",
       "      <th>mean_scores</th>\n",
       "    </tr>\n",
       "  </thead>\n",
       "  <tbody>\n",
       "    <tr>\n",
       "      <th>0</th>\n",
       "      <td>0.000</td>\n",
       "      <td>0.0</td>\n",
       "      <td>1.000</td>\n",
       "      <td>0.0000</td>\n",
       "      <td>1</td>\n",
       "      <td>1</td>\n",
       "      <td>8.531389</td>\n",
       "      <td>0</td>\n",
       "      <td>0</td>\n",
       "      <td>0</td>\n",
       "      <td>...</td>\n",
       "      <td>18</td>\n",
       "      <td>0</td>\n",
       "      <td>6</td>\n",
       "      <td>0</td>\n",
       "      <td>0</td>\n",
       "      <td>0</td>\n",
       "      <td>0.051136</td>\n",
       "      <td>0.0</td>\n",
       "      <td>358</td>\n",
       "      <td>1.0</td>\n",
       "    </tr>\n",
       "    <tr>\n",
       "      <th>1</th>\n",
       "      <td>0.096</td>\n",
       "      <td>0.0</td>\n",
       "      <td>0.904</td>\n",
       "      <td>0.1531</td>\n",
       "      <td>1</td>\n",
       "      <td>1</td>\n",
       "      <td>11.524722</td>\n",
       "      <td>0</td>\n",
       "      <td>0</td>\n",
       "      <td>0</td>\n",
       "      <td>...</td>\n",
       "      <td>18</td>\n",
       "      <td>0</td>\n",
       "      <td>6</td>\n",
       "      <td>0</td>\n",
       "      <td>0</td>\n",
       "      <td>0</td>\n",
       "      <td>0.061611</td>\n",
       "      <td>0.0</td>\n",
       "      <td>358</td>\n",
       "      <td>1.0</td>\n",
       "    </tr>\n",
       "    <tr>\n",
       "      <th>2</th>\n",
       "      <td>0.000</td>\n",
       "      <td>0.0</td>\n",
       "      <td>1.000</td>\n",
       "      <td>0.0000</td>\n",
       "      <td>1</td>\n",
       "      <td>1</td>\n",
       "      <td>11.848333</td>\n",
       "      <td>0</td>\n",
       "      <td>0</td>\n",
       "      <td>0</td>\n",
       "      <td>...</td>\n",
       "      <td>7</td>\n",
       "      <td>0</td>\n",
       "      <td>0</td>\n",
       "      <td>0</td>\n",
       "      <td>0</td>\n",
       "      <td>0</td>\n",
       "      <td>0.000000</td>\n",
       "      <td>0.0</td>\n",
       "      <td>1</td>\n",
       "      <td>0.0</td>\n",
       "    </tr>\n",
       "    <tr>\n",
       "      <th>3</th>\n",
       "      <td>0.310</td>\n",
       "      <td>0.0</td>\n",
       "      <td>0.690</td>\n",
       "      <td>0.5574</td>\n",
       "      <td>1</td>\n",
       "      <td>1</td>\n",
       "      <td>13.878333</td>\n",
       "      <td>0</td>\n",
       "      <td>0</td>\n",
       "      <td>0</td>\n",
       "      <td>...</td>\n",
       "      <td>9</td>\n",
       "      <td>0</td>\n",
       "      <td>0</td>\n",
       "      <td>0</td>\n",
       "      <td>0</td>\n",
       "      <td>0</td>\n",
       "      <td>0.142857</td>\n",
       "      <td>0.0</td>\n",
       "      <td>1</td>\n",
       "      <td>7.0</td>\n",
       "    </tr>\n",
       "    <tr>\n",
       "      <th>4</th>\n",
       "      <td>0.000</td>\n",
       "      <td>0.0</td>\n",
       "      <td>1.000</td>\n",
       "      <td>0.0000</td>\n",
       "      <td>1</td>\n",
       "      <td>1</td>\n",
       "      <td>13.913333</td>\n",
       "      <td>0</td>\n",
       "      <td>0</td>\n",
       "      <td>0</td>\n",
       "      <td>...</td>\n",
       "      <td>6</td>\n",
       "      <td>0</td>\n",
       "      <td>0</td>\n",
       "      <td>0</td>\n",
       "      <td>0</td>\n",
       "      <td>0</td>\n",
       "      <td>0.033333</td>\n",
       "      <td>0.0</td>\n",
       "      <td>1</td>\n",
       "      <td>1.0</td>\n",
       "    </tr>\n",
       "  </tbody>\n",
       "</table>\n",
       "<p>5 rows × 28 columns</p>\n",
       "</div>"
      ],
      "text/plain": [
       "   pos_sent  neg_sent  neu_sent  comp_sent  posting_month  posting_date  \\\n",
       "0     0.000       0.0     1.000     0.0000              1             1   \n",
       "1     0.096       0.0     0.904     0.1531              1             1   \n",
       "2     0.000       0.0     1.000     0.0000              1             1   \n",
       "3     0.310       0.0     0.690     0.5574              1             1   \n",
       "4     0.000       0.0     1.000     0.0000              1             1   \n",
       "\n",
       "   posting_hour  posting_day_1  posting_day_2  posting_day_3  ...  \\\n",
       "0      8.531389              0              0              0  ...   \n",
       "1     11.524722              0              0              0  ...   \n",
       "2     11.848333              0              0              0  ...   \n",
       "3     13.878333              0              0              0  ...   \n",
       "4     13.913333              0              0              0  ...   \n",
       "\n",
       "   title_length  body_length  title_emoji  body_emoji  title_EQ  body_EQ  \\\n",
       "0            18            0            6           0         0        0   \n",
       "1            18            0            6           0         0        0   \n",
       "2             7            0            0           0         0        0   \n",
       "3             9            0            0           0         0        0   \n",
       "4             6            0            0           0         0        0   \n",
       "\n",
       "   title_UL  body_UL  num_posts  mean_scores  \n",
       "0  0.051136      0.0        358          1.0  \n",
       "1  0.061611      0.0        358          1.0  \n",
       "2  0.000000      0.0          1          0.0  \n",
       "3  0.142857      0.0          1          7.0  \n",
       "4  0.033333      0.0          1          1.0  \n",
       "\n",
       "[5 rows x 28 columns]"
      ]
     },
     "execution_count": 47,
     "metadata": {},
     "output_type": "execute_result"
    }
   ],
   "source": [
    "X_train = df_train.drop(['popular', 'author', 'score', 'upvote_ratio', 'posting_year',\n",
    "                         'tokens_title', 'tokens_body', 'title', 'body'], axis=1)\n",
    "\n",
    "X_test  = df_test.drop(['popular', 'author', 'score', 'upvote_ratio', 'posting_year',\n",
    "                         'tokens_title', 'tokens_body', 'title', 'body'], axis=1)\n",
    "\n",
    "y_train = df_train['popular']\n",
    "y_test  = df_test['popular']\n",
    "\n",
    "X_train.head()"
   ]
  },
  {
   "cell_type": "code",
   "execution_count": 48,
   "id": "genetic-directive",
   "metadata": {},
   "outputs": [
    {
     "data": {
      "text/plain": [
       "(99226, 28)"
      ]
     },
     "execution_count": 48,
     "metadata": {},
     "output_type": "execute_result"
    }
   ],
   "source": [
    "X_train.shape"
   ]
  },
  {
   "cell_type": "code",
   "execution_count": null,
   "id": "naval-transition",
   "metadata": {},
   "outputs": [],
   "source": []
  },
  {
   "cell_type": "code",
   "execution_count": 49,
   "id": "imported-contact",
   "metadata": {},
   "outputs": [
    {
     "data": {
      "text/plain": [
       "0.08230508124076809"
      ]
     },
     "execution_count": 49,
     "metadata": {},
     "output_type": "execute_result"
    }
   ],
   "source": [
    "X_train[y_train == 0].comp_sent.mean()"
   ]
  },
  {
   "cell_type": "code",
   "execution_count": 50,
   "id": "improved-intermediate",
   "metadata": {},
   "outputs": [
    {
     "data": {
      "text/plain": [
       "0.08717413405308141"
      ]
     },
     "execution_count": 50,
     "metadata": {},
     "output_type": "execute_result"
    }
   ],
   "source": [
    "X_train[y_train == 1].comp_sent.mean()"
   ]
  },
  {
   "cell_type": "code",
   "execution_count": 51,
   "id": "comfortable-thickness",
   "metadata": {},
   "outputs": [
    {
     "data": {
      "text/plain": [
       "0.09625890334646453"
      ]
     },
     "execution_count": 51,
     "metadata": {},
     "output_type": "execute_result"
    }
   ],
   "source": [
    "X_test[y_test == 0].comp_sent.mean()"
   ]
  },
  {
   "cell_type": "code",
   "execution_count": 52,
   "id": "detailed-flexibility",
   "metadata": {},
   "outputs": [
    {
     "data": {
      "text/plain": [
       "0.10469891126837236"
      ]
     },
     "execution_count": 52,
     "metadata": {},
     "output_type": "execute_result"
    }
   ],
   "source": [
    "X_test[y_test == 1].comp_sent.mean()"
   ]
  },
  {
   "cell_type": "code",
   "execution_count": null,
   "id": "neutral-protocol",
   "metadata": {},
   "outputs": [],
   "source": []
  },
  {
   "cell_type": "markdown",
   "id": "therapeutic-flooring",
   "metadata": {},
   "source": [
    "## Making cross-validation data by time"
   ]
  },
  {
   "cell_type": "code",
   "execution_count": 53,
   "id": "subject-airline",
   "metadata": {},
   "outputs": [],
   "source": [
    "jan_index = X_train[X_train.posting_month == 1].index\n",
    "feb_index = X_train[X_train.posting_month == 2].index\n",
    "mar_index = X_train[X_train.posting_month == 3].index\n",
    "jan_feb_index = X_train[(X_train.posting_month == 1) | (X_train.posting_month == 2)].index"
   ]
  },
  {
   "cell_type": "markdown",
   "id": "ignored-horror",
   "metadata": {},
   "source": [
    "## Checking the variance of the data"
   ]
  },
  {
   "cell_type": "code",
   "execution_count": 54,
   "id": "blond-monitoring",
   "metadata": {},
   "outputs": [
    {
     "name": "stdout",
     "output_type": "stream",
     "text": [
      "           pos_sent      neg_sent      neu_sent     comp_sent  posting_month  \\\n",
      "count  99226.000000  99226.000000  99226.000000  99226.000000   99226.000000   \n",
      "mean       0.104576      0.059750      0.835675      0.082523       2.358696   \n",
      "std        0.167701      0.134915      0.201592      0.353650       0.708550   \n",
      "min        0.000000      0.000000      0.000000     -0.991300       1.000000   \n",
      "25%        0.000000      0.000000      0.708000      0.000000       2.000000   \n",
      "50%        0.000000      0.000000      0.913000      0.000000       2.000000   \n",
      "75%        0.184000      0.000000      1.000000      0.340000       3.000000   \n",
      "max        1.000000      1.000000      1.000000      0.998200       3.000000   \n",
      "\n",
      "       posting_date  posting_hour  posting_day_1  posting_day_2  \\\n",
      "count  99226.000000  99226.000000   99226.000000   99226.000000   \n",
      "mean      16.394473     13.219304       0.174339       0.233880   \n",
      "std        8.706470      5.628084       0.379403       0.423299   \n",
      "min        1.000000      0.000278       0.000000       0.000000   \n",
      "25%       10.000000      9.814583       0.000000       0.000000   \n",
      "50%       15.000000     13.304167       0.000000       0.000000   \n",
      "75%       25.000000     17.196875       0.000000       0.000000   \n",
      "max       31.000000     23.999167       1.000000       1.000000   \n",
      "\n",
      "       posting_day_3  posting_day_4  posting_day_5  posting_day_6  \\\n",
      "count   99226.000000   99226.000000   99226.000000   99226.000000   \n",
      "mean        0.186685       0.124262       0.074003       0.070979   \n",
      "std         0.389660       0.329882       0.261777       0.256792   \n",
      "min         0.000000       0.000000       0.000000       0.000000   \n",
      "25%         0.000000       0.000000       0.000000       0.000000   \n",
      "50%         0.000000       0.000000       0.000000       0.000000   \n",
      "75%         0.000000       0.000000       0.000000       0.000000   \n",
      "max         1.000000       1.000000       1.000000       1.000000   \n",
      "\n",
      "       ext_link_media  ext_link_web  subreddit_finance  subreddit_options  \\\n",
      "count    99226.000000  99226.000000       99226.000000       99226.000000   \n",
      "mean         0.281741      0.718209           0.018292           0.069095   \n",
      "std          0.449850      0.449874           0.134004           0.253617   \n",
      "min          0.000000      0.000000           0.000000           0.000000   \n",
      "25%          0.000000      0.000000           0.000000           0.000000   \n",
      "50%          0.000000      1.000000           0.000000           0.000000   \n",
      "75%          1.000000      1.000000           0.000000           0.000000   \n",
      "max          1.000000      1.000000           1.000000           1.000000   \n",
      "\n",
      "       subreddit_pennystocks  title_length   body_length   title_emoji  \\\n",
      "count           99226.000000  99226.000000  99226.000000  99226.000000   \n",
      "mean                0.136365     13.070949     76.370508      0.911596   \n",
      "std                 0.343178     11.262427    245.062073      2.534830   \n",
      "min                 0.000000      1.000000      0.000000      0.000000   \n",
      "25%                 0.000000      6.000000      0.000000      0.000000   \n",
      "50%                 0.000000     10.000000      1.000000      0.000000   \n",
      "75%                 0.000000     16.000000     57.000000      1.000000   \n",
      "max                 1.000000    141.000000   8444.000000    136.000000   \n",
      "\n",
      "         body_emoji      title_EQ       body_EQ      title_UL       body_UL  \\\n",
      "count  99226.000000  99226.000000  99226.000000  99226.000000  99226.000000   \n",
      "mean       5.102584      0.586389      0.908008      0.189401      0.040967   \n",
      "std       68.556831      1.371700      3.479203      0.259357      0.108925   \n",
      "min        0.000000      0.000000      0.000000      0.000000      0.000000   \n",
      "25%        0.000000      0.000000      0.000000      0.045455      0.000000   \n",
      "50%        0.000000      0.000000      0.000000      0.090909      0.000000   \n",
      "75%        2.000000      1.000000      1.000000      0.196429      0.046512   \n",
      "max    20060.000000     96.000000    532.000000      1.000000      1.000000   \n",
      "\n",
      "          num_posts   mean_scores  \n",
      "count  99226.000000  99226.000000  \n",
      "mean      16.854534    108.931409  \n",
      "std       39.092057    460.610424  \n",
      "min        1.000000      0.000000  \n",
      "25%        2.000000      7.000000  \n",
      "50%        5.000000     20.259259  \n",
      "75%       14.000000     69.000000  \n",
      "max      358.000000  37396.000000  \n"
     ]
    }
   ],
   "source": [
    "with pd.option_context('display.max_rows', None, 'display.max_columns', None):  # more options can be specified also\n",
    "    print(X_train.describe())"
   ]
  },
  {
   "cell_type": "markdown",
   "id": "hungarian-tonight",
   "metadata": {},
   "source": [
    "## Scaling the continuum features"
   ]
  },
  {
   "cell_type": "code",
   "execution_count": 55,
   "id": "interesting-cameroon",
   "metadata": {},
   "outputs": [],
   "source": [
    "from sklearn.preprocessing import StandardScaler\n",
    "\n",
    "scaled_cols = ['posting_month','posting_date','posting_hour','title_length','body_length','title_emoji',\n",
    "               'body_emoji','title_EQ','body_EQ','title_UL','body_UL','num_posts','mean_scores']\n",
    "\n",
    "for col in scaled_cols:\n",
    "\n",
    "    scaler = StandardScaler()\n",
    "\n",
    "    X_train[col] = scaler.fit_transform(X_train[col].values.reshape(-1,1))\n",
    "    X_test[col]  = scaler.transform(X_test[col].values.reshape(-1,1))"
   ]
  },
  {
   "cell_type": "code",
   "execution_count": 56,
   "id": "remarkable-foundation",
   "metadata": {},
   "outputs": [
    {
     "data": {
      "text/html": [
       "<div>\n",
       "<style scoped>\n",
       "    .dataframe tbody tr th:only-of-type {\n",
       "        vertical-align: middle;\n",
       "    }\n",
       "\n",
       "    .dataframe tbody tr th {\n",
       "        vertical-align: top;\n",
       "    }\n",
       "\n",
       "    .dataframe thead th {\n",
       "        text-align: right;\n",
       "    }\n",
       "</style>\n",
       "<table border=\"1\" class=\"dataframe\">\n",
       "  <thead>\n",
       "    <tr style=\"text-align: right;\">\n",
       "      <th></th>\n",
       "      <th>pos_sent</th>\n",
       "      <th>neg_sent</th>\n",
       "      <th>neu_sent</th>\n",
       "      <th>comp_sent</th>\n",
       "      <th>posting_month</th>\n",
       "      <th>posting_date</th>\n",
       "      <th>posting_hour</th>\n",
       "      <th>posting_day_1</th>\n",
       "      <th>posting_day_2</th>\n",
       "      <th>posting_day_3</th>\n",
       "      <th>...</th>\n",
       "      <th>title_length</th>\n",
       "      <th>body_length</th>\n",
       "      <th>title_emoji</th>\n",
       "      <th>body_emoji</th>\n",
       "      <th>title_EQ</th>\n",
       "      <th>body_EQ</th>\n",
       "      <th>title_UL</th>\n",
       "      <th>body_UL</th>\n",
       "      <th>num_posts</th>\n",
       "      <th>mean_scores</th>\n",
       "    </tr>\n",
       "  </thead>\n",
       "  <tbody>\n",
       "    <tr>\n",
       "      <th>0</th>\n",
       "      <td>0.000</td>\n",
       "      <td>0.0</td>\n",
       "      <td>1.000</td>\n",
       "      <td>0.0000</td>\n",
       "      <td>-1.917582</td>\n",
       "      <td>-1.768174</td>\n",
       "      <td>-0.832955</td>\n",
       "      <td>0</td>\n",
       "      <td>0</td>\n",
       "      <td>0</td>\n",
       "      <td>...</td>\n",
       "      <td>0.437657</td>\n",
       "      <td>-0.311639</td>\n",
       "      <td>2.007405</td>\n",
       "      <td>-0.074429</td>\n",
       "      <td>-0.427492</td>\n",
       "      <td>-0.260983</td>\n",
       "      <td>-0.533108</td>\n",
       "      <td>-0.376108</td>\n",
       "      <td>8.726765</td>\n",
       "      <td>-0.234324</td>\n",
       "    </tr>\n",
       "    <tr>\n",
       "      <th>1</th>\n",
       "      <td>0.096</td>\n",
       "      <td>0.0</td>\n",
       "      <td>0.904</td>\n",
       "      <td>0.1531</td>\n",
       "      <td>-1.917582</td>\n",
       "      <td>-1.768174</td>\n",
       "      <td>-0.301095</td>\n",
       "      <td>0</td>\n",
       "      <td>0</td>\n",
       "      <td>0</td>\n",
       "      <td>...</td>\n",
       "      <td>0.437657</td>\n",
       "      <td>-0.311639</td>\n",
       "      <td>2.007405</td>\n",
       "      <td>-0.074429</td>\n",
       "      <td>-0.427492</td>\n",
       "      <td>-0.260983</td>\n",
       "      <td>-0.492719</td>\n",
       "      <td>-0.376108</td>\n",
       "      <td>8.726765</td>\n",
       "      <td>-0.234324</td>\n",
       "    </tr>\n",
       "    <tr>\n",
       "      <th>2</th>\n",
       "      <td>0.000</td>\n",
       "      <td>0.0</td>\n",
       "      <td>1.000</td>\n",
       "      <td>0.0000</td>\n",
       "      <td>-1.917582</td>\n",
       "      <td>-1.768174</td>\n",
       "      <td>-0.243596</td>\n",
       "      <td>0</td>\n",
       "      <td>0</td>\n",
       "      <td>0</td>\n",
       "      <td>...</td>\n",
       "      <td>-0.539047</td>\n",
       "      <td>-0.311639</td>\n",
       "      <td>-0.359630</td>\n",
       "      <td>-0.074429</td>\n",
       "      <td>-0.427492</td>\n",
       "      <td>-0.260983</td>\n",
       "      <td>-0.730275</td>\n",
       "      <td>-0.376108</td>\n",
       "      <td>-0.405571</td>\n",
       "      <td>-0.236495</td>\n",
       "    </tr>\n",
       "    <tr>\n",
       "      <th>3</th>\n",
       "      <td>0.310</td>\n",
       "      <td>0.0</td>\n",
       "      <td>0.690</td>\n",
       "      <td>0.5574</td>\n",
       "      <td>-1.917582</td>\n",
       "      <td>-1.768174</td>\n",
       "      <td>0.117097</td>\n",
       "      <td>0</td>\n",
       "      <td>0</td>\n",
       "      <td>0</td>\n",
       "      <td>...</td>\n",
       "      <td>-0.361465</td>\n",
       "      <td>-0.311639</td>\n",
       "      <td>-0.359630</td>\n",
       "      <td>-0.074429</td>\n",
       "      <td>-0.427492</td>\n",
       "      <td>-0.260983</td>\n",
       "      <td>-0.179460</td>\n",
       "      <td>-0.376108</td>\n",
       "      <td>-0.405571</td>\n",
       "      <td>-0.221297</td>\n",
       "    </tr>\n",
       "    <tr>\n",
       "      <th>4</th>\n",
       "      <td>0.000</td>\n",
       "      <td>0.0</td>\n",
       "      <td>1.000</td>\n",
       "      <td>0.0000</td>\n",
       "      <td>-1.917582</td>\n",
       "      <td>-1.768174</td>\n",
       "      <td>0.123316</td>\n",
       "      <td>0</td>\n",
       "      <td>0</td>\n",
       "      <td>0</td>\n",
       "      <td>...</td>\n",
       "      <td>-0.627838</td>\n",
       "      <td>-0.311639</td>\n",
       "      <td>-0.359630</td>\n",
       "      <td>-0.074429</td>\n",
       "      <td>-0.427492</td>\n",
       "      <td>-0.260983</td>\n",
       "      <td>-0.601751</td>\n",
       "      <td>-0.376108</td>\n",
       "      <td>-0.405571</td>\n",
       "      <td>-0.234324</td>\n",
       "    </tr>\n",
       "  </tbody>\n",
       "</table>\n",
       "<p>5 rows × 28 columns</p>\n",
       "</div>"
      ],
      "text/plain": [
       "   pos_sent  neg_sent  neu_sent  comp_sent  posting_month  posting_date  \\\n",
       "0     0.000       0.0     1.000     0.0000      -1.917582     -1.768174   \n",
       "1     0.096       0.0     0.904     0.1531      -1.917582     -1.768174   \n",
       "2     0.000       0.0     1.000     0.0000      -1.917582     -1.768174   \n",
       "3     0.310       0.0     0.690     0.5574      -1.917582     -1.768174   \n",
       "4     0.000       0.0     1.000     0.0000      -1.917582     -1.768174   \n",
       "\n",
       "   posting_hour  posting_day_1  posting_day_2  posting_day_3  ...  \\\n",
       "0     -0.832955              0              0              0  ...   \n",
       "1     -0.301095              0              0              0  ...   \n",
       "2     -0.243596              0              0              0  ...   \n",
       "3      0.117097              0              0              0  ...   \n",
       "4      0.123316              0              0              0  ...   \n",
       "\n",
       "   title_length  body_length  title_emoji  body_emoji  title_EQ   body_EQ  \\\n",
       "0      0.437657    -0.311639     2.007405   -0.074429 -0.427492 -0.260983   \n",
       "1      0.437657    -0.311639     2.007405   -0.074429 -0.427492 -0.260983   \n",
       "2     -0.539047    -0.311639    -0.359630   -0.074429 -0.427492 -0.260983   \n",
       "3     -0.361465    -0.311639    -0.359630   -0.074429 -0.427492 -0.260983   \n",
       "4     -0.627838    -0.311639    -0.359630   -0.074429 -0.427492 -0.260983   \n",
       "\n",
       "   title_UL   body_UL  num_posts  mean_scores  \n",
       "0 -0.533108 -0.376108   8.726765    -0.234324  \n",
       "1 -0.492719 -0.376108   8.726765    -0.234324  \n",
       "2 -0.730275 -0.376108  -0.405571    -0.236495  \n",
       "3 -0.179460 -0.376108  -0.405571    -0.221297  \n",
       "4 -0.601751 -0.376108  -0.405571    -0.234324  \n",
       "\n",
       "[5 rows x 28 columns]"
      ]
     },
     "execution_count": 56,
     "metadata": {},
     "output_type": "execute_result"
    }
   ],
   "source": [
    "X_train.head()"
   ]
  },
  {
   "cell_type": "code",
   "execution_count": 57,
   "id": "blind-liver",
   "metadata": {},
   "outputs": [
    {
     "data": {
      "text/html": [
       "<div>\n",
       "<style scoped>\n",
       "    .dataframe tbody tr th:only-of-type {\n",
       "        vertical-align: middle;\n",
       "    }\n",
       "\n",
       "    .dataframe tbody tr th {\n",
       "        vertical-align: top;\n",
       "    }\n",
       "\n",
       "    .dataframe thead th {\n",
       "        text-align: right;\n",
       "    }\n",
       "</style>\n",
       "<table border=\"1\" class=\"dataframe\">\n",
       "  <thead>\n",
       "    <tr style=\"text-align: right;\">\n",
       "      <th></th>\n",
       "      <th>pos_sent</th>\n",
       "      <th>neg_sent</th>\n",
       "      <th>neu_sent</th>\n",
       "      <th>comp_sent</th>\n",
       "      <th>posting_month</th>\n",
       "      <th>posting_date</th>\n",
       "      <th>posting_hour</th>\n",
       "      <th>posting_day_1</th>\n",
       "      <th>posting_day_2</th>\n",
       "      <th>posting_day_3</th>\n",
       "      <th>...</th>\n",
       "      <th>title_length</th>\n",
       "      <th>body_length</th>\n",
       "      <th>title_emoji</th>\n",
       "      <th>body_emoji</th>\n",
       "      <th>title_EQ</th>\n",
       "      <th>body_EQ</th>\n",
       "      <th>title_UL</th>\n",
       "      <th>body_UL</th>\n",
       "      <th>num_posts</th>\n",
       "      <th>mean_scores</th>\n",
       "    </tr>\n",
       "  </thead>\n",
       "  <tbody>\n",
       "    <tr>\n",
       "      <th>1815</th>\n",
       "      <td>0.000</td>\n",
       "      <td>0.0</td>\n",
       "      <td>1.000</td>\n",
       "      <td>0.0000</td>\n",
       "      <td>2.316436</td>\n",
       "      <td>-1.768174</td>\n",
       "      <td>-1.090148</td>\n",
       "      <td>0</td>\n",
       "      <td>0</td>\n",
       "      <td>1</td>\n",
       "      <td>...</td>\n",
       "      <td>-0.627838</td>\n",
       "      <td>-0.311639</td>\n",
       "      <td>0.034876</td>\n",
       "      <td>-0.074429</td>\n",
       "      <td>-0.427492</td>\n",
       "      <td>-0.260983</td>\n",
       "      <td>-0.537489</td>\n",
       "      <td>-0.376108</td>\n",
       "      <td>-0.405571</td>\n",
       "      <td>-0.223469</td>\n",
       "    </tr>\n",
       "    <tr>\n",
       "      <th>1816</th>\n",
       "      <td>0.000</td>\n",
       "      <td>0.0</td>\n",
       "      <td>1.000</td>\n",
       "      <td>0.0000</td>\n",
       "      <td>2.316436</td>\n",
       "      <td>-1.768174</td>\n",
       "      <td>-1.044050</td>\n",
       "      <td>0</td>\n",
       "      <td>0</td>\n",
       "      <td>1</td>\n",
       "      <td>...</td>\n",
       "      <td>-0.183882</td>\n",
       "      <td>-0.311639</td>\n",
       "      <td>-0.359630</td>\n",
       "      <td>-0.074429</td>\n",
       "      <td>-0.427492</td>\n",
       "      <td>-0.260983</td>\n",
       "      <td>-0.022084</td>\n",
       "      <td>-0.376108</td>\n",
       "      <td>-0.405571</td>\n",
       "      <td>-0.223469</td>\n",
       "    </tr>\n",
       "    <tr>\n",
       "      <th>1817</th>\n",
       "      <td>0.470</td>\n",
       "      <td>0.0</td>\n",
       "      <td>0.530</td>\n",
       "      <td>0.7964</td>\n",
       "      <td>2.316436</td>\n",
       "      <td>-1.768174</td>\n",
       "      <td>-0.992818</td>\n",
       "      <td>0</td>\n",
       "      <td>0</td>\n",
       "      <td>1</td>\n",
       "      <td>...</td>\n",
       "      <td>-0.272673</td>\n",
       "      <td>-0.311639</td>\n",
       "      <td>-0.359630</td>\n",
       "      <td>-0.074429</td>\n",
       "      <td>-0.427492</td>\n",
       "      <td>-0.260983</td>\n",
       "      <td>-0.002783</td>\n",
       "      <td>-0.376108</td>\n",
       "      <td>0.080463</td>\n",
       "      <td>-0.234324</td>\n",
       "    </tr>\n",
       "    <tr>\n",
       "      <th>1818</th>\n",
       "      <td>0.000</td>\n",
       "      <td>0.0</td>\n",
       "      <td>1.000</td>\n",
       "      <td>0.0000</td>\n",
       "      <td>2.316436</td>\n",
       "      <td>-1.768174</td>\n",
       "      <td>-0.906742</td>\n",
       "      <td>0</td>\n",
       "      <td>0</td>\n",
       "      <td>1</td>\n",
       "      <td>...</td>\n",
       "      <td>-0.272673</td>\n",
       "      <td>-0.311639</td>\n",
       "      <td>-0.359630</td>\n",
       "      <td>-0.074429</td>\n",
       "      <td>-0.427492</td>\n",
       "      <td>-0.260983</td>\n",
       "      <td>0.103391</td>\n",
       "      <td>-0.376108</td>\n",
       "      <td>-0.405571</td>\n",
       "      <td>-0.234324</td>\n",
       "    </tr>\n",
       "    <tr>\n",
       "      <th>1819</th>\n",
       "      <td>0.343</td>\n",
       "      <td>0.0</td>\n",
       "      <td>0.657</td>\n",
       "      <td>0.8109</td>\n",
       "      <td>2.316436</td>\n",
       "      <td>-1.768174</td>\n",
       "      <td>-0.655471</td>\n",
       "      <td>0</td>\n",
       "      <td>0</td>\n",
       "      <td>1</td>\n",
       "      <td>...</td>\n",
       "      <td>0.704030</td>\n",
       "      <td>-0.311639</td>\n",
       "      <td>2.007405</td>\n",
       "      <td>-0.074429</td>\n",
       "      <td>-0.427492</td>\n",
       "      <td>-0.260983</td>\n",
       "      <td>-0.457649</td>\n",
       "      <td>-0.376108</td>\n",
       "      <td>8.726765</td>\n",
       "      <td>-0.234324</td>\n",
       "    </tr>\n",
       "  </tbody>\n",
       "</table>\n",
       "<p>5 rows × 28 columns</p>\n",
       "</div>"
      ],
      "text/plain": [
       "      pos_sent  neg_sent  neu_sent  comp_sent  posting_month  posting_date  \\\n",
       "1815     0.000       0.0     1.000     0.0000       2.316436     -1.768174   \n",
       "1816     0.000       0.0     1.000     0.0000       2.316436     -1.768174   \n",
       "1817     0.470       0.0     0.530     0.7964       2.316436     -1.768174   \n",
       "1818     0.000       0.0     1.000     0.0000       2.316436     -1.768174   \n",
       "1819     0.343       0.0     0.657     0.8109       2.316436     -1.768174   \n",
       "\n",
       "      posting_hour  posting_day_1  posting_day_2  posting_day_3  ...  \\\n",
       "1815     -1.090148              0              0              1  ...   \n",
       "1816     -1.044050              0              0              1  ...   \n",
       "1817     -0.992818              0              0              1  ...   \n",
       "1818     -0.906742              0              0              1  ...   \n",
       "1819     -0.655471              0              0              1  ...   \n",
       "\n",
       "      title_length  body_length  title_emoji  body_emoji  title_EQ   body_EQ  \\\n",
       "1815     -0.627838    -0.311639     0.034876   -0.074429 -0.427492 -0.260983   \n",
       "1816     -0.183882    -0.311639    -0.359630   -0.074429 -0.427492 -0.260983   \n",
       "1817     -0.272673    -0.311639    -0.359630   -0.074429 -0.427492 -0.260983   \n",
       "1818     -0.272673    -0.311639    -0.359630   -0.074429 -0.427492 -0.260983   \n",
       "1819      0.704030    -0.311639     2.007405   -0.074429 -0.427492 -0.260983   \n",
       "\n",
       "      title_UL   body_UL  num_posts  mean_scores  \n",
       "1815 -0.537489 -0.376108  -0.405571    -0.223469  \n",
       "1816 -0.022084 -0.376108  -0.405571    -0.223469  \n",
       "1817 -0.002783 -0.376108   0.080463    -0.234324  \n",
       "1818  0.103391 -0.376108  -0.405571    -0.234324  \n",
       "1819 -0.457649 -0.376108   8.726765    -0.234324  \n",
       "\n",
       "[5 rows x 28 columns]"
      ]
     },
     "execution_count": 57,
     "metadata": {},
     "output_type": "execute_result"
    }
   ],
   "source": [
    "X_test.head()"
   ]
  },
  {
   "cell_type": "code",
   "execution_count": 58,
   "id": "contrary-shift",
   "metadata": {},
   "outputs": [
    {
     "ename": "NameError",
     "evalue": "name 'stop_now' is not defined",
     "output_type": "error",
     "traceback": [
      "\u001b[0;31m---------------------------------------------------------------------------\u001b[0m",
      "\u001b[0;31mNameError\u001b[0m                                 Traceback (most recent call last)",
      "\u001b[0;32m<ipython-input-58-e26f40b5cdb8>\u001b[0m in \u001b[0;36m<module>\u001b[0;34m\u001b[0m\n\u001b[0;32m----> 1\u001b[0;31m \u001b[0mprint\u001b[0m\u001b[0;34m(\u001b[0m\u001b[0mstop_now\u001b[0m\u001b[0;34m)\u001b[0m\u001b[0;34m\u001b[0m\u001b[0;34m\u001b[0m\u001b[0m\n\u001b[0m",
      "\u001b[0;31mNameError\u001b[0m: name 'stop_now' is not defined"
     ]
    }
   ],
   "source": [
    "print(stop_now)"
   ]
  },
  {
   "cell_type": "markdown",
   "id": "transparent-minute",
   "metadata": {},
   "source": [
    "# Modeling"
   ]
  },
  {
   "cell_type": "markdown",
   "id": "round-check",
   "metadata": {},
   "source": [
    "## Logistic Regression"
   ]
  },
  {
   "cell_type": "code",
   "execution_count": null,
   "id": "spread-worcester",
   "metadata": {},
   "outputs": [],
   "source": [
    "from sklearn.metrics import precision_score, recall_score\n",
    "\n",
    "cv1 = [jan_index, feb_index]\n",
    "cv2 = [feb_index, mar_index]\n",
    "cv3 = [jan_feb_index, mar_index]\n",
    "\n",
    "cv = [cv1, cv2, cv3]\n",
    "\n",
    "Cs = [0.1, 1, 10]\n",
    "penalties = ['l1', 'l2']\n",
    "\n",
    "prec_val = np.zeros((3,3,2)); prec_tr = np.zeros((3,3,2))\n",
    "rec_val  = np.zeros((3,3,2)); rec_tr  = np.zeros((3,3,2))\n",
    "\n",
    "for i in range(len(cv)):\n",
    "    tr_index, val_index = cv[i]\n",
    "    X_tr,  y_tr  = X_train.loc[tr_index],  y_train.loc[tr_index]\n",
    "    X_val, y_val = X_train.loc[val_index], y_train.loc[val_index]\n",
    "    \n",
    "    for j in range(len(Cs)):\n",
    "        for k in range(len(penalties)):\n",
    "    \n",
    "            logreg = LogisticRegression(max_iter=10000, C = Cs[j], penalty = penalties[k],\n",
    "                                        solver='liblinear', class_weight='balanced')\n",
    "            logreg.fit(X_tr, y_tr)\n",
    "            \n",
    "            y_tr_pred  = logreg.predict(X_tr)\n",
    "            y_val_pred = logreg.predict(X_val)\n",
    "            \n",
    "            prec_tr[i,j,k]  = precision_score(y_tr, y_tr_pred)\n",
    "            prec_val[i,j,k] = precision_score(y_val, y_val_pred)\n",
    "            \n",
    "            rec_tr[i,j,k]  = recall_score(y_tr, y_tr_pred)\n",
    "            rec_val[i,j,k] = recall_score(y_val, y_val_pred)"
   ]
  },
  {
   "cell_type": "code",
   "execution_count": null,
   "id": "australian-defeat",
   "metadata": {},
   "outputs": [],
   "source": [
    "prec_tr.mean(axis=0)"
   ]
  },
  {
   "cell_type": "code",
   "execution_count": null,
   "id": "pointed-college",
   "metadata": {},
   "outputs": [],
   "source": [
    "prec_val.mean(axis=0)"
   ]
  },
  {
   "cell_type": "code",
   "execution_count": null,
   "id": "selective-norwegian",
   "metadata": {},
   "outputs": [],
   "source": [
    "rec_tr.mean(axis=0)"
   ]
  },
  {
   "cell_type": "code",
   "execution_count": null,
   "id": "funny-patch",
   "metadata": {},
   "outputs": [],
   "source": [
    "rec_val.mean(axis=0)"
   ]
  },
  {
   "cell_type": "code",
   "execution_count": null,
   "id": "equal-prize",
   "metadata": {},
   "outputs": [],
   "source": [
    "logreg = LogisticRegression(max_iter=10000, C = 0.1, penalty = 'l1',\n",
    "                                        solver='liblinear', class_weight='balanced')\n",
    "logreg.fit(X_train, y_train)"
   ]
  },
  {
   "cell_type": "code",
   "execution_count": null,
   "id": "blank-gibraltar",
   "metadata": {},
   "outputs": [],
   "source": [
    "y_pred = logreg.predict(X_train)\n",
    "precision_recall_fscore_support(y_train, y_pred)"
   ]
  },
  {
   "cell_type": "code",
   "execution_count": null,
   "id": "maritime-waterproof",
   "metadata": {},
   "outputs": [],
   "source": [
    "y_pred = logreg.predict(X_test)\n",
    "precision_recall_fscore_support(y_test, y_pred)"
   ]
  },
  {
   "cell_type": "code",
   "execution_count": null,
   "id": "arabic-joyce",
   "metadata": {},
   "outputs": [],
   "source": [
    "from sklearn.metrics import plot_precision_recall_curve\n",
    "\n",
    "fig, ax = plt.subplots(1,1, figsize=(7,5))\n",
    "plot_precision_recall_curve(logreg, X_train, y_train, ax=ax, label='train')\n",
    "plot_precision_recall_curve(logreg, X_test, y_test, ax=ax, label='test')\n",
    "plt.grid(ls='--')\n",
    "plt.legend(loc='upper right', fontsize=14)\n",
    "plt.show()"
   ]
  },
  {
   "cell_type": "code",
   "execution_count": null,
   "id": "widespread-hypothetical",
   "metadata": {},
   "outputs": [],
   "source": []
  },
  {
   "cell_type": "code",
   "execution_count": null,
   "id": "toxic-tuner",
   "metadata": {},
   "outputs": [],
   "source": [
    "logreg = LogisticRegression(max_iter=10000, solver='liblinear', class_weight='balanced')\n",
    "param_grid = {'C': [0.01,0.1,1,10],\n",
    "              'penalty': ['l1','l2']}\n",
    "gs = GridSearchCV(logreg, param_grid=param_grid) #, scoring='f1')\n",
    "gs.fit(X_train, y_train)"
   ]
  },
  {
   "cell_type": "code",
   "execution_count": null,
   "id": "frank-terrain",
   "metadata": {},
   "outputs": [],
   "source": [
    "gs.best_params_"
   ]
  },
  {
   "cell_type": "code",
   "execution_count": null,
   "id": "ahead-tradition",
   "metadata": {},
   "outputs": [],
   "source": [
    "gs.best_score_"
   ]
  },
  {
   "cell_type": "code",
   "execution_count": null,
   "id": "drawn-planet",
   "metadata": {},
   "outputs": [],
   "source": [
    "y_pred = gs.predict(X_train)\n",
    "precision_recall_fscore_support(y_train, y_pred)"
   ]
  },
  {
   "cell_type": "code",
   "execution_count": null,
   "id": "traditional-liver",
   "metadata": {},
   "outputs": [],
   "source": [
    "y_pred = gs.predict(X_test)\n",
    "precision_recall_fscore_support(y_test, y_pred)"
   ]
  },
  {
   "cell_type": "code",
   "execution_count": null,
   "id": "gentle-bidding",
   "metadata": {},
   "outputs": [],
   "source": [
    "confusion_matrix(y_test, y_pred)"
   ]
  },
  {
   "cell_type": "code",
   "execution_count": null,
   "id": "wrapped-optimization",
   "metadata": {},
   "outputs": [],
   "source": [
    "from sklearn.metrics import plot_roc_curve\n",
    "\n",
    "plot_roc_curve(gs, X_test, y_test)"
   ]
  },
  {
   "cell_type": "code",
   "execution_count": null,
   "id": "distinct-iraqi",
   "metadata": {},
   "outputs": [],
   "source": [
    "fig, ax = plt.subplots(1,1, figsize=(7,5))\n",
    "plot_precision_recall_curve(gs, X_test, y_test, ax=ax)\n",
    "plt.grid(ls='--')\n",
    "plt.savefig('../../plots/prec_rec_curve_logreg.png')"
   ]
  },
  {
   "cell_type": "code",
   "execution_count": null,
   "id": "dietary-authorization",
   "metadata": {},
   "outputs": [],
   "source": [
    "y_prob = gs.predict_proba(X_test)[:,1]\n",
    "precision_recall_fscore_support(y_test, 1*(y_prob > 0.9))"
   ]
  },
  {
   "cell_type": "code",
   "execution_count": null,
   "id": "confidential-bristol",
   "metadata": {},
   "outputs": [],
   "source": [
    "from joblib import dump, load\n",
    "dump(gs, '../../saved_models/logreg.joblib')"
   ]
  },
  {
   "cell_type": "markdown",
   "id": "sensitive-coordinator",
   "metadata": {},
   "source": [
    "## Random Forest"
   ]
  },
  {
   "cell_type": "code",
   "execution_count": 68,
   "id": "valid-interaction",
   "metadata": {},
   "outputs": [
    {
     "data": {
      "text/plain": [
       "RandomForestClassifier(class_weight='balanced', max_depth=5)"
      ]
     },
     "execution_count": 68,
     "metadata": {},
     "output_type": "execute_result"
    }
   ],
   "source": [
    "from sklearn.ensemble import RandomForestClassifier\n",
    "\n",
    "rfc = RandomForestClassifier(class_weight='balanced', n_estimators=100, max_depth=5)\n",
    "\n",
    "#param_grid = {'max_depth': [5, 10, 20]}\n",
    "\n",
    "#gs_rf = GridSearchCV(rfc, param_grid=param_grid)\n",
    "\n",
    "rfc.fit(X_train, y_train)"
   ]
  },
  {
   "cell_type": "code",
   "execution_count": null,
   "id": "natural-facility",
   "metadata": {},
   "outputs": [],
   "source": [
    "gs_rf.best_params_"
   ]
  },
  {
   "cell_type": "code",
   "execution_count": null,
   "id": "double-beaver",
   "metadata": {},
   "outputs": [],
   "source": [
    "y_pred_train = rfc.predict(X_train)\n",
    "precision_recall_fscore_support(y_train, y_pred_train)"
   ]
  },
  {
   "cell_type": "code",
   "execution_count": null,
   "id": "intensive-cinema",
   "metadata": {},
   "outputs": [],
   "source": [
    "y_pred_test = rfc.predict(X_test)\n",
    "precision_recall_fscore_support(y_test, y_pred_test)"
   ]
  },
  {
   "cell_type": "code",
   "execution_count": null,
   "id": "weird-manchester",
   "metadata": {},
   "outputs": [],
   "source": [
    "y_pred_test = rfc.predict(X_test.loc[no_newbie_index])\n",
    "precision_recall_fscore_support(y_test[no_newbie_index], y_pred_test)"
   ]
  },
  {
   "cell_type": "code",
   "execution_count": null,
   "id": "liberal-albany",
   "metadata": {},
   "outputs": [],
   "source": [
    "confusion_matrix(y_train, y_pred_train)"
   ]
  },
  {
   "cell_type": "code",
   "execution_count": null,
   "id": "alike-services",
   "metadata": {},
   "outputs": [],
   "source": [
    "confusion_matrix(y_test, y_pred_test)"
   ]
  },
  {
   "cell_type": "code",
   "execution_count": null,
   "id": "amber-myanmar",
   "metadata": {},
   "outputs": [],
   "source": [
    "plot_roc_curve(gs_rf, X_test, y_test)"
   ]
  },
  {
   "cell_type": "code",
   "execution_count": 69,
   "id": "complicated-pharmacy",
   "metadata": {},
   "outputs": [
    {
     "data": {
      "image/png": "[encoded data removed]",
      "text/plain": [
       "<Figure size 504x360 with 1 Axes>"
      ]
     },
     "metadata": {
      "needs_background": "light"
     },
     "output_type": "display_data"
    }
   ],
   "source": [
    "fig, ax = plt.subplots(1,1, figsize=(7,5))\n",
    "plot_precision_recall_curve(rfc, X_train, y_train, ax=ax, label='train')\n",
    "plot_precision_recall_curve(rfc, X_test, y_test, ax=ax, label='test')\n",
    "plot_precision_recall_curve(rfc, X_test.loc[no_newbie_index], y_test[no_newbie_index], ax=ax, label='test no newbie')\n",
    "plt.grid(ls='--')\n",
    "plt.legend(loc='upper right')\n",
    "plt.show()"
   ]
  },
  {
   "cell_type": "code",
   "execution_count": null,
   "id": "described-wonder",
   "metadata": {},
   "outputs": [],
   "source": [
    "prec = []\n",
    "rec  = []\n",
    "fscore = []\n",
    "\n",
    "fig, ax = plt.subplots(1,1, figsize=(7,5))\n",
    "\n",
    "for max_depth in [4, 5, 6]:\n",
    "\n",
    "    rfc = RandomForestClassifier(class_weight='balanced', max_depth=max_depth)\n",
    "    rfc.fit(X_train, y_train)\n",
    "    \n",
    "    #plot_precision_recall_curve(rfc, X_train, y_train, ax=ax, label='train %i' % max_depth)\n",
    "    plot_precision_recall_curve(rfc, X_test, y_test, ax=ax, label='test %i' % max_depth)\n",
    "    \n",
    "    y_pred_test = rfc.predict(X_test)\n",
    "    p, r, f, _ = precision_recall_fscore_support(y_test, y_pred_test)\n",
    "    prec.append(p[1])\n",
    "    rec.append(r[1])\n",
    "    fscore.append(f[1])\n",
    "    \n",
    "plt.grid(ls='--')\n",
    "plt.legend(loc='upper right')\n",
    "plt.show()"
   ]
  },
  {
   "cell_type": "code",
   "execution_count": null,
   "id": "alive-constitution",
   "metadata": {},
   "outputs": [],
   "source": [
    "y_prob = gs.predict_proba(X_test)[:,1]\n",
    "precision_recall_fscore_support(y_test, 1*(y_prob > 0.8))"
   ]
  },
  {
   "cell_type": "code",
   "execution_count": null,
   "id": "generic-investor",
   "metadata": {},
   "outputs": [],
   "source": [
    "dump(gs_rf, '../../saved_models/rfc.joblib')"
   ]
  },
  {
   "cell_type": "code",
   "execution_count": 70,
   "id": "configured-regulation",
   "metadata": {},
   "outputs": [
    {
     "name": "stdout",
     "output_type": "stream",
     "text": [
      "mean_scores 0.7546743994857353\n",
      "title_length 0.05232780805196799\n",
      "body_length 0.05197883434141238\n",
      "body_emoji 0.029603468506673922\n",
      "ext_link_web 0.015090229809172632\n",
      "body_EQ 0.013603715096331128\n",
      "ext_link_media 0.012964174293004673\n",
      "num_posts 0.008964278445718588\n",
      "neu_sent 0.007888436088453682\n",
      "posting_month 0.00770560296668291\n",
      "subreddit_options 0.007401983385067669\n",
      "neg_sent 0.007162588526777479\n",
      "title_EQ 0.004741055340216837\n",
      "body_UL 0.004705885981362296\n",
      "posting_date 0.00427201412734895\n",
      "pos_sent 0.003367906621466445\n",
      "subreddit_pennystocks 0.0022819689350847975\n",
      "posting_hour 0.002174003677975212\n",
      "comp_sent 0.0020931906154099534\n",
      "title_UL 0.0018009671613587021\n",
      "posting_day_6 0.0013685630073541684\n",
      "title_emoji 0.0011532085070385825\n",
      "posting_day_5 0.0009674862232608806\n",
      "posting_day_3 0.0006841087344683412\n",
      "posting_day_2 0.0004796233135179053\n",
      "posting_day_4 0.0003170251631952001\n",
      "subreddit_finance 0.0001948898716983874\n",
      "posting_day_1 3.258372224503061e-05\n"
     ]
    }
   ],
   "source": [
    "#feat_imp = gs_rf.best_estimator_.feature_importances_\n",
    "\n",
    "feat_imp = rfc.feature_importances_\n",
    "\n",
    "zipped_lists = zip(feat_imp, X_train.columns)\n",
    "\n",
    "sorted_zipped_lists = sorted(zipped_lists)\n",
    "\n",
    "sorted_columns  = [element for _, element in sorted_zipped_lists][::-1]\n",
    "sorted_feat_imp = [element for element, _ in sorted_zipped_lists][::-1]\n",
    "\n",
    "for i in range(len(sorted_columns)):\n",
    "    print(sorted_columns[i], sorted_feat_imp[i])"
   ]
  },
  {
   "cell_type": "markdown",
   "id": "conceptual-disorder",
   "metadata": {},
   "source": [
    "## XGBoost"
   ]
  },
  {
   "cell_type": "code",
   "execution_count": null,
   "id": "chubby-nursery",
   "metadata": {},
   "outputs": [],
   "source": [
    "prec = []\n",
    "rec  = []\n",
    "fscore = []\n",
    "\n",
    "fig, ax = plt.subplots(1,1, figsize=(7,5))\n",
    "\n",
    "for max_depth in [4, 5, 6]:\n",
    "\n",
    "    rfc = RandomForestClassifier(class_weight='balanced', max_depth=max_depth)\n",
    "    rfc.fit(X_train, y_train)\n",
    "    \n",
    "    #plot_precision_recall_curve(rfc, X_train, y_train, ax=ax, label='train %i' % max_depth)\n",
    "    plot_precision_recall_curve(rfc, X_test, y_test, ax=ax, label='test %i' % max_depth)\n",
    "    \n",
    "    y_pred_test = rfc.predict(X_test)\n",
    "    p, r, f, _ = precision_recall_fscore_support(y_test, y_pred_test)\n",
    "    prec.append(p[1])\n",
    "    rec.append(r[1])\n",
    "    fscore.append(f[1])\n",
    "    \n",
    "plt.grid(ls='--')\n",
    "plt.legend(loc='upper right')\n",
    "plt.show()"
   ]
  },
  {
   "cell_type": "code",
   "execution_count": 65,
   "id": "enhanced-representative",
   "metadata": {},
   "outputs": [
    {
     "name": "stderr",
     "output_type": "stream",
     "text": [
      "/Users/dutomo/miniconda3/lib/python3.8/site-packages/xgboost/sklearn.py:888: UserWarning: The use of label encoder in XGBClassifier is deprecated and will be removed in a future release. To remove this warning, do the following: 1) Pass option use_label_encoder=False when constructing XGBClassifier object; and 2) Encode your labels (y) as integers starting with 0, i.e. 0, 1, 2, ..., [num_class - 1].\n",
      "  warnings.warn(label_encoder_deprecation_msg, UserWarning)\n"
     ]
    },
    {
     "data": {
      "text/plain": [
       "XGBClassifier(base_score=0.5, booster='gbtree', colsample_bylevel=1,\n",
       "              colsample_bynode=1, colsample_bytree=1, gamma=0, gpu_id=-1,\n",
       "              importance_type='gain', interaction_constraints='',\n",
       "              learning_rate=0.300000012, max_delta_step=0, max_depth=1,\n",
       "              min_child_weight=1, missing=nan, monotone_constraints='()',\n",
       "              n_estimators=300, n_jobs=16, num_parallel_tree=1, random_state=0,\n",
       "              reg_alpha=0, reg_lambda=1, scale_pos_weight=21.31803868645974,\n",
       "              subsample=1, tree_method='exact', validate_parameters=1,\n",
       "              verbosity=0)"
      ]
     },
     "execution_count": 65,
     "metadata": {},
     "output_type": "execute_result"
    }
   ],
   "source": [
    "from xgboost import XGBClassifier\n",
    "\n",
    "xgb = XGBClassifier(n_estimators=300, max_depth=1, scale_pos_weight=(len(y_train)/y_train.sum())-1, verbosity=0)\n",
    "\n",
    "#param_grid = {'max_depth': [4, 5, 6],\n",
    "#              'alpha': [1, 10, 100]}\n",
    "\n",
    "#gs_xgb = GridSearchCV(xgb, param_grid=param_grid)\n",
    "\n",
    "xgb.fit(X_train, y_train)"
   ]
  },
  {
   "cell_type": "code",
   "execution_count": 67,
   "id": "complete-yeast",
   "metadata": {},
   "outputs": [
    {
     "data": {
      "image/png": "[encoded data removed]",
      "text/plain": [
       "<Figure size 504x360 with 1 Axes>"
      ]
     },
     "metadata": {
      "needs_background": "light"
     },
     "output_type": "display_data"
    }
   ],
   "source": [
    "fig, ax = plt.subplots(1,1, figsize=(7,5))\n",
    "plot_precision_recall_curve(xgb, X_train, y_train, ax=ax, label='train')\n",
    "plot_precision_recall_curve(xgb, X_test, y_test, ax=ax, label='test')\n",
    "plot_precision_recall_curve(xgb, X_test.loc[no_newbie_index], y_test[no_newbie_index], ax=ax, label='test no newbie')\n",
    "plt.grid(ls='--')\n",
    "plt.legend(loc='upper right')\n",
    "plt.savefig('../../plots/prec_rec_curve_xgb.png')\n",
    "plt.show()"
   ]
  },
  {
   "cell_type": "code",
   "execution_count": null,
   "id": "functioning-reception",
   "metadata": {},
   "outputs": [],
   "source": [
    "gs_xgb.best_params_"
   ]
  },
  {
   "cell_type": "code",
   "execution_count": null,
   "id": "documented-legend",
   "metadata": {},
   "outputs": [],
   "source": [
    "y_pred = gs_xgb.predict(X_train)\n",
    "precision_recall_fscore_support(y_train, y_pred)"
   ]
  },
  {
   "cell_type": "code",
   "execution_count": null,
   "id": "processed-benjamin",
   "metadata": {},
   "outputs": [],
   "source": [
    "y_pred = gs_xgb.predict(X_test)\n",
    "precision_recall_fscore_support(y_test, y_pred)"
   ]
  },
  {
   "cell_type": "code",
   "execution_count": null,
   "id": "faced-digest",
   "metadata": {},
   "outputs": [],
   "source": [
    "plot_roc_curve(gs_xgb, X_test, y_test)"
   ]
  },
  {
   "cell_type": "markdown",
   "id": "fossil-southwest",
   "metadata": {},
   "source": [
    "## Neural network"
   ]
  },
  {
   "cell_type": "code",
   "execution_count": null,
   "id": "conservative-referral",
   "metadata": {},
   "outputs": [],
   "source": [
    "from keras.models import Sequential, load_model\n",
    "from keras.layers import Dense, Dropout\n",
    "from keras.callbacks import EarlyStopping\n",
    "from keras.metrics import binary_accuracy, Recall, BinaryAccuracy"
   ]
  },
  {
   "cell_type": "code",
   "execution_count": null,
   "id": "unique-macedonia",
   "metadata": {},
   "outputs": [],
   "source": [
    "def build_network(n_features, n_output, n_layers=1, n_nodes=10, activ_func='relu', dropout_rate=0.):\n",
    "    ''' Building neural network model '''\n",
    "    model = Sequential()\n",
    "    model.add(Dense(n_nodes, activation=activ_func, use_bias=True, input_shape=(n_features,)))\n",
    "    for i in range(n_layers-1):\n",
    "        model.add(Dense(n_nodes, activation=activ_func, use_bias=True))\n",
    "    if dropout_rate > 0:\n",
    "        model.add(Dropout(dropout_rate, input_shape=(n_nodes,)))\n",
    "    model.add(Dense(n_output, activation='sigmoid'))\n",
    "    return model"
   ]
  },
  {
   "cell_type": "code",
   "execution_count": null,
   "id": "nominated-fraction",
   "metadata": {},
   "outputs": [],
   "source": [
    "def fit_network(X, y, n_output, n_layers=1, n_nodes=10, activ_func='relu', dropout_rate=0., epochs=10,\n",
    "                metrics=[binary_accuracy], loss_weights=None, patience=5):\n",
    "    # Building neural network model\n",
    "    n_features = np.shape(X)[1]\n",
    "    model = build_network(n_features, n_output, n_layers, n_nodes, activ_func, dropout_rate)\n",
    "    # Compiling model\n",
    "    early_stopping_monitor = EarlyStopping(patience=patience)\n",
    "    model.compile(optimizer='adam', loss='binary_crossentropy', metrics=metrics, loss_weights=loss_weights)\n",
    "    # Fitting model\n",
    "    history = model.fit(X, y,\n",
    "                        validation_split=0.2, epochs=epochs,\n",
    "                        shuffle=True, callbacks=[early_stopping_monitor])\n",
    "    return model, history"
   ]
  },
  {
   "cell_type": "code",
   "execution_count": null,
   "id": "turkish-ownership",
   "metadata": {},
   "outputs": [],
   "source": [
    "model, history = fit_network(X_train, y_train, n_output=1, n_layers=2, n_nodes=10, epochs=30, patience=3,\n",
    "                             loss_weights=[1, 100.])"
   ]
  },
  {
   "cell_type": "code",
   "execution_count": null,
   "id": "conceptual-mayor",
   "metadata": {},
   "outputs": [],
   "source": [
    "plt.plot(history.history['loss'], label='training')\n",
    "plt.plot(history.history['val_loss'], label='validation')\n",
    "plt.legend()\n",
    "plt.xlabel('epoch')\n",
    "plt.ylabel('loss')\n",
    "plt.show()"
   ]
  },
  {
   "cell_type": "code",
   "execution_count": null,
   "id": "emotional-individual",
   "metadata": {},
   "outputs": [],
   "source": [
    "y_prob = model.predict(X_train)\n",
    "precision_recall_fscore_support(y_train, 1*(y_prob > 0.5))"
   ]
  },
  {
   "cell_type": "code",
   "execution_count": null,
   "id": "pursuant-publicity",
   "metadata": {},
   "outputs": [],
   "source": [
    "y_prob = model.predict(X_test)\n",
    "precision_recall_fscore_support(y_test, 1*(y_prob > 0.5))"
   ]
  },
  {
   "cell_type": "code",
   "execution_count": null,
   "id": "appointed-craps",
   "metadata": {},
   "outputs": [],
   "source": [
    "from sklearn.metrics import precision_score, recall_score\n",
    "\n",
    "thres = np.arange(0,1,0.01)\n",
    "\n",
    "prec_nn = []\n",
    "rec_nn = []\n",
    "\n",
    "for t in thres:\n",
    "    prec_nn.append(precision_score(y_test, 1*(y_prob > t)))\n",
    "    rec_nn.append(recall_score(y_test, 1*(y_prob > t)))"
   ]
  },
  {
   "cell_type": "code",
   "execution_count": null,
   "id": "corresponding-beverage",
   "metadata": {},
   "outputs": [],
   "source": [
    "fig, ax = plt.subplots(1,1, figsize=(7,5))\n",
    "plot_precision_recall_curve(gs, X_test, y_test, ax=ax, label='logistic regression')\n",
    "plot_precision_recall_curve(gs_rf, X_test, y_test, ax=ax, label='random forest')\n",
    "plot_precision_recall_curve(gs_xgb, X_test, y_test, ax=ax, label='XGBoost')\n",
    "ax.plot(rec_nn, prec_nn, label='neural network')\n",
    "plt.grid(ls='--')\n",
    "plt.legend(loc='upper right')\n",
    "plt.savefig('../../plots/prec_rec_curve.png')"
   ]
  },
  {
   "cell_type": "code",
   "execution_count": null,
   "id": "native-august",
   "metadata": {},
   "outputs": [],
   "source": []
  }
 ],
 "metadata": {
  "kernelspec": {
   "display_name": "Python 3",
   "language": "python",
   "name": "python3"
  },
  "language_info": {
   "codemirror_mode": {
    "name": "ipython",
    "version": 3
   },
   "file_extension": ".py",
   "mimetype": "text/x-python",
   "name": "python",
   "nbconvert_exporter": "python",
   "pygments_lexer": "ipython3",
   "version": "3.8.5"
  }
 },
 "nbformat": 4,
 "nbformat_minor": 5
}
