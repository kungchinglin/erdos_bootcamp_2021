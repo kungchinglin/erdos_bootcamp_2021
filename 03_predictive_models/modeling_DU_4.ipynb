{
 "cells": [
  {
   "cell_type": "code",
   "execution_count": 1,
   "id": "sweet-humor",
   "metadata": {},
   "outputs": [],
   "source": [
    "import sqlite3\n",
    "import pandas as pd\n",
    "import numpy as np\n",
    "import datetime as dt\n",
    "import matplotlib.pyplot as plt\n",
    "\n",
    "from nltk.tokenize import TweetTokenizer\n",
    "from sklearn.linear_model import LogisticRegression\n",
    "from sklearn.model_selection import GridSearchCV\n",
    "from sklearn.metrics import accuracy_score, precision_recall_fscore_support, confusion_matrix"
   ]
  },
  {
   "cell_type": "code",
   "execution_count": 2,
   "id": "cleared-socket",
   "metadata": {},
   "outputs": [
    {
     "data": {
      "text/html": [
       "<div>\n",
       "<style scoped>\n",
       "    .dataframe tbody tr th:only-of-type {\n",
       "        vertical-align: middle;\n",
       "    }\n",
       "\n",
       "    .dataframe tbody tr th {\n",
       "        vertical-align: top;\n",
       "    }\n",
       "\n",
       "    .dataframe thead th {\n",
       "        text-align: right;\n",
       "    }\n",
       "</style>\n",
       "<table border=\"1\" class=\"dataframe\">\n",
       "  <thead>\n",
       "    <tr style=\"text-align: right;\">\n",
       "      <th></th>\n",
       "      <th>Unnamed: 0</th>\n",
       "      <th>id</th>\n",
       "      <th>subreddit</th>\n",
       "      <th>title</th>\n",
       "      <th>author</th>\n",
       "      <th>url</th>\n",
       "      <th>created</th>\n",
       "      <th>ext_link</th>\n",
       "      <th>id.1</th>\n",
       "      <th>body</th>\n",
       "      <th>score</th>\n",
       "      <th>upvote_ratio</th>\n",
       "      <th>body_processed</th>\n",
       "      <th>title_processed</th>\n",
       "      <th>author_processed</th>\n",
       "      <th>body_and_title</th>\n",
       "      <th>body_and_author</th>\n",
       "      <th>title_and_author</th>\n",
       "      <th>body_title_and_author</th>\n",
       "    </tr>\n",
       "  </thead>\n",
       "  <tbody>\n",
       "    <tr>\n",
       "      <th>1</th>\n",
       "      <td>1</td>\n",
       "      <td>kobbka</td>\n",
       "      <td>finance</td>\n",
       "      <td>Mogo: Establishes ATM Equity Program Mogo a fi...</td>\n",
       "      <td>fintechinshorts</td>\n",
       "      <td>https://www.reddit.com/r/finance/comments/kobb...</td>\n",
       "      <td>1609507913</td>\n",
       "      <td>https://www.fintechinshorts.com/mogo-establish...</td>\n",
       "      <td>kobbka</td>\n",
       "      <td>NaN</td>\n",
       "      <td>1</td>\n",
       "      <td>1.0</td>\n",
       "      <td>no_text</td>\n",
       "      <td>mogo establishes atm equity program mogo finan...</td>\n",
       "      <td>fintechinshorts</td>\n",
       "      <td>no_text mogo establishes atm equity program mo...</td>\n",
       "      <td>no_text fintechinshorts</td>\n",
       "      <td>mogo establishes atm equity program mogo finan...</td>\n",
       "      <td>no_text mogo establishes atm equity program mo...</td>\n",
       "    </tr>\n",
       "    <tr>\n",
       "      <th>3</th>\n",
       "      <td>3</td>\n",
       "      <td>koe39g</td>\n",
       "      <td>finance</td>\n",
       "      <td>Standard Capital: Partners with SolidBlock Sta...</td>\n",
       "      <td>fintechinshorts</td>\n",
       "      <td>https://www.reddit.com/r/finance/comments/koe3...</td>\n",
       "      <td>1609518689</td>\n",
       "      <td>https://www.fintechinshorts.com/standard-capit...</td>\n",
       "      <td>koe39g</td>\n",
       "      <td>NaN</td>\n",
       "      <td>1</td>\n",
       "      <td>1.0</td>\n",
       "      <td>no_text</td>\n",
       "      <td>standard capital partners solidblock standard ...</td>\n",
       "      <td>fintechinshorts</td>\n",
       "      <td>no_text standard capital partners solidblock s...</td>\n",
       "      <td>no_text fintechinshorts</td>\n",
       "      <td>standard capital partners solidblock standard ...</td>\n",
       "      <td>no_text standard capital partners solidblock s...</td>\n",
       "    </tr>\n",
       "    <tr>\n",
       "      <th>4</th>\n",
       "      <td>4</td>\n",
       "      <td>koefpv</td>\n",
       "      <td>finance</td>\n",
       "      <td>5 things every trader needs to know</td>\n",
       "      <td>Aversionsfall</td>\n",
       "      <td>https://www.reddit.com/r/finance/comments/koef...</td>\n",
       "      <td>1609519854</td>\n",
       "      <td>https://yvestalksbitcoin.com/2021/01/01/5-thin...</td>\n",
       "      <td>koefpv</td>\n",
       "      <td>NaN</td>\n",
       "      <td>0</td>\n",
       "      <td>0.4</td>\n",
       "      <td>no_text</td>\n",
       "      <td>things every trader needs know</td>\n",
       "      <td>aversionsfall</td>\n",
       "      <td>no_text things every trader needs know</td>\n",
       "      <td>no_text aversionsfall</td>\n",
       "      <td>things every trader needs know aversionsfall</td>\n",
       "      <td>no_text things every trader needs know aversio...</td>\n",
       "    </tr>\n",
       "    <tr>\n",
       "      <th>5</th>\n",
       "      <td>5</td>\n",
       "      <td>kogmfy</td>\n",
       "      <td>finance</td>\n",
       "      <td>Ten Remarkable Financial Events of 2020 - Acti...</td>\n",
       "      <td>apollo11junkie</td>\n",
       "      <td>https://www.reddit.com/r/finance/comments/kogm...</td>\n",
       "      <td>1609527162</td>\n",
       "      <td>https://www.activistpost.com/2021/01/ten-remar...</td>\n",
       "      <td>kogmfy</td>\n",
       "      <td>NaN</td>\n",
       "      <td>7</td>\n",
       "      <td>1.0</td>\n",
       "      <td>no_text</td>\n",
       "      <td>ten remarkable financial events activist post</td>\n",
       "      <td>apollo junkie</td>\n",
       "      <td>no_text ten remarkable financial events activi...</td>\n",
       "      <td>no_text apollo junkie</td>\n",
       "      <td>ten remarkable financial events activist post ...</td>\n",
       "      <td>no_text ten remarkable financial events activi...</td>\n",
       "    </tr>\n",
       "    <tr>\n",
       "      <th>6</th>\n",
       "      <td>6</td>\n",
       "      <td>kognqr</td>\n",
       "      <td>finance</td>\n",
       "      <td>3 reasons why Bitcoin is bull-running</td>\n",
       "      <td>snakeabait</td>\n",
       "      <td>https://www.reddit.com/r/finance/comments/kogn...</td>\n",
       "      <td>1609527288</td>\n",
       "      <td>https://yvestalksbitcoin.com/2020/12/29/3-reas...</td>\n",
       "      <td>kognqr</td>\n",
       "      <td>NaN</td>\n",
       "      <td>1</td>\n",
       "      <td>1.0</td>\n",
       "      <td>no_text</td>\n",
       "      <td>reasons bitcoin bull running</td>\n",
       "      <td>snakeabait</td>\n",
       "      <td>no_text reasons bitcoin bull running</td>\n",
       "      <td>no_text snakeabait</td>\n",
       "      <td>reasons bitcoin bull running snakeabait</td>\n",
       "      <td>no_text reasons bitcoin bull running snakeabait</td>\n",
       "    </tr>\n",
       "  </tbody>\n",
       "</table>\n",
       "</div>"
      ],
      "text/plain": [
       "   Unnamed: 0      id subreddit  \\\n",
       "1           1  kobbka   finance   \n",
       "3           3  koe39g   finance   \n",
       "4           4  koefpv   finance   \n",
       "5           5  kogmfy   finance   \n",
       "6           6  kognqr   finance   \n",
       "\n",
       "                                               title           author  \\\n",
       "1  Mogo: Establishes ATM Equity Program Mogo a fi...  fintechinshorts   \n",
       "3  Standard Capital: Partners with SolidBlock Sta...  fintechinshorts   \n",
       "4                5 things every trader needs to know    Aversionsfall   \n",
       "5  Ten Remarkable Financial Events of 2020 - Acti...   apollo11junkie   \n",
       "6              3 reasons why Bitcoin is bull-running       snakeabait   \n",
       "\n",
       "                                                 url     created  \\\n",
       "1  https://www.reddit.com/r/finance/comments/kobb...  1609507913   \n",
       "3  https://www.reddit.com/r/finance/comments/koe3...  1609518689   \n",
       "4  https://www.reddit.com/r/finance/comments/koef...  1609519854   \n",
       "5  https://www.reddit.com/r/finance/comments/kogm...  1609527162   \n",
       "6  https://www.reddit.com/r/finance/comments/kogn...  1609527288   \n",
       "\n",
       "                                            ext_link    id.1 body  score  \\\n",
       "1  https://www.fintechinshorts.com/mogo-establish...  kobbka  NaN      1   \n",
       "3  https://www.fintechinshorts.com/standard-capit...  koe39g  NaN      1   \n",
       "4  https://yvestalksbitcoin.com/2021/01/01/5-thin...  koefpv  NaN      0   \n",
       "5  https://www.activistpost.com/2021/01/ten-remar...  kogmfy  NaN      7   \n",
       "6  https://yvestalksbitcoin.com/2020/12/29/3-reas...  kognqr  NaN      1   \n",
       "\n",
       "   upvote_ratio body_processed  \\\n",
       "1           1.0        no_text   \n",
       "3           1.0        no_text   \n",
       "4           0.4        no_text   \n",
       "5           1.0        no_text   \n",
       "6           1.0        no_text   \n",
       "\n",
       "                                     title_processed author_processed  \\\n",
       "1  mogo establishes atm equity program mogo finan...  fintechinshorts   \n",
       "3  standard capital partners solidblock standard ...  fintechinshorts   \n",
       "4                     things every trader needs know    aversionsfall   \n",
       "5      ten remarkable financial events activist post    apollo junkie   \n",
       "6                       reasons bitcoin bull running       snakeabait   \n",
       "\n",
       "                                      body_and_title          body_and_author  \\\n",
       "1  no_text mogo establishes atm equity program mo...  no_text fintechinshorts   \n",
       "3  no_text standard capital partners solidblock s...  no_text fintechinshorts   \n",
       "4             no_text things every trader needs know    no_text aversionsfall   \n",
       "5  no_text ten remarkable financial events activi...    no_text apollo junkie   \n",
       "6               no_text reasons bitcoin bull running       no_text snakeabait   \n",
       "\n",
       "                                    title_and_author  \\\n",
       "1  mogo establishes atm equity program mogo finan...   \n",
       "3  standard capital partners solidblock standard ...   \n",
       "4       things every trader needs know aversionsfall   \n",
       "5  ten remarkable financial events activist post ...   \n",
       "6            reasons bitcoin bull running snakeabait   \n",
       "\n",
       "                               body_title_and_author  \n",
       "1  no_text mogo establishes atm equity program mo...  \n",
       "3  no_text standard capital partners solidblock s...  \n",
       "4  no_text things every trader needs know aversio...  \n",
       "5  no_text ten remarkable financial events activi...  \n",
       "6    no_text reasons bitcoin bull running snakeabait  "
      ]
     },
     "execution_count": 2,
     "metadata": {},
     "output_type": "execute_result"
    }
   ],
   "source": [
    "df = pd.read_csv('../../data/df_processed.csv')\n",
    "df = df[(df.body_processed != 'deleted') & (df.body_processed != 'removed')]\n",
    "df.head()"
   ]
  },
  {
   "cell_type": "code",
   "execution_count": 3,
   "id": "postal-joint",
   "metadata": {},
   "outputs": [
    {
     "data": {
      "text/plain": [
       "Index(['Unnamed: 0', 'id', 'subreddit', 'title', 'author', 'url', 'created',\n",
       "       'ext_link', 'id.1', 'body', 'score', 'upvote_ratio', 'body_processed',\n",
       "       'title_processed', 'author_processed', 'body_and_title',\n",
       "       'body_and_author', 'title_and_author', 'body_title_and_author'],\n",
       "      dtype='object')"
      ]
     },
     "execution_count": 3,
     "metadata": {},
     "output_type": "execute_result"
    }
   ],
   "source": [
    "df.columns"
   ]
  },
  {
   "cell_type": "code",
   "execution_count": 4,
   "id": "returning-beads",
   "metadata": {},
   "outputs": [],
   "source": [
    "df = df[['subreddit','body_title_and_author','score','created']]"
   ]
  },
  {
   "cell_type": "code",
   "execution_count": 5,
   "id": "overhead-station",
   "metadata": {},
   "outputs": [
    {
     "data": {
      "text/plain": [
       "(226890, 4)"
      ]
     },
     "execution_count": 5,
     "metadata": {},
     "output_type": "execute_result"
    }
   ],
   "source": [
    "df.shape"
   ]
  },
  {
   "cell_type": "markdown",
   "id": "built-impact",
   "metadata": {},
   "source": [
    "## Selecting subreddit with complete datasets"
   ]
  },
  {
   "cell_type": "code",
   "execution_count": 6,
   "id": "heavy-performance",
   "metadata": {},
   "outputs": [],
   "source": [
    "df = df[(df.subreddit == 'Superstonks') |\n",
    "        (df.subreddit == 'finance') |\n",
    "        (df.subreddit == 'options') |\n",
    "        (df.subreddit == 'pennystocks') |\n",
    "        (df.subreddit == 'GME')]"
   ]
  },
  {
   "cell_type": "markdown",
   "id": "considered-retirement",
   "metadata": {},
   "source": [
    "## Defining the popular posts for binary classification"
   ]
  },
  {
   "cell_type": "code",
   "execution_count": 7,
   "id": "harmful-profile",
   "metadata": {},
   "outputs": [],
   "source": [
    "df_superstocks = df[df.subreddit == 'Superstonks']\n",
    "df_finance     = df[df.subreddit == 'finance']\n",
    "df_options     = df[df.subreddit == 'options']\n",
    "df_pennystocks = df[df.subreddit == 'pennystocks']\n",
    "df_gme         = df[df.subreddit == 'GME']"
   ]
  },
  {
   "cell_type": "code",
   "execution_count": 8,
   "id": "rising-stomach",
   "metadata": {},
   "outputs": [
    {
     "name": "stderr",
     "output_type": "stream",
     "text": [
      "<ipython-input-8-c9e97835cf12>:1: SettingWithCopyWarning: \n",
      "A value is trying to be set on a copy of a slice from a DataFrame.\n",
      "Try using .loc[row_indexer,col_indexer] = value instead\n",
      "\n",
      "See the caveats in the documentation: https://pandas.pydata.org/pandas-docs/stable/user_guide/indexing.html#returning-a-view-versus-a-copy\n",
      "  df_superstocks['popular'] = 0\n",
      "<ipython-input-8-c9e97835cf12>:2: SettingWithCopyWarning: \n",
      "A value is trying to be set on a copy of a slice from a DataFrame.\n",
      "Try using .loc[row_indexer,col_indexer] = value instead\n",
      "\n",
      "See the caveats in the documentation: https://pandas.pydata.org/pandas-docs/stable/user_guide/indexing.html#returning-a-view-versus-a-copy\n",
      "  df_finance['popular'] = 0\n",
      "<ipython-input-8-c9e97835cf12>:3: SettingWithCopyWarning: \n",
      "A value is trying to be set on a copy of a slice from a DataFrame.\n",
      "Try using .loc[row_indexer,col_indexer] = value instead\n",
      "\n",
      "See the caveats in the documentation: https://pandas.pydata.org/pandas-docs/stable/user_guide/indexing.html#returning-a-view-versus-a-copy\n",
      "  df_options['popular'] = 0\n",
      "<ipython-input-8-c9e97835cf12>:4: SettingWithCopyWarning: \n",
      "A value is trying to be set on a copy of a slice from a DataFrame.\n",
      "Try using .loc[row_indexer,col_indexer] = value instead\n",
      "\n",
      "See the caveats in the documentation: https://pandas.pydata.org/pandas-docs/stable/user_guide/indexing.html#returning-a-view-versus-a-copy\n",
      "  df_pennystocks['popular'] = 0\n",
      "<ipython-input-8-c9e97835cf12>:5: SettingWithCopyWarning: \n",
      "A value is trying to be set on a copy of a slice from a DataFrame.\n",
      "Try using .loc[row_indexer,col_indexer] = value instead\n",
      "\n",
      "See the caveats in the documentation: https://pandas.pydata.org/pandas-docs/stable/user_guide/indexing.html#returning-a-view-versus-a-copy\n",
      "  df_gme['popular'] = 0\n"
     ]
    }
   ],
   "source": [
    "df_superstocks['popular'] = 0\n",
    "df_finance['popular'] = 0\n",
    "df_options['popular'] = 0\n",
    "df_pennystocks['popular'] = 0\n",
    "df_gme['popular'] = 0"
   ]
  },
  {
   "cell_type": "code",
   "execution_count": 9,
   "id": "posted-institute",
   "metadata": {},
   "outputs": [
    {
     "name": "stderr",
     "output_type": "stream",
     "text": [
      "/Users/dutomo/miniconda3/lib/python3.8/site-packages/pandas/core/indexing.py:966: SettingWithCopyWarning: \n",
      "A value is trying to be set on a copy of a slice from a DataFrame.\n",
      "Try using .loc[row_indexer,col_indexer] = value instead\n",
      "\n",
      "See the caveats in the documentation: https://pandas.pydata.org/pandas-docs/stable/user_guide/indexing.html#returning-a-view-versus-a-copy\n",
      "  self.obj[item] = s\n"
     ]
    }
   ],
   "source": [
    "df_superstocks.loc[df_superstocks['score'] > np.percentile(df_superstocks.score.values, 95), 'popular'] = 1\n",
    "df_finance.loc[df_finance['score'] > np.percentile(df_finance.score.values, 95), 'popular'] = 1\n",
    "df_options.loc[df_options['score'] > np.percentile(df_options.score.values, 95), 'popular'] = 1\n",
    "df_pennystocks.loc[df_pennystocks['score'] > np.percentile(df_pennystocks.score.values, 95), 'popular'] = 1\n",
    "df_gme.loc[df_gme['score'] > np.percentile(df_gme.score.values, 95), 'popular'] = 1"
   ]
  },
  {
   "cell_type": "code",
   "execution_count": 10,
   "id": "interior-novel",
   "metadata": {},
   "outputs": [
    {
     "data": {
      "text/html": [
       "<div>\n",
       "<style scoped>\n",
       "    .dataframe tbody tr th:only-of-type {\n",
       "        vertical-align: middle;\n",
       "    }\n",
       "\n",
       "    .dataframe tbody tr th {\n",
       "        vertical-align: top;\n",
       "    }\n",
       "\n",
       "    .dataframe thead th {\n",
       "        text-align: right;\n",
       "    }\n",
       "</style>\n",
       "<table border=\"1\" class=\"dataframe\">\n",
       "  <thead>\n",
       "    <tr style=\"text-align: right;\">\n",
       "      <th></th>\n",
       "      <th>subreddit</th>\n",
       "      <th>body_title_and_author</th>\n",
       "      <th>score</th>\n",
       "      <th>created</th>\n",
       "      <th>popular</th>\n",
       "    </tr>\n",
       "  </thead>\n",
       "  <tbody>\n",
       "    <tr>\n",
       "      <th>0</th>\n",
       "      <td>Superstonks</td>\n",
       "      <td>r superstonk sub looking r superstonk seppukkake</td>\n",
       "      <td>81</td>\n",
       "      <td>1617613228</td>\n",
       "      <td>1</td>\n",
       "    </tr>\n",
       "    <tr>\n",
       "      <th>1</th>\n",
       "      <td>Superstonks</td>\n",
       "      <td>no_text https www reddit com r superstonk fair...</td>\n",
       "      <td>15</td>\n",
       "      <td>1617619355</td>\n",
       "      <td>0</td>\n",
       "    </tr>\n",
       "  </tbody>\n",
       "</table>\n",
       "</div>"
      ],
      "text/plain": [
       "     subreddit                              body_title_and_author  score  \\\n",
       "0  Superstonks   r superstonk sub looking r superstonk seppukkake     81   \n",
       "1  Superstonks  no_text https www reddit com r superstonk fair...     15   \n",
       "\n",
       "      created  popular  \n",
       "0  1617613228        1  \n",
       "1  1617619355        0  "
      ]
     },
     "execution_count": 10,
     "metadata": {},
     "output_type": "execute_result"
    }
   ],
   "source": [
    "del df\n",
    "df = pd.concat([df_superstocks, df_finance, df_options, df_pennystocks, df_gme], ignore_index=True)\n",
    "df.head(2)"
   ]
  },
  {
   "cell_type": "code",
   "execution_count": 11,
   "id": "duplicate-modification",
   "metadata": {},
   "outputs": [],
   "source": [
    "df['join_tokens'] = df['subreddit'].str.lower() + ' ' + df['body_title_and_author']"
   ]
  },
  {
   "cell_type": "code",
   "execution_count": 12,
   "id": "impressive-consciousness",
   "metadata": {},
   "outputs": [
    {
     "data": {
      "text/plain": [
       "array([1, 0])"
      ]
     },
     "execution_count": 12,
     "metadata": {},
     "output_type": "execute_result"
    }
   ],
   "source": [
    "df.popular.unique()"
   ]
  },
  {
   "cell_type": "code",
   "execution_count": 13,
   "id": "surprising-league",
   "metadata": {},
   "outputs": [
    {
     "data": {
      "text/html": [
       "<div>\n",
       "<style scoped>\n",
       "    .dataframe tbody tr th:only-of-type {\n",
       "        vertical-align: middle;\n",
       "    }\n",
       "\n",
       "    .dataframe tbody tr th {\n",
       "        vertical-align: top;\n",
       "    }\n",
       "\n",
       "    .dataframe thead th {\n",
       "        text-align: right;\n",
       "    }\n",
       "</style>\n",
       "<table border=\"1\" class=\"dataframe\">\n",
       "  <thead>\n",
       "    <tr style=\"text-align: right;\">\n",
       "      <th></th>\n",
       "      <th>subreddit</th>\n",
       "      <th>body_title_and_author</th>\n",
       "      <th>score</th>\n",
       "      <th>created</th>\n",
       "      <th>popular</th>\n",
       "      <th>join_tokens</th>\n",
       "    </tr>\n",
       "  </thead>\n",
       "  <tbody>\n",
       "    <tr>\n",
       "      <th>0</th>\n",
       "      <td>Superstonks</td>\n",
       "      <td>r superstonk sub looking r superstonk seppukkake</td>\n",
       "      <td>81</td>\n",
       "      <td>1617613228</td>\n",
       "      <td>1</td>\n",
       "      <td>superstonks r superstonk sub looking r superst...</td>\n",
       "    </tr>\n",
       "    <tr>\n",
       "      <th>1</th>\n",
       "      <td>Superstonks</td>\n",
       "      <td>no_text https www reddit com r superstonk fair...</td>\n",
       "      <td>15</td>\n",
       "      <td>1617619355</td>\n",
       "      <td>0</td>\n",
       "      <td>superstonks no_text https www reddit com r sup...</td>\n",
       "    </tr>\n",
       "    <tr>\n",
       "      <th>2</th>\n",
       "      <td>Superstonks</td>\n",
       "      <td>no_text superstonk r superstonk mtgac</td>\n",
       "      <td>7</td>\n",
       "      <td>1617629799</td>\n",
       "      <td>0</td>\n",
       "      <td>superstonks no_text superstonk r superstonk mtgac</td>\n",
       "    </tr>\n",
       "    <tr>\n",
       "      <th>3</th>\n",
       "      <td>Superstonks</td>\n",
       "      <td>getting messages like weeks posting things cer...</td>\n",
       "      <td>11</td>\n",
       "      <td>1617639978</td>\n",
       "      <td>0</td>\n",
       "      <td>superstonks getting messages like weeks postin...</td>\n",
       "    </tr>\n",
       "    <tr>\n",
       "      <th>4</th>\n",
       "      <td>Superstonks</td>\n",
       "      <td>no_text r superstonk meant go stonkulus</td>\n",
       "      <td>132</td>\n",
       "      <td>1617653940</td>\n",
       "      <td>1</td>\n",
       "      <td>superstonks no_text r superstonk meant go ston...</td>\n",
       "    </tr>\n",
       "  </tbody>\n",
       "</table>\n",
       "</div>"
      ],
      "text/plain": [
       "     subreddit                              body_title_and_author  score  \\\n",
       "0  Superstonks   r superstonk sub looking r superstonk seppukkake     81   \n",
       "1  Superstonks  no_text https www reddit com r superstonk fair...     15   \n",
       "2  Superstonks              no_text superstonk r superstonk mtgac      7   \n",
       "3  Superstonks  getting messages like weeks posting things cer...     11   \n",
       "4  Superstonks            no_text r superstonk meant go stonkulus    132   \n",
       "\n",
       "      created  popular                                        join_tokens  \n",
       "0  1617613228        1  superstonks r superstonk sub looking r superst...  \n",
       "1  1617619355        0  superstonks no_text https www reddit com r sup...  \n",
       "2  1617629799        0  superstonks no_text superstonk r superstonk mtgac  \n",
       "3  1617639978        0  superstonks getting messages like weeks postin...  \n",
       "4  1617653940        1  superstonks no_text r superstonk meant go ston...  "
      ]
     },
     "execution_count": 13,
     "metadata": {},
     "output_type": "execute_result"
    }
   ],
   "source": [
    "df.head()"
   ]
  },
  {
   "cell_type": "markdown",
   "id": "induced-gospel",
   "metadata": {},
   "source": [
    "## Dropping unnecessary columns"
   ]
  },
  {
   "cell_type": "code",
   "execution_count": 14,
   "id": "appointed-taylor",
   "metadata": {},
   "outputs": [
    {
     "data": {
      "text/html": [
       "<div>\n",
       "<style scoped>\n",
       "    .dataframe tbody tr th:only-of-type {\n",
       "        vertical-align: middle;\n",
       "    }\n",
       "\n",
       "    .dataframe tbody tr th {\n",
       "        vertical-align: top;\n",
       "    }\n",
       "\n",
       "    .dataframe thead th {\n",
       "        text-align: right;\n",
       "    }\n",
       "</style>\n",
       "<table border=\"1\" class=\"dataframe\">\n",
       "  <thead>\n",
       "    <tr style=\"text-align: right;\">\n",
       "      <th></th>\n",
       "      <th>created</th>\n",
       "      <th>popular</th>\n",
       "      <th>join_tokens</th>\n",
       "    </tr>\n",
       "  </thead>\n",
       "  <tbody>\n",
       "    <tr>\n",
       "      <th>0</th>\n",
       "      <td>1617613228</td>\n",
       "      <td>1</td>\n",
       "      <td>superstonks r superstonk sub looking r superst...</td>\n",
       "    </tr>\n",
       "    <tr>\n",
       "      <th>1</th>\n",
       "      <td>1617619355</td>\n",
       "      <td>0</td>\n",
       "      <td>superstonks no_text https www reddit com r sup...</td>\n",
       "    </tr>\n",
       "    <tr>\n",
       "      <th>2</th>\n",
       "      <td>1617629799</td>\n",
       "      <td>0</td>\n",
       "      <td>superstonks no_text superstonk r superstonk mtgac</td>\n",
       "    </tr>\n",
       "    <tr>\n",
       "      <th>3</th>\n",
       "      <td>1617639978</td>\n",
       "      <td>0</td>\n",
       "      <td>superstonks getting messages like weeks postin...</td>\n",
       "    </tr>\n",
       "    <tr>\n",
       "      <th>4</th>\n",
       "      <td>1617653940</td>\n",
       "      <td>1</td>\n",
       "      <td>superstonks no_text r superstonk meant go ston...</td>\n",
       "    </tr>\n",
       "  </tbody>\n",
       "</table>\n",
       "</div>"
      ],
      "text/plain": [
       "      created  popular                                        join_tokens\n",
       "0  1617613228        1  superstonks r superstonk sub looking r superst...\n",
       "1  1617619355        0  superstonks no_text https www reddit com r sup...\n",
       "2  1617629799        0  superstonks no_text superstonk r superstonk mtgac\n",
       "3  1617639978        0  superstonks getting messages like weeks postin...\n",
       "4  1617653940        1  superstonks no_text r superstonk meant go ston..."
      ]
     },
     "execution_count": 14,
     "metadata": {},
     "output_type": "execute_result"
    }
   ],
   "source": [
    "df.drop(['subreddit','score','body_title_and_author'], axis=1, inplace=True)\n",
    "df.head()"
   ]
  },
  {
   "cell_type": "markdown",
   "id": "willing-stopping",
   "metadata": {},
   "source": [
    "## Splitting into train and test sets by time"
   ]
  },
  {
   "cell_type": "code",
   "execution_count": 15,
   "id": "short-decimal",
   "metadata": {},
   "outputs": [],
   "source": [
    "df['posting_time'] = df['created'].apply(dt.datetime.fromtimestamp)\n",
    "\n",
    "df['posting_month'] = df['posting_time'].dt.month\n",
    "\n",
    "df.drop(['created','posting_time'], axis=1, inplace=True)"
   ]
  },
  {
   "cell_type": "code",
   "execution_count": 16,
   "id": "cloudy-soldier",
   "metadata": {},
   "outputs": [],
   "source": [
    "df_train = df[df.posting_month < 4]\n",
    "df_test  = df[df.posting_month == 4]"
   ]
  },
  {
   "cell_type": "code",
   "execution_count": 17,
   "id": "formal-scoop",
   "metadata": {},
   "outputs": [
    {
     "data": {
      "text/plain": [
       "0.044806804668131334"
      ]
     },
     "execution_count": 17,
     "metadata": {},
     "output_type": "execute_result"
    }
   ],
   "source": [
    "df_train.popular.sum()/len(df_train)"
   ]
  },
  {
   "cell_type": "code",
   "execution_count": 18,
   "id": "legal-ecology",
   "metadata": {},
   "outputs": [
    {
     "data": {
      "text/plain": [
       "0.06804078014184398"
      ]
     },
     "execution_count": 18,
     "metadata": {},
     "output_type": "execute_result"
    }
   ],
   "source": [
    "df_test.popular.sum()/len(df_test)"
   ]
  },
  {
   "cell_type": "code",
   "execution_count": 19,
   "id": "efficient-johnson",
   "metadata": {},
   "outputs": [],
   "source": [
    "df_train.reset_index(drop=True, inplace=True)"
   ]
  },
  {
   "cell_type": "code",
   "execution_count": 20,
   "id": "surrounded-fiber",
   "metadata": {},
   "outputs": [],
   "source": [
    "df_test.reset_index(drop=True, inplace=True)"
   ]
  },
  {
   "cell_type": "markdown",
   "id": "heard-portugal",
   "metadata": {},
   "source": [
    "## Applying TF-IDF"
   ]
  },
  {
   "cell_type": "code",
   "execution_count": 21,
   "id": "anonymous-elements",
   "metadata": {},
   "outputs": [],
   "source": [
    "from sklearn.feature_extraction.text import TfidfVectorizer\n",
    "\n",
    "vectorizer = TfidfVectorizer(use_idf=True, max_df=0.95)\n",
    "\n",
    "tfidf_train = vectorizer.fit_transform(df_train.join_tokens.values)\n",
    "\n",
    "tfidf_test = vectorizer.transform(df_test.join_tokens.values)"
   ]
  },
  {
   "cell_type": "code",
   "execution_count": 22,
   "id": "suitable-sound",
   "metadata": {},
   "outputs": [
    {
     "data": {
      "text/plain": [
       "(99226, 121729)"
      ]
     },
     "execution_count": 22,
     "metadata": {},
     "output_type": "execute_result"
    }
   ],
   "source": [
    "tfidf_train.shape"
   ]
  },
  {
   "cell_type": "code",
   "execution_count": 23,
   "id": "checked-lobby",
   "metadata": {},
   "outputs": [],
   "source": [
    "y_train = df_train['popular']\n",
    "y_test  = df_test['popular']"
   ]
  },
  {
   "cell_type": "markdown",
   "id": "valued-young",
   "metadata": {},
   "source": [
    "## Reduce dimensionality using SVD"
   ]
  },
  {
   "cell_type": "code",
   "execution_count": 48,
   "id": "random-musician",
   "metadata": {},
   "outputs": [
    {
     "data": {
      "text/plain": [
       "TruncatedSVD(n_components=10000, random_state=101)"
      ]
     },
     "execution_count": 48,
     "metadata": {},
     "output_type": "execute_result"
    }
   ],
   "source": [
    "from sklearn.decomposition import TruncatedSVD\n",
    "\n",
    "svd = TruncatedSVD(n_components=10000, n_iter=5, random_state=101)\n",
    "\n",
    "svd.fit(tfidf_train)"
   ]
  },
  {
   "cell_type": "code",
   "execution_count": 50,
   "id": "sunset-precipitation",
   "metadata": {},
   "outputs": [
    {
     "data": {
      "text/plain": [
       "(10000, 121729)"
      ]
     },
     "execution_count": 50,
     "metadata": {},
     "output_type": "execute_result"
    }
   ],
   "source": [
    "svd.components_.shape"
   ]
  },
  {
   "cell_type": "code",
   "execution_count": 55,
   "id": "dramatic-herald",
   "metadata": {},
   "outputs": [
    {
     "data": {
      "text/plain": [
       "0.7748894315446474"
      ]
     },
     "execution_count": 55,
     "metadata": {},
     "output_type": "execute_result"
    }
   ],
   "source": [
    "svd.explained_variance_ratio_.sum()"
   ]
  },
  {
   "cell_type": "code",
   "execution_count": 54,
   "id": "married-afternoon",
   "metadata": {},
   "outputs": [
    {
     "data": {
      "text/plain": [
       "(10000,)"
      ]
     },
     "execution_count": 54,
     "metadata": {},
     "output_type": "execute_result"
    }
   ],
   "source": [
    "svd.singular_values_.shape"
   ]
  },
  {
   "cell_type": "markdown",
   "id": "linear-avatar",
   "metadata": {},
   "source": [
    "## Making cross-validation data by time"
   ]
  },
  {
   "cell_type": "code",
   "execution_count": 24,
   "id": "limited-mother",
   "metadata": {},
   "outputs": [],
   "source": [
    "jan_index = df_train[df_train.posting_month == 1].index\n",
    "feb_index = df_train[df_train.posting_month == 2].index\n",
    "mar_index = df_train[df_train.posting_month == 3].index\n",
    "jan_feb_index = df_train[(df_train.posting_month == 1) | (df_train.posting_month == 2)].index"
   ]
  },
  {
   "cell_type": "markdown",
   "id": "occupational-blink",
   "metadata": {},
   "source": [
    "## Modeling"
   ]
  },
  {
   "cell_type": "markdown",
   "id": "integral-angle",
   "metadata": {},
   "source": [
    "## Logistic Regression"
   ]
  },
  {
   "cell_type": "code",
   "execution_count": null,
   "id": "swiss-minute",
   "metadata": {},
   "outputs": [],
   "source": [
    "from sklearn.metrics import precision_score, recall_score\n",
    "\n",
    "cv1 = [jan_index, feb_index]\n",
    "cv2 = [feb_index, mar_index]\n",
    "cv3 = [jan_feb_index, mar_index]\n",
    "\n",
    "cv = [cv1, cv2, cv3]\n",
    "\n",
    "Cs = [0.1, 1, 10]\n",
    "penalties = ['l1', 'l2']\n",
    "\n",
    "prec_val = np.zeros((3,3,2)); prec_tr = np.zeros((3,3,2))\n",
    "rec_val  = np.zeros((3,3,2)); rec_tr  = np.zeros((3,3,2))\n",
    "\n",
    "for i in range(len(cv)):\n",
    "    tr_index, val_index = cv[i]\n",
    "    X_tr,  y_tr  = tfidf_train[tr_index,:],  y_train[tr_index]\n",
    "    X_val, y_val = tfidf_train[val_index,:], y_train[val_index]\n",
    "    \n",
    "    for j in range(len(Cs)):\n",
    "        for k in range(len(penalties)):\n",
    "    \n",
    "            logreg = LogisticRegression(max_iter=10000, C = Cs[j], penalty = penalties[k],\n",
    "                                        solver='liblinear', class_weight='balanced')\n",
    "            logreg.fit(X_tr, y_tr)\n",
    "            \n",
    "            y_tr_pred  = logreg.predict(X_tr)\n",
    "            y_val_pred = logreg.predict(X_val)\n",
    "            \n",
    "            prec_tr[i,j,k]  = precision_score(y_tr, y_tr_pred)\n",
    "            prec_val[i,j,k] = precision_score(y_val, y_val_pred)\n",
    "            \n",
    "            rec_tr[i,j,k]  = recall_score(y_tr, y_tr_pred)\n",
    "            rec_val[i,j,k] = recall_score(y_val, y_val_pred)"
   ]
  },
  {
   "cell_type": "code",
   "execution_count": 31,
   "id": "purple-identification",
   "metadata": {},
   "outputs": [
    {
     "data": {
      "text/plain": [
       "LogisticRegression(class_weight='balanced', max_iter=10000, solver='liblinear')"
      ]
     },
     "execution_count": 31,
     "metadata": {},
     "output_type": "execute_result"
    }
   ],
   "source": [
    "logreg = LogisticRegression(max_iter=10000, solver='liblinear', class_weight='balanced')\n",
    "\n",
    "#param_grid = {'C': [1,10,100]}\n",
    "\n",
    "#gs = GridSearchCV(logreg, param_grid=param_grid, scoring='f1')\n",
    "\n",
    "logreg.fit(tfidf_train[jan_feb_index,:], y_train[jan_feb_index])"
   ]
  },
  {
   "cell_type": "code",
   "execution_count": 32,
   "id": "enabling-farming",
   "metadata": {},
   "outputs": [
    {
     "data": {
      "text/plain": [
       "(array([0.99986544, 0.33027027]),\n",
       " array([0.92304348, 0.99673736]),\n",
       " array([0.9599199 , 0.49614292]),\n",
       " array([48300,  1839]))"
      ]
     },
     "execution_count": 32,
     "metadata": {},
     "output_type": "execute_result"
    }
   ],
   "source": [
    "y_pred = logreg.predict(tfidf_train[jan_feb_index,:])\n",
    "precision_recall_fscore_support(y_train[jan_feb_index], y_pred)"
   ]
  },
  {
   "cell_type": "code",
   "execution_count": 35,
   "id": "spectacular-feeling",
   "metadata": {},
   "outputs": [
    {
     "data": {
      "text/plain": [
       "(array([0.95823708, 0.15467261]),\n",
       " array([0.91028399, 0.29267357]),\n",
       " array([0.93364521, 0.20238727]),\n",
       " array([46480,  2607]))"
      ]
     },
     "execution_count": 35,
     "metadata": {},
     "output_type": "execute_result"
    }
   ],
   "source": [
    "y_pred = logreg.predict(tfidf_train[mar_index,:])\n",
    "precision_recall_fscore_support(y_train[mar_index], y_pred)"
   ]
  },
  {
   "cell_type": "code",
   "execution_count": 34,
   "id": "beginning-gender",
   "metadata": {},
   "outputs": [
    {
     "data": {
      "text/plain": [
       "(array([0.9430409 , 0.14833993]),\n",
       " array([0.88917955, 0.26438654]),\n",
       " array([0.91531855, 0.19004878]),\n",
       " array([25230,  1842]))"
      ]
     },
     "execution_count": 34,
     "metadata": {},
     "output_type": "execute_result"
    }
   ],
   "source": [
    "y_pred = logreg.predict(tfidf_test)\n",
    "precision_recall_fscore_support(y_test, y_pred)"
   ]
  },
  {
   "cell_type": "code",
   "execution_count": 29,
   "id": "dominant-provider",
   "metadata": {},
   "outputs": [
    {
     "data": {
      "image/png": "[encoded data removed]",
      "text/plain": [
       "<Figure size 504x360 with 1 Axes>"
      ]
     },
     "metadata": {
      "needs_background": "light"
     },
     "output_type": "display_data"
    }
   ],
   "source": [
    "from sklearn.metrics import plot_precision_recall_curve\n",
    "\n",
    "fig, ax = plt.subplots(1,1, figsize=(7,5))\n",
    "plot_precision_recall_curve(logreg, tfidf_train, y_train, ax=ax, label='train')\n",
    "plot_precision_recall_curve(logreg, tfidf_test, y_test, ax=ax, label='test')\n",
    "plt.grid(ls='--')\n",
    "plt.legend(loc='upper right', fontsize=14)\n",
    "plt.show()"
   ]
  },
  {
   "cell_type": "markdown",
   "id": "numerical-money",
   "metadata": {},
   "source": [
    "## XGBoost"
   ]
  },
  {
   "cell_type": "code",
   "execution_count": 36,
   "id": "manufactured-rebecca",
   "metadata": {},
   "outputs": [
    {
     "name": "stderr",
     "output_type": "stream",
     "text": [
      "/Users/dutomo/miniconda3/lib/python3.8/site-packages/xgboost/sklearn.py:888: UserWarning: The use of label encoder in XGBClassifier is deprecated and will be removed in a future release. To remove this warning, do the following: 1) Pass option use_label_encoder=False when constructing XGBClassifier object; and 2) Encode your labels (y) as integers starting with 0, i.e. 0, 1, 2, ..., [num_class - 1].\n",
      "  warnings.warn(label_encoder_deprecation_msg, UserWarning)\n"
     ]
    },
    {
     "data": {
      "text/plain": [
       "XGBClassifier(base_score=0.5, booster='gbtree', colsample_bylevel=1,\n",
       "              colsample_bynode=1, colsample_bytree=1, gamma=0, gpu_id=-1,\n",
       "              importance_type='gain', interaction_constraints='',\n",
       "              learning_rate=0.300000012, max_delta_step=0, max_depth=6,\n",
       "              min_child_weight=1, missing=nan, monotone_constraints='()',\n",
       "              n_estimators=100, n_jobs=16, num_parallel_tree=1, random_state=0,\n",
       "              reg_alpha=0, reg_lambda=1, scale_pos_weight=1, subsample=1,\n",
       "              tree_method='exact', validate_parameters=1, verbosity=0)"
      ]
     },
     "execution_count": 36,
     "metadata": {},
     "output_type": "execute_result"
    }
   ],
   "source": [
    "from xgboost import XGBClassifier\n",
    "\n",
    "xgb = XGBClassifier(verbosity=0)\n",
    "\n",
    "xgb.fit(tfidf_train, y_train)"
   ]
  },
  {
   "cell_type": "code",
   "execution_count": 37,
   "id": "martial-moses",
   "metadata": {},
   "outputs": [
    {
     "data": {
      "text/plain": [
       "(array([0.97915329, 0.24763903]),\n",
       " array([0.91678624, 0.58389564]),\n",
       " array([0.94694398, 0.34777949]),\n",
       " array([94780,  4446]))"
      ]
     },
     "execution_count": 37,
     "metadata": {},
     "output_type": "execute_result"
    }
   ],
   "source": [
    "y_pred = logreg.predict(tfidf_train)\n",
    "precision_recall_fscore_support(y_train, y_pred)"
   ]
  },
  {
   "cell_type": "code",
   "execution_count": 38,
   "id": "frequent-newport",
   "metadata": {},
   "outputs": [
    {
     "data": {
      "text/plain": [
       "(array([0.9430409 , 0.14833993]),\n",
       " array([0.88917955, 0.26438654]),\n",
       " array([0.91531855, 0.19004878]),\n",
       " array([25230,  1842]))"
      ]
     },
     "execution_count": 38,
     "metadata": {},
     "output_type": "execute_result"
    }
   ],
   "source": [
    "y_pred = logreg.predict(tfidf_test)\n",
    "precision_recall_fscore_support(y_test, y_pred)"
   ]
  },
  {
   "cell_type": "code",
   "execution_count": 39,
   "id": "split-adjustment",
   "metadata": {},
   "outputs": [
    {
     "data": {
      "image/png": "[encoded data removed]",
      "text/plain": [
       "<Figure size 504x360 with 1 Axes>"
      ]
     },
     "metadata": {
      "needs_background": "light"
     },
     "output_type": "display_data"
    }
   ],
   "source": [
    "fig, ax = plt.subplots(1,1, figsize=(7,5))\n",
    "plot_precision_recall_curve(xgb, tfidf_train, y_train, ax=ax, label='train')\n",
    "plot_precision_recall_curve(xgb, tfidf_test, y_test, ax=ax, label='test')\n",
    "plt.grid(ls='--')\n",
    "plt.legend(loc='upper right', fontsize=14)\n",
    "plt.show()"
   ]
  },
  {
   "cell_type": "code",
   "execution_count": null,
   "id": "plain-kenya",
   "metadata": {},
   "outputs": [],
   "source": []
  },
  {
   "cell_type": "code",
   "execution_count": 40,
   "id": "heated-basis",
   "metadata": {},
   "outputs": [
    {
     "name": "stderr",
     "output_type": "stream",
     "text": [
      "/Users/dutomo/miniconda3/lib/python3.8/site-packages/xgboost/sklearn.py:888: UserWarning: The use of label encoder in XGBClassifier is deprecated and will be removed in a future release. To remove this warning, do the following: 1) Pass option use_label_encoder=False when constructing XGBClassifier object; and 2) Encode your labels (y) as integers starting with 0, i.e. 0, 1, 2, ..., [num_class - 1].\n",
      "  warnings.warn(label_encoder_deprecation_msg, UserWarning)\n"
     ]
    },
    {
     "data": {
      "text/plain": [
       "XGBClassifier(base_score=0.5, booster='gbtree', colsample_bylevel=1,\n",
       "              colsample_bynode=1, colsample_bytree=1, gamma=0, gpu_id=-1,\n",
       "              importance_type='gain', interaction_constraints='',\n",
       "              learning_rate=0.300000012, max_delta_step=0, max_depth=6,\n",
       "              min_child_weight=1, missing=nan, monotone_constraints='()',\n",
       "              n_estimators=100, n_jobs=16, num_parallel_tree=1, random_state=0,\n",
       "              reg_alpha=0, reg_lambda=1, scale_pos_weight=1, subsample=1,\n",
       "              tree_method='exact', validate_parameters=1, verbosity=0)"
      ]
     },
     "execution_count": 40,
     "metadata": {},
     "output_type": "execute_result"
    }
   ],
   "source": [
    "xgb = XGBClassifier(verbosity=0)\n",
    "\n",
    "xgb.fit(tfidf_train[jan_feb_index,:], y_train[jan_feb_index])"
   ]
  },
  {
   "cell_type": "code",
   "execution_count": 41,
   "id": "duplicate-cooking",
   "metadata": {},
   "outputs": [
    {
     "data": {
      "text/plain": [
       "(array([0.99986544, 0.33027027]),\n",
       " array([0.92304348, 0.99673736]),\n",
       " array([0.9599199 , 0.49614292]),\n",
       " array([48300,  1839]))"
      ]
     },
     "execution_count": 41,
     "metadata": {},
     "output_type": "execute_result"
    }
   ],
   "source": [
    "y_pred = logreg.predict(tfidf_train[jan_feb_index,:])\n",
    "precision_recall_fscore_support(y_train[jan_feb_index], y_pred)"
   ]
  },
  {
   "cell_type": "code",
   "execution_count": 42,
   "id": "interstate-steam",
   "metadata": {},
   "outputs": [
    {
     "data": {
      "text/plain": [
       "(array([0.95823708, 0.15467261]),\n",
       " array([0.91028399, 0.29267357]),\n",
       " array([0.93364521, 0.20238727]),\n",
       " array([46480,  2607]))"
      ]
     },
     "execution_count": 42,
     "metadata": {},
     "output_type": "execute_result"
    }
   ],
   "source": [
    "y_pred = logreg.predict(tfidf_train[mar_index,:])\n",
    "precision_recall_fscore_support(y_train[mar_index], y_pred)"
   ]
  },
  {
   "cell_type": "code",
   "execution_count": 44,
   "id": "wooden-disaster",
   "metadata": {},
   "outputs": [
    {
     "data": {
      "image/png": "[encoded data removed]",
      "text/plain": [
       "<Figure size 504x360 with 1 Axes>"
      ]
     },
     "metadata": {
      "needs_background": "light"
     },
     "output_type": "display_data"
    }
   ],
   "source": [
    "fig, ax = plt.subplots(1,1, figsize=(7,5))\n",
    "plot_precision_recall_curve(xgb, tfidf_train[jan_feb_index,:], y_train[jan_feb_index], ax=ax, label='train')\n",
    "plot_precision_recall_curve(xgb, tfidf_train[mar_index,:], y_train[mar_index], ax=ax, label='test')\n",
    "plt.grid(ls='--')\n",
    "plt.legend(loc='upper right', fontsize=14)\n",
    "plt.show()"
   ]
  },
  {
   "cell_type": "code",
   "execution_count": null,
   "id": "planned-happiness",
   "metadata": {},
   "outputs": [],
   "source": []
  }
 ],
 "metadata": {
  "kernelspec": {
   "display_name": "Python 3",
   "language": "python",
   "name": "python3"
  },
  "language_info": {
   "codemirror_mode": {
    "name": "ipython",
    "version": 3
   },
   "file_extension": ".py",
   "mimetype": "text/x-python",
   "name": "python",
   "nbconvert_exporter": "python",
   "pygments_lexer": "ipython3",
   "version": "3.8.5"
  }
 },
 "nbformat": 4,
 "nbformat_minor": 5
}
