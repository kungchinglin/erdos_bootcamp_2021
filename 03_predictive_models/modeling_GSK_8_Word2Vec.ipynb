{
 "cells": [
  {
   "cell_type": "markdown",
   "id": "e3808979",
   "metadata": {},
   "source": [
    "# Model building"
   ]
  },
  {
   "cell_type": "code",
   "execution_count": 2,
   "id": "b51dd14e",
   "metadata": {},
   "outputs": [],
   "source": [
    "import numpy as np\n",
    "import pandas as pd\n",
    "import pylab as plt\n",
    "import seaborn as sns\n",
    "\n",
    "\n",
    "from sklearn.metrics import accuracy_score, precision_score, recall_score, f1_score\n",
    "from sklearn.metrics import precision_recall_fscore_support\n",
    "from sklearn.metrics import confusion_matrix, make_scorer\n",
    "from sklearn.metrics import plot_roc_curve, precision_recall_curve\n",
    "from sklearn.metrics import plot_precision_recall_curve\n",
    "\n",
    "from sklearn.feature_extraction.text import TfidfVectorizer\n",
    "from sklearn.feature_extraction.text import CountVectorizer\n",
    "\n",
    "\n",
    "from sklearn.model_selection import train_test_split\n",
    "from sklearn.model_selection import GridSearchCV, KFold, StratifiedKFold\n",
    "from sklearn.linear_model import LogisticRegression\n",
    "\n",
    "from sklearn import tree\n",
    "from sklearn.tree import DecisionTreeClassifier\n",
    "from sklearn.ensemble import RandomForestClassifier\n",
    "\n",
    "from tensorflow.keras.preprocessing.text import Tokenizer\n",
    "from tensorflow.keras.preprocessing.sequence import pad_sequences\n",
    "from tensorflow.keras.models import Sequential\n",
    "from tensorflow.keras.layers import Dense, Dropout, Flatten, Activation\n",
    "from tensorflow.keras.layers import LSTM, Bidirectional, Conv1D\n",
    "from tensorflow.keras.layers import GRU\n",
    "from tensorflow.keras.layers import MaxPooling1D, GlobalMaxPool1D, BatchNormalization\n",
    "from tensorflow.keras import backend as K\n",
    "#from tensorflow.keras.layers.embeddings import Embedding\n",
    "\n",
    "import datetime\n",
    "\n",
    "import warnings\n",
    "warnings.filterwarnings(\"ignore\")"
   ]
  },
  {
   "cell_type": "code",
   "execution_count": 3,
   "id": "2b765235",
   "metadata": {},
   "outputs": [],
   "source": [
    "df_orig = pd.read_csv(\"df_processed.csv\")\n",
    "df_orig.replace(np.nan, \"no_text\", inplace=True)"
   ]
  },
  {
   "cell_type": "code",
   "execution_count": 4,
   "id": "ce81e560",
   "metadata": {},
   "outputs": [
    {
     "name": "stdout",
     "output_type": "stream",
     "text": [
      "(541438, 21) Index(['Unnamed: 0', 'id', 'subreddit', 'title', 'author', 'url', 'created',\n",
      "       'ext_link', 'id.1', 'body', 'score', 'upvote_ratio', 'body_processed',\n",
      "       'title_processed', 'author_processed', 'subreddit_processed',\n",
      "       'body_and_title', 'body_and_author', 'title_and_author',\n",
      "       'body_title_and_author', 'body_title_author_subreddit'],\n",
      "      dtype='object')\n"
     ]
    },
    {
     "data": {
      "text/html": [
       "<div>\n",
       "<style scoped>\n",
       "    .dataframe tbody tr th:only-of-type {\n",
       "        vertical-align: middle;\n",
       "    }\n",
       "\n",
       "    .dataframe tbody tr th {\n",
       "        vertical-align: top;\n",
       "    }\n",
       "\n",
       "    .dataframe thead th {\n",
       "        text-align: right;\n",
       "    }\n",
       "</style>\n",
       "<table border=\"1\" class=\"dataframe\">\n",
       "  <thead>\n",
       "    <tr style=\"text-align: right;\">\n",
       "      <th></th>\n",
       "      <th>Unnamed: 0</th>\n",
       "      <th>id</th>\n",
       "      <th>subreddit</th>\n",
       "      <th>title</th>\n",
       "      <th>author</th>\n",
       "      <th>url</th>\n",
       "      <th>created</th>\n",
       "      <th>ext_link</th>\n",
       "      <th>id.1</th>\n",
       "      <th>body</th>\n",
       "      <th>...</th>\n",
       "      <th>upvote_ratio</th>\n",
       "      <th>body_processed</th>\n",
       "      <th>title_processed</th>\n",
       "      <th>author_processed</th>\n",
       "      <th>subreddit_processed</th>\n",
       "      <th>body_and_title</th>\n",
       "      <th>body_and_author</th>\n",
       "      <th>title_and_author</th>\n",
       "      <th>body_title_and_author</th>\n",
       "      <th>body_title_author_subreddit</th>\n",
       "    </tr>\n",
       "  </thead>\n",
       "  <tbody>\n",
       "    <tr>\n",
       "      <th>0</th>\n",
       "      <td>0</td>\n",
       "      <td>koaw8g</td>\n",
       "      <td>finance</td>\n",
       "      <td>Tech's top seven companies added $3.4 trillion...</td>\n",
       "      <td>Obrocheetah</td>\n",
       "      <td>https://www.reddit.com/r/finance/comments/koaw...</td>\n",
       "      <td>1609505868</td>\n",
       "      <td>no_text</td>\n",
       "      <td>koaw8g</td>\n",
       "      <td>[deleted]</td>\n",
       "      <td>...</td>\n",
       "      <td>1.0</td>\n",
       "      <td>deleted</td>\n",
       "      <td>top seven companies added trillion value</td>\n",
       "      <td>obrocheetah</td>\n",
       "      <td>finance</td>\n",
       "      <td>deleted top seven companies added trillion value</td>\n",
       "      <td>deleted obrocheetah</td>\n",
       "      <td>top seven companies added trillion value obroc...</td>\n",
       "      <td>deleted top seven companies added trillion val...</td>\n",
       "      <td>deleted top seven companies added trillion val...</td>\n",
       "    </tr>\n",
       "    <tr>\n",
       "      <th>1</th>\n",
       "      <td>1</td>\n",
       "      <td>kobbka</td>\n",
       "      <td>finance</td>\n",
       "      <td>Mogo: Establishes ATM Equity Program Mogo a fi...</td>\n",
       "      <td>fintechinshorts</td>\n",
       "      <td>https://www.reddit.com/r/finance/comments/kobb...</td>\n",
       "      <td>1609507913</td>\n",
       "      <td>https://www.fintechinshorts.com/mogo-establish...</td>\n",
       "      <td>kobbka</td>\n",
       "      <td>no_text</td>\n",
       "      <td>...</td>\n",
       "      <td>1.0</td>\n",
       "      <td>no_text</td>\n",
       "      <td>mogo establishes atm equity program mogo finan...</td>\n",
       "      <td>fintechinshorts</td>\n",
       "      <td>finance</td>\n",
       "      <td>no_text mogo establishes atm equity program mo...</td>\n",
       "      <td>no_text fintechinshorts</td>\n",
       "      <td>mogo establishes atm equity program mogo finan...</td>\n",
       "      <td>no_text mogo establishes atm equity program mo...</td>\n",
       "      <td>no_text mogo establishes atm equity program mo...</td>\n",
       "    </tr>\n",
       "  </tbody>\n",
       "</table>\n",
       "<p>2 rows × 21 columns</p>\n",
       "</div>"
      ],
      "text/plain": [
       "   Unnamed: 0      id subreddit  \\\n",
       "0           0  koaw8g   finance   \n",
       "1           1  kobbka   finance   \n",
       "\n",
       "                                               title           author  \\\n",
       "0  Tech's top seven companies added $3.4 trillion...      Obrocheetah   \n",
       "1  Mogo: Establishes ATM Equity Program Mogo a fi...  fintechinshorts   \n",
       "\n",
       "                                                 url     created  \\\n",
       "0  https://www.reddit.com/r/finance/comments/koaw...  1609505868   \n",
       "1  https://www.reddit.com/r/finance/comments/kobb...  1609507913   \n",
       "\n",
       "                                            ext_link    id.1       body  ...  \\\n",
       "0                                            no_text  koaw8g  [deleted]  ...   \n",
       "1  https://www.fintechinshorts.com/mogo-establish...  kobbka    no_text  ...   \n",
       "\n",
       "   upvote_ratio  body_processed  \\\n",
       "0           1.0         deleted   \n",
       "1           1.0         no_text   \n",
       "\n",
       "                                     title_processed author_processed  \\\n",
       "0           top seven companies added trillion value      obrocheetah   \n",
       "1  mogo establishes atm equity program mogo finan...  fintechinshorts   \n",
       "\n",
       "  subreddit_processed                                     body_and_title  \\\n",
       "0             finance   deleted top seven companies added trillion value   \n",
       "1             finance  no_text mogo establishes atm equity program mo...   \n",
       "\n",
       "           body_and_author                                   title_and_author  \\\n",
       "0      deleted obrocheetah  top seven companies added trillion value obroc...   \n",
       "1  no_text fintechinshorts  mogo establishes atm equity program mogo finan...   \n",
       "\n",
       "                               body_title_and_author  \\\n",
       "0  deleted top seven companies added trillion val...   \n",
       "1  no_text mogo establishes atm equity program mo...   \n",
       "\n",
       "                         body_title_author_subreddit  \n",
       "0  deleted top seven companies added trillion val...  \n",
       "1  no_text mogo establishes atm equity program mo...  \n",
       "\n",
       "[2 rows x 21 columns]"
      ]
     },
     "execution_count": 4,
     "metadata": {},
     "output_type": "execute_result"
    }
   ],
   "source": [
    "print ( df_orig.shape, df_orig.columns)\n",
    "df_orig.head(2)"
   ]
  },
  {
   "cell_type": "code",
   "execution_count": 5,
   "id": "929459b7",
   "metadata": {},
   "outputs": [
    {
     "data": {
      "text/html": [
       "<div>\n",
       "<style scoped>\n",
       "    .dataframe tbody tr th:only-of-type {\n",
       "        vertical-align: middle;\n",
       "    }\n",
       "\n",
       "    .dataframe tbody tr th {\n",
       "        vertical-align: top;\n",
       "    }\n",
       "\n",
       "    .dataframe thead th {\n",
       "        text-align: right;\n",
       "    }\n",
       "</style>\n",
       "<table border=\"1\" class=\"dataframe\">\n",
       "  <thead>\n",
       "    <tr style=\"text-align: right;\">\n",
       "      <th></th>\n",
       "      <th>Unnamed: 0</th>\n",
       "      <th>id</th>\n",
       "      <th>subreddit</th>\n",
       "      <th>title</th>\n",
       "      <th>author</th>\n",
       "      <th>url</th>\n",
       "      <th>created</th>\n",
       "      <th>ext_link</th>\n",
       "      <th>id.1</th>\n",
       "      <th>body</th>\n",
       "      <th>...</th>\n",
       "      <th>upvote_ratio</th>\n",
       "      <th>body_processed</th>\n",
       "      <th>title_processed</th>\n",
       "      <th>author_processed</th>\n",
       "      <th>subreddit_processed</th>\n",
       "      <th>body_and_title</th>\n",
       "      <th>body_and_author</th>\n",
       "      <th>title_and_author</th>\n",
       "      <th>body_title_and_author</th>\n",
       "      <th>body_title_author_subreddit</th>\n",
       "    </tr>\n",
       "  </thead>\n",
       "  <tbody>\n",
       "    <tr>\n",
       "      <th>1</th>\n",
       "      <td>1</td>\n",
       "      <td>kobbka</td>\n",
       "      <td>finance</td>\n",
       "      <td>Mogo: Establishes ATM Equity Program Mogo a fi...</td>\n",
       "      <td>fintechinshorts</td>\n",
       "      <td>https://www.reddit.com/r/finance/comments/kobb...</td>\n",
       "      <td>1609507913</td>\n",
       "      <td>https://www.fintechinshorts.com/mogo-establish...</td>\n",
       "      <td>kobbka</td>\n",
       "      <td>no_text</td>\n",
       "      <td>...</td>\n",
       "      <td>1.0</td>\n",
       "      <td>no_text</td>\n",
       "      <td>mogo establishes atm equity program mogo finan...</td>\n",
       "      <td>fintechinshorts</td>\n",
       "      <td>finance</td>\n",
       "      <td>no_text mogo establishes atm equity program mo...</td>\n",
       "      <td>no_text fintechinshorts</td>\n",
       "      <td>mogo establishes atm equity program mogo finan...</td>\n",
       "      <td>no_text mogo establishes atm equity program mo...</td>\n",
       "      <td>no_text mogo establishes atm equity program mo...</td>\n",
       "    </tr>\n",
       "    <tr>\n",
       "      <th>3</th>\n",
       "      <td>3</td>\n",
       "      <td>koe39g</td>\n",
       "      <td>finance</td>\n",
       "      <td>Standard Capital: Partners with SolidBlock Sta...</td>\n",
       "      <td>fintechinshorts</td>\n",
       "      <td>https://www.reddit.com/r/finance/comments/koe3...</td>\n",
       "      <td>1609518689</td>\n",
       "      <td>https://www.fintechinshorts.com/standard-capit...</td>\n",
       "      <td>koe39g</td>\n",
       "      <td>no_text</td>\n",
       "      <td>...</td>\n",
       "      <td>1.0</td>\n",
       "      <td>no_text</td>\n",
       "      <td>standard capital partners solidblock standard ...</td>\n",
       "      <td>fintechinshorts</td>\n",
       "      <td>finance</td>\n",
       "      <td>no_text standard capital partners solidblock s...</td>\n",
       "      <td>no_text fintechinshorts</td>\n",
       "      <td>standard capital partners solidblock standard ...</td>\n",
       "      <td>no_text standard capital partners solidblock s...</td>\n",
       "      <td>no_text standard capital partners solidblock s...</td>\n",
       "    </tr>\n",
       "  </tbody>\n",
       "</table>\n",
       "<p>2 rows × 21 columns</p>\n",
       "</div>"
      ],
      "text/plain": [
       "   Unnamed: 0      id subreddit  \\\n",
       "1           1  kobbka   finance   \n",
       "3           3  koe39g   finance   \n",
       "\n",
       "                                               title           author  \\\n",
       "1  Mogo: Establishes ATM Equity Program Mogo a fi...  fintechinshorts   \n",
       "3  Standard Capital: Partners with SolidBlock Sta...  fintechinshorts   \n",
       "\n",
       "                                                 url     created  \\\n",
       "1  https://www.reddit.com/r/finance/comments/kobb...  1609507913   \n",
       "3  https://www.reddit.com/r/finance/comments/koe3...  1609518689   \n",
       "\n",
       "                                            ext_link    id.1     body  ...  \\\n",
       "1  https://www.fintechinshorts.com/mogo-establish...  kobbka  no_text  ...   \n",
       "3  https://www.fintechinshorts.com/standard-capit...  koe39g  no_text  ...   \n",
       "\n",
       "   upvote_ratio  body_processed  \\\n",
       "1           1.0         no_text   \n",
       "3           1.0         no_text   \n",
       "\n",
       "                                     title_processed author_processed  \\\n",
       "1  mogo establishes atm equity program mogo finan...  fintechinshorts   \n",
       "3  standard capital partners solidblock standard ...  fintechinshorts   \n",
       "\n",
       "  subreddit_processed                                     body_and_title  \\\n",
       "1             finance  no_text mogo establishes atm equity program mo...   \n",
       "3             finance  no_text standard capital partners solidblock s...   \n",
       "\n",
       "           body_and_author                                   title_and_author  \\\n",
       "1  no_text fintechinshorts  mogo establishes atm equity program mogo finan...   \n",
       "3  no_text fintechinshorts  standard capital partners solidblock standard ...   \n",
       "\n",
       "                               body_title_and_author  \\\n",
       "1  no_text mogo establishes atm equity program mo...   \n",
       "3  no_text standard capital partners solidblock s...   \n",
       "\n",
       "                         body_title_author_subreddit  \n",
       "1  no_text mogo establishes atm equity program mo...  \n",
       "3  no_text standard capital partners solidblock s...  \n",
       "\n",
       "[2 rows x 21 columns]"
      ]
     },
     "execution_count": 5,
     "metadata": {},
     "output_type": "execute_result"
    }
   ],
   "source": [
    "# delete the rows with empty body\n",
    "df = df_orig[(df_orig.body_processed != 'deleted') & (df_orig.body_processed != 'removed')]\n",
    "df.head(2)"
   ]
  },
  {
   "cell_type": "markdown",
   "id": "871342ed",
   "metadata": {},
   "source": [
    "## Popular as 95 percentile"
   ]
  },
  {
   "cell_type": "code",
   "execution_count": 7,
   "id": "fbea6adb",
   "metadata": {},
   "outputs": [],
   "source": [
    "df_superstocks = df[df.subreddit == 'Superstonks']\n",
    "df_finance     = df[df.subreddit == 'finance']\n",
    "df_options     = df[df.subreddit == 'options']\n",
    "df_pennystocks = df[df.subreddit == 'pennystocks']\n",
    "df_gme         = df[df.subreddit == 'GME']"
   ]
  },
  {
   "cell_type": "code",
   "execution_count": 8,
   "id": "78e05524",
   "metadata": {},
   "outputs": [],
   "source": [
    "df_superstocks['popular'] = 0\n",
    "df_finance['popular'] = 0\n",
    "df_options['popular'] = 0\n",
    "df_pennystocks['popular'] = 0\n",
    "df_gme['popular'] = 0"
   ]
  },
  {
   "cell_type": "code",
   "execution_count": 9,
   "id": "16fbf581",
   "metadata": {},
   "outputs": [],
   "source": [
    "df_superstocks.loc[df_superstocks['score'] > np.percentile(df_superstocks.score.values, 95), 'popular'] = 1\n",
    "df_finance.loc[df_finance['score'] > np.percentile(df_finance.score.values, 95), 'popular'] = 1\n",
    "df_options.loc[df_options['score'] > np.percentile(df_options.score.values, 95), 'popular'] = 1\n",
    "df_pennystocks.loc[df_pennystocks['score'] > np.percentile(df_pennystocks.score.values, 95), 'popular'] = 1\n",
    "df_gme.loc[df_gme['score'] > np.percentile(df_gme.score.values, 95), 'popular'] = 1"
   ]
  },
  {
   "cell_type": "code",
   "execution_count": 10,
   "id": "68e6fa95",
   "metadata": {},
   "outputs": [],
   "source": [
    "df = pd.concat([df_superstocks, df_finance, df_options,\n",
    "                df_pennystocks, df_gme], ignore_index=True)"
   ]
  },
  {
   "cell_type": "code",
   "execution_count": 11,
   "id": "41032c9c",
   "metadata": {},
   "outputs": [
    {
     "data": {
      "text/html": [
       "<div>\n",
       "<style scoped>\n",
       "    .dataframe tbody tr th:only-of-type {\n",
       "        vertical-align: middle;\n",
       "    }\n",
       "\n",
       "    .dataframe tbody tr th {\n",
       "        vertical-align: top;\n",
       "    }\n",
       "\n",
       "    .dataframe thead th {\n",
       "        text-align: right;\n",
       "    }\n",
       "</style>\n",
       "<table border=\"1\" class=\"dataframe\">\n",
       "  <thead>\n",
       "    <tr style=\"text-align: right;\">\n",
       "      <th></th>\n",
       "      <th>Unnamed: 0</th>\n",
       "      <th>id</th>\n",
       "      <th>subreddit</th>\n",
       "      <th>title</th>\n",
       "      <th>author</th>\n",
       "      <th>url</th>\n",
       "      <th>created</th>\n",
       "      <th>ext_link</th>\n",
       "      <th>id.1</th>\n",
       "      <th>body</th>\n",
       "      <th>...</th>\n",
       "      <th>body_processed</th>\n",
       "      <th>title_processed</th>\n",
       "      <th>author_processed</th>\n",
       "      <th>subreddit_processed</th>\n",
       "      <th>body_and_title</th>\n",
       "      <th>body_and_author</th>\n",
       "      <th>title_and_author</th>\n",
       "      <th>body_title_and_author</th>\n",
       "      <th>body_title_author_subreddit</th>\n",
       "      <th>popular</th>\n",
       "    </tr>\n",
       "  </thead>\n",
       "  <tbody>\n",
       "    <tr>\n",
       "      <th>0</th>\n",
       "      <td>41437</td>\n",
       "      <td>mkga8b</td>\n",
       "      <td>Superstonks</td>\n",
       "      <td>The sub you are looking for is r/Superstonk</td>\n",
       "      <td>seppukkake</td>\n",
       "      <td>https://www.reddit.com/r/Superstonks/comments/...</td>\n",
       "      <td>1617613228</td>\n",
       "      <td>https://www.reddit.com/r/Superstonks/comments/...</td>\n",
       "      <td>mkga8b</td>\n",
       "      <td>r/Superstonk</td>\n",
       "      <td>...</td>\n",
       "      <td>r superstonk</td>\n",
       "      <td>sub looking r superstonk</td>\n",
       "      <td>seppukkake</td>\n",
       "      <td>superstonks</td>\n",
       "      <td>r superstonk sub looking r superstonk</td>\n",
       "      <td>r superstonk seppukkake</td>\n",
       "      <td>sub looking r superstonk seppukkake</td>\n",
       "      <td>r superstonk sub looking r superstonk seppukkake</td>\n",
       "      <td>r superstonk sub looking r superstonk seppukka...</td>\n",
       "      <td>1</td>\n",
       "    </tr>\n",
       "    <tr>\n",
       "      <th>1</th>\n",
       "      <td>41438</td>\n",
       "      <td>mkhpr9</td>\n",
       "      <td>Superstonks</td>\n",
       "      <td>https://www.reddit.com/r/Superstonk/</td>\n",
       "      <td>fairytalee20</td>\n",
       "      <td>https://www.reddit.com/r/Superstonks/comments/...</td>\n",
       "      <td>1617619355</td>\n",
       "      <td>https://www.reddit.com/r/Superstonks/comments/...</td>\n",
       "      <td>mkhpr9</td>\n",
       "      <td>no_text</td>\n",
       "      <td>...</td>\n",
       "      <td>no_text</td>\n",
       "      <td>https www reddit com r superstonk</td>\n",
       "      <td>fairytalee</td>\n",
       "      <td>superstonks</td>\n",
       "      <td>no_text https www reddit com r superstonk</td>\n",
       "      <td>no_text fairytalee</td>\n",
       "      <td>https www reddit com r superstonk fairytalee</td>\n",
       "      <td>no_text https www reddit com r superstonk fair...</td>\n",
       "      <td>no_text https www reddit com r superstonk fair...</td>\n",
       "      <td>0</td>\n",
       "    </tr>\n",
       "  </tbody>\n",
       "</table>\n",
       "<p>2 rows × 22 columns</p>\n",
       "</div>"
      ],
      "text/plain": [
       "   Unnamed: 0      id    subreddit  \\\n",
       "0       41437  mkga8b  Superstonks   \n",
       "1       41438  mkhpr9  Superstonks   \n",
       "\n",
       "                                         title        author  \\\n",
       "0  The sub you are looking for is r/Superstonk    seppukkake   \n",
       "1         https://www.reddit.com/r/Superstonk/  fairytalee20   \n",
       "\n",
       "                                                 url     created  \\\n",
       "0  https://www.reddit.com/r/Superstonks/comments/...  1617613228   \n",
       "1  https://www.reddit.com/r/Superstonks/comments/...  1617619355   \n",
       "\n",
       "                                            ext_link    id.1          body  \\\n",
       "0  https://www.reddit.com/r/Superstonks/comments/...  mkga8b  r/Superstonk   \n",
       "1  https://www.reddit.com/r/Superstonks/comments/...  mkhpr9       no_text   \n",
       "\n",
       "   ...  body_processed                    title_processed author_processed  \\\n",
       "0  ...    r superstonk           sub looking r superstonk       seppukkake   \n",
       "1  ...         no_text  https www reddit com r superstonk       fairytalee   \n",
       "\n",
       "  subreddit_processed                             body_and_title  \\\n",
       "0         superstonks      r superstonk sub looking r superstonk   \n",
       "1         superstonks  no_text https www reddit com r superstonk   \n",
       "\n",
       "           body_and_author                              title_and_author  \\\n",
       "0  r superstonk seppukkake           sub looking r superstonk seppukkake   \n",
       "1       no_text fairytalee  https www reddit com r superstonk fairytalee   \n",
       "\n",
       "                               body_title_and_author  \\\n",
       "0   r superstonk sub looking r superstonk seppukkake   \n",
       "1  no_text https www reddit com r superstonk fair...   \n",
       "\n",
       "                         body_title_author_subreddit popular  \n",
       "0  r superstonk sub looking r superstonk seppukka...       1  \n",
       "1  no_text https www reddit com r superstonk fair...       0  \n",
       "\n",
       "[2 rows x 22 columns]"
      ]
     },
     "execution_count": 11,
     "metadata": {},
     "output_type": "execute_result"
    }
   ],
   "source": [
    "df.head(2)"
   ]
  },
  {
   "cell_type": "code",
   "execution_count": 12,
   "id": "ac079e1a",
   "metadata": {},
   "outputs": [
    {
     "data": {
      "text/plain": [
       "Index(['Unnamed: 0', 'id', 'subreddit', 'title', 'author', 'url', 'created',\n",
       "       'ext_link', 'id.1', 'body', 'score', 'upvote_ratio', 'body_processed',\n",
       "       'title_processed', 'author_processed', 'subreddit_processed',\n",
       "       'body_and_title', 'body_and_author', 'title_and_author',\n",
       "       'body_title_and_author', 'body_title_author_subreddit', 'popular'],\n",
       "      dtype='object')"
      ]
     },
     "execution_count": 12,
     "metadata": {},
     "output_type": "execute_result"
    }
   ],
   "source": [
    "df.columns"
   ]
  },
  {
   "cell_type": "code",
   "execution_count": 13,
   "id": "01b6d8db",
   "metadata": {},
   "outputs": [],
   "source": [
    "import string, re, datetime\n",
    "\n",
    "def emoji_count(s):\n",
    "    s = ''.join(word.strip(string.punctuation) for word in s.split())\n",
    "    return len(re.findall('[^\\w\\s,\\(\\)\\'\\/-]',s))\n",
    "\n",
    "def hourOfDay(utc):\n",
    "    return datetime.datetime.utcfromtimestamp(utc).hour\n",
    "\n",
    "def dayOfWeek(utc):\n",
    "    return datetime.datetime.utcfromtimestamp(utc).weekday()\n",
    "\n",
    "def textLength(text):\n",
    "    return len(text.split())\n",
    "\n",
    "def postType(link):\n",
    "    if not link:\n",
    "        return 'others'\n",
    "    if 'png' in link or 'jpg' in link:\n",
    "        return 'figures'\n",
    "    elif '/r/' in link:\n",
    "        return 'others'\n",
    "    else:\n",
    "        return 'outside_link'\n",
    "\n",
    "def countUpper(text):\n",
    "    Up = 0\n",
    "    Low = 0\n",
    "    for ch in text:\n",
    "        if ch.isupper():\n",
    "            Up += 1\n",
    "        elif ch.islower():\n",
    "            Low += 1\n",
    "    \n",
    "    if Up + Low:\n",
    "        return Up/(Up+Low)\n",
    "    else:\n",
    "        return 0\n",
    "    \n",
    "def exclamationAndQuestion(text):\n",
    "    return text.count('!') + text.count('?')\n",
    "\n",
    "def getMonth(utc):\n",
    "    return datetime.datetime.utcfromtimestamp(utc).month\n",
    "    \n",
    "def primeTime(hour):\n",
    "    primeTime = 1 if hour >= 7 and hour <= 11 else 0\n",
    "    return primeTime\n",
    "\n",
    "def weekend(day):\n",
    "    return 1 if day >= 5 else 0"
   ]
  },
  {
   "cell_type": "code",
   "execution_count": 14,
   "id": "cfe44aac",
   "metadata": {},
   "outputs": [],
   "source": [
    "df['title_emoji'] = df['title'].apply(emoji_count)\n",
    "df['body_emoji'] = df['body'].apply(emoji_count)\n",
    "df['title_length'] = df['title'].apply(textLength)\n",
    "df['body_length'] = df['body'].apply(textLength)\n",
    "df['title_EQ'] = df['title'].apply(exclamationAndQuestion)\n",
    "df['body_EQ'] = df['body'].apply(exclamationAndQuestion)\n",
    "#df['title_UL'] = df['title'].apply(countUpper)\n",
    "#df['body_UL'] = df['body'].apply(countUpper)    \n",
    "df['hour'] = df['created'].apply(hourOfDay)\n",
    "df['day'] = df['created'].apply(dayOfWeek)\n",
    "#df['post_type'] = df['ext_link'].apply(postType)\n",
    "df['prime_time'] = df['hour'].apply(primeTime)\n",
    "df['weekend'] = df['day'].apply(weekend)\n",
    "df['month'] = df['created'].apply(getMonth)"
   ]
  },
  {
   "cell_type": "code",
   "execution_count": 15,
   "id": "f7afe45c",
   "metadata": {},
   "outputs": [
    {
     "data": {
      "text/plain": [
       "'zero twelve forty_four one_hundred_and_twenty_three'"
      ]
     },
     "execution_count": 15,
     "metadata": {},
     "output_type": "execute_result"
    }
   ],
   "source": [
    "from num2words import num2words\n",
    "\n",
    "def get_num2words(num):\n",
    "    w = num2words(num)\n",
    "    w = re.sub(' ', '_', w)\n",
    "    w = re.sub('-', '_', w)\n",
    "    return w\n",
    "\n",
    "def convert_nums(nums):\n",
    "    return \" \".join([get_num2words(num) for num in nums])\n",
    "\n",
    "convert_nums([0, 12, 44, 123])"
   ]
  },
  {
   "cell_type": "code",
   "execution_count": 16,
   "id": "142d61c9",
   "metadata": {},
   "outputs": [
    {
     "data": {
      "text/html": [
       "<div>\n",
       "<style scoped>\n",
       "    .dataframe tbody tr th:only-of-type {\n",
       "        vertical-align: middle;\n",
       "    }\n",
       "\n",
       "    .dataframe tbody tr th {\n",
       "        vertical-align: top;\n",
       "    }\n",
       "\n",
       "    .dataframe thead th {\n",
       "        text-align: right;\n",
       "    }\n",
       "</style>\n",
       "<table border=\"1\" class=\"dataframe\">\n",
       "  <thead>\n",
       "    <tr style=\"text-align: right;\">\n",
       "      <th></th>\n",
       "      <th>Unnamed: 0</th>\n",
       "      <th>id</th>\n",
       "      <th>subreddit</th>\n",
       "      <th>title</th>\n",
       "      <th>author</th>\n",
       "      <th>url</th>\n",
       "      <th>created</th>\n",
       "      <th>ext_link</th>\n",
       "      <th>id.1</th>\n",
       "      <th>body</th>\n",
       "      <th>...</th>\n",
       "      <th>body_emoji</th>\n",
       "      <th>title_length</th>\n",
       "      <th>body_length</th>\n",
       "      <th>title_EQ</th>\n",
       "      <th>body_EQ</th>\n",
       "      <th>hour</th>\n",
       "      <th>day</th>\n",
       "      <th>prime_time</th>\n",
       "      <th>weekend</th>\n",
       "      <th>month</th>\n",
       "    </tr>\n",
       "  </thead>\n",
       "  <tbody>\n",
       "    <tr>\n",
       "      <th>0</th>\n",
       "      <td>41437</td>\n",
       "      <td>mkga8b</td>\n",
       "      <td>Superstonks</td>\n",
       "      <td>The sub you are looking for is r/Superstonk</td>\n",
       "      <td>seppukkake</td>\n",
       "      <td>https://www.reddit.com/r/Superstonks/comments/...</td>\n",
       "      <td>1617613228</td>\n",
       "      <td>https://www.reddit.com/r/Superstonks/comments/...</td>\n",
       "      <td>mkga8b</td>\n",
       "      <td>r/Superstonk</td>\n",
       "      <td>...</td>\n",
       "      <td>0</td>\n",
       "      <td>8</td>\n",
       "      <td>1</td>\n",
       "      <td>0</td>\n",
       "      <td>0</td>\n",
       "      <td>9</td>\n",
       "      <td>0</td>\n",
       "      <td>1</td>\n",
       "      <td>0</td>\n",
       "      <td>4</td>\n",
       "    </tr>\n",
       "    <tr>\n",
       "      <th>1</th>\n",
       "      <td>41438</td>\n",
       "      <td>mkhpr9</td>\n",
       "      <td>Superstonks</td>\n",
       "      <td>https://www.reddit.com/r/Superstonk/</td>\n",
       "      <td>fairytalee20</td>\n",
       "      <td>https://www.reddit.com/r/Superstonks/comments/...</td>\n",
       "      <td>1617619355</td>\n",
       "      <td>https://www.reddit.com/r/Superstonks/comments/...</td>\n",
       "      <td>mkhpr9</td>\n",
       "      <td>no_text</td>\n",
       "      <td>...</td>\n",
       "      <td>0</td>\n",
       "      <td>1</td>\n",
       "      <td>1</td>\n",
       "      <td>0</td>\n",
       "      <td>0</td>\n",
       "      <td>10</td>\n",
       "      <td>0</td>\n",
       "      <td>1</td>\n",
       "      <td>0</td>\n",
       "      <td>4</td>\n",
       "    </tr>\n",
       "  </tbody>\n",
       "</table>\n",
       "<p>2 rows × 33 columns</p>\n",
       "</div>"
      ],
      "text/plain": [
       "   Unnamed: 0      id    subreddit  \\\n",
       "0       41437  mkga8b  Superstonks   \n",
       "1       41438  mkhpr9  Superstonks   \n",
       "\n",
       "                                         title        author  \\\n",
       "0  The sub you are looking for is r/Superstonk    seppukkake   \n",
       "1         https://www.reddit.com/r/Superstonk/  fairytalee20   \n",
       "\n",
       "                                                 url     created  \\\n",
       "0  https://www.reddit.com/r/Superstonks/comments/...  1617613228   \n",
       "1  https://www.reddit.com/r/Superstonks/comments/...  1617619355   \n",
       "\n",
       "                                            ext_link    id.1          body  \\\n",
       "0  https://www.reddit.com/r/Superstonks/comments/...  mkga8b  r/Superstonk   \n",
       "1  https://www.reddit.com/r/Superstonks/comments/...  mkhpr9       no_text   \n",
       "\n",
       "   ...  body_emoji  title_length body_length title_EQ body_EQ hour day  \\\n",
       "0  ...           0             8           1        0       0    9   0   \n",
       "1  ...           0             1           1        0       0   10   0   \n",
       "\n",
       "  prime_time weekend month  \n",
       "0          1       0     4  \n",
       "1          1       0     4  \n",
       "\n",
       "[2 rows x 33 columns]"
      ]
     },
     "execution_count": 16,
     "metadata": {},
     "output_type": "execute_result"
    }
   ],
   "source": [
    "df.head(2)"
   ]
  },
  {
   "cell_type": "code",
   "execution_count": 17,
   "id": "e6c25c6c",
   "metadata": {},
   "outputs": [
    {
     "data": {
      "text/html": [
       "<div>\n",
       "<style scoped>\n",
       "    .dataframe tbody tr th:only-of-type {\n",
       "        vertical-align: middle;\n",
       "    }\n",
       "\n",
       "    .dataframe tbody tr th {\n",
       "        vertical-align: top;\n",
       "    }\n",
       "\n",
       "    .dataframe thead th {\n",
       "        text-align: right;\n",
       "    }\n",
       "</style>\n",
       "<table border=\"1\" class=\"dataframe\">\n",
       "  <thead>\n",
       "    <tr style=\"text-align: right;\">\n",
       "      <th></th>\n",
       "      <th>Unnamed: 0</th>\n",
       "      <th>id</th>\n",
       "      <th>subreddit</th>\n",
       "      <th>title</th>\n",
       "      <th>author</th>\n",
       "      <th>url</th>\n",
       "      <th>created</th>\n",
       "      <th>ext_link</th>\n",
       "      <th>id.1</th>\n",
       "      <th>body</th>\n",
       "      <th>...</th>\n",
       "      <th>title_length</th>\n",
       "      <th>body_length</th>\n",
       "      <th>title_EQ</th>\n",
       "      <th>body_EQ</th>\n",
       "      <th>hour</th>\n",
       "      <th>day</th>\n",
       "      <th>prime_time</th>\n",
       "      <th>weekend</th>\n",
       "      <th>month</th>\n",
       "      <th>feats_joined_w</th>\n",
       "    </tr>\n",
       "  </thead>\n",
       "  <tbody>\n",
       "    <tr>\n",
       "      <th>0</th>\n",
       "      <td>41437</td>\n",
       "      <td>mkga8b</td>\n",
       "      <td>Superstonks</td>\n",
       "      <td>The sub you are looking for is r/Superstonk</td>\n",
       "      <td>seppukkake</td>\n",
       "      <td>https://www.reddit.com/r/Superstonks/comments/...</td>\n",
       "      <td>1617613228</td>\n",
       "      <td>https://www.reddit.com/r/Superstonks/comments/...</td>\n",
       "      <td>mkga8b</td>\n",
       "      <td>r/Superstonk</td>\n",
       "      <td>...</td>\n",
       "      <td>8</td>\n",
       "      <td>1</td>\n",
       "      <td>0</td>\n",
       "      <td>0</td>\n",
       "      <td>9</td>\n",
       "      <td>0</td>\n",
       "      <td>1</td>\n",
       "      <td>0</td>\n",
       "      <td>4</td>\n",
       "      <td>zero zero eight one zero zero nine zero one ze...</td>\n",
       "    </tr>\n",
       "    <tr>\n",
       "      <th>1</th>\n",
       "      <td>41438</td>\n",
       "      <td>mkhpr9</td>\n",
       "      <td>Superstonks</td>\n",
       "      <td>https://www.reddit.com/r/Superstonk/</td>\n",
       "      <td>fairytalee20</td>\n",
       "      <td>https://www.reddit.com/r/Superstonks/comments/...</td>\n",
       "      <td>1617619355</td>\n",
       "      <td>https://www.reddit.com/r/Superstonks/comments/...</td>\n",
       "      <td>mkhpr9</td>\n",
       "      <td>no_text</td>\n",
       "      <td>...</td>\n",
       "      <td>1</td>\n",
       "      <td>1</td>\n",
       "      <td>0</td>\n",
       "      <td>0</td>\n",
       "      <td>10</td>\n",
       "      <td>0</td>\n",
       "      <td>1</td>\n",
       "      <td>0</td>\n",
       "      <td>4</td>\n",
       "      <td>three zero one one zero zero ten zero one zero...</td>\n",
       "    </tr>\n",
       "  </tbody>\n",
       "</table>\n",
       "<p>2 rows × 34 columns</p>\n",
       "</div>"
      ],
      "text/plain": [
       "   Unnamed: 0      id    subreddit  \\\n",
       "0       41437  mkga8b  Superstonks   \n",
       "1       41438  mkhpr9  Superstonks   \n",
       "\n",
       "                                         title        author  \\\n",
       "0  The sub you are looking for is r/Superstonk    seppukkake   \n",
       "1         https://www.reddit.com/r/Superstonk/  fairytalee20   \n",
       "\n",
       "                                                 url     created  \\\n",
       "0  https://www.reddit.com/r/Superstonks/comments/...  1617613228   \n",
       "1  https://www.reddit.com/r/Superstonks/comments/...  1617619355   \n",
       "\n",
       "                                            ext_link    id.1          body  \\\n",
       "0  https://www.reddit.com/r/Superstonks/comments/...  mkga8b  r/Superstonk   \n",
       "1  https://www.reddit.com/r/Superstonks/comments/...  mkhpr9       no_text   \n",
       "\n",
       "   ...  title_length  body_length title_EQ body_EQ hour day prime_time  \\\n",
       "0  ...             8            1        0       0    9   0          1   \n",
       "1  ...             1            1        0       0   10   0          1   \n",
       "\n",
       "  weekend month                                     feats_joined_w  \n",
       "0       0     4  zero zero eight one zero zero nine zero one ze...  \n",
       "1       0     4  three zero one one zero zero ten zero one zero...  \n",
       "\n",
       "[2 rows x 34 columns]"
      ]
     },
     "execution_count": 17,
     "metadata": {},
     "output_type": "execute_result"
    }
   ],
   "source": [
    "cols = ['title_emoji', 'body_emoji', 'title_length',\n",
    "        'body_length','title_EQ','body_EQ', 'hour',\n",
    "        'day', 'prime_time', 'weekend', 'month']\n",
    "\n",
    "df['feats_joined_w'] = df[cols].apply(convert_nums, axis=1)\n",
    "df.head(2)"
   ]
  },
  {
   "cell_type": "code",
   "execution_count": 18,
   "id": "d25a7054",
   "metadata": {},
   "outputs": [
    {
     "data": {
      "text/html": [
       "<div>\n",
       "<style scoped>\n",
       "    .dataframe tbody tr th:only-of-type {\n",
       "        vertical-align: middle;\n",
       "    }\n",
       "\n",
       "    .dataframe tbody tr th {\n",
       "        vertical-align: top;\n",
       "    }\n",
       "\n",
       "    .dataframe thead th {\n",
       "        text-align: right;\n",
       "    }\n",
       "</style>\n",
       "<table border=\"1\" class=\"dataframe\">\n",
       "  <thead>\n",
       "    <tr style=\"text-align: right;\">\n",
       "      <th></th>\n",
       "      <th>Unnamed: 0</th>\n",
       "      <th>id</th>\n",
       "      <th>subreddit</th>\n",
       "      <th>title</th>\n",
       "      <th>author</th>\n",
       "      <th>url</th>\n",
       "      <th>created</th>\n",
       "      <th>ext_link</th>\n",
       "      <th>id.1</th>\n",
       "      <th>body</th>\n",
       "      <th>...</th>\n",
       "      <th>title_EQ</th>\n",
       "      <th>body_EQ</th>\n",
       "      <th>hour</th>\n",
       "      <th>day</th>\n",
       "      <th>prime_time</th>\n",
       "      <th>weekend</th>\n",
       "      <th>month</th>\n",
       "      <th>feats_joined_w</th>\n",
       "      <th>join1</th>\n",
       "      <th>join2</th>\n",
       "    </tr>\n",
       "  </thead>\n",
       "  <tbody>\n",
       "    <tr>\n",
       "      <th>0</th>\n",
       "      <td>41437</td>\n",
       "      <td>mkga8b</td>\n",
       "      <td>Superstonks</td>\n",
       "      <td>The sub you are looking for is r/Superstonk</td>\n",
       "      <td>seppukkake</td>\n",
       "      <td>https://www.reddit.com/r/Superstonks/comments/...</td>\n",
       "      <td>1617613228</td>\n",
       "      <td>https://www.reddit.com/r/Superstonks/comments/...</td>\n",
       "      <td>mkga8b</td>\n",
       "      <td>r/Superstonk</td>\n",
       "      <td>...</td>\n",
       "      <td>0</td>\n",
       "      <td>0</td>\n",
       "      <td>9</td>\n",
       "      <td>0</td>\n",
       "      <td>1</td>\n",
       "      <td>0</td>\n",
       "      <td>4</td>\n",
       "      <td>zero zero eight one zero zero nine zero one ze...</td>\n",
       "      <td>superstonks r superstonk sub looking r superst...</td>\n",
       "      <td>superstonks r superstonk sub looking r superst...</td>\n",
       "    </tr>\n",
       "    <tr>\n",
       "      <th>1</th>\n",
       "      <td>41438</td>\n",
       "      <td>mkhpr9</td>\n",
       "      <td>Superstonks</td>\n",
       "      <td>https://www.reddit.com/r/Superstonk/</td>\n",
       "      <td>fairytalee20</td>\n",
       "      <td>https://www.reddit.com/r/Superstonks/comments/...</td>\n",
       "      <td>1617619355</td>\n",
       "      <td>https://www.reddit.com/r/Superstonks/comments/...</td>\n",
       "      <td>mkhpr9</td>\n",
       "      <td>no_text</td>\n",
       "      <td>...</td>\n",
       "      <td>0</td>\n",
       "      <td>0</td>\n",
       "      <td>10</td>\n",
       "      <td>0</td>\n",
       "      <td>1</td>\n",
       "      <td>0</td>\n",
       "      <td>4</td>\n",
       "      <td>three zero one one zero zero ten zero one zero...</td>\n",
       "      <td>superstonks no_text https www reddit com r sup...</td>\n",
       "      <td>superstonks no_text https www reddit com r sup...</td>\n",
       "    </tr>\n",
       "  </tbody>\n",
       "</table>\n",
       "<p>2 rows × 36 columns</p>\n",
       "</div>"
      ],
      "text/plain": [
       "   Unnamed: 0      id    subreddit  \\\n",
       "0       41437  mkga8b  Superstonks   \n",
       "1       41438  mkhpr9  Superstonks   \n",
       "\n",
       "                                         title        author  \\\n",
       "0  The sub you are looking for is r/Superstonk    seppukkake   \n",
       "1         https://www.reddit.com/r/Superstonk/  fairytalee20   \n",
       "\n",
       "                                                 url     created  \\\n",
       "0  https://www.reddit.com/r/Superstonks/comments/...  1617613228   \n",
       "1  https://www.reddit.com/r/Superstonks/comments/...  1617619355   \n",
       "\n",
       "                                            ext_link    id.1          body  \\\n",
       "0  https://www.reddit.com/r/Superstonks/comments/...  mkga8b  r/Superstonk   \n",
       "1  https://www.reddit.com/r/Superstonks/comments/...  mkhpr9       no_text   \n",
       "\n",
       "   ...  title_EQ  body_EQ hour day prime_time weekend month  \\\n",
       "0  ...         0        0    9   0          1       0     4   \n",
       "1  ...         0        0   10   0          1       0     4   \n",
       "\n",
       "                                      feats_joined_w  \\\n",
       "0  zero zero eight one zero zero nine zero one ze...   \n",
       "1  three zero one one zero zero ten zero one zero...   \n",
       "\n",
       "                                               join1  \\\n",
       "0  superstonks r superstonk sub looking r superst...   \n",
       "1  superstonks no_text https www reddit com r sup...   \n",
       "\n",
       "                                               join2  \n",
       "0  superstonks r superstonk sub looking r superst...  \n",
       "1  superstonks no_text https www reddit com r sup...  \n",
       "\n",
       "[2 rows x 36 columns]"
      ]
     },
     "execution_count": 18,
     "metadata": {},
     "output_type": "execute_result"
    }
   ],
   "source": [
    "df['join1'] = df['subreddit'].str.lower() + ' ' + df['body_title_and_author']\n",
    "df['join2'] = df['join1'] + ' '+ df['feats_joined_w']\n",
    "df.head(2)"
   ]
  },
  {
   "cell_type": "markdown",
   "id": "fe19e109",
   "metadata": {},
   "source": [
    "## Split data by data"
   ]
  },
  {
   "cell_type": "code",
   "execution_count": 19,
   "id": "12e32e99",
   "metadata": {},
   "outputs": [
    {
     "data": {
      "text/html": [
       "<div>\n",
       "<style scoped>\n",
       "    .dataframe tbody tr th:only-of-type {\n",
       "        vertical-align: middle;\n",
       "    }\n",
       "\n",
       "    .dataframe tbody tr th {\n",
       "        vertical-align: top;\n",
       "    }\n",
       "\n",
       "    .dataframe thead th {\n",
       "        text-align: right;\n",
       "    }\n",
       "</style>\n",
       "<table border=\"1\" class=\"dataframe\">\n",
       "  <thead>\n",
       "    <tr style=\"text-align: right;\">\n",
       "      <th></th>\n",
       "      <th>Unnamed: 0</th>\n",
       "      <th>id</th>\n",
       "      <th>subreddit</th>\n",
       "      <th>title</th>\n",
       "      <th>author</th>\n",
       "      <th>url</th>\n",
       "      <th>created</th>\n",
       "      <th>ext_link</th>\n",
       "      <th>id.1</th>\n",
       "      <th>body</th>\n",
       "      <th>...</th>\n",
       "      <th>hour</th>\n",
       "      <th>day</th>\n",
       "      <th>prime_time</th>\n",
       "      <th>weekend</th>\n",
       "      <th>month</th>\n",
       "      <th>feats_joined_w</th>\n",
       "      <th>join1</th>\n",
       "      <th>join2</th>\n",
       "      <th>posting_time</th>\n",
       "      <th>posting_month</th>\n",
       "    </tr>\n",
       "  </thead>\n",
       "  <tbody>\n",
       "    <tr>\n",
       "      <th>0</th>\n",
       "      <td>41437</td>\n",
       "      <td>mkga8b</td>\n",
       "      <td>Superstonks</td>\n",
       "      <td>The sub you are looking for is r/Superstonk</td>\n",
       "      <td>seppukkake</td>\n",
       "      <td>https://www.reddit.com/r/Superstonks/comments/...</td>\n",
       "      <td>1617613228</td>\n",
       "      <td>https://www.reddit.com/r/Superstonks/comments/...</td>\n",
       "      <td>mkga8b</td>\n",
       "      <td>r/Superstonk</td>\n",
       "      <td>...</td>\n",
       "      <td>9</td>\n",
       "      <td>0</td>\n",
       "      <td>1</td>\n",
       "      <td>0</td>\n",
       "      <td>4</td>\n",
       "      <td>zero zero eight one zero zero nine zero one ze...</td>\n",
       "      <td>superstonks r superstonk sub looking r superst...</td>\n",
       "      <td>superstonks r superstonk sub looking r superst...</td>\n",
       "      <td>2021-04-05 05:00:28</td>\n",
       "      <td>4</td>\n",
       "    </tr>\n",
       "    <tr>\n",
       "      <th>1</th>\n",
       "      <td>41438</td>\n",
       "      <td>mkhpr9</td>\n",
       "      <td>Superstonks</td>\n",
       "      <td>https://www.reddit.com/r/Superstonk/</td>\n",
       "      <td>fairytalee20</td>\n",
       "      <td>https://www.reddit.com/r/Superstonks/comments/...</td>\n",
       "      <td>1617619355</td>\n",
       "      <td>https://www.reddit.com/r/Superstonks/comments/...</td>\n",
       "      <td>mkhpr9</td>\n",
       "      <td>no_text</td>\n",
       "      <td>...</td>\n",
       "      <td>10</td>\n",
       "      <td>0</td>\n",
       "      <td>1</td>\n",
       "      <td>0</td>\n",
       "      <td>4</td>\n",
       "      <td>three zero one one zero zero ten zero one zero...</td>\n",
       "      <td>superstonks no_text https www reddit com r sup...</td>\n",
       "      <td>superstonks no_text https www reddit com r sup...</td>\n",
       "      <td>2021-04-05 06:42:35</td>\n",
       "      <td>4</td>\n",
       "    </tr>\n",
       "  </tbody>\n",
       "</table>\n",
       "<p>2 rows × 38 columns</p>\n",
       "</div>"
      ],
      "text/plain": [
       "   Unnamed: 0      id    subreddit  \\\n",
       "0       41437  mkga8b  Superstonks   \n",
       "1       41438  mkhpr9  Superstonks   \n",
       "\n",
       "                                         title        author  \\\n",
       "0  The sub you are looking for is r/Superstonk    seppukkake   \n",
       "1         https://www.reddit.com/r/Superstonk/  fairytalee20   \n",
       "\n",
       "                                                 url     created  \\\n",
       "0  https://www.reddit.com/r/Superstonks/comments/...  1617613228   \n",
       "1  https://www.reddit.com/r/Superstonks/comments/...  1617619355   \n",
       "\n",
       "                                            ext_link    id.1          body  \\\n",
       "0  https://www.reddit.com/r/Superstonks/comments/...  mkga8b  r/Superstonk   \n",
       "1  https://www.reddit.com/r/Superstonks/comments/...  mkhpr9       no_text   \n",
       "\n",
       "   ...  hour  day prime_time weekend month  \\\n",
       "0  ...     9    0          1       0     4   \n",
       "1  ...    10    0          1       0     4   \n",
       "\n",
       "                                      feats_joined_w  \\\n",
       "0  zero zero eight one zero zero nine zero one ze...   \n",
       "1  three zero one one zero zero ten zero one zero...   \n",
       "\n",
       "                                               join1  \\\n",
       "0  superstonks r superstonk sub looking r superst...   \n",
       "1  superstonks no_text https www reddit com r sup...   \n",
       "\n",
       "                                               join2        posting_time  \\\n",
       "0  superstonks r superstonk sub looking r superst... 2021-04-05 05:00:28   \n",
       "1  superstonks no_text https www reddit com r sup... 2021-04-05 06:42:35   \n",
       "\n",
       "  posting_month  \n",
       "0             4  \n",
       "1             4  \n",
       "\n",
       "[2 rows x 38 columns]"
      ]
     },
     "execution_count": 19,
     "metadata": {},
     "output_type": "execute_result"
    }
   ],
   "source": [
    "df['posting_time'] = df['created'].apply(datetime.datetime.fromtimestamp)\n",
    "df['posting_month'] = df['posting_time'].apply(lambda dd: dd.month)\n",
    "df.head(2)"
   ]
  },
  {
   "cell_type": "code",
   "execution_count": 20,
   "id": "9f77394f",
   "metadata": {},
   "outputs": [],
   "source": [
    "df = df[[\"posting_month\", \"join1\", \"join2\", \"popular\"]]"
   ]
  },
  {
   "cell_type": "code",
   "execution_count": 21,
   "id": "44f9ede7",
   "metadata": {},
   "outputs": [],
   "source": [
    "df_train = df[df['posting_month']<4]\n",
    "df_test  = df[df['posting_month']==4]"
   ]
  },
  {
   "cell_type": "code",
   "execution_count": 22,
   "id": "eb28743b",
   "metadata": {},
   "outputs": [
    {
     "name": "stdout",
     "output_type": "stream",
     "text": [
      "Training Shape: 99226,  Test shape: 27072\n"
     ]
    }
   ],
   "source": [
    "print (f\"Training Shape: {df_train.shape[0]},  Test shape: {df_test.shape[0]}\")"
   ]
  },
  {
   "cell_type": "code",
   "execution_count": 23,
   "id": "db904f84",
   "metadata": {},
   "outputs": [
    {
     "data": {
      "text/html": [
       "<div>\n",
       "<style scoped>\n",
       "    .dataframe tbody tr th:only-of-type {\n",
       "        vertical-align: middle;\n",
       "    }\n",
       "\n",
       "    .dataframe tbody tr th {\n",
       "        vertical-align: top;\n",
       "    }\n",
       "\n",
       "    .dataframe thead th {\n",
       "        text-align: right;\n",
       "    }\n",
       "</style>\n",
       "<table border=\"1\" class=\"dataframe\">\n",
       "  <thead>\n",
       "    <tr style=\"text-align: right;\">\n",
       "      <th></th>\n",
       "      <th>posting_month</th>\n",
       "      <th>join1</th>\n",
       "      <th>join2</th>\n",
       "      <th>popular</th>\n",
       "    </tr>\n",
       "  </thead>\n",
       "  <tbody>\n",
       "    <tr>\n",
       "      <th>120</th>\n",
       "      <td>1</td>\n",
       "      <td>finance no_text mogo establishes atm equity pr...</td>\n",
       "      <td>finance no_text mogo establishes atm equity pr...</td>\n",
       "      <td>0</td>\n",
       "    </tr>\n",
       "    <tr>\n",
       "      <th>121</th>\n",
       "      <td>1</td>\n",
       "      <td>finance no_text standard capital partners soli...</td>\n",
       "      <td>finance no_text standard capital partners soli...</td>\n",
       "      <td>0</td>\n",
       "    </tr>\n",
       "  </tbody>\n",
       "</table>\n",
       "</div>"
      ],
      "text/plain": [
       "     posting_month                                              join1  \\\n",
       "120              1  finance no_text mogo establishes atm equity pr...   \n",
       "121              1  finance no_text standard capital partners soli...   \n",
       "\n",
       "                                                 join2  popular  \n",
       "120  finance no_text mogo establishes atm equity pr...        0  \n",
       "121  finance no_text standard capital partners soli...        0  "
      ]
     },
     "execution_count": 23,
     "metadata": {},
     "output_type": "execute_result"
    }
   ],
   "source": [
    "df_train.head(2)"
   ]
  },
  {
   "cell_type": "code",
   "execution_count": 24,
   "id": "7d34aa50",
   "metadata": {},
   "outputs": [],
   "source": [
    "def check_distribution(df, ycol='popular'):\n",
    "    labels = df.groupby(ycol).count().iloc[:2,0].values\n",
    "    print (labels, np.round(100*labels/sum(labels), 2))"
   ]
  },
  {
   "cell_type": "code",
   "execution_count": 25,
   "id": "49f1e382",
   "metadata": {},
   "outputs": [
    {
     "name": "stdout",
     "output_type": "stream",
     "text": [
      "[126282   6640] [95.  5.]\n"
     ]
    }
   ],
   "source": [
    "check_distribution(df)"
   ]
  },
  {
   "cell_type": "code",
   "execution_count": 26,
   "id": "7fff35b3",
   "metadata": {},
   "outputs": [
    {
     "name": "stdout",
     "output_type": "stream",
     "text": [
      "[94780  4446] [95.52  4.48]\n"
     ]
    }
   ],
   "source": [
    "check_distribution(df_train)"
   ]
  },
  {
   "cell_type": "code",
   "execution_count": 27,
   "id": "468c1315",
   "metadata": {},
   "outputs": [
    {
     "name": "stdout",
     "output_type": "stream",
     "text": [
      "[25230  1842] [93.2  6.8]\n"
     ]
    }
   ],
   "source": [
    "check_distribution(df_test)"
   ]
  },
  {
   "cell_type": "code",
   "execution_count": null,
   "id": "d9064d99",
   "metadata": {},
   "outputs": [],
   "source": []
  },
  {
   "cell_type": "markdown",
   "id": "72884319",
   "metadata": {},
   "source": [
    "## Convert text to vector"
   ]
  },
  {
   "cell_type": "code",
   "execution_count": 28,
   "id": "a4fc40e6",
   "metadata": {},
   "outputs": [],
   "source": [
    "xcol = 'join2'\n",
    "ycol = 'popular'"
   ]
  },
  {
   "cell_type": "code",
   "execution_count": null,
   "id": "3121162a",
   "metadata": {},
   "outputs": [],
   "source": [
    "# MAX_WORDS   = 1000\n",
    "# tokenizer = Tokenizer(num_words=MAX_WORDS)\n",
    "# tokenizer.fit_on_texts(df_train[xcol])\n",
    "# X_train = tokenizer.texts_to_matrix(df_train[xcol])\n",
    "# X_test  = tokenizer.texts_to_matrix(df_test[xcol])"
   ]
  },
  {
   "cell_type": "code",
   "execution_count": 92,
   "id": "0849e157",
   "metadata": {},
   "outputs": [],
   "source": [
    "# y_train = df_train[ycol]\n",
    "# y_test  = df_test[ycol]"
   ]
  },
  {
   "cell_type": "code",
   "execution_count": 37,
   "id": "38a390e5",
   "metadata": {},
   "outputs": [],
   "source": [
    "from gensim.models import Word2Vec"
   ]
  },
  {
   "cell_type": "code",
   "execution_count": 38,
   "id": "201924e3",
   "metadata": {},
   "outputs": [],
   "source": [
    "from gensim.test.utils import common_texts\n",
    "model = Word2Vec(sentences = common_texts,\n",
    "                     vector_size=10,\n",
    "                     window=1, \n",
    "                     min_count=1)"
   ]
  },
  {
   "cell_type": "code",
   "execution_count": 39,
   "id": "e327a392",
   "metadata": {},
   "outputs": [
    {
     "data": {
      "text/plain": [
       "[['human', 'interface', 'computer'],\n",
       " ['survey', 'user', 'computer', 'system', 'response', 'time'],\n",
       " ['eps', 'user', 'interface', 'system'],\n",
       " ['system', 'human', 'system', 'eps'],\n",
       " ['user', 'response', 'time'],\n",
       " ['trees'],\n",
       " ['graph', 'trees'],\n",
       " ['graph', 'minors', 'trees'],\n",
       " ['graph', 'minors', 'survey']]"
      ]
     },
     "execution_count": 39,
     "metadata": {},
     "output_type": "execute_result"
    }
   ],
   "source": [
    "common_texts"
   ]
  },
  {
   "cell_type": "code",
   "execution_count": 40,
   "id": "932a1994",
   "metadata": {},
   "outputs": [
    {
     "data": {
      "text/plain": [
       "{'system': 0,\n",
       " 'graph': 1,\n",
       " 'trees': 2,\n",
       " 'user': 3,\n",
       " 'minors': 4,\n",
       " 'eps': 5,\n",
       " 'time': 6,\n",
       " 'response': 7,\n",
       " 'survey': 8,\n",
       " 'computer': 9,\n",
       " 'interface': 10,\n",
       " 'human': 11}"
      ]
     },
     "execution_count": 40,
     "metadata": {},
     "output_type": "execute_result"
    }
   ],
   "source": [
    "model.wv.key_to_index"
   ]
  },
  {
   "cell_type": "code",
   "execution_count": 41,
   "id": "96d79203",
   "metadata": {},
   "outputs": [],
   "source": [
    "# Now we'll calculate representations for our documents\n",
    "doc_embedding = np.zeros((len(common_texts),10))\n",
    "\n",
    "for i in range(len(common_texts)):\n",
    "    for word in common_texts[i]:\n",
    "        doc_embedding[i,:] = doc_embedding[i,:] + model.wv[word]/len(common_texts[i])"
   ]
  },
  {
   "cell_type": "code",
   "execution_count": 42,
   "id": "386fa100",
   "metadata": {},
   "outputs": [
    {
     "data": {
      "text/plain": [
       "array([[-0.02466105, -0.01504427,  0.01021254,  0.04354756,  0.06812997,\n",
       "         0.02039656, -0.00337396,  0.02178648, -0.01909228, -0.00114108],\n",
       "       [-0.0056582 ,  0.01831707,  0.02987248, -0.01321817, -0.00809442,\n",
       "         0.0015124 ,  0.03043401, -0.00679826, -0.02092893, -0.00303141],\n",
       "       [-0.06206357,  0.01866995,  0.03923655,  0.02064063,  0.01082371,\n",
       "        -0.04921004,  0.05039736,  0.0057547 , -0.02839702, -0.01322939],\n",
       "       [-0.02410149, -0.00850073,  0.00117402,  0.06486905, -0.01688685,\n",
       "        -0.02867532,  0.06058872,  0.04672439, -0.04342125,  0.00327489],\n",
       "       [-0.01211206,  0.02579124,  0.01314868, -0.08070244,  0.00176653,\n",
       "         0.00368167,  0.04876873, -0.00403882, -0.01778741, -0.03748705],\n",
       "       [ 0.07311766,  0.05070262,  0.06757693,  0.00762866,  0.06350889,\n",
       "        -0.03405366, -0.00946403,  0.05768573, -0.07521639, -0.03936105],\n",
       "       [ 0.07346135,  0.01768395,  0.01110539,  0.03658458,  0.00745364,\n",
       "        -0.02610692,  0.00965089,  0.03380224, -0.07903427, -0.06692462],\n",
       "       [ 0.01696214,  0.02848054, -0.02179543,  0.00975097,  0.00485059,\n",
       "        -0.01839244, -0.01910234,  0.05458477, -0.0360828 , -0.01383941],\n",
       "       [-0.01026598,  0.02100137, -0.0263156 ,  0.03071731, -0.03532969,\n",
       "        -0.00084532,  0.00434888,  0.01936212, -0.02136809,  0.02193973]])"
      ]
     },
     "execution_count": 42,
     "metadata": {},
     "output_type": "execute_result"
    }
   ],
   "source": [
    "doc_embedding "
   ]
  },
  {
   "cell_type": "code",
   "execution_count": 43,
   "id": "6061ab2b",
   "metadata": {},
   "outputs": [],
   "source": [
    "dfs = df.copy().sample(5000)"
   ]
  },
  {
   "cell_type": "code",
   "execution_count": 44,
   "id": "802a1ad6",
   "metadata": {},
   "outputs": [
    {
     "name": "stdout",
     "output_type": "stream",
     "text": [
      "(5000, 4)\n"
     ]
    },
    {
     "data": {
      "text/html": [
       "<div>\n",
       "<style scoped>\n",
       "    .dataframe tbody tr th:only-of-type {\n",
       "        vertical-align: middle;\n",
       "    }\n",
       "\n",
       "    .dataframe tbody tr th {\n",
       "        vertical-align: top;\n",
       "    }\n",
       "\n",
       "    .dataframe thead th {\n",
       "        text-align: right;\n",
       "    }\n",
       "</style>\n",
       "<table border=\"1\" class=\"dataframe\">\n",
       "  <thead>\n",
       "    <tr style=\"text-align: right;\">\n",
       "      <th></th>\n",
       "      <th>posting_month</th>\n",
       "      <th>join1</th>\n",
       "      <th>join2</th>\n",
       "      <th>popular</th>\n",
       "    </tr>\n",
       "  </thead>\n",
       "  <tbody>\n",
       "    <tr>\n",
       "      <th>103007</th>\n",
       "      <td>3</td>\n",
       "      <td>gme no_text good bot herrfolgreich</td>\n",
       "      <td>gme no_text good bot herrfolgreich one zero th...</td>\n",
       "      <td>0</td>\n",
       "    </tr>\n",
       "    <tr>\n",
       "      <th>9809</th>\n",
       "      <td>4</td>\n",
       "      <td>options no_text major difference contracts mak...</td>\n",
       "      <td>options no_text major difference contracts mak...</td>\n",
       "      <td>0</td>\n",
       "    </tr>\n",
       "  </tbody>\n",
       "</table>\n",
       "</div>"
      ],
      "text/plain": [
       "        posting_month                                              join1  \\\n",
       "103007              3                 gme no_text good bot herrfolgreich   \n",
       "9809                4  options no_text major difference contracts mak...   \n",
       "\n",
       "                                                    join2  popular  \n",
       "103007  gme no_text good bot herrfolgreich one zero th...        0  \n",
       "9809    options no_text major difference contracts mak...        0  "
      ]
     },
     "execution_count": 44,
     "metadata": {},
     "output_type": "execute_result"
    }
   ],
   "source": [
    "print ( dfs.shape )\n",
    "dfs.head(2)"
   ]
  },
  {
   "cell_type": "code",
   "execution_count": 45,
   "id": "87ce552a",
   "metadata": {},
   "outputs": [],
   "source": [
    "xcol = 'join2'\n",
    "ycol = 'popular'"
   ]
  },
  {
   "cell_type": "code",
   "execution_count": 46,
   "id": "e8fb8d43",
   "metadata": {},
   "outputs": [],
   "source": [
    "from gensim.models import Word2Vec"
   ]
  },
  {
   "cell_type": "code",
   "execution_count": 47,
   "id": "248b1fe7",
   "metadata": {},
   "outputs": [
    {
     "data": {
      "text/plain": [
       "2976"
      ]
     },
     "execution_count": 47,
     "metadata": {},
     "output_type": "execute_result"
    }
   ],
   "source": [
    "#max(len(s.split)\n",
    "max([len(s.split()) for s in dfs[xcol].values])"
   ]
  },
  {
   "cell_type": "code",
   "execution_count": 48,
   "id": "a7ed0f13",
   "metadata": {},
   "outputs": [],
   "source": [
    "model = Word2Vec(sentences = dfs[xcol].values,\n",
    "                 vector_size=1000,\n",
    "                 window=5, \n",
    "                 min_count=5)"
   ]
  },
  {
   "cell_type": "code",
   "execution_count": 49,
   "id": "d0feb9d7",
   "metadata": {},
   "outputs": [
    {
     "data": {
      "text/plain": [
       "(5000, 4)"
      ]
     },
     "execution_count": 49,
     "metadata": {},
     "output_type": "execute_result"
    }
   ],
   "source": [
    "dfs.shape"
   ]
  },
  {
   "cell_type": "code",
   "execution_count": null,
   "id": "2f60c233",
   "metadata": {},
   "outputs": [],
   "source": [
    "# Now we'll calculate representations for our documents\n",
    "doc_embedding = np.zeros((dfs.shape[0], 1000))\n",
    "\n",
    "for i in range(dfs.shape[0]):\n",
    "    for word in dfs[xcol].values[i]:\n",
    "        doc_embedding[i,:] = doc_embedding[i,:] + model.wv[word]/len(common_texts[i])"
   ]
  },
  {
   "cell_type": "code",
   "execution_count": 54,
   "id": "a9a68266",
   "metadata": {},
   "outputs": [
    {
     "data": {
      "text/plain": [
       "363"
      ]
     },
     "execution_count": 54,
     "metadata": {},
     "output_type": "execute_result"
    }
   ],
   "source": [
    "len(dfs[xcol].values[ii])"
   ]
  },
  {
   "cell_type": "code",
   "execution_count": 58,
   "id": "ec689674",
   "metadata": {},
   "outputs": [
    {
     "name": "stdout",
     "output_type": "stream",
     "text": [
      "(5000, 1000)\n"
     ]
    }
   ],
   "source": [
    "doc_embedding = np.zeros((dfs.shape[0], 1000))\n",
    "\n",
    "for i in range(dfs.shape[0]):    \n",
    "    for w in dfs[xcol].values[i]:\n",
    "        dd = model.wv[w]/dfs.shape[0]\n",
    "        doc_embedding[i,:] = doc_embedding[i,:] + dd\n",
    "print (doc_embedding.shape)"
   ]
  },
  {
   "cell_type": "code",
   "execution_count": 59,
   "id": "67ce3851",
   "metadata": {},
   "outputs": [
    {
     "data": {
      "text/plain": [
       "array([ 4.88314822e-03,  2.13508764e-04,  3.22432449e-03,  4.74439269e-03,\n",
       "        1.20454345e-03,  2.36972943e-03, -2.15556575e-03, -9.58131658e-04,\n",
       "       -2.63303197e-03,  1.17626465e-03, -1.97666783e-04, -4.34063837e-03,\n",
       "       -2.69609265e-03,  2.18621433e-03,  3.74069809e-03,  4.77372602e-03,\n",
       "        1.85622595e-03,  3.21130560e-03,  4.96500622e-04,  7.43910501e-04,\n",
       "        6.49321405e-04,  6.84775473e-04, -6.49831772e-04,  1.63448331e-03,\n",
       "       -3.35891356e-03, -5.44886225e-05,  3.67296605e-04, -1.16905263e-03,\n",
       "       -1.06073254e-03,  4.35026758e-04, -1.35343670e-03, -7.24015128e-04,\n",
       "       -1.15132347e-03,  3.04477693e-03,  1.77225647e-03,  4.01269660e-04,\n",
       "        6.59990882e-04, -1.13402149e-03, -1.04573051e-03, -5.70056216e-04,\n",
       "        2.47196268e-03, -2.43866841e-03,  1.08389987e-03,  1.16783833e-03,\n",
       "       -5.68421416e-04,  2.96085160e-03,  8.16255638e-04, -2.31088179e-03,\n",
       "       -7.45136201e-04, -2.56346729e-03, -1.21147929e-03,  2.46562036e-03,\n",
       "        1.47309496e-03, -1.38620634e-03,  4.31176446e-04, -3.60580259e-04,\n",
       "       -1.94149452e-05, -1.61059307e-04,  1.81114068e-04, -2.75725919e-03,\n",
       "       -1.62106233e-03,  1.12217830e-03, -1.09828000e-04,  6.63516720e-04,\n",
       "        2.38199595e-03, -4.89598422e-04, -1.64310057e-04,  3.67343341e-05,\n",
       "       -1.18233692e-03,  2.12812746e-03, -7.81540851e-04, -1.71026598e-03,\n",
       "       -1.14639290e-04, -5.94707413e-05,  8.42129328e-04,  1.68940090e-03,\n",
       "        4.05655710e-04, -6.92473956e-04,  3.57716725e-04,  4.56765544e-05,\n",
       "        1.27450592e-03, -5.64396604e-04, -2.27976122e-05,  1.02101674e-03,\n",
       "       -9.03358089e-04,  1.80958659e-04, -1.34661354e-04,  2.09551134e-03,\n",
       "       -7.38452632e-04, -3.30374139e-04,  9.90597592e-04, -8.55132187e-04,\n",
       "        9.83627654e-05,  3.37864615e-04,  7.10407267e-06, -5.85295647e-04,\n",
       "       -6.47967045e-04,  2.31003736e-04,  8.91955419e-04,  3.95510078e-04,\n",
       "        7.32079655e-04,  1.09070637e-03, -2.28139655e-03, -7.36538477e-04,\n",
       "       -1.21608575e-03, -9.15058989e-04, -7.60791090e-06, -2.99383709e-04,\n",
       "       -3.94971568e-05, -3.73931293e-04, -1.07482076e-03,  1.74817231e-05,\n",
       "        2.76267065e-06, -1.10949552e-03,  9.38285717e-05,  1.62104598e-04,\n",
       "       -2.66034140e-04, -5.43760662e-04,  2.13115848e-04, -1.48490636e-03,\n",
       "        1.96592852e-03,  1.44827542e-03, -4.49353360e-04,  1.18402230e-03,\n",
       "       -7.23633463e-04,  7.60265333e-04, -1.20340449e-04,  3.57731409e-04,\n",
       "        5.39048195e-04, -8.72776528e-04, -4.01763782e-04, -1.31887359e-04,\n",
       "       -6.82392338e-04,  1.63586831e-03,  1.76901565e-05, -5.36830011e-04,\n",
       "        1.37324292e-03,  4.47215443e-04,  4.06249570e-04, -3.27866627e-04,\n",
       "       -4.01264776e-04,  1.58186309e-04, -7.87037341e-04, -3.36587871e-04,\n",
       "        6.86724694e-04, -3.07795978e-04,  5.86863511e-04,  1.26645987e-03,\n",
       "        2.82696469e-04,  1.12767729e-03, -1.85119618e-04, -6.02375818e-04,\n",
       "        5.86743217e-05, -8.36492840e-04,  1.16934275e-03,  1.41681122e-04,\n",
       "        2.11952871e-04, -1.69923068e-03, -1.91330123e-04,  1.98929656e-03,\n",
       "       -7.25198042e-04,  1.02869247e-03,  6.51505881e-04, -7.94076197e-04,\n",
       "       -1.49730777e-03,  1.42712986e-03, -8.40282050e-04,  1.38629814e-03,\n",
       "       -5.55417064e-04, -3.18817240e-04,  3.77022141e-04,  1.30411306e-03,\n",
       "        3.36576207e-04,  7.77998007e-05, -1.40990744e-03,  7.24384471e-04,\n",
       "       -2.28669566e-04,  1.04616190e-04, -4.47264675e-04,  8.76278237e-04,\n",
       "        8.75031207e-04,  1.24855868e-04, -3.07574979e-04,  1.52700074e-03,\n",
       "        7.86983014e-04,  1.76049128e-04, -6.50610527e-04,  6.71160826e-04,\n",
       "       -9.24586592e-04, -3.54853492e-04, -3.41998517e-04, -4.05420808e-04,\n",
       "       -1.04854954e-03,  4.41720631e-05,  1.94599260e-04, -4.52032691e-04,\n",
       "        1.35423640e-03,  3.10846902e-04,  1.26157099e-03, -6.39582726e-05,\n",
       "       -6.65880403e-04, -1.33141215e-03,  5.17421380e-04,  1.14095232e-04,\n",
       "        1.17439845e-03, -1.04443734e-03,  3.78842383e-04, -6.17238792e-04,\n",
       "        2.04099711e-04,  5.66034438e-04,  9.37896192e-05, -3.33195358e-05,\n",
       "       -7.38812534e-04,  1.29639941e-03, -5.74854050e-04, -4.30301684e-04,\n",
       "       -9.50220082e-05,  2.39415541e-04,  3.72894625e-04, -1.10877332e-03,\n",
       "       -2.11700769e-04,  8.06554190e-05,  4.89346773e-04,  1.23677464e-03,\n",
       "       -7.21187285e-04,  4.69432875e-04, -4.20259742e-04,  4.56485143e-04,\n",
       "        1.15897644e-03,  9.56126797e-04,  2.81446454e-04,  6.67024263e-04,\n",
       "       -4.93182140e-04,  1.10276356e-03, -1.26608183e-03, -6.79958490e-04,\n",
       "       -8.31677337e-04, -1.15226134e-03, -1.02970006e-03,  5.52984113e-05,\n",
       "       -9.32560910e-04, -4.14412455e-04, -6.27150989e-04,  5.85487161e-04,\n",
       "       -1.19435167e-04, -5.79079664e-04,  3.85948046e-04, -4.89643512e-04,\n",
       "        5.56913982e-04, -2.85716030e-05,  2.71970882e-04,  5.68614871e-04,\n",
       "        6.40857467e-04, -6.30309289e-04, -2.80684377e-04,  2.97202802e-04,\n",
       "        1.64034783e-04,  4.40954783e-04,  1.20040120e-03, -9.27406685e-04,\n",
       "        2.16834105e-04, -1.53839605e-04, -6.21498527e-04,  8.68451091e-04,\n",
       "        2.57577647e-04,  3.96408956e-04, -1.57307145e-04,  6.71835744e-04,\n",
       "       -6.64998945e-04,  1.55104125e-04, -1.69993138e-04, -5.09034165e-05,\n",
       "       -5.97296701e-04,  5.63052981e-04, -1.79479918e-04, -2.55561970e-04,\n",
       "        1.04940173e-03, -5.67846578e-04, -9.60097177e-05, -2.31716646e-05,\n",
       "        3.14424376e-04,  1.04923545e-03, -6.09000644e-04,  2.43832583e-04,\n",
       "       -3.64515798e-04, -1.44370409e-03,  5.35529995e-04, -1.54066330e-03,\n",
       "       -2.36701742e-04, -1.04623602e-03,  4.65223083e-05, -6.21654890e-04,\n",
       "       -1.98227637e-04, -3.07655396e-04, -9.58755595e-06,  4.03726170e-04,\n",
       "       -9.18029925e-05, -5.00124471e-04,  2.92929750e-04,  1.27143030e-03,\n",
       "       -2.75081772e-04,  7.34591340e-04, -2.72388623e-04, -2.35388091e-04,\n",
       "       -5.40001057e-04, -4.50197455e-04, -6.58184220e-04, -9.74659350e-04,\n",
       "        2.83525217e-04, -2.81147855e-04,  1.93650855e-04, -6.22698650e-04,\n",
       "        1.20410522e-04, -3.19594902e-04,  2.75972002e-04, -4.67338267e-04,\n",
       "       -5.25983950e-04, -3.64297259e-04, -8.81524582e-05, -7.00342445e-04,\n",
       "        1.60726635e-03,  4.52707946e-04, -1.29351680e-04, -8.20281061e-04,\n",
       "       -5.44939690e-04,  2.43318548e-05,  2.89229221e-04, -5.11493330e-04,\n",
       "       -3.38426568e-05, -4.36596013e-04, -2.68944322e-04, -1.99256213e-04,\n",
       "       -4.77104011e-04,  2.16419163e-04, -6.61776140e-04, -8.91033563e-04,\n",
       "       -1.69320377e-03,  3.88896501e-06,  1.08023166e-03, -1.56386743e-03,\n",
       "        7.32628581e-04,  7.88289076e-04, -2.24574859e-04, -1.07012374e-03,\n",
       "        2.55566639e-04, -7.10856788e-04, -6.81728984e-04, -5.20371191e-04,\n",
       "        9.27227028e-04, -2.71904200e-04, -3.52414846e-04,  4.04756963e-04,\n",
       "       -4.57852392e-04,  1.01629457e-03, -1.18153259e-03,  1.27651263e-03,\n",
       "       -7.56568169e-04, -9.66223566e-04, -2.79305850e-04, -1.11821164e-04,\n",
       "        1.14333257e-04,  1.76154824e-03, -5.74679099e-04, -2.87177173e-04,\n",
       "        4.92938551e-05, -7.45566833e-04,  8.60534111e-04, -5.13889064e-04,\n",
       "        4.52488097e-04,  3.07063343e-05, -5.27841788e-04, -6.53061337e-04,\n",
       "       -1.82469611e-03,  5.58938503e-04, -4.55307439e-04,  1.60361804e-03,\n",
       "       -3.99466815e-05,  1.19955913e-03, -2.93495342e-04,  6.49109461e-04,\n",
       "        8.95790633e-04,  9.25228650e-04, -5.53318171e-04,  4.52903975e-04,\n",
       "       -3.51447856e-04, -2.07079489e-03,  1.82717332e-05,  1.06651110e-03,\n",
       "        5.29328459e-04, -1.13127718e-03, -3.47342980e-05,  6.06476634e-04,\n",
       "       -9.36180836e-04, -8.02739465e-04,  7.38641274e-05, -6.37959599e-05,\n",
       "        2.82606508e-03,  1.03950661e-04, -1.12184025e-03,  9.44609618e-04,\n",
       "        1.30792712e-03,  1.01116362e-03, -1.33874965e-03, -6.81598663e-04,\n",
       "        3.73785187e-04, -8.45287349e-04,  5.45076173e-04,  1.49302370e-03,\n",
       "       -9.93272954e-04, -8.52374543e-04,  3.38096976e-04, -6.24578273e-04,\n",
       "        2.76002407e-04,  5.08722780e-04, -4.04683535e-04, -3.45282711e-04,\n",
       "        8.02317961e-04,  1.15193686e-03, -3.08687086e-04, -1.39498453e-03,\n",
       "        1.03631256e-03, -1.05050554e-03, -9.50257401e-04,  1.37289111e-03,\n",
       "       -1.69877906e-03, -9.90741448e-04, -3.86400801e-05,  7.53626848e-05,\n",
       "       -6.45049745e-04,  1.78419476e-03, -1.04001608e-03,  1.00440172e-03,\n",
       "       -9.94140887e-04, -1.41731298e-03,  2.57253770e-04, -2.78717929e-04,\n",
       "        9.74813551e-04, -1.03119982e-03,  1.15275239e-04,  1.14142901e-03,\n",
       "       -1.01955754e-04, -1.09394152e-03,  1.23123048e-03,  6.72554209e-04,\n",
       "        1.21561088e-03, -4.34046743e-04,  8.88931652e-04, -1.36837606e-04,\n",
       "        1.68632353e-04,  3.30871996e-04,  1.58686797e-04,  3.10817985e-04,\n",
       "        1.41246820e-03, -5.47820118e-04, -2.33147829e-04, -6.10854074e-05,\n",
       "        1.03621678e-03, -7.28391548e-05,  1.40425663e-03,  7.23792540e-04,\n",
       "        1.96473236e-04,  6.65189616e-04, -1.55757768e-03, -1.43735711e-04,\n",
       "        5.45427794e-04,  5.57444244e-04,  1.80663474e-04, -6.34732608e-04,\n",
       "       -6.89250247e-04, -2.13318855e-04, -6.84528662e-04, -1.33577489e-03,\n",
       "       -1.55080382e-04, -9.05580806e-04, -9.90844313e-04,  2.67216666e-04,\n",
       "        7.49887546e-04,  3.21556793e-04, -6.06076781e-04, -9.35075196e-04,\n",
       "       -8.76973884e-04, -5.00668101e-04,  4.71778955e-04, -1.74355635e-03,\n",
       "        2.81268358e-04,  1.25733069e-03,  2.53161339e-04, -1.85256534e-04,\n",
       "        1.99162330e-03, -1.34467634e-03, -1.08251904e-04, -1.00790623e-04,\n",
       "       -1.05559490e-04,  1.48918248e-03, -6.41302562e-04,  6.42815161e-04,\n",
       "        6.87704815e-04, -1.15439832e-03,  4.07316881e-04,  7.70727456e-06,\n",
       "       -4.64018740e-04,  5.18171140e-04,  3.20848449e-04,  1.96527237e-03,\n",
       "        9.50996045e-04,  8.45740781e-04, -9.56403213e-05, -1.35240737e-04,\n",
       "        3.76563871e-04,  4.54504594e-04,  8.50501293e-04, -1.83072532e-03,\n",
       "       -1.70799240e-04,  1.82215089e-04, -1.14670092e-04, -4.14665472e-04,\n",
       "        2.10462600e-04, -9.20883082e-04, -5.28472090e-04,  1.04207511e-04,\n",
       "       -7.76622461e-04, -8.36874435e-05, -8.38864975e-04,  8.21648208e-04,\n",
       "       -5.63609237e-04,  2.70748003e-04,  5.98966949e-04,  3.61993030e-04,\n",
       "        2.21972444e-04, -2.11685938e-03, -6.71540921e-04,  1.24988670e-03,\n",
       "       -6.25127228e-05,  8.53090380e-04, -1.19019096e-05,  1.06916239e-04,\n",
       "        2.44499821e-04, -2.77532863e-04,  7.97871006e-04,  5.12829184e-04,\n",
       "        1.12569329e-04,  3.93183452e-04, -1.39355167e-04, -5.65147336e-04,\n",
       "       -7.90346946e-04, -3.55006958e-04, -7.34799286e-05, -2.18301420e-04,\n",
       "        1.88950629e-04,  7.32206277e-04,  2.21404017e-04,  1.00503701e-03,\n",
       "        7.25982396e-04,  9.82474835e-04,  4.73563950e-04,  2.18519512e-04,\n",
       "       -7.81365067e-04, -4.40395278e-04,  1.66696795e-04,  1.12417852e-03,\n",
       "        4.88911211e-04, -7.90204144e-04, -6.12170668e-05,  1.14132390e-03,\n",
       "        1.62893668e-04, -2.11003633e-05,  2.35745905e-04,  6.73256445e-04,\n",
       "        1.18334923e-03,  4.06845445e-04,  4.23667836e-04,  4.14569469e-04,\n",
       "       -3.36131653e-04,  8.73141876e-04,  8.26083069e-05, -7.11819681e-05,\n",
       "       -1.18370226e-03, -1.03778993e-04,  7.39969315e-05, -3.23722020e-05,\n",
       "        4.35628931e-04,  5.48443828e-04,  4.40186803e-04, -9.93293820e-04,\n",
       "       -8.08613709e-04,  6.42476317e-04, -6.42683244e-04,  2.16194452e-04,\n",
       "        8.51692538e-04,  2.08315306e-05,  5.30878597e-04,  8.13784777e-04,\n",
       "        5.07068241e-04,  5.97272666e-04, -8.08644735e-04, -6.86453846e-04,\n",
       "        6.77002213e-04,  5.09811759e-04, -5.86317756e-04, -2.10206618e-05,\n",
       "        4.92768322e-04, -1.57715830e-04, -5.16177238e-04,  1.85140860e-04,\n",
       "        1.02803523e-03, -1.25117826e-04,  2.41835235e-04,  6.89947097e-04,\n",
       "       -8.92349244e-05, -2.08181142e-04, -5.52416229e-04, -8.94062085e-04,\n",
       "       -1.09528028e-03,  6.35468668e-04, -1.87380987e-03,  1.44928951e-03,\n",
       "       -3.20431362e-04, -8.33127815e-04, -1.56049384e-05, -9.41427412e-04,\n",
       "       -5.90845295e-05, -4.03059009e-04, -1.54086697e-04, -1.19120757e-03,\n",
       "        3.81540533e-04,  9.24699702e-04, -2.04804218e-03, -2.03817809e-04,\n",
       "        2.49696708e-04,  2.98467747e-04,  1.28893868e-03,  1.70294679e-03,\n",
       "       -8.04488451e-04,  4.64599391e-05, -9.13541442e-07,  1.53786717e-03,\n",
       "       -1.87627859e-04, -7.49256171e-04, -1.82879137e-03, -2.63691932e-03,\n",
       "        2.85537971e-05, -4.85196796e-04,  1.13980675e-04,  1.72141646e-04,\n",
       "        1.29674894e-03,  9.38026826e-04, -4.21200566e-05, -2.04659857e-03,\n",
       "        3.64517655e-04, -3.01699759e-04, -1.01111658e-03, -1.55991927e-04,\n",
       "        1.46582869e-03,  5.53262703e-04,  7.98591736e-04, -9.25886811e-05,\n",
       "        4.74278146e-05, -8.43581417e-04, -2.01661695e-03,  5.81869976e-04,\n",
       "        1.00812202e-03,  1.82968142e-04,  6.10830888e-04,  2.69214700e-04,\n",
       "       -4.12273097e-04,  1.91197867e-05,  5.50996166e-04,  4.05662455e-05,\n",
       "       -3.89909989e-05,  1.17493030e-03,  1.98396789e-04, -1.12991972e-04,\n",
       "       -3.25848126e-04, -9.44131065e-05, -9.33976590e-05, -1.01904890e-04,\n",
       "        1.46439242e-04, -2.19107651e-04, -2.51197922e-04, -8.66842310e-05,\n",
       "       -9.04691874e-04,  2.17201762e-04, -9.05845549e-05,  4.47227965e-04,\n",
       "       -1.01548259e-03,  4.74555886e-04,  5.70355194e-05, -1.79232719e-04,\n",
       "        8.43558446e-04, -2.40853365e-04, -5.90922700e-05,  5.12792255e-04,\n",
       "        8.93093735e-04,  6.09414556e-04,  7.23004893e-04,  3.80424690e-05,\n",
       "       -1.06240443e-03, -9.70330186e-04, -1.36086336e-04, -2.46394737e-05,\n",
       "       -4.76694207e-04, -9.70557143e-05, -1.51949730e-03,  3.30673319e-04,\n",
       "        5.70972632e-04, -4.46607260e-04,  1.06762004e-03, -1.81799205e-04,\n",
       "       -1.00981239e-03,  5.57752583e-04,  5.46244492e-04, -2.12524511e-04,\n",
       "        3.46051732e-04, -4.11585637e-04, -3.01152448e-04, -1.52500932e-03,\n",
       "        9.05817421e-04, -6.32080708e-04,  5.10036743e-04, -9.31410731e-04,\n",
       "        1.09066509e-04, -1.06711459e-04,  5.12825400e-05, -8.82404969e-04,\n",
       "       -1.03321591e-03,  6.36480129e-04,  1.24209651e-03, -9.01686220e-04,\n",
       "       -9.92972164e-04,  2.83048843e-05,  1.30391218e-03, -5.91260275e-04,\n",
       "       -1.29102087e-03, -3.60843825e-04, -4.37054944e-04,  7.27808932e-04,\n",
       "       -6.21515592e-04, -8.81916444e-05,  1.29048282e-03,  4.15489583e-04,\n",
       "       -2.90943689e-04, -4.11932798e-04,  4.96767272e-04,  8.68551877e-04,\n",
       "       -2.82198124e-04,  1.27157946e-03,  5.16595765e-04,  1.45015606e-04,\n",
       "        4.50638983e-04, -1.17814999e-03, -1.60733591e-04,  8.96656103e-04,\n",
       "       -4.54267768e-04,  2.27943634e-04, -6.98985764e-04,  1.24592147e-03,\n",
       "       -1.10930081e-04,  8.41096686e-04, -1.03189479e-03, -1.94422322e-04,\n",
       "       -2.21509461e-04, -4.21798517e-04, -6.36831136e-04,  4.54614836e-04,\n",
       "        1.31317198e-03, -1.63551600e-04, -2.60726833e-04, -1.25930957e-03,\n",
       "        1.16227593e-03,  7.23845036e-04, -1.34858223e-05, -2.94249295e-04,\n",
       "       -7.17797867e-04,  9.01256564e-04, -1.58614762e-04, -3.16287085e-05,\n",
       "        3.24786396e-04,  7.48418870e-05,  1.02385348e-04,  1.18364537e-03,\n",
       "       -8.22821088e-04, -2.23731092e-04,  1.20013302e-03,  4.77000492e-04,\n",
       "        8.81471969e-05,  6.85291300e-04, -3.02507854e-04,  5.36391403e-04,\n",
       "        4.74819486e-04,  7.34472396e-04, -6.37283570e-04,  4.94160385e-04,\n",
       "        4.72969022e-04,  1.40587111e-04, -6.45775448e-04, -6.27568487e-05,\n",
       "       -6.48014085e-04, -2.84390095e-05, -3.44184006e-04, -3.55702808e-04,\n",
       "       -2.40733025e-04, -7.37716731e-04, -1.27010429e-03,  3.70804850e-04,\n",
       "        1.01813383e-03, -2.39253622e-04, -7.80855776e-04,  1.31883308e-03,\n",
       "        1.14528017e-04, -1.96391099e-04, -8.65127304e-04, -4.07499689e-04,\n",
       "       -2.35182877e-04, -1.28416721e-03, -3.25511948e-04, -6.44275722e-04,\n",
       "        4.65697819e-04,  3.88797068e-04,  4.88251309e-04,  1.28245292e-04,\n",
       "        2.25664109e-04, -4.68632103e-04, -1.50079330e-03, -9.42708758e-04,\n",
       "        1.67863974e-04, -6.86428365e-04, -4.95470293e-04,  4.25280836e-04,\n",
       "        1.77220760e-04,  6.62288490e-04,  7.62735238e-04, -3.48175407e-04,\n",
       "       -1.79182054e-04, -6.32333512e-04,  4.30767126e-04, -4.32967897e-04,\n",
       "        8.35579338e-04, -1.22614701e-04, -5.16614633e-04,  7.40451721e-04,\n",
       "       -3.44360862e-04, -3.82738373e-04,  8.38370979e-04,  5.98841495e-04,\n",
       "       -4.00441067e-04,  3.93197313e-04,  3.51592456e-04, -4.29363834e-04,\n",
       "       -5.90193819e-04, -3.30225518e-05, -2.11813130e-04, -8.20946757e-04,\n",
       "       -2.04437110e-05, -1.31829833e-04,  4.35564903e-05,  9.06392304e-04,\n",
       "        1.06044682e-03, -1.95028847e-03,  2.77010553e-04,  1.57316605e-04,\n",
       "       -1.27242201e-03,  7.80444197e-04, -3.45609757e-04, -1.28238986e-03,\n",
       "       -8.99135353e-04, -3.14867425e-04,  1.99260656e-03,  3.23542333e-03,\n",
       "       -1.73279697e-03,  2.80986030e-03,  1.26663268e-03,  1.73565309e-03,\n",
       "        1.95256664e-03, -1.74655261e-03,  6.88563510e-04, -2.43925985e-03,\n",
       "       -1.70623161e-03, -5.29742397e-04, -2.11982568e-03, -1.47723094e-03,\n",
       "        1.57301562e-03, -2.05250204e-03, -1.27968334e-03,  1.68488631e-03,\n",
       "        4.60896792e-04,  1.10237578e-04, -3.00369135e-04,  2.42961463e-04,\n",
       "       -8.75884254e-04, -1.31241351e-03,  1.00267338e-03,  1.01365936e-03,\n",
       "       -3.08795724e-04,  3.11160142e-04,  2.06118504e-03,  1.57766882e-03,\n",
       "       -2.70557953e-04,  1.44270528e-04,  5.06905187e-04,  1.98783895e-04,\n",
       "        1.94137972e-04,  1.00586503e-03,  5.98349273e-04,  3.66381274e-04,\n",
       "       -2.11483220e-04,  3.78058712e-04,  4.52886883e-04,  6.18736236e-04,\n",
       "       -5.94222321e-04,  1.98436616e-05, -5.19208711e-04,  2.87809025e-04,\n",
       "        1.29011917e-03,  7.53089040e-04, -2.19047819e-04,  4.59814649e-04,\n",
       "       -5.90218862e-04, -5.31662613e-04, -1.63952741e-03, -1.71997909e-04,\n",
       "       -5.40683550e-04,  1.06508116e-03, -1.52969257e-03, -1.03369944e-04,\n",
       "       -9.31173074e-06,  1.43297822e-03,  1.06242269e-03, -3.06560134e-04,\n",
       "        4.63542349e-04,  4.90911407e-04, -1.31102267e-03, -5.38016532e-04,\n",
       "        2.65968526e-04, -8.20819160e-05, -1.69666451e-03,  8.96495911e-04,\n",
       "        1.63381951e-03, -9.12883020e-05,  6.12313910e-04, -1.33348117e-03,\n",
       "        8.02602446e-04, -1.99251712e-03,  3.43515681e-04, -2.82647642e-04,\n",
       "        6.32172616e-04, -9.46512376e-04,  7.43303176e-04,  7.10156377e-04,\n",
       "       -4.61933101e-04, -1.36322036e-03, -9.59612489e-05,  1.97967827e-04,\n",
       "        1.21155648e-03, -1.39569810e-03,  6.44648153e-04, -1.08972571e-03,\n",
       "        3.78498141e-04,  7.39106422e-04, -9.82530679e-04, -1.10700518e-03,\n",
       "       -4.29565517e-04, -1.54061668e-03, -2.73851494e-04,  6.79976335e-04,\n",
       "       -1.45561143e-04, -1.63337549e-04,  5.04308651e-04, -3.12627202e-04,\n",
       "       -1.86404148e-03, -1.55107428e-04,  5.24382919e-04,  1.69648068e-03,\n",
       "       -3.99810945e-04, -1.76944368e-03,  1.60744202e-03,  1.38068261e-03,\n",
       "        2.39094356e-05,  3.38575787e-03, -8.24853803e-04, -1.07183855e-03,\n",
       "        5.72239225e-05, -4.04090916e-04, -1.68490611e-03,  1.77956432e-03,\n",
       "        3.08884195e-03, -4.79042122e-04, -8.10735256e-04,  5.29441509e-04,\n",
       "        1.65769777e-04,  1.19158639e-03, -8.26214322e-04,  2.14436382e-03,\n",
       "       -1.13568216e-04,  2.41012168e-03, -9.55533030e-04,  1.33884090e-04,\n",
       "       -2.55467753e-03,  1.91862772e-04,  2.22503196e-03,  1.50053271e-03])"
      ]
     },
     "execution_count": 59,
     "metadata": {},
     "output_type": "execute_result"
    }
   ],
   "source": [
    "doc_embedding[12]"
   ]
  },
  {
   "cell_type": "code",
   "execution_count": 61,
   "id": "a1722784",
   "metadata": {},
   "outputs": [
    {
     "data": {
      "text/plain": [
       "array([0, 0, 0, ..., 0, 1, 1])"
      ]
     },
     "execution_count": 61,
     "metadata": {},
     "output_type": "execute_result"
    }
   ],
   "source": [
    "dfs[ycol].values"
   ]
  },
  {
   "cell_type": "code",
   "execution_count": null,
   "id": "e9eb9aad",
   "metadata": {},
   "outputs": [],
   "source": []
  },
  {
   "cell_type": "code",
   "execution_count": 63,
   "id": "6b347da2",
   "metadata": {},
   "outputs": [
    {
     "data": {
      "text/plain": [
       "LogisticRegression()"
      ]
     },
     "execution_count": 63,
     "metadata": {},
     "output_type": "execute_result"
    }
   ],
   "source": [
    "model = LogisticRegression()\n",
    "model.fit(doc_embedding, dfs[ycol].values)"
   ]
  },
  {
   "cell_type": "code",
   "execution_count": 64,
   "id": "e99166c7",
   "metadata": {},
   "outputs": [
    {
     "data": {
      "text/plain": [
       "<sklearn.metrics._plot.precision_recall_curve.PrecisionRecallDisplay at 0x17ab5b2b0>"
      ]
     },
     "execution_count": 64,
     "metadata": {},
     "output_type": "execute_result"
    },
    {
     "data": {
      "image/png": "[encoded data removed]",
      "text/plain": [
       "<Figure size 576x504 with 1 Axes>"
      ]
     },
     "metadata": {},
     "output_type": "display_data"
    }
   ],
   "source": [
    "sns.set_style(style=\"whitegrid\")\n",
    "fig, ax = plt.subplots(1,1, figsize=(8,7))\n",
    "plot_precision_recall_curve(model, doc_embedding, dfs[ycol].values, ax=ax, label=\"Train: Word2Vec\")"
   ]
  },
  {
   "cell_type": "code",
   "execution_count": 67,
   "id": "4f7d94c2",
   "metadata": {},
   "outputs": [],
   "source": [
    "vector_size = 5000\n",
    "model2 = Word2Vec(sentences = dfs[xcol].values,\n",
    "                 vector_size=vector_size,\n",
    "                 window=5, \n",
    "                 min_count=10)"
   ]
  },
  {
   "cell_type": "code",
   "execution_count": 68,
   "id": "d1099f8c",
   "metadata": {},
   "outputs": [],
   "source": [
    "def get_X(model, df, xcol, vector_size):\n",
    "    X = np.zeros((df.shape[0], vector_size))\n",
    "    for i in range(df.shape[0]):    \n",
    "        for w in df[xcol].values[i]:\n",
    "            X[i,:] = X[i,:] + model.wv[w]/df.shape[0]\n",
    "    return X"
   ]
  },
  {
   "cell_type": "code",
   "execution_count": 69,
   "id": "93dfecae",
   "metadata": {},
   "outputs": [],
   "source": [
    "X2 = get_X(model2, dfs, xcol, vector_size)"
   ]
  },
  {
   "cell_type": "code",
   "execution_count": 70,
   "id": "cf3387e2",
   "metadata": {},
   "outputs": [
    {
     "data": {
      "text/plain": [
       "LogisticRegression()"
      ]
     },
     "execution_count": 70,
     "metadata": {},
     "output_type": "execute_result"
    }
   ],
   "source": [
    "model_LR2 = LogisticRegression()\n",
    "model_LR2.fit(X2, dfs[ycol].values)"
   ]
  },
  {
   "cell_type": "code",
   "execution_count": 71,
   "id": "52a24516",
   "metadata": {
    "scrolled": false
   },
   "outputs": [
    {
     "data": {
      "text/plain": [
       "<sklearn.metrics._plot.precision_recall_curve.PrecisionRecallDisplay at 0x178fad820>"
      ]
     },
     "execution_count": 71,
     "metadata": {},
     "output_type": "execute_result"
    },
    {
     "data": {
      "image/png": "[encoded data removed]",
      "text/plain": [
       "<Figure size 576x504 with 1 Axes>"
      ]
     },
     "metadata": {},
     "output_type": "display_data"
    }
   ],
   "source": [
    "sns.set_style(style=\"whitegrid\")\n",
    "fig, ax = plt.subplots(1,1, figsize=(8,7))\n",
    "plot_precision_recall_curve(model, doc_embedding, dfs[ycol].values, ax=ax, label=\"Train: Word2Vec\")\n",
    "plot_precision_recall_curve(model_LR2, X2, dfs[ycol].values, ax=ax, label=\"Word2Vec: vec_size=5000\")"
   ]
  },
  {
   "cell_type": "code",
   "execution_count": 72,
   "id": "454dfd36",
   "metadata": {},
   "outputs": [],
   "source": [
    "def train_w2v_LR_model(df, xcol, ycol, vector_size = 5000):\n",
    "    model_w2v = Word2Vec(sentences = df[xcol].values,\n",
    "                         vector_size=vector_size,\n",
    "                         window=5, \n",
    "                         min_count=10)\n",
    "    \n",
    "    X = np.zeros((df.shape[0], vector_size))\n",
    "    for i in range(df.shape[0]):    \n",
    "        for w in df[xcol].values[i]:\n",
    "            X[i,:] = X[i,:] + model_w2v.wv[w]/df.shape[0]\n",
    "\n",
    "    model_LR = LogisticRegression(max_iter=1000)\n",
    "    model_LR.fit(X, df[ycol].values)\n",
    "    return (model_LR, X, df[ycol], model_w2v)\n",
    "    "
   ]
  },
  {
   "cell_type": "code",
   "execution_count": 73,
   "id": "e92e271e",
   "metadata": {},
   "outputs": [],
   "source": [
    "xcol = 'join2'\n",
    "ycol = 'popular'"
   ]
  },
  {
   "cell_type": "code",
   "execution_count": null,
   "id": "0969a692",
   "metadata": {},
   "outputs": [],
   "source": [
    "model1, X1, y1, model_w2v1 = train_w2v_LR_model(df, xcol, ycol, vector_size = 5000)"
   ]
  },
  {
   "cell_type": "code",
   "execution_count": null,
   "id": "6bcc6eae",
   "metadata": {},
   "outputs": [],
   "source": []
  },
  {
   "cell_type": "code",
   "execution_count": null,
   "id": "380f0913",
   "metadata": {},
   "outputs": [],
   "source": []
  },
  {
   "cell_type": "code",
   "execution_count": null,
   "id": "e5fe0128",
   "metadata": {},
   "outputs": [],
   "source": []
  }
 ],
 "metadata": {
  "kernelspec": {
   "display_name": "Python 3",
   "language": "python",
   "name": "python3"
  },
  "language_info": {
   "codemirror_mode": {
    "name": "ipython",
    "version": 3
   },
   "file_extension": ".py",
   "mimetype": "text/x-python",
   "name": "python",
   "nbconvert_exporter": "python",
   "pygments_lexer": "ipython3",
   "version": "3.9.5"
  }
 },
 "nbformat": 4,
 "nbformat_minor": 5
}
