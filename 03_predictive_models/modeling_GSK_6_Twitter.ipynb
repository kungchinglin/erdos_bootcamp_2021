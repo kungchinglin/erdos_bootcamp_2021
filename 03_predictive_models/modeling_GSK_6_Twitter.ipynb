{
 "cells": [
  {
   "cell_type": "markdown",
   "id": "e3808979",
   "metadata": {},
   "source": [
    "# Model building"
   ]
  },
  {
   "cell_type": "code",
   "execution_count": 1,
   "id": "b51dd14e",
   "metadata": {},
   "outputs": [],
   "source": [
    "import numpy as np\n",
    "import pandas as pd\n",
    "import pylab as plt\n",
    "import seaborn as sns\n",
    "\n",
    "\n",
    "from sklearn.metrics import accuracy_score, precision_score, recall_score, f1_score\n",
    "from sklearn.metrics import precision_recall_fscore_support\n",
    "from sklearn.metrics import confusion_matrix, make_scorer\n",
    "from sklearn.metrics import plot_roc_curve, precision_recall_curve\n",
    "from sklearn.metrics import plot_precision_recall_curve\n",
    "\n",
    "from sklearn.feature_extraction.text import TfidfVectorizer\n",
    "from sklearn.feature_extraction.text import CountVectorizer\n",
    "\n",
    "\n",
    "from sklearn.model_selection import train_test_split\n",
    "from sklearn.model_selection import GridSearchCV, KFold, StratifiedKFold\n",
    "from sklearn.linear_model import LogisticRegression\n",
    "\n",
    "from sklearn import tree\n",
    "from sklearn.tree import DecisionTreeClassifier\n",
    "from sklearn.ensemble import RandomForestClassifier\n",
    "\n",
    "import warnings\n",
    "warnings.filterwarnings(\"ignore\")"
   ]
  },
  {
   "cell_type": "code",
   "execution_count": 2,
   "id": "2042b7cb",
   "metadata": {},
   "outputs": [],
   "source": [
    "df = pd.read_csv(\"../Twitter Data/GME_TWEETS_individual.csv\")"
   ]
  },
  {
   "cell_type": "code",
   "execution_count": 3,
   "id": "4d72f7cc",
   "metadata": {},
   "outputs": [
    {
     "name": "stdout",
     "output_type": "stream",
     "text": [
      "(72833, 11) Index(['author_id', 'text', 'id', 'Date', 'retweet', 'likes', 'reply', 'num',\n",
      "       'image', 'video', 'gif'],\n",
      "      dtype='object')\n"
     ]
    },
    {
     "data": {
      "text/html": [
       "<div>\n",
       "<style scoped>\n",
       "    .dataframe tbody tr th:only-of-type {\n",
       "        vertical-align: middle;\n",
       "    }\n",
       "\n",
       "    .dataframe tbody tr th {\n",
       "        vertical-align: top;\n",
       "    }\n",
       "\n",
       "    .dataframe thead th {\n",
       "        text-align: right;\n",
       "    }\n",
       "</style>\n",
       "<table border=\"1\" class=\"dataframe\">\n",
       "  <thead>\n",
       "    <tr style=\"text-align: right;\">\n",
       "      <th></th>\n",
       "      <th>author_id</th>\n",
       "      <th>text</th>\n",
       "      <th>id</th>\n",
       "      <th>Date</th>\n",
       "      <th>retweet</th>\n",
       "      <th>likes</th>\n",
       "      <th>reply</th>\n",
       "      <th>num</th>\n",
       "      <th>image</th>\n",
       "      <th>video</th>\n",
       "      <th>gif</th>\n",
       "    </tr>\n",
       "  </thead>\n",
       "  <tbody>\n",
       "    <tr>\n",
       "      <th>0</th>\n",
       "      <td>1286967581337726981</td>\n",
       "      <td>GameStop $GME is more of a momentum play than ...</td>\n",
       "      <td>1342263553156284416</td>\n",
       "      <td>2020-12-25 00:00:00</td>\n",
       "      <td>0.0</td>\n",
       "      <td>9.0</td>\n",
       "      <td>1.0</td>\n",
       "      <td>1.0</td>\n",
       "      <td>0.0</td>\n",
       "      <td>0.0</td>\n",
       "      <td>0.0</td>\n",
       "    </tr>\n",
       "    <tr>\n",
       "      <th>1</th>\n",
       "      <td>914214567152160768</td>\n",
       "      <td>$GME GameStop Corporation Comm Top stock up 63...</td>\n",
       "      <td>1342264009693798401</td>\n",
       "      <td>2020-12-25 00:00:00</td>\n",
       "      <td>0.0</td>\n",
       "      <td>2.0</td>\n",
       "      <td>0.0</td>\n",
       "      <td>1.0</td>\n",
       "      <td>0.0</td>\n",
       "      <td>0.0</td>\n",
       "      <td>0.0</td>\n",
       "    </tr>\n",
       "  </tbody>\n",
       "</table>\n",
       "</div>"
      ],
      "text/plain": [
       "             author_id                                               text  \\\n",
       "0  1286967581337726981  GameStop $GME is more of a momentum play than ...   \n",
       "1   914214567152160768  $GME GameStop Corporation Comm Top stock up 63...   \n",
       "\n",
       "                    id                 Date  retweet  likes  reply  num  \\\n",
       "0  1342263553156284416  2020-12-25 00:00:00      0.0    9.0    1.0  1.0   \n",
       "1  1342264009693798401  2020-12-25 00:00:00      0.0    2.0    0.0  1.0   \n",
       "\n",
       "   image  video  gif  \n",
       "0    0.0    0.0  0.0  \n",
       "1    0.0    0.0  0.0  "
      ]
     },
     "execution_count": 3,
     "metadata": {},
     "output_type": "execute_result"
    }
   ],
   "source": [
    "print ( df.shape, df.columns)\n",
    "df.head(2)"
   ]
  },
  {
   "cell_type": "code",
   "execution_count": 4,
   "id": "03647311",
   "metadata": {},
   "outputs": [
    {
     "data": {
      "text/plain": [
       "author_id    0\n",
       "text         0\n",
       "id           1\n",
       "Date         1\n",
       "retweet      1\n",
       "likes        1\n",
       "reply        1\n",
       "num          1\n",
       "image        1\n",
       "video        1\n",
       "gif          2\n",
       "dtype: int64"
      ]
     },
     "execution_count": 4,
     "metadata": {},
     "output_type": "execute_result"
    }
   ],
   "source": [
    "df.isna().sum()"
   ]
  },
  {
   "cell_type": "code",
   "execution_count": 5,
   "id": "12031f19",
   "metadata": {},
   "outputs": [],
   "source": [
    "df.dropna(inplace=True)"
   ]
  },
  {
   "cell_type": "code",
   "execution_count": 6,
   "id": "2918d672",
   "metadata": {},
   "outputs": [
    {
     "data": {
      "text/html": [
       "<div>\n",
       "<style scoped>\n",
       "    .dataframe tbody tr th:only-of-type {\n",
       "        vertical-align: middle;\n",
       "    }\n",
       "\n",
       "    .dataframe tbody tr th {\n",
       "        vertical-align: top;\n",
       "    }\n",
       "\n",
       "    .dataframe thead th {\n",
       "        text-align: right;\n",
       "    }\n",
       "</style>\n",
       "<table border=\"1\" class=\"dataframe\">\n",
       "  <thead>\n",
       "    <tr style=\"text-align: right;\">\n",
       "      <th></th>\n",
       "      <th>retweet</th>\n",
       "      <th>likes</th>\n",
       "      <th>reply</th>\n",
       "      <th>num</th>\n",
       "      <th>image</th>\n",
       "      <th>video</th>\n",
       "      <th>gif</th>\n",
       "    </tr>\n",
       "  </thead>\n",
       "  <tbody>\n",
       "    <tr>\n",
       "      <th>count</th>\n",
       "      <td>72831.000000</td>\n",
       "      <td>72831.000000</td>\n",
       "      <td>72831.000000</td>\n",
       "      <td>72831.0</td>\n",
       "      <td>72831.00000</td>\n",
       "      <td>72831.000000</td>\n",
       "      <td>72831.0</td>\n",
       "    </tr>\n",
       "    <tr>\n",
       "      <th>mean</th>\n",
       "      <td>2.793646</td>\n",
       "      <td>12.198226</td>\n",
       "      <td>1.148014</td>\n",
       "      <td>1.0</td>\n",
       "      <td>0.24782</td>\n",
       "      <td>0.017438</td>\n",
       "      <td>0.0</td>\n",
       "    </tr>\n",
       "    <tr>\n",
       "      <th>std</th>\n",
       "      <td>63.308580</td>\n",
       "      <td>177.063479</td>\n",
       "      <td>21.835789</td>\n",
       "      <td>0.0</td>\n",
       "      <td>0.43175</td>\n",
       "      <td>0.130896</td>\n",
       "      <td>0.0</td>\n",
       "    </tr>\n",
       "    <tr>\n",
       "      <th>min</th>\n",
       "      <td>0.000000</td>\n",
       "      <td>0.000000</td>\n",
       "      <td>0.000000</td>\n",
       "      <td>1.0</td>\n",
       "      <td>0.00000</td>\n",
       "      <td>0.000000</td>\n",
       "      <td>0.0</td>\n",
       "    </tr>\n",
       "    <tr>\n",
       "      <th>25%</th>\n",
       "      <td>0.000000</td>\n",
       "      <td>0.000000</td>\n",
       "      <td>0.000000</td>\n",
       "      <td>1.0</td>\n",
       "      <td>0.00000</td>\n",
       "      <td>0.000000</td>\n",
       "      <td>0.0</td>\n",
       "    </tr>\n",
       "    <tr>\n",
       "      <th>50%</th>\n",
       "      <td>0.000000</td>\n",
       "      <td>1.000000</td>\n",
       "      <td>0.000000</td>\n",
       "      <td>1.0</td>\n",
       "      <td>0.00000</td>\n",
       "      <td>0.000000</td>\n",
       "      <td>0.0</td>\n",
       "    </tr>\n",
       "    <tr>\n",
       "      <th>75%</th>\n",
       "      <td>1.000000</td>\n",
       "      <td>3.000000</td>\n",
       "      <td>0.000000</td>\n",
       "      <td>1.0</td>\n",
       "      <td>0.00000</td>\n",
       "      <td>0.000000</td>\n",
       "      <td>0.0</td>\n",
       "    </tr>\n",
       "    <tr>\n",
       "      <th>max</th>\n",
       "      <td>10887.000000</td>\n",
       "      <td>22552.000000</td>\n",
       "      <td>4617.000000</td>\n",
       "      <td>1.0</td>\n",
       "      <td>1.00000</td>\n",
       "      <td>1.000000</td>\n",
       "      <td>0.0</td>\n",
       "    </tr>\n",
       "  </tbody>\n",
       "</table>\n",
       "</div>"
      ],
      "text/plain": [
       "            retweet         likes         reply      num        image  \\\n",
       "count  72831.000000  72831.000000  72831.000000  72831.0  72831.00000   \n",
       "mean       2.793646     12.198226      1.148014      1.0      0.24782   \n",
       "std       63.308580    177.063479     21.835789      0.0      0.43175   \n",
       "min        0.000000      0.000000      0.000000      1.0      0.00000   \n",
       "25%        0.000000      0.000000      0.000000      1.0      0.00000   \n",
       "50%        0.000000      1.000000      0.000000      1.0      0.00000   \n",
       "75%        1.000000      3.000000      0.000000      1.0      0.00000   \n",
       "max    10887.000000  22552.000000   4617.000000      1.0      1.00000   \n",
       "\n",
       "              video      gif  \n",
       "count  72831.000000  72831.0  \n",
       "mean       0.017438      0.0  \n",
       "std        0.130896      0.0  \n",
       "min        0.000000      0.0  \n",
       "25%        0.000000      0.0  \n",
       "50%        0.000000      0.0  \n",
       "75%        0.000000      0.0  \n",
       "max        1.000000      0.0  "
      ]
     },
     "execution_count": 6,
     "metadata": {},
     "output_type": "execute_result"
    }
   ],
   "source": [
    "df.describe()"
   ]
  },
  {
   "cell_type": "code",
   "execution_count": 7,
   "id": "fb9875dc",
   "metadata": {},
   "outputs": [
    {
     "data": {
      "text/plain": [
       "6.0"
      ]
     },
     "execution_count": 7,
     "metadata": {},
     "output_type": "execute_result"
    }
   ],
   "source": [
    "np.percentile(df.retweet, 95)"
   ]
  },
  {
   "cell_type": "code",
   "execution_count": 8,
   "id": "cd4217a5",
   "metadata": {},
   "outputs": [
    {
     "data": {
      "text/plain": [
       "3185"
      ]
     },
     "execution_count": 8,
     "metadata": {},
     "output_type": "execute_result"
    }
   ],
   "source": [
    "len(np.where(df.retweet>6)[0])"
   ]
  },
  {
   "cell_type": "code",
   "execution_count": null,
   "id": "c7439e98",
   "metadata": {},
   "outputs": [],
   "source": []
  },
  {
   "cell_type": "markdown",
   "id": "b3ff23bf",
   "metadata": {},
   "source": [
    "## processing Tweet data"
   ]
  },
  {
   "cell_type": "code",
   "execution_count": 9,
   "id": "d75b311d",
   "metadata": {},
   "outputs": [],
   "source": [
    "from prepare_text import prepare_text"
   ]
  },
  {
   "cell_type": "code",
   "execution_count": 10,
   "id": "da4968b3",
   "metadata": {},
   "outputs": [],
   "source": [
    "df['text_processed'] = df['text'].apply(prepare_text)\n",
    "df['popular'] = 0"
   ]
  },
  {
   "cell_type": "code",
   "execution_count": 11,
   "id": "8a5dd5ad",
   "metadata": {},
   "outputs": [
    {
     "data": {
      "text/plain": [
       "6.0"
      ]
     },
     "execution_count": 11,
     "metadata": {},
     "output_type": "execute_result"
    }
   ],
   "source": [
    "np.percentile(df.retweet, 95)"
   ]
  },
  {
   "cell_type": "code",
   "execution_count": 12,
   "id": "297c1bc9",
   "metadata": {},
   "outputs": [],
   "source": [
    "df.loc[df['retweet'] > np.percentile(df.retweet, 95), 'popular' ] = 1"
   ]
  },
  {
   "cell_type": "code",
   "execution_count": 13,
   "id": "1565a734",
   "metadata": {},
   "outputs": [
    {
     "data": {
      "text/html": [
       "<div>\n",
       "<style scoped>\n",
       "    .dataframe tbody tr th:only-of-type {\n",
       "        vertical-align: middle;\n",
       "    }\n",
       "\n",
       "    .dataframe tbody tr th {\n",
       "        vertical-align: top;\n",
       "    }\n",
       "\n",
       "    .dataframe thead th {\n",
       "        text-align: right;\n",
       "    }\n",
       "</style>\n",
       "<table border=\"1\" class=\"dataframe\">\n",
       "  <thead>\n",
       "    <tr style=\"text-align: right;\">\n",
       "      <th></th>\n",
       "      <th>author_id</th>\n",
       "      <th>text</th>\n",
       "      <th>id</th>\n",
       "      <th>Date</th>\n",
       "      <th>retweet</th>\n",
       "      <th>likes</th>\n",
       "      <th>reply</th>\n",
       "      <th>num</th>\n",
       "      <th>image</th>\n",
       "      <th>video</th>\n",
       "      <th>gif</th>\n",
       "      <th>text_processed</th>\n",
       "    </tr>\n",
       "    <tr>\n",
       "      <th>popular</th>\n",
       "      <th></th>\n",
       "      <th></th>\n",
       "      <th></th>\n",
       "      <th></th>\n",
       "      <th></th>\n",
       "      <th></th>\n",
       "      <th></th>\n",
       "      <th></th>\n",
       "      <th></th>\n",
       "      <th></th>\n",
       "      <th></th>\n",
       "      <th></th>\n",
       "    </tr>\n",
       "  </thead>\n",
       "  <tbody>\n",
       "    <tr>\n",
       "      <th>0</th>\n",
       "      <td>69646</td>\n",
       "      <td>69646</td>\n",
       "      <td>69646</td>\n",
       "      <td>69646</td>\n",
       "      <td>69646</td>\n",
       "      <td>69646</td>\n",
       "      <td>69646</td>\n",
       "      <td>69646</td>\n",
       "      <td>69646</td>\n",
       "      <td>69646</td>\n",
       "      <td>69646</td>\n",
       "      <td>69646</td>\n",
       "    </tr>\n",
       "    <tr>\n",
       "      <th>1</th>\n",
       "      <td>3185</td>\n",
       "      <td>3185</td>\n",
       "      <td>3185</td>\n",
       "      <td>3185</td>\n",
       "      <td>3185</td>\n",
       "      <td>3185</td>\n",
       "      <td>3185</td>\n",
       "      <td>3185</td>\n",
       "      <td>3185</td>\n",
       "      <td>3185</td>\n",
       "      <td>3185</td>\n",
       "      <td>3185</td>\n",
       "    </tr>\n",
       "  </tbody>\n",
       "</table>\n",
       "</div>"
      ],
      "text/plain": [
       "         author_id   text     id   Date  retweet  likes  reply    num  image  \\\n",
       "popular                                                                        \n",
       "0            69646  69646  69646  69646    69646  69646  69646  69646  69646   \n",
       "1             3185   3185   3185   3185     3185   3185   3185   3185   3185   \n",
       "\n",
       "         video    gif  text_processed  \n",
       "popular                                \n",
       "0        69646  69646           69646  \n",
       "1         3185   3185            3185  "
      ]
     },
     "execution_count": 13,
     "metadata": {},
     "output_type": "execute_result"
    }
   ],
   "source": [
    "df.groupby('popular').count()"
   ]
  },
  {
   "cell_type": "code",
   "execution_count": 14,
   "id": "0aecba7e",
   "metadata": {},
   "outputs": [
    {
     "name": "stdout",
     "output_type": "stream",
     "text": [
      "[69646  3185] [95.63  4.37]\n"
     ]
    }
   ],
   "source": [
    "labels = df.groupby('popular').count().iloc[:2,0].values\n",
    "print (labels, np.round(100*labels/sum(labels), 2))"
   ]
  },
  {
   "cell_type": "code",
   "execution_count": null,
   "id": "dbf81bd8",
   "metadata": {},
   "outputs": [],
   "source": []
  },
  {
   "cell_type": "code",
   "execution_count": null,
   "id": "ca32ba36",
   "metadata": {},
   "outputs": [],
   "source": []
  },
  {
   "cell_type": "markdown",
   "id": "2ea709c6",
   "metadata": {},
   "source": [
    "## TFIDF Vectorizer"
   ]
  },
  {
   "cell_type": "code",
   "execution_count": 15,
   "id": "5290e3de",
   "metadata": {},
   "outputs": [],
   "source": [
    "def prepare_vectors(df, feature_col, target_col, tfidf=True):\n",
    "    df = df[[feature_col, target_col]]\n",
    "    \n",
    "    df_train, df_test = train_test_split(df, test_size=0.2,\n",
    "                                         stratify=df[target_col],\n",
    "                                         random_state = 8848)\n",
    "    \n",
    "    if tfidf:\n",
    "        vectorizer = TfidfVectorizer(use_idf=True, max_df=0.95)\n",
    "    else:\n",
    "        vectorizer = CountVectorizer(max_df=0.95)\n",
    "        \n",
    "    vectorizer.fit_transform(df_train[feature_col].values)\n",
    "    \n",
    "    X_train = vectorizer.transform(df_train[feature_col].values)\n",
    "    X_test  = vectorizer.transform(df_test[feature_col].values)\n",
    "\n",
    "    y_train = df_train[target_col].values\n",
    "    y_test  = df_test[target_col].values\n",
    "\n",
    "    return X_train, X_test, y_train, y_test, vectorizer"
   ]
  },
  {
   "cell_type": "markdown",
   "id": "6ebb61f0",
   "metadata": {},
   "source": [
    "## Logistic Regression models"
   ]
  },
  {
   "cell_type": "code",
   "execution_count": 16,
   "id": "53f5c8cc",
   "metadata": {},
   "outputs": [],
   "source": [
    "columns = [\"Accuracy\", \"Pr_0\", \"Pr_1\", \"Re_0\", \"Re_1\", \"F1_0\", \"F1_1\"]\n",
    "df_res = pd.DataFrame([], columns = columns)"
   ]
  },
  {
   "cell_type": "code",
   "execution_count": 17,
   "id": "e914e33e",
   "metadata": {},
   "outputs": [],
   "source": [
    "# A dataframe to store results\n",
    "def update_results(df_res, model, X, y, model_name):\n",
    "    ypred = model.predict(X)\n",
    "    ac = accuracy_score(y.ravel(), ypred.ravel() )\n",
    "    pr, re, f1, _ = precision_recall_fscore_support(y.ravel(), ypred.ravel() )\n",
    "    df_res.loc[model_name, \"Accuracy\"] = np.round(100*ac, 2)\n",
    "    df_res.loc[model_name, [\"Pr_0\", \"Pr_1\"]] = np.round(100*pr, 2)\n",
    "    df_res.loc[model_name, [\"Re_0\", \"Re_1\"]] = np.round(100*re, 2)\n",
    "    df_res.loc[model_name, [\"F1_0\", \"F1_1\"]] = np.round(100*f1, 2)\n",
    "    return df_res"
   ]
  },
  {
   "cell_type": "code",
   "execution_count": 18,
   "id": "feb3f522",
   "metadata": {},
   "outputs": [],
   "source": [
    "def print_metrics(model, X, y):\n",
    "    pred = model.predict(X)\n",
    "    conf = confusion_matrix(y, pred)\n",
    "    ac   = accuracy_score(y, pred)\n",
    "    pr, re, f1, _ = precision_recall_fscore_support(y, pred)\n",
    "    \n",
    "    print (\"Confusion Matrix:\\n\", conf)\n",
    "    print (f\"Accuracy Score: {np.round(100*ac,2)}\")\n",
    "    print (f\"Precision Score: {np.round(100*pr,2)}\")\n",
    "    print (f\"Recall Score: {np.round(100*re,2)}\")\n",
    "    print (f\"F1 Score: {np.round(100*f1,2)}\")\n"
   ]
  },
  {
   "cell_type": "code",
   "execution_count": null,
   "id": "9501857a",
   "metadata": {},
   "outputs": [],
   "source": [
    "def grid_search_CV_LR(params, df=df,\n",
    "                      xcol=\"text_processed\",\n",
    "                      ycol=\"popular\",\n",
    "                      N_cv=5,\n",
    "                      wt_factor=1,\n",
    "                      scorer = \"precision\",\n",
    "                      verbose = 0,\n",
    "                      tfidf=True\n",
    "                     ):\n",
    "    \n",
    "    X_train, X_test, y_train, y_test, vectorizer = prepare_vectors(df,\n",
    "                                                                   xcol,\n",
    "                                                                   ycol,\n",
    "                                                                   tfidf=tfidf)        \n",
    "    \n",
    "    scoring_dict = {\"precision\": precision_score, \n",
    "                    \"recall\"   : recall_score,\n",
    "                    \"accuracy\" : accuracy_score,\n",
    "                    \"f1\"       : f1_score}\n",
    "\n",
    "    custom_score = make_scorer(scoring_dict[scorer])\n",
    "    model_grid = GridSearchCV(estimator = LogisticRegression(max_iter=1000),\n",
    "                              param_grid = params,\n",
    "                              cv = StratifiedKFold(n_splits=N_cv,\n",
    "                                                   random_state=8848,\n",
    "                                                   shuffle=True),\n",
    "                              verbose=verbose,\n",
    "                              scoring = custom_score)\n",
    "    w = np.ones(len(y_train))\n",
    "    w[y_train==1] = wt_factor/y_train.mean()\n",
    "    \n",
    "    grid_res = model_grid.fit(X_train, y_train, sample_weight=w)\n",
    "    print ( \"Best Score:\", grid_res.best_score_, grid_res.best_params_)\n",
    "    return model_grid, X_train, X_test, y_train, y_test, grid_res"
   ]
  },
  {
   "cell_type": "code",
   "execution_count": null,
   "id": "b50236e9",
   "metadata": {},
   "outputs": [],
   "source": [
    "df.head(1)"
   ]
  },
  {
   "cell_type": "code",
   "execution_count": null,
   "id": "53ce2a47",
   "metadata": {},
   "outputs": [],
   "source": [
    "params = {'penalty': ['l1','l2','None'],\n",
    "          'C'      : [1, 10, 20]}\n",
    "\n",
    "model_grid1, _, X_test1, _, y_test1, grid_res1 = grid_search_CV_LR(params, \n",
    "                                                                   df=df, \n",
    "                                                                   xcol='text_processed',\n",
    "                                                                   ycol='popular',\n",
    "                                                                   scorer = \"precision\",\n",
    "                                                                   tfidf=True)\n",
    "                                                                           "
   ]
  },
  {
   "cell_type": "code",
   "execution_count": null,
   "id": "f9cf5bde",
   "metadata": {},
   "outputs": [],
   "source": [
    "params = {'penalty': ['l1','l2','None'],\n",
    "          'C'      : [1, 10, 20]}\n",
    "\n",
    "model_grid2, _, X_test2, _, y_test2, grid_res2 = grid_search_CV_LR(params, \n",
    "                                                                   df=df, \n",
    "                                                                   xcol='text_processed',\n",
    "                                                                   ycol='popular',\n",
    "                                                                   scorer = \"precision\",\n",
    "                                                                   tfidf=False)\n",
    "                                                                           "
   ]
  },
  {
   "cell_type": "code",
   "execution_count": null,
   "id": "9cc0dc64",
   "metadata": {},
   "outputs": [],
   "source": [
    "sns.set_style('whitegrid')\n",
    "fig, ax = plt.subplots(1, 1, figsize=(12,5))\n",
    "plot_precision_recall_curve(model_grid1, X_test1, y_test1, ax=ax, label=\"TFIDF\")\n",
    "plot_precision_recall_curve(model_grid2, X_test2, y_test2, ax=ax, label=\"BOW\")\n",
    "plt.xlabel(\"Recall (Positive Label:1)\", fontsize=16)\n",
    "plt.ylabel(\"Precision (Positive Label:1)\", fontsize=16)\n",
    "\n",
    "plt.legend(fontsize=16)\n",
    "plt.show()"
   ]
  },
  {
   "cell_type": "code",
   "execution_count": null,
   "id": "5298848c",
   "metadata": {},
   "outputs": [],
   "source": []
  },
  {
   "cell_type": "markdown",
   "id": "c68be3fb",
   "metadata": {},
   "source": [
    "## Neural Net"
   ]
  },
  {
   "cell_type": "code",
   "execution_count": null,
   "id": "461d1b26",
   "metadata": {},
   "outputs": [],
   "source": [
    "from tensorflow.keras.preprocessing.text import Tokenizer\n",
    "from tensorflow.keras.preprocessing.sequence import pad_sequences"
   ]
  },
  {
   "cell_type": "code",
   "execution_count": null,
   "id": "0cec27ff",
   "metadata": {},
   "outputs": [],
   "source": [
    "xcol = 'text_processed'\n",
    "ycol = 'popular'\n",
    "df=df[[xcol, ycol]]\n",
    "\n",
    "df_train_, df_test = train_test_split(df, test_size=0.2,\n",
    "                                      stratify=df[ycol],\n",
    "                                      random_state = 8848)\n",
    "df_train, df_val = train_test_split(df_train_, test_size=0.2,\n",
    "                                      stratify=df_train_[ycol],\n",
    "                                      random_state = 8848)\n",
    "\n",
    "(X_train, y_train) = df_train[xcol], df_train[ycol]\n",
    "(X_val, y_val) = df_val[xcol], df_val[ycol]\n",
    "(X_test, y_test) = df_test[xcol], df_test[ycol]"
   ]
  },
  {
   "cell_type": "code",
   "execution_count": null,
   "id": "d099a1f3",
   "metadata": {},
   "outputs": [],
   "source": [
    "X_train.shape, X_val.shape"
   ]
  },
  {
   "cell_type": "code",
   "execution_count": null,
   "id": "2e47c1e6",
   "metadata": {},
   "outputs": [],
   "source": [
    "MAX_WORDS   = 1000\n",
    "def prepare_data_for_model(X_train, X_val, X_test):\n",
    "    tokenizer = Tokenizer(num_words=MAX_WORDS)\n",
    "    tokenizer.fit_on_texts(X_train)\n",
    "    X_train = tokenizer.texts_to_matrix(X_train)\n",
    "    X_val   = tokenizer.texts_to_matrix(X_val)    \n",
    "    X_test  = tokenizer.texts_to_matrix(X_test)\n",
    "    return (X_train, X_val, X_test, tokenizer)"
   ]
  },
  {
   "cell_type": "code",
   "execution_count": null,
   "id": "751f0527",
   "metadata": {},
   "outputs": [],
   "source": [
    "(X_train, X_val, X_test, tokenizer) = prepare_data_for_model(X_train, X_val, X_test)"
   ]
  },
  {
   "cell_type": "code",
   "execution_count": null,
   "id": "32c66c25",
   "metadata": {},
   "outputs": [],
   "source": []
  },
  {
   "cell_type": "markdown",
   "id": "0e3b2dff",
   "metadata": {},
   "source": [
    "## Dense Layer"
   ]
  },
  {
   "cell_type": "code",
   "execution_count": null,
   "id": "a31e0178",
   "metadata": {},
   "outputs": [],
   "source": [
    "from tensorflow.keras.models import Sequential\n",
    "from tensorflow.keras.layers import Dense, Dropout, Flatten, Activation\n",
    "from tensorflow.keras.layers import LSTM, Bidirectional, Conv1D\n",
    "from tensorflow.keras.layers import MaxPooling1D, GlobalMaxPool1D, BatchNormalization\n",
    "#from tensorflow.keras.layers.embeddings import Embedding"
   ]
  },
  {
   "cell_type": "code",
   "execution_count": null,
   "id": "bd3a4797",
   "metadata": {},
   "outputs": [],
   "source": [
    "from tensorflow.keras import backend as K"
   ]
  },
  {
   "cell_type": "code",
   "execution_count": null,
   "id": "602be62e",
   "metadata": {},
   "outputs": [],
   "source": [
    "def recall_m(y_true, y_pred):\n",
    "    true_positives = K.sum(K.round(K.clip(y_true * y_pred, 0, 1)))\n",
    "    possible_positives = K.sum(K.round(K.clip(y_true, 0, 1)))\n",
    "    recall = true_positives / (possible_positives + K.epsilon())\n",
    "    return recall\n",
    "\n",
    "def precision_m(y_true, y_pred):\n",
    "    true_positives = K.sum(K.round(K.clip(y_true * y_pred, 0, 1)))\n",
    "    predicted_positives = K.sum(K.round(K.clip(y_pred, 0, 1)))\n",
    "    precision = true_positives / (predicted_positives + K.epsilon())\n",
    "    return precision\n",
    "\n",
    "def f1_m(y_true, y_pred):\n",
    "    precision = precision_m(y_true, y_pred)\n",
    "    recall = recall_m(y_true, y_pred)\n",
    "    return 2*((precision*recall)/(precision+recall+K.epsilon()))"
   ]
  },
  {
   "cell_type": "code",
   "execution_count": null,
   "id": "a2e61bb6",
   "metadata": {},
   "outputs": [],
   "source": []
  },
  {
   "cell_type": "code",
   "execution_count": null,
   "id": "909921ad",
   "metadata": {},
   "outputs": [],
   "source": [
    "def make_model(X):\n",
    "    model = Sequential()\n",
    "    model.add(Dense(32, input_shape=(X.shape[1],), activation='relu'))\n",
    "    model.add(Dropout(0.2))\n",
    "    model.add(Dense(1, activation='sigmoid'))\n",
    "    model.compile(loss='binary_crossentropy',\n",
    "                  optimizer='adam',\n",
    "                  metrics = ['acc', precision_m, recall_m, f1_m])\n",
    "    return model"
   ]
  },
  {
   "cell_type": "code",
   "execution_count": null,
   "id": "e906ea35",
   "metadata": {},
   "outputs": [],
   "source": [
    "model1 = make_model(X_train)\n",
    "display ( model1.summary() )\n",
    "history1 = model1.fit(X_train, y_train,\n",
    "                      validation_data=(X_val, y_val), \n",
    "                      batch_size=128,\n",
    "                      epochs=20,\n",
    "                      verbose=0)"
   ]
  },
  {
   "cell_type": "code",
   "execution_count": null,
   "id": "e122903b",
   "metadata": {},
   "outputs": [],
   "source": [
    "loss, acc, pr, re, f1 = model1.evaluate(X_test, y_test, verbose=0)\n",
    "print (f\"Loss: {loss}, Accuracy: {acc}, Precision: {pr}, Recall:{re}, F1 {f1}\")"
   ]
  },
  {
   "cell_type": "code",
   "execution_count": null,
   "id": "3e41969c",
   "metadata": {},
   "outputs": [],
   "source": []
  },
  {
   "cell_type": "code",
   "execution_count": null,
   "id": "e4017dbe",
   "metadata": {},
   "outputs": [],
   "source": [
    "history1.history.keys()"
   ]
  },
  {
   "cell_type": "code",
   "execution_count": null,
   "id": "1a055a1c",
   "metadata": {},
   "outputs": [],
   "source": [
    "plt.figure(figsize=(12,4))\n",
    "plt.subplot(121)\n",
    "plt.plot(history1.history['loss'], label='Training loss')\n",
    "plt.plot(history1.history['val_loss'], label='validation loss')\n",
    "plt.grid()\n",
    "plt.legend()\n",
    "\n",
    "plt.subplot(122)\n",
    "plt.plot(history1.history['precision_m'], label='Training Precision')\n",
    "plt.plot(history1.history['val_precision_m'], label='validation Precision')\n",
    "plt.grid()\n",
    "plt.legend()"
   ]
  },
  {
   "cell_type": "code",
   "execution_count": null,
   "id": "130e0699",
   "metadata": {},
   "outputs": [],
   "source": [
    "plot_history(history1)"
   ]
  },
  {
   "cell_type": "code",
   "execution_count": null,
   "id": "87bd2d01",
   "metadata": {},
   "outputs": [],
   "source": [
    "th = 0.5\n",
    "pred = (model1.predict(X_test) > th).ravel().astype('int')\n",
    "pred[:10]"
   ]
  },
  {
   "cell_type": "code",
   "execution_count": null,
   "id": "27c72d35",
   "metadata": {},
   "outputs": [],
   "source": [
    "ac = accuracy_score(y_test, pred)\n",
    "pr = precision_score(y_test, pred)\n",
    "re = recall_score(y_test, pred)\n",
    "print (ac, pr, re)"
   ]
  },
  {
   "cell_type": "code",
   "execution_count": null,
   "id": "df4636fa",
   "metadata": {},
   "outputs": [],
   "source": []
  },
  {
   "cell_type": "markdown",
   "id": "8fc324b0",
   "metadata": {},
   "source": [
    "## LSTM Layers"
   ]
  },
  {
   "cell_type": "code",
   "execution_count": null,
   "id": "0c8d8e15",
   "metadata": {},
   "outputs": [],
   "source": [
    "def make_model2(X, embedding_length = 16):\n",
    "    model = Sequential()\n",
    "    model.add(Embedding(MAX_WORDS, embedding_length, input_length=X.shape[1]))\n",
    "    model.add(LSTM(16, activation='relu'))\n",
    "    model.add(Dropout(0.2))\n",
    "    #model.add(BatchNormalization())\n",
    "    model.add(Flatten())\n",
    "    model.add(Dense(1, activation='sigmoid'))\n",
    "    model.compile(loss='binary_crossentropy',\n",
    "                  optimizer='adam',\n",
    "                  metrics=['accuracy'])\n",
    "    return model\n",
    "\n",
    "model2 = make_model(X_train, y_train)\n",
    "model2.summary()"
   ]
  },
  {
   "cell_type": "code",
   "execution_count": null,
   "id": "c463a808",
   "metadata": {},
   "outputs": [],
   "source": []
  },
  {
   "cell_type": "code",
   "execution_count": null,
   "id": "a8afd727",
   "metadata": {},
   "outputs": [],
   "source": []
  },
  {
   "cell_type": "code",
   "execution_count": null,
   "id": "08143e36",
   "metadata": {},
   "outputs": [],
   "source": []
  },
  {
   "cell_type": "code",
   "execution_count": null,
   "id": "123ba4f6",
   "metadata": {},
   "outputs": [],
   "source": []
  },
  {
   "cell_type": "code",
   "execution_count": null,
   "id": "8d4b06f1",
   "metadata": {},
   "outputs": [],
   "source": []
  },
  {
   "cell_type": "code",
   "execution_count": null,
   "id": "a31fb4f9",
   "metadata": {},
   "outputs": [],
   "source": []
  },
  {
   "cell_type": "code",
   "execution_count": null,
   "id": "75af73b7",
   "metadata": {},
   "outputs": [],
   "source": []
  },
  {
   "cell_type": "code",
   "execution_count": null,
   "id": "c54c7d58",
   "metadata": {},
   "outputs": [],
   "source": []
  },
  {
   "cell_type": "code",
   "execution_count": null,
   "id": "4f940112",
   "metadata": {},
   "outputs": [],
   "source": []
  },
  {
   "cell_type": "code",
   "execution_count": null,
   "id": "8239436f",
   "metadata": {},
   "outputs": [],
   "source": [
    "print (\"BOW: vs TFIDF\")\n",
    "fig, ax = plt.subplots(1, 1, figsize=(6,5))\n",
    "plot_precision_recall_curve(model_grid, X_test, y_test, ax=ax, label=\"BOW\")\n",
    "plot_precision_recall_curve(model_grid2, X_test, y_test, ax=ax, label=\"TFIDF\")\n",
    "plt.legend(fontsize=16)\n",
    "plt.show()"
   ]
  }
 ],
 "metadata": {
  "kernelspec": {
   "display_name": "Python 3",
   "language": "python",
   "name": "python3"
  },
  "language_info": {
   "codemirror_mode": {
    "name": "ipython",
    "version": 3
   },
   "file_extension": ".py",
   "mimetype": "text/x-python",
   "name": "python",
   "nbconvert_exporter": "python",
   "pygments_lexer": "ipython3",
   "version": "3.9.5"
  }
 },
 "nbformat": 4,
 "nbformat_minor": 5
}
