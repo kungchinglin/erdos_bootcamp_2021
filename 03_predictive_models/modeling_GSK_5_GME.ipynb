{
 "cells": [
  {
   "cell_type": "markdown",
   "id": "e3808979",
   "metadata": {},
   "source": [
    "# Model building"
   ]
  },
  {
   "cell_type": "code",
   "execution_count": 2,
   "id": "b51dd14e",
   "metadata": {},
   "outputs": [],
   "source": [
    "import numpy as np\n",
    "import pandas as pd\n",
    "import pylab as plt\n",
    "import seaborn as sns\n",
    "\n",
    "import warnings\n",
    "warnings.filterwarnings(\"ignore\")"
   ]
  },
  {
   "cell_type": "code",
   "execution_count": 3,
   "id": "1a0ed1c1",
   "metadata": {},
   "outputs": [],
   "source": [
    "df_orig = pd.read_csv(\"df_processed.csv\")\n",
    "df_orig.replace(np.nan, \"no_text\", inplace=True)"
   ]
  },
  {
   "cell_type": "code",
   "execution_count": 4,
   "id": "4c82f552",
   "metadata": {},
   "outputs": [
    {
     "data": {
      "text/html": [
       "<div>\n",
       "<style scoped>\n",
       "    .dataframe tbody tr th:only-of-type {\n",
       "        vertical-align: middle;\n",
       "    }\n",
       "\n",
       "    .dataframe tbody tr th {\n",
       "        vertical-align: top;\n",
       "    }\n",
       "\n",
       "    .dataframe thead th {\n",
       "        text-align: right;\n",
       "    }\n",
       "</style>\n",
       "<table border=\"1\" class=\"dataframe\">\n",
       "  <thead>\n",
       "    <tr style=\"text-align: right;\">\n",
       "      <th></th>\n",
       "      <th>Unnamed: 0</th>\n",
       "      <th>id</th>\n",
       "      <th>subreddit</th>\n",
       "      <th>title</th>\n",
       "      <th>author</th>\n",
       "      <th>url</th>\n",
       "      <th>created</th>\n",
       "      <th>ext_link</th>\n",
       "      <th>id.1</th>\n",
       "      <th>body</th>\n",
       "      <th>score</th>\n",
       "      <th>upvote_ratio</th>\n",
       "      <th>body_processed</th>\n",
       "      <th>title_processed</th>\n",
       "      <th>author_processed</th>\n",
       "      <th>body_and_title</th>\n",
       "      <th>body_and_author</th>\n",
       "      <th>title_and_author</th>\n",
       "      <th>body_title_and_author</th>\n",
       "    </tr>\n",
       "  </thead>\n",
       "  <tbody>\n",
       "    <tr>\n",
       "      <th>0</th>\n",
       "      <td>0</td>\n",
       "      <td>koaw8g</td>\n",
       "      <td>finance</td>\n",
       "      <td>Tech's top seven companies added $3.4 trillion...</td>\n",
       "      <td>Obrocheetah</td>\n",
       "      <td>https://www.reddit.com/r/finance/comments/koaw...</td>\n",
       "      <td>1609505868</td>\n",
       "      <td>no_text</td>\n",
       "      <td>koaw8g</td>\n",
       "      <td>[deleted]</td>\n",
       "      <td>1</td>\n",
       "      <td>1.0</td>\n",
       "      <td>deleted</td>\n",
       "      <td>top seven companies added trillion value</td>\n",
       "      <td>obrocheetah</td>\n",
       "      <td>deleted top seven companies added trillion value</td>\n",
       "      <td>deleted obrocheetah</td>\n",
       "      <td>top seven companies added trillion value obroc...</td>\n",
       "      <td>deleted top seven companies added trillion val...</td>\n",
       "    </tr>\n",
       "    <tr>\n",
       "      <th>1</th>\n",
       "      <td>1</td>\n",
       "      <td>kobbka</td>\n",
       "      <td>finance</td>\n",
       "      <td>Mogo: Establishes ATM Equity Program Mogo a fi...</td>\n",
       "      <td>fintechinshorts</td>\n",
       "      <td>https://www.reddit.com/r/finance/comments/kobb...</td>\n",
       "      <td>1609507913</td>\n",
       "      <td>https://www.fintechinshorts.com/mogo-establish...</td>\n",
       "      <td>kobbka</td>\n",
       "      <td>no_text</td>\n",
       "      <td>1</td>\n",
       "      <td>1.0</td>\n",
       "      <td>no_text</td>\n",
       "      <td>mogo establishes atm equity program mogo finan...</td>\n",
       "      <td>fintechinshorts</td>\n",
       "      <td>no_text mogo establishes atm equity program mo...</td>\n",
       "      <td>no_text fintechinshorts</td>\n",
       "      <td>mogo establishes atm equity program mogo finan...</td>\n",
       "      <td>no_text mogo establishes atm equity program mo...</td>\n",
       "    </tr>\n",
       "  </tbody>\n",
       "</table>\n",
       "</div>"
      ],
      "text/plain": [
       "   Unnamed: 0      id subreddit  \\\n",
       "0           0  koaw8g   finance   \n",
       "1           1  kobbka   finance   \n",
       "\n",
       "                                               title           author  \\\n",
       "0  Tech's top seven companies added $3.4 trillion...      Obrocheetah   \n",
       "1  Mogo: Establishes ATM Equity Program Mogo a fi...  fintechinshorts   \n",
       "\n",
       "                                                 url     created  \\\n",
       "0  https://www.reddit.com/r/finance/comments/koaw...  1609505868   \n",
       "1  https://www.reddit.com/r/finance/comments/kobb...  1609507913   \n",
       "\n",
       "                                            ext_link    id.1       body  \\\n",
       "0                                            no_text  koaw8g  [deleted]   \n",
       "1  https://www.fintechinshorts.com/mogo-establish...  kobbka    no_text   \n",
       "\n",
       "   score  upvote_ratio body_processed  \\\n",
       "0      1           1.0        deleted   \n",
       "1      1           1.0        no_text   \n",
       "\n",
       "                                     title_processed author_processed  \\\n",
       "0           top seven companies added trillion value      obrocheetah   \n",
       "1  mogo establishes atm equity program mogo finan...  fintechinshorts   \n",
       "\n",
       "                                      body_and_title          body_and_author  \\\n",
       "0   deleted top seven companies added trillion value      deleted obrocheetah   \n",
       "1  no_text mogo establishes atm equity program mo...  no_text fintechinshorts   \n",
       "\n",
       "                                    title_and_author  \\\n",
       "0  top seven companies added trillion value obroc...   \n",
       "1  mogo establishes atm equity program mogo finan...   \n",
       "\n",
       "                               body_title_and_author  \n",
       "0  deleted top seven companies added trillion val...  \n",
       "1  no_text mogo establishes atm equity program mo...  "
      ]
     },
     "execution_count": 4,
     "metadata": {},
     "output_type": "execute_result"
    }
   ],
   "source": [
    "df_orig.head(2)"
   ]
  },
  {
   "cell_type": "code",
   "execution_count": 5,
   "id": "3a252f5b",
   "metadata": {},
   "outputs": [
    {
     "data": {
      "text/plain": [
       "Index(['Unnamed: 0', 'id', 'subreddit', 'title', 'author', 'url', 'created',\n",
       "       'ext_link', 'id.1', 'body', 'score', 'upvote_ratio', 'body_processed',\n",
       "       'title_processed', 'author_processed', 'body_and_title',\n",
       "       'body_and_author', 'title_and_author', 'body_title_and_author'],\n",
       "      dtype='object')"
      ]
     },
     "execution_count": 5,
     "metadata": {},
     "output_type": "execute_result"
    }
   ],
   "source": [
    "df_orig.columns"
   ]
  },
  {
   "cell_type": "code",
   "execution_count": 16,
   "id": "b7a2dd7c",
   "metadata": {},
   "outputs": [
    {
     "data": {
      "text/html": [
       "<div>\n",
       "<style scoped>\n",
       "    .dataframe tbody tr th:only-of-type {\n",
       "        vertical-align: middle;\n",
       "    }\n",
       "\n",
       "    .dataframe tbody tr th {\n",
       "        vertical-align: top;\n",
       "    }\n",
       "\n",
       "    .dataframe thead th {\n",
       "        text-align: right;\n",
       "    }\n",
       "</style>\n",
       "<table border=\"1\" class=\"dataframe\">\n",
       "  <thead>\n",
       "    <tr style=\"text-align: right;\">\n",
       "      <th></th>\n",
       "      <th>subreddit</th>\n",
       "      <th>score</th>\n",
       "      <th>body_processed</th>\n",
       "      <th>title_processed</th>\n",
       "      <th>author_processed</th>\n",
       "      <th>body_and_title</th>\n",
       "      <th>body_and_author</th>\n",
       "      <th>title_and_author</th>\n",
       "      <th>body_title_and_author</th>\n",
       "    </tr>\n",
       "  </thead>\n",
       "  <tbody>\n",
       "    <tr>\n",
       "      <th>0</th>\n",
       "      <td>finance</td>\n",
       "      <td>1</td>\n",
       "      <td>deleted</td>\n",
       "      <td>top seven companies added trillion value</td>\n",
       "      <td>obrocheetah</td>\n",
       "      <td>deleted top seven companies added trillion value</td>\n",
       "      <td>deleted obrocheetah</td>\n",
       "      <td>top seven companies added trillion value obroc...</td>\n",
       "      <td>deleted top seven companies added trillion val...</td>\n",
       "    </tr>\n",
       "    <tr>\n",
       "      <th>1</th>\n",
       "      <td>finance</td>\n",
       "      <td>1</td>\n",
       "      <td>no_text</td>\n",
       "      <td>mogo establishes atm equity program mogo finan...</td>\n",
       "      <td>fintechinshorts</td>\n",
       "      <td>no_text mogo establishes atm equity program mo...</td>\n",
       "      <td>no_text fintechinshorts</td>\n",
       "      <td>mogo establishes atm equity program mogo finan...</td>\n",
       "      <td>no_text mogo establishes atm equity program mo...</td>\n",
       "    </tr>\n",
       "  </tbody>\n",
       "</table>\n",
       "</div>"
      ],
      "text/plain": [
       "  subreddit  score body_processed  \\\n",
       "0   finance      1        deleted   \n",
       "1   finance      1        no_text   \n",
       "\n",
       "                                     title_processed author_processed  \\\n",
       "0           top seven companies added trillion value      obrocheetah   \n",
       "1  mogo establishes atm equity program mogo finan...  fintechinshorts   \n",
       "\n",
       "                                      body_and_title          body_and_author  \\\n",
       "0   deleted top seven companies added trillion value      deleted obrocheetah   \n",
       "1  no_text mogo establishes atm equity program mo...  no_text fintechinshorts   \n",
       "\n",
       "                                    title_and_author  \\\n",
       "0  top seven companies added trillion value obroc...   \n",
       "1  mogo establishes atm equity program mogo finan...   \n",
       "\n",
       "                               body_title_and_author  \n",
       "0  deleted top seven companies added trillion val...  \n",
       "1  no_text mogo establishes atm equity program mo...  "
      ]
     },
     "execution_count": 16,
     "metadata": {},
     "output_type": "execute_result"
    }
   ],
   "source": [
    "df_ = df_orig[[\"subreddit\", \"score\",\n",
    "          'body_processed','title_processed', 'author_processed',\n",
    "          'body_and_title', 'body_and_author', 'title_and_author',\n",
    "          'body_title_and_author'\n",
    "         ]]\n",
    "\n",
    "df_.head(2)"
   ]
  },
  {
   "cell_type": "code",
   "execution_count": 17,
   "id": "6aa60377",
   "metadata": {},
   "outputs": [
    {
     "name": "stdout",
     "output_type": "stream",
     "text": [
      "Posts with score bigger than average score: 26702\n",
      "Posts with score smaller than average score: 514736\n"
     ]
    }
   ],
   "source": [
    "print (\"Posts with score bigger than average score:\", (np.array(df_['score'].values)>=df_['score'].mean()).sum() )\n",
    "print (\"Posts with score smaller than average score:\", (np.array(df_['score'].values)<df_['score'].mean()).sum() )"
   ]
  },
  {
   "cell_type": "markdown",
   "id": "4f58aabb",
   "metadata": {},
   "source": [
    "# Binarize the Score\n",
    "\n",
    "- Looking into the score distribution barely going above 0 give  us a 60/40 splits.\n",
    "- So, convert the score into less than or equal to 1 or bigger than 1\n",
    "- name that column `score_label`"
   ]
  },
  {
   "cell_type": "code",
   "execution_count": 18,
   "id": "4e6116c6",
   "metadata": {},
   "outputs": [],
   "source": [
    "def binarize_score(df, threshold):\n",
    "    df[\"score_label\"] = df[\"score\"].apply(lambda x: int(x>threshold))\n",
    "    return df"
   ]
  },
  {
   "cell_type": "code",
   "execution_count": 19,
   "id": "13fac63f",
   "metadata": {},
   "outputs": [],
   "source": [
    "df_ = binarize_score(df_, 1000)"
   ]
  },
  {
   "cell_type": "code",
   "execution_count": 20,
   "id": "2354ec8c",
   "metadata": {},
   "outputs": [
    {
     "data": {
      "text/html": [
       "<div>\n",
       "<style scoped>\n",
       "    .dataframe tbody tr th:only-of-type {\n",
       "        vertical-align: middle;\n",
       "    }\n",
       "\n",
       "    .dataframe tbody tr th {\n",
       "        vertical-align: top;\n",
       "    }\n",
       "\n",
       "    .dataframe thead th {\n",
       "        text-align: right;\n",
       "    }\n",
       "</style>\n",
       "<table border=\"1\" class=\"dataframe\">\n",
       "  <thead>\n",
       "    <tr style=\"text-align: right;\">\n",
       "      <th></th>\n",
       "      <th>subreddit</th>\n",
       "      <th>score</th>\n",
       "      <th>body_processed</th>\n",
       "      <th>title_processed</th>\n",
       "      <th>author_processed</th>\n",
       "      <th>body_and_title</th>\n",
       "      <th>body_and_author</th>\n",
       "      <th>title_and_author</th>\n",
       "      <th>body_title_and_author</th>\n",
       "      <th>score_label</th>\n",
       "    </tr>\n",
       "  </thead>\n",
       "  <tbody>\n",
       "    <tr>\n",
       "      <th>0</th>\n",
       "      <td>finance</td>\n",
       "      <td>1</td>\n",
       "      <td>deleted</td>\n",
       "      <td>top seven companies added trillion value</td>\n",
       "      <td>obrocheetah</td>\n",
       "      <td>deleted top seven companies added trillion value</td>\n",
       "      <td>deleted obrocheetah</td>\n",
       "      <td>top seven companies added trillion value obroc...</td>\n",
       "      <td>deleted top seven companies added trillion val...</td>\n",
       "      <td>0</td>\n",
       "    </tr>\n",
       "    <tr>\n",
       "      <th>1</th>\n",
       "      <td>finance</td>\n",
       "      <td>1</td>\n",
       "      <td>no_text</td>\n",
       "      <td>mogo establishes atm equity program mogo finan...</td>\n",
       "      <td>fintechinshorts</td>\n",
       "      <td>no_text mogo establishes atm equity program mo...</td>\n",
       "      <td>no_text fintechinshorts</td>\n",
       "      <td>mogo establishes atm equity program mogo finan...</td>\n",
       "      <td>no_text mogo establishes atm equity program mo...</td>\n",
       "      <td>0</td>\n",
       "    </tr>\n",
       "  </tbody>\n",
       "</table>\n",
       "</div>"
      ],
      "text/plain": [
       "  subreddit  score body_processed  \\\n",
       "0   finance      1        deleted   \n",
       "1   finance      1        no_text   \n",
       "\n",
       "                                     title_processed author_processed  \\\n",
       "0           top seven companies added trillion value      obrocheetah   \n",
       "1  mogo establishes atm equity program mogo finan...  fintechinshorts   \n",
       "\n",
       "                                      body_and_title          body_and_author  \\\n",
       "0   deleted top seven companies added trillion value      deleted obrocheetah   \n",
       "1  no_text mogo establishes atm equity program mo...  no_text fintechinshorts   \n",
       "\n",
       "                                    title_and_author  \\\n",
       "0  top seven companies added trillion value obroc...   \n",
       "1  mogo establishes atm equity program mogo finan...   \n",
       "\n",
       "                               body_title_and_author  score_label  \n",
       "0  deleted top seven companies added trillion val...            0  \n",
       "1  no_text mogo establishes atm equity program mo...            0  "
      ]
     },
     "execution_count": 20,
     "metadata": {},
     "output_type": "execute_result"
    }
   ],
   "source": [
    "df_.head(2)"
   ]
  },
  {
   "cell_type": "markdown",
   "id": "1ec573c7",
   "metadata": {},
   "source": [
    "## Only GME Data"
   ]
  },
  {
   "cell_type": "code",
   "execution_count": 21,
   "id": "b00938a7",
   "metadata": {},
   "outputs": [
    {
     "name": "stdout",
     "output_type": "stream",
     "text": [
      "(145597, 10)\n"
     ]
    },
    {
     "data": {
      "text/html": [
       "<div>\n",
       "<style scoped>\n",
       "    .dataframe tbody tr th:only-of-type {\n",
       "        vertical-align: middle;\n",
       "    }\n",
       "\n",
       "    .dataframe tbody tr th {\n",
       "        vertical-align: top;\n",
       "    }\n",
       "\n",
       "    .dataframe thead th {\n",
       "        text-align: right;\n",
       "    }\n",
       "</style>\n",
       "<table border=\"1\" class=\"dataframe\">\n",
       "  <thead>\n",
       "    <tr style=\"text-align: right;\">\n",
       "      <th></th>\n",
       "      <th>subreddit</th>\n",
       "      <th>score</th>\n",
       "      <th>body_processed</th>\n",
       "      <th>title_processed</th>\n",
       "      <th>author_processed</th>\n",
       "      <th>body_and_title</th>\n",
       "      <th>body_and_author</th>\n",
       "      <th>title_and_author</th>\n",
       "      <th>body_title_and_author</th>\n",
       "      <th>score_label</th>\n",
       "    </tr>\n",
       "  </thead>\n",
       "  <tbody>\n",
       "    <tr>\n",
       "      <th>68190</th>\n",
       "      <td>GME</td>\n",
       "      <td>6</td>\n",
       "      <td>watching took position right away https youtu ...</td>\n",
       "      <td>need see gme</td>\n",
       "      <td>titsdownonly</td>\n",
       "      <td>watching took position right away https youtu ...</td>\n",
       "      <td>watching took position right away https youtu ...</td>\n",
       "      <td>need see gme titsdownonly</td>\n",
       "      <td>watching took position right away https youtu ...</td>\n",
       "      <td>0</td>\n",
       "    </tr>\n",
       "    <tr>\n",
       "      <th>68191</th>\n",
       "      <td>GME</td>\n",
       "      <td>11</td>\n",
       "      <td>deleted</td>\n",
       "      <td>short squeeze incoming</td>\n",
       "      <td>zoomermoney</td>\n",
       "      <td>deleted short squeeze incoming</td>\n",
       "      <td>deleted zoomermoney</td>\n",
       "      <td>short squeeze incoming zoomermoney</td>\n",
       "      <td>deleted short squeeze incoming zoomermoney</td>\n",
       "      <td>0</td>\n",
       "    </tr>\n",
       "  </tbody>\n",
       "</table>\n",
       "</div>"
      ],
      "text/plain": [
       "      subreddit  score                                     body_processed  \\\n",
       "68190       GME      6  watching took position right away https youtu ...   \n",
       "68191       GME     11                                            deleted   \n",
       "\n",
       "              title_processed author_processed  \\\n",
       "68190            need see gme     titsdownonly   \n",
       "68191  short squeeze incoming      zoomermoney   \n",
       "\n",
       "                                          body_and_title  \\\n",
       "68190  watching took position right away https youtu ...   \n",
       "68191                     deleted short squeeze incoming   \n",
       "\n",
       "                                         body_and_author  \\\n",
       "68190  watching took position right away https youtu ...   \n",
       "68191                                deleted zoomermoney   \n",
       "\n",
       "                         title_and_author  \\\n",
       "68190           need see gme titsdownonly   \n",
       "68191  short squeeze incoming zoomermoney   \n",
       "\n",
       "                                   body_title_and_author  score_label  \n",
       "68190  watching took position right away https youtu ...            0  \n",
       "68191         deleted short squeeze incoming zoomermoney            0  "
      ]
     },
     "execution_count": 21,
     "metadata": {},
     "output_type": "execute_result"
    }
   ],
   "source": [
    "df_GME = df_[df_.subreddit=='GME']\n",
    "print ( df_GME.shape )\n",
    "df_GME.head(2)"
   ]
  },
  {
   "cell_type": "code",
   "execution_count": 22,
   "id": "121b9f2d",
   "metadata": {},
   "outputs": [
    {
     "name": "stdout",
     "output_type": "stream",
     "text": [
      "Label Distribution for df_GME\n",
      "Class 0 97.66 %\n",
      "Class 1 2.34 %\n"
     ]
    }
   ],
   "source": [
    "print (\"Label Distribution for df_GME\")\n",
    "count_0_1=df_GME.groupby(\"score_label\").count()['subreddit'].values\n",
    "print (f\"Class 0 {np.round(100*count_0_1[0]/np.sum(count_0_1), 2)} %\")\n",
    "print (f\"Class 1 {np.round(100*count_0_1[1]/np.sum(count_0_1), 2)} %\")\n"
   ]
  },
  {
   "cell_type": "code",
   "execution_count": 23,
   "id": "b078b274",
   "metadata": {},
   "outputs": [],
   "source": [
    "# remove rows with deleted, removed and no_text  in the body\n",
    "df_GME2 = df_GME[(df_GME.body_processed != 'deleted' ) &\n",
    "          (df_GME.body_processed != 'removed' ) &\n",
    "          (df_GME.body_processed != 'no_text' )]\n"
   ]
  },
  {
   "cell_type": "code",
   "execution_count": 24,
   "id": "b0eacc06",
   "metadata": {},
   "outputs": [
    {
     "name": "stdout",
     "output_type": "stream",
     "text": [
      "Label Distribution for df_GME after removing deleted posts\n",
      "Class 0 97.19 %\n",
      "Class 1 2.81 %\n"
     ]
    }
   ],
   "source": [
    "print (\"Label Distribution for df_GME after removing deleted posts\")\n",
    "count_0_1=df_GME2.groupby(\"score_label\").count()['subreddit'].values\n",
    "print (f\"Class 0 {np.round(100*count_0_1[0]/np.sum(count_0_1), 2)} %\")\n",
    "print (f\"Class 1 {np.round(100*count_0_1[1]/np.sum(count_0_1), 2)} %\")\n"
   ]
  },
  {
   "cell_type": "code",
   "execution_count": 26,
   "id": "74c0e3e6",
   "metadata": {},
   "outputs": [
    {
     "name": "stdout",
     "output_type": "stream",
     "text": [
      "145597 49794\n"
     ]
    }
   ],
   "source": [
    "print (df_GME.shape[0], df_GME2.shape[0])"
   ]
  },
  {
   "cell_type": "markdown",
   "id": "2a81f9db",
   "metadata": {},
   "source": [
    "## Saving the test data"
   ]
  },
  {
   "cell_type": "code",
   "execution_count": 28,
   "id": "ec79d006",
   "metadata": {},
   "outputs": [],
   "source": [
    "from sklearn.model_selection import train_test_split\n",
    "df, df_test_ = train_test_split(df_GME2, test_size=0.2,\n",
    "                                stratify=df_GME2['score_label'],\n",
    "                                random_state = 8848)\n"
   ]
  },
  {
   "cell_type": "code",
   "execution_count": 29,
   "id": "7869d4c5",
   "metadata": {},
   "outputs": [
    {
     "name": "stdout",
     "output_type": "stream",
     "text": [
      "Class 0 97.19 %\n",
      "Class 1 2.81 %\n"
     ]
    }
   ],
   "source": [
    "# Label distribution\n",
    "count_0_1=df.groupby(\"score_label\").count()['subreddit'].values\n",
    "print (f\"Class 0 {np.round(100*count_0_1[0]/np.sum(count_0_1), 2)} %\")\n",
    "print (f\"Class 1 {np.round(100*count_0_1[1]/np.sum(count_0_1), 2)} %\")\n"
   ]
  },
  {
   "cell_type": "markdown",
   "id": "2ea709c6",
   "metadata": {},
   "source": [
    "## TFIDF Vectorizer"
   ]
  },
  {
   "cell_type": "code",
   "execution_count": 30,
   "id": "5290e3de",
   "metadata": {},
   "outputs": [],
   "source": [
    "from sklearn.feature_extraction.text import TfidfVectorizer\n",
    "\n",
    "def prepare_TFIDF(df, feature_col, target_col):\n",
    "    df = df[[feature_col, target_col]]\n",
    "    df_train, df_test = train_test_split(df, test_size=0.2,\n",
    "                                         stratify=df[target_col],\n",
    "                                         random_state = 8848)\n",
    "    vectorizer = TfidfVectorizer(use_idf=True, max_df=0.95)\n",
    "    \n",
    "    vectorizer.fit_transform(df_train[feature_col].values)\n",
    "    \n",
    "    X_train = vectorizer.transform(df_train[feature_col].values)\n",
    "    X_test  = vectorizer.transform(df_test[feature_col].values)\n",
    "\n",
    "    y_train = df_train[target_col].values\n",
    "    y_test  = df_test[target_col].values\n",
    "\n",
    "    return X_train, X_test, y_train, y_test, vectorizer"
   ]
  },
  {
   "cell_type": "markdown",
   "id": "6ebb61f0",
   "metadata": {},
   "source": [
    "## Logistic Regression models"
   ]
  },
  {
   "cell_type": "code",
   "execution_count": 64,
   "id": "f4d8b399",
   "metadata": {},
   "outputs": [],
   "source": []
  },
  {
   "cell_type": "code",
   "execution_count": 94,
   "id": "53f5c8cc",
   "metadata": {},
   "outputs": [],
   "source": [
    "columns = [\"Accuracy\", \"Pr_0\", \"Pr_1\", \"Re_0\", \"Re_1\", \"F1_0\", \"F1_1\"]\n",
    "df_res = pd.DataFrame([], columns = columns)"
   ]
  },
  {
   "cell_type": "code",
   "execution_count": 95,
   "id": "e914e33e",
   "metadata": {},
   "outputs": [],
   "source": [
    "# A dataframe to store results\n",
    "def update_results(df_res, model, X, y, model_name):\n",
    "    ypred = model.predict(X)\n",
    "    ac = accuracy_score(y.ravel(), ypred.ravel() )\n",
    "    pr, re, f1, _ = precision_recall_fscore_support(y.ravel(), ypred.ravel() )\n",
    "    df_res.loc[model_name, \"Accuracy\"] = np.round(100*ac, 2)\n",
    "    df_res.loc[model_name, [\"Pr_0\", \"Pr_1\"]] = np.round(100*pr, 2)\n",
    "    df_res.loc[model_name, [\"Re_0\", \"Re_1\"]] = np.round(100*re, 2)\n",
    "    df_res.loc[model_name, [\"F1_0\", \"F1_1\"]] = np.round(100*f1, 2)\n",
    "    return df_res"
   ]
  },
  {
   "cell_type": "code",
   "execution_count": null,
   "id": "feb3f522",
   "metadata": {},
   "outputs": [],
   "source": []
  },
  {
   "cell_type": "code",
   "execution_count": 34,
   "id": "51389b30",
   "metadata": {},
   "outputs": [],
   "source": [
    "xcol=\"body_and_title\";\n",
    "ycol=\"score_label\"\n",
    "\n",
    "X_train, X_test, y_train, y_test, vectorizer= prepare_TFIDF(df,\n",
    "                                                            xcol,\n",
    "                                                            ycol)"
   ]
  },
  {
   "cell_type": "code",
   "execution_count": 35,
   "id": "aeca8dc5",
   "metadata": {},
   "outputs": [
    {
     "data": {
      "text/plain": [
       "((31868, 58935), (7967, 58935), (31868,), (7967,))"
      ]
     },
     "execution_count": 35,
     "metadata": {},
     "output_type": "execute_result"
    }
   ],
   "source": [
    "X_train.shape, X_test.shape, y_train.shape, y_test.shape"
   ]
  },
  {
   "cell_type": "code",
   "execution_count": 36,
   "id": "f3dd1051",
   "metadata": {},
   "outputs": [
    {
     "data": {
      "text/plain": [
       "LogisticRegression(max_iter=1000)"
      ]
     },
     "execution_count": 36,
     "metadata": {},
     "output_type": "execute_result"
    }
   ],
   "source": [
    "model = LogisticRegression(max_iter=1000)\n",
    "model.fit(X_train, y_train)"
   ]
  },
  {
   "cell_type": "code",
   "execution_count": 37,
   "id": "97426bc8",
   "metadata": {},
   "outputs": [],
   "source": [
    "pred = model.predict(X_test)"
   ]
  },
  {
   "cell_type": "code",
   "execution_count": 38,
   "id": "524304e5",
   "metadata": {},
   "outputs": [
    {
     "data": {
      "text/plain": [
       "0.9732647169574494"
      ]
     },
     "execution_count": 38,
     "metadata": {},
     "output_type": "execute_result"
    }
   ],
   "source": [
    "accuracy_score(y_test, pred)"
   ]
  },
  {
   "cell_type": "code",
   "execution_count": 41,
   "id": "9c4e2ff4",
   "metadata": {},
   "outputs": [
    {
     "data": {
      "text/plain": [
       "array([[7742,    1],\n",
       "       [ 212,   12]])"
      ]
     },
     "execution_count": 41,
     "metadata": {},
     "output_type": "execute_result"
    }
   ],
   "source": [
    "confusion_matrix(y_test, pred)"
   ]
  },
  {
   "cell_type": "code",
   "execution_count": 43,
   "id": "db581ce5",
   "metadata": {},
   "outputs": [
    {
     "data": {
      "text/plain": [
       "(224, 13)"
      ]
     },
     "execution_count": 43,
     "metadata": {},
     "output_type": "execute_result"
    }
   ],
   "source": [
    "sum(y_test==1), sum(pred==1)"
   ]
  },
  {
   "cell_type": "code",
   "execution_count": 44,
   "id": "fd6cac5e",
   "metadata": {},
   "outputs": [],
   "source": [
    "pr, re, f1, _ = precision_recall_fscore_support(y_test, pred)"
   ]
  },
  {
   "cell_type": "code",
   "execution_count": 45,
   "id": "8761ff43",
   "metadata": {},
   "outputs": [
    {
     "data": {
      "text/plain": [
       "array([0.97334674, 0.92307692])"
      ]
     },
     "execution_count": 45,
     "metadata": {},
     "output_type": "execute_result"
    }
   ],
   "source": [
    "pr"
   ]
  },
  {
   "cell_type": "code",
   "execution_count": 49,
   "id": "4a448542",
   "metadata": {},
   "outputs": [
    {
     "data": {
      "text/plain": [
       "(0.9733467437767162, 0.9230769230769231)"
      ]
     },
     "execution_count": 49,
     "metadata": {},
     "output_type": "execute_result"
    }
   ],
   "source": [
    "7742/(7742+212), 12/(12+1)"
   ]
  },
  {
   "cell_type": "code",
   "execution_count": 92,
   "id": "fbc32b87",
   "metadata": {},
   "outputs": [
    {
     "data": {
      "text/plain": [
       "array([  1.        ,   1.        ,   1.        ,   1.        ,\n",
       "       178.03351955,   1.        ,   1.        ,   1.        ,\n",
       "         1.        ,   1.        ,   1.        , 178.03351955,\n",
       "         1.        ,   1.        ,   1.        ,   1.        ,\n",
       "         1.        ,   1.        ,   1.        ,   1.        ,\n",
       "         1.        ,   1.        ,   1.        ,   1.        ,\n",
       "         1.        ,   1.        ,   1.        ,   1.        ,\n",
       "         1.        ,   1.        ])"
      ]
     },
     "execution_count": 92,
     "metadata": {},
     "output_type": "execute_result"
    }
   ],
   "source": [
    "wt_factor=5.\n",
    "w= np.ones(len(y_train))\n",
    "w[y_train==1] = wt_factor/y_train.mean()\n",
    "w[20:50]"
   ]
  },
  {
   "cell_type": "markdown",
   "id": "395dc34f",
   "metadata": {},
   "source": [
    "### GridSearch focussing on Precision and recalls"
   ]
  },
  {
   "cell_type": "code",
   "execution_count": null,
   "id": "aa448248",
   "metadata": {},
   "outputs": [],
   "source": [
    "\n",
    "weights = np.ones(y_train.shape)\n",
    "weights[y_train == 1] = weight_factor/np.mean(y_train)\n",
    "gridModel.fit(X_train, y_train, sample_weight = weights)"
   ]
  },
  {
   "cell_type": "code",
   "execution_count": 84,
   "id": "1f990f85",
   "metadata": {},
   "outputs": [],
   "source": [
    "def print_metrics(model, X, y):\n",
    "    pred = model.predict(X)\n",
    "    conf = confusion_matrix(y, pred)\n",
    "    ac   = accuracy_score(y, pred)\n",
    "    pr, re, f1, _ = precision_recall_fscore_support(y, pred)\n",
    "    \n",
    "    print (\"Confusion Matrix:\\n\", conf)\n",
    "    print (f\"Accuracy Score: {np.round(100*ac,2)}\")\n",
    "    print (f\"Precision Score: {np.round(100*pr,2)}\")\n",
    "    print (f\"Recall Score: {np.round(100*re,2)}\")\n",
    "    print (f\"F1 Score: {np.round(100*f1,2)}\")\n"
   ]
  },
  {
   "cell_type": "code",
   "execution_count": 77,
   "id": "402f72a2",
   "metadata": {},
   "outputs": [],
   "source": [
    "def grid_search_CV_LR(params, df=df,\n",
    "                      xcol=\"body_processed\",\n",
    "                      ycol=\"score_label\",\n",
    "                      N_cv=5,\n",
    "                      wt_factor=1,\n",
    "                      scorer = \"precision\",\n",
    "                      verbose = 0,\n",
    "                     ):\n",
    "    X_train, X_test, y_train, y_test, vectorizer = prepare_TFIDF(df,\n",
    "                                                                xcol,\n",
    "                                                                ycol)\n",
    "    \n",
    "    scoring_dict = {\"precision\": precision_score, \n",
    "                    \"recall\"   : recall_score,\n",
    "                    \"accuracy\" : accuracy_score\n",
    "                   }\n",
    "    \n",
    "    custom_score = make_scorer(scoring_dict[scorer])\n",
    "\n",
    "    \n",
    "    model_grid = GridSearchCV(estimator = LogisticRegression(max_iter=1000),\n",
    "                              param_grid = params,\n",
    "                              cv = StratifiedKFold(n_splits=N_cv,\n",
    "                                                   random_state=8848,\n",
    "                                                   shuffle=True),\n",
    "                              verbose=verbose,\n",
    "                              scoring = custom_score,\n",
    "                             )\n",
    "    \n",
    "    w = np.ones(len(y_train))\n",
    "    w[y_train==1] = wt_factor/y_train.mean()\n",
    "    \n",
    "    grid_res = model_grid.fit(X_train, y_train, sample_weight=w)\n",
    "    print ( \"Best Score:\", grid_res.best_score_, grid_res.best_params_)\n",
    "    return model_grid, X_train, X_test, y_train, y_test, grid_res\n"
   ]
  },
  {
   "cell_type": "code",
   "execution_count": 73,
   "id": "145e0a51",
   "metadata": {},
   "outputs": [
    {
     "name": "stdout",
     "output_type": "stream",
     "text": [
      "Fitting 5 folds for each of 12 candidates, totalling 60 fits\n",
      "[CV 1/5] END ..............................C=0.5, penalty=l1; total time=   0.0s\n",
      "[CV 2/5] END ..............................C=0.5, penalty=l1; total time=   0.0s\n",
      "[CV 3/5] END ..............................C=0.5, penalty=l1; total time=   0.0s\n",
      "[CV 4/5] END ..............................C=0.5, penalty=l1; total time=   0.0s\n",
      "[CV 5/5] END ..............................C=0.5, penalty=l1; total time=   0.0s\n",
      "[CV 1/5] END ..............................C=0.5, penalty=l2; total time=   1.1s\n",
      "[CV 2/5] END ..............................C=0.5, penalty=l2; total time=   1.2s\n",
      "[CV 3/5] END ..............................C=0.5, penalty=l2; total time=   1.2s\n",
      "[CV 4/5] END ..............................C=0.5, penalty=l2; total time=   1.1s\n",
      "[CV 5/5] END ..............................C=0.5, penalty=l2; total time=   1.2s\n",
      "[CV 1/5] END ............................C=0.5, penalty=None; total time=   0.0s\n",
      "[CV 2/5] END ............................C=0.5, penalty=None; total time=   0.0s\n",
      "[CV 3/5] END ............................C=0.5, penalty=None; total time=   0.0s\n",
      "[CV 4/5] END ............................C=0.5, penalty=None; total time=   0.0s\n",
      "[CV 5/5] END ............................C=0.5, penalty=None; total time=   0.0s\n",
      "[CV 1/5] END ................................C=1, penalty=l1; total time=   0.0s\n",
      "[CV 2/5] END ................................C=1, penalty=l1; total time=   0.0s\n",
      "[CV 3/5] END ................................C=1, penalty=l1; total time=   0.0s\n",
      "[CV 4/5] END ................................C=1, penalty=l1; total time=   0.0s\n",
      "[CV 5/5] END ................................C=1, penalty=l1; total time=   0.0s\n",
      "[CV 1/5] END ................................C=1, penalty=l2; total time=   1.8s\n",
      "[CV 2/5] END ................................C=1, penalty=l2; total time=   1.7s\n",
      "[CV 3/5] END ................................C=1, penalty=l2; total time=   1.7s\n",
      "[CV 4/5] END ................................C=1, penalty=l2; total time=   1.6s\n",
      "[CV 5/5] END ................................C=1, penalty=l2; total time=   1.7s\n",
      "[CV 1/5] END ..............................C=1, penalty=None; total time=   0.0s\n",
      "[CV 2/5] END ..............................C=1, penalty=None; total time=   0.0s\n",
      "[CV 3/5] END ..............................C=1, penalty=None; total time=   0.0s\n",
      "[CV 4/5] END ..............................C=1, penalty=None; total time=   0.0s\n",
      "[CV 5/5] END ..............................C=1, penalty=None; total time=   0.0s\n",
      "[CV 1/5] END ................................C=5, penalty=l1; total time=   0.0s\n",
      "[CV 2/5] END ................................C=5, penalty=l1; total time=   0.0s\n",
      "[CV 3/5] END ................................C=5, penalty=l1; total time=   0.0s\n",
      "[CV 4/5] END ................................C=5, penalty=l1; total time=   0.0s\n",
      "[CV 5/5] END ................................C=5, penalty=l1; total time=   0.0s\n",
      "[CV 1/5] END ................................C=5, penalty=l2; total time=   2.2s\n",
      "[CV 2/5] END ................................C=5, penalty=l2; total time=   2.9s\n",
      "[CV 3/5] END ................................C=5, penalty=l2; total time=   2.8s\n",
      "[CV 4/5] END ................................C=5, penalty=l2; total time=   2.6s\n",
      "[CV 5/5] END ................................C=5, penalty=l2; total time=   2.4s\n",
      "[CV 1/5] END ..............................C=5, penalty=None; total time=   0.0s\n",
      "[CV 2/5] END ..............................C=5, penalty=None; total time=   0.0s\n",
      "[CV 3/5] END ..............................C=5, penalty=None; total time=   0.0s\n",
      "[CV 4/5] END ..............................C=5, penalty=None; total time=   0.0s\n",
      "[CV 5/5] END ..............................C=5, penalty=None; total time=   0.0s\n",
      "[CV 1/5] END ...............................C=10, penalty=l1; total time=   0.0s\n",
      "[CV 2/5] END ...............................C=10, penalty=l1; total time=   0.0s\n",
      "[CV 3/5] END ...............................C=10, penalty=l1; total time=   0.0s\n",
      "[CV 4/5] END ...............................C=10, penalty=l1; total time=   0.0s\n",
      "[CV 5/5] END ...............................C=10, penalty=l1; total time=   0.0s\n",
      "[CV 1/5] END ...............................C=10, penalty=l2; total time=   3.6s\n",
      "[CV 2/5] END ...............................C=10, penalty=l2; total time=   3.3s\n",
      "[CV 3/5] END ...............................C=10, penalty=l2; total time=   2.8s\n",
      "[CV 4/5] END ...............................C=10, penalty=l2; total time=   3.3s\n",
      "[CV 5/5] END ...............................C=10, penalty=l2; total time=   2.8s\n",
      "[CV 1/5] END .............................C=10, penalty=None; total time=   0.0s\n",
      "[CV 2/5] END .............................C=10, penalty=None; total time=   0.0s\n",
      "[CV 3/5] END .............................C=10, penalty=None; total time=   0.0s\n",
      "[CV 4/5] END .............................C=10, penalty=None; total time=   0.0s\n",
      "[CV 5/5] END .............................C=10, penalty=None; total time=   0.0s\n",
      "Best Score: 0.940849858284413 {'C': 10, 'penalty': 'l2'}\n"
     ]
    }
   ],
   "source": [
    "# For penalty l1 preferrable for so many features/weights\n",
    "params = {'penalty': ['l1','l2','None'],\n",
    "          'C'      : [1, 10, 20]}\n",
    "\n",
    "model_grid, X_train, X_test, y_train, y_test, grid_res = grid_search_CV_LR(params)\n"
   ]
  },
  {
   "cell_type": "code",
   "execution_count": 74,
   "id": "7197da53",
   "metadata": {},
   "outputs": [
    {
     "name": "stdout",
     "output_type": "stream",
     "text": [
      "For Training Data\n",
      "[[30491   482]\n",
      " [    5   890]]\n",
      "0.9847182126270867 [0.99983604 0.64868805] [0.98443806 0.99441341] [0.99207731 0.78517865]\n"
     ]
    }
   ],
   "source": [
    "print_metrics(model_grid, X_train, y_train)"
   ]
  },
  {
   "cell_type": "code",
   "execution_count": 78,
   "id": "87639375",
   "metadata": {},
   "outputs": [
    {
     "name": "stdout",
     "output_type": "stream",
     "text": [
      "Best Score: 0.1557259861698394 {'C': 10, 'penalty': 'l2'}\n",
      "[[30491   482]\n",
      " [    5   890]]\n",
      "0.9847182126270867 [0.99983604 0.64868805] [0.98443806 0.99441341] [0.99207731 0.78517865]\n"
     ]
    }
   ],
   "source": [
    "# For penalty l1 preferrable for so many features/weights\n",
    "params = {'penalty': ['l1','l2'],\n",
    "          'C'      : [1, 10, 20]}\n",
    "\n",
    "model_grid, X_train, X_test, y_train, y_test, grid_res = grid_search_CV_LR(params,\n",
    "                                                                           scorer = \"precision\")\n",
    "\n",
    "print_metrics(model_grid, X_train, y_train)"
   ]
  },
  {
   "cell_type": "code",
   "execution_count": 85,
   "id": "ff820855",
   "metadata": {},
   "outputs": [
    {
     "name": "stdout",
     "output_type": "stream",
     "text": [
      "Confusion Matrix:\n",
      " [[7398  345]\n",
      " [ 157   67]]\n",
      "Accuracy Score: 93.7\n",
      "Precision Score: [97.92 16.26]\n",
      "Recall Score: [95.54 29.91]\n",
      "F1 Score: [96.72 21.07]\n"
     ]
    }
   ],
   "source": [
    "print_metrics(model_grid, X_test, y_test)\n"
   ]
  },
  {
   "cell_type": "code",
   "execution_count": 93,
   "id": "0d3ef8f8",
   "metadata": {},
   "outputs": [
    {
     "name": "stdout",
     "output_type": "stream",
     "text": [
      "Best Score: 0.12396957833725034 {'C': 15, 'penalty': 'l2'}\n",
      "Confusion Matrix:\n",
      " [[7213  530]\n",
      " [ 152   72]]\n",
      "Accuracy Score: 91.44\n",
      "Precision Score: [97.94 11.96]\n",
      "Recall Score: [93.16 32.14]\n",
      "F1 Score: [95.49 17.43]\n"
     ]
    }
   ],
   "source": [
    "# For penalty l1 preferrable for so many features/weights\n",
    "params = {'penalty': ['l1','l2'],\n",
    "          'C'      : [5, 10, 15]}\n",
    "\n",
    "model_grid, X_train, X_test, y_train, y_test, grid_res = grid_search_CV_LR(params,\n",
    "                                                                           scorer = \"precision\",\n",
    "                                                                           wt_factor=5.)\n",
    "\n",
    "print_metrics(model_grid, X_test, y_test)\n"
   ]
  },
  {
   "cell_type": "code",
   "execution_count": 96,
   "id": "49671b74",
   "metadata": {},
   "outputs": [
    {
     "data": {
      "text/html": [
       "<div>\n",
       "<style scoped>\n",
       "    .dataframe tbody tr th:only-of-type {\n",
       "        vertical-align: middle;\n",
       "    }\n",
       "\n",
       "    .dataframe tbody tr th {\n",
       "        vertical-align: top;\n",
       "    }\n",
       "\n",
       "    .dataframe thead th {\n",
       "        text-align: right;\n",
       "    }\n",
       "</style>\n",
       "<table border=\"1\" class=\"dataframe\">\n",
       "  <thead>\n",
       "    <tr style=\"text-align: right;\">\n",
       "      <th></th>\n",
       "      <th>Accuracy</th>\n",
       "      <th>Pr_0</th>\n",
       "      <th>Pr_1</th>\n",
       "      <th>Re_0</th>\n",
       "      <th>Re_1</th>\n",
       "      <th>F1_0</th>\n",
       "      <th>F1_1</th>\n",
       "    </tr>\n",
       "  </thead>\n",
       "  <tbody>\n",
       "    <tr>\n",
       "      <th>scr:Precision, w:.5</th>\n",
       "      <td>91.44</td>\n",
       "      <td>97.94</td>\n",
       "      <td>11.96</td>\n",
       "      <td>93.16</td>\n",
       "      <td>32.14</td>\n",
       "      <td>95.49</td>\n",
       "      <td>17.43</td>\n",
       "    </tr>\n",
       "  </tbody>\n",
       "</table>\n",
       "</div>"
      ],
      "text/plain": [
       "                    Accuracy   Pr_0   Pr_1   Re_0   Re_1   F1_0   F1_1\n",
       "scr:Precision, w:.5    91.44  97.94  11.96  93.16  32.14  95.49  17.43"
      ]
     },
     "execution_count": 96,
     "metadata": {},
     "output_type": "execute_result"
    }
   ],
   "source": [
    "df_res = update_results(df_res, model_grid, X_test, y_test, \"scr:Precision, w:.5\")\n",
    "df_res"
   ]
  },
  {
   "cell_type": "code",
   "execution_count": 97,
   "id": "98d3d1a1",
   "metadata": {},
   "outputs": [
    {
     "name": "stdout",
     "output_type": "stream",
     "text": [
      "Best Score: 0.3620111731843575 {'C': 5, 'penalty': 'l2'}\n",
      "Confusion Matrix:\n",
      " [[7050  693]\n",
      " [ 135   89]]\n"
     ]
    },
    {
     "data": {
      "text/html": [
       "<div>\n",
       "<style scoped>\n",
       "    .dataframe tbody tr th:only-of-type {\n",
       "        vertical-align: middle;\n",
       "    }\n",
       "\n",
       "    .dataframe tbody tr th {\n",
       "        vertical-align: top;\n",
       "    }\n",
       "\n",
       "    .dataframe thead th {\n",
       "        text-align: right;\n",
       "    }\n",
       "</style>\n",
       "<table border=\"1\" class=\"dataframe\">\n",
       "  <thead>\n",
       "    <tr style=\"text-align: right;\">\n",
       "      <th></th>\n",
       "      <th>Accuracy</th>\n",
       "      <th>Pr_0</th>\n",
       "      <th>Pr_1</th>\n",
       "      <th>Re_0</th>\n",
       "      <th>Re_1</th>\n",
       "      <th>F1_0</th>\n",
       "      <th>F1_1</th>\n",
       "    </tr>\n",
       "  </thead>\n",
       "  <tbody>\n",
       "    <tr>\n",
       "      <th>scr:Precision, w:.5</th>\n",
       "      <td>91.44</td>\n",
       "      <td>97.94</td>\n",
       "      <td>11.96</td>\n",
       "      <td>93.16</td>\n",
       "      <td>32.14</td>\n",
       "      <td>95.49</td>\n",
       "      <td>17.43</td>\n",
       "    </tr>\n",
       "    <tr>\n",
       "      <th>scr:Recall, w:.5</th>\n",
       "      <td>89.61</td>\n",
       "      <td>98.12</td>\n",
       "      <td>11.38</td>\n",
       "      <td>91.05</td>\n",
       "      <td>39.73</td>\n",
       "      <td>94.45</td>\n",
       "      <td>17.69</td>\n",
       "    </tr>\n",
       "  </tbody>\n",
       "</table>\n",
       "</div>"
      ],
      "text/plain": [
       "                    Accuracy   Pr_0   Pr_1   Re_0   Re_1   F1_0   F1_1\n",
       "scr:Precision, w:.5    91.44  97.94  11.96  93.16  32.14  95.49  17.43\n",
       "scr:Recall, w:.5       89.61  98.12  11.38  91.05  39.73  94.45  17.69"
      ]
     },
     "execution_count": 97,
     "metadata": {},
     "output_type": "execute_result"
    }
   ],
   "source": [
    "# For penalty l1 preferrable for so many features/weights\n",
    "params = {'penalty': ['l1','l2'],\n",
    "          'C'      : [5, 10, 15]}\n",
    "\n",
    "model_grid, X_train, X_test, y_train, y_test, grid_res = grid_search_CV_LR(params,\n",
    "                                                                           scorer = \"recall\",\n",
    "                                                                           wt_factor=5.)\n",
    "\n",
    "print (\"Confusion Matrix:\\n\", confusion_matrix(y_test, model_grid.predict(X_test)) )\n",
    "df_res = update_results(df_res, model_grid, X_test, y_test, \"scr:Recall, w:.5\")\n",
    "df_res"
   ]
  },
  {
   "cell_type": "code",
   "execution_count": 100,
   "id": "d3d713a7",
   "metadata": {},
   "outputs": [
    {
     "data": {
      "text/html": [
       "<div>\n",
       "<style scoped>\n",
       "    .dataframe tbody tr th:only-of-type {\n",
       "        vertical-align: middle;\n",
       "    }\n",
       "\n",
       "    .dataframe tbody tr th {\n",
       "        vertical-align: top;\n",
       "    }\n",
       "\n",
       "    .dataframe thead th {\n",
       "        text-align: right;\n",
       "    }\n",
       "</style>\n",
       "<table border=\"1\" class=\"dataframe\">\n",
       "  <thead>\n",
       "    <tr style=\"text-align: right;\">\n",
       "      <th></th>\n",
       "      <th>Accuracy</th>\n",
       "      <th>Pr_0</th>\n",
       "      <th>Pr_1</th>\n",
       "      <th>Re_0</th>\n",
       "      <th>Re_1</th>\n",
       "      <th>F1_0</th>\n",
       "      <th>F1_1</th>\n",
       "    </tr>\n",
       "  </thead>\n",
       "  <tbody>\n",
       "    <tr>\n",
       "      <th>scr:Precision, w:.5</th>\n",
       "      <td>91.44</td>\n",
       "      <td>97.94</td>\n",
       "      <td>11.96</td>\n",
       "      <td>93.16</td>\n",
       "      <td>32.14</td>\n",
       "      <td>95.49</td>\n",
       "      <td>17.43</td>\n",
       "    </tr>\n",
       "    <tr>\n",
       "      <th>scr=Recall, w=5.</th>\n",
       "      <td>89.61</td>\n",
       "      <td>98.12</td>\n",
       "      <td>11.38</td>\n",
       "      <td>91.05</td>\n",
       "      <td>39.73</td>\n",
       "      <td>94.45</td>\n",
       "      <td>17.69</td>\n",
       "    </tr>\n",
       "  </tbody>\n",
       "</table>\n",
       "</div>"
      ],
      "text/plain": [
       "                    Accuracy   Pr_0   Pr_1   Re_0   Re_1   F1_0   F1_1\n",
       "scr:Precision, w:.5    91.44  97.94  11.96  93.16  32.14  95.49  17.43\n",
       "scr=Recall, w=5.       89.61  98.12  11.38  91.05  39.73  94.45  17.69"
      ]
     },
     "execution_count": 100,
     "metadata": {},
     "output_type": "execute_result"
    }
   ],
   "source": [
    "df_res=df_res.drop(\"scr:Recall, w:5.\", axis=0) \n",
    "df_res = update_results(df_res, model_grid, X_test, y_test, \"scr=Recall, w=5.\")\n",
    "df_res\n"
   ]
  },
  {
   "cell_type": "code",
   "execution_count": null,
   "id": "cca0a033",
   "metadata": {},
   "outputs": [],
   "source": []
  },
  {
   "cell_type": "code",
   "execution_count": null,
   "id": "5c299db1",
   "metadata": {},
   "outputs": [],
   "source": []
  },
  {
   "cell_type": "markdown",
   "id": "6766dcf1",
   "metadata": {},
   "source": [
    "## LSTM"
   ]
  },
  {
   "cell_type": "code",
   "execution_count": null,
   "id": "47e01e3e",
   "metadata": {},
   "outputs": [],
   "source": []
  },
  {
   "cell_type": "code",
   "execution_count": null,
   "id": "dae85437",
   "metadata": {},
   "outputs": [],
   "source": []
  },
  {
   "cell_type": "code",
   "execution_count": null,
   "id": "471ef74e",
   "metadata": {},
   "outputs": [],
   "source": []
  },
  {
   "cell_type": "code",
   "execution_count": null,
   "id": "3fc45dc9",
   "metadata": {},
   "outputs": [],
   "source": []
  },
  {
   "cell_type": "code",
   "execution_count": null,
   "id": "0e4b00ca",
   "metadata": {},
   "outputs": [],
   "source": []
  },
  {
   "cell_type": "code",
   "execution_count": null,
   "id": "b0adb4be",
   "metadata": {},
   "outputs": [],
   "source": []
  },
  {
   "cell_type": "code",
   "execution_count": null,
   "id": "0605f3ed",
   "metadata": {},
   "outputs": [],
   "source": []
  },
  {
   "cell_type": "code",
   "execution_count": null,
   "id": "b44581a8",
   "metadata": {},
   "outputs": [],
   "source": []
  },
  {
   "cell_type": "code",
   "execution_count": null,
   "id": "85088f16",
   "metadata": {},
   "outputs": [],
   "source": []
  },
  {
   "cell_type": "code",
   "execution_count": null,
   "id": "0453cfbe",
   "metadata": {},
   "outputs": [],
   "source": []
  },
  {
   "cell_type": "code",
   "execution_count": null,
   "id": "4798e9e2",
   "metadata": {},
   "outputs": [],
   "source": []
  },
  {
   "cell_type": "code",
   "execution_count": null,
   "id": "121d6796",
   "metadata": {},
   "outputs": [],
   "source": []
  },
  {
   "cell_type": "code",
   "execution_count": null,
   "id": "c54af240",
   "metadata": {},
   "outputs": [],
   "source": []
  },
  {
   "cell_type": "code",
   "execution_count": null,
   "id": "8299bdac",
   "metadata": {},
   "outputs": [],
   "source": []
  }
 ],
 "metadata": {
  "kernelspec": {
   "display_name": "Python 3",
   "language": "python",
   "name": "python3"
  },
  "language_info": {
   "codemirror_mode": {
    "name": "ipython",
    "version": 3
   },
   "file_extension": ".py",
   "mimetype": "text/x-python",
   "name": "python",
   "nbconvert_exporter": "python",
   "pygments_lexer": "ipython3",
   "version": "3.9.5"
  }
 },
 "nbformat": 4,
 "nbformat_minor": 5
}
