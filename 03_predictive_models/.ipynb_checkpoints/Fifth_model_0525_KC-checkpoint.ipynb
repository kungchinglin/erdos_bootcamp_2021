{
 "cells": [
  {
   "cell_type": "code",
   "execution_count": 1,
   "metadata": {},
   "outputs": [],
   "source": [
    "import sqlite3\n",
    "import pandas as pd\n",
    "import numpy as np\n",
    "import re\n",
    "import string\n",
    "import datetime as dt\n",
    "import matplotlib.pyplot as plt\n",
    "\n",
    "from vaderSentiment.vaderSentiment import SentimentIntensityAnalyzer\n",
    "from azure.ai.textanalytics import TextAnalyticsClient\n",
    "from azure.core.credentials import AzureKeyCredential"
   ]
  },
  {
   "cell_type": "code",
   "execution_count": 2,
   "metadata": {},
   "outputs": [],
   "source": [
    "conn = sqlite3.connect('../redditPosts.sqlite')\n",
    "cur = conn.cursor()"
   ]
  },
  {
   "cell_type": "markdown",
   "metadata": {},
   "source": [
    "## Get the list of existing subreddits in the database."
   ]
  },
  {
   "cell_type": "code",
   "execution_count": 3,
   "metadata": {},
   "outputs": [
    {
     "data": {
      "text/plain": [
       "['Superstonks',\n",
       " 'finance',\n",
       " 'options',\n",
       " 'pennystocks',\n",
       " 'amcstock',\n",
       " 'GME',\n",
       " 'CryptoCurrency',\n",
       " 'dogecoin',\n",
       " 'wallstreetbets']"
      ]
     },
     "execution_count": 3,
     "metadata": {},
     "output_type": "execute_result"
    }
   ],
   "source": [
    "cur.execute('''SELECT subreddit FROM Posts GROUP BY subreddit ORDER BY (COUNT(id))''')\n",
    "subreddits = list(map(lambda x: x[0], cur.fetchall()))\n",
    "\n",
    "subreddits"
   ]
  },
  {
   "cell_type": "code",
   "execution_count": 4,
   "metadata": {},
   "outputs": [
    {
     "name": "stdout",
     "output_type": "stream",
     "text": [
      "Superstonks [(1.4615384615384615, 26, 0), (12.1, 120, 1)]\n",
      "finance [(16.512359550561797, 445, 0), (49.87940705128205, 2496, 1)]\n",
      "options [(5.675890340763515, 7806, 0), (27.118068996925878, 8783, 1)]\n",
      "pennystocks [(5.620451248495324, 32399, 0), (72.21061123177164, 16115, 1)]\n",
      "amcstock [(17.93377755244924, 41421, 0), (104.13195268489488, 80059, 1)]\n",
      "GME [(45.454079474483066, 40189, 0), (137.4685982088646, 105408, 1)]\n",
      "CryptoCurrency [(3.595744680851064, 282, 0), (67.27064220183486, 218, 1)]\n",
      "dogecoin [(3.3076923076923075, 26, 0), (49.43283582089552, 67, 1)]\n",
      "wallstreetbets [(18.386555853530623, 436651, 0), (248.8108802860313, 162220, 1)]\n"
     ]
    }
   ],
   "source": [
    "for subreddit in subreddits:\n",
    "    cur.execute('''SELECT AVG(score), COUNT(score), flag FROM\n",
    "                    (SELECT B.score, (CASE\n",
    "                                    WHEN B.body == '[deleted]' OR B.body == '[removed]' THEN 0\n",
    "                                    ELSE 1\n",
    "                                    END) AS flag\n",
    "                    FROM PostBodyAndScore B\n",
    "                    JOIN (SELECT id FROM Posts WHERE subreddit ==?) P\n",
    "                    On P.id = B.id) comb\n",
    "                    GROUP BY flag''', (subreddit,))\n",
    "\n",
    "    print(subreddit,cur.fetchall())"
   ]
  },
  {
   "cell_type": "markdown",
   "metadata": {},
   "source": [
    "## Retrieve data from the database based on the subreddit."
   ]
  },
  {
   "cell_type": "code",
   "execution_count": 8,
   "metadata": {},
   "outputs": [],
   "source": [
    "subreddit = 'GME'\n",
    "cmd = '''SELECT P.title, P.author, P.ext_link, P.created, B.body, B.score \n",
    "            FROM (SELECT * FROM Posts WHERE subreddit = '{}') P \n",
    "            JOIN PostBodyAndScore B\n",
    "            On P.id = B.id\n",
    "            WHERE B.body != \"[removed]\" AND B.body != \"[deleted]\"'''.format(subreddit)\n",
    "\n",
    "df = pd.read_sql(cmd, conn)"
   ]
  },
  {
   "cell_type": "code",
   "execution_count": 9,
   "metadata": {},
   "outputs": [
    {
     "data": {
      "text/html": [
       "<div>\n",
       "<style scoped>\n",
       "    .dataframe tbody tr th:only-of-type {\n",
       "        vertical-align: middle;\n",
       "    }\n",
       "\n",
       "    .dataframe tbody tr th {\n",
       "        vertical-align: top;\n",
       "    }\n",
       "\n",
       "    .dataframe thead th {\n",
       "        text-align: right;\n",
       "    }\n",
       "</style>\n",
       "<table border=\"1\" class=\"dataframe\">\n",
       "  <thead>\n",
       "    <tr style=\"text-align: right;\">\n",
       "      <th></th>\n",
       "      <th>title</th>\n",
       "      <th>author</th>\n",
       "      <th>ext_link</th>\n",
       "      <th>created</th>\n",
       "      <th>body</th>\n",
       "      <th>score</th>\n",
       "    </tr>\n",
       "  </thead>\n",
       "  <tbody>\n",
       "    <tr>\n",
       "      <th>0</th>\n",
       "      <td>You NEED to see this about GME 🚀🚀🚀🚀🚀🚀</td>\n",
       "      <td>TitsDownOnly</td>\n",
       "      <td>https://www.reddit.com/r/GME/comments/kqfajb/y...</td>\n",
       "      <td>1609786946</td>\n",
       "      <td>After watching this I took a position RIGHT AW...</td>\n",
       "      <td>6</td>\n",
       "    </tr>\n",
       "    <tr>\n",
       "      <th>1</th>\n",
       "      <td>THIS CONVINCED ME TO ALL IN 💰GME (EXTREME PUMP...</td>\n",
       "      <td>TitsDownOnly</td>\n",
       "      <td>https://www.reddit.com/r/GME/comments/kqvp7l/t...</td>\n",
       "      <td>1609841999</td>\n",
       "      <td>This guy explained exactly how to take a posit...</td>\n",
       "      <td>2</td>\n",
       "    </tr>\n",
       "    <tr>\n",
       "      <th>2</th>\n",
       "      <td>ICR conference (11th Jan)</td>\n",
       "      <td>nicky94</td>\n",
       "      <td>https://www.reddit.com/r/GME/comments/krnthg/i...</td>\n",
       "      <td>1609939549</td>\n",
       "      <td>Any speculation or ideas on what Gamestop migh...</td>\n",
       "      <td>14</td>\n",
       "    </tr>\n",
       "    <tr>\n",
       "      <th>3</th>\n",
       "      <td>GME is FINALLY going to the moon, this technic...</td>\n",
       "      <td>TitsDownOnly</td>\n",
       "      <td>https://www.reddit.com/r/GME/comments/kuo3w1/g...</td>\n",
       "      <td>1610315957</td>\n",
       "      <td>After some downwards movement, I think everyb...</td>\n",
       "      <td>11</td>\n",
       "    </tr>\n",
       "    <tr>\n",
       "      <th>4</th>\n",
       "      <td>Ryan Cohen appointed to board!!!!?</td>\n",
       "      <td>nicky94</td>\n",
       "      <td>https://news.gamestop.com/news-releases/news-r...</td>\n",
       "      <td>1610368592</td>\n",
       "      <td></td>\n",
       "      <td>18</td>\n",
       "    </tr>\n",
       "  </tbody>\n",
       "</table>\n",
       "</div>"
      ],
      "text/plain": [
       "                                               title        author  \\\n",
       "0              You NEED to see this about GME 🚀🚀🚀🚀🚀🚀  TitsDownOnly   \n",
       "1  THIS CONVINCED ME TO ALL IN 💰GME (EXTREME PUMP...  TitsDownOnly   \n",
       "2                          ICR conference (11th Jan)       nicky94   \n",
       "3  GME is FINALLY going to the moon, this technic...  TitsDownOnly   \n",
       "4                 Ryan Cohen appointed to board!!!!?       nicky94   \n",
       "\n",
       "                                            ext_link     created  \\\n",
       "0  https://www.reddit.com/r/GME/comments/kqfajb/y...  1609786946   \n",
       "1  https://www.reddit.com/r/GME/comments/kqvp7l/t...  1609841999   \n",
       "2  https://www.reddit.com/r/GME/comments/krnthg/i...  1609939549   \n",
       "3  https://www.reddit.com/r/GME/comments/kuo3w1/g...  1610315957   \n",
       "4  https://news.gamestop.com/news-releases/news-r...  1610368592   \n",
       "\n",
       "                                                body  score  \n",
       "0  After watching this I took a position RIGHT AW...      6  \n",
       "1  This guy explained exactly how to take a posit...      2  \n",
       "2  Any speculation or ideas on what Gamestop migh...     14  \n",
       "3   After some downwards movement, I think everyb...     11  \n",
       "4                                                        18  "
      ]
     },
     "execution_count": 9,
     "metadata": {},
     "output_type": "execute_result"
    }
   ],
   "source": [
    "df.head()"
   ]
  },
  {
   "cell_type": "markdown",
   "metadata": {},
   "source": [
    "## Feature Engineering"
   ]
  },
  {
   "cell_type": "code",
   "execution_count": 10,
   "metadata": {},
   "outputs": [
    {
     "data": {
      "text/html": [
       "<div>\n",
       "<style scoped>\n",
       "    .dataframe tbody tr th:only-of-type {\n",
       "        vertical-align: middle;\n",
       "    }\n",
       "\n",
       "    .dataframe tbody tr th {\n",
       "        vertical-align: top;\n",
       "    }\n",
       "\n",
       "    .dataframe thead th {\n",
       "        text-align: right;\n",
       "    }\n",
       "</style>\n",
       "<table border=\"1\" class=\"dataframe\">\n",
       "  <thead>\n",
       "    <tr style=\"text-align: right;\">\n",
       "      <th></th>\n",
       "      <th>title</th>\n",
       "      <th>author</th>\n",
       "      <th>ext_link</th>\n",
       "      <th>created</th>\n",
       "      <th>body</th>\n",
       "      <th>score</th>\n",
       "      <th>Popular</th>\n",
       "    </tr>\n",
       "  </thead>\n",
       "  <tbody>\n",
       "    <tr>\n",
       "      <th>0</th>\n",
       "      <td>You NEED to see this about GME 🚀🚀🚀🚀🚀🚀</td>\n",
       "      <td>TitsDownOnly</td>\n",
       "      <td>https://www.reddit.com/r/GME/comments/kqfajb/y...</td>\n",
       "      <td>1609786946</td>\n",
       "      <td>After watching this I took a position RIGHT AW...</td>\n",
       "      <td>6</td>\n",
       "      <td>0</td>\n",
       "    </tr>\n",
       "    <tr>\n",
       "      <th>1</th>\n",
       "      <td>THIS CONVINCED ME TO ALL IN 💰GME (EXTREME PUMP...</td>\n",
       "      <td>TitsDownOnly</td>\n",
       "      <td>https://www.reddit.com/r/GME/comments/kqvp7l/t...</td>\n",
       "      <td>1609841999</td>\n",
       "      <td>This guy explained exactly how to take a posit...</td>\n",
       "      <td>2</td>\n",
       "      <td>0</td>\n",
       "    </tr>\n",
       "    <tr>\n",
       "      <th>2</th>\n",
       "      <td>ICR conference (11th Jan)</td>\n",
       "      <td>nicky94</td>\n",
       "      <td>https://www.reddit.com/r/GME/comments/krnthg/i...</td>\n",
       "      <td>1609939549</td>\n",
       "      <td>Any speculation or ideas on what Gamestop migh...</td>\n",
       "      <td>14</td>\n",
       "      <td>0</td>\n",
       "    </tr>\n",
       "    <tr>\n",
       "      <th>3</th>\n",
       "      <td>GME is FINALLY going to the moon, this technic...</td>\n",
       "      <td>TitsDownOnly</td>\n",
       "      <td>https://www.reddit.com/r/GME/comments/kuo3w1/g...</td>\n",
       "      <td>1610315957</td>\n",
       "      <td>After some downwards movement, I think everyb...</td>\n",
       "      <td>11</td>\n",
       "      <td>0</td>\n",
       "    </tr>\n",
       "    <tr>\n",
       "      <th>4</th>\n",
       "      <td>Ryan Cohen appointed to board!!!!?</td>\n",
       "      <td>nicky94</td>\n",
       "      <td>https://news.gamestop.com/news-releases/news-r...</td>\n",
       "      <td>1610368592</td>\n",
       "      <td></td>\n",
       "      <td>18</td>\n",
       "      <td>0</td>\n",
       "    </tr>\n",
       "  </tbody>\n",
       "</table>\n",
       "</div>"
      ],
      "text/plain": [
       "                                               title        author  \\\n",
       "0              You NEED to see this about GME 🚀🚀🚀🚀🚀🚀  TitsDownOnly   \n",
       "1  THIS CONVINCED ME TO ALL IN 💰GME (EXTREME PUMP...  TitsDownOnly   \n",
       "2                          ICR conference (11th Jan)       nicky94   \n",
       "3  GME is FINALLY going to the moon, this technic...  TitsDownOnly   \n",
       "4                 Ryan Cohen appointed to board!!!!?       nicky94   \n",
       "\n",
       "                                            ext_link     created  \\\n",
       "0  https://www.reddit.com/r/GME/comments/kqfajb/y...  1609786946   \n",
       "1  https://www.reddit.com/r/GME/comments/kqvp7l/t...  1609841999   \n",
       "2  https://www.reddit.com/r/GME/comments/krnthg/i...  1609939549   \n",
       "3  https://www.reddit.com/r/GME/comments/kuo3w1/g...  1610315957   \n",
       "4  https://news.gamestop.com/news-releases/news-r...  1610368592   \n",
       "\n",
       "                                                body  score  Popular  \n",
       "0  After watching this I took a position RIGHT AW...      6        0  \n",
       "1  This guy explained exactly how to take a posit...      2        0  \n",
       "2  Any speculation or ideas on what Gamestop migh...     14        0  \n",
       "3   After some downwards movement, I think everyb...     11        0  \n",
       "4                                                        18        0  "
      ]
     },
     "execution_count": 10,
     "metadata": {},
     "output_type": "execute_result"
    }
   ],
   "source": [
    "df_model = df.copy()\n",
    "\n",
    "df_model['Popular'] = 1*(df_model['score'] > np.percentile(df_model['score'], 95))\n",
    "\n",
    "df_model.head()"
   ]
  },
  {
   "cell_type": "code",
   "execution_count": 11,
   "metadata": {},
   "outputs": [],
   "source": [
    "def emoji_count(s):\n",
    "    s = ''.join(word.strip(string.punctuation) for word in s.split())\n",
    "    return len(re.findall('[^\\w\\s,\\(\\)\\'\\/-]',s))\n",
    "\n",
    "def hourOfDay(utc):\n",
    "    return dt.datetime.utcfromtimestamp(utc).hour\n",
    "\n",
    "def dayOfWeek(utc):\n",
    "    return dt.datetime.utcfromtimestamp(utc).weekday()\n",
    "\n",
    "def textLength(text):\n",
    "    return len(text.split())\n",
    "\n",
    "def postType(link):\n",
    "    if not link:\n",
    "        return 'others'\n",
    "    if 'png' in link or 'jpg' in link:\n",
    "        return 'figures'\n",
    "    elif '/r/' in link:\n",
    "        return 'others'\n",
    "    else:\n",
    "        return 'outside_link'\n",
    "\n",
    "def countUpper(text):\n",
    "    Up = 0\n",
    "    Low = 0\n",
    "    for ch in text:\n",
    "        if ch.isupper():\n",
    "            Up += 1\n",
    "        elif ch.islower():\n",
    "            Low += 1\n",
    "    \n",
    "    if Up + Low:\n",
    "        return Up/(Up+Low)\n",
    "    else:\n",
    "        return 0\n",
    "    \n",
    "def exclamationAndQuestion(text):\n",
    "    return text.count('!') + text.count('?')\n",
    "\n",
    "def getMonth(utc):\n",
    "    return dt.datetime.utcfromtimestamp(utc).month\n",
    "\n",
    "def getAuthorInfo(author,created, df):\n",
    "    df_author = df[df['author'] == author]\n",
    "    df_prevHist = df_author[df_author['created'] < created]\n",
    "    \n",
    "    if df_prevHist.shape[0] == 0:\n",
    "        return 0, 1, 1\n",
    "    \n",
    "    log_post = np.log10(df_prevHist.shape[0])\n",
    "    mean_upvotes = df_prevHist['score'].mean()\n",
    "    max_upvotes = df_prevHist['score'].max()\n",
    "    return log_post, mean_upvotes, max_upvotes\n",
    "    \n",
    "def primeTime(hour):\n",
    "    primeTime = 1 if hour >= 7 and hour <= 11 else 0\n",
    "    \n",
    "    return primeTime\n",
    "\n",
    "def weekend(day):\n",
    "    return 1 if day >= 5 else 0\n",
    "\n",
    "def featureProcessing(df_model):\n",
    "    df_model['title_emoji'] = df_model['title'].apply(emoji_count)\n",
    "    df_model['body_emoji'] = df_model['body'].apply(emoji_count)\n",
    "    df_model['title_length'] = df_model['title'].apply(textLength)\n",
    "    df_model['body_length'] = df_model['body'].apply(textLength)\n",
    "    df_model['title_EQ'] = df_model['title'].apply(exclamationAndQuestion)\n",
    "    df_model['body_EQ'] = df_model['body'].apply(exclamationAndQuestion)\n",
    "    df_model['title_UL'] = df_model['title'].apply(countUpper)\n",
    "    df_model['body_UL'] = df_model['body'].apply(countUpper)    \n",
    "    df_model['hour'] = df_model['created'].apply(hourOfDay)\n",
    "    df_model['day'] = df_model['created'].apply(dayOfWeek)\n",
    "    df_model['post_type'] = df_model['ext_link'].apply(postType)\n",
    "    df_model['prime_time'] = df_model['hour'].apply(primeTime)\n",
    "    df_model['weekend'] = df_model['day'].apply(weekend)\n",
    "    df_model['month'] = df_model['created'].apply(getMonth)\n",
    "    \n",
    "    \n",
    "    for row in range(df_model.shape[0]):\n",
    "        df_model.loc[row, ['log_num', 'mean_upvotes', 'max_upvotes']] = getAuthorInfo(df_model.loc[row,'author'], df_model.loc[row,'created'], df_model)\n",
    "\n",
    "    "
   ]
  },
  {
   "cell_type": "code",
   "execution_count": 12,
   "metadata": {},
   "outputs": [],
   "source": [
    "featureProcessing(df_model)"
   ]
  },
  {
   "cell_type": "code",
   "execution_count": 31,
   "metadata": {},
   "outputs": [
    {
     "name": "stderr",
     "output_type": "stream",
     "text": [
      "C:\\Users\\kungc\\AppData\\Local\\Packages\\PythonSoftwareFoundation.Python.3.8_qbz5n2kfra8p0\\LocalCache\\local-packages\\Python38\\site-packages\\IPython\\core\\interactiveshell.py:3145: DtypeWarning: Columns (1,3) have mixed types.Specify dtype option on import or set low_memory=False.\n",
      "  has_raised = await self.run_ast_nodes(code_ast.body, cell_name,\n"
     ]
    }
   ],
   "source": [
    "df_twitter = pd.read_csv('../Twitter Data/TWEETS+SENTIMENT_individual.csv')\n",
    "\n",
    "df_twitter.Date = df_twitter.Date.astype('str')\n",
    "\n",
    "def convertToUNIX(date):\n",
    "    try:\n",
    "        result = np.datetime64(date).astype('datetime64[s]').astype('int')\n",
    "    except:\n",
    "        result = 0\n",
    "    return result\n",
    "\n",
    "df_twitter['Vader_weighted'] = df_twitter['Vader'] * df_twitter['retweet']\n",
    "\n",
    "df_grouped = df_twitter.groupby('Date').sum()\n",
    "\n",
    "df_grouped['Date'] = df_grouped.index\n",
    "\n",
    "df_grouped['UNIX'] = df_grouped.Date.apply(convertToUNIX)\n",
    "\n",
    "def getTwitterInfo(timestamp, df, gap = 86400*3):\n",
    "    df_sum = df[(df['UNIX'] < timestamp) & (df['UNIX'] >= timestamp - gap)].sum()\n",
    "    \n",
    "    return df_sum.retweet, df_sum.likes, df_sum.num, df_sum.Vader_weighted/df_sum.retweet\n",
    "\n",
    "\n",
    "for i in range(df_model.shape[0]):\n",
    "    df_model.loc[i,['retweet', 'likes', 'num', 'twitter_sent']] = getTwitterInfo(df_model.loc[i,'created'], df_grouped)"
   ]
  },
  {
   "cell_type": "code",
   "execution_count": 15,
   "metadata": {},
   "outputs": [],
   "source": [
    "analyzer = SentimentIntensityAnalyzer()\n",
    "\n",
    "def sentiment(title):\n",
    "    \n",
    "    return analyzer.polarity_scores(title)['compound']\n",
    "\n",
    "df_model['sentiment'] = df_model['title'].apply(sentiment)"
   ]
  },
  {
   "cell_type": "code",
   "execution_count": 16,
   "metadata": {},
   "outputs": [],
   "source": [
    "df_model[['figures', 'outside_link']] = pd.get_dummies(df_model['post_type'])[['figures', 'outside_link']]\n",
    "df_model['title_EQ_Norm'] = df_model['title_EQ']/df_model['title_length']"
   ]
  },
  {
   "cell_type": "code",
   "execution_count": 22,
   "metadata": {},
   "outputs": [
    {
     "data": {
      "text/plain": [
       "0.2793348148148148"
      ]
     },
     "execution_count": 22,
     "metadata": {},
     "output_type": "execute_result"
    }
   ],
   "source": [
    "df_model.twitter_sent.max()"
   ]
  },
  {
   "cell_type": "markdown",
   "metadata": {},
   "source": [
    "## Some exploratory data analysis on the features\n",
    "\n",
    "### Effect of time and day"
   ]
  },
  {
   "cell_type": "code",
   "execution_count": 28,
   "metadata": {},
   "outputs": [],
   "source": [
    "hots = np.zeros((7,24))\n",
    "\n",
    "for hr in range(24):\n",
    "    df_hour = df_model[df_model['hour'] == hr]\n",
    "    for dy in range(7):\n",
    "        hots[dy,hr] = df_hour[df_hour['day'] == dy].Popular.mean()"
   ]
  },
  {
   "cell_type": "code",
   "execution_count": 36,
   "metadata": {},
   "outputs": [
    {
     "name": "stdout",
     "output_type": "stream",
     "text": [
      "0.11046511627906977\n"
     ]
    },
    {
     "data": {
      "image/png": "[encoded data removed]",
      "text/plain": [
       "<Figure size 432x288 with 2 Axes>"
      ]
     },
     "metadata": {
      "needs_background": "light"
     },
     "output_type": "display_data"
    }
   ],
   "source": [
    "import seaborn as sns\n",
    "\n",
    "ax = sns.heatmap(hots)\n",
    "ax.set_title('Popularity chance for different time and day.')\n",
    "ax.set_xlabel('Hour')\n",
    "ax.set_ylabel('Day')\n",
    "print(np.max(hots))"
   ]
  },
  {
   "cell_type": "markdown",
   "metadata": {},
   "source": [
    "### Effect of Uppercase Proportion of the post"
   ]
  },
  {
   "cell_type": "code",
   "execution_count": 89,
   "metadata": {},
   "outputs": [
    {
     "data": {
      "text/plain": [
       "Text(0.5, 1.0, 'The proportion of uppercase letters in titles/bodies vs popular rate.')"
      ]
     },
     "execution_count": 89,
     "metadata": {},
     "output_type": "execute_result"
    },
    {
     "data": {
      "image/png": "[encoded data removed]",
      "text/plain": [
       "<Figure size 432x288 with 1 Axes>"
      ]
     },
     "metadata": {
      "needs_background": "light"
     },
     "output_type": "display_data"
    }
   ],
   "source": [
    "xx = np.linspace(0.1,1,10)\n",
    "\n",
    "titlesL = []\n",
    "titlesS = []\n",
    "bodiesL = []\n",
    "bodiesS = []\n",
    "\n",
    "for x in xx:\n",
    "    titlesL.append(df_model[df_model['title_UL'] >= x].Popular.mean())\n",
    "    titlesS.append(df_model[df_model['title_UL'] < x].Popular.mean())\n",
    "    bodiesL.append(df_model[df_model['body_UL'] >= x].Popular.mean())\n",
    "    bodiesS.append(df_model[df_model['body_UL'] < x].Popular.mean())\n",
    "\n",
    "    \n",
    "plt.plot(xx,titlesL, label = 'Title >=')\n",
    "plt.plot(xx,titlesS, label = 'Title <')\n",
    "plt.plot(xx,bodiesL, label = 'Body >=')\n",
    "plt.plot(xx,bodiesS, label = 'Body <')\n",
    "\n",
    "plt.legend()\n",
    "plt.title('The proportion of uppercase letters in titles/bodies vs popular rate.')"
   ]
  },
  {
   "cell_type": "markdown",
   "metadata": {},
   "source": [
    "### Effect of Exclamation Points and Question Marks"
   ]
  },
  {
   "cell_type": "code",
   "execution_count": 88,
   "metadata": {},
   "outputs": [
    {
     "data": {
      "text/plain": [
       "Text(0.5, 1.0, 'The proportion of exclamation points/question marks in titles/bodies vs popular rate.')"
      ]
     },
     "execution_count": 88,
     "metadata": {},
     "output_type": "execute_result"
    },
    {
     "data": {
      "image/png": "[encoded data removed]",
      "text/plain": [
       "<Figure size 432x288 with 1 Axes>"
      ]
     },
     "metadata": {
      "needs_background": "light"
     },
     "output_type": "display_data"
    }
   ],
   "source": [
    "xx = np.linspace(0,90)\n",
    "\n",
    "titlesL = []\n",
    "titlesS = []\n",
    "bodiesL = []\n",
    "bodiesS = []\n",
    "\n",
    "for x in xx:\n",
    "    titlesL.append(df_model[df_model['title_EQ'] >= x].Popular.mean())\n",
    "    titlesS.append(df_model[df_model['title_EQ'] < x].Popular.mean())\n",
    "    bodiesL.append(df_model[df_model['body_EQ'] >= x].Popular.mean())\n",
    "    bodiesS.append(df_model[df_model['body_EQ'] < x].Popular.mean())\n",
    "\n",
    "    \n",
    "plt.plot(xx,titlesL, label = 'Title >=')\n",
    "plt.plot(xx,titlesS, label = 'Title <')\n",
    "plt.plot(xx,bodiesL, label = 'Body >=')\n",
    "plt.plot(xx,bodiesS, label = 'Body <')\n",
    "\n",
    "plt.legend()\n",
    "plt.title('The proportion of exclamation points/question marks in titles/bodies vs popular rate.')"
   ]
  },
  {
   "cell_type": "code",
   "execution_count": 74,
   "metadata": {},
   "outputs": [
    {
     "data": {
      "text/plain": [
       "Text(0.5, 1.0, 'The proportion of exclamation points/question marks in titles vs popular rate.')"
      ]
     },
     "execution_count": 74,
     "metadata": {},
     "output_type": "execute_result"
    },
    {
     "data": {
      "image/png": "[encoded data removed]",
      "text/plain": [
       "<Figure size 432x288 with 1 Axes>"
      ]
     },
     "metadata": {
      "needs_background": "light"
     },
     "output_type": "display_data"
    }
   ],
   "source": [
    "xx = np.linspace(0,1, 100)\n",
    "\n",
    "\n",
    "titlesLN = []\n",
    "titlesSN = []\n",
    "\n",
    "\n",
    "for x in xx:\n",
    "    titlesLN.append(df_model[df_model['title_EQ_Norm'] >= x].Popular.mean())\n",
    "    titlesSN.append(df_model[df_model['title_EQ_Norm'] < x].Popular.mean())\n",
    "\n",
    "\n",
    "    \n",
    "plt.plot(xx,titlesLN, label = 'Title >=')\n",
    "plt.plot(xx,titlesSN, label = 'Title <')\n",
    "\n",
    "\n",
    "plt.legend()\n",
    "plt.title('The proportion of exclamation points/question marks in titles vs popular rate.')"
   ]
  },
  {
   "cell_type": "markdown",
   "metadata": {},
   "source": [
    "### Check the feasibility of splitting the training/testing set by time"
   ]
  },
  {
   "cell_type": "code",
   "execution_count": 22,
   "metadata": {},
   "outputs": [
    {
     "name": "stdout",
     "output_type": "stream",
     "text": [
      "76718\n",
      "28690\n"
     ]
    }
   ],
   "source": [
    "\n",
    "df_model_TrAiN = df_model[df_model['month'] < 4]\n",
    "df_model_TeSt = df_model[df_model['month'] >= 4]\n",
    "\n",
    "df_model_TeSt.head()\n",
    "\n",
    "print(df_model_TrAiN.Popular.count())\n",
    "\n",
    "print(df_model_TeSt.Popular.count())"
   ]
  },
  {
   "cell_type": "markdown",
   "metadata": {},
   "source": [
    "### Check if the three features of Twitter are useful, and whether they are mutually redundant."
   ]
  },
  {
   "cell_type": "code",
   "execution_count": 32,
   "metadata": {},
   "outputs": [
    {
     "data": {
      "text/plain": [
       "37396"
      ]
     },
     "execution_count": 32,
     "metadata": {},
     "output_type": "execute_result"
    },
    {
     "data": {
      "image/png": "[encoded data removed]",
      "text/plain": [
       "<Figure size 1440x1080 with 4 Axes>"
      ]
     },
     "metadata": {
      "needs_background": "light"
     },
     "output_type": "display_data"
    }
   ],
   "source": [
    "fig, axes = plt.subplots(2,2)\n",
    "\n",
    "axs = axes.ravel()\n",
    "fig.set_size_inches((20,15))\n",
    "axs[0].scatter(df_model.retweet, df_model.score)\n",
    "axs[0].set_ylabel('Total score')\n",
    "axs[1].scatter(df_model.likes, df_model.score)\n",
    "axs[2].scatter(df_model.num, df_model.score)\n",
    "axs[3].scatter(df_model.twitter_sent, df_model.score)\n",
    "df_model.score.max()"
   ]
  },
  {
   "cell_type": "code",
   "execution_count": 95,
   "metadata": {},
   "outputs": [
    {
     "data": {
      "text/plain": [
       "<matplotlib.collections.PathCollection at 0x1919b2b33a0>"
      ]
     },
     "execution_count": 95,
     "metadata": {},
     "output_type": "execute_result"
    },
    {
     "data": {
      "image/png": "[encoded data removed]",
      "text/plain": [
       "<Figure size 432x288 with 1 Axes>"
      ]
     },
     "metadata": {
      "needs_background": "light"
     },
     "output_type": "display_data"
    }
   ],
   "source": [
    "plt.scatter(df_model.num, df_model.likes)"
   ]
  },
  {
   "cell_type": "markdown",
   "metadata": {},
   "source": [
    "### Sentiment vs upvotes"
   ]
  },
  {
   "cell_type": "code",
   "execution_count": 31,
   "metadata": {},
   "outputs": [
    {
     "data": {
      "text/plain": [
       "<matplotlib.collections.PathCollection at 0x2242b583c70>"
      ]
     },
     "execution_count": 31,
     "metadata": {},
     "output_type": "execute_result"
    },
    {
     "data": {
      "image/png": "[encoded data removed]",
      "text/plain": [
       "<Figure size 432x288 with 1 Axes>"
      ]
     },
     "metadata": {
      "needs_background": "light"
     },
     "output_type": "display_data"
    }
   ],
   "source": [
    "plt.scatter(df_model.sentiment, df_model.score)"
   ]
  },
  {
   "cell_type": "markdown",
   "metadata": {},
   "source": [
    "## Training the Model\n",
    "\n",
    "Since the dataset is quite imbalanced (~3% popular posts), I decided to use oversampling to make a balanced dataset. One thing I realized is that I should not oversample before splitting the dataset into training/testing sets, as the testing datapoints will have leaked into the training set. \n",
    "\n",
    "By extension, the cross validation also shouldn't be performed if we oversample. I did not think of that when writing this block, so you can see that the cross validation gives increasingly good results as the complexity increases. "
   ]
  },
  {
   "cell_type": "code",
   "execution_count": 35,
   "metadata": {},
   "outputs": [
    {
     "data": {
      "text/html": [
       "<div>\n",
       "<style scoped>\n",
       "    .dataframe tbody tr th:only-of-type {\n",
       "        vertical-align: middle;\n",
       "    }\n",
       "\n",
       "    .dataframe tbody tr th {\n",
       "        vertical-align: top;\n",
       "    }\n",
       "\n",
       "    .dataframe thead th {\n",
       "        text-align: right;\n",
       "    }\n",
       "</style>\n",
       "<table border=\"1\" class=\"dataframe\">\n",
       "  <thead>\n",
       "    <tr style=\"text-align: right;\">\n",
       "      <th></th>\n",
       "      <th>title_emoji</th>\n",
       "      <th>body_emoji</th>\n",
       "      <th>title_length</th>\n",
       "      <th>body_length</th>\n",
       "      <th>body_EQ</th>\n",
       "      <th>title_UL</th>\n",
       "      <th>body_UL</th>\n",
       "      <th>prime_time</th>\n",
       "      <th>weekend</th>\n",
       "      <th>log_num</th>\n",
       "      <th>mean_upvotes</th>\n",
       "      <th>max_upvotes</th>\n",
       "      <th>figures</th>\n",
       "      <th>outside_link</th>\n",
       "      <th>title_EQ_Norm</th>\n",
       "    </tr>\n",
       "  </thead>\n",
       "  <tbody>\n",
       "    <tr>\n",
       "      <th>76718</th>\n",
       "      <td>0</td>\n",
       "      <td>0</td>\n",
       "      <td>4</td>\n",
       "      <td>69</td>\n",
       "      <td>0</td>\n",
       "      <td>0.166667</td>\n",
       "      <td>0.041237</td>\n",
       "      <td>0</td>\n",
       "      <td>0</td>\n",
       "      <td>0.000000</td>\n",
       "      <td>1.000000</td>\n",
       "      <td>1.0</td>\n",
       "      <td>0</td>\n",
       "      <td>0</td>\n",
       "      <td>0.000000</td>\n",
       "    </tr>\n",
       "    <tr>\n",
       "      <th>76719</th>\n",
       "      <td>1</td>\n",
       "      <td>0</td>\n",
       "      <td>18</td>\n",
       "      <td>0</td>\n",
       "      <td>0</td>\n",
       "      <td>0.048780</td>\n",
       "      <td>0.000000</td>\n",
       "      <td>0</td>\n",
       "      <td>0</td>\n",
       "      <td>0.000000</td>\n",
       "      <td>1.000000</td>\n",
       "      <td>1.0</td>\n",
       "      <td>1</td>\n",
       "      <td>0</td>\n",
       "      <td>0.111111</td>\n",
       "    </tr>\n",
       "    <tr>\n",
       "      <th>76720</th>\n",
       "      <td>0</td>\n",
       "      <td>9</td>\n",
       "      <td>3</td>\n",
       "      <td>65</td>\n",
       "      <td>0</td>\n",
       "      <td>0.090909</td>\n",
       "      <td>0.017483</td>\n",
       "      <td>0</td>\n",
       "      <td>0</td>\n",
       "      <td>0.301030</td>\n",
       "      <td>10.000000</td>\n",
       "      <td>13.0</td>\n",
       "      <td>0</td>\n",
       "      <td>0</td>\n",
       "      <td>0.000000</td>\n",
       "    </tr>\n",
       "    <tr>\n",
       "      <th>76721</th>\n",
       "      <td>0</td>\n",
       "      <td>0</td>\n",
       "      <td>12</td>\n",
       "      <td>0</td>\n",
       "      <td>0</td>\n",
       "      <td>0.317073</td>\n",
       "      <td>0.000000</td>\n",
       "      <td>0</td>\n",
       "      <td>0</td>\n",
       "      <td>0.477121</td>\n",
       "      <td>10.000000</td>\n",
       "      <td>13.0</td>\n",
       "      <td>1</td>\n",
       "      <td>0</td>\n",
       "      <td>0.000000</td>\n",
       "    </tr>\n",
       "    <tr>\n",
       "      <th>76722</th>\n",
       "      <td>0</td>\n",
       "      <td>3</td>\n",
       "      <td>3</td>\n",
       "      <td>23</td>\n",
       "      <td>1</td>\n",
       "      <td>0.090909</td>\n",
       "      <td>0.102804</td>\n",
       "      <td>0</td>\n",
       "      <td>0</td>\n",
       "      <td>1.819544</td>\n",
       "      <td>20.848485</td>\n",
       "      <td>205.0</td>\n",
       "      <td>0</td>\n",
       "      <td>0</td>\n",
       "      <td>0.000000</td>\n",
       "    </tr>\n",
       "  </tbody>\n",
       "</table>\n",
       "</div>"
      ],
      "text/plain": [
       "       title_emoji  body_emoji  title_length  body_length  body_EQ  title_UL  \\\n",
       "76718            0           0             4           69        0  0.166667   \n",
       "76719            1           0            18            0        0  0.048780   \n",
       "76720            0           9             3           65        0  0.090909   \n",
       "76721            0           0            12            0        0  0.317073   \n",
       "76722            0           3             3           23        1  0.090909   \n",
       "\n",
       "        body_UL  prime_time  weekend   log_num  mean_upvotes  max_upvotes  \\\n",
       "76718  0.041237           0        0  0.000000      1.000000          1.0   \n",
       "76719  0.000000           0        0  0.000000      1.000000          1.0   \n",
       "76720  0.017483           0        0  0.301030     10.000000         13.0   \n",
       "76721  0.000000           0        0  0.477121     10.000000         13.0   \n",
       "76722  0.102804           0        0  1.819544     20.848485        205.0   \n",
       "\n",
       "       figures  outside_link  title_EQ_Norm  \n",
       "76718        0             0       0.000000  \n",
       "76719        1             0       0.111111  \n",
       "76720        0             0       0.000000  \n",
       "76721        1             0       0.000000  \n",
       "76722        0             0       0.000000  "
      ]
     },
     "execution_count": 35,
     "metadata": {},
     "output_type": "execute_result"
    }
   ],
   "source": [
    "df_features = df_model.drop(columns = ['title','author','ext_link','created','body','post_type','title_EQ', 'hour','day','score','retweet','likes','num','sentiment','twitter_sent'])\n",
    "\n",
    "X = df_features.drop(columns = ['Popular'])\n",
    "y = df_model['Popular']\n",
    "\n",
    "X_train, X_test, y_train, y_test = X[X['month'] < 4].drop(columns = ['month']), X[X['month'] >= 4].drop(columns = ['month']), y[X['month'] < 4], y[X['month'] >= 4]\n",
    "\n",
    "X_test.head()\n",
    "#X_train, X_test, y_train, y_test = train_test_split(X,y, test_size = 0.2, stratify = y)"
   ]
  },
  {
   "cell_type": "markdown",
   "metadata": {},
   "source": [
    "### Modulizing the training process.\n",
    "\n",
    "I will write a function to automate the training process, including cross validation."
   ]
  },
  {
   "cell_type": "code",
   "execution_count": 26,
   "metadata": {},
   "outputs": [],
   "source": [
    "from sklearn.preprocessing import StandardScaler\n",
    "from sklearn.model_selection import GridSearchCV\n",
    "from sklearn.model_selection import TimeSeriesSplit\n",
    "from sklearn.metrics import confusion_matrix\n",
    "from sklearn.tree import DecisionTreeClassifier\n",
    "from sklearn.ensemble import RandomForestClassifier\n",
    "from sklearn.linear_model import LogisticRegression\n",
    "from sklearn.svm import SVC\n",
    "from sklearn.ensemble import AdaBoostClassifier\n",
    "from xgboost import XGBClassifier\n",
    "from sklearn.metrics import precision_recall_curve\n",
    "from sklearn.metrics import precision_score\n",
    "from sklearn.ensemble import GradientBoostingClassifier\n",
    "from sklearn.ensemble import VotingClassifier\n",
    "from sklearn.calibration import CalibratedClassifierCV\n",
    "from sklearn.neighbors import KNeighborsClassifier\n",
    "from sklearn.model_selection import train_test_split\n",
    "from sklearn.base import clone"
   ]
  },
  {
   "cell_type": "markdown",
   "metadata": {},
   "source": [
    "### Probability Calibration\n",
    "\n",
    "Most models are not calibrated in probability, and I would like to see if calibrating the probability can help with the PR curve.\n"
   ]
  },
  {
   "cell_type": "code",
   "execution_count": 27,
   "metadata": {},
   "outputs": [],
   "source": [
    "def trainingImbalanced(gridModel, X_train, y_train, weight_factor):\n",
    "    \n",
    "    weights = np.ones(y_train.shape)\n",
    "    \n",
    "    weights[y_train == 1] = weight_factor/np.mean(y_train)\n",
    "    gridModel.fit(X_train, y_train, sample_weight = weights)\n",
    "    \n",
    "    \n",
    "    \n",
    "def trainAndNotCalibrate(gridModel, X_train, y_train, X_test, weight_factor):\n",
    "    scaler = StandardScaler()\n",
    "    \n",
    "    X_transformed = scaler.fit_transform(X_train)\n",
    "    \n",
    "    \n",
    "    trainingImbalanced(gridModel, X_train, y_train, weight_factor)\n",
    "    \n",
    "    \n",
    "    X_testTrans = scaler.transform(X_test)\n",
    "    \n",
    "    return gridModel.predict_proba(X_testTrans)[:,1], gridModel.predict_proba(X_transformed)[:,-1], y_train\n",
    "\n",
    "def trainAndCalibrate(gridModel, X_train, y_train, X_test, weight_factor):\n",
    "    scaler = StandardScaler()\n",
    "    \n",
    "    X_transformed = scaler.fit_transform(X_train)\n",
    "    \n",
    "    X_train_train, X_val, y_train_train, y_val = train_test_split(X_transformed, y_train, test_size = 0.1, stratify = y_train)\n",
    "    \n",
    "    trainingImbalanced(gridModel, X_train_train, y_train_train, weight_factor)\n",
    "    \n",
    "    calibrated = CalibratedClassifierCV(gridModel, method = 'isotonic', cv = 'prefit')\n",
    "    \n",
    "    calibrated.fit(X_val, y_val)\n",
    "    \n",
    "    X_testTrans = scaler.transform(X_test)\n",
    "    \n",
    "    #return gridModel.predict(X_testTrans), gridModel.predict_proba(X_testTrans)[:,1]\n",
    "    return calibrated.predict_proba(X_testTrans)[:,1], calibrated.predict_proba(X_val)[:,1], y_val\n",
    "\n",
    "def trainAndCompareCalibration(gridModel, X_train, y_train, X_test, y_test, modelName, weight_factor = 1):\n",
    "    cloned = clone(gridModel)\n",
    "    \n",
    "    yProbCal, yCalTrain, y_valCal = trainAndCalibrate(gridModel, X_train, y_train, X_test, weight_factor)\n",
    "\n",
    "    \n",
    "    yProbUnCal, yUnCalTrain, y_valUnCal = trainAndNotCalibrate(cloned, X_train, y_train, X_test, weight_factor)\n",
    "    \n",
    "\n",
    "    precCal, recCal, thresholdCal = precision_recall_curve(y_test, yProbCal)\n",
    "    plt.plot(recCal,precCal, label = f'Calibrated {modelName}')\n",
    "    \n",
    "    precUnCal, recUnCal, threshold = precision_recall_curve(y_test, yProbUnCal)\n",
    "    plt.plot(recUnCal,precUnCal, label = f'Uncalibrated {modelName}')    \n",
    "    \n",
    "    precCal, recCal, _ = precision_recall_curve(y_valCal, yCalTrain)\n",
    "    plt.plot(recCal,precCal, label = f'Calibrated Train {modelName}')\n",
    "    \n",
    "    precUnCal, recUnCal, _ = precision_recall_curve(y_valUnCal, yUnCalTrain)\n",
    "    plt.plot(recUnCal,precUnCal, label = f'Uncalibrated Train {modelName}')      \n",
    "    \n",
    "    plt.grid()\n",
    "    plt.legend()\n",
    "    plt.show()\n",
    "    \n",
    "    return thresholdCal\n"
   ]
  },
  {
   "cell_type": "code",
   "execution_count": 33,
   "metadata": {},
   "outputs": [
    {
     "data": {
      "image/png": "[encoded data removed]",
      "text/plain": [
       "<Figure size 432x288 with 1 Axes>"
      ]
     },
     "metadata": {
      "needs_background": "light"
     },
     "output_type": "display_data"
    },
    {
     "data": {
      "text/plain": [
       "array([0.0083426 , 0.01986755, 0.02118644, 0.02222222, 0.02466793,\n",
       "       0.03030303, 0.04389575, 0.04450626, 0.0606488 , 0.06363636,\n",
       "       0.08646617, 0.08902077, 0.12413793, 0.12738854, 0.21105528,\n",
       "       0.53846154])"
      ]
     },
     "execution_count": 33,
     "metadata": {},
     "output_type": "execute_result"
    }
   ],
   "source": [
    "tree_clf = GridSearchCV(DecisionTreeClassifier(), param_grid = {'max_depth': range(4,7)}, scoring = 'precision')\n",
    "\n",
    "trainAndCompareCalibration(tree_clf, X_train, y_train, X_test, y_test,'Decision Tree', 1)"
   ]
  },
  {
   "cell_type": "code",
   "execution_count": 37,
   "metadata": {},
   "outputs": [
    {
     "data": {
      "image/png": "[encoded data removed]",
      "text/plain": [
       "<Figure size 432x288 with 1 Axes>"
      ]
     },
     "metadata": {
      "needs_background": "light"
     },
     "output_type": "display_data"
    },
    {
     "data": {
      "text/plain": [
       "array([0.00846154, 0.01399027, 0.02061856, 0.02139037, 0.02658789,\n",
       "       0.04464286, 0.05405405, 0.06129398, 0.06277056, 0.0862069 ,\n",
       "       0.10722611, 0.12449799, 0.19417476, 0.21126761, 0.25      ,\n",
       "       0.55555556])"
      ]
     },
     "execution_count": 37,
     "metadata": {},
     "output_type": "execute_result"
    }
   ],
   "source": [
    "tree_clf = GridSearchCV(DecisionTreeClassifier(), param_grid = {'max_depth': range(4,7)}, scoring = 'precision')\n",
    "\n",
    "trainAndCompareCalibration(tree_clf, X_train, y_train, X_test, y_test,'Decision Tree', 1)"
   ]
  },
  {
   "cell_type": "code",
   "execution_count": 30,
   "metadata": {},
   "outputs": [
    {
     "name": "stdout",
     "output_type": "stream",
     "text": [
      "RandomForestClassifier(max_depth=8)\n"
     ]
    },
    {
     "data": {
      "text/html": [
       "<div>\n",
       "<style scoped>\n",
       "    .dataframe tbody tr th:only-of-type {\n",
       "        vertical-align: middle;\n",
       "    }\n",
       "\n",
       "    .dataframe tbody tr th {\n",
       "        vertical-align: top;\n",
       "    }\n",
       "\n",
       "    .dataframe thead th {\n",
       "        text-align: right;\n",
       "    }\n",
       "</style>\n",
       "<table border=\"1\" class=\"dataframe\">\n",
       "  <thead>\n",
       "    <tr style=\"text-align: right;\">\n",
       "      <th></th>\n",
       "      <th>Name</th>\n",
       "      <th>Importance</th>\n",
       "    </tr>\n",
       "  </thead>\n",
       "  <tbody>\n",
       "    <tr>\n",
       "      <th>2</th>\n",
       "      <td>title_length</td>\n",
       "      <td>0.212544</td>\n",
       "    </tr>\n",
       "    <tr>\n",
       "      <th>10</th>\n",
       "      <td>mean_upvotes</td>\n",
       "      <td>0.161850</td>\n",
       "    </tr>\n",
       "    <tr>\n",
       "      <th>3</th>\n",
       "      <td>body_length</td>\n",
       "      <td>0.111166</td>\n",
       "    </tr>\n",
       "    <tr>\n",
       "      <th>11</th>\n",
       "      <td>max_upvotes</td>\n",
       "      <td>0.096095</td>\n",
       "    </tr>\n",
       "    <tr>\n",
       "      <th>12</th>\n",
       "      <td>twitter_sent</td>\n",
       "      <td>0.066349</td>\n",
       "    </tr>\n",
       "    <tr>\n",
       "      <th>14</th>\n",
       "      <td>figures</td>\n",
       "      <td>0.060729</td>\n",
       "    </tr>\n",
       "    <tr>\n",
       "      <th>1</th>\n",
       "      <td>body_emoji</td>\n",
       "      <td>0.056067</td>\n",
       "    </tr>\n",
       "    <tr>\n",
       "      <th>16</th>\n",
       "      <td>title_EQ_Norm</td>\n",
       "      <td>0.042157</td>\n",
       "    </tr>\n",
       "    <tr>\n",
       "      <th>5</th>\n",
       "      <td>title_UL</td>\n",
       "      <td>0.037046</td>\n",
       "    </tr>\n",
       "    <tr>\n",
       "      <th>6</th>\n",
       "      <td>body_UL</td>\n",
       "      <td>0.034119</td>\n",
       "    </tr>\n",
       "    <tr>\n",
       "      <th>13</th>\n",
       "      <td>sentiment</td>\n",
       "      <td>0.030406</td>\n",
       "    </tr>\n",
       "    <tr>\n",
       "      <th>4</th>\n",
       "      <td>body_EQ</td>\n",
       "      <td>0.028384</td>\n",
       "    </tr>\n",
       "    <tr>\n",
       "      <th>9</th>\n",
       "      <td>log_num</td>\n",
       "      <td>0.028290</td>\n",
       "    </tr>\n",
       "    <tr>\n",
       "      <th>0</th>\n",
       "      <td>title_emoji</td>\n",
       "      <td>0.016095</td>\n",
       "    </tr>\n",
       "    <tr>\n",
       "      <th>8</th>\n",
       "      <td>weekend</td>\n",
       "      <td>0.007886</td>\n",
       "    </tr>\n",
       "    <tr>\n",
       "      <th>15</th>\n",
       "      <td>outside_link</td>\n",
       "      <td>0.006645</td>\n",
       "    </tr>\n",
       "    <tr>\n",
       "      <th>7</th>\n",
       "      <td>prime_time</td>\n",
       "      <td>0.004171</td>\n",
       "    </tr>\n",
       "  </tbody>\n",
       "</table>\n",
       "</div>"
      ],
      "text/plain": [
       "             Name  Importance\n",
       "2    title_length    0.212544\n",
       "10   mean_upvotes    0.161850\n",
       "3     body_length    0.111166\n",
       "11    max_upvotes    0.096095\n",
       "12   twitter_sent    0.066349\n",
       "14        figures    0.060729\n",
       "1      body_emoji    0.056067\n",
       "16  title_EQ_Norm    0.042157\n",
       "5        title_UL    0.037046\n",
       "6         body_UL    0.034119\n",
       "13      sentiment    0.030406\n",
       "4         body_EQ    0.028384\n",
       "9         log_num    0.028290\n",
       "0     title_emoji    0.016095\n",
       "8         weekend    0.007886\n",
       "15   outside_link    0.006645\n",
       "7      prime_time    0.004171"
      ]
     },
     "execution_count": 30,
     "metadata": {},
     "output_type": "execute_result"
    }
   ],
   "source": [
    "print(rf_clf.best_estimator_)\n",
    "Name = []\n",
    "Importance = []\n",
    "for name, importance in zip(X_train.columns, rf_clf.best_estimator_.feature_importances_):\n",
    "    Name.append(name)\n",
    "    Importance.append(importance)\n",
    "\n",
    "df_imp = pd.DataFrame({'Name': Name, 'Importance': Importance})\n",
    "\n",
    "df_imp.sort_values('Importance', ascending = False)"
   ]
  },
  {
   "cell_type": "code",
   "execution_count": 36,
   "metadata": {},
   "outputs": [
    {
     "data": {
      "image/png": "[encoded data removed]",
      "text/plain": [
       "<Figure size 432x288 with 1 Axes>"
      ]
     },
     "metadata": {
      "needs_background": "light"
     },
     "output_type": "display_data"
    },
    {
     "data": {
      "text/plain": [
       "array([0.00000000e+00, 3.71961030e-05, 3.33250689e-04, 4.95414145e-04,\n",
       "       1.56753788e-03, 2.92814226e-03, 3.46020761e-03, 1.03305785e-02,\n",
       "       1.05492435e-02, 1.10996841e-02, 1.11140596e-02, 1.21898905e-02,\n",
       "       1.22875601e-02, 1.25000000e-02, 1.97952218e-02, 2.11050756e-02,\n",
       "       2.26282173e-02, 2.69294682e-02, 2.90908645e-02, 2.96077172e-02,\n",
       "       3.02379672e-02, 3.03030303e-02, 3.35398437e-02, 3.35527450e-02,\n",
       "       3.49750597e-02, 3.50047304e-02, 3.55820144e-02, 3.72578241e-02,\n",
       "       4.54545455e-02, 4.89259639e-02, 4.97671595e-02, 5.18751233e-02,\n",
       "       5.34367976e-02, 5.51619108e-02, 5.74796040e-02, 5.87199791e-02,\n",
       "       5.98556774e-02, 5.98787353e-02, 6.04838710e-02, 7.05882353e-02,\n",
       "       7.07000547e-02, 7.09762195e-02, 7.61249908e-02, 7.99307438e-02,\n",
       "       8.12564998e-02, 8.28402367e-02, 8.28997964e-02, 8.32629231e-02,\n",
       "       8.36044100e-02, 8.36213831e-02, 8.36542602e-02, 8.36754288e-02,\n",
       "       8.48214286e-02, 8.53584097e-02, 8.57091617e-02, 8.61425939e-02,\n",
       "       8.67580032e-02, 8.74229333e-02, 8.86625790e-02, 8.87887343e-02,\n",
       "       8.88461080e-02, 8.90289405e-02, 8.91461832e-02, 9.01662896e-02,\n",
       "       9.01804594e-02, 9.02029517e-02, 9.04428735e-02, 9.04658909e-02,\n",
       "       9.08700962e-02, 9.09234192e-02, 9.09431943e-02, 9.22103681e-02,\n",
       "       9.22451849e-02, 9.38808164e-02, 9.41732306e-02, 9.41866284e-02,\n",
       "       9.46490418e-02, 9.55151285e-02, 9.58782735e-02, 9.60479373e-02,\n",
       "       9.67893057e-02, 9.76404349e-02, 9.76482200e-02, 9.76741966e-02,\n",
       "       9.80027548e-02, 9.84911705e-02, 1.00000000e-01, 1.03030303e-01,\n",
       "       1.56250000e-01, 1.56265537e-01, 1.56297318e-01, 1.56319321e-01,\n",
       "       1.56398104e-01, 1.59857263e-01, 2.30869618e-01, 2.65625000e-01,\n",
       "       2.72913353e-01, 2.84067976e-01, 3.06367469e-01, 3.25000000e-01,\n",
       "       3.27337338e-01, 3.35481732e-01, 3.42544510e-01, 3.47554803e-01,\n",
       "       3.57625356e-01, 3.60392554e-01, 3.74887802e-01, 3.89975212e-01,\n",
       "       4.11673053e-01, 4.61093826e-01, 4.63065533e-01, 5.12712610e-01,\n",
       "       5.28907388e-01, 5.37169005e-01, 5.45478110e-01, 5.50657659e-01,\n",
       "       5.54748910e-01, 5.71078861e-01, 5.99872931e-01, 6.94924245e-01,\n",
       "       7.03820129e-01, 7.21772741e-01, 7.50000000e-01, 7.71576305e-01,\n",
       "       8.89297720e-01, 9.81831461e-01, 1.00000000e+00])"
      ]
     },
     "execution_count": 36,
     "metadata": {},
     "output_type": "execute_result"
    }
   ],
   "source": [
    "rf_clf = GridSearchCV(RandomForestClassifier(), param_grid = {'max_depth': range(5,9)}, scoring = 'f1')\n",
    "trainAndCompareCalibration(rf_clf, X_train, y_train, X_test, y_test, 'Random Forest', 1)"
   ]
  },
  {
   "cell_type": "code",
   "execution_count": 34,
   "metadata": {},
   "outputs": [
    {
     "data": {
      "image/png": "[encoded data removed]",
      "text/plain": [
       "<Figure size 432x288 with 1 Axes>"
      ]
     },
     "metadata": {
      "needs_background": "light"
     },
     "output_type": "display_data"
    },
    {
     "data": {
      "text/plain": [
       "array([0.        , 0.00230947, 0.00727887, 0.01069959, 0.01283156,\n",
       "       0.01368351, 0.01471468, 0.01507538, 0.01864168, 0.01922081,\n",
       "       0.02083333, 0.02223451, 0.02370304, 0.02380952, 0.02472847,\n",
       "       0.02562595, 0.0260449 , 0.02611391, 0.02611753, 0.02620087,\n",
       "       0.02805708, 0.02927814, 0.03094463, 0.0350438 , 0.03522345,\n",
       "       0.0354644 , 0.03577363, 0.03585756, 0.0359116 , 0.03931866,\n",
       "       0.03968254, 0.04153197, 0.04188722, 0.04303674, 0.04317975,\n",
       "       0.04337153, 0.04854452, 0.05045818, 0.05086951, 0.05147059,\n",
       "       0.05177897, 0.05181917, 0.05199733, 0.05208794, 0.05216351,\n",
       "       0.05256977, 0.05257394, 0.0525836 , 0.05259677, 0.05272119,\n",
       "       0.05288573, 0.05297322, 0.05305981, 0.05329537, 0.05355162,\n",
       "       0.05362475, 0.05362683, 0.05379244, 0.05389374, 0.05392157,\n",
       "       0.05407693, 0.05446601, 0.05447957, 0.0545061 , 0.05455312,\n",
       "       0.05498405, 0.05555556, 0.06408321, 0.06751377, 0.06933596,\n",
       "       0.07577962, 0.08196721, 0.08761329, 0.09090909, 0.09589041,\n",
       "       0.10557946, 0.125     , 0.13253012, 0.14187827, 0.14516129,\n",
       "       0.16883117, 0.16949033, 0.1699021 , 0.16992243, 0.17060217,\n",
       "       0.17352614, 0.17415692, 0.17495188, 0.17648219, 0.17764318,\n",
       "       0.17777252, 0.17898289, 0.18000677, 0.18420742, 0.18479237,\n",
       "       0.18483558, 0.18588542, 0.18657934, 0.18703743, 0.1875    ,\n",
       "       0.18766303, 0.188821  , 0.18890657, 0.18987342, 0.26      ,\n",
       "       0.2628452 , 0.27454228, 0.28574979, 0.29434842, 0.32502597,\n",
       "       0.32599142, 0.34807836, 0.35294118, 0.40226023, 0.41370219,\n",
       "       0.449485  , 0.4713266 , 0.50177914, 0.53958254, 0.54658172,\n",
       "       0.57142857, 1.        ])"
      ]
     },
     "execution_count": 34,
     "metadata": {},
     "output_type": "execute_result"
    }
   ],
   "source": [
    "rf_clf = GridSearchCV(RandomForestClassifier(), param_grid = {'max_depth': range(5,9)}, scoring = 'f1')\n",
    "trainAndCompareCalibration(rf_clf, X_train, y_train, X_test, y_test, 'Random Forest', 1)"
   ]
  },
  {
   "cell_type": "code",
   "execution_count": 80,
   "metadata": {},
   "outputs": [
    {
     "data": {
      "image/png": "[encoded data removed]",
      "text/plain": [
       "<Figure size 432x288 with 1 Axes>"
      ]
     },
     "metadata": {
      "needs_background": "light"
     },
     "output_type": "display_data"
    },
    {
     "data": {
      "text/plain": [
       "array([0.        , 0.00228124, 0.00357458, 0.00469006, 0.00564972,\n",
       "       0.00760067, 0.00804717, 0.00842891, 0.00954806, 0.01043111,\n",
       "       0.01339122, 0.01754386, 0.01758369, 0.01788909, 0.01811566,\n",
       "       0.01958579, 0.02297214, 0.02545455, 0.02610213, 0.02679308,\n",
       "       0.02681992, 0.03347068, 0.03571429, 0.03574445, 0.03580395,\n",
       "       0.03581836, 0.03587661, 0.03588061, 0.03591471, 0.03591774,\n",
       "       0.03594538, 0.03597405, 0.0359933 , 0.03603748, 0.03605057,\n",
       "       0.03609272, 0.0361128 , 0.03611333, 0.03611505, 0.03617021,\n",
       "       0.03849806, 0.03981481, 0.04243211, 0.043131  , 0.04347826,\n",
       "       0.04352651, 0.04654953, 0.05057471, 0.05068569, 0.05082598,\n",
       "       0.05085229, 0.05093842, 0.0511453 , 0.05152934, 0.0519478 ,\n",
       "       0.05302956, 0.05368517, 0.05436251, 0.056674  , 0.05834039,\n",
       "       0.06067712, 0.06080966, 0.06540934, 0.06576784, 0.06756757,\n",
       "       0.06896552, 0.07815235, 0.08646328, 0.08701083, 0.0952381 ,\n",
       "       0.10069469, 0.10229654, 0.10255393, 0.10572703, 0.1073869 ,\n",
       "       0.11399522, 0.11864407, 0.12492237, 0.13130587, 0.133991  ,\n",
       "       0.13681254, 0.1374919 , 0.14516169, 0.14736049, 0.1488054 ,\n",
       "       0.14945472, 0.15168539, 0.23809524, 0.2511251 , 0.25301205,\n",
       "       0.44444444, 0.45095701, 0.45454545, 0.46051761, 0.47517676,\n",
       "       0.48614877, 0.48782534, 0.49260527, 0.5       , 0.5013895 ,\n",
       "       0.50338716, 0.7097802 , 0.90520057, 0.93142732, 1.        ])"
      ]
     },
     "execution_count": 80,
     "metadata": {},
     "output_type": "execute_result"
    }
   ],
   "source": [
    "rf_clf = GridSearchCV(RandomForestClassifier(), param_grid = {'max_depth': range(5,9)}, scoring = 'f1')\n",
    "trainAndCompareCalibration(rf_clf, X_train, y_train, X_test, y_test, 'Random Forest', 1)"
   ]
  },
  {
   "cell_type": "code",
   "execution_count": 39,
   "metadata": {},
   "outputs": [
    {
     "data": {
      "image/png": "[encoded data removed]",
      "text/plain": [
       "<Figure size 432x288 with 1 Axes>"
      ]
     },
     "metadata": {
      "needs_background": "light"
     },
     "output_type": "display_data"
    },
    {
     "data": {
      "text/plain": [
       "array([0.00000000e+00, 6.57644456e-04, 1.33398354e-03, 2.07493100e-03,\n",
       "       2.21544567e-03, 2.41837041e-03, 2.93535562e-03, 3.07448517e-03,\n",
       "       3.10409968e-03, 3.27415167e-03, 3.58131930e-03, 4.61320569e-03,\n",
       "       4.87552817e-03, 5.63345345e-03, 6.10603108e-03, 6.46983193e-03,\n",
       "       6.59340659e-03, 7.26768167e-03, 7.34615658e-03, 7.40740741e-03,\n",
       "       1.05056205e-02, 1.10847189e-02, 1.17631662e-02, 1.37826480e-02,\n",
       "       1.51989226e-02, 1.66146296e-02, 1.72488337e-02, 1.86127271e-02,\n",
       "       2.21989220e-02, 2.27272727e-02, 2.33761543e-02, 2.67558528e-02,\n",
       "       2.67778615e-02, 2.68014574e-02, 2.68310153e-02, 2.68538859e-02,\n",
       "       2.68595041e-02, 2.95566502e-02, 3.12632049e-02, 3.77358491e-02,\n",
       "       3.78966506e-02, 3.80112726e-02, 3.80432531e-02, 3.87685958e-02,\n",
       "       3.89610390e-02, 3.93644551e-02, 3.96325003e-02, 3.98855085e-02,\n",
       "       4.01494111e-02, 4.01845170e-02, 4.42947161e-02, 4.46337840e-02,\n",
       "       4.48926596e-02, 4.52918784e-02, 4.54668251e-02, 4.64480874e-02,\n",
       "       4.73632770e-02, 4.79672634e-02, 5.01623249e-02, 5.16177687e-02,\n",
       "       5.38523565e-02, 5.71094981e-02, 5.84690489e-02, 5.87044534e-02,\n",
       "       6.22244853e-02, 6.41025641e-02, 7.97872340e-02, 8.22819878e-02,\n",
       "       8.39954597e-02, 8.50097950e-02, 8.93008519e-02, 9.16969527e-02,\n",
       "       9.27152318e-02, 9.49171612e-02, 9.50106720e-02, 9.56042518e-02,\n",
       "       9.64226212e-02, 9.69097642e-02, 9.88466069e-02, 1.00961538e-01,\n",
       "       1.05263158e-01, 1.31400020e-01, 1.46944068e-01, 1.47128423e-01,\n",
       "       1.54739237e-01, 1.58531637e-01, 1.59574468e-01, 1.66666667e-01,\n",
       "       2.30942441e-01, 2.59835171e-01, 2.82051282e-01, 2.88864109e-01,\n",
       "       3.08679093e-01, 3.15378643e-01, 3.18551820e-01, 3.23449766e-01,\n",
       "       3.29619624e-01, 3.30898675e-01, 3.31865644e-01, 3.33333333e-01,\n",
       "       3.53480218e-01, 3.64150770e-01, 3.65357000e-01, 3.87357199e-01,\n",
       "       4.27372841e-01, 4.27862040e-01, 4.32169536e-01, 4.40201391e-01,\n",
       "       4.73684211e-01, 4.74560864e-01, 4.85559857e-01, 4.90073696e-01,\n",
       "       5.00000000e-01, 5.03631742e-01, 5.22990713e-01, 5.47297562e-01,\n",
       "       5.62443890e-01, 6.25723557e-01, 6.68720396e-01, 7.11788026e-01,\n",
       "       7.72932519e-01, 7.88828863e-01, 8.00000000e-01])"
      ]
     },
     "execution_count": 39,
     "metadata": {},
     "output_type": "execute_result"
    }
   ],
   "source": [
    "ada_clf = AdaBoostClassifier(n_estimators= 500)\n",
    "\n",
    "trainAndCompareCalibration(ada_clf, X_train, y_train, X_test, y_test, 'AdaBoost')"
   ]
  },
  {
   "cell_type": "markdown",
   "metadata": {},
   "source": [
    "### Use the important features to train again"
   ]
  },
  {
   "cell_type": "code",
   "execution_count": 33,
   "metadata": {},
   "outputs": [
    {
     "data": {
      "text/html": [
       "<div>\n",
       "<style scoped>\n",
       "    .dataframe tbody tr th:only-of-type {\n",
       "        vertical-align: middle;\n",
       "    }\n",
       "\n",
       "    .dataframe tbody tr th {\n",
       "        vertical-align: top;\n",
       "    }\n",
       "\n",
       "    .dataframe thead th {\n",
       "        text-align: right;\n",
       "    }\n",
       "</style>\n",
       "<table border=\"1\" class=\"dataframe\">\n",
       "  <thead>\n",
       "    <tr style=\"text-align: right;\">\n",
       "      <th></th>\n",
       "      <th>title_length</th>\n",
       "      <th>mean_upvotes</th>\n",
       "      <th>body_length</th>\n",
       "      <th>body_emoji</th>\n",
       "      <th>figures</th>\n",
       "      <th>body_EQ</th>\n",
       "      <th>title_UL</th>\n",
       "      <th>body_UL</th>\n",
       "      <th>log_num</th>\n",
       "      <th>title_emoji</th>\n",
       "      <th>title_EQ</th>\n",
       "      <th>day_3</th>\n",
       "      <th>day_6</th>\n",
       "      <th>day_4</th>\n",
       "      <th>outside_link</th>\n",
       "    </tr>\n",
       "  </thead>\n",
       "  <tbody>\n",
       "    <tr>\n",
       "      <th>0</th>\n",
       "      <td>8</td>\n",
       "      <td>1.0</td>\n",
       "      <td>11</td>\n",
       "      <td>3</td>\n",
       "      <td>0</td>\n",
       "      <td>0</td>\n",
       "      <td>0.333333</td>\n",
       "      <td>0.278689</td>\n",
       "      <td>0.00000</td>\n",
       "      <td>6</td>\n",
       "      <td>0</td>\n",
       "      <td>0</td>\n",
       "      <td>0</td>\n",
       "      <td>0</td>\n",
       "      <td>0</td>\n",
       "    </tr>\n",
       "    <tr>\n",
       "      <th>1</th>\n",
       "      <td>10</td>\n",
       "      <td>6.0</td>\n",
       "      <td>17</td>\n",
       "      <td>11</td>\n",
       "      <td>0</td>\n",
       "      <td>2</td>\n",
       "      <td>1.000000</td>\n",
       "      <td>0.105691</td>\n",
       "      <td>0.00000</td>\n",
       "      <td>1</td>\n",
       "      <td>0</td>\n",
       "      <td>0</td>\n",
       "      <td>0</td>\n",
       "      <td>0</td>\n",
       "      <td>0</td>\n",
       "    </tr>\n",
       "    <tr>\n",
       "      <th>2</th>\n",
       "      <td>4</td>\n",
       "      <td>1.0</td>\n",
       "      <td>86</td>\n",
       "      <td>1</td>\n",
       "      <td>0</td>\n",
       "      <td>2</td>\n",
       "      <td>0.222222</td>\n",
       "      <td>0.048387</td>\n",
       "      <td>0.00000</td>\n",
       "      <td>0</td>\n",
       "      <td>0</td>\n",
       "      <td>0</td>\n",
       "      <td>0</td>\n",
       "      <td>0</td>\n",
       "      <td>0</td>\n",
       "    </tr>\n",
       "    <tr>\n",
       "      <th>3</th>\n",
       "      <td>14</td>\n",
       "      <td>4.0</td>\n",
       "      <td>43</td>\n",
       "      <td>5</td>\n",
       "      <td>0</td>\n",
       "      <td>1</td>\n",
       "      <td>0.166667</td>\n",
       "      <td>0.040724</td>\n",
       "      <td>0.30103</td>\n",
       "      <td>3</td>\n",
       "      <td>0</td>\n",
       "      <td>0</td>\n",
       "      <td>1</td>\n",
       "      <td>0</td>\n",
       "      <td>0</td>\n",
       "    </tr>\n",
       "    <tr>\n",
       "      <th>4</th>\n",
       "      <td>5</td>\n",
       "      <td>14.0</td>\n",
       "      <td>0</td>\n",
       "      <td>0</td>\n",
       "      <td>0</td>\n",
       "      <td>0</td>\n",
       "      <td>0.080000</td>\n",
       "      <td>0.000000</td>\n",
       "      <td>0.00000</td>\n",
       "      <td>0</td>\n",
       "      <td>5</td>\n",
       "      <td>0</td>\n",
       "      <td>0</td>\n",
       "      <td>0</td>\n",
       "      <td>1</td>\n",
       "    </tr>\n",
       "  </tbody>\n",
       "</table>\n",
       "</div>"
      ],
      "text/plain": [
       "   title_length  mean_upvotes  body_length  body_emoji  figures  body_EQ  \\\n",
       "0             8           1.0           11           3        0        0   \n",
       "1            10           6.0           17          11        0        2   \n",
       "2             4           1.0           86           1        0        2   \n",
       "3            14           4.0           43           5        0        1   \n",
       "4             5          14.0            0           0        0        0   \n",
       "\n",
       "   title_UL   body_UL  log_num  title_emoji  title_EQ  day_3  day_6  day_4  \\\n",
       "0  0.333333  0.278689  0.00000            6         0      0      0      0   \n",
       "1  1.000000  0.105691  0.00000            1         0      0      0      0   \n",
       "2  0.222222  0.048387  0.00000            0         0      0      0      0   \n",
       "3  0.166667  0.040724  0.30103            3         0      0      1      0   \n",
       "4  0.080000  0.000000  0.00000            0         5      0      0      0   \n",
       "\n",
       "   outside_link  \n",
       "0             0  \n",
       "1             0  \n",
       "2             0  \n",
       "3             0  \n",
       "4             1  "
      ]
     },
     "execution_count": 33,
     "metadata": {},
     "output_type": "execute_result"
    }
   ],
   "source": [
    "df_features[df_imp.sort_values('Importance', ascending = False).Name.values[:15]].head()"
   ]
  },
  {
   "cell_type": "code",
   "execution_count": 34,
   "metadata": {},
   "outputs": [],
   "source": [
    "impColumns = df_imp.sort_values('Importance', ascending = False).Name.values[:15]\n",
    "\n",
    "X = df_features[impColumns]\n",
    "y = df_model['Popular']\n",
    "\n",
    "X_train, X_test, y_train, y_test = X[df_model['month'] < 4], X[df_model['month'] >= 4], y[df_model['month'] < 4], y[df_model['month'] >= 4]\n",
    "\n"
   ]
  },
  {
   "cell_type": "code",
   "execution_count": 35,
   "metadata": {},
   "outputs": [
    {
     "name": "stdout",
     "output_type": "stream",
     "text": [
      "[[17306 10223]\n",
      " [  350   811]]\n",
      "DecisionTreeClassifier(max_depth=5)\n"
     ]
    },
    {
     "data": {
      "image/png": "[encoded data removed]",
      "text/plain": [
       "<Figure size 432x288 with 1 Axes>"
      ]
     },
     "metadata": {
      "needs_background": "light"
     },
     "output_type": "display_data"
    },
    {
     "data": {
      "text/plain": [
       "(array([0.04046706, 0.04013308, 0.04623053, 0.05195561, 0.0585094 ,\n",
       "        0.06515643, 0.0685967 , 0.0735426 , 0.07350009, 0.07397912,\n",
       "        0.07831786, 0.0867069 , 0.09178826, 0.09168371, 0.09499719,\n",
       "        0.10295804, 0.1055091 , 0.1143445 , 0.11792602, 0.12286325,\n",
       "        0.15574348, 0.15691869, 0.17078916, 0.17664234, 0.18108974,\n",
       "        0.37423313, 0.42156863, 0.        , 1.        ]),\n",
       " array([1.        , 0.9870801 , 0.95865633, 0.92334195, 0.86821705,\n",
       "        0.76055125, 0.73471146, 0.70628768, 0.69853575, 0.69595177,\n",
       "        0.61757106, 0.50732127, 0.46597761, 0.46339363, 0.43669251,\n",
       "        0.38673557, 0.36950904, 0.33505599, 0.32127476, 0.29715762,\n",
       "        0.19035314, 0.18949182, 0.12489233, 0.1042205 , 0.09732989,\n",
       "        0.05254091, 0.03703704, 0.        , 0.        ]),\n",
       " array([0.        , 0.08324463, 0.22763541, 0.35170271, 0.42229311,\n",
       "        0.42667957, 0.47753755, 0.48899104, 0.52769799, 0.54166478,\n",
       "        0.57820423, 0.58671193, 0.59405312, 0.60689033, 0.68385087,\n",
       "        0.71131652, 0.71343106, 0.74817027, 0.75639119, 0.76585093,\n",
       "        0.76922614, 0.81532921, 0.84033264, 0.86704902, 0.87094768,\n",
       "        0.90378782, 0.9734933 , 0.97560914]))"
      ]
     },
     "execution_count": 35,
     "metadata": {},
     "output_type": "execute_result"
    }
   ],
   "source": [
    "tree_clf = GridSearchCV(DecisionTreeClassifier(), param_grid = {'max_depth': range(4,7)}, scoring = 'precision')\n",
    "\n",
    "trainAndShowConfusionMatrix(tree_clf, X_train, y_train, X_test, y_test,1)\n"
   ]
  },
  {
   "cell_type": "markdown",
   "metadata": {},
   "source": [
    "Using the important features, the result is not too much different. We might be able to only use those and add in other ones."
   ]
  },
  {
   "cell_type": "markdown",
   "metadata": {},
   "source": [
    "### Incorporate Twitter Data\n",
    "\n",
    "We will add in twitter information as our features. We can collect the number of total retweets, likes, and tweets for the past 3 days. Let's see if those information will be useful."
   ]
  },
  {
   "cell_type": "code",
   "execution_count": 14,
   "metadata": {},
   "outputs": [],
   "source": [
    "df_twitter = pd.read_csv('../Twitter Data/GME_TWEETS_individual.csv')\n",
    "\n",
    "df_twitter.Date = df_twitter.Date.astype('str')\n",
    "\n",
    "def convertToUNIX(date):\n",
    "    try:\n",
    "        result = np.datetime64(date).astype('datetime64[s]').astype('int')\n",
    "    except:\n",
    "        result = 0\n",
    "    return result\n",
    "\n",
    "df_grouped = df_twitter.groupby('Date').sum()\n",
    "\n",
    "df_grouped['Date'] = df_grouped.index\n",
    "\n",
    "df_grouped['UNIX'] = df_grouped.Date.apply(convertToUNIX)\n",
    "\n",
    "def getTwitterInfo(timestamp, df, gap = 86400*3):\n",
    "    df_sum = df[(df['UNIX'] < timestamp) & (df['UNIX'] >= timestamp - gap)].sum()\n",
    "    \n",
    "    return df_sum.retweet, df_sum.likes, df_sum.num\n",
    "\n",
    "\n",
    "for i in range(df_model.shape[0]):\n",
    "    df_model.loc[i,['retweet', 'likes', 'num']] = getTwitterInfo(df_model.loc[i,'created'], df_grouped)\n",
    "    "
   ]
  },
  {
   "cell_type": "code",
   "execution_count": 71,
   "metadata": {},
   "outputs": [
    {
     "data": {
      "text/html": [
       "<div>\n",
       "<style scoped>\n",
       "    .dataframe tbody tr th:only-of-type {\n",
       "        vertical-align: middle;\n",
       "    }\n",
       "\n",
       "    .dataframe tbody tr th {\n",
       "        vertical-align: top;\n",
       "    }\n",
       "\n",
       "    .dataframe thead th {\n",
       "        text-align: right;\n",
       "    }\n",
       "</style>\n",
       "<table border=\"1\" class=\"dataframe\">\n",
       "  <thead>\n",
       "    <tr style=\"text-align: right;\">\n",
       "      <th></th>\n",
       "      <th>title</th>\n",
       "      <th>author</th>\n",
       "      <th>ext_link</th>\n",
       "      <th>created</th>\n",
       "      <th>body</th>\n",
       "      <th>score</th>\n",
       "      <th>Popular</th>\n",
       "      <th>title_emoji</th>\n",
       "      <th>body_emoji</th>\n",
       "      <th>title_length</th>\n",
       "      <th>...</th>\n",
       "      <th>day_1</th>\n",
       "      <th>day_2</th>\n",
       "      <th>day_3</th>\n",
       "      <th>day_4</th>\n",
       "      <th>day_5</th>\n",
       "      <th>day_6</th>\n",
       "      <th>month</th>\n",
       "      <th>retweet</th>\n",
       "      <th>likes</th>\n",
       "      <th>num</th>\n",
       "    </tr>\n",
       "  </thead>\n",
       "  <tbody>\n",
       "    <tr>\n",
       "      <th>0</th>\n",
       "      <td>You NEED to see this about GME 🚀🚀🚀🚀🚀🚀</td>\n",
       "      <td>TitsDownOnly</td>\n",
       "      <td>https://www.reddit.com/r/GME/comments/kqfajb/y...</td>\n",
       "      <td>1609786946</td>\n",
       "      <td>After watching this I took a position RIGHT AW...</td>\n",
       "      <td>6</td>\n",
       "      <td>0</td>\n",
       "      <td>6</td>\n",
       "      <td>3</td>\n",
       "      <td>8</td>\n",
       "      <td>...</td>\n",
       "      <td>0</td>\n",
       "      <td>0</td>\n",
       "      <td>0</td>\n",
       "      <td>0</td>\n",
       "      <td>0</td>\n",
       "      <td>0</td>\n",
       "      <td>1</td>\n",
       "      <td>4.0</td>\n",
       "      <td>29.0</td>\n",
       "      <td>11.0</td>\n",
       "    </tr>\n",
       "    <tr>\n",
       "      <th>1</th>\n",
       "      <td>THIS CONVINCED ME TO ALL IN 💰GME (EXTREME PUMP...</td>\n",
       "      <td>TitsDownOnly</td>\n",
       "      <td>https://www.reddit.com/r/GME/comments/kqvp7l/t...</td>\n",
       "      <td>1609841999</td>\n",
       "      <td>This guy explained exactly how to take a posit...</td>\n",
       "      <td>2</td>\n",
       "      <td>0</td>\n",
       "      <td>1</td>\n",
       "      <td>11</td>\n",
       "      <td>10</td>\n",
       "      <td>...</td>\n",
       "      <td>1</td>\n",
       "      <td>0</td>\n",
       "      <td>0</td>\n",
       "      <td>0</td>\n",
       "      <td>0</td>\n",
       "      <td>0</td>\n",
       "      <td>1</td>\n",
       "      <td>3.0</td>\n",
       "      <td>10.0</td>\n",
       "      <td>9.0</td>\n",
       "    </tr>\n",
       "    <tr>\n",
       "      <th>2</th>\n",
       "      <td>ICR conference (11th Jan)</td>\n",
       "      <td>nicky94</td>\n",
       "      <td>https://www.reddit.com/r/GME/comments/krnthg/i...</td>\n",
       "      <td>1609939549</td>\n",
       "      <td>Any speculation or ideas on what Gamestop migh...</td>\n",
       "      <td>14</td>\n",
       "      <td>0</td>\n",
       "      <td>0</td>\n",
       "      <td>1</td>\n",
       "      <td>4</td>\n",
       "      <td>...</td>\n",
       "      <td>0</td>\n",
       "      <td>1</td>\n",
       "      <td>0</td>\n",
       "      <td>0</td>\n",
       "      <td>0</td>\n",
       "      <td>0</td>\n",
       "      <td>1</td>\n",
       "      <td>3.0</td>\n",
       "      <td>23.0</td>\n",
       "      <td>12.0</td>\n",
       "    </tr>\n",
       "    <tr>\n",
       "      <th>3</th>\n",
       "      <td>GME is FINALLY going to the moon, this technic...</td>\n",
       "      <td>TitsDownOnly</td>\n",
       "      <td>https://www.reddit.com/r/GME/comments/kuo3w1/g...</td>\n",
       "      <td>1610315957</td>\n",
       "      <td>After some downwards movement, I think everyb...</td>\n",
       "      <td>11</td>\n",
       "      <td>0</td>\n",
       "      <td>3</td>\n",
       "      <td>5</td>\n",
       "      <td>14</td>\n",
       "      <td>...</td>\n",
       "      <td>0</td>\n",
       "      <td>0</td>\n",
       "      <td>0</td>\n",
       "      <td>0</td>\n",
       "      <td>0</td>\n",
       "      <td>1</td>\n",
       "      <td>1</td>\n",
       "      <td>8.0</td>\n",
       "      <td>24.0</td>\n",
       "      <td>19.0</td>\n",
       "    </tr>\n",
       "    <tr>\n",
       "      <th>4</th>\n",
       "      <td>Ryan Cohen appointed to board!!!!?</td>\n",
       "      <td>nicky94</td>\n",
       "      <td>https://news.gamestop.com/news-releases/news-r...</td>\n",
       "      <td>1610368592</td>\n",
       "      <td></td>\n",
       "      <td>18</td>\n",
       "      <td>0</td>\n",
       "      <td>0</td>\n",
       "      <td>0</td>\n",
       "      <td>5</td>\n",
       "      <td>...</td>\n",
       "      <td>0</td>\n",
       "      <td>0</td>\n",
       "      <td>0</td>\n",
       "      <td>0</td>\n",
       "      <td>0</td>\n",
       "      <td>0</td>\n",
       "      <td>1</td>\n",
       "      <td>18.0</td>\n",
       "      <td>63.0</td>\n",
       "      <td>50.0</td>\n",
       "    </tr>\n",
       "  </tbody>\n",
       "</table>\n",
       "<p>5 rows × 55 columns</p>\n",
       "</div>"
      ],
      "text/plain": [
       "                                               title        author  \\\n",
       "0              You NEED to see this about GME 🚀🚀🚀🚀🚀🚀  TitsDownOnly   \n",
       "1  THIS CONVINCED ME TO ALL IN 💰GME (EXTREME PUMP...  TitsDownOnly   \n",
       "2                          ICR conference (11th Jan)       nicky94   \n",
       "3  GME is FINALLY going to the moon, this technic...  TitsDownOnly   \n",
       "4                 Ryan Cohen appointed to board!!!!?       nicky94   \n",
       "\n",
       "                                            ext_link     created  \\\n",
       "0  https://www.reddit.com/r/GME/comments/kqfajb/y...  1609786946   \n",
       "1  https://www.reddit.com/r/GME/comments/kqvp7l/t...  1609841999   \n",
       "2  https://www.reddit.com/r/GME/comments/krnthg/i...  1609939549   \n",
       "3  https://www.reddit.com/r/GME/comments/kuo3w1/g...  1610315957   \n",
       "4  https://news.gamestop.com/news-releases/news-r...  1610368592   \n",
       "\n",
       "                                                body  score  Popular  \\\n",
       "0  After watching this I took a position RIGHT AW...      6        0   \n",
       "1  This guy explained exactly how to take a posit...      2        0   \n",
       "2  Any speculation or ideas on what Gamestop migh...     14        0   \n",
       "3   After some downwards movement, I think everyb...     11        0   \n",
       "4                                                        18        0   \n",
       "\n",
       "   title_emoji  body_emoji  title_length  ...  day_1  day_2  day_3  day_4  \\\n",
       "0            6           3             8  ...      0      0      0      0   \n",
       "1            1          11            10  ...      1      0      0      0   \n",
       "2            0           1             4  ...      0      1      0      0   \n",
       "3            3           5            14  ...      0      0      0      0   \n",
       "4            0           0             5  ...      0      0      0      0   \n",
       "\n",
       "   day_5 day_6 month retweet  likes   num  \n",
       "0      0     0     1     4.0   29.0  11.0  \n",
       "1      0     0     1     3.0   10.0   9.0  \n",
       "2      0     0     1     3.0   23.0  12.0  \n",
       "3      0     1     1     8.0   24.0  19.0  \n",
       "4      0     0     1    18.0   63.0  50.0  \n",
       "\n",
       "[5 rows x 55 columns]"
      ]
     },
     "execution_count": 71,
     "metadata": {},
     "output_type": "execute_result"
    }
   ],
   "source": [
    "df_model.head()"
   ]
  },
  {
   "cell_type": "code",
   "execution_count": 63,
   "metadata": {},
   "outputs": [
    {
     "data": {
      "text/html": [
       "<div>\n",
       "<style scoped>\n",
       "    .dataframe tbody tr th:only-of-type {\n",
       "        vertical-align: middle;\n",
       "    }\n",
       "\n",
       "    .dataframe tbody tr th {\n",
       "        vertical-align: top;\n",
       "    }\n",
       "\n",
       "    .dataframe thead th {\n",
       "        text-align: right;\n",
       "    }\n",
       "</style>\n",
       "<table border=\"1\" class=\"dataframe\">\n",
       "  <thead>\n",
       "    <tr style=\"text-align: right;\">\n",
       "      <th></th>\n",
       "      <th>title_emoji</th>\n",
       "      <th>body_emoji</th>\n",
       "      <th>title_length</th>\n",
       "      <th>body_length</th>\n",
       "      <th>title_EQ</th>\n",
       "      <th>body_EQ</th>\n",
       "      <th>title_UL</th>\n",
       "      <th>body_UL</th>\n",
       "      <th>log_num</th>\n",
       "      <th>mean_upvotes</th>\n",
       "      <th>prime_time</th>\n",
       "      <th>weekend</th>\n",
       "      <th>figures</th>\n",
       "      <th>outside_link</th>\n",
       "      <th>retweet</th>\n",
       "    </tr>\n",
       "  </thead>\n",
       "  <tbody>\n",
       "    <tr>\n",
       "      <th>0</th>\n",
       "      <td>6</td>\n",
       "      <td>3</td>\n",
       "      <td>8</td>\n",
       "      <td>11</td>\n",
       "      <td>0</td>\n",
       "      <td>0</td>\n",
       "      <td>0.333333</td>\n",
       "      <td>0.278689</td>\n",
       "      <td>0.00000</td>\n",
       "      <td>1.0</td>\n",
       "      <td>0</td>\n",
       "      <td>0</td>\n",
       "      <td>0</td>\n",
       "      <td>0</td>\n",
       "      <td>4.0</td>\n",
       "    </tr>\n",
       "    <tr>\n",
       "      <th>1</th>\n",
       "      <td>1</td>\n",
       "      <td>11</td>\n",
       "      <td>10</td>\n",
       "      <td>17</td>\n",
       "      <td>0</td>\n",
       "      <td>2</td>\n",
       "      <td>1.000000</td>\n",
       "      <td>0.105691</td>\n",
       "      <td>0.00000</td>\n",
       "      <td>6.0</td>\n",
       "      <td>1</td>\n",
       "      <td>0</td>\n",
       "      <td>0</td>\n",
       "      <td>0</td>\n",
       "      <td>3.0</td>\n",
       "    </tr>\n",
       "    <tr>\n",
       "      <th>2</th>\n",
       "      <td>0</td>\n",
       "      <td>1</td>\n",
       "      <td>4</td>\n",
       "      <td>86</td>\n",
       "      <td>0</td>\n",
       "      <td>2</td>\n",
       "      <td>0.222222</td>\n",
       "      <td>0.048387</td>\n",
       "      <td>0.00000</td>\n",
       "      <td>1.0</td>\n",
       "      <td>0</td>\n",
       "      <td>0</td>\n",
       "      <td>0</td>\n",
       "      <td>0</td>\n",
       "      <td>3.0</td>\n",
       "    </tr>\n",
       "    <tr>\n",
       "      <th>3</th>\n",
       "      <td>3</td>\n",
       "      <td>5</td>\n",
       "      <td>14</td>\n",
       "      <td>43</td>\n",
       "      <td>0</td>\n",
       "      <td>1</td>\n",
       "      <td>0.166667</td>\n",
       "      <td>0.040724</td>\n",
       "      <td>0.30103</td>\n",
       "      <td>4.0</td>\n",
       "      <td>0</td>\n",
       "      <td>1</td>\n",
       "      <td>0</td>\n",
       "      <td>0</td>\n",
       "      <td>8.0</td>\n",
       "    </tr>\n",
       "    <tr>\n",
       "      <th>4</th>\n",
       "      <td>0</td>\n",
       "      <td>0</td>\n",
       "      <td>5</td>\n",
       "      <td>0</td>\n",
       "      <td>5</td>\n",
       "      <td>0</td>\n",
       "      <td>0.080000</td>\n",
       "      <td>0.000000</td>\n",
       "      <td>0.00000</td>\n",
       "      <td>14.0</td>\n",
       "      <td>0</td>\n",
       "      <td>0</td>\n",
       "      <td>0</td>\n",
       "      <td>1</td>\n",
       "      <td>18.0</td>\n",
       "    </tr>\n",
       "  </tbody>\n",
       "</table>\n",
       "</div>"
      ],
      "text/plain": [
       "   title_emoji  body_emoji  title_length  body_length  title_EQ  body_EQ  \\\n",
       "0            6           3             8           11         0        0   \n",
       "1            1          11            10           17         0        2   \n",
       "2            0           1             4           86         0        2   \n",
       "3            3           5            14           43         0        1   \n",
       "4            0           0             5            0         5        0   \n",
       "\n",
       "   title_UL   body_UL  log_num  mean_upvotes  prime_time  weekend  figures  \\\n",
       "0  0.333333  0.278689  0.00000           1.0           0        0        0   \n",
       "1  1.000000  0.105691  0.00000           6.0           1        0        0   \n",
       "2  0.222222  0.048387  0.00000           1.0           0        0        0   \n",
       "3  0.166667  0.040724  0.30103           4.0           0        1        0   \n",
       "4  0.080000  0.000000  0.00000          14.0           0        0        0   \n",
       "\n",
       "   outside_link  retweet  \n",
       "0             0      4.0  \n",
       "1             0      3.0  \n",
       "2             0      3.0  \n",
       "3             0      8.0  \n",
       "4             1     18.0  "
      ]
     },
     "execution_count": 63,
     "metadata": {},
     "output_type": "execute_result"
    }
   ],
   "source": [
    "df_featuresTwitter = df_model.drop(columns = ['title','author','ext_link','created','body','post_type', 'hour','day','score','num','likes'])\n",
    "\n",
    "X = df_featuresTwitter.drop(columns = ['Popular'])\n",
    "y = df_model['Popular']\n",
    "\n",
    "X_train, X_test, y_train, y_test = X[X['month'] < 4].drop(columns = ['month']), X[X['month'] >= 4].drop(columns = ['month']), y[X['month'] < 4], y[X['month'] >= 4]\n",
    "\n",
    "X_train.head()"
   ]
  },
  {
   "cell_type": "code",
   "execution_count": 68,
   "metadata": {},
   "outputs": [
    {
     "data": {
      "image/png": "[encoded data removed]",
      "text/plain": [
       "<Figure size 432x288 with 1 Axes>"
      ]
     },
     "metadata": {
      "needs_background": "light"
     },
     "output_type": "display_data"
    },
    {
     "data": {
      "text/plain": [
       "array([0.00312989, 0.00342724, 0.00400183, 0.00422667, 0.00439883,\n",
       "       0.00598515, 0.0060936 , 0.00637468, 0.0064871 , 0.00973455,\n",
       "       0.00984698, 0.01084011, 0.01141016, 0.01420518, 0.01536379,\n",
       "       0.0155782 , 0.0162187 , 0.01629802, 0.01852806, 0.01905774,\n",
       "       0.01948292, 0.01986755, 0.02051481, 0.02070129, 0.02083333,\n",
       "       0.0211402 , 0.02122021, 0.02158621, 0.02250285, 0.02262443,\n",
       "       0.024012  , 0.0253285 , 0.02564103, 0.02645276, 0.02694382,\n",
       "       0.03196347, 0.03332218, 0.03344941, 0.03355618, 0.03452968,\n",
       "       0.03503769, 0.03680982, 0.037699  , 0.04133292, 0.0427917 ,\n",
       "       0.04414361, 0.0480819 , 0.05153928, 0.05167594, 0.05187468,\n",
       "       0.05216285, 0.05238726, 0.05261602, 0.0530509 , 0.05339632,\n",
       "       0.0539573 , 0.05406411, 0.05428512, 0.05438625, 0.05445619,\n",
       "       0.05454707, 0.05486284, 0.05963303, 0.059898  , 0.06164544,\n",
       "       0.06420088, 0.06677659, 0.06682849, 0.06891994, 0.06972681,\n",
       "       0.07535035, 0.07575758, 0.07999401, 0.08106154, 0.08367615,\n",
       "       0.08505747, 0.08522562, 0.08548215, 0.08591253, 0.08615772,\n",
       "       0.08624523, 0.08727479, 0.08729467, 0.08740635, 0.08749317,\n",
       "       0.08763777, 0.08804599, 0.08823529, 0.08827875, 0.08837339,\n",
       "       0.08854498, 0.08856531, 0.08862455, 0.08865213, 0.08894022,\n",
       "       0.0890717 , 0.08907232, 0.08910891, 0.08966258, 0.0920161 ,\n",
       "       0.09435946, 0.09489438, 0.09546625, 0.09647228, 0.09775388,\n",
       "       0.09859155, 0.09867634, 0.09916353, 0.09920932, 0.09928748,\n",
       "       0.09937888, 0.10065399, 0.10458152, 0.1060147 , 0.10780754,\n",
       "       0.10869191, 0.112     , 0.16407104, 0.17279853, 0.20996441,\n",
       "       0.23122209, 0.23542398, 0.23985972, 0.29411765, 0.29475593,\n",
       "       0.29677692, 0.29812947, 0.29833397, 0.29873512, 0.30019754,\n",
       "       0.30065259, 0.30232558, 0.33275556, 0.36756521, 0.38652746,\n",
       "       0.40858514, 0.41462408, 0.45950152, 0.46092015, 0.4747344 ,\n",
       "       0.50602505, 0.51248316, 0.53448337, 0.54158015, 0.5567295 ,\n",
       "       0.58447963, 0.6       , 0.60114527, 0.6017309 , 0.60217144,\n",
       "       0.61257031, 0.61323426, 0.61712869, 0.635775  , 0.64378126,\n",
       "       0.64794368, 0.65357375, 0.66666667])"
      ]
     },
     "execution_count": 68,
     "metadata": {},
     "output_type": "execute_result"
    }
   ],
   "source": [
    "rf_clf = GridSearchCV(RandomForestClassifier(), param_grid = {'max_depth': range(5,9)}, scoring = 'precision')\n",
    "trainAndCompareCalibration(rf_clf, X_train, y_train, X_test, y_test, 'Random Forest', 1)"
   ]
  },
  {
   "cell_type": "code",
   "execution_count": 81,
   "metadata": {},
   "outputs": [
    {
     "data": {
      "text/html": [
       "<div>\n",
       "<style scoped>\n",
       "    .dataframe tbody tr th:only-of-type {\n",
       "        vertical-align: middle;\n",
       "    }\n",
       "\n",
       "    .dataframe tbody tr th {\n",
       "        vertical-align: top;\n",
       "    }\n",
       "\n",
       "    .dataframe thead th {\n",
       "        text-align: right;\n",
       "    }\n",
       "</style>\n",
       "<table border=\"1\" class=\"dataframe\">\n",
       "  <thead>\n",
       "    <tr style=\"text-align: right;\">\n",
       "      <th></th>\n",
       "      <th>Name</th>\n",
       "      <th>Importance</th>\n",
       "    </tr>\n",
       "  </thead>\n",
       "  <tbody>\n",
       "    <tr>\n",
       "      <th>2</th>\n",
       "      <td>title_length</td>\n",
       "      <td>0.236853</td>\n",
       "    </tr>\n",
       "    <tr>\n",
       "      <th>9</th>\n",
       "      <td>mean_upvotes</td>\n",
       "      <td>0.218369</td>\n",
       "    </tr>\n",
       "    <tr>\n",
       "      <th>3</th>\n",
       "      <td>body_length</td>\n",
       "      <td>0.123542</td>\n",
       "    </tr>\n",
       "    <tr>\n",
       "      <th>12</th>\n",
       "      <td>figures</td>\n",
       "      <td>0.067197</td>\n",
       "    </tr>\n",
       "    <tr>\n",
       "      <th>1</th>\n",
       "      <td>body_emoji</td>\n",
       "      <td>0.065059</td>\n",
       "    </tr>\n",
       "    <tr>\n",
       "      <th>14</th>\n",
       "      <td>title_EQ_Norm</td>\n",
       "      <td>0.050348</td>\n",
       "    </tr>\n",
       "    <tr>\n",
       "      <th>6</th>\n",
       "      <td>title_UL</td>\n",
       "      <td>0.047300</td>\n",
       "    </tr>\n",
       "    <tr>\n",
       "      <th>7</th>\n",
       "      <td>body_UL</td>\n",
       "      <td>0.046788</td>\n",
       "    </tr>\n",
       "    <tr>\n",
       "      <th>5</th>\n",
       "      <td>body_EQ</td>\n",
       "      <td>0.037640</td>\n",
       "    </tr>\n",
       "    <tr>\n",
       "      <th>8</th>\n",
       "      <td>log_num</td>\n",
       "      <td>0.032553</td>\n",
       "    </tr>\n",
       "    <tr>\n",
       "      <th>0</th>\n",
       "      <td>title_emoji</td>\n",
       "      <td>0.023932</td>\n",
       "    </tr>\n",
       "    <tr>\n",
       "      <th>4</th>\n",
       "      <td>title_EQ</td>\n",
       "      <td>0.019377</td>\n",
       "    </tr>\n",
       "    <tr>\n",
       "      <th>11</th>\n",
       "      <td>weekend</td>\n",
       "      <td>0.011413</td>\n",
       "    </tr>\n",
       "    <tr>\n",
       "      <th>13</th>\n",
       "      <td>outside_link</td>\n",
       "      <td>0.011167</td>\n",
       "    </tr>\n",
       "    <tr>\n",
       "      <th>10</th>\n",
       "      <td>prime_time</td>\n",
       "      <td>0.008462</td>\n",
       "    </tr>\n",
       "  </tbody>\n",
       "</table>\n",
       "</div>"
      ],
      "text/plain": [
       "             Name  Importance\n",
       "2    title_length    0.236853\n",
       "9    mean_upvotes    0.218369\n",
       "3     body_length    0.123542\n",
       "12        figures    0.067197\n",
       "1      body_emoji    0.065059\n",
       "14  title_EQ_Norm    0.050348\n",
       "6        title_UL    0.047300\n",
       "7         body_UL    0.046788\n",
       "5         body_EQ    0.037640\n",
       "8         log_num    0.032553\n",
       "0     title_emoji    0.023932\n",
       "4        title_EQ    0.019377\n",
       "11        weekend    0.011413\n",
       "13   outside_link    0.011167\n",
       "10     prime_time    0.008462"
      ]
     },
     "execution_count": 81,
     "metadata": {},
     "output_type": "execute_result"
    }
   ],
   "source": [
    "Name = []\n",
    "Importance = []\n",
    "for name, importance in zip(X_train.columns, rf_clf.best_estimator_.feature_importances_):\n",
    "    Name.append(name)\n",
    "    Importance.append(importance)\n",
    "\n",
    "df_imp = pd.DataFrame({'Name': Name, 'Importance': Importance})\n",
    "\n",
    "df_imp.sort_values('Importance', ascending = False)"
   ]
  },
  {
   "cell_type": "code",
   "execution_count": 78,
   "metadata": {},
   "outputs": [
    {
     "name": "stdout",
     "output_type": "stream",
     "text": [
      "[[11049 16480]\n",
      " [  144  1017]]\n",
      "RandomForestClassifier(max_depth=5)\n"
     ]
    }
   ],
   "source": [
    "impColumns = df_imp.sort_values('Importance', ascending = False).Name.values[:15]\n",
    "\n",
    "X = df_model[impColumns]\n",
    "y = df_model['Popular']\n",
    "\n",
    "X_train, X_test, y_train, y_test = X[df_model['month'] < 4], X[df_model['month'] >= 4], y[df_model['month'] < 4], y[df_model['month'] >= 4]\n",
    "\n",
    "rf_clf = GridSearchCV(RandomForestClassifier(), param_grid = {'max_depth': range(5,9)}, scoring = 'precision')\n",
    "trainAndShowConfusionMatrix(rf_clf, X_train, y_train, X_test, y_test, 1)"
   ]
  },
  {
   "cell_type": "code",
   "execution_count": 69,
   "metadata": {},
   "outputs": [
    {
     "data": {
      "image/png": "[encoded data removed]",
      "text/plain": [
       "<Figure size 432x288 with 1 Axes>"
      ]
     },
     "metadata": {
      "needs_background": "light"
     },
     "output_type": "display_data"
    },
    {
     "data": {
      "text/plain": [
       "array([0.00278164, 0.00820264, 0.00952381, 0.00992756, 0.01045296,\n",
       "       0.01123596, 0.01126716, 0.01165599, 0.01186097, 0.01217014,\n",
       "       0.0125    , 0.01272569, 0.01366164, 0.0166113 , 0.02178218,\n",
       "       0.02398269, 0.04      , 0.04055043, 0.04635762, 0.04636727,\n",
       "       0.04688202, 0.0473139 , 0.04822335, 0.05091542, 0.0560303 ,\n",
       "       0.05879944, 0.06521739, 0.06815601, 0.06986752, 0.07379135,\n",
       "       0.07498778, 0.07986545, 0.08128945, 0.08367593, 0.08543138,\n",
       "       0.09152889, 0.0970156 , 0.0999194 , 0.1008547 , 0.15714286,\n",
       "       0.15753868, 0.15768618, 0.15790431, 0.15823238, 0.15835666,\n",
       "       0.15861063, 0.15870354, 0.15875425, 0.15881517, 0.15888794,\n",
       "       0.15960912, 0.17238013, 0.17451453, 0.1783588 , 0.18555995,\n",
       "       0.18974629, 0.19239092, 0.1931818 , 0.23608693, 0.2385687 ,\n",
       "       0.24468711, 0.25      , 0.26030353, 0.28571429, 0.29164076,\n",
       "       0.29170792, 0.2950302 , 0.33333333, 0.37408201, 1.        ])"
      ]
     },
     "execution_count": 69,
     "metadata": {},
     "output_type": "execute_result"
    }
   ],
   "source": [
    "ada_clf = AdaBoostClassifier(n_estimators= 500)\n",
    "\n",
    "trainAndCompareCalibration(ada_clf, X_train, y_train, X_test, y_test, 'AdaBoost')"
   ]
  }
 ],
 "metadata": {
  "kernelspec": {
   "display_name": "Python 3",
   "language": "python",
   "name": "python3"
  },
  "language_info": {
   "codemirror_mode": {
    "name": "ipython",
    "version": 3
   },
   "file_extension": ".py",
   "mimetype": "text/x-python",
   "name": "python",
   "nbconvert_exporter": "python",
   "pygments_lexer": "ipython3",
   "version": "3.8.10"
  }
 },
 "nbformat": 4,
 "nbformat_minor": 4
}
