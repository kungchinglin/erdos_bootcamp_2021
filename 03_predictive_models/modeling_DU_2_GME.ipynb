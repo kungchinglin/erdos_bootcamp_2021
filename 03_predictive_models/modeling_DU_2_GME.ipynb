{
 "cells": [
  {
   "cell_type": "code",
   "execution_count": 1,
   "id": "british-world",
   "metadata": {},
   "outputs": [],
   "source": [
    "import sqlite3\n",
    "import pandas as pd\n",
    "import numpy as np\n",
    "import datetime as dt\n",
    "import matplotlib.pyplot as plt\n",
    "\n",
    "from nltk.tokenize import TweetTokenizer\n",
    "from sklearn.linear_model import LogisticRegression\n",
    "from sklearn.model_selection import GridSearchCV\n",
    "from sklearn.metrics import accuracy_score, precision_recall_fscore_support, confusion_matrix"
   ]
  },
  {
   "cell_type": "code",
   "execution_count": 2,
   "id": "virgin-empire",
   "metadata": {},
   "outputs": [],
   "source": [
    "conn = sqlite3.connect('../redditPosts.sqlite')\n",
    "cur = conn.cursor()"
   ]
  },
  {
   "cell_type": "code",
   "execution_count": 3,
   "id": "interim-freedom",
   "metadata": {},
   "outputs": [
    {
     "data": {
      "text/plain": [
       "['Superstonks',\n",
       " 'finance',\n",
       " 'options',\n",
       " 'pennystocks',\n",
       " 'GME',\n",
       " 'CryptoCurrency',\n",
       " 'dogecoin',\n",
       " 'wallstreetbets']"
      ]
     },
     "execution_count": 3,
     "metadata": {},
     "output_type": "execute_result"
    }
   ],
   "source": [
    "cur.execute('''SELECT subreddit FROM Posts GROUP BY subreddit ORDER BY (COUNT(id))''')\n",
    "subreddits = list(map(lambda x: x[0], cur.fetchall()))\n",
    "\n",
    "subreddits"
   ]
  },
  {
   "cell_type": "code",
   "execution_count": 4,
   "id": "efficient-radical",
   "metadata": {},
   "outputs": [
    {
     "data": {
      "text/html": [
       "<div>\n",
       "<style scoped>\n",
       "    .dataframe tbody tr th:only-of-type {\n",
       "        vertical-align: middle;\n",
       "    }\n",
       "\n",
       "    .dataframe tbody tr th {\n",
       "        vertical-align: top;\n",
       "    }\n",
       "\n",
       "    .dataframe thead th {\n",
       "        text-align: right;\n",
       "    }\n",
       "</style>\n",
       "<table border=\"1\" class=\"dataframe\">\n",
       "  <thead>\n",
       "    <tr style=\"text-align: right;\">\n",
       "      <th></th>\n",
       "      <th>id</th>\n",
       "      <th>subreddit</th>\n",
       "      <th>title</th>\n",
       "      <th>author</th>\n",
       "      <th>url</th>\n",
       "      <th>created</th>\n",
       "      <th>ext_link</th>\n",
       "      <th>id</th>\n",
       "      <th>body</th>\n",
       "      <th>score</th>\n",
       "      <th>upvote_ratio</th>\n",
       "    </tr>\n",
       "  </thead>\n",
       "  <tbody>\n",
       "    <tr>\n",
       "      <th>0</th>\n",
       "      <td>kobbka</td>\n",
       "      <td>finance</td>\n",
       "      <td>Mogo: Establishes ATM Equity Program Mogo a fi...</td>\n",
       "      <td>fintechinshorts</td>\n",
       "      <td>https://www.reddit.com/r/finance/comments/kobb...</td>\n",
       "      <td>1609507913</td>\n",
       "      <td>https://www.fintechinshorts.com/mogo-establish...</td>\n",
       "      <td>kobbka</td>\n",
       "      <td></td>\n",
       "      <td>1</td>\n",
       "      <td>1.0</td>\n",
       "    </tr>\n",
       "    <tr>\n",
       "      <th>1</th>\n",
       "      <td>koe39g</td>\n",
       "      <td>finance</td>\n",
       "      <td>Standard Capital: Partners with SolidBlock Sta...</td>\n",
       "      <td>fintechinshorts</td>\n",
       "      <td>https://www.reddit.com/r/finance/comments/koe3...</td>\n",
       "      <td>1609518689</td>\n",
       "      <td>https://www.fintechinshorts.com/standard-capit...</td>\n",
       "      <td>koe39g</td>\n",
       "      <td></td>\n",
       "      <td>1</td>\n",
       "      <td>1.0</td>\n",
       "    </tr>\n",
       "  </tbody>\n",
       "</table>\n",
       "</div>"
      ],
      "text/plain": [
       "       id subreddit                                              title  \\\n",
       "0  kobbka   finance  Mogo: Establishes ATM Equity Program Mogo a fi...   \n",
       "1  koe39g   finance  Standard Capital: Partners with SolidBlock Sta...   \n",
       "\n",
       "            author                                                url  \\\n",
       "0  fintechinshorts  https://www.reddit.com/r/finance/comments/kobb...   \n",
       "1  fintechinshorts  https://www.reddit.com/r/finance/comments/koe3...   \n",
       "\n",
       "      created                                           ext_link      id body  \\\n",
       "0  1609507913  https://www.fintechinshorts.com/mogo-establish...  kobbka        \n",
       "1  1609518689  https://www.fintechinshorts.com/standard-capit...  koe39g        \n",
       "\n",
       "   score  upvote_ratio  \n",
       "0      1           1.0  \n",
       "1      1           1.0  "
      ]
     },
     "execution_count": 4,
     "metadata": {},
     "output_type": "execute_result"
    }
   ],
   "source": [
    "conn = sqlite3.connect('../redditPosts.sqlite')\n",
    "query = '''SELECT * FROM Posts P JOIN PostBodyAndScore B ON P.id = B.id \n",
    "           WHERE B.body != \"[removed]\" AND B.body != \"[deleted]\"'''\n",
    "df = pd.read_sql(sql=query, con=conn)\n",
    "df.head(2)"
   ]
  },
  {
   "cell_type": "code",
   "execution_count": 5,
   "id": "successful-delaware",
   "metadata": {},
   "outputs": [
    {
     "data": {
      "text/plain": [
       "(226890, 11)"
      ]
     },
     "execution_count": 5,
     "metadata": {},
     "output_type": "execute_result"
    }
   ],
   "source": [
    "df.shape"
   ]
  },
  {
   "cell_type": "markdown",
   "id": "furnished-thailand",
   "metadata": {},
   "source": [
    "## Selecting subreddit with complete datasets"
   ]
  },
  {
   "cell_type": "code",
   "execution_count": 6,
   "id": "modular-mason",
   "metadata": {},
   "outputs": [],
   "source": [
    "df = df[(df.subreddit == 'Superstonks') |\n",
    "        (df.subreddit == 'finance') |\n",
    "        (df.subreddit == 'options') |\n",
    "        (df.subreddit == 'pennystocks') |\n",
    "        (df.subreddit == 'GME')]"
   ]
  },
  {
   "cell_type": "markdown",
   "id": "powerful-logging",
   "metadata": {},
   "source": [
    "## Plot the histogram of score for each subreddit"
   ]
  },
  {
   "cell_type": "code",
   "execution_count": 7,
   "id": "handled-yesterday",
   "metadata": {},
   "outputs": [
    {
     "name": "stdout",
     "output_type": "stream",
     "text": [
      "finance 1.0 1.0 240.2\n",
      "options 0.0 1.0 44.0\n",
      "pennystocks 1.0 4.0 154.0\n",
      "Superstonks 1.0 7.0 29.1\n",
      "GME 0.0 12.0 465.0\n"
     ]
    },
    {
     "data": {
      "image/png": "[encoded data removed]",
      "text/plain": [
       "<Figure size 432x288 with 1 Axes>"
      ]
     },
     "metadata": {
      "needs_background": "light"
     },
     "output_type": "display_data"
    }
   ],
   "source": [
    "for sr in df.subreddit.unique():\n",
    "    scores = df[df.subreddit == sr].score.values\n",
    "    plt.hist(scores, 100, alpha=0.5)\n",
    "    print(sr, '%.1f %.1f %.1f' % (np.percentile(scores, 5), np.percentile(scores, 50), np.percentile(scores, 95)))\n",
    "plt.yscale('log')\n",
    "plt.show()"
   ]
  },
  {
   "cell_type": "markdown",
   "id": "distinguished-truck",
   "metadata": {},
   "source": [
    "## Defining the popular posts for binary classification"
   ]
  },
  {
   "cell_type": "code",
   "execution_count": 8,
   "id": "minus-juvenile",
   "metadata": {},
   "outputs": [],
   "source": [
    "df_superstocks = df[df.subreddit == 'Superstonks']\n",
    "df_finance     = df[df.subreddit == 'finance']\n",
    "df_options     = df[df.subreddit == 'options']\n",
    "df_pennystocks = df[df.subreddit == 'pennystocks']\n",
    "df_gme         = df[df.subreddit == 'GME']"
   ]
  },
  {
   "cell_type": "code",
   "execution_count": 9,
   "id": "blocked-humanitarian",
   "metadata": {},
   "outputs": [
    {
     "name": "stderr",
     "output_type": "stream",
     "text": [
      "<ipython-input-9-c9e97835cf12>:1: SettingWithCopyWarning: \n",
      "A value is trying to be set on a copy of a slice from a DataFrame.\n",
      "Try using .loc[row_indexer,col_indexer] = value instead\n",
      "\n",
      "See the caveats in the documentation: https://pandas.pydata.org/pandas-docs/stable/user_guide/indexing.html#returning-a-view-versus-a-copy\n",
      "  df_superstocks['popular'] = 0\n",
      "<ipython-input-9-c9e97835cf12>:2: SettingWithCopyWarning: \n",
      "A value is trying to be set on a copy of a slice from a DataFrame.\n",
      "Try using .loc[row_indexer,col_indexer] = value instead\n",
      "\n",
      "See the caveats in the documentation: https://pandas.pydata.org/pandas-docs/stable/user_guide/indexing.html#returning-a-view-versus-a-copy\n",
      "  df_finance['popular'] = 0\n",
      "<ipython-input-9-c9e97835cf12>:3: SettingWithCopyWarning: \n",
      "A value is trying to be set on a copy of a slice from a DataFrame.\n",
      "Try using .loc[row_indexer,col_indexer] = value instead\n",
      "\n",
      "See the caveats in the documentation: https://pandas.pydata.org/pandas-docs/stable/user_guide/indexing.html#returning-a-view-versus-a-copy\n",
      "  df_options['popular'] = 0\n",
      "<ipython-input-9-c9e97835cf12>:4: SettingWithCopyWarning: \n",
      "A value is trying to be set on a copy of a slice from a DataFrame.\n",
      "Try using .loc[row_indexer,col_indexer] = value instead\n",
      "\n",
      "See the caveats in the documentation: https://pandas.pydata.org/pandas-docs/stable/user_guide/indexing.html#returning-a-view-versus-a-copy\n",
      "  df_pennystocks['popular'] = 0\n",
      "<ipython-input-9-c9e97835cf12>:5: SettingWithCopyWarning: \n",
      "A value is trying to be set on a copy of a slice from a DataFrame.\n",
      "Try using .loc[row_indexer,col_indexer] = value instead\n",
      "\n",
      "See the caveats in the documentation: https://pandas.pydata.org/pandas-docs/stable/user_guide/indexing.html#returning-a-view-versus-a-copy\n",
      "  df_gme['popular'] = 0\n"
     ]
    }
   ],
   "source": [
    "df_superstocks['popular'] = 0\n",
    "df_finance['popular'] = 0\n",
    "df_options['popular'] = 0\n",
    "df_pennystocks['popular'] = 0\n",
    "df_gme['popular'] = 0"
   ]
  },
  {
   "cell_type": "code",
   "execution_count": 10,
   "id": "graduate-conference",
   "metadata": {},
   "outputs": [
    {
     "name": "stderr",
     "output_type": "stream",
     "text": [
      "/Users/dutomo/miniconda3/lib/python3.8/site-packages/pandas/core/indexing.py:966: SettingWithCopyWarning: \n",
      "A value is trying to be set on a copy of a slice from a DataFrame.\n",
      "Try using .loc[row_indexer,col_indexer] = value instead\n",
      "\n",
      "See the caveats in the documentation: https://pandas.pydata.org/pandas-docs/stable/user_guide/indexing.html#returning-a-view-versus-a-copy\n",
      "  self.obj[item] = s\n"
     ]
    }
   ],
   "source": [
    "df_superstocks.loc[df_superstocks['score'] > np.percentile(df_superstocks.score.values, 95), 'popular'] = 1\n",
    "df_finance.loc[df_finance['score'] > np.percentile(df_finance.score.values, 95), 'popular'] = 1\n",
    "df_options.loc[df_options['score'] > np.percentile(df_options.score.values, 95), 'popular'] = 1\n",
    "df_pennystocks.loc[df_pennystocks['score'] > np.percentile(df_pennystocks.score.values, 95), 'popular'] = 1\n",
    "df_gme.loc[df_gme['score'] > np.percentile(df_gme.score.values, 95), 'popular'] = 1"
   ]
  },
  {
   "cell_type": "code",
   "execution_count": 11,
   "id": "continental-cambodia",
   "metadata": {},
   "outputs": [
    {
     "data": {
      "text/html": [
       "<div>\n",
       "<style scoped>\n",
       "    .dataframe tbody tr th:only-of-type {\n",
       "        vertical-align: middle;\n",
       "    }\n",
       "\n",
       "    .dataframe tbody tr th {\n",
       "        vertical-align: top;\n",
       "    }\n",
       "\n",
       "    .dataframe thead th {\n",
       "        text-align: right;\n",
       "    }\n",
       "</style>\n",
       "<table border=\"1\" class=\"dataframe\">\n",
       "  <thead>\n",
       "    <tr style=\"text-align: right;\">\n",
       "      <th></th>\n",
       "      <th>id</th>\n",
       "      <th>subreddit</th>\n",
       "      <th>title</th>\n",
       "      <th>author</th>\n",
       "      <th>url</th>\n",
       "      <th>created</th>\n",
       "      <th>ext_link</th>\n",
       "      <th>id</th>\n",
       "      <th>body</th>\n",
       "      <th>score</th>\n",
       "      <th>upvote_ratio</th>\n",
       "      <th>popular</th>\n",
       "    </tr>\n",
       "  </thead>\n",
       "  <tbody>\n",
       "    <tr>\n",
       "      <th>27514</th>\n",
       "      <td>kqfajb</td>\n",
       "      <td>GME</td>\n",
       "      <td>You NEED to see this about GME 🚀🚀🚀🚀🚀🚀</td>\n",
       "      <td>TitsDownOnly</td>\n",
       "      <td>https://www.reddit.com/r/GME/comments/kqfajb/y...</td>\n",
       "      <td>1609786946</td>\n",
       "      <td>https://www.reddit.com/r/GME/comments/kqfajb/y...</td>\n",
       "      <td>kqfajb</td>\n",
       "      <td>After watching this I took a position RIGHT AW...</td>\n",
       "      <td>6</td>\n",
       "      <td>0.61</td>\n",
       "      <td>0</td>\n",
       "    </tr>\n",
       "    <tr>\n",
       "      <th>27515</th>\n",
       "      <td>kqvp7l</td>\n",
       "      <td>GME</td>\n",
       "      <td>THIS CONVINCED ME TO ALL IN 💰GME (EXTREME PUMP...</td>\n",
       "      <td>TitsDownOnly</td>\n",
       "      <td>https://www.reddit.com/r/GME/comments/kqvp7l/t...</td>\n",
       "      <td>1609841999</td>\n",
       "      <td>https://www.reddit.com/r/GME/comments/kqvp7l/t...</td>\n",
       "      <td>kqvp7l</td>\n",
       "      <td>This guy explained exactly how to take a posit...</td>\n",
       "      <td>2</td>\n",
       "      <td>0.56</td>\n",
       "      <td>0</td>\n",
       "    </tr>\n",
       "  </tbody>\n",
       "</table>\n",
       "</div>"
      ],
      "text/plain": [
       "           id subreddit                                              title  \\\n",
       "27514  kqfajb       GME              You NEED to see this about GME 🚀🚀🚀🚀🚀🚀   \n",
       "27515  kqvp7l       GME  THIS CONVINCED ME TO ALL IN 💰GME (EXTREME PUMP...   \n",
       "\n",
       "             author                                                url  \\\n",
       "27514  TitsDownOnly  https://www.reddit.com/r/GME/comments/kqfajb/y...   \n",
       "27515  TitsDownOnly  https://www.reddit.com/r/GME/comments/kqvp7l/t...   \n",
       "\n",
       "          created                                           ext_link      id  \\\n",
       "27514  1609786946  https://www.reddit.com/r/GME/comments/kqfajb/y...  kqfajb   \n",
       "27515  1609841999  https://www.reddit.com/r/GME/comments/kqvp7l/t...  kqvp7l   \n",
       "\n",
       "                                                    body  score  upvote_ratio  \\\n",
       "27514  After watching this I took a position RIGHT AW...      6          0.61   \n",
       "27515  This guy explained exactly how to take a posit...      2          0.56   \n",
       "\n",
       "       popular  \n",
       "27514        0  \n",
       "27515        0  "
      ]
     },
     "execution_count": 11,
     "metadata": {},
     "output_type": "execute_result"
    }
   ],
   "source": [
    "del df\n",
    "#df = pd.concat([df_superstocks, df_finance, df_options, df_pennystocks, df_gme], ignore_index=True)\n",
    "df = df_gme\n",
    "df.head(2)"
   ]
  },
  {
   "cell_type": "code",
   "execution_count": 12,
   "id": "spread-moisture",
   "metadata": {},
   "outputs": [
    {
     "data": {
      "text/plain": [
       "array([0, 1])"
      ]
     },
     "execution_count": 12,
     "metadata": {},
     "output_type": "execute_result"
    }
   ],
   "source": [
    "df.popular.unique()"
   ]
  },
  {
   "cell_type": "markdown",
   "id": "caring-jefferson",
   "metadata": {},
   "source": [
    "## Dropping unnecessary columns"
   ]
  },
  {
   "cell_type": "code",
   "execution_count": 13,
   "id": "breathing-while",
   "metadata": {},
   "outputs": [
    {
     "data": {
      "text/html": [
       "<div>\n",
       "<style scoped>\n",
       "    .dataframe tbody tr th:only-of-type {\n",
       "        vertical-align: middle;\n",
       "    }\n",
       "\n",
       "    .dataframe tbody tr th {\n",
       "        vertical-align: top;\n",
       "    }\n",
       "\n",
       "    .dataframe thead th {\n",
       "        text-align: right;\n",
       "    }\n",
       "</style>\n",
       "<table border=\"1\" class=\"dataframe\">\n",
       "  <thead>\n",
       "    <tr style=\"text-align: right;\">\n",
       "      <th></th>\n",
       "      <th>subreddit</th>\n",
       "      <th>title</th>\n",
       "      <th>author</th>\n",
       "      <th>created</th>\n",
       "      <th>ext_link</th>\n",
       "      <th>body</th>\n",
       "      <th>score</th>\n",
       "      <th>upvote_ratio</th>\n",
       "      <th>popular</th>\n",
       "    </tr>\n",
       "  </thead>\n",
       "  <tbody>\n",
       "    <tr>\n",
       "      <th>27514</th>\n",
       "      <td>GME</td>\n",
       "      <td>You NEED to see this about GME 🚀🚀🚀🚀🚀🚀</td>\n",
       "      <td>TitsDownOnly</td>\n",
       "      <td>1609786946</td>\n",
       "      <td>https://www.reddit.com/r/GME/comments/kqfajb/y...</td>\n",
       "      <td>After watching this I took a position RIGHT AW...</td>\n",
       "      <td>6</td>\n",
       "      <td>0.61</td>\n",
       "      <td>0</td>\n",
       "    </tr>\n",
       "    <tr>\n",
       "      <th>27515</th>\n",
       "      <td>GME</td>\n",
       "      <td>THIS CONVINCED ME TO ALL IN 💰GME (EXTREME PUMP...</td>\n",
       "      <td>TitsDownOnly</td>\n",
       "      <td>1609841999</td>\n",
       "      <td>https://www.reddit.com/r/GME/comments/kqvp7l/t...</td>\n",
       "      <td>This guy explained exactly how to take a posit...</td>\n",
       "      <td>2</td>\n",
       "      <td>0.56</td>\n",
       "      <td>0</td>\n",
       "    </tr>\n",
       "    <tr>\n",
       "      <th>27516</th>\n",
       "      <td>GME</td>\n",
       "      <td>ICR conference (11th Jan)</td>\n",
       "      <td>nicky94</td>\n",
       "      <td>1609939549</td>\n",
       "      <td>https://www.reddit.com/r/GME/comments/krnthg/i...</td>\n",
       "      <td>Any speculation or ideas on what Gamestop migh...</td>\n",
       "      <td>14</td>\n",
       "      <td>0.94</td>\n",
       "      <td>0</td>\n",
       "    </tr>\n",
       "    <tr>\n",
       "      <th>27517</th>\n",
       "      <td>GME</td>\n",
       "      <td>GME is FINALLY going to the moon, this technic...</td>\n",
       "      <td>TitsDownOnly</td>\n",
       "      <td>1610315957</td>\n",
       "      <td>https://www.reddit.com/r/GME/comments/kuo3w1/g...</td>\n",
       "      <td>After some downwards movement, I think everyb...</td>\n",
       "      <td>11</td>\n",
       "      <td>0.79</td>\n",
       "      <td>0</td>\n",
       "    </tr>\n",
       "    <tr>\n",
       "      <th>27518</th>\n",
       "      <td>GME</td>\n",
       "      <td>Ryan Cohen appointed to board!!!!?</td>\n",
       "      <td>nicky94</td>\n",
       "      <td>1610368592</td>\n",
       "      <td>https://news.gamestop.com/news-releases/news-r...</td>\n",
       "      <td></td>\n",
       "      <td>18</td>\n",
       "      <td>0.95</td>\n",
       "      <td>0</td>\n",
       "    </tr>\n",
       "  </tbody>\n",
       "</table>\n",
       "</div>"
      ],
      "text/plain": [
       "      subreddit                                              title  \\\n",
       "27514       GME              You NEED to see this about GME 🚀🚀🚀🚀🚀🚀   \n",
       "27515       GME  THIS CONVINCED ME TO ALL IN 💰GME (EXTREME PUMP...   \n",
       "27516       GME                          ICR conference (11th Jan)   \n",
       "27517       GME  GME is FINALLY going to the moon, this technic...   \n",
       "27518       GME                 Ryan Cohen appointed to board!!!!?   \n",
       "\n",
       "             author     created  \\\n",
       "27514  TitsDownOnly  1609786946   \n",
       "27515  TitsDownOnly  1609841999   \n",
       "27516       nicky94  1609939549   \n",
       "27517  TitsDownOnly  1610315957   \n",
       "27518       nicky94  1610368592   \n",
       "\n",
       "                                                ext_link  \\\n",
       "27514  https://www.reddit.com/r/GME/comments/kqfajb/y...   \n",
       "27515  https://www.reddit.com/r/GME/comments/kqvp7l/t...   \n",
       "27516  https://www.reddit.com/r/GME/comments/krnthg/i...   \n",
       "27517  https://www.reddit.com/r/GME/comments/kuo3w1/g...   \n",
       "27518  https://news.gamestop.com/news-releases/news-r...   \n",
       "\n",
       "                                                    body  score  upvote_ratio  \\\n",
       "27514  After watching this I took a position RIGHT AW...      6          0.61   \n",
       "27515  This guy explained exactly how to take a posit...      2          0.56   \n",
       "27516  Any speculation or ideas on what Gamestop migh...     14          0.94   \n",
       "27517   After some downwards movement, I think everyb...     11          0.79   \n",
       "27518                                                        18          0.95   \n",
       "\n",
       "       popular  \n",
       "27514        0  \n",
       "27515        0  \n",
       "27516        0  \n",
       "27517        0  \n",
       "27518        0  "
      ]
     },
     "execution_count": 13,
     "metadata": {},
     "output_type": "execute_result"
    }
   ],
   "source": [
    "df.drop(['id','url'], axis=1, inplace=True)\n",
    "df.head()"
   ]
  },
  {
   "cell_type": "markdown",
   "id": "phantom-cleanup",
   "metadata": {},
   "source": [
    "## Transforming time info"
   ]
  },
  {
   "cell_type": "code",
   "execution_count": 14,
   "id": "outer-health",
   "metadata": {},
   "outputs": [
    {
     "data": {
      "text/html": [
       "<div>\n",
       "<style scoped>\n",
       "    .dataframe tbody tr th:only-of-type {\n",
       "        vertical-align: middle;\n",
       "    }\n",
       "\n",
       "    .dataframe tbody tr th {\n",
       "        vertical-align: top;\n",
       "    }\n",
       "\n",
       "    .dataframe thead th {\n",
       "        text-align: right;\n",
       "    }\n",
       "</style>\n",
       "<table border=\"1\" class=\"dataframe\">\n",
       "  <thead>\n",
       "    <tr style=\"text-align: right;\">\n",
       "      <th></th>\n",
       "      <th>subreddit</th>\n",
       "      <th>title</th>\n",
       "      <th>author</th>\n",
       "      <th>ext_link</th>\n",
       "      <th>body</th>\n",
       "      <th>score</th>\n",
       "      <th>upvote_ratio</th>\n",
       "      <th>popular</th>\n",
       "      <th>posting_time</th>\n",
       "    </tr>\n",
       "  </thead>\n",
       "  <tbody>\n",
       "    <tr>\n",
       "      <th>27514</th>\n",
       "      <td>GME</td>\n",
       "      <td>You NEED to see this about GME 🚀🚀🚀🚀🚀🚀</td>\n",
       "      <td>TitsDownOnly</td>\n",
       "      <td>https://www.reddit.com/r/GME/comments/kqfajb/y...</td>\n",
       "      <td>After watching this I took a position RIGHT AW...</td>\n",
       "      <td>6</td>\n",
       "      <td>0.61</td>\n",
       "      <td>0</td>\n",
       "      <td>2021-01-04 14:02:26</td>\n",
       "    </tr>\n",
       "    <tr>\n",
       "      <th>27515</th>\n",
       "      <td>GME</td>\n",
       "      <td>THIS CONVINCED ME TO ALL IN 💰GME (EXTREME PUMP...</td>\n",
       "      <td>TitsDownOnly</td>\n",
       "      <td>https://www.reddit.com/r/GME/comments/kqvp7l/t...</td>\n",
       "      <td>This guy explained exactly how to take a posit...</td>\n",
       "      <td>2</td>\n",
       "      <td>0.56</td>\n",
       "      <td>0</td>\n",
       "      <td>2021-01-05 05:19:59</td>\n",
       "    </tr>\n",
       "    <tr>\n",
       "      <th>27516</th>\n",
       "      <td>GME</td>\n",
       "      <td>ICR conference (11th Jan)</td>\n",
       "      <td>nicky94</td>\n",
       "      <td>https://www.reddit.com/r/GME/comments/krnthg/i...</td>\n",
       "      <td>Any speculation or ideas on what Gamestop migh...</td>\n",
       "      <td>14</td>\n",
       "      <td>0.94</td>\n",
       "      <td>0</td>\n",
       "      <td>2021-01-06 08:25:49</td>\n",
       "    </tr>\n",
       "    <tr>\n",
       "      <th>27517</th>\n",
       "      <td>GME</td>\n",
       "      <td>GME is FINALLY going to the moon, this technic...</td>\n",
       "      <td>TitsDownOnly</td>\n",
       "      <td>https://www.reddit.com/r/GME/comments/kuo3w1/g...</td>\n",
       "      <td>After some downwards movement, I think everyb...</td>\n",
       "      <td>11</td>\n",
       "      <td>0.79</td>\n",
       "      <td>0</td>\n",
       "      <td>2021-01-10 16:59:17</td>\n",
       "    </tr>\n",
       "    <tr>\n",
       "      <th>27518</th>\n",
       "      <td>GME</td>\n",
       "      <td>Ryan Cohen appointed to board!!!!?</td>\n",
       "      <td>nicky94</td>\n",
       "      <td>https://news.gamestop.com/news-releases/news-r...</td>\n",
       "      <td></td>\n",
       "      <td>18</td>\n",
       "      <td>0.95</td>\n",
       "      <td>0</td>\n",
       "      <td>2021-01-11 07:36:32</td>\n",
       "    </tr>\n",
       "  </tbody>\n",
       "</table>\n",
       "</div>"
      ],
      "text/plain": [
       "      subreddit                                              title  \\\n",
       "27514       GME              You NEED to see this about GME 🚀🚀🚀🚀🚀🚀   \n",
       "27515       GME  THIS CONVINCED ME TO ALL IN 💰GME (EXTREME PUMP...   \n",
       "27516       GME                          ICR conference (11th Jan)   \n",
       "27517       GME  GME is FINALLY going to the moon, this technic...   \n",
       "27518       GME                 Ryan Cohen appointed to board!!!!?   \n",
       "\n",
       "             author                                           ext_link  \\\n",
       "27514  TitsDownOnly  https://www.reddit.com/r/GME/comments/kqfajb/y...   \n",
       "27515  TitsDownOnly  https://www.reddit.com/r/GME/comments/kqvp7l/t...   \n",
       "27516       nicky94  https://www.reddit.com/r/GME/comments/krnthg/i...   \n",
       "27517  TitsDownOnly  https://www.reddit.com/r/GME/comments/kuo3w1/g...   \n",
       "27518       nicky94  https://news.gamestop.com/news-releases/news-r...   \n",
       "\n",
       "                                                    body  score  upvote_ratio  \\\n",
       "27514  After watching this I took a position RIGHT AW...      6          0.61   \n",
       "27515  This guy explained exactly how to take a posit...      2          0.56   \n",
       "27516  Any speculation or ideas on what Gamestop migh...     14          0.94   \n",
       "27517   After some downwards movement, I think everyb...     11          0.79   \n",
       "27518                                                        18          0.95   \n",
       "\n",
       "       popular        posting_time  \n",
       "27514        0 2021-01-04 14:02:26  \n",
       "27515        0 2021-01-05 05:19:59  \n",
       "27516        0 2021-01-06 08:25:49  \n",
       "27517        0 2021-01-10 16:59:17  \n",
       "27518        0 2021-01-11 07:36:32  "
      ]
     },
     "execution_count": 14,
     "metadata": {},
     "output_type": "execute_result"
    }
   ],
   "source": [
    "df['posting_time'] = df['created'].apply(dt.datetime.fromtimestamp)\n",
    "df.drop('created', axis=1, inplace=True)\n",
    "df.head()"
   ]
  },
  {
   "cell_type": "code",
   "execution_count": 15,
   "id": "general-departure",
   "metadata": {},
   "outputs": [],
   "source": [
    "df['posting_year'] = df['posting_time'].dt.year\n",
    "df['posting_month'] = df['posting_time'].dt.month\n",
    "df['posting_date'] = df['posting_time'].dt.day\n",
    "\n",
    "def to_hour(inp):\n",
    "    return inp.hour + (inp.minute/60.) + (inp.second/3600.)\n",
    "\n",
    "df['posting_hour'] = df['posting_time'].apply(to_hour)"
   ]
  },
  {
   "cell_type": "code",
   "execution_count": 16,
   "id": "gothic-exception",
   "metadata": {},
   "outputs": [
    {
     "data": {
      "text/html": [
       "<div>\n",
       "<style scoped>\n",
       "    .dataframe tbody tr th:only-of-type {\n",
       "        vertical-align: middle;\n",
       "    }\n",
       "\n",
       "    .dataframe tbody tr th {\n",
       "        vertical-align: top;\n",
       "    }\n",
       "\n",
       "    .dataframe thead th {\n",
       "        text-align: right;\n",
       "    }\n",
       "</style>\n",
       "<table border=\"1\" class=\"dataframe\">\n",
       "  <thead>\n",
       "    <tr style=\"text-align: right;\">\n",
       "      <th></th>\n",
       "      <th>subreddit</th>\n",
       "      <th>title</th>\n",
       "      <th>author</th>\n",
       "      <th>ext_link</th>\n",
       "      <th>body</th>\n",
       "      <th>score</th>\n",
       "      <th>upvote_ratio</th>\n",
       "      <th>popular</th>\n",
       "      <th>posting_time</th>\n",
       "      <th>posting_year</th>\n",
       "      <th>posting_month</th>\n",
       "      <th>posting_date</th>\n",
       "      <th>posting_hour</th>\n",
       "    </tr>\n",
       "  </thead>\n",
       "  <tbody>\n",
       "    <tr>\n",
       "      <th>27514</th>\n",
       "      <td>GME</td>\n",
       "      <td>You NEED to see this about GME 🚀🚀🚀🚀🚀🚀</td>\n",
       "      <td>TitsDownOnly</td>\n",
       "      <td>https://www.reddit.com/r/GME/comments/kqfajb/y...</td>\n",
       "      <td>After watching this I took a position RIGHT AW...</td>\n",
       "      <td>6</td>\n",
       "      <td>0.61</td>\n",
       "      <td>0</td>\n",
       "      <td>2021-01-04 14:02:26</td>\n",
       "      <td>2021</td>\n",
       "      <td>1</td>\n",
       "      <td>4</td>\n",
       "      <td>14.040556</td>\n",
       "    </tr>\n",
       "    <tr>\n",
       "      <th>27515</th>\n",
       "      <td>GME</td>\n",
       "      <td>THIS CONVINCED ME TO ALL IN 💰GME (EXTREME PUMP...</td>\n",
       "      <td>TitsDownOnly</td>\n",
       "      <td>https://www.reddit.com/r/GME/comments/kqvp7l/t...</td>\n",
       "      <td>This guy explained exactly how to take a posit...</td>\n",
       "      <td>2</td>\n",
       "      <td>0.56</td>\n",
       "      <td>0</td>\n",
       "      <td>2021-01-05 05:19:59</td>\n",
       "      <td>2021</td>\n",
       "      <td>1</td>\n",
       "      <td>5</td>\n",
       "      <td>5.333056</td>\n",
       "    </tr>\n",
       "    <tr>\n",
       "      <th>27516</th>\n",
       "      <td>GME</td>\n",
       "      <td>ICR conference (11th Jan)</td>\n",
       "      <td>nicky94</td>\n",
       "      <td>https://www.reddit.com/r/GME/comments/krnthg/i...</td>\n",
       "      <td>Any speculation or ideas on what Gamestop migh...</td>\n",
       "      <td>14</td>\n",
       "      <td>0.94</td>\n",
       "      <td>0</td>\n",
       "      <td>2021-01-06 08:25:49</td>\n",
       "      <td>2021</td>\n",
       "      <td>1</td>\n",
       "      <td>6</td>\n",
       "      <td>8.430278</td>\n",
       "    </tr>\n",
       "    <tr>\n",
       "      <th>27517</th>\n",
       "      <td>GME</td>\n",
       "      <td>GME is FINALLY going to the moon, this technic...</td>\n",
       "      <td>TitsDownOnly</td>\n",
       "      <td>https://www.reddit.com/r/GME/comments/kuo3w1/g...</td>\n",
       "      <td>After some downwards movement, I think everyb...</td>\n",
       "      <td>11</td>\n",
       "      <td>0.79</td>\n",
       "      <td>0</td>\n",
       "      <td>2021-01-10 16:59:17</td>\n",
       "      <td>2021</td>\n",
       "      <td>1</td>\n",
       "      <td>10</td>\n",
       "      <td>16.988056</td>\n",
       "    </tr>\n",
       "    <tr>\n",
       "      <th>27518</th>\n",
       "      <td>GME</td>\n",
       "      <td>Ryan Cohen appointed to board!!!!?</td>\n",
       "      <td>nicky94</td>\n",
       "      <td>https://news.gamestop.com/news-releases/news-r...</td>\n",
       "      <td></td>\n",
       "      <td>18</td>\n",
       "      <td>0.95</td>\n",
       "      <td>0</td>\n",
       "      <td>2021-01-11 07:36:32</td>\n",
       "      <td>2021</td>\n",
       "      <td>1</td>\n",
       "      <td>11</td>\n",
       "      <td>7.608889</td>\n",
       "    </tr>\n",
       "  </tbody>\n",
       "</table>\n",
       "</div>"
      ],
      "text/plain": [
       "      subreddit                                              title  \\\n",
       "27514       GME              You NEED to see this about GME 🚀🚀🚀🚀🚀🚀   \n",
       "27515       GME  THIS CONVINCED ME TO ALL IN 💰GME (EXTREME PUMP...   \n",
       "27516       GME                          ICR conference (11th Jan)   \n",
       "27517       GME  GME is FINALLY going to the moon, this technic...   \n",
       "27518       GME                 Ryan Cohen appointed to board!!!!?   \n",
       "\n",
       "             author                                           ext_link  \\\n",
       "27514  TitsDownOnly  https://www.reddit.com/r/GME/comments/kqfajb/y...   \n",
       "27515  TitsDownOnly  https://www.reddit.com/r/GME/comments/kqvp7l/t...   \n",
       "27516       nicky94  https://www.reddit.com/r/GME/comments/krnthg/i...   \n",
       "27517  TitsDownOnly  https://www.reddit.com/r/GME/comments/kuo3w1/g...   \n",
       "27518       nicky94  https://news.gamestop.com/news-releases/news-r...   \n",
       "\n",
       "                                                    body  score  upvote_ratio  \\\n",
       "27514  After watching this I took a position RIGHT AW...      6          0.61   \n",
       "27515  This guy explained exactly how to take a posit...      2          0.56   \n",
       "27516  Any speculation or ideas on what Gamestop migh...     14          0.94   \n",
       "27517   After some downwards movement, I think everyb...     11          0.79   \n",
       "27518                                                        18          0.95   \n",
       "\n",
       "       popular        posting_time  posting_year  posting_month  posting_date  \\\n",
       "27514        0 2021-01-04 14:02:26          2021              1             4   \n",
       "27515        0 2021-01-05 05:19:59          2021              1             5   \n",
       "27516        0 2021-01-06 08:25:49          2021              1             6   \n",
       "27517        0 2021-01-10 16:59:17          2021              1            10   \n",
       "27518        0 2021-01-11 07:36:32          2021              1            11   \n",
       "\n",
       "       posting_hour  \n",
       "27514     14.040556  \n",
       "27515      5.333056  \n",
       "27516      8.430278  \n",
       "27517     16.988056  \n",
       "27518      7.608889  "
      ]
     },
     "execution_count": 16,
     "metadata": {},
     "output_type": "execute_result"
    }
   ],
   "source": [
    "df.head()"
   ]
  },
  {
   "cell_type": "code",
   "execution_count": 17,
   "id": "authentic-delight",
   "metadata": {},
   "outputs": [],
   "source": [
    "def weekday(inp):\n",
    "    return inp.weekday()\n",
    "\n",
    "df['posting_day'] = df['posting_time'].apply(weekday)"
   ]
  },
  {
   "cell_type": "code",
   "execution_count": 18,
   "id": "instructional-lexington",
   "metadata": {},
   "outputs": [],
   "source": [
    "df = pd.concat([df, pd.get_dummies(df.posting_day, prefix='posting_day', drop_first=True)], axis=1)\n",
    "df.drop('posting_day', axis=1, inplace=True)"
   ]
  },
  {
   "cell_type": "code",
   "execution_count": 19,
   "id": "recreational-pierre",
   "metadata": {},
   "outputs": [
    {
     "data": {
      "text/html": [
       "<div>\n",
       "<style scoped>\n",
       "    .dataframe tbody tr th:only-of-type {\n",
       "        vertical-align: middle;\n",
       "    }\n",
       "\n",
       "    .dataframe tbody tr th {\n",
       "        vertical-align: top;\n",
       "    }\n",
       "\n",
       "    .dataframe thead th {\n",
       "        text-align: right;\n",
       "    }\n",
       "</style>\n",
       "<table border=\"1\" class=\"dataframe\">\n",
       "  <thead>\n",
       "    <tr style=\"text-align: right;\">\n",
       "      <th></th>\n",
       "      <th>subreddit</th>\n",
       "      <th>title</th>\n",
       "      <th>author</th>\n",
       "      <th>ext_link</th>\n",
       "      <th>body</th>\n",
       "      <th>score</th>\n",
       "      <th>upvote_ratio</th>\n",
       "      <th>popular</th>\n",
       "      <th>posting_year</th>\n",
       "      <th>posting_month</th>\n",
       "      <th>posting_date</th>\n",
       "      <th>posting_hour</th>\n",
       "      <th>posting_day_1</th>\n",
       "      <th>posting_day_2</th>\n",
       "      <th>posting_day_3</th>\n",
       "      <th>posting_day_4</th>\n",
       "      <th>posting_day_5</th>\n",
       "      <th>posting_day_6</th>\n",
       "    </tr>\n",
       "  </thead>\n",
       "  <tbody>\n",
       "    <tr>\n",
       "      <th>27514</th>\n",
       "      <td>GME</td>\n",
       "      <td>You NEED to see this about GME 🚀🚀🚀🚀🚀🚀</td>\n",
       "      <td>TitsDownOnly</td>\n",
       "      <td>https://www.reddit.com/r/GME/comments/kqfajb/y...</td>\n",
       "      <td>After watching this I took a position RIGHT AW...</td>\n",
       "      <td>6</td>\n",
       "      <td>0.61</td>\n",
       "      <td>0</td>\n",
       "      <td>2021</td>\n",
       "      <td>1</td>\n",
       "      <td>4</td>\n",
       "      <td>14.040556</td>\n",
       "      <td>0</td>\n",
       "      <td>0</td>\n",
       "      <td>0</td>\n",
       "      <td>0</td>\n",
       "      <td>0</td>\n",
       "      <td>0</td>\n",
       "    </tr>\n",
       "    <tr>\n",
       "      <th>27515</th>\n",
       "      <td>GME</td>\n",
       "      <td>THIS CONVINCED ME TO ALL IN 💰GME (EXTREME PUMP...</td>\n",
       "      <td>TitsDownOnly</td>\n",
       "      <td>https://www.reddit.com/r/GME/comments/kqvp7l/t...</td>\n",
       "      <td>This guy explained exactly how to take a posit...</td>\n",
       "      <td>2</td>\n",
       "      <td>0.56</td>\n",
       "      <td>0</td>\n",
       "      <td>2021</td>\n",
       "      <td>1</td>\n",
       "      <td>5</td>\n",
       "      <td>5.333056</td>\n",
       "      <td>1</td>\n",
       "      <td>0</td>\n",
       "      <td>0</td>\n",
       "      <td>0</td>\n",
       "      <td>0</td>\n",
       "      <td>0</td>\n",
       "    </tr>\n",
       "    <tr>\n",
       "      <th>27516</th>\n",
       "      <td>GME</td>\n",
       "      <td>ICR conference (11th Jan)</td>\n",
       "      <td>nicky94</td>\n",
       "      <td>https://www.reddit.com/r/GME/comments/krnthg/i...</td>\n",
       "      <td>Any speculation or ideas on what Gamestop migh...</td>\n",
       "      <td>14</td>\n",
       "      <td>0.94</td>\n",
       "      <td>0</td>\n",
       "      <td>2021</td>\n",
       "      <td>1</td>\n",
       "      <td>6</td>\n",
       "      <td>8.430278</td>\n",
       "      <td>0</td>\n",
       "      <td>1</td>\n",
       "      <td>0</td>\n",
       "      <td>0</td>\n",
       "      <td>0</td>\n",
       "      <td>0</td>\n",
       "    </tr>\n",
       "    <tr>\n",
       "      <th>27517</th>\n",
       "      <td>GME</td>\n",
       "      <td>GME is FINALLY going to the moon, this technic...</td>\n",
       "      <td>TitsDownOnly</td>\n",
       "      <td>https://www.reddit.com/r/GME/comments/kuo3w1/g...</td>\n",
       "      <td>After some downwards movement, I think everyb...</td>\n",
       "      <td>11</td>\n",
       "      <td>0.79</td>\n",
       "      <td>0</td>\n",
       "      <td>2021</td>\n",
       "      <td>1</td>\n",
       "      <td>10</td>\n",
       "      <td>16.988056</td>\n",
       "      <td>0</td>\n",
       "      <td>0</td>\n",
       "      <td>0</td>\n",
       "      <td>0</td>\n",
       "      <td>0</td>\n",
       "      <td>1</td>\n",
       "    </tr>\n",
       "    <tr>\n",
       "      <th>27518</th>\n",
       "      <td>GME</td>\n",
       "      <td>Ryan Cohen appointed to board!!!!?</td>\n",
       "      <td>nicky94</td>\n",
       "      <td>https://news.gamestop.com/news-releases/news-r...</td>\n",
       "      <td></td>\n",
       "      <td>18</td>\n",
       "      <td>0.95</td>\n",
       "      <td>0</td>\n",
       "      <td>2021</td>\n",
       "      <td>1</td>\n",
       "      <td>11</td>\n",
       "      <td>7.608889</td>\n",
       "      <td>0</td>\n",
       "      <td>0</td>\n",
       "      <td>0</td>\n",
       "      <td>0</td>\n",
       "      <td>0</td>\n",
       "      <td>0</td>\n",
       "    </tr>\n",
       "  </tbody>\n",
       "</table>\n",
       "</div>"
      ],
      "text/plain": [
       "      subreddit                                              title  \\\n",
       "27514       GME              You NEED to see this about GME 🚀🚀🚀🚀🚀🚀   \n",
       "27515       GME  THIS CONVINCED ME TO ALL IN 💰GME (EXTREME PUMP...   \n",
       "27516       GME                          ICR conference (11th Jan)   \n",
       "27517       GME  GME is FINALLY going to the moon, this technic...   \n",
       "27518       GME                 Ryan Cohen appointed to board!!!!?   \n",
       "\n",
       "             author                                           ext_link  \\\n",
       "27514  TitsDownOnly  https://www.reddit.com/r/GME/comments/kqfajb/y...   \n",
       "27515  TitsDownOnly  https://www.reddit.com/r/GME/comments/kqvp7l/t...   \n",
       "27516       nicky94  https://www.reddit.com/r/GME/comments/krnthg/i...   \n",
       "27517  TitsDownOnly  https://www.reddit.com/r/GME/comments/kuo3w1/g...   \n",
       "27518       nicky94  https://news.gamestop.com/news-releases/news-r...   \n",
       "\n",
       "                                                    body  score  upvote_ratio  \\\n",
       "27514  After watching this I took a position RIGHT AW...      6          0.61   \n",
       "27515  This guy explained exactly how to take a posit...      2          0.56   \n",
       "27516  Any speculation or ideas on what Gamestop migh...     14          0.94   \n",
       "27517   After some downwards movement, I think everyb...     11          0.79   \n",
       "27518                                                        18          0.95   \n",
       "\n",
       "       popular  posting_year  posting_month  posting_date  posting_hour  \\\n",
       "27514        0          2021              1             4     14.040556   \n",
       "27515        0          2021              1             5      5.333056   \n",
       "27516        0          2021              1             6      8.430278   \n",
       "27517        0          2021              1            10     16.988056   \n",
       "27518        0          2021              1            11      7.608889   \n",
       "\n",
       "       posting_day_1  posting_day_2  posting_day_3  posting_day_4  \\\n",
       "27514              0              0              0              0   \n",
       "27515              1              0              0              0   \n",
       "27516              0              1              0              0   \n",
       "27517              0              0              0              0   \n",
       "27518              0              0              0              0   \n",
       "\n",
       "       posting_day_5  posting_day_6  \n",
       "27514              0              0  \n",
       "27515              0              0  \n",
       "27516              0              0  \n",
       "27517              0              1  \n",
       "27518              0              0  "
      ]
     },
     "execution_count": 19,
     "metadata": {},
     "output_type": "execute_result"
    }
   ],
   "source": [
    "df.drop('posting_time', axis=1, inplace=True)\n",
    "df.head()"
   ]
  },
  {
   "cell_type": "markdown",
   "id": "worldwide-graduation",
   "metadata": {},
   "source": [
    "## Extracting the external link"
   ]
  },
  {
   "cell_type": "code",
   "execution_count": 20,
   "id": "aging-heavy",
   "metadata": {},
   "outputs": [],
   "source": [
    "image_file_formats = ['ai','bmp','gif','ico','jpg','jpeg','png','ps','psd','svg','tif','tiff']\n",
    "video_file_formats = ['.3g2','3gp','avi','flv','h264','m4v','mkv','mov','mp4','mpg','mpeg','rm','swf','vob','wmv']"
   ]
  },
  {
   "cell_type": "code",
   "execution_count": 21,
   "id": "collect-vocabulary",
   "metadata": {},
   "outputs": [],
   "source": [
    "def get_ext_media(inp):\n",
    "    if inp == None:\n",
    "        last_term = 'None'\n",
    "    else:\n",
    "        last_term = inp.split('.')[-1]\n",
    "        \n",
    "    if (last_term in image_file_formats) or (last_term in video_file_formats):\n",
    "        out = 1\n",
    "    else:\n",
    "        out = 0\n",
    "    return out\n",
    "\n",
    "df['ext_link_media'] = df['ext_link'].apply(get_ext_media)"
   ]
  },
  {
   "cell_type": "code",
   "execution_count": 22,
   "id": "compact-madness",
   "metadata": {},
   "outputs": [],
   "source": [
    "def get_ext_web(inp):\n",
    "    if inp == None:\n",
    "        last_term = 'None'\n",
    "    else:\n",
    "        last_term = inp.split('.')[-1]\n",
    "\n",
    "    if (last_term not in image_file_formats+video_file_formats) and (last_term != 'None'):\n",
    "        out = 1\n",
    "    else:\n",
    "        out = 0\n",
    "    return out\n",
    "\n",
    "df['ext_link_web'] = df['ext_link'].apply(get_ext_web)"
   ]
  },
  {
   "cell_type": "code",
   "execution_count": 23,
   "id": "beautiful-statement",
   "metadata": {},
   "outputs": [],
   "source": [
    "df.drop('ext_link', axis=1, inplace=True)"
   ]
  },
  {
   "cell_type": "code",
   "execution_count": 24,
   "id": "legendary-mozambique",
   "metadata": {},
   "outputs": [
    {
     "data": {
      "text/html": [
       "<div>\n",
       "<style scoped>\n",
       "    .dataframe tbody tr th:only-of-type {\n",
       "        vertical-align: middle;\n",
       "    }\n",
       "\n",
       "    .dataframe tbody tr th {\n",
       "        vertical-align: top;\n",
       "    }\n",
       "\n",
       "    .dataframe thead th {\n",
       "        text-align: right;\n",
       "    }\n",
       "</style>\n",
       "<table border=\"1\" class=\"dataframe\">\n",
       "  <thead>\n",
       "    <tr style=\"text-align: right;\">\n",
       "      <th></th>\n",
       "      <th>subreddit</th>\n",
       "      <th>title</th>\n",
       "      <th>author</th>\n",
       "      <th>body</th>\n",
       "      <th>score</th>\n",
       "      <th>upvote_ratio</th>\n",
       "      <th>popular</th>\n",
       "      <th>posting_year</th>\n",
       "      <th>posting_month</th>\n",
       "      <th>posting_date</th>\n",
       "      <th>posting_hour</th>\n",
       "      <th>posting_day_1</th>\n",
       "      <th>posting_day_2</th>\n",
       "      <th>posting_day_3</th>\n",
       "      <th>posting_day_4</th>\n",
       "      <th>posting_day_5</th>\n",
       "      <th>posting_day_6</th>\n",
       "      <th>ext_link_media</th>\n",
       "      <th>ext_link_web</th>\n",
       "    </tr>\n",
       "  </thead>\n",
       "  <tbody>\n",
       "    <tr>\n",
       "      <th>27514</th>\n",
       "      <td>GME</td>\n",
       "      <td>You NEED to see this about GME 🚀🚀🚀🚀🚀🚀</td>\n",
       "      <td>TitsDownOnly</td>\n",
       "      <td>After watching this I took a position RIGHT AW...</td>\n",
       "      <td>6</td>\n",
       "      <td>0.61</td>\n",
       "      <td>0</td>\n",
       "      <td>2021</td>\n",
       "      <td>1</td>\n",
       "      <td>4</td>\n",
       "      <td>14.040556</td>\n",
       "      <td>0</td>\n",
       "      <td>0</td>\n",
       "      <td>0</td>\n",
       "      <td>0</td>\n",
       "      <td>0</td>\n",
       "      <td>0</td>\n",
       "      <td>0</td>\n",
       "      <td>1</td>\n",
       "    </tr>\n",
       "    <tr>\n",
       "      <th>27515</th>\n",
       "      <td>GME</td>\n",
       "      <td>THIS CONVINCED ME TO ALL IN 💰GME (EXTREME PUMP...</td>\n",
       "      <td>TitsDownOnly</td>\n",
       "      <td>This guy explained exactly how to take a posit...</td>\n",
       "      <td>2</td>\n",
       "      <td>0.56</td>\n",
       "      <td>0</td>\n",
       "      <td>2021</td>\n",
       "      <td>1</td>\n",
       "      <td>5</td>\n",
       "      <td>5.333056</td>\n",
       "      <td>1</td>\n",
       "      <td>0</td>\n",
       "      <td>0</td>\n",
       "      <td>0</td>\n",
       "      <td>0</td>\n",
       "      <td>0</td>\n",
       "      <td>0</td>\n",
       "      <td>1</td>\n",
       "    </tr>\n",
       "  </tbody>\n",
       "</table>\n",
       "</div>"
      ],
      "text/plain": [
       "      subreddit                                              title  \\\n",
       "27514       GME              You NEED to see this about GME 🚀🚀🚀🚀🚀🚀   \n",
       "27515       GME  THIS CONVINCED ME TO ALL IN 💰GME (EXTREME PUMP...   \n",
       "\n",
       "             author                                               body  score  \\\n",
       "27514  TitsDownOnly  After watching this I took a position RIGHT AW...      6   \n",
       "27515  TitsDownOnly  This guy explained exactly how to take a posit...      2   \n",
       "\n",
       "       upvote_ratio  popular  posting_year  posting_month  posting_date  \\\n",
       "27514          0.61        0          2021              1             4   \n",
       "27515          0.56        0          2021              1             5   \n",
       "\n",
       "       posting_hour  posting_day_1  posting_day_2  posting_day_3  \\\n",
       "27514     14.040556              0              0              0   \n",
       "27515      5.333056              1              0              0   \n",
       "\n",
       "       posting_day_4  posting_day_5  posting_day_6  ext_link_media  \\\n",
       "27514              0              0              0               0   \n",
       "27515              0              0              0               0   \n",
       "\n",
       "       ext_link_web  \n",
       "27514             1  \n",
       "27515             1  "
      ]
     },
     "execution_count": 24,
     "metadata": {},
     "output_type": "execute_result"
    }
   ],
   "source": [
    "df.head(2)"
   ]
  },
  {
   "cell_type": "markdown",
   "id": "floral-situation",
   "metadata": {},
   "source": [
    "## Making one-hot-encoding from subreddit forum"
   ]
  },
  {
   "cell_type": "code",
   "execution_count": 25,
   "id": "processed-motion",
   "metadata": {},
   "outputs": [],
   "source": [
    "df = pd.concat([df, pd.get_dummies(df.subreddit, prefix='subreddit', drop_first=True)], axis=1)\n",
    "df.drop('subreddit', axis=1, inplace=True)"
   ]
  },
  {
   "cell_type": "code",
   "execution_count": 26,
   "id": "living-effects",
   "metadata": {},
   "outputs": [
    {
     "data": {
      "text/html": [
       "<div>\n",
       "<style scoped>\n",
       "    .dataframe tbody tr th:only-of-type {\n",
       "        vertical-align: middle;\n",
       "    }\n",
       "\n",
       "    .dataframe tbody tr th {\n",
       "        vertical-align: top;\n",
       "    }\n",
       "\n",
       "    .dataframe thead th {\n",
       "        text-align: right;\n",
       "    }\n",
       "</style>\n",
       "<table border=\"1\" class=\"dataframe\">\n",
       "  <thead>\n",
       "    <tr style=\"text-align: right;\">\n",
       "      <th></th>\n",
       "      <th>title</th>\n",
       "      <th>author</th>\n",
       "      <th>body</th>\n",
       "      <th>score</th>\n",
       "      <th>upvote_ratio</th>\n",
       "      <th>popular</th>\n",
       "      <th>posting_year</th>\n",
       "      <th>posting_month</th>\n",
       "      <th>posting_date</th>\n",
       "      <th>posting_hour</th>\n",
       "      <th>posting_day_1</th>\n",
       "      <th>posting_day_2</th>\n",
       "      <th>posting_day_3</th>\n",
       "      <th>posting_day_4</th>\n",
       "      <th>posting_day_5</th>\n",
       "      <th>posting_day_6</th>\n",
       "      <th>ext_link_media</th>\n",
       "      <th>ext_link_web</th>\n",
       "    </tr>\n",
       "  </thead>\n",
       "  <tbody>\n",
       "    <tr>\n",
       "      <th>27514</th>\n",
       "      <td>You NEED to see this about GME 🚀🚀🚀🚀🚀🚀</td>\n",
       "      <td>TitsDownOnly</td>\n",
       "      <td>After watching this I took a position RIGHT AW...</td>\n",
       "      <td>6</td>\n",
       "      <td>0.61</td>\n",
       "      <td>0</td>\n",
       "      <td>2021</td>\n",
       "      <td>1</td>\n",
       "      <td>4</td>\n",
       "      <td>14.040556</td>\n",
       "      <td>0</td>\n",
       "      <td>0</td>\n",
       "      <td>0</td>\n",
       "      <td>0</td>\n",
       "      <td>0</td>\n",
       "      <td>0</td>\n",
       "      <td>0</td>\n",
       "      <td>1</td>\n",
       "    </tr>\n",
       "    <tr>\n",
       "      <th>27515</th>\n",
       "      <td>THIS CONVINCED ME TO ALL IN 💰GME (EXTREME PUMP...</td>\n",
       "      <td>TitsDownOnly</td>\n",
       "      <td>This guy explained exactly how to take a posit...</td>\n",
       "      <td>2</td>\n",
       "      <td>0.56</td>\n",
       "      <td>0</td>\n",
       "      <td>2021</td>\n",
       "      <td>1</td>\n",
       "      <td>5</td>\n",
       "      <td>5.333056</td>\n",
       "      <td>1</td>\n",
       "      <td>0</td>\n",
       "      <td>0</td>\n",
       "      <td>0</td>\n",
       "      <td>0</td>\n",
       "      <td>0</td>\n",
       "      <td>0</td>\n",
       "      <td>1</td>\n",
       "    </tr>\n",
       "  </tbody>\n",
       "</table>\n",
       "</div>"
      ],
      "text/plain": [
       "                                                   title        author  \\\n",
       "27514              You NEED to see this about GME 🚀🚀🚀🚀🚀🚀  TitsDownOnly   \n",
       "27515  THIS CONVINCED ME TO ALL IN 💰GME (EXTREME PUMP...  TitsDownOnly   \n",
       "\n",
       "                                                    body  score  upvote_ratio  \\\n",
       "27514  After watching this I took a position RIGHT AW...      6          0.61   \n",
       "27515  This guy explained exactly how to take a posit...      2          0.56   \n",
       "\n",
       "       popular  posting_year  posting_month  posting_date  posting_hour  \\\n",
       "27514        0          2021              1             4     14.040556   \n",
       "27515        0          2021              1             5      5.333056   \n",
       "\n",
       "       posting_day_1  posting_day_2  posting_day_3  posting_day_4  \\\n",
       "27514              0              0              0              0   \n",
       "27515              1              0              0              0   \n",
       "\n",
       "       posting_day_5  posting_day_6  ext_link_media  ext_link_web  \n",
       "27514              0              0               0             1  \n",
       "27515              0              0               0             1  "
      ]
     },
     "execution_count": 26,
     "metadata": {},
     "output_type": "execute_result"
    }
   ],
   "source": [
    "df.head(2)"
   ]
  },
  {
   "cell_type": "markdown",
   "id": "informative-sugar",
   "metadata": {},
   "source": [
    "## Calculate the length of text"
   ]
  },
  {
   "cell_type": "code",
   "execution_count": 27,
   "id": "tired-coordination",
   "metadata": {},
   "outputs": [],
   "source": [
    "tokenizer = TweetTokenizer()\n",
    "df['tokens_title'] = df['title'].str.lower().apply(tokenizer.tokenize)\n",
    "df['tokens_body'] = df['body'].str.lower().apply(tokenizer.tokenize)\n",
    "df['title_length'] = df['tokens_title'].apply(len)\n",
    "df['body_length'] = df['tokens_body'].apply(len)"
   ]
  },
  {
   "cell_type": "code",
   "execution_count": 28,
   "id": "comparative-assist",
   "metadata": {},
   "outputs": [
    {
     "data": {
      "text/html": [
       "<div>\n",
       "<style scoped>\n",
       "    .dataframe tbody tr th:only-of-type {\n",
       "        vertical-align: middle;\n",
       "    }\n",
       "\n",
       "    .dataframe tbody tr th {\n",
       "        vertical-align: top;\n",
       "    }\n",
       "\n",
       "    .dataframe thead th {\n",
       "        text-align: right;\n",
       "    }\n",
       "</style>\n",
       "<table border=\"1\" class=\"dataframe\">\n",
       "  <thead>\n",
       "    <tr style=\"text-align: right;\">\n",
       "      <th></th>\n",
       "      <th>title</th>\n",
       "      <th>author</th>\n",
       "      <th>body</th>\n",
       "      <th>score</th>\n",
       "      <th>upvote_ratio</th>\n",
       "      <th>popular</th>\n",
       "      <th>posting_year</th>\n",
       "      <th>posting_month</th>\n",
       "      <th>posting_date</th>\n",
       "      <th>posting_hour</th>\n",
       "      <th>...</th>\n",
       "      <th>posting_day_3</th>\n",
       "      <th>posting_day_4</th>\n",
       "      <th>posting_day_5</th>\n",
       "      <th>posting_day_6</th>\n",
       "      <th>ext_link_media</th>\n",
       "      <th>ext_link_web</th>\n",
       "      <th>tokens_title</th>\n",
       "      <th>tokens_body</th>\n",
       "      <th>title_length</th>\n",
       "      <th>body_length</th>\n",
       "    </tr>\n",
       "  </thead>\n",
       "  <tbody>\n",
       "    <tr>\n",
       "      <th>27514</th>\n",
       "      <td>You NEED to see this about GME 🚀🚀🚀🚀🚀🚀</td>\n",
       "      <td>TitsDownOnly</td>\n",
       "      <td>After watching this I took a position RIGHT AW...</td>\n",
       "      <td>6</td>\n",
       "      <td>0.61</td>\n",
       "      <td>0</td>\n",
       "      <td>2021</td>\n",
       "      <td>1</td>\n",
       "      <td>4</td>\n",
       "      <td>14.040556</td>\n",
       "      <td>...</td>\n",
       "      <td>0</td>\n",
       "      <td>0</td>\n",
       "      <td>0</td>\n",
       "      <td>0</td>\n",
       "      <td>0</td>\n",
       "      <td>1</td>\n",
       "      <td>[you, need, to, see, this, about, gme, 🚀, 🚀, 🚀]</td>\n",
       "      <td>[after, watching, this, i, took, a, position, ...</td>\n",
       "      <td>10</td>\n",
       "      <td>11</td>\n",
       "    </tr>\n",
       "    <tr>\n",
       "      <th>27515</th>\n",
       "      <td>THIS CONVINCED ME TO ALL IN 💰GME (EXTREME PUMP...</td>\n",
       "      <td>TitsDownOnly</td>\n",
       "      <td>This guy explained exactly how to take a posit...</td>\n",
       "      <td>2</td>\n",
       "      <td>0.56</td>\n",
       "      <td>0</td>\n",
       "      <td>2021</td>\n",
       "      <td>1</td>\n",
       "      <td>5</td>\n",
       "      <td>5.333056</td>\n",
       "      <td>...</td>\n",
       "      <td>0</td>\n",
       "      <td>0</td>\n",
       "      <td>0</td>\n",
       "      <td>0</td>\n",
       "      <td>0</td>\n",
       "      <td>1</td>\n",
       "      <td>[this, convinced, me, to, all, in, 💰, gme, (, ...</td>\n",
       "      <td>[this, guy, explained, exactly, how, to, take,...</td>\n",
       "      <td>13</td>\n",
       "      <td>22</td>\n",
       "    </tr>\n",
       "  </tbody>\n",
       "</table>\n",
       "<p>2 rows × 22 columns</p>\n",
       "</div>"
      ],
      "text/plain": [
       "                                                   title        author  \\\n",
       "27514              You NEED to see this about GME 🚀🚀🚀🚀🚀🚀  TitsDownOnly   \n",
       "27515  THIS CONVINCED ME TO ALL IN 💰GME (EXTREME PUMP...  TitsDownOnly   \n",
       "\n",
       "                                                    body  score  upvote_ratio  \\\n",
       "27514  After watching this I took a position RIGHT AW...      6          0.61   \n",
       "27515  This guy explained exactly how to take a posit...      2          0.56   \n",
       "\n",
       "       popular  posting_year  posting_month  posting_date  posting_hour  ...  \\\n",
       "27514        0          2021              1             4     14.040556  ...   \n",
       "27515        0          2021              1             5      5.333056  ...   \n",
       "\n",
       "       posting_day_3  posting_day_4  posting_day_5  posting_day_6  \\\n",
       "27514              0              0              0              0   \n",
       "27515              0              0              0              0   \n",
       "\n",
       "       ext_link_media  ext_link_web  \\\n",
       "27514               0             1   \n",
       "27515               0             1   \n",
       "\n",
       "                                            tokens_title  \\\n",
       "27514    [you, need, to, see, this, about, gme, 🚀, 🚀, 🚀]   \n",
       "27515  [this, convinced, me, to, all, in, 💰, gme, (, ...   \n",
       "\n",
       "                                             tokens_body title_length  \\\n",
       "27514  [after, watching, this, i, took, a, position, ...           10   \n",
       "27515  [this, guy, explained, exactly, how, to, take,...           13   \n",
       "\n",
       "      body_length  \n",
       "27514          11  \n",
       "27515          22  \n",
       "\n",
       "[2 rows x 22 columns]"
      ]
     },
     "execution_count": 28,
     "metadata": {},
     "output_type": "execute_result"
    }
   ],
   "source": [
    "df.head(2)"
   ]
  },
  {
   "cell_type": "markdown",
   "id": "younger-stand",
   "metadata": {},
   "source": [
    "## Other text attributes"
   ]
  },
  {
   "cell_type": "code",
   "execution_count": 29,
   "id": "terminal-assessment",
   "metadata": {},
   "outputs": [],
   "source": [
    "import string\n",
    "import re\n",
    "\n",
    "def emoji_count(s):\n",
    "    s = ''.join(word.strip(string.punctuation) for word in s.split())\n",
    "    return len(re.findall('[^\\w\\s,\\(\\)\\'\\/-]',s))\n",
    "\n",
    "def countUpper(text):\n",
    "    Up = 0\n",
    "    Low = 0\n",
    "    for ch in text:\n",
    "        if ch.isupper():\n",
    "            Up += 1\n",
    "        elif ch.islower():\n",
    "            Low += 1\n",
    "    \n",
    "    if Up + Low:\n",
    "        return Up/(Up+Low)\n",
    "    else:\n",
    "        return 0\n",
    "    \n",
    "def exclamationAndQuestion(text):\n",
    "    return text.count('!') + text.count('?')"
   ]
  },
  {
   "cell_type": "code",
   "execution_count": 30,
   "id": "comparable-headset",
   "metadata": {},
   "outputs": [],
   "source": [
    "df['title_emoji'] = df['title'].apply(emoji_count)\n",
    "df['body_emoji']  = df['body'].apply(emoji_count)\n",
    "df['title_EQ']    = df['title'].apply(exclamationAndQuestion)\n",
    "df['body_EQ']     = df['body'].apply(exclamationAndQuestion)\n",
    "df['title_UL']    = df['title'].apply(countUpper)\n",
    "df['body_UL']     = df['body'].apply(countUpper)"
   ]
  },
  {
   "cell_type": "markdown",
   "id": "third-completion",
   "metadata": {},
   "source": [
    "## Extract author information"
   ]
  },
  {
   "cell_type": "code",
   "execution_count": 31,
   "id": "careful-search",
   "metadata": {},
   "outputs": [
    {
     "data": {
      "text/plain": [
       "author\n",
       "-----fish-----        1.0\n",
       "--GoldenFire--       27.0\n",
       "--GrinAndBearIt--    10.0\n",
       "--Warmonger--         1.0\n",
       "--sup                 2.0\n",
       "Name: score, dtype: float64"
      ]
     },
     "execution_count": 31,
     "metadata": {},
     "output_type": "execute_result"
    }
   ],
   "source": [
    "author_scores = df.groupby('author').score.mean()\n",
    "author_scores.head()"
   ]
  },
  {
   "cell_type": "code",
   "execution_count": 32,
   "id": "certain-sailing",
   "metadata": {},
   "outputs": [
    {
     "data": {
      "text/plain": [
       "12.298245614035087"
      ]
     },
     "execution_count": 32,
     "metadata": {},
     "output_type": "execute_result"
    }
   ],
   "source": [
    "author_scores['[deleted]']"
   ]
  },
  {
   "cell_type": "code",
   "execution_count": 33,
   "id": "potential-ottawa",
   "metadata": {},
   "outputs": [
    {
     "data": {
      "image/png": "[encoded data removed]",
      "text/plain": [
       "<Figure size 432x288 with 1 Axes>"
      ]
     },
     "metadata": {
      "needs_background": "light"
     },
     "output_type": "display_data"
    }
   ],
   "source": [
    "num_post_per_author = df['author'].value_counts().values\n",
    "plt.plot(range(len(num_post_per_author)), num_post_per_author)\n",
    "plt.xscale('log')\n",
    "plt.yscale('log')\n",
    "plt.ylabel('number of posts')\n",
    "plt.xlabel('authors')\n",
    "plt.show()"
   ]
  },
  {
   "cell_type": "code",
   "execution_count": 34,
   "id": "above-camera",
   "metadata": {},
   "outputs": [
    {
     "data": {
      "text/plain": [
       "Financial_Green9120    439\n",
       "nmstanley32            376\n",
       "BatSoup7519            246\n",
       "tiptoeintotown         237\n",
       "Several_Meet_8653      201\n",
       "Name: author, dtype: int64"
      ]
     },
     "execution_count": 34,
     "metadata": {},
     "output_type": "execute_result"
    }
   ],
   "source": [
    "author_posts = df['author'].value_counts()\n",
    "author_posts.head()"
   ]
  },
  {
   "cell_type": "code",
   "execution_count": 35,
   "id": "abstract-spiritual",
   "metadata": {},
   "outputs": [],
   "source": [
    "def log_num_posts(author):\n",
    "    return np.log10(author_posts[author])\n",
    "\n",
    "df['log_num_posts'] = df['author'].apply(log_num_posts)"
   ]
  },
  {
   "cell_type": "code",
   "execution_count": 36,
   "id": "active-pioneer",
   "metadata": {},
   "outputs": [],
   "source": [
    "def mean_scores(author):\n",
    "    return author_scores[author]\n",
    "\n",
    "df['mean_scores'] = df['author'].apply(mean_scores)"
   ]
  },
  {
   "cell_type": "code",
   "execution_count": 37,
   "id": "simple-kernel",
   "metadata": {},
   "outputs": [
    {
     "data": {
      "text/html": [
       "<div>\n",
       "<style scoped>\n",
       "    .dataframe tbody tr th:only-of-type {\n",
       "        vertical-align: middle;\n",
       "    }\n",
       "\n",
       "    .dataframe tbody tr th {\n",
       "        vertical-align: top;\n",
       "    }\n",
       "\n",
       "    .dataframe thead th {\n",
       "        text-align: right;\n",
       "    }\n",
       "</style>\n",
       "<table border=\"1\" class=\"dataframe\">\n",
       "  <thead>\n",
       "    <tr style=\"text-align: right;\">\n",
       "      <th></th>\n",
       "      <th>title</th>\n",
       "      <th>author</th>\n",
       "      <th>body</th>\n",
       "      <th>score</th>\n",
       "      <th>upvote_ratio</th>\n",
       "      <th>popular</th>\n",
       "      <th>posting_year</th>\n",
       "      <th>posting_month</th>\n",
       "      <th>posting_date</th>\n",
       "      <th>posting_hour</th>\n",
       "      <th>...</th>\n",
       "      <th>title_length</th>\n",
       "      <th>body_length</th>\n",
       "      <th>title_emoji</th>\n",
       "      <th>body_emoji</th>\n",
       "      <th>title_EQ</th>\n",
       "      <th>body_EQ</th>\n",
       "      <th>title_UL</th>\n",
       "      <th>body_UL</th>\n",
       "      <th>log_num_posts</th>\n",
       "      <th>mean_scores</th>\n",
       "    </tr>\n",
       "  </thead>\n",
       "  <tbody>\n",
       "    <tr>\n",
       "      <th>27514</th>\n",
       "      <td>You NEED to see this about GME 🚀🚀🚀🚀🚀🚀</td>\n",
       "      <td>TitsDownOnly</td>\n",
       "      <td>After watching this I took a position RIGHT AW...</td>\n",
       "      <td>6</td>\n",
       "      <td>0.61</td>\n",
       "      <td>0</td>\n",
       "      <td>2021</td>\n",
       "      <td>1</td>\n",
       "      <td>4</td>\n",
       "      <td>14.040556</td>\n",
       "      <td>...</td>\n",
       "      <td>10</td>\n",
       "      <td>11</td>\n",
       "      <td>6</td>\n",
       "      <td>3</td>\n",
       "      <td>0</td>\n",
       "      <td>0</td>\n",
       "      <td>0.333333</td>\n",
       "      <td>0.278689</td>\n",
       "      <td>1.079181</td>\n",
       "      <td>121.083333</td>\n",
       "    </tr>\n",
       "    <tr>\n",
       "      <th>27515</th>\n",
       "      <td>THIS CONVINCED ME TO ALL IN 💰GME (EXTREME PUMP...</td>\n",
       "      <td>TitsDownOnly</td>\n",
       "      <td>This guy explained exactly how to take a posit...</td>\n",
       "      <td>2</td>\n",
       "      <td>0.56</td>\n",
       "      <td>0</td>\n",
       "      <td>2021</td>\n",
       "      <td>1</td>\n",
       "      <td>5</td>\n",
       "      <td>5.333056</td>\n",
       "      <td>...</td>\n",
       "      <td>13</td>\n",
       "      <td>22</td>\n",
       "      <td>1</td>\n",
       "      <td>11</td>\n",
       "      <td>0</td>\n",
       "      <td>2</td>\n",
       "      <td>1.000000</td>\n",
       "      <td>0.105691</td>\n",
       "      <td>1.079181</td>\n",
       "      <td>121.083333</td>\n",
       "    </tr>\n",
       "    <tr>\n",
       "      <th>27516</th>\n",
       "      <td>ICR conference (11th Jan)</td>\n",
       "      <td>nicky94</td>\n",
       "      <td>Any speculation or ideas on what Gamestop migh...</td>\n",
       "      <td>14</td>\n",
       "      <td>0.94</td>\n",
       "      <td>0</td>\n",
       "      <td>2021</td>\n",
       "      <td>1</td>\n",
       "      <td>6</td>\n",
       "      <td>8.430278</td>\n",
       "      <td>...</td>\n",
       "      <td>6</td>\n",
       "      <td>94</td>\n",
       "      <td>0</td>\n",
       "      <td>1</td>\n",
       "      <td>0</td>\n",
       "      <td>2</td>\n",
       "      <td>0.222222</td>\n",
       "      <td>0.048387</td>\n",
       "      <td>0.698970</td>\n",
       "      <td>22.800000</td>\n",
       "    </tr>\n",
       "    <tr>\n",
       "      <th>27517</th>\n",
       "      <td>GME is FINALLY going to the moon, this technic...</td>\n",
       "      <td>TitsDownOnly</td>\n",
       "      <td>After some downwards movement, I think everyb...</td>\n",
       "      <td>11</td>\n",
       "      <td>0.79</td>\n",
       "      <td>0</td>\n",
       "      <td>2021</td>\n",
       "      <td>1</td>\n",
       "      <td>10</td>\n",
       "      <td>16.988056</td>\n",
       "      <td>...</td>\n",
       "      <td>17</td>\n",
       "      <td>54</td>\n",
       "      <td>3</td>\n",
       "      <td>5</td>\n",
       "      <td>0</td>\n",
       "      <td>1</td>\n",
       "      <td>0.166667</td>\n",
       "      <td>0.040724</td>\n",
       "      <td>1.079181</td>\n",
       "      <td>121.083333</td>\n",
       "    </tr>\n",
       "    <tr>\n",
       "      <th>27518</th>\n",
       "      <td>Ryan Cohen appointed to board!!!!?</td>\n",
       "      <td>nicky94</td>\n",
       "      <td></td>\n",
       "      <td>18</td>\n",
       "      <td>0.95</td>\n",
       "      <td>0</td>\n",
       "      <td>2021</td>\n",
       "      <td>1</td>\n",
       "      <td>11</td>\n",
       "      <td>7.608889</td>\n",
       "      <td>...</td>\n",
       "      <td>9</td>\n",
       "      <td>0</td>\n",
       "      <td>0</td>\n",
       "      <td>0</td>\n",
       "      <td>5</td>\n",
       "      <td>0</td>\n",
       "      <td>0.080000</td>\n",
       "      <td>0.000000</td>\n",
       "      <td>0.698970</td>\n",
       "      <td>22.800000</td>\n",
       "    </tr>\n",
       "  </tbody>\n",
       "</table>\n",
       "<p>5 rows × 30 columns</p>\n",
       "</div>"
      ],
      "text/plain": [
       "                                                   title        author  \\\n",
       "27514              You NEED to see this about GME 🚀🚀🚀🚀🚀🚀  TitsDownOnly   \n",
       "27515  THIS CONVINCED ME TO ALL IN 💰GME (EXTREME PUMP...  TitsDownOnly   \n",
       "27516                          ICR conference (11th Jan)       nicky94   \n",
       "27517  GME is FINALLY going to the moon, this technic...  TitsDownOnly   \n",
       "27518                 Ryan Cohen appointed to board!!!!?       nicky94   \n",
       "\n",
       "                                                    body  score  upvote_ratio  \\\n",
       "27514  After watching this I took a position RIGHT AW...      6          0.61   \n",
       "27515  This guy explained exactly how to take a posit...      2          0.56   \n",
       "27516  Any speculation or ideas on what Gamestop migh...     14          0.94   \n",
       "27517   After some downwards movement, I think everyb...     11          0.79   \n",
       "27518                                                        18          0.95   \n",
       "\n",
       "       popular  posting_year  posting_month  posting_date  posting_hour  ...  \\\n",
       "27514        0          2021              1             4     14.040556  ...   \n",
       "27515        0          2021              1             5      5.333056  ...   \n",
       "27516        0          2021              1             6      8.430278  ...   \n",
       "27517        0          2021              1            10     16.988056  ...   \n",
       "27518        0          2021              1            11      7.608889  ...   \n",
       "\n",
       "       title_length  body_length  title_emoji  body_emoji  title_EQ  body_EQ  \\\n",
       "27514            10           11            6           3         0        0   \n",
       "27515            13           22            1          11         0        2   \n",
       "27516             6           94            0           1         0        2   \n",
       "27517            17           54            3           5         0        1   \n",
       "27518             9            0            0           0         5        0   \n",
       "\n",
       "       title_UL   body_UL log_num_posts mean_scores  \n",
       "27514  0.333333  0.278689      1.079181  121.083333  \n",
       "27515  1.000000  0.105691      1.079181  121.083333  \n",
       "27516  0.222222  0.048387      0.698970   22.800000  \n",
       "27517  0.166667  0.040724      1.079181  121.083333  \n",
       "27518  0.080000  0.000000      0.698970   22.800000  \n",
       "\n",
       "[5 rows x 30 columns]"
      ]
     },
     "execution_count": 37,
     "metadata": {},
     "output_type": "execute_result"
    }
   ],
   "source": [
    "df.head(5)"
   ]
  },
  {
   "cell_type": "markdown",
   "id": "marine-accuracy",
   "metadata": {},
   "source": [
    "# Splitting Data into train and test set"
   ]
  },
  {
   "cell_type": "code",
   "execution_count": 38,
   "id": "turkish-bermuda",
   "metadata": {},
   "outputs": [],
   "source": [
    "from sklearn.model_selection import train_test_split\n",
    "\n",
    "X = df.drop(['popular', 'author', 'score', 'upvote_ratio', 'posting_year', 'tokens_title', 'tokens_body', 'title', \n",
    "             'body'], axis=1)\n",
    "y = df['popular']\n",
    "\n",
    "X_train, X_test, y_train, y_test = train_test_split(X, y, test_size=0.2, stratify=y, random_state=101)"
   ]
  },
  {
   "cell_type": "code",
   "execution_count": 39,
   "id": "optimum-nicholas",
   "metadata": {},
   "outputs": [
    {
     "data": {
      "text/plain": [
       "0.04997272490097953"
      ]
     },
     "execution_count": 39,
     "metadata": {},
     "output_type": "execute_result"
    }
   ],
   "source": [
    "len(y_train[y_train == 1])/len(X_train)"
   ]
  },
  {
   "cell_type": "code",
   "execution_count": 40,
   "id": "massive-hartford",
   "metadata": {},
   "outputs": [
    {
     "data": {
      "text/plain": [
       "0.04994782278721184"
      ]
     },
     "execution_count": 40,
     "metadata": {},
     "output_type": "execute_result"
    }
   ],
   "source": [
    "len(y_test[y_test == 1])/len(X_test)"
   ]
  },
  {
   "cell_type": "markdown",
   "id": "ignored-horror",
   "metadata": {},
   "source": [
    "## Checking the variance of the data"
   ]
  },
  {
   "cell_type": "code",
   "execution_count": 41,
   "id": "blond-monitoring",
   "metadata": {},
   "outputs": [
    {
     "data": {
      "text/html": [
       "<div>\n",
       "<style scoped>\n",
       "    .dataframe tbody tr th:only-of-type {\n",
       "        vertical-align: middle;\n",
       "    }\n",
       "\n",
       "    .dataframe tbody tr th {\n",
       "        vertical-align: top;\n",
       "    }\n",
       "\n",
       "    .dataframe thead th {\n",
       "        text-align: right;\n",
       "    }\n",
       "</style>\n",
       "<table border=\"1\" class=\"dataframe\">\n",
       "  <thead>\n",
       "    <tr style=\"text-align: right;\">\n",
       "      <th></th>\n",
       "      <th>posting_month</th>\n",
       "      <th>posting_date</th>\n",
       "      <th>posting_hour</th>\n",
       "      <th>posting_day_1</th>\n",
       "      <th>posting_day_2</th>\n",
       "      <th>posting_day_3</th>\n",
       "      <th>posting_day_4</th>\n",
       "      <th>posting_day_5</th>\n",
       "      <th>posting_day_6</th>\n",
       "      <th>ext_link_media</th>\n",
       "      <th>...</th>\n",
       "      <th>title_length</th>\n",
       "      <th>body_length</th>\n",
       "      <th>title_emoji</th>\n",
       "      <th>body_emoji</th>\n",
       "      <th>title_EQ</th>\n",
       "      <th>body_EQ</th>\n",
       "      <th>title_UL</th>\n",
       "      <th>body_UL</th>\n",
       "      <th>log_num_posts</th>\n",
       "      <th>mean_scores</th>\n",
       "    </tr>\n",
       "  </thead>\n",
       "  <tbody>\n",
       "    <tr>\n",
       "      <th>count</th>\n",
       "      <td>84326.000000</td>\n",
       "      <td>84326.000000</td>\n",
       "      <td>84326.000000</td>\n",
       "      <td>84326.000000</td>\n",
       "      <td>84326.000000</td>\n",
       "      <td>84326.00000</td>\n",
       "      <td>84326.000000</td>\n",
       "      <td>84326.000000</td>\n",
       "      <td>84326.000000</td>\n",
       "      <td>84326.000000</td>\n",
       "      <td>...</td>\n",
       "      <td>84326.000000</td>\n",
       "      <td>84326.000000</td>\n",
       "      <td>84326.000000</td>\n",
       "      <td>84326.000000</td>\n",
       "      <td>84326.000000</td>\n",
       "      <td>84326.000000</td>\n",
       "      <td>84326.000000</td>\n",
       "      <td>84326.000000</td>\n",
       "      <td>84326.000000</td>\n",
       "      <td>84326.000000</td>\n",
       "    </tr>\n",
       "    <tr>\n",
       "      <th>mean</th>\n",
       "      <td>2.968598</td>\n",
       "      <td>15.335626</td>\n",
       "      <td>13.084162</td>\n",
       "      <td>0.158077</td>\n",
       "      <td>0.216197</td>\n",
       "      <td>0.19497</td>\n",
       "      <td>0.134371</td>\n",
       "      <td>0.076928</td>\n",
       "      <td>0.074698</td>\n",
       "      <td>0.312430</td>\n",
       "      <td>...</td>\n",
       "      <td>13.347034</td>\n",
       "      <td>65.973911</td>\n",
       "      <td>0.994332</td>\n",
       "      <td>4.524310</td>\n",
       "      <td>0.603230</td>\n",
       "      <td>0.888018</td>\n",
       "      <td>0.184422</td>\n",
       "      <td>0.040315</td>\n",
       "      <td>0.834534</td>\n",
       "      <td>136.978121</td>\n",
       "    </tr>\n",
       "    <tr>\n",
       "      <th>std</th>\n",
       "      <td>0.930791</td>\n",
       "      <td>9.251342</td>\n",
       "      <td>5.657647</td>\n",
       "      <td>0.364815</td>\n",
       "      <td>0.411652</td>\n",
       "      <td>0.39618</td>\n",
       "      <td>0.341053</td>\n",
       "      <td>0.266478</td>\n",
       "      <td>0.262905</td>\n",
       "      <td>0.463487</td>\n",
       "      <td>...</td>\n",
       "      <td>11.566928</td>\n",
       "      <td>247.811900</td>\n",
       "      <td>2.943378</td>\n",
       "      <td>73.729006</td>\n",
       "      <td>1.336158</td>\n",
       "      <td>4.110146</td>\n",
       "      <td>0.264252</td>\n",
       "      <td>0.111492</td>\n",
       "      <td>0.608830</td>\n",
       "      <td>442.396375</td>\n",
       "    </tr>\n",
       "    <tr>\n",
       "      <th>min</th>\n",
       "      <td>1.000000</td>\n",
       "      <td>1.000000</td>\n",
       "      <td>0.000000</td>\n",
       "      <td>0.000000</td>\n",
       "      <td>0.000000</td>\n",
       "      <td>0.00000</td>\n",
       "      <td>0.000000</td>\n",
       "      <td>0.000000</td>\n",
       "      <td>0.000000</td>\n",
       "      <td>0.000000</td>\n",
       "      <td>...</td>\n",
       "      <td>1.000000</td>\n",
       "      <td>0.000000</td>\n",
       "      <td>0.000000</td>\n",
       "      <td>0.000000</td>\n",
       "      <td>0.000000</td>\n",
       "      <td>0.000000</td>\n",
       "      <td>0.000000</td>\n",
       "      <td>0.000000</td>\n",
       "      <td>0.000000</td>\n",
       "      <td>0.000000</td>\n",
       "    </tr>\n",
       "    <tr>\n",
       "      <th>25%</th>\n",
       "      <td>2.000000</td>\n",
       "      <td>8.000000</td>\n",
       "      <td>9.582847</td>\n",
       "      <td>0.000000</td>\n",
       "      <td>0.000000</td>\n",
       "      <td>0.00000</td>\n",
       "      <td>0.000000</td>\n",
       "      <td>0.000000</td>\n",
       "      <td>0.000000</td>\n",
       "      <td>0.000000</td>\n",
       "      <td>...</td>\n",
       "      <td>6.000000</td>\n",
       "      <td>0.000000</td>\n",
       "      <td>0.000000</td>\n",
       "      <td>0.000000</td>\n",
       "      <td>0.000000</td>\n",
       "      <td>0.000000</td>\n",
       "      <td>0.042857</td>\n",
       "      <td>0.000000</td>\n",
       "      <td>0.301030</td>\n",
       "      <td>11.000000</td>\n",
       "    </tr>\n",
       "    <tr>\n",
       "      <th>50%</th>\n",
       "      <td>3.000000</td>\n",
       "      <td>14.000000</td>\n",
       "      <td>13.176111</td>\n",
       "      <td>0.000000</td>\n",
       "      <td>0.000000</td>\n",
       "      <td>0.00000</td>\n",
       "      <td>0.000000</td>\n",
       "      <td>0.000000</td>\n",
       "      <td>0.000000</td>\n",
       "      <td>0.000000</td>\n",
       "      <td>...</td>\n",
       "      <td>10.000000</td>\n",
       "      <td>0.000000</td>\n",
       "      <td>0.000000</td>\n",
       "      <td>0.000000</td>\n",
       "      <td>0.000000</td>\n",
       "      <td>0.000000</td>\n",
       "      <td>0.083333</td>\n",
       "      <td>0.000000</td>\n",
       "      <td>0.778151</td>\n",
       "      <td>28.000000</td>\n",
       "    </tr>\n",
       "    <tr>\n",
       "      <th>75%</th>\n",
       "      <td>4.000000</td>\n",
       "      <td>24.000000</td>\n",
       "      <td>17.115000</td>\n",
       "      <td>0.000000</td>\n",
       "      <td>0.000000</td>\n",
       "      <td>0.00000</td>\n",
       "      <td>0.000000</td>\n",
       "      <td>0.000000</td>\n",
       "      <td>0.000000</td>\n",
       "      <td>1.000000</td>\n",
       "      <td>...</td>\n",
       "      <td>17.000000</td>\n",
       "      <td>44.000000</td>\n",
       "      <td>1.000000</td>\n",
       "      <td>2.000000</td>\n",
       "      <td>1.000000</td>\n",
       "      <td>1.000000</td>\n",
       "      <td>0.179487</td>\n",
       "      <td>0.043956</td>\n",
       "      <td>1.230449</td>\n",
       "      <td>100.363636</td>\n",
       "    </tr>\n",
       "    <tr>\n",
       "      <th>max</th>\n",
       "      <td>5.000000</td>\n",
       "      <td>31.000000</td>\n",
       "      <td>23.998889</td>\n",
       "      <td>1.000000</td>\n",
       "      <td>1.000000</td>\n",
       "      <td>1.00000</td>\n",
       "      <td>1.000000</td>\n",
       "      <td>1.000000</td>\n",
       "      <td>1.000000</td>\n",
       "      <td>1.000000</td>\n",
       "      <td>...</td>\n",
       "      <td>163.000000</td>\n",
       "      <td>14410.000000</td>\n",
       "      <td>167.000000</td>\n",
       "      <td>20060.000000</td>\n",
       "      <td>96.000000</td>\n",
       "      <td>532.000000</td>\n",
       "      <td>1.000000</td>\n",
       "      <td>1.000000</td>\n",
       "      <td>2.642465</td>\n",
       "      <td>37396.000000</td>\n",
       "    </tr>\n",
       "  </tbody>\n",
       "</table>\n",
       "<p>8 rows × 21 columns</p>\n",
       "</div>"
      ],
      "text/plain": [
       "       posting_month  posting_date  posting_hour  posting_day_1  \\\n",
       "count   84326.000000  84326.000000  84326.000000   84326.000000   \n",
       "mean        2.968598     15.335626     13.084162       0.158077   \n",
       "std         0.930791      9.251342      5.657647       0.364815   \n",
       "min         1.000000      1.000000      0.000000       0.000000   \n",
       "25%         2.000000      8.000000      9.582847       0.000000   \n",
       "50%         3.000000     14.000000     13.176111       0.000000   \n",
       "75%         4.000000     24.000000     17.115000       0.000000   \n",
       "max         5.000000     31.000000     23.998889       1.000000   \n",
       "\n",
       "       posting_day_2  posting_day_3  posting_day_4  posting_day_5  \\\n",
       "count   84326.000000    84326.00000   84326.000000   84326.000000   \n",
       "mean        0.216197        0.19497       0.134371       0.076928   \n",
       "std         0.411652        0.39618       0.341053       0.266478   \n",
       "min         0.000000        0.00000       0.000000       0.000000   \n",
       "25%         0.000000        0.00000       0.000000       0.000000   \n",
       "50%         0.000000        0.00000       0.000000       0.000000   \n",
       "75%         0.000000        0.00000       0.000000       0.000000   \n",
       "max         1.000000        1.00000       1.000000       1.000000   \n",
       "\n",
       "       posting_day_6  ext_link_media  ...  title_length   body_length  \\\n",
       "count   84326.000000    84326.000000  ...  84326.000000  84326.000000   \n",
       "mean        0.074698        0.312430  ...     13.347034     65.973911   \n",
       "std         0.262905        0.463487  ...     11.566928    247.811900   \n",
       "min         0.000000        0.000000  ...      1.000000      0.000000   \n",
       "25%         0.000000        0.000000  ...      6.000000      0.000000   \n",
       "50%         0.000000        0.000000  ...     10.000000      0.000000   \n",
       "75%         0.000000        1.000000  ...     17.000000     44.000000   \n",
       "max         1.000000        1.000000  ...    163.000000  14410.000000   \n",
       "\n",
       "        title_emoji    body_emoji      title_EQ       body_EQ      title_UL  \\\n",
       "count  84326.000000  84326.000000  84326.000000  84326.000000  84326.000000   \n",
       "mean       0.994332      4.524310      0.603230      0.888018      0.184422   \n",
       "std        2.943378     73.729006      1.336158      4.110146      0.264252   \n",
       "min        0.000000      0.000000      0.000000      0.000000      0.000000   \n",
       "25%        0.000000      0.000000      0.000000      0.000000      0.042857   \n",
       "50%        0.000000      0.000000      0.000000      0.000000      0.083333   \n",
       "75%        1.000000      2.000000      1.000000      1.000000      0.179487   \n",
       "max      167.000000  20060.000000     96.000000    532.000000      1.000000   \n",
       "\n",
       "            body_UL  log_num_posts   mean_scores  \n",
       "count  84326.000000   84326.000000  84326.000000  \n",
       "mean       0.040315       0.834534    136.978121  \n",
       "std        0.111492       0.608830    442.396375  \n",
       "min        0.000000       0.000000      0.000000  \n",
       "25%        0.000000       0.301030     11.000000  \n",
       "50%        0.000000       0.778151     28.000000  \n",
       "75%        0.043956       1.230449    100.363636  \n",
       "max        1.000000       2.642465  37396.000000  \n",
       "\n",
       "[8 rows x 21 columns]"
      ]
     },
     "execution_count": 41,
     "metadata": {},
     "output_type": "execute_result"
    }
   ],
   "source": [
    "X_train.describe()"
   ]
  },
  {
   "cell_type": "markdown",
   "id": "hungarian-tonight",
   "metadata": {},
   "source": [
    "## Scaling the continuum features"
   ]
  },
  {
   "cell_type": "code",
   "execution_count": 42,
   "id": "czech-episode",
   "metadata": {},
   "outputs": [
    {
     "data": {
      "text/plain": [
       "Index(['posting_month', 'posting_date', 'posting_hour', 'posting_day_1',\n",
       "       'posting_day_2', 'posting_day_3', 'posting_day_4', 'posting_day_5',\n",
       "       'posting_day_6', 'ext_link_media', 'ext_link_web', 'title_length',\n",
       "       'body_length', 'title_emoji', 'body_emoji', 'title_EQ', 'body_EQ',\n",
       "       'title_UL', 'body_UL', 'log_num_posts', 'mean_scores'],\n",
       "      dtype='object')"
      ]
     },
     "execution_count": 42,
     "metadata": {},
     "output_type": "execute_result"
    }
   ],
   "source": [
    "X_train.columns"
   ]
  },
  {
   "cell_type": "code",
   "execution_count": 43,
   "id": "interesting-cameroon",
   "metadata": {},
   "outputs": [
    {
     "name": "stderr",
     "output_type": "stream",
     "text": [
      "<ipython-input-43-42341c9e48e8>:10: SettingWithCopyWarning: \n",
      "A value is trying to be set on a copy of a slice from a DataFrame.\n",
      "Try using .loc[row_indexer,col_indexer] = value instead\n",
      "\n",
      "See the caveats in the documentation: https://pandas.pydata.org/pandas-docs/stable/user_guide/indexing.html#returning-a-view-versus-a-copy\n",
      "  X_train[col] = scaler.fit_transform(X_train[col].values.reshape(-1,1))\n",
      "<ipython-input-43-42341c9e48e8>:11: SettingWithCopyWarning: \n",
      "A value is trying to be set on a copy of a slice from a DataFrame.\n",
      "Try using .loc[row_indexer,col_indexer] = value instead\n",
      "\n",
      "See the caveats in the documentation: https://pandas.pydata.org/pandas-docs/stable/user_guide/indexing.html#returning-a-view-versus-a-copy\n",
      "  X_test[col]  = scaler.transform(X_test[col].values.reshape(-1,1))\n",
      "<ipython-input-43-42341c9e48e8>:10: SettingWithCopyWarning: \n",
      "A value is trying to be set on a copy of a slice from a DataFrame.\n",
      "Try using .loc[row_indexer,col_indexer] = value instead\n",
      "\n",
      "See the caveats in the documentation: https://pandas.pydata.org/pandas-docs/stable/user_guide/indexing.html#returning-a-view-versus-a-copy\n",
      "  X_train[col] = scaler.fit_transform(X_train[col].values.reshape(-1,1))\n",
      "<ipython-input-43-42341c9e48e8>:11: SettingWithCopyWarning: \n",
      "A value is trying to be set on a copy of a slice from a DataFrame.\n",
      "Try using .loc[row_indexer,col_indexer] = value instead\n",
      "\n",
      "See the caveats in the documentation: https://pandas.pydata.org/pandas-docs/stable/user_guide/indexing.html#returning-a-view-versus-a-copy\n",
      "  X_test[col]  = scaler.transform(X_test[col].values.reshape(-1,1))\n",
      "<ipython-input-43-42341c9e48e8>:10: SettingWithCopyWarning: \n",
      "A value is trying to be set on a copy of a slice from a DataFrame.\n",
      "Try using .loc[row_indexer,col_indexer] = value instead\n",
      "\n",
      "See the caveats in the documentation: https://pandas.pydata.org/pandas-docs/stable/user_guide/indexing.html#returning-a-view-versus-a-copy\n",
      "  X_train[col] = scaler.fit_transform(X_train[col].values.reshape(-1,1))\n",
      "<ipython-input-43-42341c9e48e8>:11: SettingWithCopyWarning: \n",
      "A value is trying to be set on a copy of a slice from a DataFrame.\n",
      "Try using .loc[row_indexer,col_indexer] = value instead\n",
      "\n",
      "See the caveats in the documentation: https://pandas.pydata.org/pandas-docs/stable/user_guide/indexing.html#returning-a-view-versus-a-copy\n",
      "  X_test[col]  = scaler.transform(X_test[col].values.reshape(-1,1))\n",
      "<ipython-input-43-42341c9e48e8>:10: SettingWithCopyWarning: \n",
      "A value is trying to be set on a copy of a slice from a DataFrame.\n",
      "Try using .loc[row_indexer,col_indexer] = value instead\n",
      "\n",
      "See the caveats in the documentation: https://pandas.pydata.org/pandas-docs/stable/user_guide/indexing.html#returning-a-view-versus-a-copy\n",
      "  X_train[col] = scaler.fit_transform(X_train[col].values.reshape(-1,1))\n",
      "<ipython-input-43-42341c9e48e8>:11: SettingWithCopyWarning: \n",
      "A value is trying to be set on a copy of a slice from a DataFrame.\n",
      "Try using .loc[row_indexer,col_indexer] = value instead\n",
      "\n",
      "See the caveats in the documentation: https://pandas.pydata.org/pandas-docs/stable/user_guide/indexing.html#returning-a-view-versus-a-copy\n",
      "  X_test[col]  = scaler.transform(X_test[col].values.reshape(-1,1))\n",
      "<ipython-input-43-42341c9e48e8>:10: SettingWithCopyWarning: \n",
      "A value is trying to be set on a copy of a slice from a DataFrame.\n",
      "Try using .loc[row_indexer,col_indexer] = value instead\n",
      "\n",
      "See the caveats in the documentation: https://pandas.pydata.org/pandas-docs/stable/user_guide/indexing.html#returning-a-view-versus-a-copy\n",
      "  X_train[col] = scaler.fit_transform(X_train[col].values.reshape(-1,1))\n",
      "<ipython-input-43-42341c9e48e8>:11: SettingWithCopyWarning: \n",
      "A value is trying to be set on a copy of a slice from a DataFrame.\n",
      "Try using .loc[row_indexer,col_indexer] = value instead\n",
      "\n",
      "See the caveats in the documentation: https://pandas.pydata.org/pandas-docs/stable/user_guide/indexing.html#returning-a-view-versus-a-copy\n",
      "  X_test[col]  = scaler.transform(X_test[col].values.reshape(-1,1))\n",
      "<ipython-input-43-42341c9e48e8>:10: SettingWithCopyWarning: \n",
      "A value is trying to be set on a copy of a slice from a DataFrame.\n",
      "Try using .loc[row_indexer,col_indexer] = value instead\n",
      "\n",
      "See the caveats in the documentation: https://pandas.pydata.org/pandas-docs/stable/user_guide/indexing.html#returning-a-view-versus-a-copy\n",
      "  X_train[col] = scaler.fit_transform(X_train[col].values.reshape(-1,1))\n",
      "<ipython-input-43-42341c9e48e8>:11: SettingWithCopyWarning: \n",
      "A value is trying to be set on a copy of a slice from a DataFrame.\n",
      "Try using .loc[row_indexer,col_indexer] = value instead\n",
      "\n",
      "See the caveats in the documentation: https://pandas.pydata.org/pandas-docs/stable/user_guide/indexing.html#returning-a-view-versus-a-copy\n",
      "  X_test[col]  = scaler.transform(X_test[col].values.reshape(-1,1))\n",
      "<ipython-input-43-42341c9e48e8>:10: SettingWithCopyWarning: \n",
      "A value is trying to be set on a copy of a slice from a DataFrame.\n",
      "Try using .loc[row_indexer,col_indexer] = value instead\n",
      "\n",
      "See the caveats in the documentation: https://pandas.pydata.org/pandas-docs/stable/user_guide/indexing.html#returning-a-view-versus-a-copy\n",
      "  X_train[col] = scaler.fit_transform(X_train[col].values.reshape(-1,1))\n",
      "<ipython-input-43-42341c9e48e8>:11: SettingWithCopyWarning: \n",
      "A value is trying to be set on a copy of a slice from a DataFrame.\n",
      "Try using .loc[row_indexer,col_indexer] = value instead\n",
      "\n",
      "See the caveats in the documentation: https://pandas.pydata.org/pandas-docs/stable/user_guide/indexing.html#returning-a-view-versus-a-copy\n",
      "  X_test[col]  = scaler.transform(X_test[col].values.reshape(-1,1))\n",
      "<ipython-input-43-42341c9e48e8>:10: SettingWithCopyWarning: \n",
      "A value is trying to be set on a copy of a slice from a DataFrame.\n",
      "Try using .loc[row_indexer,col_indexer] = value instead\n",
      "\n",
      "See the caveats in the documentation: https://pandas.pydata.org/pandas-docs/stable/user_guide/indexing.html#returning-a-view-versus-a-copy\n",
      "  X_train[col] = scaler.fit_transform(X_train[col].values.reshape(-1,1))\n",
      "<ipython-input-43-42341c9e48e8>:11: SettingWithCopyWarning: \n",
      "A value is trying to be set on a copy of a slice from a DataFrame.\n",
      "Try using .loc[row_indexer,col_indexer] = value instead\n",
      "\n",
      "See the caveats in the documentation: https://pandas.pydata.org/pandas-docs/stable/user_guide/indexing.html#returning-a-view-versus-a-copy\n",
      "  X_test[col]  = scaler.transform(X_test[col].values.reshape(-1,1))\n",
      "<ipython-input-43-42341c9e48e8>:10: SettingWithCopyWarning: \n",
      "A value is trying to be set on a copy of a slice from a DataFrame.\n",
      "Try using .loc[row_indexer,col_indexer] = value instead\n",
      "\n",
      "See the caveats in the documentation: https://pandas.pydata.org/pandas-docs/stable/user_guide/indexing.html#returning-a-view-versus-a-copy\n",
      "  X_train[col] = scaler.fit_transform(X_train[col].values.reshape(-1,1))\n",
      "<ipython-input-43-42341c9e48e8>:11: SettingWithCopyWarning: \n",
      "A value is trying to be set on a copy of a slice from a DataFrame.\n",
      "Try using .loc[row_indexer,col_indexer] = value instead\n",
      "\n",
      "See the caveats in the documentation: https://pandas.pydata.org/pandas-docs/stable/user_guide/indexing.html#returning-a-view-versus-a-copy\n",
      "  X_test[col]  = scaler.transform(X_test[col].values.reshape(-1,1))\n",
      "<ipython-input-43-42341c9e48e8>:10: SettingWithCopyWarning: \n",
      "A value is trying to be set on a copy of a slice from a DataFrame.\n",
      "Try using .loc[row_indexer,col_indexer] = value instead\n",
      "\n",
      "See the caveats in the documentation: https://pandas.pydata.org/pandas-docs/stable/user_guide/indexing.html#returning-a-view-versus-a-copy\n",
      "  X_train[col] = scaler.fit_transform(X_train[col].values.reshape(-1,1))\n",
      "<ipython-input-43-42341c9e48e8>:11: SettingWithCopyWarning: \n",
      "A value is trying to be set on a copy of a slice from a DataFrame.\n",
      "Try using .loc[row_indexer,col_indexer] = value instead\n",
      "\n",
      "See the caveats in the documentation: https://pandas.pydata.org/pandas-docs/stable/user_guide/indexing.html#returning-a-view-versus-a-copy\n",
      "  X_test[col]  = scaler.transform(X_test[col].values.reshape(-1,1))\n",
      "<ipython-input-43-42341c9e48e8>:10: SettingWithCopyWarning: \n",
      "A value is trying to be set on a copy of a slice from a DataFrame.\n",
      "Try using .loc[row_indexer,col_indexer] = value instead\n",
      "\n",
      "See the caveats in the documentation: https://pandas.pydata.org/pandas-docs/stable/user_guide/indexing.html#returning-a-view-versus-a-copy\n",
      "  X_train[col] = scaler.fit_transform(X_train[col].values.reshape(-1,1))\n",
      "<ipython-input-43-42341c9e48e8>:11: SettingWithCopyWarning: \n",
      "A value is trying to be set on a copy of a slice from a DataFrame.\n",
      "Try using .loc[row_indexer,col_indexer] = value instead\n",
      "\n",
      "See the caveats in the documentation: https://pandas.pydata.org/pandas-docs/stable/user_guide/indexing.html#returning-a-view-versus-a-copy\n",
      "  X_test[col]  = scaler.transform(X_test[col].values.reshape(-1,1))\n",
      "<ipython-input-43-42341c9e48e8>:10: SettingWithCopyWarning: \n",
      "A value is trying to be set on a copy of a slice from a DataFrame.\n",
      "Try using .loc[row_indexer,col_indexer] = value instead\n",
      "\n",
      "See the caveats in the documentation: https://pandas.pydata.org/pandas-docs/stable/user_guide/indexing.html#returning-a-view-versus-a-copy\n",
      "  X_train[col] = scaler.fit_transform(X_train[col].values.reshape(-1,1))\n",
      "<ipython-input-43-42341c9e48e8>:11: SettingWithCopyWarning: \n",
      "A value is trying to be set on a copy of a slice from a DataFrame.\n",
      "Try using .loc[row_indexer,col_indexer] = value instead\n",
      "\n",
      "See the caveats in the documentation: https://pandas.pydata.org/pandas-docs/stable/user_guide/indexing.html#returning-a-view-versus-a-copy\n",
      "  X_test[col]  = scaler.transform(X_test[col].values.reshape(-1,1))\n"
     ]
    }
   ],
   "source": [
    "from sklearn.preprocessing import StandardScaler\n",
    "\n",
    "scaled_cols = ['posting_month','posting_date','posting_hour','title_length','body_length','title_emoji',\n",
    "               'body_emoji','title_EQ','body_EQ','title_UL','body_UL','mean_scores']\n",
    "\n",
    "for col in scaled_cols:\n",
    "\n",
    "    scaler = StandardScaler()\n",
    "\n",
    "    X_train[col] = scaler.fit_transform(X_train[col].values.reshape(-1,1))\n",
    "    X_test[col]  = scaler.transform(X_test[col].values.reshape(-1,1))"
   ]
  },
  {
   "cell_type": "code",
   "execution_count": 44,
   "id": "dominican-invitation",
   "metadata": {},
   "outputs": [
    {
     "data": {
      "text/html": [
       "<div>\n",
       "<style scoped>\n",
       "    .dataframe tbody tr th:only-of-type {\n",
       "        vertical-align: middle;\n",
       "    }\n",
       "\n",
       "    .dataframe tbody tr th {\n",
       "        vertical-align: top;\n",
       "    }\n",
       "\n",
       "    .dataframe thead th {\n",
       "        text-align: right;\n",
       "    }\n",
       "</style>\n",
       "<table border=\"1\" class=\"dataframe\">\n",
       "  <thead>\n",
       "    <tr style=\"text-align: right;\">\n",
       "      <th></th>\n",
       "      <th>posting_month</th>\n",
       "      <th>posting_date</th>\n",
       "      <th>posting_hour</th>\n",
       "      <th>posting_day_1</th>\n",
       "      <th>posting_day_2</th>\n",
       "      <th>posting_day_3</th>\n",
       "      <th>posting_day_4</th>\n",
       "      <th>posting_day_5</th>\n",
       "      <th>posting_day_6</th>\n",
       "      <th>ext_link_media</th>\n",
       "      <th>...</th>\n",
       "      <th>title_length</th>\n",
       "      <th>body_length</th>\n",
       "      <th>title_emoji</th>\n",
       "      <th>body_emoji</th>\n",
       "      <th>title_EQ</th>\n",
       "      <th>body_EQ</th>\n",
       "      <th>title_UL</th>\n",
       "      <th>body_UL</th>\n",
       "      <th>log_num_posts</th>\n",
       "      <th>mean_scores</th>\n",
       "    </tr>\n",
       "  </thead>\n",
       "  <tbody>\n",
       "    <tr>\n",
       "      <th>count</th>\n",
       "      <td>8.432600e+04</td>\n",
       "      <td>8.432600e+04</td>\n",
       "      <td>8.432600e+04</td>\n",
       "      <td>84326.000000</td>\n",
       "      <td>84326.000000</td>\n",
       "      <td>84326.00000</td>\n",
       "      <td>84326.000000</td>\n",
       "      <td>84326.000000</td>\n",
       "      <td>84326.000000</td>\n",
       "      <td>84326.000000</td>\n",
       "      <td>...</td>\n",
       "      <td>8.432600e+04</td>\n",
       "      <td>8.432600e+04</td>\n",
       "      <td>8.432600e+04</td>\n",
       "      <td>8.432600e+04</td>\n",
       "      <td>8.432600e+04</td>\n",
       "      <td>8.432600e+04</td>\n",
       "      <td>8.432600e+04</td>\n",
       "      <td>8.432600e+04</td>\n",
       "      <td>84326.000000</td>\n",
       "      <td>8.432600e+04</td>\n",
       "    </tr>\n",
       "    <tr>\n",
       "      <th>mean</th>\n",
       "      <td>1.203464e-16</td>\n",
       "      <td>8.030112e-17</td>\n",
       "      <td>2.128022e-16</td>\n",
       "      <td>0.158077</td>\n",
       "      <td>0.216197</td>\n",
       "      <td>0.19497</td>\n",
       "      <td>0.134371</td>\n",
       "      <td>0.076928</td>\n",
       "      <td>0.074698</td>\n",
       "      <td>0.312430</td>\n",
       "      <td>...</td>\n",
       "      <td>2.746922e-17</td>\n",
       "      <td>1.643097e-17</td>\n",
       "      <td>-1.280773e-17</td>\n",
       "      <td>8.447206e-18</td>\n",
       "      <td>-1.845325e-17</td>\n",
       "      <td>-1.693654e-17</td>\n",
       "      <td>3.185081e-17</td>\n",
       "      <td>6.547111e-17</td>\n",
       "      <td>0.834534</td>\n",
       "      <td>-6.740913e-19</td>\n",
       "    </tr>\n",
       "    <tr>\n",
       "      <th>std</th>\n",
       "      <td>1.000006e+00</td>\n",
       "      <td>1.000006e+00</td>\n",
       "      <td>1.000006e+00</td>\n",
       "      <td>0.364815</td>\n",
       "      <td>0.411652</td>\n",
       "      <td>0.39618</td>\n",
       "      <td>0.341053</td>\n",
       "      <td>0.266478</td>\n",
       "      <td>0.262905</td>\n",
       "      <td>0.463487</td>\n",
       "      <td>...</td>\n",
       "      <td>1.000006e+00</td>\n",
       "      <td>1.000006e+00</td>\n",
       "      <td>1.000006e+00</td>\n",
       "      <td>1.000006e+00</td>\n",
       "      <td>1.000006e+00</td>\n",
       "      <td>1.000006e+00</td>\n",
       "      <td>1.000006e+00</td>\n",
       "      <td>1.000006e+00</td>\n",
       "      <td>0.608830</td>\n",
       "      <td>1.000006e+00</td>\n",
       "    </tr>\n",
       "    <tr>\n",
       "      <th>min</th>\n",
       "      <td>-2.114985e+00</td>\n",
       "      <td>-1.549582e+00</td>\n",
       "      <td>-2.312665e+00</td>\n",
       "      <td>0.000000</td>\n",
       "      <td>0.000000</td>\n",
       "      <td>0.00000</td>\n",
       "      <td>0.000000</td>\n",
       "      <td>0.000000</td>\n",
       "      <td>0.000000</td>\n",
       "      <td>0.000000</td>\n",
       "      <td>...</td>\n",
       "      <td>-1.067449e+00</td>\n",
       "      <td>-2.662273e-01</td>\n",
       "      <td>-3.378219e-01</td>\n",
       "      <td>-6.136441e-02</td>\n",
       "      <td>-4.514691e-01</td>\n",
       "      <td>-2.160564e-01</td>\n",
       "      <td>-6.979056e-01</td>\n",
       "      <td>-3.615946e-01</td>\n",
       "      <td>0.000000</td>\n",
       "      <td>-3.096294e-01</td>\n",
       "    </tr>\n",
       "    <tr>\n",
       "      <th>25%</th>\n",
       "      <td>-1.040624e+00</td>\n",
       "      <td>-7.929303e-01</td>\n",
       "      <td>-6.188678e-01</td>\n",
       "      <td>0.000000</td>\n",
       "      <td>0.000000</td>\n",
       "      <td>0.00000</td>\n",
       "      <td>0.000000</td>\n",
       "      <td>0.000000</td>\n",
       "      <td>0.000000</td>\n",
       "      <td>0.000000</td>\n",
       "      <td>...</td>\n",
       "      <td>-6.351797e-01</td>\n",
       "      <td>-2.662273e-01</td>\n",
       "      <td>-3.378219e-01</td>\n",
       "      <td>-6.136441e-02</td>\n",
       "      <td>-4.514691e-01</td>\n",
       "      <td>-2.160564e-01</td>\n",
       "      <td>-5.357218e-01</td>\n",
       "      <td>-3.615946e-01</td>\n",
       "      <td>0.301030</td>\n",
       "      <td>-2.847647e-01</td>\n",
       "    </tr>\n",
       "    <tr>\n",
       "      <th>50%</th>\n",
       "      <td>3.373702e-02</td>\n",
       "      <td>-1.443719e-01</td>\n",
       "      <td>1.625225e-02</td>\n",
       "      <td>0.000000</td>\n",
       "      <td>0.000000</td>\n",
       "      <td>0.00000</td>\n",
       "      <td>0.000000</td>\n",
       "      <td>0.000000</td>\n",
       "      <td>0.000000</td>\n",
       "      <td>0.000000</td>\n",
       "      <td>...</td>\n",
       "      <td>-2.893641e-01</td>\n",
       "      <td>-2.662273e-01</td>\n",
       "      <td>-3.378219e-01</td>\n",
       "      <td>-6.136441e-02</td>\n",
       "      <td>-4.514691e-01</td>\n",
       "      <td>-2.160564e-01</td>\n",
       "      <td>-3.825482e-01</td>\n",
       "      <td>-3.615946e-01</td>\n",
       "      <td>0.778151</td>\n",
       "      <td>-2.463374e-01</td>\n",
       "    </tr>\n",
       "    <tr>\n",
       "      <th>75%</th>\n",
       "      <td>1.108098e+00</td>\n",
       "      <td>9.365588e-01</td>\n",
       "      <td>7.124626e-01</td>\n",
       "      <td>0.000000</td>\n",
       "      <td>0.000000</td>\n",
       "      <td>0.00000</td>\n",
       "      <td>0.000000</td>\n",
       "      <td>0.000000</td>\n",
       "      <td>0.000000</td>\n",
       "      <td>1.000000</td>\n",
       "      <td>...</td>\n",
       "      <td>3.158131e-01</td>\n",
       "      <td>-8.867226e-02</td>\n",
       "      <td>1.925852e-03</td>\n",
       "      <td>-3.423789e-02</td>\n",
       "      <td>2.969500e-01</td>\n",
       "      <td>2.724544e-02</td>\n",
       "      <td>-1.867428e-02</td>\n",
       "      <td>3.266062e-02</td>\n",
       "      <td>1.230449</td>\n",
       "      <td>-8.276447e-02</td>\n",
       "    </tr>\n",
       "    <tr>\n",
       "      <th>max</th>\n",
       "      <td>2.182459e+00</td>\n",
       "      <td>1.693210e+00</td>\n",
       "      <td>1.929210e+00</td>\n",
       "      <td>1.000000</td>\n",
       "      <td>1.000000</td>\n",
       "      <td>1.00000</td>\n",
       "      <td>1.000000</td>\n",
       "      <td>1.000000</td>\n",
       "      <td>1.000000</td>\n",
       "      <td>1.000000</td>\n",
       "      <td>...</td>\n",
       "      <td>1.293808e+01</td>\n",
       "      <td>5.788306e+01</td>\n",
       "      <td>5.640005e+01</td>\n",
       "      <td>2.720177e+02</td>\n",
       "      <td>7.139677e+01</td>\n",
       "      <td>1.292205e+02</td>\n",
       "      <td>3.086383e+00</td>\n",
       "      <td>8.607712e+00</td>\n",
       "      <td>2.642465</td>\n",
       "      <td>8.422140e+01</td>\n",
       "    </tr>\n",
       "  </tbody>\n",
       "</table>\n",
       "<p>8 rows × 21 columns</p>\n",
       "</div>"
      ],
      "text/plain": [
       "       posting_month  posting_date  posting_hour  posting_day_1  \\\n",
       "count   8.432600e+04  8.432600e+04  8.432600e+04   84326.000000   \n",
       "mean    1.203464e-16  8.030112e-17  2.128022e-16       0.158077   \n",
       "std     1.000006e+00  1.000006e+00  1.000006e+00       0.364815   \n",
       "min    -2.114985e+00 -1.549582e+00 -2.312665e+00       0.000000   \n",
       "25%    -1.040624e+00 -7.929303e-01 -6.188678e-01       0.000000   \n",
       "50%     3.373702e-02 -1.443719e-01  1.625225e-02       0.000000   \n",
       "75%     1.108098e+00  9.365588e-01  7.124626e-01       0.000000   \n",
       "max     2.182459e+00  1.693210e+00  1.929210e+00       1.000000   \n",
       "\n",
       "       posting_day_2  posting_day_3  posting_day_4  posting_day_5  \\\n",
       "count   84326.000000    84326.00000   84326.000000   84326.000000   \n",
       "mean        0.216197        0.19497       0.134371       0.076928   \n",
       "std         0.411652        0.39618       0.341053       0.266478   \n",
       "min         0.000000        0.00000       0.000000       0.000000   \n",
       "25%         0.000000        0.00000       0.000000       0.000000   \n",
       "50%         0.000000        0.00000       0.000000       0.000000   \n",
       "75%         0.000000        0.00000       0.000000       0.000000   \n",
       "max         1.000000        1.00000       1.000000       1.000000   \n",
       "\n",
       "       posting_day_6  ext_link_media  ...  title_length   body_length  \\\n",
       "count   84326.000000    84326.000000  ...  8.432600e+04  8.432600e+04   \n",
       "mean        0.074698        0.312430  ...  2.746922e-17  1.643097e-17   \n",
       "std         0.262905        0.463487  ...  1.000006e+00  1.000006e+00   \n",
       "min         0.000000        0.000000  ... -1.067449e+00 -2.662273e-01   \n",
       "25%         0.000000        0.000000  ... -6.351797e-01 -2.662273e-01   \n",
       "50%         0.000000        0.000000  ... -2.893641e-01 -2.662273e-01   \n",
       "75%         0.000000        1.000000  ...  3.158131e-01 -8.867226e-02   \n",
       "max         1.000000        1.000000  ...  1.293808e+01  5.788306e+01   \n",
       "\n",
       "        title_emoji    body_emoji      title_EQ       body_EQ      title_UL  \\\n",
       "count  8.432600e+04  8.432600e+04  8.432600e+04  8.432600e+04  8.432600e+04   \n",
       "mean  -1.280773e-17  8.447206e-18 -1.845325e-17 -1.693654e-17  3.185081e-17   \n",
       "std    1.000006e+00  1.000006e+00  1.000006e+00  1.000006e+00  1.000006e+00   \n",
       "min   -3.378219e-01 -6.136441e-02 -4.514691e-01 -2.160564e-01 -6.979056e-01   \n",
       "25%   -3.378219e-01 -6.136441e-02 -4.514691e-01 -2.160564e-01 -5.357218e-01   \n",
       "50%   -3.378219e-01 -6.136441e-02 -4.514691e-01 -2.160564e-01 -3.825482e-01   \n",
       "75%    1.925852e-03 -3.423789e-02  2.969500e-01  2.724544e-02 -1.867428e-02   \n",
       "max    5.640005e+01  2.720177e+02  7.139677e+01  1.292205e+02  3.086383e+00   \n",
       "\n",
       "            body_UL  log_num_posts   mean_scores  \n",
       "count  8.432600e+04   84326.000000  8.432600e+04  \n",
       "mean   6.547111e-17       0.834534 -6.740913e-19  \n",
       "std    1.000006e+00       0.608830  1.000006e+00  \n",
       "min   -3.615946e-01       0.000000 -3.096294e-01  \n",
       "25%   -3.615946e-01       0.301030 -2.847647e-01  \n",
       "50%   -3.615946e-01       0.778151 -2.463374e-01  \n",
       "75%    3.266062e-02       1.230449 -8.276447e-02  \n",
       "max    8.607712e+00       2.642465  8.422140e+01  \n",
       "\n",
       "[8 rows x 21 columns]"
      ]
     },
     "execution_count": 44,
     "metadata": {},
     "output_type": "execute_result"
    }
   ],
   "source": [
    "X_train.describe()"
   ]
  },
  {
   "cell_type": "markdown",
   "id": "transparent-minute",
   "metadata": {},
   "source": [
    "# Modeling"
   ]
  },
  {
   "cell_type": "markdown",
   "id": "round-check",
   "metadata": {},
   "source": [
    "## Logistic Regression"
   ]
  },
  {
   "cell_type": "code",
   "execution_count": 45,
   "id": "toxic-tuner",
   "metadata": {},
   "outputs": [
    {
     "data": {
      "text/plain": [
       "GridSearchCV(estimator=LogisticRegression(class_weight='balanced',\n",
       "                                          max_iter=10000, solver='liblinear'),\n",
       "             param_grid={'C': [0.01, 0.1, 1, 10], 'penalty': ['l1', 'l2']})"
      ]
     },
     "execution_count": 45,
     "metadata": {},
     "output_type": "execute_result"
    }
   ],
   "source": [
    "logreg = LogisticRegression(max_iter=10000, solver='liblinear', class_weight='balanced')\n",
    "param_grid = {'C': [0.01,0.1,1,10],\n",
    "              'penalty': ['l1','l2']}\n",
    "gs = GridSearchCV(logreg, param_grid=param_grid) #, scoring='f1')\n",
    "gs.fit(X_train, y_train)"
   ]
  },
  {
   "cell_type": "code",
   "execution_count": 46,
   "id": "frank-terrain",
   "metadata": {},
   "outputs": [
    {
     "data": {
      "text/plain": [
       "{'C': 0.01, 'penalty': 'l1'}"
      ]
     },
     "execution_count": 46,
     "metadata": {},
     "output_type": "execute_result"
    }
   ],
   "source": [
    "gs.best_params_"
   ]
  },
  {
   "cell_type": "code",
   "execution_count": 47,
   "id": "ahead-tradition",
   "metadata": {},
   "outputs": [
    {
     "data": {
      "text/plain": [
       "0.8718307276810439"
      ]
     },
     "execution_count": 47,
     "metadata": {},
     "output_type": "execute_result"
    }
   ],
   "source": [
    "gs.best_score_"
   ]
  },
  {
   "cell_type": "code",
   "execution_count": 48,
   "id": "confirmed-significance",
   "metadata": {},
   "outputs": [
    {
     "data": {
      "text/plain": [
       "(array([0.98662602, 0.24819295]),\n",
       " array([0.87666018, 0.77408638]),\n",
       " array([0.92839816, 0.37587141]),\n",
       " array([80112,  4214]))"
      ]
     },
     "execution_count": 48,
     "metadata": {},
     "output_type": "execute_result"
    }
   ],
   "source": [
    "y_pred = gs.predict(X_train)\n",
    "precision_recall_fscore_support(y_train, y_pred)"
   ]
  },
  {
   "cell_type": "code",
   "execution_count": 49,
   "id": "traditional-liver",
   "metadata": {},
   "outputs": [
    {
     "data": {
      "text/plain": [
       "(array([0.98552189, 0.24371551]),\n",
       " array([0.8768286 , 0.75498575]),\n",
       " array([0.92800338, 0.36848204]),\n",
       " array([20029,  1053]))"
      ]
     },
     "execution_count": 49,
     "metadata": {},
     "output_type": "execute_result"
    }
   ],
   "source": [
    "y_pred = gs.predict(X_test)\n",
    "precision_recall_fscore_support(y_test, y_pred)"
   ]
  },
  {
   "cell_type": "code",
   "execution_count": 50,
   "id": "musical-aruba",
   "metadata": {},
   "outputs": [
    {
     "data": {
      "text/plain": [
       "array([[17562,  2467],\n",
       "       [  258,   795]])"
      ]
     },
     "execution_count": 50,
     "metadata": {},
     "output_type": "execute_result"
    }
   ],
   "source": [
    "confusion_matrix(y_test, y_pred)"
   ]
  },
  {
   "cell_type": "code",
   "execution_count": 51,
   "id": "wrapped-optimization",
   "metadata": {},
   "outputs": [
    {
     "data": {
      "text/plain": [
       "<sklearn.metrics._plot.roc_curve.RocCurveDisplay at 0x7fa939d0ba60>"
      ]
     },
     "execution_count": 51,
     "metadata": {},
     "output_type": "execute_result"
    },
    {
     "data": {
      "image/png": "[encoded data removed]",
      "text/plain": [
       "<Figure size 432x288 with 1 Axes>"
      ]
     },
     "metadata": {
      "needs_background": "light"
     },
     "output_type": "display_data"
    }
   ],
   "source": [
    "from sklearn.metrics import plot_roc_curve\n",
    "\n",
    "plot_roc_curve(gs, X_test, y_test)"
   ]
  },
  {
   "cell_type": "code",
   "execution_count": 52,
   "id": "sorted-trunk",
   "metadata": {},
   "outputs": [
    {
     "data": {
      "image/png": "[encoded data removed]",
      "text/plain": [
       "<Figure size 504x360 with 1 Axes>"
      ]
     },
     "metadata": {
      "needs_background": "light"
     },
     "output_type": "display_data"
    }
   ],
   "source": [
    "from sklearn.metrics import plot_precision_recall_curve\n",
    "\n",
    "fig, ax = plt.subplots(1,1, figsize=(7,5))\n",
    "plot_precision_recall_curve(gs, X_test, y_test, ax=ax)\n",
    "plt.grid(ls='--')\n",
    "plt.savefig('../../plots/prec_rec_curve_logreg.png')"
   ]
  },
  {
   "cell_type": "code",
   "execution_count": 53,
   "id": "whole-comedy",
   "metadata": {},
   "outputs": [
    {
     "data": {
      "text/plain": [
       "(array([0.96681383, 0.41603467]),\n",
       " array([0.97308902, 0.36467236]),\n",
       " array([0.96994128, 0.38866397]),\n",
       " array([20029,  1053]))"
      ]
     },
     "execution_count": 53,
     "metadata": {},
     "output_type": "execute_result"
    }
   ],
   "source": [
    "y_prob = gs.predict_proba(X_test)[:,1]\n",
    "precision_recall_fscore_support(y_test, 1*(y_prob > 0.9))"
   ]
  },
  {
   "cell_type": "code",
   "execution_count": 54,
   "id": "broken-immigration",
   "metadata": {},
   "outputs": [
    {
     "data": {
      "text/plain": [
       "['../../saved_models/logreg.joblib']"
      ]
     },
     "execution_count": 54,
     "metadata": {},
     "output_type": "execute_result"
    }
   ],
   "source": [
    "from joblib import dump, load\n",
    "dump(gs, '../../saved_models/logreg.joblib')"
   ]
  },
  {
   "cell_type": "markdown",
   "id": "sensitive-coordinator",
   "metadata": {},
   "source": [
    "## Random Forest"
   ]
  },
  {
   "cell_type": "code",
   "execution_count": 55,
   "id": "valid-interaction",
   "metadata": {},
   "outputs": [
    {
     "data": {
      "text/plain": [
       "GridSearchCV(estimator=RandomForestClassifier(),\n",
       "             param_grid={'max_depth': [5, 10, 20]})"
      ]
     },
     "execution_count": 55,
     "metadata": {},
     "output_type": "execute_result"
    }
   ],
   "source": [
    "from sklearn.ensemble import RandomForestClassifier\n",
    "\n",
    "rfc = RandomForestClassifier()\n",
    "\n",
    "param_grid = {'max_depth': [5, 10, 20]}\n",
    "\n",
    "gs_rf = GridSearchCV(rfc, param_grid=param_grid)\n",
    "\n",
    "gs_rf.fit(X_train, y_train)"
   ]
  },
  {
   "cell_type": "code",
   "execution_count": 56,
   "id": "natural-facility",
   "metadata": {},
   "outputs": [
    {
     "data": {
      "text/plain": [
       "{'max_depth': 20}"
      ]
     },
     "execution_count": 56,
     "metadata": {},
     "output_type": "execute_result"
    }
   ],
   "source": [
    "gs_rf.best_params_"
   ]
  },
  {
   "cell_type": "code",
   "execution_count": 57,
   "id": "dynamic-program",
   "metadata": {},
   "outputs": [
    {
     "data": {
      "text/plain": [
       "(array([0.99367418, 1.        ]),\n",
       " array([1.        , 0.87897485]),\n",
       " array([0.99682706, 0.9355898 ]),\n",
       " array([80112,  4214]))"
      ]
     },
     "execution_count": 57,
     "metadata": {},
     "output_type": "execute_result"
    }
   ],
   "source": [
    "y_pred = gs_rf.predict(X_train)\n",
    "precision_recall_fscore_support(y_train, y_pred)"
   ]
  },
  {
   "cell_type": "code",
   "execution_count": 58,
   "id": "boring-tackle",
   "metadata": {},
   "outputs": [
    {
     "data": {
      "text/plain": [
       "(array([0.96160154, 0.73011364]),\n",
       " array([0.99525688, 0.24406458]),\n",
       " array([0.9781398, 0.3658363]),\n",
       " array([20029,  1053]))"
      ]
     },
     "execution_count": 58,
     "metadata": {},
     "output_type": "execute_result"
    }
   ],
   "source": [
    "y_pred = gs_rf.predict(X_test)\n",
    "precision_recall_fscore_support(y_test, y_pred)"
   ]
  },
  {
   "cell_type": "code",
   "execution_count": 59,
   "id": "current-module",
   "metadata": {},
   "outputs": [
    {
     "data": {
      "text/plain": [
       "array([[19934,    95],\n",
       "       [  796,   257]])"
      ]
     },
     "execution_count": 59,
     "metadata": {},
     "output_type": "execute_result"
    }
   ],
   "source": [
    "confusion_matrix(y_test, y_pred)"
   ]
  },
  {
   "cell_type": "code",
   "execution_count": 60,
   "id": "manufactured-working",
   "metadata": {},
   "outputs": [
    {
     "data": {
      "text/plain": [
       "<sklearn.metrics._plot.roc_curve.RocCurveDisplay at 0x7fa90a1478e0>"
      ]
     },
     "execution_count": 60,
     "metadata": {},
     "output_type": "execute_result"
    },
    {
     "data": {
      "image/png": "[encoded data removed]",
      "text/plain": [
       "<Figure size 432x288 with 1 Axes>"
      ]
     },
     "metadata": {
      "needs_background": "light"
     },
     "output_type": "display_data"
    }
   ],
   "source": [
    "plot_roc_curve(gs_rf, X_test, y_test)"
   ]
  },
  {
   "cell_type": "code",
   "execution_count": 61,
   "id": "indoor-blowing",
   "metadata": {},
   "outputs": [
    {
     "data": {
      "image/png": "[encoded data removed]",
      "text/plain": [
       "<Figure size 504x360 with 1 Axes>"
      ]
     },
     "metadata": {
      "needs_background": "light"
     },
     "output_type": "display_data"
    }
   ],
   "source": [
    "fig, ax = plt.subplots(1,1, figsize=(7,5))\n",
    "plot_precision_recall_curve(gs_rf, X_test, y_test, ax=ax)\n",
    "plt.grid(ls='--')"
   ]
  },
  {
   "cell_type": "code",
   "execution_count": 62,
   "id": "ahead-completion",
   "metadata": {},
   "outputs": [
    {
     "data": {
      "text/plain": [
       "(array([0.97191097, 0.36718175]),\n",
       " array([0.95706226, 0.47388414]),\n",
       " array([0.96442946, 0.41376451]),\n",
       " array([20029,  1053]))"
      ]
     },
     "execution_count": 62,
     "metadata": {},
     "output_type": "execute_result"
    }
   ],
   "source": [
    "y_prob = gs.predict_proba(X_test)[:,1]\n",
    "precision_recall_fscore_support(y_test, 1*(y_prob > 0.8))"
   ]
  },
  {
   "cell_type": "code",
   "execution_count": 63,
   "id": "oriental-tyler",
   "metadata": {},
   "outputs": [
    {
     "data": {
      "text/plain": [
       "['../../saved_models/rfc.joblib']"
      ]
     },
     "execution_count": 63,
     "metadata": {},
     "output_type": "execute_result"
    }
   ],
   "source": [
    "dump(gs_rf, '../../saved_models/rfc.joblib')"
   ]
  },
  {
   "cell_type": "markdown",
   "id": "conceptual-disorder",
   "metadata": {},
   "source": [
    "## XGBoost"
   ]
  },
  {
   "cell_type": "code",
   "execution_count": 64,
   "id": "enhanced-representative",
   "metadata": {},
   "outputs": [
    {
     "name": "stderr",
     "output_type": "stream",
     "text": [
      "/Users/dutomo/miniconda3/lib/python3.8/site-packages/xgboost/sklearn.py:888: UserWarning: The use of label encoder in XGBClassifier is deprecated and will be removed in a future release. To remove this warning, do the following: 1) Pass option use_label_encoder=False when constructing XGBClassifier object; and 2) Encode your labels (y) as integers starting with 0, i.e. 0, 1, 2, ..., [num_class - 1].\n",
      "  warnings.warn(label_encoder_deprecation_msg, UserWarning)\n"
     ]
    },
    {
     "data": {
      "text/plain": [
       "GridSearchCV(estimator=XGBClassifier(base_score=None, booster=None,\n",
       "                                     colsample_bylevel=None,\n",
       "                                     colsample_bynode=None,\n",
       "                                     colsample_bytree=None, gamma=None,\n",
       "                                     gpu_id=None, importance_type='gain',\n",
       "                                     interaction_constraints=None,\n",
       "                                     learning_rate=None, max_delta_step=None,\n",
       "                                     max_depth=None, min_child_weight=None,\n",
       "                                     missing=nan, monotone_constraints=None,\n",
       "                                     n_estimators=100, n_jobs=None,\n",
       "                                     num_parallel_tree=None, random_state=None,\n",
       "                                     reg_alpha=None, reg_lambda=None,\n",
       "                                     scale_pos_weight=None, subsample=None,\n",
       "                                     tree_method=None, validate_parameters=None,\n",
       "                                     verbosity=0),\n",
       "             param_grid={'alpha': [1, 10, 100], 'max_depth': [4, 5, 6]})"
      ]
     },
     "execution_count": 64,
     "metadata": {},
     "output_type": "execute_result"
    }
   ],
   "source": [
    "from xgboost import XGBClassifier\n",
    "\n",
    "xgb = XGBClassifier(verbosity=0)\n",
    "\n",
    "param_grid = {'max_depth': [4, 5, 6],\n",
    "              'alpha': [1, 10, 100]}\n",
    "\n",
    "gs_xgb = GridSearchCV(xgb, param_grid=param_grid)\n",
    "\n",
    "gs_xgb.fit(X_train, y_train)"
   ]
  },
  {
   "cell_type": "code",
   "execution_count": 65,
   "id": "functioning-reception",
   "metadata": {},
   "outputs": [
    {
     "data": {
      "text/plain": [
       "{'alpha': 10, 'max_depth': 4}"
      ]
     },
     "execution_count": 65,
     "metadata": {},
     "output_type": "execute_result"
    }
   ],
   "source": [
    "gs_xgb.best_params_"
   ]
  },
  {
   "cell_type": "code",
   "execution_count": 66,
   "id": "documented-legend",
   "metadata": {},
   "outputs": [
    {
     "data": {
      "text/plain": [
       "(array([0.96643848, 0.80625349]),\n",
       " array([0.99566856, 0.3426673 ]),\n",
       " array([0.9808358 , 0.48093256]),\n",
       " array([80112,  4214]))"
      ]
     },
     "execution_count": 66,
     "metadata": {},
     "output_type": "execute_result"
    }
   ],
   "source": [
    "y_pred = gs_xgb.predict(X_train)\n",
    "precision_recall_fscore_support(y_train, y_pred)"
   ]
  },
  {
   "cell_type": "code",
   "execution_count": 67,
   "id": "processed-benjamin",
   "metadata": {},
   "outputs": [
    {
     "data": {
      "text/plain": [
       "(array([0.9635994 , 0.71158392]),\n",
       " array([0.99390883, 0.28584995]),\n",
       " array([0.97851947, 0.40785908]),\n",
       " array([20029,  1053]))"
      ]
     },
     "execution_count": 67,
     "metadata": {},
     "output_type": "execute_result"
    }
   ],
   "source": [
    "y_pred = gs_xgb.predict(X_test)\n",
    "precision_recall_fscore_support(y_test, y_pred)"
   ]
  },
  {
   "cell_type": "code",
   "execution_count": 68,
   "id": "applicable-purple",
   "metadata": {},
   "outputs": [
    {
     "data": {
      "text/plain": [
       "<sklearn.metrics._plot.roc_curve.RocCurveDisplay at 0x7fa8f949e8b0>"
      ]
     },
     "execution_count": 68,
     "metadata": {},
     "output_type": "execute_result"
    },
    {
     "data": {
      "image/png": "[encoded data removed]",
      "text/plain": [
       "<Figure size 432x288 with 1 Axes>"
      ]
     },
     "metadata": {
      "needs_background": "light"
     },
     "output_type": "display_data"
    }
   ],
   "source": [
    "plot_roc_curve(gs_xgb, X_test, y_test)"
   ]
  },
  {
   "cell_type": "markdown",
   "id": "twelve-theology",
   "metadata": {},
   "source": [
    "## Neural network"
   ]
  },
  {
   "cell_type": "code",
   "execution_count": 69,
   "id": "intense-armor",
   "metadata": {},
   "outputs": [],
   "source": [
    "from keras.models import Sequential, load_model\n",
    "from keras.layers import Dense, Dropout\n",
    "from keras.callbacks import EarlyStopping\n",
    "from keras.metrics import binary_accuracy, Recall, BinaryAccuracy"
   ]
  },
  {
   "cell_type": "code",
   "execution_count": 70,
   "id": "featured-sending",
   "metadata": {},
   "outputs": [],
   "source": [
    "def build_network(n_features, n_output, n_layers=1, n_nodes=10, activ_func='relu', dropout_rate=0.):\n",
    "    ''' Building neural network model '''\n",
    "    model = Sequential()\n",
    "    model.add(Dense(n_nodes, activation=activ_func, use_bias=True, input_shape=(n_features,)))\n",
    "    for i in range(n_layers-1):\n",
    "        model.add(Dense(n_nodes, activation=activ_func, use_bias=True))\n",
    "    if dropout_rate > 0:\n",
    "        model.add(Dropout(dropout_rate, input_shape=(n_nodes,)))\n",
    "    model.add(Dense(n_output, activation='sigmoid'))\n",
    "    return model"
   ]
  },
  {
   "cell_type": "code",
   "execution_count": 71,
   "id": "ideal-kenya",
   "metadata": {},
   "outputs": [],
   "source": [
    "def fit_network(X, y, n_output, n_layers=1, n_nodes=10, activ_func='relu', dropout_rate=0., epochs=10,\n",
    "                metrics=[binary_accuracy], loss_weights=None, patience=5):\n",
    "    # Building neural network model\n",
    "    n_features = np.shape(X)[1]\n",
    "    model = build_network(n_features, n_output, n_layers, n_nodes, activ_func, dropout_rate)\n",
    "    # Compiling model\n",
    "    early_stopping_monitor = EarlyStopping(patience=patience)\n",
    "    model.compile(optimizer='adam', loss='binary_crossentropy', metrics=metrics, loss_weights=loss_weights)\n",
    "    # Fitting model\n",
    "    history = model.fit(X, y,\n",
    "                        validation_split=0.2, epochs=epochs,\n",
    "                        shuffle=True, callbacks=[early_stopping_monitor])\n",
    "    return model, history"
   ]
  },
  {
   "cell_type": "code",
   "execution_count": 72,
   "id": "earned-balloon",
   "metadata": {},
   "outputs": [
    {
     "name": "stdout",
     "output_type": "stream",
     "text": [
      "Epoch 1/10\n",
      "2109/2109 [==============================] - 2s 990us/step - loss: 0.2273 - binary_accuracy: 0.9321 - val_loss: 0.1250 - val_binary_accuracy: 0.9545\n",
      "Epoch 2/10\n",
      "2109/2109 [==============================] - 1s 706us/step - loss: 0.1262 - binary_accuracy: 0.9537 - val_loss: 0.1196 - val_binary_accuracy: 0.9546\n",
      "Epoch 3/10\n",
      "2109/2109 [==============================] - 2s 815us/step - loss: 0.1205 - binary_accuracy: 0.9541 - val_loss: 0.1158 - val_binary_accuracy: 0.9561\n",
      "Epoch 4/10\n",
      "2109/2109 [==============================] - 2s 790us/step - loss: 0.1150 - binary_accuracy: 0.9557 - val_loss: 0.1137 - val_binary_accuracy: 0.9567\n",
      "Epoch 5/10\n",
      "2109/2109 [==============================] - 2s 926us/step - loss: 0.1152 - binary_accuracy: 0.9541 - val_loss: 0.1129 - val_binary_accuracy: 0.9564\n",
      "Epoch 6/10\n",
      "2109/2109 [==============================] - 2s 945us/step - loss: 0.1098 - binary_accuracy: 0.9570 - val_loss: 0.1128 - val_binary_accuracy: 0.9575\n",
      "Epoch 7/10\n",
      "2109/2109 [==============================] - 2s 919us/step - loss: 0.1124 - binary_accuracy: 0.9565 - val_loss: 0.1119 - val_binary_accuracy: 0.9578\n",
      "Epoch 8/10\n",
      "2109/2109 [==============================] - 2s 805us/step - loss: 0.1104 - binary_accuracy: 0.9557 - val_loss: 0.1114 - val_binary_accuracy: 0.9575\n",
      "Epoch 9/10\n",
      "2109/2109 [==============================] - 2s 864us/step - loss: 0.1122 - binary_accuracy: 0.9562 - val_loss: 0.1114 - val_binary_accuracy: 0.9580\n",
      "Epoch 10/10\n",
      "2109/2109 [==============================] - 2s 923us/step - loss: 0.1118 - binary_accuracy: 0.9556 - val_loss: 0.1113 - val_binary_accuracy: 0.9583\n"
     ]
    }
   ],
   "source": [
    "model, history = fit_network(X_train, y_train, n_output=1, n_layers=2, n_nodes=10, epochs=10, patience=3)"
   ]
  },
  {
   "cell_type": "code",
   "execution_count": 73,
   "id": "confident-petersburg",
   "metadata": {},
   "outputs": [
    {
     "data": {
      "image/png": "[encoded data removed]",
      "text/plain": [
       "<Figure size 432x288 with 1 Axes>"
      ]
     },
     "metadata": {
      "needs_background": "light"
     },
     "output_type": "display_data"
    }
   ],
   "source": [
    "plt.plot(history.history['loss'], label='training')\n",
    "plt.plot(history.history['val_loss'], label='validation')\n",
    "plt.legend()\n",
    "plt.xlabel('epoch')\n",
    "plt.ylabel('loss')\n",
    "plt.show()"
   ]
  },
  {
   "cell_type": "code",
   "execution_count": 74,
   "id": "complex-asset",
   "metadata": {},
   "outputs": [
    {
     "data": {
      "text/plain": [
       "(array([0.96082991, 0.72460497]),\n",
       " array([0.9954314 , 0.22852397]),\n",
       " array([0.97782464, 0.34746527]),\n",
       " array([80112,  4214]))"
      ]
     },
     "execution_count": 74,
     "metadata": {},
     "output_type": "execute_result"
    }
   ],
   "source": [
    "y_prob = model.predict(X_train)\n",
    "precision_recall_fscore_support(y_train, 1*(y_prob > 0.5))"
   ]
  },
  {
   "cell_type": "code",
   "execution_count": 75,
   "id": "established-intermediate",
   "metadata": {},
   "outputs": [
    {
     "data": {
      "text/plain": [
       "(array([0.95911103, 0.69047619]),\n",
       " array([0.99545659, 0.19278253]),\n",
       " array([0.97694588, 0.30141054]),\n",
       " array([20029,  1053]))"
      ]
     },
     "execution_count": 75,
     "metadata": {},
     "output_type": "execute_result"
    }
   ],
   "source": [
    "y_prob = model.predict(X_test)\n",
    "precision_recall_fscore_support(y_test, 1*(y_prob > 0.5))"
   ]
  },
  {
   "cell_type": "code",
   "execution_count": 76,
   "id": "deadly-chinese",
   "metadata": {},
   "outputs": [],
   "source": [
    "from sklearn.metrics import precision_score, recall_score\n",
    "\n",
    "thres = np.arange(0,1,0.01)\n",
    "\n",
    "prec_nn = []\n",
    "rec_nn = []\n",
    "\n",
    "for t in thres:\n",
    "    prec_nn.append(precision_score(y_test, 1*(y_prob > t)))\n",
    "    rec_nn.append(recall_score(y_test, 1*(y_prob > t)))"
   ]
  },
  {
   "cell_type": "code",
   "execution_count": 77,
   "id": "relative-conservation",
   "metadata": {},
   "outputs": [
    {
     "data": {
      "image/png": "[encoded data removed]",
      "text/plain": [
       "<Figure size 504x360 with 1 Axes>"
      ]
     },
     "metadata": {
      "needs_background": "light"
     },
     "output_type": "display_data"
    }
   ],
   "source": [
    "fig, ax = plt.subplots(1,1, figsize=(7,5))\n",
    "plot_precision_recall_curve(gs, X_test, y_test, ax=ax, label='logistic regression')\n",
    "plot_precision_recall_curve(gs_rf, X_test, y_test, ax=ax, label='random forest')\n",
    "plot_precision_recall_curve(gs_xgb, X_test, y_test, ax=ax, label='XGBoost')\n",
    "ax.plot(rec_nn, prec_nn, label='neural network')\n",
    "plt.grid(ls='--')\n",
    "plt.legend(loc='upper right')\n",
    "plt.savefig('../../plots/prec_rec_curve.png')"
   ]
  },
  {
   "cell_type": "code",
   "execution_count": null,
   "id": "prostate-border",
   "metadata": {},
   "outputs": [],
   "source": []
  }
 ],
 "metadata": {
  "kernelspec": {
   "display_name": "Python 3",
   "language": "python",
   "name": "python3"
  },
  "language_info": {
   "codemirror_mode": {
    "name": "ipython",
    "version": 3
   },
   "file_extension": ".py",
   "mimetype": "text/x-python",
   "name": "python",
   "nbconvert_exporter": "python",
   "pygments_lexer": "ipython3",
   "version": "3.8.5"
  }
 },
 "nbformat": 4,
 "nbformat_minor": 5
}
