{
 "cells": [
  {
   "cell_type": "markdown",
   "id": "e3808979",
   "metadata": {},
   "source": [
    "# Model building"
   ]
  },
  {
   "cell_type": "code",
   "execution_count": 1,
   "id": "b51dd14e",
   "metadata": {},
   "outputs": [],
   "source": [
    "import numpy as np\n",
    "import pandas as pd\n",
    "import pylab as plt\n",
    "import seaborn as sns\n",
    "\n",
    "\n",
    "from sklearn.metrics import accuracy_score, precision_score, recall_score, f1_score\n",
    "from sklearn.metrics import precision_recall_fscore_support\n",
    "from sklearn.metrics import confusion_matrix, make_scorer\n",
    "from sklearn.metrics import plot_roc_curve, precision_recall_curve\n",
    "from sklearn.metrics import plot_precision_recall_curve\n",
    "\n",
    "from sklearn.feature_extraction.text import TfidfVectorizer\n",
    "from sklearn.feature_extraction.text import CountVectorizer\n",
    "\n",
    "\n",
    "from sklearn.model_selection import train_test_split\n",
    "from sklearn.model_selection import GridSearchCV, KFold, StratifiedKFold\n",
    "from sklearn.linear_model import LogisticRegression\n",
    "\n",
    "from sklearn import tree\n",
    "from sklearn.tree import DecisionTreeClassifier\n",
    "from sklearn.ensemble import RandomForestClassifier\n",
    "\n",
    "from tensorflow.keras.preprocessing.text import Tokenizer\n",
    "from tensorflow.keras.preprocessing.sequence import pad_sequences\n",
    "from tensorflow.keras.models import Sequential\n",
    "from tensorflow.keras.layers import Dense, Dropout, Flatten, Activation\n",
    "from tensorflow.keras.layers import LSTM, Bidirectional, Conv1D\n",
    "from tensorflow.keras.layers import GRU\n",
    "from tensorflow.keras.layers import MaxPooling1D, GlobalMaxPool1D, BatchNormalization\n",
    "from tensorflow.keras import backend as K\n",
    "#from tensorflow.keras.layers.embeddings import Embedding\n",
    "\n",
    "import datetime\n",
    "\n",
    "import warnings\n",
    "warnings.filterwarnings(\"ignore\")"
   ]
  },
  {
   "cell_type": "code",
   "execution_count": 3,
   "id": "2b765235",
   "metadata": {},
   "outputs": [],
   "source": [
    "df_orig = pd.read_csv(\"df_processed.csv\")\n",
    "df_orig.replace(np.nan, \"no_text\", inplace=True)"
   ]
  },
  {
   "cell_type": "code",
   "execution_count": 4,
   "id": "ce81e560",
   "metadata": {},
   "outputs": [
    {
     "name": "stdout",
     "output_type": "stream",
     "text": [
      "(541438, 21) Index(['Unnamed: 0', 'id', 'subreddit', 'title', 'author', 'url', 'created',\n",
      "       'ext_link', 'id.1', 'body', 'score', 'upvote_ratio', 'body_processed',\n",
      "       'title_processed', 'author_processed', 'subreddit_processed',\n",
      "       'body_and_title', 'body_and_author', 'title_and_author',\n",
      "       'body_title_and_author', 'body_title_author_subreddit'],\n",
      "      dtype='object')\n"
     ]
    },
    {
     "data": {
      "text/html": [
       "<div>\n",
       "<style scoped>\n",
       "    .dataframe tbody tr th:only-of-type {\n",
       "        vertical-align: middle;\n",
       "    }\n",
       "\n",
       "    .dataframe tbody tr th {\n",
       "        vertical-align: top;\n",
       "    }\n",
       "\n",
       "    .dataframe thead th {\n",
       "        text-align: right;\n",
       "    }\n",
       "</style>\n",
       "<table border=\"1\" class=\"dataframe\">\n",
       "  <thead>\n",
       "    <tr style=\"text-align: right;\">\n",
       "      <th></th>\n",
       "      <th>Unnamed: 0</th>\n",
       "      <th>id</th>\n",
       "      <th>subreddit</th>\n",
       "      <th>title</th>\n",
       "      <th>author</th>\n",
       "      <th>url</th>\n",
       "      <th>created</th>\n",
       "      <th>ext_link</th>\n",
       "      <th>id.1</th>\n",
       "      <th>body</th>\n",
       "      <th>...</th>\n",
       "      <th>upvote_ratio</th>\n",
       "      <th>body_processed</th>\n",
       "      <th>title_processed</th>\n",
       "      <th>author_processed</th>\n",
       "      <th>subreddit_processed</th>\n",
       "      <th>body_and_title</th>\n",
       "      <th>body_and_author</th>\n",
       "      <th>title_and_author</th>\n",
       "      <th>body_title_and_author</th>\n",
       "      <th>body_title_author_subreddit</th>\n",
       "    </tr>\n",
       "  </thead>\n",
       "  <tbody>\n",
       "    <tr>\n",
       "      <th>0</th>\n",
       "      <td>0</td>\n",
       "      <td>koaw8g</td>\n",
       "      <td>finance</td>\n",
       "      <td>Tech's top seven companies added $3.4 trillion...</td>\n",
       "      <td>Obrocheetah</td>\n",
       "      <td>https://www.reddit.com/r/finance/comments/koaw...</td>\n",
       "      <td>1609505868</td>\n",
       "      <td>no_text</td>\n",
       "      <td>koaw8g</td>\n",
       "      <td>[deleted]</td>\n",
       "      <td>...</td>\n",
       "      <td>1.0</td>\n",
       "      <td>deleted</td>\n",
       "      <td>top seven companies added trillion value</td>\n",
       "      <td>obrocheetah</td>\n",
       "      <td>finance</td>\n",
       "      <td>deleted top seven companies added trillion value</td>\n",
       "      <td>deleted obrocheetah</td>\n",
       "      <td>top seven companies added trillion value obroc...</td>\n",
       "      <td>deleted top seven companies added trillion val...</td>\n",
       "      <td>deleted top seven companies added trillion val...</td>\n",
       "    </tr>\n",
       "    <tr>\n",
       "      <th>1</th>\n",
       "      <td>1</td>\n",
       "      <td>kobbka</td>\n",
       "      <td>finance</td>\n",
       "      <td>Mogo: Establishes ATM Equity Program Mogo a fi...</td>\n",
       "      <td>fintechinshorts</td>\n",
       "      <td>https://www.reddit.com/r/finance/comments/kobb...</td>\n",
       "      <td>1609507913</td>\n",
       "      <td>https://www.fintechinshorts.com/mogo-establish...</td>\n",
       "      <td>kobbka</td>\n",
       "      <td>no_text</td>\n",
       "      <td>...</td>\n",
       "      <td>1.0</td>\n",
       "      <td>no_text</td>\n",
       "      <td>mogo establishes atm equity program mogo finan...</td>\n",
       "      <td>fintechinshorts</td>\n",
       "      <td>finance</td>\n",
       "      <td>no_text mogo establishes atm equity program mo...</td>\n",
       "      <td>no_text fintechinshorts</td>\n",
       "      <td>mogo establishes atm equity program mogo finan...</td>\n",
       "      <td>no_text mogo establishes atm equity program mo...</td>\n",
       "      <td>no_text mogo establishes atm equity program mo...</td>\n",
       "    </tr>\n",
       "  </tbody>\n",
       "</table>\n",
       "<p>2 rows × 21 columns</p>\n",
       "</div>"
      ],
      "text/plain": [
       "   Unnamed: 0      id subreddit  \\\n",
       "0           0  koaw8g   finance   \n",
       "1           1  kobbka   finance   \n",
       "\n",
       "                                               title           author  \\\n",
       "0  Tech's top seven companies added $3.4 trillion...      Obrocheetah   \n",
       "1  Mogo: Establishes ATM Equity Program Mogo a fi...  fintechinshorts   \n",
       "\n",
       "                                                 url     created  \\\n",
       "0  https://www.reddit.com/r/finance/comments/koaw...  1609505868   \n",
       "1  https://www.reddit.com/r/finance/comments/kobb...  1609507913   \n",
       "\n",
       "                                            ext_link    id.1       body  ...  \\\n",
       "0                                            no_text  koaw8g  [deleted]  ...   \n",
       "1  https://www.fintechinshorts.com/mogo-establish...  kobbka    no_text  ...   \n",
       "\n",
       "   upvote_ratio  body_processed  \\\n",
       "0           1.0         deleted   \n",
       "1           1.0         no_text   \n",
       "\n",
       "                                     title_processed author_processed  \\\n",
       "0           top seven companies added trillion value      obrocheetah   \n",
       "1  mogo establishes atm equity program mogo finan...  fintechinshorts   \n",
       "\n",
       "  subreddit_processed                                     body_and_title  \\\n",
       "0             finance   deleted top seven companies added trillion value   \n",
       "1             finance  no_text mogo establishes atm equity program mo...   \n",
       "\n",
       "           body_and_author                                   title_and_author  \\\n",
       "0      deleted obrocheetah  top seven companies added trillion value obroc...   \n",
       "1  no_text fintechinshorts  mogo establishes atm equity program mogo finan...   \n",
       "\n",
       "                               body_title_and_author  \\\n",
       "0  deleted top seven companies added trillion val...   \n",
       "1  no_text mogo establishes atm equity program mo...   \n",
       "\n",
       "                         body_title_author_subreddit  \n",
       "0  deleted top seven companies added trillion val...  \n",
       "1  no_text mogo establishes atm equity program mo...  \n",
       "\n",
       "[2 rows x 21 columns]"
      ]
     },
     "execution_count": 4,
     "metadata": {},
     "output_type": "execute_result"
    }
   ],
   "source": [
    "print ( df_orig.shape, df_orig.columns)\n",
    "df_orig.head(2)"
   ]
  },
  {
   "cell_type": "code",
   "execution_count": 5,
   "id": "929459b7",
   "metadata": {},
   "outputs": [
    {
     "data": {
      "text/html": [
       "<div>\n",
       "<style scoped>\n",
       "    .dataframe tbody tr th:only-of-type {\n",
       "        vertical-align: middle;\n",
       "    }\n",
       "\n",
       "    .dataframe tbody tr th {\n",
       "        vertical-align: top;\n",
       "    }\n",
       "\n",
       "    .dataframe thead th {\n",
       "        text-align: right;\n",
       "    }\n",
       "</style>\n",
       "<table border=\"1\" class=\"dataframe\">\n",
       "  <thead>\n",
       "    <tr style=\"text-align: right;\">\n",
       "      <th></th>\n",
       "      <th>Unnamed: 0</th>\n",
       "      <th>id</th>\n",
       "      <th>subreddit</th>\n",
       "      <th>title</th>\n",
       "      <th>author</th>\n",
       "      <th>url</th>\n",
       "      <th>created</th>\n",
       "      <th>ext_link</th>\n",
       "      <th>id.1</th>\n",
       "      <th>body</th>\n",
       "      <th>...</th>\n",
       "      <th>upvote_ratio</th>\n",
       "      <th>body_processed</th>\n",
       "      <th>title_processed</th>\n",
       "      <th>author_processed</th>\n",
       "      <th>subreddit_processed</th>\n",
       "      <th>body_and_title</th>\n",
       "      <th>body_and_author</th>\n",
       "      <th>title_and_author</th>\n",
       "      <th>body_title_and_author</th>\n",
       "      <th>body_title_author_subreddit</th>\n",
       "    </tr>\n",
       "  </thead>\n",
       "  <tbody>\n",
       "    <tr>\n",
       "      <th>1</th>\n",
       "      <td>1</td>\n",
       "      <td>kobbka</td>\n",
       "      <td>finance</td>\n",
       "      <td>Mogo: Establishes ATM Equity Program Mogo a fi...</td>\n",
       "      <td>fintechinshorts</td>\n",
       "      <td>https://www.reddit.com/r/finance/comments/kobb...</td>\n",
       "      <td>1609507913</td>\n",
       "      <td>https://www.fintechinshorts.com/mogo-establish...</td>\n",
       "      <td>kobbka</td>\n",
       "      <td>no_text</td>\n",
       "      <td>...</td>\n",
       "      <td>1.0</td>\n",
       "      <td>no_text</td>\n",
       "      <td>mogo establishes atm equity program mogo finan...</td>\n",
       "      <td>fintechinshorts</td>\n",
       "      <td>finance</td>\n",
       "      <td>no_text mogo establishes atm equity program mo...</td>\n",
       "      <td>no_text fintechinshorts</td>\n",
       "      <td>mogo establishes atm equity program mogo finan...</td>\n",
       "      <td>no_text mogo establishes atm equity program mo...</td>\n",
       "      <td>no_text mogo establishes atm equity program mo...</td>\n",
       "    </tr>\n",
       "    <tr>\n",
       "      <th>3</th>\n",
       "      <td>3</td>\n",
       "      <td>koe39g</td>\n",
       "      <td>finance</td>\n",
       "      <td>Standard Capital: Partners with SolidBlock Sta...</td>\n",
       "      <td>fintechinshorts</td>\n",
       "      <td>https://www.reddit.com/r/finance/comments/koe3...</td>\n",
       "      <td>1609518689</td>\n",
       "      <td>https://www.fintechinshorts.com/standard-capit...</td>\n",
       "      <td>koe39g</td>\n",
       "      <td>no_text</td>\n",
       "      <td>...</td>\n",
       "      <td>1.0</td>\n",
       "      <td>no_text</td>\n",
       "      <td>standard capital partners solidblock standard ...</td>\n",
       "      <td>fintechinshorts</td>\n",
       "      <td>finance</td>\n",
       "      <td>no_text standard capital partners solidblock s...</td>\n",
       "      <td>no_text fintechinshorts</td>\n",
       "      <td>standard capital partners solidblock standard ...</td>\n",
       "      <td>no_text standard capital partners solidblock s...</td>\n",
       "      <td>no_text standard capital partners solidblock s...</td>\n",
       "    </tr>\n",
       "  </tbody>\n",
       "</table>\n",
       "<p>2 rows × 21 columns</p>\n",
       "</div>"
      ],
      "text/plain": [
       "   Unnamed: 0      id subreddit  \\\n",
       "1           1  kobbka   finance   \n",
       "3           3  koe39g   finance   \n",
       "\n",
       "                                               title           author  \\\n",
       "1  Mogo: Establishes ATM Equity Program Mogo a fi...  fintechinshorts   \n",
       "3  Standard Capital: Partners with SolidBlock Sta...  fintechinshorts   \n",
       "\n",
       "                                                 url     created  \\\n",
       "1  https://www.reddit.com/r/finance/comments/kobb...  1609507913   \n",
       "3  https://www.reddit.com/r/finance/comments/koe3...  1609518689   \n",
       "\n",
       "                                            ext_link    id.1     body  ...  \\\n",
       "1  https://www.fintechinshorts.com/mogo-establish...  kobbka  no_text  ...   \n",
       "3  https://www.fintechinshorts.com/standard-capit...  koe39g  no_text  ...   \n",
       "\n",
       "   upvote_ratio  body_processed  \\\n",
       "1           1.0         no_text   \n",
       "3           1.0         no_text   \n",
       "\n",
       "                                     title_processed author_processed  \\\n",
       "1  mogo establishes atm equity program mogo finan...  fintechinshorts   \n",
       "3  standard capital partners solidblock standard ...  fintechinshorts   \n",
       "\n",
       "  subreddit_processed                                     body_and_title  \\\n",
       "1             finance  no_text mogo establishes atm equity program mo...   \n",
       "3             finance  no_text standard capital partners solidblock s...   \n",
       "\n",
       "           body_and_author                                   title_and_author  \\\n",
       "1  no_text fintechinshorts  mogo establishes atm equity program mogo finan...   \n",
       "3  no_text fintechinshorts  standard capital partners solidblock standard ...   \n",
       "\n",
       "                               body_title_and_author  \\\n",
       "1  no_text mogo establishes atm equity program mo...   \n",
       "3  no_text standard capital partners solidblock s...   \n",
       "\n",
       "                         body_title_author_subreddit  \n",
       "1  no_text mogo establishes atm equity program mo...  \n",
       "3  no_text standard capital partners solidblock s...  \n",
       "\n",
       "[2 rows x 21 columns]"
      ]
     },
     "execution_count": 5,
     "metadata": {},
     "output_type": "execute_result"
    }
   ],
   "source": [
    "# delete the rows with empty body\n",
    "df = df_orig[(df_orig.body_processed != 'deleted') & (df_orig.body_processed != 'removed')]\n",
    "df.head(2)"
   ]
  },
  {
   "cell_type": "markdown",
   "id": "871342ed",
   "metadata": {},
   "source": [
    "## Popular as 95 percentile"
   ]
  },
  {
   "cell_type": "code",
   "execution_count": 6,
   "id": "fbea6adb",
   "metadata": {},
   "outputs": [],
   "source": [
    "df_superstocks = df[df.subreddit == 'Superstonks']\n",
    "df_finance     = df[df.subreddit == 'finance']\n",
    "df_options     = df[df.subreddit == 'options']\n",
    "df_pennystocks = df[df.subreddit == 'pennystocks']\n",
    "df_gme         = df[df.subreddit == 'GME']"
   ]
  },
  {
   "cell_type": "code",
   "execution_count": 7,
   "id": "78e05524",
   "metadata": {},
   "outputs": [],
   "source": [
    "df_superstocks['popular'] = 0\n",
    "df_finance['popular'] = 0\n",
    "df_options['popular'] = 0\n",
    "df_pennystocks['popular'] = 0\n",
    "df_gme['popular'] = 0"
   ]
  },
  {
   "cell_type": "code",
   "execution_count": 8,
   "id": "16fbf581",
   "metadata": {},
   "outputs": [],
   "source": [
    "df_superstocks.loc[df_superstocks['score'] > np.percentile(df_superstocks.score.values, 95), 'popular'] = 1\n",
    "df_finance.loc[df_finance['score'] > np.percentile(df_finance.score.values, 95), 'popular'] = 1\n",
    "df_options.loc[df_options['score'] > np.percentile(df_options.score.values, 95), 'popular'] = 1\n",
    "df_pennystocks.loc[df_pennystocks['score'] > np.percentile(df_pennystocks.score.values, 95), 'popular'] = 1\n",
    "df_gme.loc[df_gme['score'] > np.percentile(df_gme.score.values, 95), 'popular'] = 1"
   ]
  },
  {
   "cell_type": "code",
   "execution_count": 9,
   "id": "68e6fa95",
   "metadata": {},
   "outputs": [],
   "source": [
    "df = pd.concat([df_superstocks, df_finance, df_options,\n",
    "                df_pennystocks, df_gme], ignore_index=True)"
   ]
  },
  {
   "cell_type": "code",
   "execution_count": 11,
   "id": "41032c9c",
   "metadata": {},
   "outputs": [
    {
     "data": {
      "text/html": [
       "<div>\n",
       "<style scoped>\n",
       "    .dataframe tbody tr th:only-of-type {\n",
       "        vertical-align: middle;\n",
       "    }\n",
       "\n",
       "    .dataframe tbody tr th {\n",
       "        vertical-align: top;\n",
       "    }\n",
       "\n",
       "    .dataframe thead th {\n",
       "        text-align: right;\n",
       "    }\n",
       "</style>\n",
       "<table border=\"1\" class=\"dataframe\">\n",
       "  <thead>\n",
       "    <tr style=\"text-align: right;\">\n",
       "      <th></th>\n",
       "      <th>Unnamed: 0</th>\n",
       "      <th>id</th>\n",
       "      <th>subreddit</th>\n",
       "      <th>title</th>\n",
       "      <th>author</th>\n",
       "      <th>url</th>\n",
       "      <th>created</th>\n",
       "      <th>ext_link</th>\n",
       "      <th>id.1</th>\n",
       "      <th>body</th>\n",
       "      <th>...</th>\n",
       "      <th>body_processed</th>\n",
       "      <th>title_processed</th>\n",
       "      <th>author_processed</th>\n",
       "      <th>subreddit_processed</th>\n",
       "      <th>body_and_title</th>\n",
       "      <th>body_and_author</th>\n",
       "      <th>title_and_author</th>\n",
       "      <th>body_title_and_author</th>\n",
       "      <th>body_title_author_subreddit</th>\n",
       "      <th>popular</th>\n",
       "    </tr>\n",
       "  </thead>\n",
       "  <tbody>\n",
       "    <tr>\n",
       "      <th>0</th>\n",
       "      <td>41437</td>\n",
       "      <td>mkga8b</td>\n",
       "      <td>Superstonks</td>\n",
       "      <td>The sub you are looking for is r/Superstonk</td>\n",
       "      <td>seppukkake</td>\n",
       "      <td>https://www.reddit.com/r/Superstonks/comments/...</td>\n",
       "      <td>1617613228</td>\n",
       "      <td>https://www.reddit.com/r/Superstonks/comments/...</td>\n",
       "      <td>mkga8b</td>\n",
       "      <td>r/Superstonk</td>\n",
       "      <td>...</td>\n",
       "      <td>r superstonk</td>\n",
       "      <td>sub looking r superstonk</td>\n",
       "      <td>seppukkake</td>\n",
       "      <td>superstonks</td>\n",
       "      <td>r superstonk sub looking r superstonk</td>\n",
       "      <td>r superstonk seppukkake</td>\n",
       "      <td>sub looking r superstonk seppukkake</td>\n",
       "      <td>r superstonk sub looking r superstonk seppukkake</td>\n",
       "      <td>r superstonk sub looking r superstonk seppukka...</td>\n",
       "      <td>1</td>\n",
       "    </tr>\n",
       "    <tr>\n",
       "      <th>1</th>\n",
       "      <td>41438</td>\n",
       "      <td>mkhpr9</td>\n",
       "      <td>Superstonks</td>\n",
       "      <td>https://www.reddit.com/r/Superstonk/</td>\n",
       "      <td>fairytalee20</td>\n",
       "      <td>https://www.reddit.com/r/Superstonks/comments/...</td>\n",
       "      <td>1617619355</td>\n",
       "      <td>https://www.reddit.com/r/Superstonks/comments/...</td>\n",
       "      <td>mkhpr9</td>\n",
       "      <td>no_text</td>\n",
       "      <td>...</td>\n",
       "      <td>no_text</td>\n",
       "      <td>https www reddit com r superstonk</td>\n",
       "      <td>fairytalee</td>\n",
       "      <td>superstonks</td>\n",
       "      <td>no_text https www reddit com r superstonk</td>\n",
       "      <td>no_text fairytalee</td>\n",
       "      <td>https www reddit com r superstonk fairytalee</td>\n",
       "      <td>no_text https www reddit com r superstonk fair...</td>\n",
       "      <td>no_text https www reddit com r superstonk fair...</td>\n",
       "      <td>0</td>\n",
       "    </tr>\n",
       "  </tbody>\n",
       "</table>\n",
       "<p>2 rows × 22 columns</p>\n",
       "</div>"
      ],
      "text/plain": [
       "   Unnamed: 0      id    subreddit  \\\n",
       "0       41437  mkga8b  Superstonks   \n",
       "1       41438  mkhpr9  Superstonks   \n",
       "\n",
       "                                         title        author  \\\n",
       "0  The sub you are looking for is r/Superstonk    seppukkake   \n",
       "1         https://www.reddit.com/r/Superstonk/  fairytalee20   \n",
       "\n",
       "                                                 url     created  \\\n",
       "0  https://www.reddit.com/r/Superstonks/comments/...  1617613228   \n",
       "1  https://www.reddit.com/r/Superstonks/comments/...  1617619355   \n",
       "\n",
       "                                            ext_link    id.1          body  \\\n",
       "0  https://www.reddit.com/r/Superstonks/comments/...  mkga8b  r/Superstonk   \n",
       "1  https://www.reddit.com/r/Superstonks/comments/...  mkhpr9       no_text   \n",
       "\n",
       "   ...  body_processed                    title_processed author_processed  \\\n",
       "0  ...    r superstonk           sub looking r superstonk       seppukkake   \n",
       "1  ...         no_text  https www reddit com r superstonk       fairytalee   \n",
       "\n",
       "  subreddit_processed                             body_and_title  \\\n",
       "0         superstonks      r superstonk sub looking r superstonk   \n",
       "1         superstonks  no_text https www reddit com r superstonk   \n",
       "\n",
       "           body_and_author                              title_and_author  \\\n",
       "0  r superstonk seppukkake           sub looking r superstonk seppukkake   \n",
       "1       no_text fairytalee  https www reddit com r superstonk fairytalee   \n",
       "\n",
       "                               body_title_and_author  \\\n",
       "0   r superstonk sub looking r superstonk seppukkake   \n",
       "1  no_text https www reddit com r superstonk fair...   \n",
       "\n",
       "                         body_title_author_subreddit popular  \n",
       "0  r superstonk sub looking r superstonk seppukka...       1  \n",
       "1  no_text https www reddit com r superstonk fair...       0  \n",
       "\n",
       "[2 rows x 22 columns]"
      ]
     },
     "execution_count": 11,
     "metadata": {},
     "output_type": "execute_result"
    }
   ],
   "source": [
    "df.head(2)"
   ]
  },
  {
   "cell_type": "code",
   "execution_count": 13,
   "id": "32386d42",
   "metadata": {},
   "outputs": [],
   "source": [
    "import string, re, datetime\n",
    "\n",
    "def emoji_count(s):\n",
    "    s = ''.join(word.strip(string.punctuation) for word in s.split())\n",
    "    return len(re.findall('[^\\w\\s,\\(\\)\\'\\/-]',s))\n",
    "\n",
    "def hourOfDay(utc):\n",
    "    return datetime.datetime.utcfromtimestamp(utc).hour\n",
    "\n",
    "def dayOfWeek(utc):\n",
    "    return datetime.datetime.utcfromtimestamp(utc).weekday()\n",
    "\n",
    "def textLength(text):\n",
    "    return len(text.split())\n",
    "\n",
    "def postType(link):\n",
    "    if not link:\n",
    "        return 'others'\n",
    "    if 'png' in link or 'jpg' in link:\n",
    "        return 'figures'\n",
    "    elif '/r/' in link:\n",
    "        return 'others'\n",
    "    else:\n",
    "        return 'outside_link'\n",
    "\n",
    "def countUpper(text):\n",
    "    Up = 0\n",
    "    Low = 0\n",
    "    for ch in text:\n",
    "        if ch.isupper():\n",
    "            Up += 1\n",
    "        elif ch.islower():\n",
    "            Low += 1\n",
    "    \n",
    "    if Up + Low:\n",
    "        return Up/(Up+Low)\n",
    "    else:\n",
    "        return 0\n",
    "    \n",
    "def exclamationAndQuestion(text):\n",
    "    return text.count('!') + text.count('?')\n",
    "\n",
    "def getMonth(utc):\n",
    "    return datetime.datetime.utcfromtimestamp(utc).month\n",
    "    \n",
    "def primeTime(hour):\n",
    "    primeTime = 1 if hour >= 7 and hour <= 11 else 0\n",
    "    return primeTime\n",
    "\n",
    "def weekend(day):\n",
    "    return 1 if day >= 5 else 0"
   ]
  },
  {
   "cell_type": "code",
   "execution_count": 14,
   "id": "ac079e1a",
   "metadata": {},
   "outputs": [],
   "source": [
    "df['title_emoji'] = df['title'].apply(emoji_count)\n",
    "df['body_emoji'] = df['body'].apply(emoji_count)\n",
    "df['title_length'] = df['title'].apply(textLength)\n",
    "df['body_length'] = df['body'].apply(textLength)\n",
    "df['title_EQ'] = df['title'].apply(exclamationAndQuestion)\n",
    "df['body_EQ'] = df['body'].apply(exclamationAndQuestion)\n",
    "#df['title_UL'] = df['title'].apply(countUpper)\n",
    "#df['body_UL'] = df['body'].apply(countUpper)    \n",
    "df['hour'] = df['created'].apply(hourOfDay)\n",
    "df['day'] = df['created'].apply(dayOfWeek)\n",
    "#df['post_type'] = df['ext_link'].apply(postType)\n",
    "df['prime_time'] = df['hour'].apply(primeTime)\n",
    "df['weekend'] = df['day'].apply(weekend)\n",
    "df['month'] = df['created'].apply(getMonth)"
   ]
  },
  {
   "cell_type": "code",
   "execution_count": 15,
   "id": "be771949",
   "metadata": {},
   "outputs": [
    {
     "data": {
      "text/plain": [
       "'zero twelve forty_four one_hundred_and_twenty_three'"
      ]
     },
     "execution_count": 15,
     "metadata": {},
     "output_type": "execute_result"
    }
   ],
   "source": [
    "from num2words import num2words\n",
    "\n",
    "def get_num2words(num):\n",
    "    w = num2words(num)\n",
    "    w = re.sub(' ', '_', w)\n",
    "    w = re.sub('-', '_', w)\n",
    "    return w\n",
    "\n",
    "def convert_nums(nums):\n",
    "    return \" \".join([get_num2words(num) for num in nums])\n",
    "\n",
    "convert_nums([0, 12, 44, 123])"
   ]
  },
  {
   "cell_type": "code",
   "execution_count": 16,
   "id": "9362a25b",
   "metadata": {},
   "outputs": [
    {
     "data": {
      "text/html": [
       "<div>\n",
       "<style scoped>\n",
       "    .dataframe tbody tr th:only-of-type {\n",
       "        vertical-align: middle;\n",
       "    }\n",
       "\n",
       "    .dataframe tbody tr th {\n",
       "        vertical-align: top;\n",
       "    }\n",
       "\n",
       "    .dataframe thead th {\n",
       "        text-align: right;\n",
       "    }\n",
       "</style>\n",
       "<table border=\"1\" class=\"dataframe\">\n",
       "  <thead>\n",
       "    <tr style=\"text-align: right;\">\n",
       "      <th></th>\n",
       "      <th>Unnamed: 0</th>\n",
       "      <th>id</th>\n",
       "      <th>subreddit</th>\n",
       "      <th>title</th>\n",
       "      <th>author</th>\n",
       "      <th>url</th>\n",
       "      <th>created</th>\n",
       "      <th>ext_link</th>\n",
       "      <th>id.1</th>\n",
       "      <th>body</th>\n",
       "      <th>...</th>\n",
       "      <th>title_length</th>\n",
       "      <th>body_length</th>\n",
       "      <th>title_EQ</th>\n",
       "      <th>body_EQ</th>\n",
       "      <th>hour</th>\n",
       "      <th>day</th>\n",
       "      <th>prime_time</th>\n",
       "      <th>weekend</th>\n",
       "      <th>month</th>\n",
       "      <th>feats_joined_w</th>\n",
       "    </tr>\n",
       "  </thead>\n",
       "  <tbody>\n",
       "    <tr>\n",
       "      <th>0</th>\n",
       "      <td>41437</td>\n",
       "      <td>mkga8b</td>\n",
       "      <td>Superstonks</td>\n",
       "      <td>The sub you are looking for is r/Superstonk</td>\n",
       "      <td>seppukkake</td>\n",
       "      <td>https://www.reddit.com/r/Superstonks/comments/...</td>\n",
       "      <td>1617613228</td>\n",
       "      <td>https://www.reddit.com/r/Superstonks/comments/...</td>\n",
       "      <td>mkga8b</td>\n",
       "      <td>r/Superstonk</td>\n",
       "      <td>...</td>\n",
       "      <td>8</td>\n",
       "      <td>1</td>\n",
       "      <td>0</td>\n",
       "      <td>0</td>\n",
       "      <td>9</td>\n",
       "      <td>0</td>\n",
       "      <td>1</td>\n",
       "      <td>0</td>\n",
       "      <td>4</td>\n",
       "      <td>zero zero eight one zero zero nine zero one ze...</td>\n",
       "    </tr>\n",
       "    <tr>\n",
       "      <th>1</th>\n",
       "      <td>41438</td>\n",
       "      <td>mkhpr9</td>\n",
       "      <td>Superstonks</td>\n",
       "      <td>https://www.reddit.com/r/Superstonk/</td>\n",
       "      <td>fairytalee20</td>\n",
       "      <td>https://www.reddit.com/r/Superstonks/comments/...</td>\n",
       "      <td>1617619355</td>\n",
       "      <td>https://www.reddit.com/r/Superstonks/comments/...</td>\n",
       "      <td>mkhpr9</td>\n",
       "      <td>no_text</td>\n",
       "      <td>...</td>\n",
       "      <td>1</td>\n",
       "      <td>1</td>\n",
       "      <td>0</td>\n",
       "      <td>0</td>\n",
       "      <td>10</td>\n",
       "      <td>0</td>\n",
       "      <td>1</td>\n",
       "      <td>0</td>\n",
       "      <td>4</td>\n",
       "      <td>three zero one one zero zero ten zero one zero...</td>\n",
       "    </tr>\n",
       "  </tbody>\n",
       "</table>\n",
       "<p>2 rows × 34 columns</p>\n",
       "</div>"
      ],
      "text/plain": [
       "   Unnamed: 0      id    subreddit  \\\n",
       "0       41437  mkga8b  Superstonks   \n",
       "1       41438  mkhpr9  Superstonks   \n",
       "\n",
       "                                         title        author  \\\n",
       "0  The sub you are looking for is r/Superstonk    seppukkake   \n",
       "1         https://www.reddit.com/r/Superstonk/  fairytalee20   \n",
       "\n",
       "                                                 url     created  \\\n",
       "0  https://www.reddit.com/r/Superstonks/comments/...  1617613228   \n",
       "1  https://www.reddit.com/r/Superstonks/comments/...  1617619355   \n",
       "\n",
       "                                            ext_link    id.1          body  \\\n",
       "0  https://www.reddit.com/r/Superstonks/comments/...  mkga8b  r/Superstonk   \n",
       "1  https://www.reddit.com/r/Superstonks/comments/...  mkhpr9       no_text   \n",
       "\n",
       "   ...  title_length  body_length title_EQ body_EQ hour day prime_time  \\\n",
       "0  ...             8            1        0       0    9   0          1   \n",
       "1  ...             1            1        0       0   10   0          1   \n",
       "\n",
       "  weekend month                                     feats_joined_w  \n",
       "0       0     4  zero zero eight one zero zero nine zero one ze...  \n",
       "1       0     4  three zero one one zero zero ten zero one zero...  \n",
       "\n",
       "[2 rows x 34 columns]"
      ]
     },
     "execution_count": 16,
     "metadata": {},
     "output_type": "execute_result"
    }
   ],
   "source": [
    "cols = ['title_emoji', 'body_emoji', 'title_length',\n",
    "        'body_length','title_EQ','body_EQ', 'hour',\n",
    "        'day', 'prime_time', 'weekend', 'month']\n",
    "\n",
    "df['feats_joined_w'] = df[cols].apply(convert_nums, axis=1)\n",
    "df.head(2)"
   ]
  },
  {
   "cell_type": "code",
   "execution_count": 17,
   "id": "e97d986e",
   "metadata": {},
   "outputs": [
    {
     "data": {
      "text/html": [
       "<div>\n",
       "<style scoped>\n",
       "    .dataframe tbody tr th:only-of-type {\n",
       "        vertical-align: middle;\n",
       "    }\n",
       "\n",
       "    .dataframe tbody tr th {\n",
       "        vertical-align: top;\n",
       "    }\n",
       "\n",
       "    .dataframe thead th {\n",
       "        text-align: right;\n",
       "    }\n",
       "</style>\n",
       "<table border=\"1\" class=\"dataframe\">\n",
       "  <thead>\n",
       "    <tr style=\"text-align: right;\">\n",
       "      <th></th>\n",
       "      <th>Unnamed: 0</th>\n",
       "      <th>id</th>\n",
       "      <th>subreddit</th>\n",
       "      <th>title</th>\n",
       "      <th>author</th>\n",
       "      <th>url</th>\n",
       "      <th>created</th>\n",
       "      <th>ext_link</th>\n",
       "      <th>id.1</th>\n",
       "      <th>body</th>\n",
       "      <th>...</th>\n",
       "      <th>title_EQ</th>\n",
       "      <th>body_EQ</th>\n",
       "      <th>hour</th>\n",
       "      <th>day</th>\n",
       "      <th>prime_time</th>\n",
       "      <th>weekend</th>\n",
       "      <th>month</th>\n",
       "      <th>feats_joined_w</th>\n",
       "      <th>join1</th>\n",
       "      <th>join2</th>\n",
       "    </tr>\n",
       "  </thead>\n",
       "  <tbody>\n",
       "    <tr>\n",
       "      <th>0</th>\n",
       "      <td>41437</td>\n",
       "      <td>mkga8b</td>\n",
       "      <td>Superstonks</td>\n",
       "      <td>The sub you are looking for is r/Superstonk</td>\n",
       "      <td>seppukkake</td>\n",
       "      <td>https://www.reddit.com/r/Superstonks/comments/...</td>\n",
       "      <td>1617613228</td>\n",
       "      <td>https://www.reddit.com/r/Superstonks/comments/...</td>\n",
       "      <td>mkga8b</td>\n",
       "      <td>r/Superstonk</td>\n",
       "      <td>...</td>\n",
       "      <td>0</td>\n",
       "      <td>0</td>\n",
       "      <td>9</td>\n",
       "      <td>0</td>\n",
       "      <td>1</td>\n",
       "      <td>0</td>\n",
       "      <td>4</td>\n",
       "      <td>zero zero eight one zero zero nine zero one ze...</td>\n",
       "      <td>superstonks r superstonk sub looking r superst...</td>\n",
       "      <td>superstonks r superstonk sub looking r superst...</td>\n",
       "    </tr>\n",
       "    <tr>\n",
       "      <th>1</th>\n",
       "      <td>41438</td>\n",
       "      <td>mkhpr9</td>\n",
       "      <td>Superstonks</td>\n",
       "      <td>https://www.reddit.com/r/Superstonk/</td>\n",
       "      <td>fairytalee20</td>\n",
       "      <td>https://www.reddit.com/r/Superstonks/comments/...</td>\n",
       "      <td>1617619355</td>\n",
       "      <td>https://www.reddit.com/r/Superstonks/comments/...</td>\n",
       "      <td>mkhpr9</td>\n",
       "      <td>no_text</td>\n",
       "      <td>...</td>\n",
       "      <td>0</td>\n",
       "      <td>0</td>\n",
       "      <td>10</td>\n",
       "      <td>0</td>\n",
       "      <td>1</td>\n",
       "      <td>0</td>\n",
       "      <td>4</td>\n",
       "      <td>three zero one one zero zero ten zero one zero...</td>\n",
       "      <td>superstonks no_text https www reddit com r sup...</td>\n",
       "      <td>superstonks no_text https www reddit com r sup...</td>\n",
       "    </tr>\n",
       "  </tbody>\n",
       "</table>\n",
       "<p>2 rows × 36 columns</p>\n",
       "</div>"
      ],
      "text/plain": [
       "   Unnamed: 0      id    subreddit  \\\n",
       "0       41437  mkga8b  Superstonks   \n",
       "1       41438  mkhpr9  Superstonks   \n",
       "\n",
       "                                         title        author  \\\n",
       "0  The sub you are looking for is r/Superstonk    seppukkake   \n",
       "1         https://www.reddit.com/r/Superstonk/  fairytalee20   \n",
       "\n",
       "                                                 url     created  \\\n",
       "0  https://www.reddit.com/r/Superstonks/comments/...  1617613228   \n",
       "1  https://www.reddit.com/r/Superstonks/comments/...  1617619355   \n",
       "\n",
       "                                            ext_link    id.1          body  \\\n",
       "0  https://www.reddit.com/r/Superstonks/comments/...  mkga8b  r/Superstonk   \n",
       "1  https://www.reddit.com/r/Superstonks/comments/...  mkhpr9       no_text   \n",
       "\n",
       "   ...  title_EQ  body_EQ hour day prime_time weekend month  \\\n",
       "0  ...         0        0    9   0          1       0     4   \n",
       "1  ...         0        0   10   0          1       0     4   \n",
       "\n",
       "                                      feats_joined_w  \\\n",
       "0  zero zero eight one zero zero nine zero one ze...   \n",
       "1  three zero one one zero zero ten zero one zero...   \n",
       "\n",
       "                                               join1  \\\n",
       "0  superstonks r superstonk sub looking r superst...   \n",
       "1  superstonks no_text https www reddit com r sup...   \n",
       "\n",
       "                                               join2  \n",
       "0  superstonks r superstonk sub looking r superst...  \n",
       "1  superstonks no_text https www reddit com r sup...  \n",
       "\n",
       "[2 rows x 36 columns]"
      ]
     },
     "execution_count": 17,
     "metadata": {},
     "output_type": "execute_result"
    }
   ],
   "source": [
    "df['join1'] = df['subreddit'].str.lower() + ' ' + df['body_title_and_author']\n",
    "df['join2'] = df['join1'] + ' '+ df['feats_joined_w']\n",
    "df.head(2)"
   ]
  },
  {
   "cell_type": "markdown",
   "id": "fe19e109",
   "metadata": {},
   "source": [
    "## Split data by time"
   ]
  },
  {
   "cell_type": "code",
   "execution_count": 18,
   "id": "59466878",
   "metadata": {},
   "outputs": [
    {
     "data": {
      "text/html": [
       "<div>\n",
       "<style scoped>\n",
       "    .dataframe tbody tr th:only-of-type {\n",
       "        vertical-align: middle;\n",
       "    }\n",
       "\n",
       "    .dataframe tbody tr th {\n",
       "        vertical-align: top;\n",
       "    }\n",
       "\n",
       "    .dataframe thead th {\n",
       "        text-align: right;\n",
       "    }\n",
       "</style>\n",
       "<table border=\"1\" class=\"dataframe\">\n",
       "  <thead>\n",
       "    <tr style=\"text-align: right;\">\n",
       "      <th></th>\n",
       "      <th>Unnamed: 0</th>\n",
       "      <th>id</th>\n",
       "      <th>subreddit</th>\n",
       "      <th>title</th>\n",
       "      <th>author</th>\n",
       "      <th>url</th>\n",
       "      <th>created</th>\n",
       "      <th>ext_link</th>\n",
       "      <th>id.1</th>\n",
       "      <th>body</th>\n",
       "      <th>...</th>\n",
       "      <th>title_EQ</th>\n",
       "      <th>body_EQ</th>\n",
       "      <th>hour</th>\n",
       "      <th>day</th>\n",
       "      <th>prime_time</th>\n",
       "      <th>weekend</th>\n",
       "      <th>month</th>\n",
       "      <th>feats_joined_w</th>\n",
       "      <th>join1</th>\n",
       "      <th>join2</th>\n",
       "    </tr>\n",
       "  </thead>\n",
       "  <tbody>\n",
       "    <tr>\n",
       "      <th>0</th>\n",
       "      <td>41437</td>\n",
       "      <td>mkga8b</td>\n",
       "      <td>Superstonks</td>\n",
       "      <td>The sub you are looking for is r/Superstonk</td>\n",
       "      <td>seppukkake</td>\n",
       "      <td>https://www.reddit.com/r/Superstonks/comments/...</td>\n",
       "      <td>1617613228</td>\n",
       "      <td>https://www.reddit.com/r/Superstonks/comments/...</td>\n",
       "      <td>mkga8b</td>\n",
       "      <td>r/Superstonk</td>\n",
       "      <td>...</td>\n",
       "      <td>0</td>\n",
       "      <td>0</td>\n",
       "      <td>9</td>\n",
       "      <td>0</td>\n",
       "      <td>1</td>\n",
       "      <td>0</td>\n",
       "      <td>4</td>\n",
       "      <td>zero zero eight one zero zero nine zero one ze...</td>\n",
       "      <td>superstonks r superstonk sub looking r superst...</td>\n",
       "      <td>superstonks r superstonk sub looking r superst...</td>\n",
       "    </tr>\n",
       "    <tr>\n",
       "      <th>1</th>\n",
       "      <td>41438</td>\n",
       "      <td>mkhpr9</td>\n",
       "      <td>Superstonks</td>\n",
       "      <td>https://www.reddit.com/r/Superstonk/</td>\n",
       "      <td>fairytalee20</td>\n",
       "      <td>https://www.reddit.com/r/Superstonks/comments/...</td>\n",
       "      <td>1617619355</td>\n",
       "      <td>https://www.reddit.com/r/Superstonks/comments/...</td>\n",
       "      <td>mkhpr9</td>\n",
       "      <td>no_text</td>\n",
       "      <td>...</td>\n",
       "      <td>0</td>\n",
       "      <td>0</td>\n",
       "      <td>10</td>\n",
       "      <td>0</td>\n",
       "      <td>1</td>\n",
       "      <td>0</td>\n",
       "      <td>4</td>\n",
       "      <td>three zero one one zero zero ten zero one zero...</td>\n",
       "      <td>superstonks no_text https www reddit com r sup...</td>\n",
       "      <td>superstonks no_text https www reddit com r sup...</td>\n",
       "    </tr>\n",
       "  </tbody>\n",
       "</table>\n",
       "<p>2 rows × 36 columns</p>\n",
       "</div>"
      ],
      "text/plain": [
       "   Unnamed: 0      id    subreddit  \\\n",
       "0       41437  mkga8b  Superstonks   \n",
       "1       41438  mkhpr9  Superstonks   \n",
       "\n",
       "                                         title        author  \\\n",
       "0  The sub you are looking for is r/Superstonk    seppukkake   \n",
       "1         https://www.reddit.com/r/Superstonk/  fairytalee20   \n",
       "\n",
       "                                                 url     created  \\\n",
       "0  https://www.reddit.com/r/Superstonks/comments/...  1617613228   \n",
       "1  https://www.reddit.com/r/Superstonks/comments/...  1617619355   \n",
       "\n",
       "                                            ext_link    id.1          body  \\\n",
       "0  https://www.reddit.com/r/Superstonks/comments/...  mkga8b  r/Superstonk   \n",
       "1  https://www.reddit.com/r/Superstonks/comments/...  mkhpr9       no_text   \n",
       "\n",
       "   ...  title_EQ  body_EQ hour day prime_time weekend month  \\\n",
       "0  ...         0        0    9   0          1       0     4   \n",
       "1  ...         0        0   10   0          1       0     4   \n",
       "\n",
       "                                      feats_joined_w  \\\n",
       "0  zero zero eight one zero zero nine zero one ze...   \n",
       "1  three zero one one zero zero ten zero one zero...   \n",
       "\n",
       "                                               join1  \\\n",
       "0  superstonks r superstonk sub looking r superst...   \n",
       "1  superstonks no_text https www reddit com r sup...   \n",
       "\n",
       "                                               join2  \n",
       "0  superstonks r superstonk sub looking r superst...  \n",
       "1  superstonks no_text https www reddit com r sup...  \n",
       "\n",
       "[2 rows x 36 columns]"
      ]
     },
     "execution_count": 18,
     "metadata": {},
     "output_type": "execute_result"
    }
   ],
   "source": [
    "df.head(2)"
   ]
  },
  {
   "cell_type": "code",
   "execution_count": 19,
   "id": "12e32e99",
   "metadata": {},
   "outputs": [
    {
     "data": {
      "text/html": [
       "<div>\n",
       "<style scoped>\n",
       "    .dataframe tbody tr th:only-of-type {\n",
       "        vertical-align: middle;\n",
       "    }\n",
       "\n",
       "    .dataframe tbody tr th {\n",
       "        vertical-align: top;\n",
       "    }\n",
       "\n",
       "    .dataframe thead th {\n",
       "        text-align: right;\n",
       "    }\n",
       "</style>\n",
       "<table border=\"1\" class=\"dataframe\">\n",
       "  <thead>\n",
       "    <tr style=\"text-align: right;\">\n",
       "      <th></th>\n",
       "      <th>Unnamed: 0</th>\n",
       "      <th>id</th>\n",
       "      <th>subreddit</th>\n",
       "      <th>title</th>\n",
       "      <th>author</th>\n",
       "      <th>url</th>\n",
       "      <th>created</th>\n",
       "      <th>ext_link</th>\n",
       "      <th>id.1</th>\n",
       "      <th>body</th>\n",
       "      <th>...</th>\n",
       "      <th>hour</th>\n",
       "      <th>day</th>\n",
       "      <th>prime_time</th>\n",
       "      <th>weekend</th>\n",
       "      <th>month</th>\n",
       "      <th>feats_joined_w</th>\n",
       "      <th>join1</th>\n",
       "      <th>join2</th>\n",
       "      <th>posting_time</th>\n",
       "      <th>posting_month</th>\n",
       "    </tr>\n",
       "  </thead>\n",
       "  <tbody>\n",
       "    <tr>\n",
       "      <th>0</th>\n",
       "      <td>41437</td>\n",
       "      <td>mkga8b</td>\n",
       "      <td>Superstonks</td>\n",
       "      <td>The sub you are looking for is r/Superstonk</td>\n",
       "      <td>seppukkake</td>\n",
       "      <td>https://www.reddit.com/r/Superstonks/comments/...</td>\n",
       "      <td>1617613228</td>\n",
       "      <td>https://www.reddit.com/r/Superstonks/comments/...</td>\n",
       "      <td>mkga8b</td>\n",
       "      <td>r/Superstonk</td>\n",
       "      <td>...</td>\n",
       "      <td>9</td>\n",
       "      <td>0</td>\n",
       "      <td>1</td>\n",
       "      <td>0</td>\n",
       "      <td>4</td>\n",
       "      <td>zero zero eight one zero zero nine zero one ze...</td>\n",
       "      <td>superstonks r superstonk sub looking r superst...</td>\n",
       "      <td>superstonks r superstonk sub looking r superst...</td>\n",
       "      <td>2021-04-05 05:00:28</td>\n",
       "      <td>4</td>\n",
       "    </tr>\n",
       "    <tr>\n",
       "      <th>1</th>\n",
       "      <td>41438</td>\n",
       "      <td>mkhpr9</td>\n",
       "      <td>Superstonks</td>\n",
       "      <td>https://www.reddit.com/r/Superstonk/</td>\n",
       "      <td>fairytalee20</td>\n",
       "      <td>https://www.reddit.com/r/Superstonks/comments/...</td>\n",
       "      <td>1617619355</td>\n",
       "      <td>https://www.reddit.com/r/Superstonks/comments/...</td>\n",
       "      <td>mkhpr9</td>\n",
       "      <td>no_text</td>\n",
       "      <td>...</td>\n",
       "      <td>10</td>\n",
       "      <td>0</td>\n",
       "      <td>1</td>\n",
       "      <td>0</td>\n",
       "      <td>4</td>\n",
       "      <td>three zero one one zero zero ten zero one zero...</td>\n",
       "      <td>superstonks no_text https www reddit com r sup...</td>\n",
       "      <td>superstonks no_text https www reddit com r sup...</td>\n",
       "      <td>2021-04-05 06:42:35</td>\n",
       "      <td>4</td>\n",
       "    </tr>\n",
       "  </tbody>\n",
       "</table>\n",
       "<p>2 rows × 38 columns</p>\n",
       "</div>"
      ],
      "text/plain": [
       "   Unnamed: 0      id    subreddit  \\\n",
       "0       41437  mkga8b  Superstonks   \n",
       "1       41438  mkhpr9  Superstonks   \n",
       "\n",
       "                                         title        author  \\\n",
       "0  The sub you are looking for is r/Superstonk    seppukkake   \n",
       "1         https://www.reddit.com/r/Superstonk/  fairytalee20   \n",
       "\n",
       "                                                 url     created  \\\n",
       "0  https://www.reddit.com/r/Superstonks/comments/...  1617613228   \n",
       "1  https://www.reddit.com/r/Superstonks/comments/...  1617619355   \n",
       "\n",
       "                                            ext_link    id.1          body  \\\n",
       "0  https://www.reddit.com/r/Superstonks/comments/...  mkga8b  r/Superstonk   \n",
       "1  https://www.reddit.com/r/Superstonks/comments/...  mkhpr9       no_text   \n",
       "\n",
       "   ...  hour  day prime_time weekend month  \\\n",
       "0  ...     9    0          1       0     4   \n",
       "1  ...    10    0          1       0     4   \n",
       "\n",
       "                                      feats_joined_w  \\\n",
       "0  zero zero eight one zero zero nine zero one ze...   \n",
       "1  three zero one one zero zero ten zero one zero...   \n",
       "\n",
       "                                               join1  \\\n",
       "0  superstonks r superstonk sub looking r superst...   \n",
       "1  superstonks no_text https www reddit com r sup...   \n",
       "\n",
       "                                               join2        posting_time  \\\n",
       "0  superstonks r superstonk sub looking r superst... 2021-04-05 05:00:28   \n",
       "1  superstonks no_text https www reddit com r sup... 2021-04-05 06:42:35   \n",
       "\n",
       "  posting_month  \n",
       "0             4  \n",
       "1             4  \n",
       "\n",
       "[2 rows x 38 columns]"
      ]
     },
     "execution_count": 19,
     "metadata": {},
     "output_type": "execute_result"
    }
   ],
   "source": [
    "df['posting_time'] = df['created'].apply(datetime.datetime.fromtimestamp)\n",
    "df['posting_month'] = df['posting_time'].apply(lambda dd: dd.month)\n",
    "df.head(2)"
   ]
  },
  {
   "cell_type": "code",
   "execution_count": 21,
   "id": "d9609c7b",
   "metadata": {},
   "outputs": [
    {
     "data": {
      "text/html": [
       "<div>\n",
       "<style scoped>\n",
       "    .dataframe tbody tr th:only-of-type {\n",
       "        vertical-align: middle;\n",
       "    }\n",
       "\n",
       "    .dataframe tbody tr th {\n",
       "        vertical-align: top;\n",
       "    }\n",
       "\n",
       "    .dataframe thead th {\n",
       "        text-align: right;\n",
       "    }\n",
       "</style>\n",
       "<table border=\"1\" class=\"dataframe\">\n",
       "  <thead>\n",
       "    <tr style=\"text-align: right;\">\n",
       "      <th></th>\n",
       "      <th>posting_month</th>\n",
       "      <th>join1</th>\n",
       "      <th>join2</th>\n",
       "      <th>popular</th>\n",
       "    </tr>\n",
       "  </thead>\n",
       "  <tbody>\n",
       "    <tr>\n",
       "      <th>0</th>\n",
       "      <td>4</td>\n",
       "      <td>superstonks r superstonk sub looking r superst...</td>\n",
       "      <td>superstonks r superstonk sub looking r superst...</td>\n",
       "      <td>1</td>\n",
       "    </tr>\n",
       "    <tr>\n",
       "      <th>1</th>\n",
       "      <td>4</td>\n",
       "      <td>superstonks no_text https www reddit com r sup...</td>\n",
       "      <td>superstonks no_text https www reddit com r sup...</td>\n",
       "      <td>0</td>\n",
       "    </tr>\n",
       "  </tbody>\n",
       "</table>\n",
       "</div>"
      ],
      "text/plain": [
       "   posting_month                                              join1  \\\n",
       "0              4  superstonks r superstonk sub looking r superst...   \n",
       "1              4  superstonks no_text https www reddit com r sup...   \n",
       "\n",
       "                                               join2  popular  \n",
       "0  superstonks r superstonk sub looking r superst...        1  \n",
       "1  superstonks no_text https www reddit com r sup...        0  "
      ]
     },
     "execution_count": 21,
     "metadata": {},
     "output_type": "execute_result"
    }
   ],
   "source": [
    "df = df[[\"posting_month\", \"join1\", \"join2\", \"popular\"]]\n",
    "df.head(2)"
   ]
  },
  {
   "cell_type": "code",
   "execution_count": 22,
   "id": "44f9ede7",
   "metadata": {},
   "outputs": [],
   "source": [
    "df_train = df[df['posting_month']<4]\n",
    "df_test  = df[df['posting_month']==4]"
   ]
  },
  {
   "cell_type": "code",
   "execution_count": 23,
   "id": "eb28743b",
   "metadata": {},
   "outputs": [
    {
     "name": "stdout",
     "output_type": "stream",
     "text": [
      "Training Shape: 99226,  Test shape: 27072\n"
     ]
    }
   ],
   "source": [
    "print (f\"Training Shape: {df_train.shape[0]},  Test shape: {df_test.shape[0]}\")"
   ]
  },
  {
   "cell_type": "code",
   "execution_count": 24,
   "id": "db904f84",
   "metadata": {},
   "outputs": [
    {
     "data": {
      "text/html": [
       "<div>\n",
       "<style scoped>\n",
       "    .dataframe tbody tr th:only-of-type {\n",
       "        vertical-align: middle;\n",
       "    }\n",
       "\n",
       "    .dataframe tbody tr th {\n",
       "        vertical-align: top;\n",
       "    }\n",
       "\n",
       "    .dataframe thead th {\n",
       "        text-align: right;\n",
       "    }\n",
       "</style>\n",
       "<table border=\"1\" class=\"dataframe\">\n",
       "  <thead>\n",
       "    <tr style=\"text-align: right;\">\n",
       "      <th></th>\n",
       "      <th>posting_month</th>\n",
       "      <th>join1</th>\n",
       "      <th>join2</th>\n",
       "      <th>popular</th>\n",
       "    </tr>\n",
       "  </thead>\n",
       "  <tbody>\n",
       "    <tr>\n",
       "      <th>120</th>\n",
       "      <td>1</td>\n",
       "      <td>finance no_text mogo establishes atm equity pr...</td>\n",
       "      <td>finance no_text mogo establishes atm equity pr...</td>\n",
       "      <td>0</td>\n",
       "    </tr>\n",
       "    <tr>\n",
       "      <th>121</th>\n",
       "      <td>1</td>\n",
       "      <td>finance no_text standard capital partners soli...</td>\n",
       "      <td>finance no_text standard capital partners soli...</td>\n",
       "      <td>0</td>\n",
       "    </tr>\n",
       "  </tbody>\n",
       "</table>\n",
       "</div>"
      ],
      "text/plain": [
       "     posting_month                                              join1  \\\n",
       "120              1  finance no_text mogo establishes atm equity pr...   \n",
       "121              1  finance no_text standard capital partners soli...   \n",
       "\n",
       "                                                 join2  popular  \n",
       "120  finance no_text mogo establishes atm equity pr...        0  \n",
       "121  finance no_text standard capital partners soli...        0  "
      ]
     },
     "execution_count": 24,
     "metadata": {},
     "output_type": "execute_result"
    }
   ],
   "source": [
    "df_train.head(2)"
   ]
  },
  {
   "cell_type": "code",
   "execution_count": 25,
   "id": "7d34aa50",
   "metadata": {},
   "outputs": [],
   "source": [
    "def check_distribution(df, ycol='popular'):\n",
    "    labels = df.groupby(ycol).count().iloc[:2,0].values\n",
    "    print (labels, np.round(100*labels/sum(labels), 2))"
   ]
  },
  {
   "cell_type": "code",
   "execution_count": 26,
   "id": "49f1e382",
   "metadata": {},
   "outputs": [
    {
     "name": "stdout",
     "output_type": "stream",
     "text": [
      "[126282   6640] [95.  5.]\n"
     ]
    }
   ],
   "source": [
    "check_distribution(df)"
   ]
  },
  {
   "cell_type": "code",
   "execution_count": 27,
   "id": "7fff35b3",
   "metadata": {},
   "outputs": [
    {
     "name": "stdout",
     "output_type": "stream",
     "text": [
      "[94780  4446] [95.52  4.48]\n"
     ]
    }
   ],
   "source": [
    "check_distribution(df_train)"
   ]
  },
  {
   "cell_type": "code",
   "execution_count": 28,
   "id": "468c1315",
   "metadata": {},
   "outputs": [
    {
     "name": "stdout",
     "output_type": "stream",
     "text": [
      "[25230  1842] [93.2  6.8]\n"
     ]
    }
   ],
   "source": [
    "check_distribution(df_test)"
   ]
  },
  {
   "cell_type": "code",
   "execution_count": null,
   "id": "d9064d99",
   "metadata": {},
   "outputs": [],
   "source": []
  },
  {
   "cell_type": "markdown",
   "id": "72884319",
   "metadata": {},
   "source": [
    "## Convert text to vector"
   ]
  },
  {
   "cell_type": "code",
   "execution_count": 29,
   "id": "a4fc40e6",
   "metadata": {},
   "outputs": [],
   "source": [
    "xcol = 'join2'\n",
    "ycol = 'popular'"
   ]
  },
  {
   "cell_type": "code",
   "execution_count": 30,
   "id": "3121162a",
   "metadata": {},
   "outputs": [],
   "source": [
    "MAX_WORDS   = 1000\n",
    "tokenizer = Tokenizer(num_words=MAX_WORDS)\n",
    "tokenizer.fit_on_texts(df_train[xcol])\n",
    "X_train = tokenizer.texts_to_matrix(df_train[xcol])\n",
    "X_test  = tokenizer.texts_to_matrix(df_test[xcol])"
   ]
  },
  {
   "cell_type": "code",
   "execution_count": 31,
   "id": "0849e157",
   "metadata": {},
   "outputs": [],
   "source": [
    "y_train = df_train[ycol]\n",
    "y_test  = df_test[ycol]"
   ]
  },
  {
   "cell_type": "code",
   "execution_count": 32,
   "id": "16cc3901",
   "metadata": {},
   "outputs": [
    {
     "data": {
      "text/plain": [
       "99226"
      ]
     },
     "execution_count": 32,
     "metadata": {},
     "output_type": "execute_result"
    }
   ],
   "source": [
    "y_train.shape[0]"
   ]
  },
  {
   "cell_type": "code",
   "execution_count": 34,
   "id": "d1c9c218",
   "metadata": {},
   "outputs": [],
   "source": [
    "nr = lambda x: np.round(100*x, 2)"
   ]
  },
  {
   "cell_type": "code",
   "execution_count": 35,
   "id": "70569897",
   "metadata": {},
   "outputs": [
    {
     "name": "stdout",
     "output_type": "stream",
     "text": [
      "Original Fraction: 4.48\n",
      "Fraction Train: 4.04%, Validation, 8.42%\n"
     ]
    }
   ],
   "source": [
    "def get_train_val(X_train, y_train, fraction=0.9):\n",
    "    indx = int(fraction*y_train.shape[0])\n",
    "    tt = y_train[:indx ]\n",
    "    tv = y_train[indx: ]\n",
    "    print ( \"Original Fraction:\", nr(y_train.sum()/(len(y_train)+0.0)))\n",
    "    print ( f\"Fraction Train: {nr(tt.sum()/(len(tt)+0.0))}%, Validation, {nr(tv.sum()/(len(tv)+0.0))}%\")\n",
    "    \n",
    "    return (X_train[:indx], y_train[:indx], X_train[indx:], y_train[indx:] )\n",
    "\n",
    "X_train_, y_train_, X_val, y_val = get_train_val(X_train, y_train)"
   ]
  },
  {
   "cell_type": "markdown",
   "id": "135f6b2f",
   "metadata": {},
   "source": [
    "## Dense Layer"
   ]
  },
  {
   "cell_type": "code",
   "execution_count": 36,
   "id": "68c2a012",
   "metadata": {},
   "outputs": [],
   "source": [
    "def recall_m(y_true, y_pred):\n",
    "    true_positives = K.sum(K.round(K.clip(y_true * y_pred, 0, 1)))\n",
    "    possible_positives = K.sum(K.round(K.clip(y_true, 0, 1)))\n",
    "    recall = true_positives / (possible_positives + K.epsilon())\n",
    "    return recall\n",
    "\n",
    "def precision_m(y_true, y_pred):\n",
    "    true_positives = K.sum(K.round(K.clip(y_true * y_pred, 0, 1)))\n",
    "    predicted_positives = K.sum(K.round(K.clip(y_pred, 0, 1)))\n",
    "    precision = true_positives / (predicted_positives + K.epsilon())\n",
    "    return precision\n",
    "\n",
    "def f1_m(y_true, y_pred):\n",
    "    precision = precision_m(y_true, y_pred)\n",
    "    recall = recall_m(y_true, y_pred)\n",
    "    return 2*((precision*recall)/(precision+recall+K.epsilon()))"
   ]
  },
  {
   "cell_type": "code",
   "execution_count": 68,
   "id": "ac5b1ee4",
   "metadata": {},
   "outputs": [],
   "source": [
    "def make_model(X):\n",
    "    model = Sequential()\n",
    "    model.add(Dense(16, input_shape=(X.shape[1],), activation='relu'))\n",
    "    model.add(Dropout(0.2))\n",
    "    model.add(Dense(1, activation='sigmoid'))\n",
    "    model.compile(loss='binary_crossentropy',\n",
    "                  optimizer='adam',\n",
    "                  metrics = [precision_m, recall_m])\n",
    "    return model"
   ]
  },
  {
   "cell_type": "code",
   "execution_count": 121,
   "id": "a2eac123",
   "metadata": {},
   "outputs": [],
   "source": [
    "# Time series data without validation"
   ]
  },
  {
   "cell_type": "code",
   "execution_count": 38,
   "id": "c37f0f4e",
   "metadata": {},
   "outputs": [
    {
     "name": "stdout",
     "output_type": "stream",
     "text": [
      "Model: \"sequential\"\n",
      "_________________________________________________________________\n",
      "Layer (type)                 Output Shape              Param #   \n",
      "=================================================================\n",
      "dense (Dense)                (None, 32)                32032     \n",
      "_________________________________________________________________\n",
      "dropout (Dropout)            (None, 32)                0         \n",
      "_________________________________________________________________\n",
      "dense_1 (Dense)              (None, 1)                 33        \n",
      "=================================================================\n",
      "Total params: 32,065\n",
      "Trainable params: 32,065\n",
      "Non-trainable params: 0\n",
      "_________________________________________________________________\n"
     ]
    },
    {
     "data": {
      "text/plain": [
       "None"
      ]
     },
     "metadata": {},
     "output_type": "display_data"
    },
    {
     "name": "stdout",
     "output_type": "stream",
     "text": [
      "Epoch 1/20\n",
      "776/776 [==============================] - 2s 2ms/step - loss: 0.1876 - precision_m: 4.2955e-04 - recall_m: 2.5773e-04: 0s - loss: 0.1912 - precision_m: 5.5463e-04 - recall_m\n",
      "Epoch 2/20\n",
      "776/776 [==============================] - 1s 2ms/step - loss: 0.1659 - precision_m: 0.0200 - recall_m: 0.0036\n",
      "Epoch 3/20\n",
      "776/776 [==============================] - 1s 2ms/step - loss: 0.1610 - precision_m: 0.1267 - recall_m: 0.0254: 0s - loss: 0.1581 - precision_m: 0.120\n",
      "Epoch 4/20\n",
      "776/776 [==============================] - 1s 1ms/step - loss: 0.1566 - precision_m: 0.2433 - recall_m: 0.0542\n",
      "Epoch 5/20\n",
      "776/776 [==============================] - 1s 1ms/step - loss: 0.1511 - precision_m: 0.3120 - recall_m: 0.0704\n",
      "Epoch 6/20\n",
      "776/776 [==============================] - 1s 1ms/step - loss: 0.1461 - precision_m: 0.4355 - recall_m: 0.1032\n",
      "Epoch 7/20\n",
      "776/776 [==============================] - 1s 2ms/step - loss: 0.1422 - precision_m: 0.4844 - recall_m: 0.1220: 0s - loss: 0.1444 - \n",
      "Epoch 8/20\n",
      "776/776 [==============================] - 1s 2ms/step - loss: 0.1367 - precision_m: 0.5469 - recall_m: 0.1499\n",
      "Epoch 9/20\n",
      "776/776 [==============================] - 1s 2ms/step - loss: 0.1334 - precision_m: 0.5859 - recall_m: 0.1729\n",
      "Epoch 10/20\n",
      "776/776 [==============================] - 1s 1ms/step - loss: 0.1293 - precision_m: 0.6142 - recall_m: 0.1807\n",
      "Epoch 11/20\n",
      "776/776 [==============================] - 2s 3ms/step - loss: 0.1261 - precision_m: 0.6521 - recall_m: 0.2079\n",
      "Epoch 12/20\n",
      "776/776 [==============================] - 2s 3ms/step - loss: 0.1231 - precision_m: 0.6871 - recall_m: 0.2287\n",
      "Epoch 13/20\n",
      "776/776 [==============================] - 2s 3ms/step - loss: 0.1207 - precision_m: 0.6989 - recall_m: 0.2418: 0s - loss: 0.1200 - precision_\n",
      "Epoch 14/20\n",
      "776/776 [==============================] - 2s 3ms/step - loss: 0.1175 - precision_m: 0.7307 - recall_m: 0.2584\n",
      "Epoch 15/20\n",
      "776/776 [==============================] - 1s 2ms/step - loss: 0.1146 - precision_m: 0.7355 - recall_m: 0.2695: 0s - loss: 0.1132 - precision_m: 0.7208 - re - ETA: 0s - loss: 0.1144 - precision_m: 0.7394 \n",
      "Epoch 16/20\n",
      "776/776 [==============================] - 1s 1ms/step - loss: 0.1121 - precision_m: 0.7659 - recall_m: 0.2869\n",
      "Epoch 17/20\n",
      "776/776 [==============================] - 2s 2ms/step - loss: 0.1111 - precision_m: 0.7574 - recall_m: 0.2914: 0s - loss: 0.1086 - precision_m: 0.7706 - \n",
      "Epoch 18/20\n",
      "776/776 [==============================] - 1s 1ms/step - loss: 0.1079 - precision_m: 0.7709 - recall_m: 0.3076: 0s - loss: 0.1051 - precision_m: 0.8042 - recall_m:  - ETA: 0s - loss: 0.1064 - precision_m: 0.798\n",
      "Epoch 19/20\n",
      "776/776 [==============================] - 1s 1ms/step - loss: 0.1071 - precision_m: 0.7785 - recall_m: 0.3151: 0s - loss: 0.1035 - precision_m: 0.7990 - recall_m: 0. - ETA: 0s - loss: 0.1035 - precision_m: 0.7973  - ETA: 0s - loss: 0.1072 - precision_m: 0.7790 - recall_m: 0.31\n",
      "Epoch 20/20\n",
      "776/776 [==============================] - 2s 2ms/step - loss: 0.1048 - precision_m: 0.7796 - recall_m: 0.3200\n"
     ]
    }
   ],
   "source": [
    "model1 = make_model(X_train)\n",
    "display ( model1.summary() )\n",
    "history1 = model1.fit(X_train, y_train,\n",
    "                      batch_size=128,\n",
    "                      epochs=20,\n",
    "                      verbose=1)"
   ]
  },
  {
   "cell_type": "code",
   "execution_count": 40,
   "id": "5c616e61",
   "metadata": {},
   "outputs": [],
   "source": [
    "proba = model1.predict_proba(X_train)"
   ]
  },
  {
   "cell_type": "code",
   "execution_count": 47,
   "id": "50e5e27e",
   "metadata": {},
   "outputs": [
    {
     "data": {
      "text/plain": [
       "0.970451293007881"
      ]
     },
     "execution_count": 47,
     "metadata": {},
     "output_type": "execute_result"
    }
   ],
   "source": [
    "th = .5\n",
    "pred = (proba.flatten()>th).astype(int)\n",
    "np.sum(pred==y_train)/len(y_train)"
   ]
  },
  {
   "cell_type": "code",
   "execution_count": null,
   "id": "8e068b88",
   "metadata": {},
   "outputs": [],
   "source": []
  },
  {
   "cell_type": "code",
   "execution_count": 58,
   "id": "22311686",
   "metadata": {},
   "outputs": [],
   "source": [
    "def plot_precision_recall(model, X, y, ax=None, lab=\"Data\"):\n",
    "    if ax is None:\n",
    "        fig, ax = plt.subplots(1,1, figsize=(6,5))\n",
    "    pr, re, th = precision_recall_curve(y, model1.predict_proba(X)[:,1] )\n",
    "    ax.plot(re, pr, label=lab)    \n",
    "    \n",
    "def save_pr_data(model, X, y, save_name):\n",
    "    \n",
    "    proba = model.predict_proba(X)\n",
    "    pr = []; re = []\n",
    "    cutoffs = np.linspace(0.05, 0.99, 100)\n",
    "    for c in cutoffs:\n",
    "        preds_c = (proba.flatten()>=c).astype('int')\n",
    "        pr_ = precision_score(y, preds_c)\n",
    "        re_ = recall_score(y, preds_c)\n",
    "        pr.append( pr_ )\n",
    "        re.append( re_ )\n",
    "        \n",
    "    pr_re = np.stack([pr, re], axis=1)\n",
    "    np.savetxt(save_name, pr_re)\n",
    "    print (\"saved pr-re data.\")\n",
    "    \n",
    "def precision_recall_curve(model, X, y, ax=None, lab=\"Data\"):\n",
    "    proba = model.predict_proba(X)\n",
    "    pr = []; re = []\n",
    "    cutoffs = np.linspace(0.05, 0.99, 100)\n",
    "    for c in cutoffs:\n",
    "        preds_c = (proba.flatten()>=c).astype('int')\n",
    "        pr_ = precision_score(y, preds_c)\n",
    "        re_ = recall_score(y, preds_c)\n",
    "        pr.append( pr_ )\n",
    "        re.append( re_ )\n",
    "    if ax is None:\n",
    "        fig, ax = plt.subplots(1,1, figsize=(6,4))\n",
    "    ax.plot(re, pr, '-o', label=lab)\n",
    "    ax.set_xlabel(\"Recall\", fontsize=16)\n",
    "    ax.set_ylabel(\"Precision\", fontsize=16)\n",
    "    ax.legend(fontsize=16)"
   ]
  },
  {
   "cell_type": "code",
   "execution_count": 55,
   "id": "ee78f795",
   "metadata": {},
   "outputs": [
    {
     "data": {
      "image/png": "[encoded data removed]",
      "text/plain": [
       "<Figure size 432x288 with 1 Axes>"
      ]
     },
     "metadata": {
      "needs_background": "light"
     },
     "output_type": "display_data"
    }
   ],
   "source": [
    "fig, ax = plt.subplots(1,1, figsize=(6,4))\n",
    "precision_recall_curve(model1, X_train, y_train, ax=ax, lab=\"Training Data: Dense NN\")\n",
    "precision_recall_curve(model1, X_test, y_test, ax=ax, lab=\"Test Data: Dense NN\")"
   ]
  },
  {
   "cell_type": "code",
   "execution_count": 61,
   "id": "2a6c01fd",
   "metadata": {},
   "outputs": [
    {
     "name": "stdout",
     "output_type": "stream",
     "text": [
      "saved pr-re data.\n"
     ]
    }
   ],
   "source": []
  },
  {
   "cell_type": "code",
   "execution_count": 62,
   "id": "d693d9f3",
   "metadata": {},
   "outputs": [
    {
     "name": "stdout",
     "output_type": "stream",
     "text": [
      "saved pr-re data.\n"
     ]
    }
   ],
   "source": [
    "save_pr_data(model1, X_train, y_train, \"pr_re_train_DNN.dat\")\n",
    "save_pr_data(model1, X_test, y_test, \"pr_re_test_DNN.dat\")"
   ]
  },
  {
   "cell_type": "code",
   "execution_count": 63,
   "id": "7412c431",
   "metadata": {},
   "outputs": [],
   "source": [
    "pr_LR_train = np.loadtxt('pr_re_train.dat')\n",
    "pr_LR_test = np.loadtxt('pr_re_test.dat')\n",
    "pr_DN_train = np.loadtxt('pr_re_train_DNN.dat')\n",
    "pr_DN_test = np.loadtxt('pr_re_test_DNN.dat')"
   ]
  },
  {
   "cell_type": "code",
   "execution_count": 67,
   "id": "e23aad9d",
   "metadata": {},
   "outputs": [
    {
     "data": {
      "text/plain": [
       "<matplotlib.legend.Legend at 0x1539422e0>"
      ]
     },
     "execution_count": 67,
     "metadata": {},
     "output_type": "execute_result"
    },
    {
     "data": {
      "image/png": "[encoded data removed]",
      "text/plain": [
       "<Figure size 432x288 with 1 Axes>"
      ]
     },
     "metadata": {
      "needs_background": "light"
     },
     "output_type": "display_data"
    }
   ],
   "source": [
    "fig, ax = plt.subplots(1,1, figsize=(6,4))\n",
    "\n",
    "ax.plot(pr_LR_train[:,1], pr_LR_train[:,0], label=\"LR Train\")\n",
    "ax.plot(pr_LR_test[:,1], pr_LR_test[:,0], label=\"LR Test\")\n",
    "ax.plot(pr_DN_train[:,1], pr_DN_train[:,0], label=\"DNN Train\")\n",
    "ax.plot(pr_DN_test[:,1], pr_DN_test[:,0], label=\"DNN Test\")\n",
    "ax.legend()"
   ]
  },
  {
   "cell_type": "code",
   "execution_count": 124,
   "id": "d79ded5a",
   "metadata": {},
   "outputs": [
    {
     "data": {
      "image/png": "[encoded data removed]",
      "text/plain": [
       "<Figure size 864x288 with 3 Axes>"
      ]
     },
     "metadata": {
      "needs_background": "light"
     },
     "output_type": "display_data"
    }
   ],
   "source": [
    "plt.figure(figsize=(12,4))\n",
    "plt.subplot(131)\n",
    "plt.plot(history1.history['loss'], label='Training loss')\n",
    "plt.legend(); plt.grid()\n",
    "plt.subplot(132)\n",
    "plt.plot(history1.history['precision_m'], label='Training Precision')\n",
    "plt.legend(); plt.grid()\n",
    "plt.subplot(133)\n",
    "plt.plot(history1.history['recall_m'], label='Training Recall')\n",
    "plt.legend(); plt.grid()"
   ]
  },
  {
   "cell_type": "code",
   "execution_count": 127,
   "id": "84bafaf0",
   "metadata": {},
   "outputs": [],
   "source": [
    "nr = lambda x: np.round(100*x, 2)"
   ]
  },
  {
   "cell_type": "code",
   "execution_count": 129,
   "id": "ac9ff949",
   "metadata": {},
   "outputs": [
    {
     "name": "stdout",
     "output_type": "stream",
     "text": [
      "Loss: 28.14%, Precision: 5.08%, Recall:1.86%\n"
     ]
    }
   ],
   "source": [
    "loss, pr, re = model1.evaluate(X_test, y_test, verbose=0)\n",
    "print (f\"Loss: {nr(loss)}%, Precision: {nr(pr)}%, Recall:{nr(re)}%\")"
   ]
  },
  {
   "cell_type": "code",
   "execution_count": 69,
   "id": "f587cac9",
   "metadata": {},
   "outputs": [
    {
     "name": "stdout",
     "output_type": "stream",
     "text": [
      "Model: \"sequential_1\"\n",
      "_________________________________________________________________\n",
      "Layer (type)                 Output Shape              Param #   \n",
      "=================================================================\n",
      "dense_2 (Dense)              (None, 16)                16016     \n",
      "_________________________________________________________________\n",
      "dropout_1 (Dropout)          (None, 16)                0         \n",
      "_________________________________________________________________\n",
      "dense_3 (Dense)              (None, 1)                 17        \n",
      "=================================================================\n",
      "Total params: 16,033\n",
      "Trainable params: 16,033\n",
      "Non-trainable params: 0\n",
      "_________________________________________________________________\n"
     ]
    },
    {
     "data": {
      "text/plain": [
       "None"
      ]
     },
     "metadata": {},
     "output_type": "display_data"
    }
   ],
   "source": [
    "model2 = make_model(X_train_)\n",
    "display ( model2.summary() )\n",
    "history2 = model2.fit(X_train_, y_train_,\n",
    "                      validation_data=(X_val, y_val),\n",
    "                      batch_size=128,\n",
    "                      epochs=20,\n",
    "                      verbose=0)\n"
   ]
  },
  {
   "cell_type": "code",
   "execution_count": 70,
   "id": "85eca16b",
   "metadata": {},
   "outputs": [
    {
     "name": "stdout",
     "output_type": "stream",
     "text": [
      "saved pr-re data.\n",
      "saved pr-re data.\n"
     ]
    }
   ],
   "source": [
    "save_pr_data(model2, X_train, y_train, \"pr_re_train_DNN_2.dat\")\n",
    "save_pr_data(model2, X_test, y_test, \"pr_re_test_DNN_2.dat\")"
   ]
  },
  {
   "cell_type": "code",
   "execution_count": 71,
   "id": "17f95f82",
   "metadata": {},
   "outputs": [],
   "source": [
    "pr_DN_train2 = np.loadtxt('pr_re_train_DNN_2.dat')\n",
    "pr_DN_test2  = np.loadtxt('pr_re_test_DNN_2.dat')"
   ]
  },
  {
   "cell_type": "code",
   "execution_count": 72,
   "id": "6869a84f",
   "metadata": {},
   "outputs": [
    {
     "data": {
      "text/plain": [
       "<matplotlib.legend.Legend at 0x154300e50>"
      ]
     },
     "execution_count": 72,
     "metadata": {},
     "output_type": "execute_result"
    },
    {
     "data": {
      "image/png": "[encoded data removed]",
      "text/plain": [
       "<Figure size 432x288 with 1 Axes>"
      ]
     },
     "metadata": {
      "needs_background": "light"
     },
     "output_type": "display_data"
    }
   ],
   "source": [
    "fig, ax = plt.subplots(1,1, figsize=(6,4))\n",
    "\n",
    "ax.plot(pr_LR_train[:,1], pr_LR_train[:,0], label=\"LR Train\")\n",
    "ax.plot(pr_LR_test[:,1], pr_LR_test[:,0], label=\"LR Test\")\n",
    "ax.plot(pr_DN_train[:,1], pr_DN_train[:,0], label=\"DNN Train\")\n",
    "ax.plot(pr_DN_test[:,1], pr_DN_test[:,0], label=\"DNN Test\")\n",
    "\n",
    "ax.plot(pr_DN_train2[:,1], pr_DN_train2[:,0], label=\"DNN Train2\")\n",
    "ax.plot(pr_DN_test2[:,1], pr_DN_test2[:,0], label=\"DNN Test2\")\n",
    "\n",
    "ax.legend()"
   ]
  },
  {
   "cell_type": "code",
   "execution_count": null,
   "id": "b7fc35ca",
   "metadata": {},
   "outputs": [],
   "source": []
  },
  {
   "cell_type": "code",
   "execution_count": null,
   "id": "ea09ae8b",
   "metadata": {},
   "outputs": [],
   "source": []
  },
  {
   "cell_type": "code",
   "execution_count": 73,
   "id": "0927af94",
   "metadata": {},
   "outputs": [
    {
     "data": {
      "image/png": "[encoded data removed]",
      "text/plain": [
       "<Figure size 864x288 with 3 Axes>"
      ]
     },
     "metadata": {
      "needs_background": "light"
     },
     "output_type": "display_data"
    }
   ],
   "source": [
    "plt.figure(figsize=(12,4))\n",
    "plt.subplot(131)\n",
    "plt.plot(history2.history['loss'], label='Training loss')\n",
    "plt.plot(history2.history['val_loss'], label='Val loss')\n",
    "\n",
    "plt.legend(); plt.grid()\n",
    "plt.subplot(132)\n",
    "plt.plot(history2.history['precision_m'], label='Training Precision')\n",
    "plt.plot(history2.history['val_precision_m'], label='Val Precision')\n",
    "plt.legend(); plt.grid()\n",
    "plt.subplot(133)\n",
    "plt.plot(history2.history['recall_m'], label='Training Recall')\n",
    "plt.plot(history2.history['val_recall_m'], label='Val Recall')\n",
    "plt.legend(); plt.grid()"
   ]
  },
  {
   "cell_type": "code",
   "execution_count": null,
   "id": "46b1b6b8",
   "metadata": {},
   "outputs": [],
   "source": []
  },
  {
   "cell_type": "code",
   "execution_count": null,
   "id": "c5109132",
   "metadata": {},
   "outputs": [],
   "source": []
  },
  {
   "cell_type": "code",
   "execution_count": null,
   "id": "1e2400a8",
   "metadata": {},
   "outputs": [],
   "source": []
  },
  {
   "cell_type": "code",
   "execution_count": null,
   "id": "b9466793",
   "metadata": {},
   "outputs": [],
   "source": []
  },
  {
   "cell_type": "code",
   "execution_count": null,
   "id": "f16e4ab0",
   "metadata": {},
   "outputs": [],
   "source": [
    "th = 0.5\n",
    "pred = (model1.predict(X_test) > th).ravel().astype('int')\n",
    "pred[:10]"
   ]
  },
  {
   "cell_type": "code",
   "execution_count": null,
   "id": "14c96cf9",
   "metadata": {},
   "outputs": [],
   "source": [
    "ac = accuracy_score(y_test, pred)\n",
    "pr = precision_score(y_test, pred)\n",
    "re = recall_score(y_test, pred)\n",
    "print (ac, pr, re)"
   ]
  },
  {
   "cell_type": "code",
   "execution_count": 79,
   "id": "0a88629b",
   "metadata": {},
   "outputs": [],
   "source": [
    "import tensorflow as tf\n",
    "#tf.keras.layers.Embedding(1000, 64, input_length=10))"
   ]
  },
  {
   "cell_type": "markdown",
   "id": "679f8e66",
   "metadata": {},
   "source": [
    "## LSTM Layers"
   ]
  },
  {
   "cell_type": "code",
   "execution_count": 90,
   "id": "1eb86029",
   "metadata": {},
   "outputs": [],
   "source": [
    "def make_model2(X, embedding_length = 16):\n",
    "    model = Sequential()\n",
    "    model.add(tf.keras.layers.Embedding(MAX_WORDS, embedding_length, input_length=X.shape[1]))\n",
    "    model.add(LSTM(16, activation='relu'))\n",
    "    model.add(Dropout(0.2))\n",
    "    #model.add(BatchNormalization())\n",
    "    #model.add(Flatten())\n",
    "    #model.add(Dense(32, input_shape=(X.shape[1],), activation='relu'))\n",
    "    #model.add(Dropout(0.2))\n",
    "    model.add(Dense(1, activation='sigmoid'))\n",
    "    model.compile(loss='binary_crossentropy',\n",
    "                  optimizer='adam',\n",
    "                  metrics = [precision_m, recall_m])\n",
    "    return model"
   ]
  },
  {
   "cell_type": "code",
   "execution_count": 91,
   "id": "bed87085",
   "metadata": {},
   "outputs": [
    {
     "name": "stdout",
     "output_type": "stream",
     "text": [
      "Model: \"sequential_6\"\n",
      "_________________________________________________________________\n",
      "Layer (type)                 Output Shape              Param #   \n",
      "=================================================================\n",
      "embedding_2 (Embedding)      (None, 1000, 16)          16000     \n",
      "_________________________________________________________________\n",
      "lstm_2 (LSTM)                (None, 16)                2112      \n",
      "_________________________________________________________________\n",
      "dropout_6 (Dropout)          (None, 16)                0         \n",
      "_________________________________________________________________\n",
      "dense_9 (Dense)              (None, 1)                 17        \n",
      "=================================================================\n",
      "Total params: 18,129\n",
      "Trainable params: 18,129\n",
      "Non-trainable params: 0\n",
      "_________________________________________________________________\n"
     ]
    },
    {
     "data": {
      "text/plain": [
       "None"
      ]
     },
     "metadata": {},
     "output_type": "display_data"
    }
   ],
   "source": [
    "model3 = make_model2(X_train_)\n",
    "display( model3.summary() )"
   ]
  },
  {
   "cell_type": "code",
   "execution_count": 92,
   "id": "c9f1add5",
   "metadata": {},
   "outputs": [
    {
     "name": "stdout",
     "output_type": "stream",
     "text": [
      "Epoch 1/2\n",
      "349/349 [==============================] - 172s 489ms/step - loss: 8099.4019 - precision_m: 4.5693e-04 - recall_m: 0.0037 - val_loss: 0.4305 - val_precision_m: 0.0000e+00 - val_recall_m: 0.0000e+00\n",
      "Epoch 2/2\n",
      "349/349 [==============================] - 170s 488ms/step - loss: 0.3494 - precision_m: 0.0000e+00 - recall_m: 0.0000e+00 - val_loss: 0.3609 - val_precision_m: 0.0000e+00 - val_recall_m: 0.0000e+00\n"
     ]
    }
   ],
   "source": [
    "history3 = model3.fit(X_train_, y_train_,\n",
    "                      validation_data=(X_val, y_val),\n",
    "                      batch_size=256,\n",
    "                      epochs=2,\n",
    "                      verbose=1)\n"
   ]
  },
  {
   "cell_type": "code",
   "execution_count": 94,
   "id": "ba7fe0ed",
   "metadata": {},
   "outputs": [
    {
     "name": "stdout",
     "output_type": "stream",
     "text": [
      "saved pr-re data.\n",
      "saved pr-re data.\n"
     ]
    }
   ],
   "source": [
    "save_pr_data(model3, X_train, y_train, \"pr_re_train_LSTM.dat\")\n",
    "save_pr_data(model3, X_test, y_test, \"pr_re_test_LSTM.dat\")"
   ]
  },
  {
   "cell_type": "code",
   "execution_count": 95,
   "id": "6aed5ecf",
   "metadata": {},
   "outputs": [],
   "source": [
    "pr_LSTM_train = np.loadtxt('pr_re_train_LSTM.dat')\n",
    "pr_LSTM_test  = np.loadtxt('pr_re_test_LSTM.dat')"
   ]
  },
  {
   "cell_type": "code",
   "execution_count": 98,
   "id": "74177fa7",
   "metadata": {},
   "outputs": [
    {
     "data": {
      "text/plain": [
       "<matplotlib.legend.Legend at 0x1554919a0>"
      ]
     },
     "execution_count": 98,
     "metadata": {},
     "output_type": "execute_result"
    },
    {
     "data": {
      "image/png": "[encoded data removed]",
      "text/plain": [
       "<Figure size 720x360 with 1 Axes>"
      ]
     },
     "metadata": {
      "needs_background": "light"
     },
     "output_type": "display_data"
    }
   ],
   "source": [
    "fig, ax = plt.subplots(1,1, figsize=(10,5))\n",
    "\n",
    "ax.plot(pr_LR_train[:,1], pr_LR_train[:,0], label=\"LR Train\")\n",
    "ax.plot(pr_LR_test[:,1], pr_LR_test[:,0], label=\"LR Test\")\n",
    "ax.plot(pr_DN_train[:,1], pr_DN_train[:,0], label=\"DNN Train\")\n",
    "ax.plot(pr_DN_test[:,1], pr_DN_test[:,0], label=\"DNN Test\")\n",
    "\n",
    "ax.plot(pr_DN_train2[:,1], pr_DN_train2[:,0], label=\"DNN Train2\")\n",
    "ax.plot(pr_DN_test2[:,1], pr_DN_test2[:,0], label=\"DNN Test2\")\n",
    "\n",
    "ax.plot(pr_LSTM_train[:,1], pr_LSTM_train[:,0], label=\"LSTM Train\")\n",
    "ax.plot(pr_LSTM_test[:,1], pr_LSTM_test[:,0], label=\"LSTM Test\")\n",
    "\n",
    "ax.set_xlabel(\"Recall (Positive Label:1)\", fontsize=16)\n",
    "ax.set_ylabel(\"Precision (Positive Label:1)\", fontsize=16)\n",
    "ax.legend(fontsize=16)"
   ]
  },
  {
   "cell_type": "code",
   "execution_count": null,
   "id": "864a3f20",
   "metadata": {},
   "outputs": [],
   "source": []
  },
  {
   "cell_type": "code",
   "execution_count": null,
   "id": "f1679fa4",
   "metadata": {},
   "outputs": [],
   "source": []
  },
  {
   "cell_type": "code",
   "execution_count": null,
   "id": "1abf3c0e",
   "metadata": {},
   "outputs": [],
   "source": []
  },
  {
   "cell_type": "code",
   "execution_count": null,
   "id": "5842e73a",
   "metadata": {},
   "outputs": [],
   "source": []
  },
  {
   "cell_type": "code",
   "execution_count": null,
   "id": "71b67b1d",
   "metadata": {},
   "outputs": [],
   "source": []
  },
  {
   "cell_type": "code",
   "execution_count": 150,
   "id": "61b6f2cd",
   "metadata": {},
   "outputs": [
    {
     "data": {
      "image/png": "[encoded data removed]",
      "text/plain": [
       "<Figure size 864x288 with 3 Axes>"
      ]
     },
     "metadata": {
      "needs_background": "light"
     },
     "output_type": "display_data"
    }
   ],
   "source": [
    "plt.figure(figsize=(12,4))\n",
    "plt.subplot(131)\n",
    "plt.plot(history2.history['loss'], label='Training loss')\n",
    "plt.plot(history2.history['val_loss'], label='Val loss')\n",
    "plt.legend(); plt.grid()\n",
    "\n",
    "plt.subplot(132)\n",
    "plt.plot(history2.history['precision_m'], label='Training Precision')\n",
    "plt.plot(history2.history['val_precision_m'], label='Val Precision')\n",
    "plt.legend(); plt.grid()\n",
    "\n",
    "plt.subplot(133)\n",
    "plt.plot(history2.history['recall_m'], label='Training Recall')\n",
    "plt.plot(history2.history['val_recall_m'], label='Val Recall')\n",
    "plt.legend(); plt.grid()"
   ]
  },
  {
   "cell_type": "code",
   "execution_count": 167,
   "id": "6c841138",
   "metadata": {},
   "outputs": [],
   "source": [
    "proba = model2.predict_proba(X_test)"
   ]
  },
  {
   "cell_type": "code",
   "execution_count": 197,
   "id": "3a4f31e3",
   "metadata": {
    "scrolled": true
   },
   "outputs": [
    {
     "data": {
      "image/png": "[encoded data removed]",
      "text/plain": [
       "<Figure size 432x288 with 1 Axes>"
      ]
     },
     "metadata": {
      "needs_background": "light"
     },
     "output_type": "display_data"
    }
   ],
   "source": [
    "def precision_recall_curve(model, X, y, ax=None, lab=\"Data\"):\n",
    "    proba = model.predict_proba(X)\n",
    "    pr = []; re = []\n",
    "    cutoffs = np.linspace(0.05, 0.99, 10)\n",
    "    for c in cutoffs:\n",
    "        preds_c = (proba.flatten()>=c).astype('int')\n",
    "        pr_ = precision_score(y, preds_c)\n",
    "        re_ = recall_score(y, preds_c)\n",
    "        pr.append( pr_ )\n",
    "        re.append( re_ )\n",
    "        #print (c, pr_, re_ )\n",
    "    if ax is None:\n",
    "        fig, ax = plt.subplots(1,1, figsize=(6,4))\n",
    "    ax.plot(re, pr, '-o', label=lab)\n",
    "    ax.set_xlabel(\"Recall\", fontsize=16)\n",
    "    ax.set_ylabel(\"Precision\", fontsize=16)\n",
    "    ax.legend(fontsize=16)\n",
    "    \n",
    "    \n",
    "fig, ax = plt.subplots(1,1, figsize=(6,4))\n",
    "precision_recall_curve(model2, X_test, y_test, ax=ax, lab = \"Test Data\")\n",
    "precision_recall_curve(model2, X_train, y_train, ax=ax, lab = \"Train Data\")"
   ]
  },
  {
   "cell_type": "code",
   "execution_count": 203,
   "id": "b24bf9df",
   "metadata": {},
   "outputs": [
    {
     "name": "stdout",
     "output_type": "stream",
     "text": [
      "Collecting numpy==1.19.3\n",
      "  Downloading numpy-1.19.3-cp39-cp39-macosx_10_9_x86_64.whl (15.9 MB)\n",
      "\u001b[K     |████████████████████████████████| 15.9 MB 1.6 MB/s eta 0:00:01\n",
      "\u001b[?25hInstalling collected packages: numpy\n",
      "  Attempting uninstall: numpy\n",
      "    Found existing installation: numpy 1.20.1\n",
      "    Uninstalling numpy-1.20.1:\n",
      "      Successfully uninstalled numpy-1.20.1\n",
      "\u001b[31mERROR: pip's dependency resolver does not currently take into account all the packages that are installed. This behaviour is the source of the following dependency conflicts.\n",
      "tensorflow 2.5.0 requires six~=1.15.0, but you have six 1.16.0 which is incompatible.\n",
      "qiskit-aqua 0.9.1 requires pandas<=1.2.3, but you have pandas 1.2.4 which is incompatible.\n",
      "qiskit-aqua 0.9.1 requires scikit-learn<=0.24.1,>=0.20.0, but you have scikit-learn 0.24.2 which is incompatible.\u001b[0m\n",
      "Successfully installed numpy-1.19.5\n"
     ]
    }
   ],
   "source": [
    "#1.19.3\n",
    "!pip3 install numpy==1.19.3"
   ]
  },
  {
   "cell_type": "code",
   "execution_count": 204,
   "id": "faec11fc",
   "metadata": {},
   "outputs": [],
   "source": [
    "def make_model_GRU(X, embedding_length = 16):\n",
    "    model = Sequential()\n",
    "    model.add(tf.keras.layers.Embedding(MAX_WORDS, embedding_length, input_length=X.shape[1]))\n",
    "    model.add(GRU(128, dropout=0.2, return_sequences=True)) \n",
    "    model.add(GRU(128, dropout=0.2))\n",
    "    model.add(Dense(1))\n",
    "    model.add(Activation('sigmoid'))\n",
    "    model.compile(loss='binary_crossentropy',\n",
    "                  optimizer='adam',\n",
    "                  metrics = [precision_m, recall_m])\n",
    "    return model"
   ]
  },
  {
   "cell_type": "code",
   "execution_count": 205,
   "id": "49896878",
   "metadata": {},
   "outputs": [
    {
     "ename": "NotImplementedError",
     "evalue": "Cannot convert a symbolic Tensor (gru_1/strided_slice:0) to a numpy array. This error may indicate that you're trying to pass a Tensor to a NumPy call, which is not supported",
     "output_type": "error",
     "traceback": [
      "\u001b[0;31m---------------------------------------------------------------------------\u001b[0m",
      "\u001b[0;31mNotImplementedError\u001b[0m                       Traceback (most recent call last)",
      "\u001b[0;32m<ipython-input-205-d092cc8c5e3b>\u001b[0m in \u001b[0;36m<module>\u001b[0;34m\u001b[0m\n\u001b[0;32m----> 1\u001b[0;31m \u001b[0mmodel3\u001b[0m \u001b[0;34m=\u001b[0m \u001b[0mmake_model_GRU\u001b[0m\u001b[0;34m(\u001b[0m\u001b[0mX_train_\u001b[0m\u001b[0;34m)\u001b[0m\u001b[0;34m\u001b[0m\u001b[0;34m\u001b[0m\u001b[0m\n\u001b[0m\u001b[1;32m      2\u001b[0m \u001b[0mmodel3\u001b[0m\u001b[0;34m.\u001b[0m\u001b[0msummary\u001b[0m\u001b[0;34m(\u001b[0m\u001b[0;34m)\u001b[0m\u001b[0;34m\u001b[0m\u001b[0;34m\u001b[0m\u001b[0m\n",
      "\u001b[0;32m<ipython-input-204-d514f4ee6847>\u001b[0m in \u001b[0;36mmake_model_GRU\u001b[0;34m(X, embedding_length)\u001b[0m\n\u001b[1;32m      2\u001b[0m     \u001b[0mmodel\u001b[0m \u001b[0;34m=\u001b[0m \u001b[0mSequential\u001b[0m\u001b[0;34m(\u001b[0m\u001b[0;34m)\u001b[0m\u001b[0;34m\u001b[0m\u001b[0;34m\u001b[0m\u001b[0m\n\u001b[1;32m      3\u001b[0m     \u001b[0mmodel\u001b[0m\u001b[0;34m.\u001b[0m\u001b[0madd\u001b[0m\u001b[0;34m(\u001b[0m\u001b[0mtf\u001b[0m\u001b[0;34m.\u001b[0m\u001b[0mkeras\u001b[0m\u001b[0;34m.\u001b[0m\u001b[0mlayers\u001b[0m\u001b[0;34m.\u001b[0m\u001b[0mEmbedding\u001b[0m\u001b[0;34m(\u001b[0m\u001b[0mMAX_WORDS\u001b[0m\u001b[0;34m,\u001b[0m \u001b[0membedding_length\u001b[0m\u001b[0;34m,\u001b[0m \u001b[0minput_length\u001b[0m\u001b[0;34m=\u001b[0m\u001b[0mX\u001b[0m\u001b[0;34m.\u001b[0m\u001b[0mshape\u001b[0m\u001b[0;34m[\u001b[0m\u001b[0;36m1\u001b[0m\u001b[0;34m]\u001b[0m\u001b[0;34m)\u001b[0m\u001b[0;34m)\u001b[0m\u001b[0;34m\u001b[0m\u001b[0;34m\u001b[0m\u001b[0m\n\u001b[0;32m----> 4\u001b[0;31m     \u001b[0mmodel\u001b[0m\u001b[0;34m.\u001b[0m\u001b[0madd\u001b[0m\u001b[0;34m(\u001b[0m\u001b[0mGRU\u001b[0m\u001b[0;34m(\u001b[0m\u001b[0;36m128\u001b[0m\u001b[0;34m,\u001b[0m \u001b[0mdropout\u001b[0m\u001b[0;34m=\u001b[0m\u001b[0;36m0.2\u001b[0m\u001b[0;34m,\u001b[0m \u001b[0mreturn_sequences\u001b[0m\u001b[0;34m=\u001b[0m\u001b[0;32mTrue\u001b[0m\u001b[0;34m)\u001b[0m\u001b[0;34m)\u001b[0m\u001b[0;34m\u001b[0m\u001b[0;34m\u001b[0m\u001b[0m\n\u001b[0m\u001b[1;32m      5\u001b[0m     \u001b[0mmodel\u001b[0m\u001b[0;34m.\u001b[0m\u001b[0madd\u001b[0m\u001b[0;34m(\u001b[0m\u001b[0mGRU\u001b[0m\u001b[0;34m(\u001b[0m\u001b[0;36m128\u001b[0m\u001b[0;34m,\u001b[0m \u001b[0mdropout\u001b[0m\u001b[0;34m=\u001b[0m\u001b[0;36m0.2\u001b[0m\u001b[0;34m)\u001b[0m\u001b[0;34m)\u001b[0m\u001b[0;34m\u001b[0m\u001b[0;34m\u001b[0m\u001b[0m\n\u001b[1;32m      6\u001b[0m     \u001b[0mmodel\u001b[0m\u001b[0;34m.\u001b[0m\u001b[0madd\u001b[0m\u001b[0;34m(\u001b[0m\u001b[0mDense\u001b[0m\u001b[0;34m(\u001b[0m\u001b[0;36m1\u001b[0m\u001b[0;34m)\u001b[0m\u001b[0;34m)\u001b[0m\u001b[0;34m\u001b[0m\u001b[0;34m\u001b[0m\u001b[0m\n",
      "\u001b[0;32m/usr/local/lib/python3.9/site-packages/tensorflow/python/training/tracking/base.py\u001b[0m in \u001b[0;36m_method_wrapper\u001b[0;34m(self, *args, **kwargs)\u001b[0m\n\u001b[1;32m    520\u001b[0m     \u001b[0mself\u001b[0m\u001b[0;34m.\u001b[0m\u001b[0m_self_setattr_tracking\u001b[0m \u001b[0;34m=\u001b[0m \u001b[0;32mFalse\u001b[0m  \u001b[0;31m# pylint: disable=protected-access\u001b[0m\u001b[0;34m\u001b[0m\u001b[0;34m\u001b[0m\u001b[0m\n\u001b[1;32m    521\u001b[0m     \u001b[0;32mtry\u001b[0m\u001b[0;34m:\u001b[0m\u001b[0;34m\u001b[0m\u001b[0;34m\u001b[0m\u001b[0m\n\u001b[0;32m--> 522\u001b[0;31m       \u001b[0mresult\u001b[0m \u001b[0;34m=\u001b[0m \u001b[0mmethod\u001b[0m\u001b[0;34m(\u001b[0m\u001b[0mself\u001b[0m\u001b[0;34m,\u001b[0m \u001b[0;34m*\u001b[0m\u001b[0margs\u001b[0m\u001b[0;34m,\u001b[0m \u001b[0;34m**\u001b[0m\u001b[0mkwargs\u001b[0m\u001b[0;34m)\u001b[0m\u001b[0;34m\u001b[0m\u001b[0;34m\u001b[0m\u001b[0m\n\u001b[0m\u001b[1;32m    523\u001b[0m     \u001b[0;32mfinally\u001b[0m\u001b[0;34m:\u001b[0m\u001b[0;34m\u001b[0m\u001b[0;34m\u001b[0m\u001b[0m\n\u001b[1;32m    524\u001b[0m       \u001b[0mself\u001b[0m\u001b[0;34m.\u001b[0m\u001b[0m_self_setattr_tracking\u001b[0m \u001b[0;34m=\u001b[0m \u001b[0mprevious_value\u001b[0m  \u001b[0;31m# pylint: disable=protected-access\u001b[0m\u001b[0;34m\u001b[0m\u001b[0;34m\u001b[0m\u001b[0m\n",
      "\u001b[0;32m/usr/local/lib/python3.9/site-packages/tensorflow/python/keras/engine/sequential.py\u001b[0m in \u001b[0;36madd\u001b[0;34m(self, layer)\u001b[0m\n\u001b[1;32m    226\u001b[0m       \u001b[0;31m# If the model is being built continuously on top of an input layer:\u001b[0m\u001b[0;34m\u001b[0m\u001b[0;34m\u001b[0m\u001b[0;34m\u001b[0m\u001b[0m\n\u001b[1;32m    227\u001b[0m       \u001b[0;31m# refresh its output.\u001b[0m\u001b[0;34m\u001b[0m\u001b[0;34m\u001b[0m\u001b[0;34m\u001b[0m\u001b[0m\n\u001b[0;32m--> 228\u001b[0;31m       \u001b[0moutput_tensor\u001b[0m \u001b[0;34m=\u001b[0m \u001b[0mlayer\u001b[0m\u001b[0;34m(\u001b[0m\u001b[0mself\u001b[0m\u001b[0;34m.\u001b[0m\u001b[0moutputs\u001b[0m\u001b[0;34m[\u001b[0m\u001b[0;36m0\u001b[0m\u001b[0;34m]\u001b[0m\u001b[0;34m)\u001b[0m\u001b[0;34m\u001b[0m\u001b[0;34m\u001b[0m\u001b[0m\n\u001b[0m\u001b[1;32m    229\u001b[0m       \u001b[0;32mif\u001b[0m \u001b[0mlen\u001b[0m\u001b[0;34m(\u001b[0m\u001b[0mnest\u001b[0m\u001b[0;34m.\u001b[0m\u001b[0mflatten\u001b[0m\u001b[0;34m(\u001b[0m\u001b[0moutput_tensor\u001b[0m\u001b[0;34m)\u001b[0m\u001b[0;34m)\u001b[0m \u001b[0;34m!=\u001b[0m \u001b[0;36m1\u001b[0m\u001b[0;34m:\u001b[0m\u001b[0;34m\u001b[0m\u001b[0;34m\u001b[0m\u001b[0m\n\u001b[1;32m    230\u001b[0m         \u001b[0;32mraise\u001b[0m \u001b[0mValueError\u001b[0m\u001b[0;34m(\u001b[0m\u001b[0mSINGLE_LAYER_OUTPUT_ERROR_MSG\u001b[0m\u001b[0;34m)\u001b[0m\u001b[0;34m\u001b[0m\u001b[0;34m\u001b[0m\u001b[0m\n",
      "\u001b[0;32m/usr/local/lib/python3.9/site-packages/tensorflow/python/keras/layers/recurrent.py\u001b[0m in \u001b[0;36m__call__\u001b[0;34m(self, inputs, initial_state, constants, **kwargs)\u001b[0m\n\u001b[1;32m    666\u001b[0m \u001b[0;34m\u001b[0m\u001b[0m\n\u001b[1;32m    667\u001b[0m     \u001b[0;32mif\u001b[0m \u001b[0minitial_state\u001b[0m \u001b[0;32mis\u001b[0m \u001b[0;32mNone\u001b[0m \u001b[0;32mand\u001b[0m \u001b[0mconstants\u001b[0m \u001b[0;32mis\u001b[0m \u001b[0;32mNone\u001b[0m\u001b[0;34m:\u001b[0m\u001b[0;34m\u001b[0m\u001b[0;34m\u001b[0m\u001b[0m\n\u001b[0;32m--> 668\u001b[0;31m       \u001b[0;32mreturn\u001b[0m \u001b[0msuper\u001b[0m\u001b[0;34m(\u001b[0m\u001b[0mRNN\u001b[0m\u001b[0;34m,\u001b[0m \u001b[0mself\u001b[0m\u001b[0;34m)\u001b[0m\u001b[0;34m.\u001b[0m\u001b[0m__call__\u001b[0m\u001b[0;34m(\u001b[0m\u001b[0minputs\u001b[0m\u001b[0;34m,\u001b[0m \u001b[0;34m**\u001b[0m\u001b[0mkwargs\u001b[0m\u001b[0;34m)\u001b[0m\u001b[0;34m\u001b[0m\u001b[0;34m\u001b[0m\u001b[0m\n\u001b[0m\u001b[1;32m    669\u001b[0m \u001b[0;34m\u001b[0m\u001b[0m\n\u001b[1;32m    670\u001b[0m     \u001b[0;31m# If any of `initial_state` or `constants` are specified and are Keras\u001b[0m\u001b[0;34m\u001b[0m\u001b[0;34m\u001b[0m\u001b[0;34m\u001b[0m\u001b[0m\n",
      "\u001b[0;32m/usr/local/lib/python3.9/site-packages/tensorflow/python/keras/engine/base_layer.py\u001b[0m in \u001b[0;36m__call__\u001b[0;34m(self, *args, **kwargs)\u001b[0m\n\u001b[1;32m    967\u001b[0m     \u001b[0;31m# >> model = tf.keras.Model(inputs, outputs)\u001b[0m\u001b[0;34m\u001b[0m\u001b[0;34m\u001b[0m\u001b[0;34m\u001b[0m\u001b[0m\n\u001b[1;32m    968\u001b[0m     \u001b[0;32mif\u001b[0m \u001b[0m_in_functional_construction_mode\u001b[0m\u001b[0;34m(\u001b[0m\u001b[0mself\u001b[0m\u001b[0;34m,\u001b[0m \u001b[0minputs\u001b[0m\u001b[0;34m,\u001b[0m \u001b[0margs\u001b[0m\u001b[0;34m,\u001b[0m \u001b[0mkwargs\u001b[0m\u001b[0;34m,\u001b[0m \u001b[0minput_list\u001b[0m\u001b[0;34m)\u001b[0m\u001b[0;34m:\u001b[0m\u001b[0;34m\u001b[0m\u001b[0;34m\u001b[0m\u001b[0m\n\u001b[0;32m--> 969\u001b[0;31m       return self._functional_construction_call(inputs, args, kwargs,\n\u001b[0m\u001b[1;32m    970\u001b[0m                                                 input_list)\n\u001b[1;32m    971\u001b[0m \u001b[0;34m\u001b[0m\u001b[0m\n",
      "\u001b[0;32m/usr/local/lib/python3.9/site-packages/tensorflow/python/keras/engine/base_layer.py\u001b[0m in \u001b[0;36m_functional_construction_call\u001b[0;34m(self, inputs, args, kwargs, input_list)\u001b[0m\n\u001b[1;32m   1105\u001b[0m         layer=self, inputs=inputs, build_graph=True, training=training_value):\n\u001b[1;32m   1106\u001b[0m       \u001b[0;31m# Check input assumptions set after layer building, e.g. input shape.\u001b[0m\u001b[0;34m\u001b[0m\u001b[0;34m\u001b[0m\u001b[0;34m\u001b[0m\u001b[0m\n\u001b[0;32m-> 1107\u001b[0;31m       outputs = self._keras_tensor_symbolic_call(\n\u001b[0m\u001b[1;32m   1108\u001b[0m           inputs, input_masks, args, kwargs)\n\u001b[1;32m   1109\u001b[0m \u001b[0;34m\u001b[0m\u001b[0m\n",
      "\u001b[0;32m/usr/local/lib/python3.9/site-packages/tensorflow/python/keras/engine/base_layer.py\u001b[0m in \u001b[0;36m_keras_tensor_symbolic_call\u001b[0;34m(self, inputs, input_masks, args, kwargs)\u001b[0m\n\u001b[1;32m    838\u001b[0m       \u001b[0;32mreturn\u001b[0m \u001b[0mnest\u001b[0m\u001b[0;34m.\u001b[0m\u001b[0mmap_structure\u001b[0m\u001b[0;34m(\u001b[0m\u001b[0mkeras_tensor\u001b[0m\u001b[0;34m.\u001b[0m\u001b[0mKerasTensor\u001b[0m\u001b[0;34m,\u001b[0m \u001b[0moutput_signature\u001b[0m\u001b[0;34m)\u001b[0m\u001b[0;34m\u001b[0m\u001b[0;34m\u001b[0m\u001b[0m\n\u001b[1;32m    839\u001b[0m     \u001b[0;32melse\u001b[0m\u001b[0;34m:\u001b[0m\u001b[0;34m\u001b[0m\u001b[0;34m\u001b[0m\u001b[0m\n\u001b[0;32m--> 840\u001b[0;31m       \u001b[0;32mreturn\u001b[0m \u001b[0mself\u001b[0m\u001b[0;34m.\u001b[0m\u001b[0m_infer_output_signature\u001b[0m\u001b[0;34m(\u001b[0m\u001b[0minputs\u001b[0m\u001b[0;34m,\u001b[0m \u001b[0margs\u001b[0m\u001b[0;34m,\u001b[0m \u001b[0mkwargs\u001b[0m\u001b[0;34m,\u001b[0m \u001b[0minput_masks\u001b[0m\u001b[0;34m)\u001b[0m\u001b[0;34m\u001b[0m\u001b[0;34m\u001b[0m\u001b[0m\n\u001b[0m\u001b[1;32m    841\u001b[0m \u001b[0;34m\u001b[0m\u001b[0m\n\u001b[1;32m    842\u001b[0m   \u001b[0;32mdef\u001b[0m \u001b[0m_infer_output_signature\u001b[0m\u001b[0;34m(\u001b[0m\u001b[0mself\u001b[0m\u001b[0;34m,\u001b[0m \u001b[0minputs\u001b[0m\u001b[0;34m,\u001b[0m \u001b[0margs\u001b[0m\u001b[0;34m,\u001b[0m \u001b[0mkwargs\u001b[0m\u001b[0;34m,\u001b[0m \u001b[0minput_masks\u001b[0m\u001b[0;34m)\u001b[0m\u001b[0;34m:\u001b[0m\u001b[0;34m\u001b[0m\u001b[0;34m\u001b[0m\u001b[0m\n",
      "\u001b[0;32m/usr/local/lib/python3.9/site-packages/tensorflow/python/keras/engine/base_layer.py\u001b[0m in \u001b[0;36m_infer_output_signature\u001b[0;34m(self, inputs, args, kwargs, input_masks)\u001b[0m\n\u001b[1;32m    878\u001b[0m           \u001b[0mself\u001b[0m\u001b[0;34m.\u001b[0m\u001b[0m_maybe_build\u001b[0m\u001b[0;34m(\u001b[0m\u001b[0minputs\u001b[0m\u001b[0;34m)\u001b[0m\u001b[0;34m\u001b[0m\u001b[0;34m\u001b[0m\u001b[0m\n\u001b[1;32m    879\u001b[0m           \u001b[0minputs\u001b[0m \u001b[0;34m=\u001b[0m \u001b[0mself\u001b[0m\u001b[0;34m.\u001b[0m\u001b[0m_maybe_cast_inputs\u001b[0m\u001b[0;34m(\u001b[0m\u001b[0minputs\u001b[0m\u001b[0;34m)\u001b[0m\u001b[0;34m\u001b[0m\u001b[0;34m\u001b[0m\u001b[0m\n\u001b[0;32m--> 880\u001b[0;31m           \u001b[0moutputs\u001b[0m \u001b[0;34m=\u001b[0m \u001b[0mcall_fn\u001b[0m\u001b[0;34m(\u001b[0m\u001b[0minputs\u001b[0m\u001b[0;34m,\u001b[0m \u001b[0;34m*\u001b[0m\u001b[0margs\u001b[0m\u001b[0;34m,\u001b[0m \u001b[0;34m**\u001b[0m\u001b[0mkwargs\u001b[0m\u001b[0;34m)\u001b[0m\u001b[0;34m\u001b[0m\u001b[0;34m\u001b[0m\u001b[0m\n\u001b[0m\u001b[1;32m    881\u001b[0m \u001b[0;34m\u001b[0m\u001b[0m\n\u001b[1;32m    882\u001b[0m         \u001b[0mself\u001b[0m\u001b[0;34m.\u001b[0m\u001b[0m_handle_activity_regularization\u001b[0m\u001b[0;34m(\u001b[0m\u001b[0minputs\u001b[0m\u001b[0;34m,\u001b[0m \u001b[0moutputs\u001b[0m\u001b[0;34m)\u001b[0m\u001b[0;34m\u001b[0m\u001b[0;34m\u001b[0m\u001b[0m\n",
      "\u001b[0;32m/usr/local/lib/python3.9/site-packages/tensorflow/python/keras/layers/recurrent_v2.py\u001b[0m in \u001b[0;36mcall\u001b[0;34m(self, inputs, mask, training, initial_state)\u001b[0m\n\u001b[1;32m    424\u001b[0m \u001b[0;34m\u001b[0m\u001b[0m\n\u001b[1;32m    425\u001b[0m     \u001b[0;31m# GRU does not support constants. Ignore it during process.\u001b[0m\u001b[0;34m\u001b[0m\u001b[0;34m\u001b[0m\u001b[0;34m\u001b[0m\u001b[0m\n\u001b[0;32m--> 426\u001b[0;31m     \u001b[0minputs\u001b[0m\u001b[0;34m,\u001b[0m \u001b[0minitial_state\u001b[0m\u001b[0;34m,\u001b[0m \u001b[0m_\u001b[0m \u001b[0;34m=\u001b[0m \u001b[0mself\u001b[0m\u001b[0;34m.\u001b[0m\u001b[0m_process_inputs\u001b[0m\u001b[0;34m(\u001b[0m\u001b[0minputs\u001b[0m\u001b[0;34m,\u001b[0m \u001b[0minitial_state\u001b[0m\u001b[0;34m,\u001b[0m \u001b[0;32mNone\u001b[0m\u001b[0;34m)\u001b[0m\u001b[0;34m\u001b[0m\u001b[0;34m\u001b[0m\u001b[0m\n\u001b[0m\u001b[1;32m    427\u001b[0m \u001b[0;34m\u001b[0m\u001b[0m\n\u001b[1;32m    428\u001b[0m     \u001b[0;32mif\u001b[0m \u001b[0misinstance\u001b[0m\u001b[0;34m(\u001b[0m\u001b[0mmask\u001b[0m\u001b[0;34m,\u001b[0m \u001b[0mlist\u001b[0m\u001b[0;34m)\u001b[0m\u001b[0;34m:\u001b[0m\u001b[0;34m\u001b[0m\u001b[0;34m\u001b[0m\u001b[0m\n",
      "\u001b[0;32m/usr/local/lib/python3.9/site-packages/tensorflow/python/keras/layers/recurrent.py\u001b[0m in \u001b[0;36m_process_inputs\u001b[0;34m(self, inputs, initial_state, constants)\u001b[0m\n\u001b[1;32m    866\u001b[0m         \u001b[0minitial_state\u001b[0m \u001b[0;34m=\u001b[0m \u001b[0mself\u001b[0m\u001b[0;34m.\u001b[0m\u001b[0mstates\u001b[0m\u001b[0;34m\u001b[0m\u001b[0;34m\u001b[0m\u001b[0m\n\u001b[1;32m    867\u001b[0m     \u001b[0;32melif\u001b[0m \u001b[0minitial_state\u001b[0m \u001b[0;32mis\u001b[0m \u001b[0;32mNone\u001b[0m\u001b[0;34m:\u001b[0m\u001b[0;34m\u001b[0m\u001b[0;34m\u001b[0m\u001b[0m\n\u001b[0;32m--> 868\u001b[0;31m       \u001b[0minitial_state\u001b[0m \u001b[0;34m=\u001b[0m \u001b[0mself\u001b[0m\u001b[0;34m.\u001b[0m\u001b[0mget_initial_state\u001b[0m\u001b[0;34m(\u001b[0m\u001b[0minputs\u001b[0m\u001b[0;34m)\u001b[0m\u001b[0;34m\u001b[0m\u001b[0;34m\u001b[0m\u001b[0m\n\u001b[0m\u001b[1;32m    869\u001b[0m \u001b[0;34m\u001b[0m\u001b[0m\n\u001b[1;32m    870\u001b[0m     \u001b[0;32mif\u001b[0m \u001b[0mlen\u001b[0m\u001b[0;34m(\u001b[0m\u001b[0minitial_state\u001b[0m\u001b[0;34m)\u001b[0m \u001b[0;34m!=\u001b[0m \u001b[0mlen\u001b[0m\u001b[0;34m(\u001b[0m\u001b[0mself\u001b[0m\u001b[0;34m.\u001b[0m\u001b[0mstates\u001b[0m\u001b[0;34m)\u001b[0m\u001b[0;34m:\u001b[0m\u001b[0;34m\u001b[0m\u001b[0;34m\u001b[0m\u001b[0m\n",
      "\u001b[0;32m/usr/local/lib/python3.9/site-packages/tensorflow/python/keras/layers/recurrent.py\u001b[0m in \u001b[0;36mget_initial_state\u001b[0;34m(self, inputs)\u001b[0m\n\u001b[1;32m    648\u001b[0m     \u001b[0mdtype\u001b[0m \u001b[0;34m=\u001b[0m \u001b[0minputs\u001b[0m\u001b[0;34m.\u001b[0m\u001b[0mdtype\u001b[0m\u001b[0;34m\u001b[0m\u001b[0;34m\u001b[0m\u001b[0m\n\u001b[1;32m    649\u001b[0m     \u001b[0;32mif\u001b[0m \u001b[0mget_initial_state_fn\u001b[0m\u001b[0;34m:\u001b[0m\u001b[0;34m\u001b[0m\u001b[0;34m\u001b[0m\u001b[0m\n\u001b[0;32m--> 650\u001b[0;31m       init_state = get_initial_state_fn(\n\u001b[0m\u001b[1;32m    651\u001b[0m           inputs=None, batch_size=batch_size, dtype=dtype)\n\u001b[1;32m    652\u001b[0m     \u001b[0;32melse\u001b[0m\u001b[0;34m:\u001b[0m\u001b[0;34m\u001b[0m\u001b[0;34m\u001b[0m\u001b[0m\n",
      "\u001b[0;32m/usr/local/lib/python3.9/site-packages/tensorflow/python/keras/layers/recurrent.py\u001b[0m in \u001b[0;36mget_initial_state\u001b[0;34m(self, inputs, batch_size, dtype)\u001b[0m\n\u001b[1;32m   1961\u001b[0m \u001b[0;34m\u001b[0m\u001b[0m\n\u001b[1;32m   1962\u001b[0m   \u001b[0;32mdef\u001b[0m \u001b[0mget_initial_state\u001b[0m\u001b[0;34m(\u001b[0m\u001b[0mself\u001b[0m\u001b[0;34m,\u001b[0m \u001b[0minputs\u001b[0m\u001b[0;34m=\u001b[0m\u001b[0;32mNone\u001b[0m\u001b[0;34m,\u001b[0m \u001b[0mbatch_size\u001b[0m\u001b[0;34m=\u001b[0m\u001b[0;32mNone\u001b[0m\u001b[0;34m,\u001b[0m \u001b[0mdtype\u001b[0m\u001b[0;34m=\u001b[0m\u001b[0;32mNone\u001b[0m\u001b[0;34m)\u001b[0m\u001b[0;34m:\u001b[0m\u001b[0;34m\u001b[0m\u001b[0;34m\u001b[0m\u001b[0m\n\u001b[0;32m-> 1963\u001b[0;31m     \u001b[0;32mreturn\u001b[0m \u001b[0m_generate_zero_filled_state_for_cell\u001b[0m\u001b[0;34m(\u001b[0m\u001b[0mself\u001b[0m\u001b[0;34m,\u001b[0m \u001b[0minputs\u001b[0m\u001b[0;34m,\u001b[0m \u001b[0mbatch_size\u001b[0m\u001b[0;34m,\u001b[0m \u001b[0mdtype\u001b[0m\u001b[0;34m)\u001b[0m\u001b[0;34m\u001b[0m\u001b[0;34m\u001b[0m\u001b[0m\n\u001b[0m\u001b[1;32m   1964\u001b[0m \u001b[0;34m\u001b[0m\u001b[0m\n\u001b[1;32m   1965\u001b[0m \u001b[0;34m\u001b[0m\u001b[0m\n",
      "\u001b[0;32m/usr/local/lib/python3.9/site-packages/tensorflow/python/keras/layers/recurrent.py\u001b[0m in \u001b[0;36m_generate_zero_filled_state_for_cell\u001b[0;34m(cell, inputs, batch_size, dtype)\u001b[0m\n\u001b[1;32m   2996\u001b[0m     \u001b[0mbatch_size\u001b[0m \u001b[0;34m=\u001b[0m \u001b[0marray_ops\u001b[0m\u001b[0;34m.\u001b[0m\u001b[0mshape\u001b[0m\u001b[0;34m(\u001b[0m\u001b[0minputs\u001b[0m\u001b[0;34m)\u001b[0m\u001b[0;34m[\u001b[0m\u001b[0;36m0\u001b[0m\u001b[0;34m]\u001b[0m\u001b[0;34m\u001b[0m\u001b[0;34m\u001b[0m\u001b[0m\n\u001b[1;32m   2997\u001b[0m     \u001b[0mdtype\u001b[0m \u001b[0;34m=\u001b[0m \u001b[0minputs\u001b[0m\u001b[0;34m.\u001b[0m\u001b[0mdtype\u001b[0m\u001b[0;34m\u001b[0m\u001b[0;34m\u001b[0m\u001b[0m\n\u001b[0;32m-> 2998\u001b[0;31m   \u001b[0;32mreturn\u001b[0m \u001b[0m_generate_zero_filled_state\u001b[0m\u001b[0;34m(\u001b[0m\u001b[0mbatch_size\u001b[0m\u001b[0;34m,\u001b[0m \u001b[0mcell\u001b[0m\u001b[0;34m.\u001b[0m\u001b[0mstate_size\u001b[0m\u001b[0;34m,\u001b[0m \u001b[0mdtype\u001b[0m\u001b[0;34m)\u001b[0m\u001b[0;34m\u001b[0m\u001b[0;34m\u001b[0m\u001b[0m\n\u001b[0m\u001b[1;32m   2999\u001b[0m \u001b[0;34m\u001b[0m\u001b[0m\n\u001b[1;32m   3000\u001b[0m \u001b[0;34m\u001b[0m\u001b[0m\n",
      "\u001b[0;32m/usr/local/lib/python3.9/site-packages/tensorflow/python/keras/layers/recurrent.py\u001b[0m in \u001b[0;36m_generate_zero_filled_state\u001b[0;34m(batch_size_tensor, state_size, dtype)\u001b[0m\n\u001b[1;32m   3014\u001b[0m     \u001b[0;32mreturn\u001b[0m \u001b[0mnest\u001b[0m\u001b[0;34m.\u001b[0m\u001b[0mmap_structure\u001b[0m\u001b[0;34m(\u001b[0m\u001b[0mcreate_zeros\u001b[0m\u001b[0;34m,\u001b[0m \u001b[0mstate_size\u001b[0m\u001b[0;34m)\u001b[0m\u001b[0;34m\u001b[0m\u001b[0;34m\u001b[0m\u001b[0m\n\u001b[1;32m   3015\u001b[0m   \u001b[0;32melse\u001b[0m\u001b[0;34m:\u001b[0m\u001b[0;34m\u001b[0m\u001b[0;34m\u001b[0m\u001b[0m\n\u001b[0;32m-> 3016\u001b[0;31m     \u001b[0;32mreturn\u001b[0m \u001b[0mcreate_zeros\u001b[0m\u001b[0;34m(\u001b[0m\u001b[0mstate_size\u001b[0m\u001b[0;34m)\u001b[0m\u001b[0;34m\u001b[0m\u001b[0;34m\u001b[0m\u001b[0m\n\u001b[0m\u001b[1;32m   3017\u001b[0m \u001b[0;34m\u001b[0m\u001b[0m\n\u001b[1;32m   3018\u001b[0m \u001b[0;34m\u001b[0m\u001b[0m\n",
      "\u001b[0;32m/usr/local/lib/python3.9/site-packages/tensorflow/python/keras/layers/recurrent.py\u001b[0m in \u001b[0;36mcreate_zeros\u001b[0;34m(unnested_state_size)\u001b[0m\n\u001b[1;32m   3009\u001b[0m     \u001b[0mflat_dims\u001b[0m \u001b[0;34m=\u001b[0m \u001b[0mtensor_shape\u001b[0m\u001b[0;34m.\u001b[0m\u001b[0mTensorShape\u001b[0m\u001b[0;34m(\u001b[0m\u001b[0munnested_state_size\u001b[0m\u001b[0;34m)\u001b[0m\u001b[0;34m.\u001b[0m\u001b[0mas_list\u001b[0m\u001b[0;34m(\u001b[0m\u001b[0;34m)\u001b[0m\u001b[0;34m\u001b[0m\u001b[0;34m\u001b[0m\u001b[0m\n\u001b[1;32m   3010\u001b[0m     \u001b[0minit_state_size\u001b[0m \u001b[0;34m=\u001b[0m \u001b[0;34m[\u001b[0m\u001b[0mbatch_size_tensor\u001b[0m\u001b[0;34m]\u001b[0m \u001b[0;34m+\u001b[0m \u001b[0mflat_dims\u001b[0m\u001b[0;34m\u001b[0m\u001b[0;34m\u001b[0m\u001b[0m\n\u001b[0;32m-> 3011\u001b[0;31m     \u001b[0;32mreturn\u001b[0m \u001b[0marray_ops\u001b[0m\u001b[0;34m.\u001b[0m\u001b[0mzeros\u001b[0m\u001b[0;34m(\u001b[0m\u001b[0minit_state_size\u001b[0m\u001b[0;34m,\u001b[0m \u001b[0mdtype\u001b[0m\u001b[0;34m=\u001b[0m\u001b[0mdtype\u001b[0m\u001b[0;34m)\u001b[0m\u001b[0;34m\u001b[0m\u001b[0;34m\u001b[0m\u001b[0m\n\u001b[0m\u001b[1;32m   3012\u001b[0m \u001b[0;34m\u001b[0m\u001b[0m\n\u001b[1;32m   3013\u001b[0m   \u001b[0;32mif\u001b[0m \u001b[0mnest\u001b[0m\u001b[0;34m.\u001b[0m\u001b[0mis_nested\u001b[0m\u001b[0;34m(\u001b[0m\u001b[0mstate_size\u001b[0m\u001b[0;34m)\u001b[0m\u001b[0;34m:\u001b[0m\u001b[0;34m\u001b[0m\u001b[0;34m\u001b[0m\u001b[0m\n",
      "\u001b[0;32m/usr/local/lib/python3.9/site-packages/tensorflow/python/util/dispatch.py\u001b[0m in \u001b[0;36mwrapper\u001b[0;34m(*args, **kwargs)\u001b[0m\n\u001b[1;32m    204\u001b[0m     \u001b[0;34m\"\"\"Call target, and fall back on dispatchers if there is a TypeError.\"\"\"\u001b[0m\u001b[0;34m\u001b[0m\u001b[0;34m\u001b[0m\u001b[0m\n\u001b[1;32m    205\u001b[0m     \u001b[0;32mtry\u001b[0m\u001b[0;34m:\u001b[0m\u001b[0;34m\u001b[0m\u001b[0;34m\u001b[0m\u001b[0m\n\u001b[0;32m--> 206\u001b[0;31m       \u001b[0;32mreturn\u001b[0m \u001b[0mtarget\u001b[0m\u001b[0;34m(\u001b[0m\u001b[0;34m*\u001b[0m\u001b[0margs\u001b[0m\u001b[0;34m,\u001b[0m \u001b[0;34m**\u001b[0m\u001b[0mkwargs\u001b[0m\u001b[0;34m)\u001b[0m\u001b[0;34m\u001b[0m\u001b[0;34m\u001b[0m\u001b[0m\n\u001b[0m\u001b[1;32m    207\u001b[0m     \u001b[0;32mexcept\u001b[0m \u001b[0;34m(\u001b[0m\u001b[0mTypeError\u001b[0m\u001b[0;34m,\u001b[0m \u001b[0mValueError\u001b[0m\u001b[0;34m)\u001b[0m\u001b[0;34m:\u001b[0m\u001b[0;34m\u001b[0m\u001b[0;34m\u001b[0m\u001b[0m\n\u001b[1;32m    208\u001b[0m       \u001b[0;31m# Note: convert_to_eager_tensor currently raises a ValueError, not a\u001b[0m\u001b[0;34m\u001b[0m\u001b[0;34m\u001b[0m\u001b[0;34m\u001b[0m\u001b[0m\n",
      "\u001b[0;32m/usr/local/lib/python3.9/site-packages/tensorflow/python/ops/array_ops.py\u001b[0m in \u001b[0;36mwrapped\u001b[0;34m(*args, **kwargs)\u001b[0m\n\u001b[1;32m   2909\u001b[0m \u001b[0;34m\u001b[0m\u001b[0m\n\u001b[1;32m   2910\u001b[0m   \u001b[0;32mdef\u001b[0m \u001b[0mwrapped\u001b[0m\u001b[0;34m(\u001b[0m\u001b[0;34m*\u001b[0m\u001b[0margs\u001b[0m\u001b[0;34m,\u001b[0m \u001b[0;34m**\u001b[0m\u001b[0mkwargs\u001b[0m\u001b[0;34m)\u001b[0m\u001b[0;34m:\u001b[0m\u001b[0;34m\u001b[0m\u001b[0;34m\u001b[0m\u001b[0m\n\u001b[0;32m-> 2911\u001b[0;31m     \u001b[0mtensor\u001b[0m \u001b[0;34m=\u001b[0m \u001b[0mfun\u001b[0m\u001b[0;34m(\u001b[0m\u001b[0;34m*\u001b[0m\u001b[0margs\u001b[0m\u001b[0;34m,\u001b[0m \u001b[0;34m**\u001b[0m\u001b[0mkwargs\u001b[0m\u001b[0;34m)\u001b[0m\u001b[0;34m\u001b[0m\u001b[0;34m\u001b[0m\u001b[0m\n\u001b[0m\u001b[1;32m   2912\u001b[0m     \u001b[0mtensor\u001b[0m\u001b[0;34m.\u001b[0m\u001b[0m_is_zeros_tensor\u001b[0m \u001b[0;34m=\u001b[0m \u001b[0;32mTrue\u001b[0m\u001b[0;34m\u001b[0m\u001b[0;34m\u001b[0m\u001b[0m\n\u001b[1;32m   2913\u001b[0m     \u001b[0;32mreturn\u001b[0m \u001b[0mtensor\u001b[0m\u001b[0;34m\u001b[0m\u001b[0;34m\u001b[0m\u001b[0m\n",
      "\u001b[0;32m/usr/local/lib/python3.9/site-packages/tensorflow/python/ops/array_ops.py\u001b[0m in \u001b[0;36mzeros\u001b[0;34m(shape, dtype, name)\u001b[0m\n\u001b[1;32m   2958\u001b[0m           \u001b[0;31m# Create a constant if it won't be very big. Otherwise create a fill\u001b[0m\u001b[0;34m\u001b[0m\u001b[0;34m\u001b[0m\u001b[0;34m\u001b[0m\u001b[0m\n\u001b[1;32m   2959\u001b[0m           \u001b[0;31m# op to prevent serialized GraphDefs from becoming too large.\u001b[0m\u001b[0;34m\u001b[0m\u001b[0;34m\u001b[0m\u001b[0;34m\u001b[0m\u001b[0m\n\u001b[0;32m-> 2960\u001b[0;31m           \u001b[0moutput\u001b[0m \u001b[0;34m=\u001b[0m \u001b[0m_constant_if_small\u001b[0m\u001b[0;34m(\u001b[0m\u001b[0mzero\u001b[0m\u001b[0;34m,\u001b[0m \u001b[0mshape\u001b[0m\u001b[0;34m,\u001b[0m \u001b[0mdtype\u001b[0m\u001b[0;34m,\u001b[0m \u001b[0mname\u001b[0m\u001b[0;34m)\u001b[0m\u001b[0;34m\u001b[0m\u001b[0;34m\u001b[0m\u001b[0m\n\u001b[0m\u001b[1;32m   2961\u001b[0m           \u001b[0;32mif\u001b[0m \u001b[0moutput\u001b[0m \u001b[0;32mis\u001b[0m \u001b[0;32mnot\u001b[0m \u001b[0;32mNone\u001b[0m\u001b[0;34m:\u001b[0m\u001b[0;34m\u001b[0m\u001b[0;34m\u001b[0m\u001b[0m\n\u001b[1;32m   2962\u001b[0m             \u001b[0;32mreturn\u001b[0m \u001b[0moutput\u001b[0m\u001b[0;34m\u001b[0m\u001b[0;34m\u001b[0m\u001b[0m\n",
      "\u001b[0;32m/usr/local/lib/python3.9/site-packages/tensorflow/python/ops/array_ops.py\u001b[0m in \u001b[0;36m_constant_if_small\u001b[0;34m(value, shape, dtype, name)\u001b[0m\n\u001b[1;32m   2894\u001b[0m \u001b[0;32mdef\u001b[0m \u001b[0m_constant_if_small\u001b[0m\u001b[0;34m(\u001b[0m\u001b[0mvalue\u001b[0m\u001b[0;34m,\u001b[0m \u001b[0mshape\u001b[0m\u001b[0;34m,\u001b[0m \u001b[0mdtype\u001b[0m\u001b[0;34m,\u001b[0m \u001b[0mname\u001b[0m\u001b[0;34m)\u001b[0m\u001b[0;34m:\u001b[0m\u001b[0;34m\u001b[0m\u001b[0;34m\u001b[0m\u001b[0m\n\u001b[1;32m   2895\u001b[0m   \u001b[0;32mtry\u001b[0m\u001b[0;34m:\u001b[0m\u001b[0;34m\u001b[0m\u001b[0;34m\u001b[0m\u001b[0m\n\u001b[0;32m-> 2896\u001b[0;31m     \u001b[0;32mif\u001b[0m \u001b[0mnp\u001b[0m\u001b[0;34m.\u001b[0m\u001b[0mprod\u001b[0m\u001b[0;34m(\u001b[0m\u001b[0mshape\u001b[0m\u001b[0;34m)\u001b[0m \u001b[0;34m<\u001b[0m \u001b[0;36m1000\u001b[0m\u001b[0;34m:\u001b[0m\u001b[0;34m\u001b[0m\u001b[0;34m\u001b[0m\u001b[0m\n\u001b[0m\u001b[1;32m   2897\u001b[0m       \u001b[0;32mreturn\u001b[0m \u001b[0mconstant\u001b[0m\u001b[0;34m(\u001b[0m\u001b[0mvalue\u001b[0m\u001b[0;34m,\u001b[0m \u001b[0mshape\u001b[0m\u001b[0;34m=\u001b[0m\u001b[0mshape\u001b[0m\u001b[0;34m,\u001b[0m \u001b[0mdtype\u001b[0m\u001b[0;34m=\u001b[0m\u001b[0mdtype\u001b[0m\u001b[0;34m,\u001b[0m \u001b[0mname\u001b[0m\u001b[0;34m=\u001b[0m\u001b[0mname\u001b[0m\u001b[0;34m)\u001b[0m\u001b[0;34m\u001b[0m\u001b[0;34m\u001b[0m\u001b[0m\n\u001b[1;32m   2898\u001b[0m   \u001b[0;32mexcept\u001b[0m \u001b[0mTypeError\u001b[0m\u001b[0;34m:\u001b[0m\u001b[0;34m\u001b[0m\u001b[0;34m\u001b[0m\u001b[0m\n",
      "\u001b[0;32m<__array_function__ internals>\u001b[0m in \u001b[0;36mprod\u001b[0;34m(*args, **kwargs)\u001b[0m\n",
      "\u001b[0;32m/usr/local/lib/python3.9/site-packages/numpy/core/fromnumeric.py\u001b[0m in \u001b[0;36mprod\u001b[0;34m(a, axis, dtype, out, keepdims, initial, where)\u001b[0m\n\u001b[1;32m   3028\u001b[0m         \u001b[0mbut\u001b[0m \u001b[0mthe\u001b[0m \u001b[0mtype\u001b[0m \u001b[0mof\u001b[0m \u001b[0mthe\u001b[0m \u001b[0mresulting\u001b[0m \u001b[0mvalues\u001b[0m \u001b[0mwill\u001b[0m \u001b[0mbe\u001b[0m \u001b[0mcast\u001b[0m \u001b[0;32mif\u001b[0m \u001b[0mnecessary\u001b[0m\u001b[0;34m.\u001b[0m\u001b[0;34m\u001b[0m\u001b[0;34m\u001b[0m\u001b[0m\n\u001b[1;32m   3029\u001b[0m \u001b[0;34m\u001b[0m\u001b[0m\n\u001b[0;32m-> 3030\u001b[0;31m     \u001b[0mReturns\u001b[0m\u001b[0;34m\u001b[0m\u001b[0;34m\u001b[0m\u001b[0m\n\u001b[0m\u001b[1;32m   3031\u001b[0m     \u001b[0;34m-\u001b[0m\u001b[0;34m-\u001b[0m\u001b[0;34m-\u001b[0m\u001b[0;34m-\u001b[0m\u001b[0;34m-\u001b[0m\u001b[0;34m-\u001b[0m\u001b[0;34m-\u001b[0m\u001b[0;34m\u001b[0m\u001b[0;34m\u001b[0m\u001b[0m\n\u001b[1;32m   3032\u001b[0m     \u001b[0mcumprod\u001b[0m \u001b[0;34m:\u001b[0m \u001b[0mndarray\u001b[0m\u001b[0;34m\u001b[0m\u001b[0;34m\u001b[0m\u001b[0m\n",
      "\u001b[0;32m/usr/local/lib/python3.9/site-packages/numpy/core/fromnumeric.py\u001b[0m in \u001b[0;36m_wrapreduction\u001b[0;34m(obj, ufunc, method, axis, dtype, out, **kwargs)\u001b[0m\n\u001b[1;32m     85\u001b[0m                 \u001b[0;32mreturn\u001b[0m \u001b[0mreduction\u001b[0m\u001b[0;34m(\u001b[0m\u001b[0maxis\u001b[0m\u001b[0;34m=\u001b[0m\u001b[0maxis\u001b[0m\u001b[0;34m,\u001b[0m \u001b[0mout\u001b[0m\u001b[0;34m=\u001b[0m\u001b[0mout\u001b[0m\u001b[0;34m,\u001b[0m \u001b[0;34m**\u001b[0m\u001b[0mpasskwargs\u001b[0m\u001b[0;34m)\u001b[0m\u001b[0;34m\u001b[0m\u001b[0;34m\u001b[0m\u001b[0m\n\u001b[1;32m     86\u001b[0m \u001b[0;34m\u001b[0m\u001b[0m\n\u001b[0;32m---> 87\u001b[0;31m     \u001b[0;32mreturn\u001b[0m \u001b[0mufunc\u001b[0m\u001b[0;34m.\u001b[0m\u001b[0mreduce\u001b[0m\u001b[0;34m(\u001b[0m\u001b[0mobj\u001b[0m\u001b[0;34m,\u001b[0m \u001b[0maxis\u001b[0m\u001b[0;34m,\u001b[0m \u001b[0mdtype\u001b[0m\u001b[0;34m,\u001b[0m \u001b[0mout\u001b[0m\u001b[0;34m,\u001b[0m \u001b[0;34m**\u001b[0m\u001b[0mpasskwargs\u001b[0m\u001b[0;34m)\u001b[0m\u001b[0;34m\u001b[0m\u001b[0;34m\u001b[0m\u001b[0m\n\u001b[0m\u001b[1;32m     88\u001b[0m \u001b[0;34m\u001b[0m\u001b[0m\n\u001b[1;32m     89\u001b[0m \u001b[0;34m\u001b[0m\u001b[0m\n",
      "\u001b[0;32m/usr/local/lib/python3.9/site-packages/tensorflow/python/framework/ops.py\u001b[0m in \u001b[0;36m__array__\u001b[0;34m(self)\u001b[0m\n\u001b[1;32m    865\u001b[0m \u001b[0;34m\u001b[0m\u001b[0m\n\u001b[1;32m    866\u001b[0m   \u001b[0;32mdef\u001b[0m \u001b[0m__array__\u001b[0m\u001b[0;34m(\u001b[0m\u001b[0mself\u001b[0m\u001b[0;34m)\u001b[0m\u001b[0;34m:\u001b[0m\u001b[0;34m\u001b[0m\u001b[0;34m\u001b[0m\u001b[0m\n\u001b[0;32m--> 867\u001b[0;31m     raise NotImplementedError(\n\u001b[0m\u001b[1;32m    868\u001b[0m         \u001b[0;34m\"Cannot convert a symbolic Tensor ({}) to a numpy array.\"\u001b[0m\u001b[0;34m\u001b[0m\u001b[0;34m\u001b[0m\u001b[0m\n\u001b[1;32m    869\u001b[0m         \u001b[0;34m\" This error may indicate that you're trying to pass a Tensor to\"\u001b[0m\u001b[0;34m\u001b[0m\u001b[0;34m\u001b[0m\u001b[0m\n",
      "\u001b[0;31mNotImplementedError\u001b[0m: Cannot convert a symbolic Tensor (gru_1/strided_slice:0) to a numpy array. This error may indicate that you're trying to pass a Tensor to a NumPy call, which is not supported"
     ]
    }
   ],
   "source": [
    "model3 = make_model_GRU(X_train_)\n",
    "model3.summary()"
   ]
  },
  {
   "cell_type": "code",
   "execution_count": 202,
   "id": "8996107c",
   "metadata": {},
   "outputs": [
    {
     "name": "stdout",
     "output_type": "stream",
     "text": [
      "1.20.1\n"
     ]
    }
   ],
   "source": [
    "print (np.__version__)"
   ]
  },
  {
   "cell_type": "code",
   "execution_count": 200,
   "id": "e4f9b62f",
   "metadata": {},
   "outputs": [
    {
     "ename": "NameError",
     "evalue": "name 'model3' is not defined",
     "output_type": "error",
     "traceback": [
      "\u001b[0;31m---------------------------------------------------------------------------\u001b[0m",
      "\u001b[0;31mNameError\u001b[0m                                 Traceback (most recent call last)",
      "\u001b[0;32m<ipython-input-200-9757914af7b3>\u001b[0m in \u001b[0;36m<module>\u001b[0;34m\u001b[0m\n\u001b[0;32m----> 1\u001b[0;31m history3 = model3.fit(X_train_, y_train_,\n\u001b[0m\u001b[1;32m      2\u001b[0m                       \u001b[0mvalidation_data\u001b[0m\u001b[0;34m=\u001b[0m\u001b[0;34m(\u001b[0m\u001b[0mX_val\u001b[0m\u001b[0;34m,\u001b[0m \u001b[0my_val\u001b[0m\u001b[0;34m)\u001b[0m\u001b[0;34m,\u001b[0m\u001b[0;34m\u001b[0m\u001b[0;34m\u001b[0m\u001b[0m\n\u001b[1;32m      3\u001b[0m                       \u001b[0mbatch_size\u001b[0m\u001b[0;34m=\u001b[0m\u001b[0;36m128\u001b[0m\u001b[0;34m,\u001b[0m\u001b[0;34m\u001b[0m\u001b[0;34m\u001b[0m\u001b[0m\n\u001b[1;32m      4\u001b[0m                       \u001b[0mepochs\u001b[0m\u001b[0;34m=\u001b[0m\u001b[0;36m20\u001b[0m\u001b[0;34m,\u001b[0m\u001b[0;34m\u001b[0m\u001b[0;34m\u001b[0m\u001b[0m\n\u001b[1;32m      5\u001b[0m                       verbose=1)\n",
      "\u001b[0;31mNameError\u001b[0m: name 'model3' is not defined"
     ]
    }
   ],
   "source": [
    "\n",
    "history3 = model3.fit(X_train_, y_train_,\n",
    "                      validation_data=(X_val, y_val),\n",
    "                      batch_size=128,\n",
    "                      epochs=20,\n",
    "                      verbose=1)\n"
   ]
  },
  {
   "cell_type": "code",
   "execution_count": 174,
   "id": "fd5f455a",
   "metadata": {},
   "outputs": [],
   "source": [
    "import nltk"
   ]
  },
  {
   "cell_type": "code",
   "execution_count": 175,
   "id": "385c3103",
   "metadata": {},
   "outputs": [],
   "source": [
    "fil = \"../04_webapp/english_STOPWORDS\""
   ]
  },
  {
   "cell_type": "code",
   "execution_count": 189,
   "id": "fc77e41f",
   "metadata": {},
   "outputs": [
    {
     "data": {
      "text/plain": [
       "{'a',\n",
       " 'about',\n",
       " 'above',\n",
       " 'after',\n",
       " 'again',\n",
       " 'against',\n",
       " 'ain',\n",
       " 'all',\n",
       " 'am',\n",
       " 'an',\n",
       " 'and',\n",
       " 'any',\n",
       " 'are',\n",
       " 'aren',\n",
       " \"aren't\",\n",
       " 'as',\n",
       " 'at',\n",
       " 'be',\n",
       " 'because',\n",
       " 'been',\n",
       " 'before',\n",
       " 'being',\n",
       " 'below',\n",
       " 'between',\n",
       " 'both',\n",
       " 'but',\n",
       " 'by',\n",
       " 'can',\n",
       " 'couldn',\n",
       " \"couldn't\",\n",
       " 'd',\n",
       " 'did',\n",
       " 'didn',\n",
       " \"didn't\",\n",
       " 'do',\n",
       " 'does',\n",
       " 'doesn',\n",
       " \"doesn't\",\n",
       " 'doing',\n",
       " 'don',\n",
       " \"don't\",\n",
       " 'down',\n",
       " 'during',\n",
       " 'each',\n",
       " 'few',\n",
       " 'for',\n",
       " 'from',\n",
       " 'further',\n",
       " 'had',\n",
       " 'hadn',\n",
       " \"hadn't\",\n",
       " 'has',\n",
       " 'hasn',\n",
       " \"hasn't\",\n",
       " 'have',\n",
       " 'haven',\n",
       " \"haven't\",\n",
       " 'having',\n",
       " 'he',\n",
       " 'her',\n",
       " 'here',\n",
       " 'hers',\n",
       " 'herself',\n",
       " 'him',\n",
       " 'himself',\n",
       " 'his',\n",
       " 'how',\n",
       " 'i',\n",
       " 'if',\n",
       " 'in',\n",
       " 'into',\n",
       " 'is',\n",
       " 'isn',\n",
       " \"isn't\",\n",
       " 'it',\n",
       " \"it's\",\n",
       " 'its',\n",
       " 'itself',\n",
       " 'just',\n",
       " 'll',\n",
       " 'm',\n",
       " 'ma',\n",
       " 'me',\n",
       " 'mightn',\n",
       " \"mightn't\",\n",
       " 'more',\n",
       " 'most',\n",
       " 'mustn',\n",
       " \"mustn't\",\n",
       " 'my',\n",
       " 'myself',\n",
       " 'needn',\n",
       " \"needn't\",\n",
       " 'no',\n",
       " 'nor',\n",
       " 'not',\n",
       " 'now',\n",
       " 'o',\n",
       " 'of',\n",
       " 'off',\n",
       " 'on',\n",
       " 'once',\n",
       " 'only',\n",
       " 'or',\n",
       " 'other',\n",
       " 'our',\n",
       " 'ours',\n",
       " 'ourselves',\n",
       " 'out',\n",
       " 'over',\n",
       " 'own',\n",
       " 're',\n",
       " 's',\n",
       " 'same',\n",
       " 'shan',\n",
       " \"shan't\",\n",
       " 'she',\n",
       " \"she's\",\n",
       " 'should',\n",
       " \"should've\",\n",
       " 'shouldn',\n",
       " \"shouldn't\",\n",
       " 'so',\n",
       " 'some',\n",
       " 'such',\n",
       " 't',\n",
       " 'than',\n",
       " 'that',\n",
       " \"that'll\",\n",
       " 'the',\n",
       " 'their',\n",
       " 'theirs',\n",
       " 'them',\n",
       " 'themselves',\n",
       " 'then',\n",
       " 'there',\n",
       " 'these',\n",
       " 'they',\n",
       " 'this',\n",
       " 'those',\n",
       " 'through',\n",
       " 'to',\n",
       " 'too',\n",
       " 'under',\n",
       " 'until',\n",
       " 'up',\n",
       " 've',\n",
       " 'very',\n",
       " 'was',\n",
       " 'wasn',\n",
       " \"wasn't\",\n",
       " 'we',\n",
       " 'were',\n",
       " 'weren',\n",
       " \"weren't\",\n",
       " 'what',\n",
       " 'when',\n",
       " 'where',\n",
       " 'which',\n",
       " 'while',\n",
       " 'who',\n",
       " 'whom',\n",
       " 'why',\n",
       " 'will',\n",
       " 'with',\n",
       " 'won',\n",
       " \"won't\",\n",
       " 'wouldn',\n",
       " \"wouldn't\",\n",
       " 'y',\n",
       " 'you',\n",
       " \"you'd\",\n",
       " \"you'll\",\n",
       " \"you're\",\n",
       " \"you've\",\n",
       " 'your',\n",
       " 'yours',\n",
       " 'yourself',\n",
       " 'yourselves'}"
      ]
     },
     "execution_count": 189,
     "metadata": {},
     "output_type": "execute_result"
    }
   ],
   "source": [
    "sw = open(fil, 'r')\n",
    "set([w.strip(\"\\n\") for w in sw.readlines()])\n",
    "#    .strip('\\n'))"
   ]
  },
  {
   "cell_type": "code",
   "execution_count": 184,
   "id": "1bc28fad",
   "metadata": {},
   "outputs": [
    {
     "data": {
      "text/plain": [
       "\"i\\nme\\nmy\\nmyself\\nwe\\nour\\nours\\nourselves\\nyou\\nyou're\\nyou've\\nyou'll\\nyou'd\\nyour\\nyours\\nyourself\\nyourselves\\nhe\\nhim\\nhis\\nhimself\\nshe\\nshe's\\nher\\nhers\\nherself\\nit\\nit's\\nits\\nitself\\nthey\\nthem\\ntheir\\ntheirs\\nthemselves\\nwhat\\nwhich\\nwho\\nwhom\\nthis\\nthat\\nthat'll\\nthese\\nthose\\nam\\nis\\nare\\nwas\\nwere\\nbe\\nbeen\\nbeing\\nhave\\nhas\\nhad\\nhaving\\ndo\\ndoes\\ndid\\ndoing\\na\\nan\\nthe\\nand\\nbut\\nif\\nor\\nbecause\\nas\\nuntil\\nwhile\\nof\\nat\\nby\\nfor\\nwith\\nabout\\nagainst\\nbetween\\ninto\\nthrough\\nduring\\nbefore\\nafter\\nabove\\nbelow\\nto\\nfrom\\nup\\ndown\\nin\\nout\\non\\noff\\nover\\nunder\\nagain\\nfurther\\nthen\\nonce\\nhere\\nthere\\nwhen\\nwhere\\nwhy\\nhow\\nall\\nany\\nboth\\neach\\nfew\\nmore\\nmost\\nother\\nsome\\nsuch\\nno\\nnor\\nnot\\nonly\\nown\\nsame\\nso\\nthan\\ntoo\\nvery\\ns\\nt\\ncan\\nwill\\njust\\ndon\\ndon't\\nshould\\nshould've\\nnow\\nd\\nll\\nm\\no\\nre\\nve\\ny\\nain\\naren\\naren't\\ncouldn\\ncouldn't\\ndidn\\ndidn't\\ndoesn\\ndoesn't\\nhadn\\nhadn't\\nhasn\\nhasn't\\nhaven\\nhaven't\\nisn\\nisn't\\nma\\nmightn\\nmightn't\\nmustn\\nmustn't\\nneedn\\nneedn't\\nshan\\nshan't\\nshouldn\\nshouldn't\\nwasn\\nwasn't\\nweren\\nweren't\\nwon\\nwon't\\nwouldn\\nwouldn't\\n\""
      ]
     },
     "execution_count": 184,
     "metadata": {},
     "output_type": "execute_result"
    }
   ],
   "source": []
  },
  {
   "cell_type": "code",
   "execution_count": 190,
   "id": "9308fb4f",
   "metadata": {},
   "outputs": [],
   "source": [
    "#import sklearn\n",
    "!pip3 install scikit-learn --upgrade"
   ]
  },
  {
   "cell_type": "code",
   "execution_count": 191,
   "id": "1d258b0d",
   "metadata": {},
   "outputs": [],
   "source": [
    "import sklearn"
   ]
  },
  {
   "cell_type": "code",
   "execution_count": 192,
   "id": "01bce760",
   "metadata": {},
   "outputs": [
    {
     "data": {
      "text/plain": [
       "'0.24.1'"
      ]
     },
     "execution_count": 192,
     "metadata": {},
     "output_type": "execute_result"
    }
   ],
   "source": [
    "sklearn.__version__"
   ]
  },
  {
   "cell_type": "code",
   "execution_count": 193,
   "id": "6d475218",
   "metadata": {},
   "outputs": [
    {
     "data": {
      "text/plain": [
       "'1.2.3'"
      ]
     },
     "execution_count": 193,
     "metadata": {},
     "output_type": "execute_result"
    }
   ],
   "source": [
    "import pandas \n",
    "pandas.__version__"
   ]
  },
  {
   "cell_type": "code",
   "execution_count": 195,
   "id": "6f2fc6d9",
   "metadata": {},
   "outputs": [],
   "source": [
    "import pickle"
   ]
  },
  {
   "cell_type": "code",
   "execution_count": 100,
   "id": "3ba542f8",
   "metadata": {},
   "outputs": [
    {
     "data": {
      "text/plain": [
       "1"
      ]
     },
     "execution_count": 100,
     "metadata": {},
     "output_type": "execute_result"
    }
   ],
   "source": [
    "int(True)"
   ]
  },
  {
   "cell_type": "code",
   "execution_count": 101,
   "id": "497e5ff8",
   "metadata": {},
   "outputs": [],
   "source": [
    "import xgboost"
   ]
  },
  {
   "cell_type": "code",
   "execution_count": 102,
   "id": "ac732017",
   "metadata": {},
   "outputs": [
    {
     "data": {
      "text/plain": [
       "'1.4.2'"
      ]
     },
     "execution_count": 102,
     "metadata": {},
     "output_type": "execute_result"
    }
   ],
   "source": [
    "xgboost.__version__"
   ]
  },
  {
   "cell_type": "code",
   "execution_count": 103,
   "id": "f55ed3f9",
   "metadata": {},
   "outputs": [
    {
     "data": {
      "text/plain": [
       "'0.24.2'"
      ]
     },
     "execution_count": 103,
     "metadata": {},
     "output_type": "execute_result"
    }
   ],
   "source": [
    "import sklearn\n",
    "sklearn.__version__"
   ]
  },
  {
   "cell_type": "code",
   "execution_count": null,
   "id": "459fda1d",
   "metadata": {},
   "outputs": [],
   "source": []
  }
 ],
 "metadata": {
  "kernelspec": {
   "display_name": "Python 3",
   "language": "python",
   "name": "python3"
  },
  "language_info": {
   "codemirror_mode": {
    "name": "ipython",
    "version": 3
   },
   "file_extension": ".py",
   "mimetype": "text/x-python",
   "name": "python",
   "nbconvert_exporter": "python",
   "pygments_lexer": "ipython3",
   "version": "3.9.5"
  }
 },
 "nbformat": 4,
 "nbformat_minor": 5
}
