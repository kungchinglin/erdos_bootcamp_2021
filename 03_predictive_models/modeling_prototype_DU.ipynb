{
 "cells": [
  {
   "cell_type": "code",
   "execution_count": 57,
   "id": "british-world",
   "metadata": {},
   "outputs": [],
   "source": [
    "import sqlite3\n",
    "import pandas as pd\n",
    "import numpy as np\n",
    "import datetime as dt\n",
    "import matplotlib.pyplot as plt\n",
    "\n",
    "from nltk.tokenize import TweetTokenizer\n",
    "from sklearn.linear_model import LogisticRegression\n",
    "from sklearn.model_selection import GridSearchCV\n",
    "from sklearn.metrics import accuracy_score"
   ]
  },
  {
   "cell_type": "code",
   "execution_count": 4,
   "id": "efficient-radical",
   "metadata": {},
   "outputs": [
    {
     "data": {
      "text/html": [
       "<div>\n",
       "<style scoped>\n",
       "    .dataframe tbody tr th:only-of-type {\n",
       "        vertical-align: middle;\n",
       "    }\n",
       "\n",
       "    .dataframe tbody tr th {\n",
       "        vertical-align: top;\n",
       "    }\n",
       "\n",
       "    .dataframe thead th {\n",
       "        text-align: right;\n",
       "    }\n",
       "</style>\n",
       "<table border=\"1\" class=\"dataframe\">\n",
       "  <thead>\n",
       "    <tr style=\"text-align: right;\">\n",
       "      <th></th>\n",
       "      <th>subreddit</th>\n",
       "      <th>title</th>\n",
       "      <th>author</th>\n",
       "      <th>created</th>\n",
       "      <th>ext_link</th>\n",
       "      <th>score</th>\n",
       "      <th>upvote_ratio</th>\n",
       "    </tr>\n",
       "  </thead>\n",
       "  <tbody>\n",
       "    <tr>\n",
       "      <th>0</th>\n",
       "      <td>finance</td>\n",
       "      <td>Tech's top seven companies added $3.4 trillion...</td>\n",
       "      <td>Obrocheetah</td>\n",
       "      <td>1609505868</td>\n",
       "      <td>None</td>\n",
       "      <td>1</td>\n",
       "      <td>1.0</td>\n",
       "    </tr>\n",
       "    <tr>\n",
       "      <th>1</th>\n",
       "      <td>finance</td>\n",
       "      <td>Mogo: Establishes ATM Equity Program Mogo a fi...</td>\n",
       "      <td>fintechinshorts</td>\n",
       "      <td>1609507913</td>\n",
       "      <td>https://www.fintechinshorts.com/mogo-establish...</td>\n",
       "      <td>1</td>\n",
       "      <td>1.0</td>\n",
       "    </tr>\n",
       "  </tbody>\n",
       "</table>\n",
       "</div>"
      ],
      "text/plain": [
       "  subreddit                                              title  \\\n",
       "0   finance  Tech's top seven companies added $3.4 trillion...   \n",
       "1   finance  Mogo: Establishes ATM Equity Program Mogo a fi...   \n",
       "\n",
       "            author     created  \\\n",
       "0      Obrocheetah  1609505868   \n",
       "1  fintechinshorts  1609507913   \n",
       "\n",
       "                                            ext_link  score  upvote_ratio  \n",
       "0                                               None      1           1.0  \n",
       "1  https://www.fintechinshorts.com/mogo-establish...      1           1.0  "
      ]
     },
     "execution_count": 4,
     "metadata": {},
     "output_type": "execute_result"
    }
   ],
   "source": [
    "conn = sqlite3.connect('redditPosts_KCL.sqlite')\n",
    "query = 'SELECT * FROM Posts P JOIN PostBodyAndScore B ON P.id = B.id'\n",
    "df = pd.read_sql(sql=query, con=conn)\n",
    "df.head(2)"
   ]
  },
  {
   "cell_type": "markdown",
   "id": "caring-jefferson",
   "metadata": {},
   "source": [
    "## Dropping unnecessary columns"
   ]
  },
  {
   "cell_type": "code",
   "execution_count": 3,
   "id": "breathing-while",
   "metadata": {},
   "outputs": [
    {
     "data": {
      "text/html": [
       "<div>\n",
       "<style scoped>\n",
       "    .dataframe tbody tr th:only-of-type {\n",
       "        vertical-align: middle;\n",
       "    }\n",
       "\n",
       "    .dataframe tbody tr th {\n",
       "        vertical-align: top;\n",
       "    }\n",
       "\n",
       "    .dataframe thead th {\n",
       "        text-align: right;\n",
       "    }\n",
       "</style>\n",
       "<table border=\"1\" class=\"dataframe\">\n",
       "  <thead>\n",
       "    <tr style=\"text-align: right;\">\n",
       "      <th></th>\n",
       "      <th>subreddit</th>\n",
       "      <th>title</th>\n",
       "      <th>author</th>\n",
       "      <th>created</th>\n",
       "      <th>ext_link</th>\n",
       "      <th>score</th>\n",
       "      <th>upvote_ratio</th>\n",
       "    </tr>\n",
       "  </thead>\n",
       "  <tbody>\n",
       "    <tr>\n",
       "      <th>0</th>\n",
       "      <td>finance</td>\n",
       "      <td>Tech's top seven companies added $3.4 trillion...</td>\n",
       "      <td>Obrocheetah</td>\n",
       "      <td>1609505868</td>\n",
       "      <td>None</td>\n",
       "      <td>1</td>\n",
       "      <td>1.0</td>\n",
       "    </tr>\n",
       "    <tr>\n",
       "      <th>1</th>\n",
       "      <td>finance</td>\n",
       "      <td>Mogo: Establishes ATM Equity Program Mogo a fi...</td>\n",
       "      <td>fintechinshorts</td>\n",
       "      <td>1609507913</td>\n",
       "      <td>https://www.fintechinshorts.com/mogo-establish...</td>\n",
       "      <td>1</td>\n",
       "      <td>1.0</td>\n",
       "    </tr>\n",
       "    <tr>\n",
       "      <th>2</th>\n",
       "      <td>finance</td>\n",
       "      <td>NYSE to delist three Chinese telecom firms, ci...</td>\n",
       "      <td>QQQult</td>\n",
       "      <td>1609512819</td>\n",
       "      <td>https://www.theguardian.com/business/2021/jan/...</td>\n",
       "      <td>1</td>\n",
       "      <td>1.0</td>\n",
       "    </tr>\n",
       "    <tr>\n",
       "      <th>3</th>\n",
       "      <td>finance</td>\n",
       "      <td>Standard Capital: Partners with SolidBlock Sta...</td>\n",
       "      <td>fintechinshorts</td>\n",
       "      <td>1609518689</td>\n",
       "      <td>https://www.fintechinshorts.com/standard-capit...</td>\n",
       "      <td>1</td>\n",
       "      <td>1.0</td>\n",
       "    </tr>\n",
       "    <tr>\n",
       "      <th>4</th>\n",
       "      <td>finance</td>\n",
       "      <td>5 things every trader needs to know</td>\n",
       "      <td>Aversionsfall</td>\n",
       "      <td>1609519854</td>\n",
       "      <td>https://yvestalksbitcoin.com/2021/01/01/5-thin...</td>\n",
       "      <td>0</td>\n",
       "      <td>0.4</td>\n",
       "    </tr>\n",
       "  </tbody>\n",
       "</table>\n",
       "</div>"
      ],
      "text/plain": [
       "  subreddit                                              title  \\\n",
       "0   finance  Tech's top seven companies added $3.4 trillion...   \n",
       "1   finance  Mogo: Establishes ATM Equity Program Mogo a fi...   \n",
       "2   finance  NYSE to delist three Chinese telecom firms, ci...   \n",
       "3   finance  Standard Capital: Partners with SolidBlock Sta...   \n",
       "4   finance                5 things every trader needs to know   \n",
       "\n",
       "            author     created  \\\n",
       "0      Obrocheetah  1609505868   \n",
       "1  fintechinshorts  1609507913   \n",
       "2           QQQult  1609512819   \n",
       "3  fintechinshorts  1609518689   \n",
       "4    Aversionsfall  1609519854   \n",
       "\n",
       "                                            ext_link  score  upvote_ratio  \n",
       "0                                               None      1           1.0  \n",
       "1  https://www.fintechinshorts.com/mogo-establish...      1           1.0  \n",
       "2  https://www.theguardian.com/business/2021/jan/...      1           1.0  \n",
       "3  https://www.fintechinshorts.com/standard-capit...      1           1.0  \n",
       "4  https://yvestalksbitcoin.com/2021/01/01/5-thin...      0           0.4  "
      ]
     },
     "execution_count": 3,
     "metadata": {},
     "output_type": "execute_result"
    }
   ],
   "source": [
    "df.drop(['id','body','url'], axis=1, inplace=True)\n",
    "df.head()"
   ]
  },
  {
   "cell_type": "markdown",
   "id": "heavy-project",
   "metadata": {},
   "source": [
    "## Selecting subreddit with complete dataset"
   ]
  },
  {
   "cell_type": "code",
   "execution_count": 5,
   "id": "portuguese-classics",
   "metadata": {},
   "outputs": [],
   "source": [
    "df = df[(df.subreddit == 'Superstonks') |\n",
    "        (df.subreddit == 'finance') |\n",
    "        (df.subreddit == 'options') |\n",
    "        (df.subreddit == 'pennystocks')]"
   ]
  },
  {
   "cell_type": "markdown",
   "id": "phantom-cleanup",
   "metadata": {},
   "source": [
    "## Transforming time info"
   ]
  },
  {
   "cell_type": "code",
   "execution_count": 7,
   "id": "outer-health",
   "metadata": {},
   "outputs": [
    {
     "data": {
      "text/html": [
       "<div>\n",
       "<style scoped>\n",
       "    .dataframe tbody tr th:only-of-type {\n",
       "        vertical-align: middle;\n",
       "    }\n",
       "\n",
       "    .dataframe tbody tr th {\n",
       "        vertical-align: top;\n",
       "    }\n",
       "\n",
       "    .dataframe thead th {\n",
       "        text-align: right;\n",
       "    }\n",
       "</style>\n",
       "<table border=\"1\" class=\"dataframe\">\n",
       "  <thead>\n",
       "    <tr style=\"text-align: right;\">\n",
       "      <th></th>\n",
       "      <th>subreddit</th>\n",
       "      <th>title</th>\n",
       "      <th>author</th>\n",
       "      <th>ext_link</th>\n",
       "      <th>score</th>\n",
       "      <th>upvote_ratio</th>\n",
       "      <th>posting_time</th>\n",
       "    </tr>\n",
       "  </thead>\n",
       "  <tbody>\n",
       "    <tr>\n",
       "      <th>0</th>\n",
       "      <td>finance</td>\n",
       "      <td>Tech's top seven companies added $3.4 trillion...</td>\n",
       "      <td>Obrocheetah</td>\n",
       "      <td>None</td>\n",
       "      <td>1</td>\n",
       "      <td>1.0</td>\n",
       "      <td>2021-01-01 07:57:48</td>\n",
       "    </tr>\n",
       "    <tr>\n",
       "      <th>1</th>\n",
       "      <td>finance</td>\n",
       "      <td>Mogo: Establishes ATM Equity Program Mogo a fi...</td>\n",
       "      <td>fintechinshorts</td>\n",
       "      <td>https://www.fintechinshorts.com/mogo-establish...</td>\n",
       "      <td>1</td>\n",
       "      <td>1.0</td>\n",
       "      <td>2021-01-01 08:31:53</td>\n",
       "    </tr>\n",
       "    <tr>\n",
       "      <th>2</th>\n",
       "      <td>finance</td>\n",
       "      <td>NYSE to delist three Chinese telecom firms, ci...</td>\n",
       "      <td>QQQult</td>\n",
       "      <td>https://www.theguardian.com/business/2021/jan/...</td>\n",
       "      <td>1</td>\n",
       "      <td>1.0</td>\n",
       "      <td>2021-01-01 09:53:39</td>\n",
       "    </tr>\n",
       "    <tr>\n",
       "      <th>3</th>\n",
       "      <td>finance</td>\n",
       "      <td>Standard Capital: Partners with SolidBlock Sta...</td>\n",
       "      <td>fintechinshorts</td>\n",
       "      <td>https://www.fintechinshorts.com/standard-capit...</td>\n",
       "      <td>1</td>\n",
       "      <td>1.0</td>\n",
       "      <td>2021-01-01 11:31:29</td>\n",
       "    </tr>\n",
       "    <tr>\n",
       "      <th>4</th>\n",
       "      <td>finance</td>\n",
       "      <td>5 things every trader needs to know</td>\n",
       "      <td>Aversionsfall</td>\n",
       "      <td>https://yvestalksbitcoin.com/2021/01/01/5-thin...</td>\n",
       "      <td>0</td>\n",
       "      <td>0.4</td>\n",
       "      <td>2021-01-01 11:50:54</td>\n",
       "    </tr>\n",
       "  </tbody>\n",
       "</table>\n",
       "</div>"
      ],
      "text/plain": [
       "  subreddit                                              title  \\\n",
       "0   finance  Tech's top seven companies added $3.4 trillion...   \n",
       "1   finance  Mogo: Establishes ATM Equity Program Mogo a fi...   \n",
       "2   finance  NYSE to delist three Chinese telecom firms, ci...   \n",
       "3   finance  Standard Capital: Partners with SolidBlock Sta...   \n",
       "4   finance                5 things every trader needs to know   \n",
       "\n",
       "            author                                           ext_link  score  \\\n",
       "0      Obrocheetah                                               None      1   \n",
       "1  fintechinshorts  https://www.fintechinshorts.com/mogo-establish...      1   \n",
       "2           QQQult  https://www.theguardian.com/business/2021/jan/...      1   \n",
       "3  fintechinshorts  https://www.fintechinshorts.com/standard-capit...      1   \n",
       "4    Aversionsfall  https://yvestalksbitcoin.com/2021/01/01/5-thin...      0   \n",
       "\n",
       "   upvote_ratio        posting_time  \n",
       "0           1.0 2021-01-01 07:57:48  \n",
       "1           1.0 2021-01-01 08:31:53  \n",
       "2           1.0 2021-01-01 09:53:39  \n",
       "3           1.0 2021-01-01 11:31:29  \n",
       "4           0.4 2021-01-01 11:50:54  "
      ]
     },
     "execution_count": 7,
     "metadata": {},
     "output_type": "execute_result"
    }
   ],
   "source": [
    "df['posting_time'] = df['created'].apply(dt.datetime.fromtimestamp)\n",
    "df.drop('created', axis=1, inplace=True)\n",
    "df.head()"
   ]
  },
  {
   "cell_type": "code",
   "execution_count": 16,
   "id": "general-departure",
   "metadata": {},
   "outputs": [],
   "source": [
    "df['posting_year'] = df['posting_time'].dt.year\n",
    "df['posting_month'] = df['posting_time'].dt.month\n",
    "df['posting_date'] = df['posting_time'].dt.day\n",
    "df['posting_date'] = df['posting_time'].dt.day\n",
    "\n",
    "def to_hour(inp):\n",
    "    return inp.hour + (inp.minute/60.) + (inp.second/3600.)\n",
    "\n",
    "df['posting_hour'] = df['posting_time'].apply(to_hour)"
   ]
  },
  {
   "cell_type": "code",
   "execution_count": 21,
   "id": "recreational-pierre",
   "metadata": {},
   "outputs": [],
   "source": [
    "df.drop('posting_time', axis=1, inplace=True)"
   ]
  },
  {
   "cell_type": "markdown",
   "id": "worldwide-graduation",
   "metadata": {},
   "source": [
    "## Extracting the external link"
   ]
  },
  {
   "cell_type": "code",
   "execution_count": 18,
   "id": "aging-heavy",
   "metadata": {},
   "outputs": [],
   "source": [
    "image_file_formats = ['ai','bmp','gif','ico','jpg','jpeg','png','ps','psd','svg','tif','tiff']\n",
    "video_file_formats = ['.3g2','3gp','avi','flv','h264','m4v','mkv','mov','mp4','mpg','mpeg','rm','swf','vob','wmv']"
   ]
  },
  {
   "cell_type": "code",
   "execution_count": 19,
   "id": "collect-vocabulary",
   "metadata": {},
   "outputs": [],
   "source": [
    "def get_ext_media(inp):\n",
    "    if inp == None:\n",
    "        last_term = 'None'\n",
    "    else:\n",
    "        last_term = inp.split('.')[-1]\n",
    "        \n",
    "    if (last_term in image_file_formats) or (last_term in video_file_formats):\n",
    "        out = 1\n",
    "    else:\n",
    "        out = 0\n",
    "    return out\n",
    "\n",
    "df['ext_link_media'] = df['ext_link'].apply(get_ext_media)"
   ]
  },
  {
   "cell_type": "code",
   "execution_count": 25,
   "id": "compact-madness",
   "metadata": {},
   "outputs": [],
   "source": [
    "def get_ext_web(inp):\n",
    "    if inp == None:\n",
    "        last_term = 'None'\n",
    "    else:\n",
    "        last_term = inp.split('.')[-1]\n",
    "\n",
    "    if (last_term not in image_file_formats+video_file_formats) and (last_term != 'None'):\n",
    "        out = 1\n",
    "    else:\n",
    "        out = 0\n",
    "    return out\n",
    "\n",
    "df['ext_link_web'] = df['ext_link'].apply(get_ext_web)"
   ]
  },
  {
   "cell_type": "code",
   "execution_count": 29,
   "id": "beautiful-statement",
   "metadata": {},
   "outputs": [],
   "source": [
    "df.drop('ext_link', axis=1, inplace=True)"
   ]
  },
  {
   "cell_type": "code",
   "execution_count": 30,
   "id": "legendary-mozambique",
   "metadata": {},
   "outputs": [
    {
     "data": {
      "text/html": [
       "<div>\n",
       "<style scoped>\n",
       "    .dataframe tbody tr th:only-of-type {\n",
       "        vertical-align: middle;\n",
       "    }\n",
       "\n",
       "    .dataframe tbody tr th {\n",
       "        vertical-align: top;\n",
       "    }\n",
       "\n",
       "    .dataframe thead th {\n",
       "        text-align: right;\n",
       "    }\n",
       "</style>\n",
       "<table border=\"1\" class=\"dataframe\">\n",
       "  <thead>\n",
       "    <tr style=\"text-align: right;\">\n",
       "      <th></th>\n",
       "      <th>subreddit</th>\n",
       "      <th>title</th>\n",
       "      <th>author</th>\n",
       "      <th>score</th>\n",
       "      <th>upvote_ratio</th>\n",
       "      <th>posting_year</th>\n",
       "      <th>posting_month</th>\n",
       "      <th>posting_date</th>\n",
       "      <th>posting_hour</th>\n",
       "      <th>ext_link_media</th>\n",
       "      <th>ext_link_web</th>\n",
       "    </tr>\n",
       "  </thead>\n",
       "  <tbody>\n",
       "    <tr>\n",
       "      <th>0</th>\n",
       "      <td>finance</td>\n",
       "      <td>Tech's top seven companies added $3.4 trillion...</td>\n",
       "      <td>Obrocheetah</td>\n",
       "      <td>1</td>\n",
       "      <td>1.0</td>\n",
       "      <td>2021</td>\n",
       "      <td>1</td>\n",
       "      <td>1</td>\n",
       "      <td>7.963333</td>\n",
       "      <td>0</td>\n",
       "      <td>0</td>\n",
       "    </tr>\n",
       "    <tr>\n",
       "      <th>1</th>\n",
       "      <td>finance</td>\n",
       "      <td>Mogo: Establishes ATM Equity Program Mogo a fi...</td>\n",
       "      <td>fintechinshorts</td>\n",
       "      <td>1</td>\n",
       "      <td>1.0</td>\n",
       "      <td>2021</td>\n",
       "      <td>1</td>\n",
       "      <td>1</td>\n",
       "      <td>8.531389</td>\n",
       "      <td>0</td>\n",
       "      <td>1</td>\n",
       "    </tr>\n",
       "  </tbody>\n",
       "</table>\n",
       "</div>"
      ],
      "text/plain": [
       "  subreddit                                              title  \\\n",
       "0   finance  Tech's top seven companies added $3.4 trillion...   \n",
       "1   finance  Mogo: Establishes ATM Equity Program Mogo a fi...   \n",
       "\n",
       "            author  score  upvote_ratio  posting_year  posting_month  \\\n",
       "0      Obrocheetah      1           1.0          2021              1   \n",
       "1  fintechinshorts      1           1.0          2021              1   \n",
       "\n",
       "   posting_date  posting_hour  ext_link_media  ext_link_web  \n",
       "0             1      7.963333               0             0  \n",
       "1             1      8.531389               0             1  "
      ]
     },
     "execution_count": 30,
     "metadata": {},
     "output_type": "execute_result"
    }
   ],
   "source": [
    "df.head(2)"
   ]
  },
  {
   "cell_type": "markdown",
   "id": "floral-situation",
   "metadata": {},
   "source": [
    "## Making one-hot-encoding from subreddit forum"
   ]
  },
  {
   "cell_type": "code",
   "execution_count": 38,
   "id": "processed-motion",
   "metadata": {},
   "outputs": [],
   "source": [
    "df = pd.concat([df, pd.get_dummies(df.subreddit, drop_first=True)], axis=1)\n",
    "df.drop('subreddit', axis=1, inplace=True)"
   ]
  },
  {
   "cell_type": "code",
   "execution_count": 39,
   "id": "living-effects",
   "metadata": {},
   "outputs": [
    {
     "data": {
      "text/html": [
       "<div>\n",
       "<style scoped>\n",
       "    .dataframe tbody tr th:only-of-type {\n",
       "        vertical-align: middle;\n",
       "    }\n",
       "\n",
       "    .dataframe tbody tr th {\n",
       "        vertical-align: top;\n",
       "    }\n",
       "\n",
       "    .dataframe thead th {\n",
       "        text-align: right;\n",
       "    }\n",
       "</style>\n",
       "<table border=\"1\" class=\"dataframe\">\n",
       "  <thead>\n",
       "    <tr style=\"text-align: right;\">\n",
       "      <th></th>\n",
       "      <th>title</th>\n",
       "      <th>author</th>\n",
       "      <th>score</th>\n",
       "      <th>upvote_ratio</th>\n",
       "      <th>posting_year</th>\n",
       "      <th>posting_month</th>\n",
       "      <th>posting_date</th>\n",
       "      <th>posting_hour</th>\n",
       "      <th>ext_link_media</th>\n",
       "      <th>ext_link_web</th>\n",
       "      <th>finance</th>\n",
       "      <th>options</th>\n",
       "      <th>pennystocks</th>\n",
       "    </tr>\n",
       "  </thead>\n",
       "  <tbody>\n",
       "    <tr>\n",
       "      <th>0</th>\n",
       "      <td>Tech's top seven companies added $3.4 trillion...</td>\n",
       "      <td>Obrocheetah</td>\n",
       "      <td>1</td>\n",
       "      <td>1.0</td>\n",
       "      <td>2021</td>\n",
       "      <td>1</td>\n",
       "      <td>1</td>\n",
       "      <td>7.963333</td>\n",
       "      <td>0</td>\n",
       "      <td>0</td>\n",
       "      <td>1</td>\n",
       "      <td>0</td>\n",
       "      <td>0</td>\n",
       "    </tr>\n",
       "    <tr>\n",
       "      <th>1</th>\n",
       "      <td>Mogo: Establishes ATM Equity Program Mogo a fi...</td>\n",
       "      <td>fintechinshorts</td>\n",
       "      <td>1</td>\n",
       "      <td>1.0</td>\n",
       "      <td>2021</td>\n",
       "      <td>1</td>\n",
       "      <td>1</td>\n",
       "      <td>8.531389</td>\n",
       "      <td>0</td>\n",
       "      <td>1</td>\n",
       "      <td>1</td>\n",
       "      <td>0</td>\n",
       "      <td>0</td>\n",
       "    </tr>\n",
       "  </tbody>\n",
       "</table>\n",
       "</div>"
      ],
      "text/plain": [
       "                                               title           author  score  \\\n",
       "0  Tech's top seven companies added $3.4 trillion...      Obrocheetah      1   \n",
       "1  Mogo: Establishes ATM Equity Program Mogo a fi...  fintechinshorts      1   \n",
       "\n",
       "   upvote_ratio  posting_year  posting_month  posting_date  posting_hour  \\\n",
       "0           1.0          2021              1             1      7.963333   \n",
       "1           1.0          2021              1             1      8.531389   \n",
       "\n",
       "   ext_link_media  ext_link_web  finance  options  pennystocks  \n",
       "0               0             0        1        0            0  \n",
       "1               0             1        1        0            0  "
      ]
     },
     "execution_count": 39,
     "metadata": {},
     "output_type": "execute_result"
    }
   ],
   "source": [
    "df.head(2)"
   ]
  },
  {
   "cell_type": "markdown",
   "id": "informative-sugar",
   "metadata": {},
   "source": [
    "## Calculate the length of title text"
   ]
  },
  {
   "cell_type": "code",
   "execution_count": 41,
   "id": "tired-coordination",
   "metadata": {},
   "outputs": [],
   "source": [
    "tokenizer = TweetTokenizer()\n",
    "df['tokens'] = df['title'].str.lower().apply(tokenizer.tokenize)\n",
    "df['title_length'] = df['tokens'].apply(len)\n",
    "df.drop('title', axis=1, inplace=True)"
   ]
  },
  {
   "cell_type": "code",
   "execution_count": 42,
   "id": "comparative-assist",
   "metadata": {},
   "outputs": [
    {
     "data": {
      "text/html": [
       "<div>\n",
       "<style scoped>\n",
       "    .dataframe tbody tr th:only-of-type {\n",
       "        vertical-align: middle;\n",
       "    }\n",
       "\n",
       "    .dataframe tbody tr th {\n",
       "        vertical-align: top;\n",
       "    }\n",
       "\n",
       "    .dataframe thead th {\n",
       "        text-align: right;\n",
       "    }\n",
       "</style>\n",
       "<table border=\"1\" class=\"dataframe\">\n",
       "  <thead>\n",
       "    <tr style=\"text-align: right;\">\n",
       "      <th></th>\n",
       "      <th>author</th>\n",
       "      <th>score</th>\n",
       "      <th>upvote_ratio</th>\n",
       "      <th>posting_year</th>\n",
       "      <th>posting_month</th>\n",
       "      <th>posting_date</th>\n",
       "      <th>posting_hour</th>\n",
       "      <th>ext_link_media</th>\n",
       "      <th>ext_link_web</th>\n",
       "      <th>finance</th>\n",
       "      <th>options</th>\n",
       "      <th>pennystocks</th>\n",
       "      <th>tokens</th>\n",
       "      <th>title_length</th>\n",
       "    </tr>\n",
       "  </thead>\n",
       "  <tbody>\n",
       "    <tr>\n",
       "      <th>0</th>\n",
       "      <td>Obrocheetah</td>\n",
       "      <td>1</td>\n",
       "      <td>1.0</td>\n",
       "      <td>2021</td>\n",
       "      <td>1</td>\n",
       "      <td>1</td>\n",
       "      <td>7.963333</td>\n",
       "      <td>0</td>\n",
       "      <td>0</td>\n",
       "      <td>1</td>\n",
       "      <td>0</td>\n",
       "      <td>0</td>\n",
       "      <td>[tech's, top, seven, companies, added, $, 3.4,...</td>\n",
       "      <td>12</td>\n",
       "    </tr>\n",
       "    <tr>\n",
       "      <th>1</th>\n",
       "      <td>fintechinshorts</td>\n",
       "      <td>1</td>\n",
       "      <td>1.0</td>\n",
       "      <td>2021</td>\n",
       "      <td>1</td>\n",
       "      <td>1</td>\n",
       "      <td>8.531389</td>\n",
       "      <td>0</td>\n",
       "      <td>1</td>\n",
       "      <td>1</td>\n",
       "      <td>0</td>\n",
       "      <td>0</td>\n",
       "      <td>[mogo, :, establishes, atm, equity, program, m...</td>\n",
       "      <td>18</td>\n",
       "    </tr>\n",
       "  </tbody>\n",
       "</table>\n",
       "</div>"
      ],
      "text/plain": [
       "            author  score  upvote_ratio  posting_year  posting_month  \\\n",
       "0      Obrocheetah      1           1.0          2021              1   \n",
       "1  fintechinshorts      1           1.0          2021              1   \n",
       "\n",
       "   posting_date  posting_hour  ext_link_media  ext_link_web  finance  options  \\\n",
       "0             1      7.963333               0             0        1        0   \n",
       "1             1      8.531389               0             1        1        0   \n",
       "\n",
       "   pennystocks                                             tokens  \\\n",
       "0            0  [tech's, top, seven, companies, added, $, 3.4,...   \n",
       "1            0  [mogo, :, establishes, atm, equity, program, m...   \n",
       "\n",
       "   title_length  \n",
       "0            12  \n",
       "1            18  "
      ]
     },
     "execution_count": 42,
     "metadata": {},
     "output_type": "execute_result"
    }
   ],
   "source": [
    "df.head(2)"
   ]
  },
  {
   "cell_type": "markdown",
   "id": "third-completion",
   "metadata": {},
   "source": [
    "## Extract author information"
   ]
  },
  {
   "cell_type": "code",
   "execution_count": 43,
   "id": "stretch-cleaners",
   "metadata": {},
   "outputs": [
    {
     "data": {
      "text/plain": [
       "author\n",
       "--------sam           1.000000\n",
       "----The_Truth-----    0.931667\n",
       "---Tsing__Tao---      1.000000\n",
       "--Superb              0.765385\n",
       "--_--_--__--_--_--    0.920000\n",
       "Name: upvote_ratio, dtype: float64"
      ]
     },
     "execution_count": 43,
     "metadata": {},
     "output_type": "execute_result"
    }
   ],
   "source": [
    "author_votes = df.groupby('author').upvote_ratio.mean()\n",
    "author_votes.head()"
   ]
  },
  {
   "cell_type": "code",
   "execution_count": 75,
   "id": "careful-search",
   "metadata": {},
   "outputs": [
    {
     "data": {
      "text/plain": [
       "author\n",
       "--------sam            12.000000\n",
       "----The_Truth-----    118.761905\n",
       "---Tsing__Tao---        1.000000\n",
       "--Superb                6.615385\n",
       "--_--_--__--_--_--     20.000000\n",
       "Name: score, dtype: float64"
      ]
     },
     "execution_count": 75,
     "metadata": {},
     "output_type": "execute_result"
    }
   ],
   "source": [
    "author_scores = df.groupby('author').score.mean()\n",
    "author_scores.head()"
   ]
  },
  {
   "cell_type": "code",
   "execution_count": 70,
   "id": "certain-sailing",
   "metadata": {},
   "outputs": [
    {
     "data": {
      "text/plain": [
       "0.9535735865343123"
      ]
     },
     "execution_count": 70,
     "metadata": {},
     "output_type": "execute_result"
    }
   ],
   "source": [
    "author_votes['[deleted]']"
   ]
  },
  {
   "cell_type": "code",
   "execution_count": 63,
   "id": "potential-ottawa",
   "metadata": {},
   "outputs": [
    {
     "data": {
      "image/png": "[encoded data removed]",
      "text/plain": [
       "<Figure size 432x288 with 1 Axes>"
      ]
     },
     "metadata": {
      "needs_background": "light"
     },
     "output_type": "display_data"
    }
   ],
   "source": [
    "num_post_per_author = df['author'].value_counts().values\n",
    "plt.plot(range(len(num_post_per_author)), num_post_per_author)\n",
    "plt.xscale('log')\n",
    "plt.yscale('log')\n",
    "plt.ylabel('number of posts')\n",
    "plt.xlabel('authors')\n",
    "plt.show()"
   ]
  },
  {
   "cell_type": "code",
   "execution_count": 66,
   "id": "above-camera",
   "metadata": {},
   "outputs": [
    {
     "data": {
      "text/plain": [
       "[deleted]          2317\n",
       "fintechinshorts     492\n",
       "kmuinnovation       178\n",
       "PennyBotWeekly      173\n",
       "Front-Page_News      90\n",
       "Name: author, dtype: int64"
      ]
     },
     "execution_count": 66,
     "metadata": {},
     "output_type": "execute_result"
    }
   ],
   "source": [
    "author_posts = df['author'].value_counts()\n",
    "author_posts.head()"
   ]
  },
  {
   "cell_type": "code",
   "execution_count": 68,
   "id": "internal-chicago",
   "metadata": {},
   "outputs": [
    {
     "data": {
      "text/plain": [
       "True"
      ]
     },
     "execution_count": 68,
     "metadata": {},
     "output_type": "execute_result"
    }
   ],
   "source": [
    "author_posts['fintechinshorts'] > 1"
   ]
  },
  {
   "cell_type": "code",
   "execution_count": 69,
   "id": "popular-lighter",
   "metadata": {},
   "outputs": [
    {
     "data": {
      "text/plain": [
       "1.0"
      ]
     },
     "execution_count": 69,
     "metadata": {},
     "output_type": "execute_result"
    }
   ],
   "source": [
    "author_votes['fintechinshorts']"
   ]
  },
  {
   "cell_type": "code",
   "execution_count": 71,
   "id": "abstract-spiritual",
   "metadata": {},
   "outputs": [],
   "source": [
    "def log_num_posts(author):\n",
    "    return np.log10(author_posts[author])\n",
    "\n",
    "df['log_num_posts'] = df['author'].apply(log_num_posts)"
   ]
  },
  {
   "cell_type": "code",
   "execution_count": 73,
   "id": "active-pioneer",
   "metadata": {},
   "outputs": [],
   "source": [
    "def mean_upvotes(author):\n",
    "    return author_votes[author]\n",
    "\n",
    "df['mean_upvotes'] = df['author'].apply(mean_upvotes)"
   ]
  },
  {
   "cell_type": "code",
   "execution_count": 76,
   "id": "detailed-career",
   "metadata": {},
   "outputs": [],
   "source": [
    "def mean_scores(author):\n",
    "    return author_scores[author]\n",
    "\n",
    "df['mean_scores'] = df['author'].apply(mean_scores)"
   ]
  },
  {
   "cell_type": "code",
   "execution_count": 77,
   "id": "simple-kernel",
   "metadata": {},
   "outputs": [
    {
     "data": {
      "text/html": [
       "<div>\n",
       "<style scoped>\n",
       "    .dataframe tbody tr th:only-of-type {\n",
       "        vertical-align: middle;\n",
       "    }\n",
       "\n",
       "    .dataframe tbody tr th {\n",
       "        vertical-align: top;\n",
       "    }\n",
       "\n",
       "    .dataframe thead th {\n",
       "        text-align: right;\n",
       "    }\n",
       "</style>\n",
       "<table border=\"1\" class=\"dataframe\">\n",
       "  <thead>\n",
       "    <tr style=\"text-align: right;\">\n",
       "      <th></th>\n",
       "      <th>author</th>\n",
       "      <th>score</th>\n",
       "      <th>upvote_ratio</th>\n",
       "      <th>posting_year</th>\n",
       "      <th>posting_month</th>\n",
       "      <th>posting_date</th>\n",
       "      <th>posting_hour</th>\n",
       "      <th>ext_link_media</th>\n",
       "      <th>ext_link_web</th>\n",
       "      <th>finance</th>\n",
       "      <th>options</th>\n",
       "      <th>pennystocks</th>\n",
       "      <th>tokens</th>\n",
       "      <th>title_length</th>\n",
       "      <th>log_num_posts</th>\n",
       "      <th>mean_upvotes</th>\n",
       "      <th>mean_scores</th>\n",
       "    </tr>\n",
       "  </thead>\n",
       "  <tbody>\n",
       "    <tr>\n",
       "      <th>0</th>\n",
       "      <td>Obrocheetah</td>\n",
       "      <td>1</td>\n",
       "      <td>1.0</td>\n",
       "      <td>2021</td>\n",
       "      <td>1</td>\n",
       "      <td>1</td>\n",
       "      <td>7.963333</td>\n",
       "      <td>0</td>\n",
       "      <td>0</td>\n",
       "      <td>1</td>\n",
       "      <td>0</td>\n",
       "      <td>0</td>\n",
       "      <td>[tech's, top, seven, companies, added, $, 3.4,...</td>\n",
       "      <td>12</td>\n",
       "      <td>0.000000</td>\n",
       "      <td>1.0</td>\n",
       "      <td>1.0</td>\n",
       "    </tr>\n",
       "    <tr>\n",
       "      <th>1</th>\n",
       "      <td>fintechinshorts</td>\n",
       "      <td>1</td>\n",
       "      <td>1.0</td>\n",
       "      <td>2021</td>\n",
       "      <td>1</td>\n",
       "      <td>1</td>\n",
       "      <td>8.531389</td>\n",
       "      <td>0</td>\n",
       "      <td>1</td>\n",
       "      <td>1</td>\n",
       "      <td>0</td>\n",
       "      <td>0</td>\n",
       "      <td>[mogo, :, establishes, atm, equity, program, m...</td>\n",
       "      <td>18</td>\n",
       "      <td>2.691965</td>\n",
       "      <td>1.0</td>\n",
       "      <td>1.0</td>\n",
       "    </tr>\n",
       "  </tbody>\n",
       "</table>\n",
       "</div>"
      ],
      "text/plain": [
       "            author  score  upvote_ratio  posting_year  posting_month  \\\n",
       "0      Obrocheetah      1           1.0          2021              1   \n",
       "1  fintechinshorts      1           1.0          2021              1   \n",
       "\n",
       "   posting_date  posting_hour  ext_link_media  ext_link_web  finance  options  \\\n",
       "0             1      7.963333               0             0        1        0   \n",
       "1             1      8.531389               0             1        1        0   \n",
       "\n",
       "   pennystocks                                             tokens  \\\n",
       "0            0  [tech's, top, seven, companies, added, $, 3.4,...   \n",
       "1            0  [mogo, :, establishes, atm, equity, program, m...   \n",
       "\n",
       "   title_length  log_num_posts  mean_upvotes  mean_scores  \n",
       "0            12       0.000000           1.0          1.0  \n",
       "1            18       2.691965           1.0          1.0  "
      ]
     },
     "execution_count": 77,
     "metadata": {},
     "output_type": "execute_result"
    }
   ],
   "source": [
    "df.head(2)"
   ]
  },
  {
   "cell_type": "markdown",
   "id": "marine-accuracy",
   "metadata": {},
   "source": [
    "# Splitting Data into train and test set"
   ]
  },
  {
   "cell_type": "code",
   "execution_count": 81,
   "id": "turkish-bermuda",
   "metadata": {},
   "outputs": [],
   "source": [
    "from sklearn.model_selection import train_test_split\n",
    "\n",
    "X = df.drop(['author', 'score', 'upvote_ratio', 'posting_year', 'tokens'], axis=1)\n",
    "y = df['upvote_ratio']\n",
    "\n",
    "X_train, X_test, y_train, y_test = train_test_split(X, y, test_size=0.2, random_state=101)"
   ]
  },
  {
   "cell_type": "code",
   "execution_count": 85,
   "id": "optimum-nicholas",
   "metadata": {},
   "outputs": [
    {
     "data": {
      "text/plain": [
       "0.392744537322188"
      ]
     },
     "execution_count": 85,
     "metadata": {},
     "output_type": "execute_result"
    }
   ],
   "source": [
    "len(y[y < 1])/len(X_train)"
   ]
  },
  {
   "cell_type": "markdown",
   "id": "western-beaver",
   "metadata": {},
   "source": [
    "## Let's make it classification problem"
   ]
  },
  {
   "cell_type": "code",
   "execution_count": 86,
   "id": "linear-castle",
   "metadata": {},
   "outputs": [],
   "source": [
    "y_train[y_train < 1] = 0\n",
    "y_test[y_test < 1] = 0"
   ]
  },
  {
   "cell_type": "markdown",
   "id": "ignored-horror",
   "metadata": {},
   "source": [
    "## Checking the variance of the data"
   ]
  },
  {
   "cell_type": "code",
   "execution_count": 123,
   "id": "blond-monitoring",
   "metadata": {},
   "outputs": [
    {
     "data": {
      "text/html": [
       "<div>\n",
       "<style scoped>\n",
       "    .dataframe tbody tr th:only-of-type {\n",
       "        vertical-align: middle;\n",
       "    }\n",
       "\n",
       "    .dataframe tbody tr th {\n",
       "        vertical-align: top;\n",
       "    }\n",
       "\n",
       "    .dataframe thead th {\n",
       "        text-align: right;\n",
       "    }\n",
       "</style>\n",
       "<table border=\"1\" class=\"dataframe\">\n",
       "  <thead>\n",
       "    <tr style=\"text-align: right;\">\n",
       "      <th></th>\n",
       "      <th>posting_month</th>\n",
       "      <th>posting_date</th>\n",
       "      <th>posting_hour</th>\n",
       "      <th>ext_link_media</th>\n",
       "      <th>ext_link_web</th>\n",
       "      <th>finance</th>\n",
       "      <th>options</th>\n",
       "      <th>pennystocks</th>\n",
       "      <th>title_length</th>\n",
       "      <th>log_num_posts</th>\n",
       "      <th>mean_upvotes</th>\n",
       "      <th>mean_scores</th>\n",
       "    </tr>\n",
       "  </thead>\n",
       "  <tbody>\n",
       "    <tr>\n",
       "      <th>count</th>\n",
       "      <td>54552.000000</td>\n",
       "      <td>54552.000000</td>\n",
       "      <td>54552.000000</td>\n",
       "      <td>54552.000000</td>\n",
       "      <td>54552.000000</td>\n",
       "      <td>54552.000000</td>\n",
       "      <td>54552.000000</td>\n",
       "      <td>54552.000000</td>\n",
       "      <td>54552.000000</td>\n",
       "      <td>54552.000000</td>\n",
       "      <td>54552.000000</td>\n",
       "      <td>54552.000000</td>\n",
       "    </tr>\n",
       "    <tr>\n",
       "      <th>mean</th>\n",
       "      <td>2.166282</td>\n",
       "      <td>15.024839</td>\n",
       "      <td>13.229619</td>\n",
       "      <td>0.116348</td>\n",
       "      <td>0.883506</td>\n",
       "      <td>0.043481</td>\n",
       "      <td>0.243382</td>\n",
       "      <td>0.710973</td>\n",
       "      <td>10.959653</td>\n",
       "      <td>0.553944</td>\n",
       "      <td>0.919555</td>\n",
       "      <td>25.860538</td>\n",
       "    </tr>\n",
       "    <tr>\n",
       "      <th>std</th>\n",
       "      <td>1.088272</td>\n",
       "      <td>9.130844</td>\n",
       "      <td>5.748649</td>\n",
       "      <td>0.320644</td>\n",
       "      <td>0.320820</td>\n",
       "      <td>0.203940</td>\n",
       "      <td>0.429128</td>\n",
       "      <td>0.453315</td>\n",
       "      <td>9.491823</td>\n",
       "      <td>0.723433</td>\n",
       "      <td>0.124088</td>\n",
       "      <td>231.703401</td>\n",
       "    </tr>\n",
       "    <tr>\n",
       "      <th>min</th>\n",
       "      <td>1.000000</td>\n",
       "      <td>1.000000</td>\n",
       "      <td>0.000556</td>\n",
       "      <td>0.000000</td>\n",
       "      <td>0.000000</td>\n",
       "      <td>0.000000</td>\n",
       "      <td>0.000000</td>\n",
       "      <td>0.000000</td>\n",
       "      <td>1.000000</td>\n",
       "      <td>0.000000</td>\n",
       "      <td>0.050000</td>\n",
       "      <td>0.000000</td>\n",
       "    </tr>\n",
       "    <tr>\n",
       "      <th>25%</th>\n",
       "      <td>1.000000</td>\n",
       "      <td>8.000000</td>\n",
       "      <td>9.812500</td>\n",
       "      <td>0.000000</td>\n",
       "      <td>1.000000</td>\n",
       "      <td>0.000000</td>\n",
       "      <td>0.000000</td>\n",
       "      <td>0.000000</td>\n",
       "      <td>5.000000</td>\n",
       "      <td>0.000000</td>\n",
       "      <td>0.876667</td>\n",
       "      <td>1.000000</td>\n",
       "    </tr>\n",
       "    <tr>\n",
       "      <th>50%</th>\n",
       "      <td>2.000000</td>\n",
       "      <td>14.000000</td>\n",
       "      <td>13.244167</td>\n",
       "      <td>0.000000</td>\n",
       "      <td>1.000000</td>\n",
       "      <td>0.000000</td>\n",
       "      <td>0.000000</td>\n",
       "      <td>1.000000</td>\n",
       "      <td>8.000000</td>\n",
       "      <td>0.301030</td>\n",
       "      <td>0.988387</td>\n",
       "      <td>1.000000</td>\n",
       "    </tr>\n",
       "    <tr>\n",
       "      <th>75%</th>\n",
       "      <td>3.000000</td>\n",
       "      <td>23.000000</td>\n",
       "      <td>17.438264</td>\n",
       "      <td>0.000000</td>\n",
       "      <td>1.000000</td>\n",
       "      <td>0.000000</td>\n",
       "      <td>0.000000</td>\n",
       "      <td>1.000000</td>\n",
       "      <td>14.000000</td>\n",
       "      <td>0.778151</td>\n",
       "      <td>1.000000</td>\n",
       "      <td>6.000000</td>\n",
       "    </tr>\n",
       "    <tr>\n",
       "      <th>max</th>\n",
       "      <td>5.000000</td>\n",
       "      <td>31.000000</td>\n",
       "      <td>23.999167</td>\n",
       "      <td>1.000000</td>\n",
       "      <td>1.000000</td>\n",
       "      <td>1.000000</td>\n",
       "      <td>1.000000</td>\n",
       "      <td>1.000000</td>\n",
       "      <td>138.000000</td>\n",
       "      <td>3.364926</td>\n",
       "      <td>1.000000</td>\n",
       "      <td>20239.000000</td>\n",
       "    </tr>\n",
       "  </tbody>\n",
       "</table>\n",
       "</div>"
      ],
      "text/plain": [
       "       posting_month  posting_date  posting_hour  ext_link_media  \\\n",
       "count   54552.000000  54552.000000  54552.000000    54552.000000   \n",
       "mean        2.166282     15.024839     13.229619        0.116348   \n",
       "std         1.088272      9.130844      5.748649        0.320644   \n",
       "min         1.000000      1.000000      0.000556        0.000000   \n",
       "25%         1.000000      8.000000      9.812500        0.000000   \n",
       "50%         2.000000     14.000000     13.244167        0.000000   \n",
       "75%         3.000000     23.000000     17.438264        0.000000   \n",
       "max         5.000000     31.000000     23.999167        1.000000   \n",
       "\n",
       "       ext_link_web       finance       options   pennystocks  title_length  \\\n",
       "count  54552.000000  54552.000000  54552.000000  54552.000000  54552.000000   \n",
       "mean       0.883506      0.043481      0.243382      0.710973     10.959653   \n",
       "std        0.320820      0.203940      0.429128      0.453315      9.491823   \n",
       "min        0.000000      0.000000      0.000000      0.000000      1.000000   \n",
       "25%        1.000000      0.000000      0.000000      0.000000      5.000000   \n",
       "50%        1.000000      0.000000      0.000000      1.000000      8.000000   \n",
       "75%        1.000000      0.000000      0.000000      1.000000     14.000000   \n",
       "max        1.000000      1.000000      1.000000      1.000000    138.000000   \n",
       "\n",
       "       log_num_posts  mean_upvotes   mean_scores  \n",
       "count   54552.000000  54552.000000  54552.000000  \n",
       "mean        0.553944      0.919555     25.860538  \n",
       "std         0.723433      0.124088    231.703401  \n",
       "min         0.000000      0.050000      0.000000  \n",
       "25%         0.000000      0.876667      1.000000  \n",
       "50%         0.301030      0.988387      1.000000  \n",
       "75%         0.778151      1.000000      6.000000  \n",
       "max         3.364926      1.000000  20239.000000  "
      ]
     },
     "execution_count": 123,
     "metadata": {},
     "output_type": "execute_result"
    }
   ],
   "source": [
    "X_train.describe()"
   ]
  },
  {
   "cell_type": "markdown",
   "id": "hungarian-tonight",
   "metadata": {},
   "source": [
    "## Scaling the continuum features"
   ]
  },
  {
   "cell_type": "code",
   "execution_count": 124,
   "id": "czech-episode",
   "metadata": {},
   "outputs": [
    {
     "data": {
      "text/plain": [
       "Index(['posting_month', 'posting_date', 'posting_hour', 'ext_link_media',\n",
       "       'ext_link_web', 'finance', 'options', 'pennystocks', 'title_length',\n",
       "       'log_num_posts', 'mean_upvotes', 'mean_scores'],\n",
       "      dtype='object')"
      ]
     },
     "execution_count": 124,
     "metadata": {},
     "output_type": "execute_result"
    }
   ],
   "source": [
    "X_train.columns"
   ]
  },
  {
   "cell_type": "code",
   "execution_count": 127,
   "id": "interesting-cameroon",
   "metadata": {},
   "outputs": [
    {
     "name": "stderr",
     "output_type": "stream",
     "text": [
      "<ipython-input-127-880f9fa1de29>:9: SettingWithCopyWarning: \n",
      "A value is trying to be set on a copy of a slice from a DataFrame.\n",
      "Try using .loc[row_indexer,col_indexer] = value instead\n",
      "\n",
      "See the caveats in the documentation: https://pandas.pydata.org/pandas-docs/stable/user_guide/indexing.html#returning-a-view-versus-a-copy\n",
      "  X_train[col] = scaler.fit_transform(X_train[col].values.reshape(-1,1))\n",
      "<ipython-input-127-880f9fa1de29>:10: SettingWithCopyWarning: \n",
      "A value is trying to be set on a copy of a slice from a DataFrame.\n",
      "Try using .loc[row_indexer,col_indexer] = value instead\n",
      "\n",
      "See the caveats in the documentation: https://pandas.pydata.org/pandas-docs/stable/user_guide/indexing.html#returning-a-view-versus-a-copy\n",
      "  X_test[col]  = scaler.transform(X_test[col].values.reshape(-1,1))\n",
      "<ipython-input-127-880f9fa1de29>:9: SettingWithCopyWarning: \n",
      "A value is trying to be set on a copy of a slice from a DataFrame.\n",
      "Try using .loc[row_indexer,col_indexer] = value instead\n",
      "\n",
      "See the caveats in the documentation: https://pandas.pydata.org/pandas-docs/stable/user_guide/indexing.html#returning-a-view-versus-a-copy\n",
      "  X_train[col] = scaler.fit_transform(X_train[col].values.reshape(-1,1))\n",
      "<ipython-input-127-880f9fa1de29>:10: SettingWithCopyWarning: \n",
      "A value is trying to be set on a copy of a slice from a DataFrame.\n",
      "Try using .loc[row_indexer,col_indexer] = value instead\n",
      "\n",
      "See the caveats in the documentation: https://pandas.pydata.org/pandas-docs/stable/user_guide/indexing.html#returning-a-view-versus-a-copy\n",
      "  X_test[col]  = scaler.transform(X_test[col].values.reshape(-1,1))\n",
      "<ipython-input-127-880f9fa1de29>:9: SettingWithCopyWarning: \n",
      "A value is trying to be set on a copy of a slice from a DataFrame.\n",
      "Try using .loc[row_indexer,col_indexer] = value instead\n",
      "\n",
      "See the caveats in the documentation: https://pandas.pydata.org/pandas-docs/stable/user_guide/indexing.html#returning-a-view-versus-a-copy\n",
      "  X_train[col] = scaler.fit_transform(X_train[col].values.reshape(-1,1))\n",
      "<ipython-input-127-880f9fa1de29>:10: SettingWithCopyWarning: \n",
      "A value is trying to be set on a copy of a slice from a DataFrame.\n",
      "Try using .loc[row_indexer,col_indexer] = value instead\n",
      "\n",
      "See the caveats in the documentation: https://pandas.pydata.org/pandas-docs/stable/user_guide/indexing.html#returning-a-view-versus-a-copy\n",
      "  X_test[col]  = scaler.transform(X_test[col].values.reshape(-1,1))\n",
      "<ipython-input-127-880f9fa1de29>:9: SettingWithCopyWarning: \n",
      "A value is trying to be set on a copy of a slice from a DataFrame.\n",
      "Try using .loc[row_indexer,col_indexer] = value instead\n",
      "\n",
      "See the caveats in the documentation: https://pandas.pydata.org/pandas-docs/stable/user_guide/indexing.html#returning-a-view-versus-a-copy\n",
      "  X_train[col] = scaler.fit_transform(X_train[col].values.reshape(-1,1))\n",
      "<ipython-input-127-880f9fa1de29>:10: SettingWithCopyWarning: \n",
      "A value is trying to be set on a copy of a slice from a DataFrame.\n",
      "Try using .loc[row_indexer,col_indexer] = value instead\n",
      "\n",
      "See the caveats in the documentation: https://pandas.pydata.org/pandas-docs/stable/user_guide/indexing.html#returning-a-view-versus-a-copy\n",
      "  X_test[col]  = scaler.transform(X_test[col].values.reshape(-1,1))\n",
      "<ipython-input-127-880f9fa1de29>:9: SettingWithCopyWarning: \n",
      "A value is trying to be set on a copy of a slice from a DataFrame.\n",
      "Try using .loc[row_indexer,col_indexer] = value instead\n",
      "\n",
      "See the caveats in the documentation: https://pandas.pydata.org/pandas-docs/stable/user_guide/indexing.html#returning-a-view-versus-a-copy\n",
      "  X_train[col] = scaler.fit_transform(X_train[col].values.reshape(-1,1))\n",
      "<ipython-input-127-880f9fa1de29>:10: SettingWithCopyWarning: \n",
      "A value is trying to be set on a copy of a slice from a DataFrame.\n",
      "Try using .loc[row_indexer,col_indexer] = value instead\n",
      "\n",
      "See the caveats in the documentation: https://pandas.pydata.org/pandas-docs/stable/user_guide/indexing.html#returning-a-view-versus-a-copy\n",
      "  X_test[col]  = scaler.transform(X_test[col].values.reshape(-1,1))\n"
     ]
    }
   ],
   "source": [
    "from sklearn.preprocessing import StandardScaler\n",
    "\n",
    "scaled_cols = ['posting_month','posting_date','posting_hour','title_length','mean_scores']\n",
    "\n",
    "for col in scaled_cols:\n",
    "\n",
    "    scaler = StandardScaler()\n",
    "\n",
    "    X_train[col] = scaler.fit_transform(X_train[col].values.reshape(-1,1))\n",
    "    X_test[col]  = scaler.transform(X_test[col].values.reshape(-1,1))"
   ]
  },
  {
   "cell_type": "code",
   "execution_count": 128,
   "id": "dominican-invitation",
   "metadata": {},
   "outputs": [
    {
     "data": {
      "text/html": [
       "<div>\n",
       "<style scoped>\n",
       "    .dataframe tbody tr th:only-of-type {\n",
       "        vertical-align: middle;\n",
       "    }\n",
       "\n",
       "    .dataframe tbody tr th {\n",
       "        vertical-align: top;\n",
       "    }\n",
       "\n",
       "    .dataframe thead th {\n",
       "        text-align: right;\n",
       "    }\n",
       "</style>\n",
       "<table border=\"1\" class=\"dataframe\">\n",
       "  <thead>\n",
       "    <tr style=\"text-align: right;\">\n",
       "      <th></th>\n",
       "      <th>posting_month</th>\n",
       "      <th>posting_date</th>\n",
       "      <th>posting_hour</th>\n",
       "      <th>ext_link_media</th>\n",
       "      <th>ext_link_web</th>\n",
       "      <th>finance</th>\n",
       "      <th>options</th>\n",
       "      <th>pennystocks</th>\n",
       "      <th>title_length</th>\n",
       "      <th>log_num_posts</th>\n",
       "      <th>mean_upvotes</th>\n",
       "      <th>mean_scores</th>\n",
       "    </tr>\n",
       "  </thead>\n",
       "  <tbody>\n",
       "    <tr>\n",
       "      <th>count</th>\n",
       "      <td>5.455200e+04</td>\n",
       "      <td>5.455200e+04</td>\n",
       "      <td>5.455200e+04</td>\n",
       "      <td>54552.000000</td>\n",
       "      <td>54552.000000</td>\n",
       "      <td>54552.000000</td>\n",
       "      <td>54552.000000</td>\n",
       "      <td>54552.000000</td>\n",
       "      <td>5.455200e+04</td>\n",
       "      <td>54552.000000</td>\n",
       "      <td>54552.000000</td>\n",
       "      <td>5.455200e+04</td>\n",
       "    </tr>\n",
       "    <tr>\n",
       "      <th>mean</th>\n",
       "      <td>1.372841e-16</td>\n",
       "      <td>-2.500810e-17</td>\n",
       "      <td>-6.857691e-17</td>\n",
       "      <td>0.116348</td>\n",
       "      <td>0.883506</td>\n",
       "      <td>0.043481</td>\n",
       "      <td>0.243382</td>\n",
       "      <td>0.710973</td>\n",
       "      <td>9.697153e-17</td>\n",
       "      <td>0.553944</td>\n",
       "      <td>0.919555</td>\n",
       "      <td>4.819270e-18</td>\n",
       "    </tr>\n",
       "    <tr>\n",
       "      <th>std</th>\n",
       "      <td>1.000009e+00</td>\n",
       "      <td>1.000009e+00</td>\n",
       "      <td>1.000009e+00</td>\n",
       "      <td>0.320644</td>\n",
       "      <td>0.320820</td>\n",
       "      <td>0.203940</td>\n",
       "      <td>0.429128</td>\n",
       "      <td>0.453315</td>\n",
       "      <td>1.000009e+00</td>\n",
       "      <td>0.723433</td>\n",
       "      <td>0.124088</td>\n",
       "      <td>1.000009e+00</td>\n",
       "    </tr>\n",
       "    <tr>\n",
       "      <th>min</th>\n",
       "      <td>-1.071692e+00</td>\n",
       "      <td>-1.535999e+00</td>\n",
       "      <td>-2.301269e+00</td>\n",
       "      <td>0.000000</td>\n",
       "      <td>0.000000</td>\n",
       "      <td>0.000000</td>\n",
       "      <td>0.000000</td>\n",
       "      <td>0.000000</td>\n",
       "      <td>-1.049297e+00</td>\n",
       "      <td>0.000000</td>\n",
       "      <td>0.050000</td>\n",
       "      <td>-1.116115e-01</td>\n",
       "    </tr>\n",
       "    <tr>\n",
       "      <th>25%</th>\n",
       "      <td>-1.071692e+00</td>\n",
       "      <td>-7.693596e-01</td>\n",
       "      <td>-5.944268e-01</td>\n",
       "      <td>0.000000</td>\n",
       "      <td>1.000000</td>\n",
       "      <td>0.000000</td>\n",
       "      <td>0.000000</td>\n",
       "      <td>0.000000</td>\n",
       "      <td>-6.278781e-01</td>\n",
       "      <td>0.000000</td>\n",
       "      <td>0.876667</td>\n",
       "      <td>-1.072956e-01</td>\n",
       "    </tr>\n",
       "    <tr>\n",
       "      <th>50%</th>\n",
       "      <td>-1.527957e-01</td>\n",
       "      <td>-1.122402e-01</td>\n",
       "      <td>2.530589e-03</td>\n",
       "      <td>0.000000</td>\n",
       "      <td>1.000000</td>\n",
       "      <td>0.000000</td>\n",
       "      <td>0.000000</td>\n",
       "      <td>1.000000</td>\n",
       "      <td>-3.118137e-01</td>\n",
       "      <td>0.301030</td>\n",
       "      <td>0.988387</td>\n",
       "      <td>-1.072956e-01</td>\n",
       "    </tr>\n",
       "    <tr>\n",
       "      <th>75%</th>\n",
       "      <td>7.661010e-01</td>\n",
       "      <td>8.734389e-01</td>\n",
       "      <td>7.321170e-01</td>\n",
       "      <td>0.000000</td>\n",
       "      <td>1.000000</td>\n",
       "      <td>0.000000</td>\n",
       "      <td>0.000000</td>\n",
       "      <td>1.000000</td>\n",
       "      <td>3.203151e-01</td>\n",
       "      <td>0.778151</td>\n",
       "      <td>1.000000</td>\n",
       "      <td>-8.571614e-02</td>\n",
       "    </tr>\n",
       "    <tr>\n",
       "      <th>max</th>\n",
       "      <td>2.603894e+00</td>\n",
       "      <td>1.749598e+00</td>\n",
       "      <td>1.873422e+00</td>\n",
       "      <td>1.000000</td>\n",
       "      <td>1.000000</td>\n",
       "      <td>1.000000</td>\n",
       "      <td>1.000000</td>\n",
       "      <td>1.000000</td>\n",
       "      <td>1.338431e+01</td>\n",
       "      <td>3.364926</td>\n",
       "      <td>1.000000</td>\n",
       "      <td>8.723793e+01</td>\n",
       "    </tr>\n",
       "  </tbody>\n",
       "</table>\n",
       "</div>"
      ],
      "text/plain": [
       "       posting_month  posting_date  posting_hour  ext_link_media  \\\n",
       "count   5.455200e+04  5.455200e+04  5.455200e+04    54552.000000   \n",
       "mean    1.372841e-16 -2.500810e-17 -6.857691e-17        0.116348   \n",
       "std     1.000009e+00  1.000009e+00  1.000009e+00        0.320644   \n",
       "min    -1.071692e+00 -1.535999e+00 -2.301269e+00        0.000000   \n",
       "25%    -1.071692e+00 -7.693596e-01 -5.944268e-01        0.000000   \n",
       "50%    -1.527957e-01 -1.122402e-01  2.530589e-03        0.000000   \n",
       "75%     7.661010e-01  8.734389e-01  7.321170e-01        0.000000   \n",
       "max     2.603894e+00  1.749598e+00  1.873422e+00        1.000000   \n",
       "\n",
       "       ext_link_web       finance       options   pennystocks  title_length  \\\n",
       "count  54552.000000  54552.000000  54552.000000  54552.000000  5.455200e+04   \n",
       "mean       0.883506      0.043481      0.243382      0.710973  9.697153e-17   \n",
       "std        0.320820      0.203940      0.429128      0.453315  1.000009e+00   \n",
       "min        0.000000      0.000000      0.000000      0.000000 -1.049297e+00   \n",
       "25%        1.000000      0.000000      0.000000      0.000000 -6.278781e-01   \n",
       "50%        1.000000      0.000000      0.000000      1.000000 -3.118137e-01   \n",
       "75%        1.000000      0.000000      0.000000      1.000000  3.203151e-01   \n",
       "max        1.000000      1.000000      1.000000      1.000000  1.338431e+01   \n",
       "\n",
       "       log_num_posts  mean_upvotes   mean_scores  \n",
       "count   54552.000000  54552.000000  5.455200e+04  \n",
       "mean        0.553944      0.919555  4.819270e-18  \n",
       "std         0.723433      0.124088  1.000009e+00  \n",
       "min         0.000000      0.050000 -1.116115e-01  \n",
       "25%         0.000000      0.876667 -1.072956e-01  \n",
       "50%         0.301030      0.988387 -1.072956e-01  \n",
       "75%         0.778151      1.000000 -8.571614e-02  \n",
       "max         3.364926      1.000000  8.723793e+01  "
      ]
     },
     "execution_count": 128,
     "metadata": {},
     "output_type": "execute_result"
    }
   ],
   "source": [
    "X_train.describe()"
   ]
  },
  {
   "cell_type": "markdown",
   "id": "transparent-minute",
   "metadata": {},
   "source": [
    "# Modeling"
   ]
  },
  {
   "cell_type": "markdown",
   "id": "round-check",
   "metadata": {},
   "source": [
    "## Logistic Regression"
   ]
  },
  {
   "cell_type": "code",
   "execution_count": 129,
   "id": "toxic-tuner",
   "metadata": {},
   "outputs": [
    {
     "data": {
      "text/plain": [
       "GridSearchCV(estimator=LogisticRegression(max_iter=10000, solver='liblinear'),\n",
       "             param_grid={'C': [1, 10, 100, 1000], 'penalty': ['l1', 'l2']})"
      ]
     },
     "execution_count": 129,
     "metadata": {},
     "output_type": "execute_result"
    }
   ],
   "source": [
    "logreg = LogisticRegression(max_iter=10000, solver='liblinear')\n",
    "param_grid = {'C': [1,10,100,1000],\n",
    "              'penalty': ['l1','l2']}\n",
    "gs = GridSearchCV(logreg, param_grid=param_grid)\n",
    "gs.fit(X_train, y_train)"
   ]
  },
  {
   "cell_type": "code",
   "execution_count": 130,
   "id": "frank-terrain",
   "metadata": {},
   "outputs": [
    {
     "data": {
      "text/plain": [
       "{'C': 100, 'penalty': 'l2'}"
      ]
     },
     "execution_count": 130,
     "metadata": {},
     "output_type": "execute_result"
    }
   ],
   "source": [
    "gs.best_params_"
   ]
  },
  {
   "cell_type": "code",
   "execution_count": 131,
   "id": "ahead-tradition",
   "metadata": {},
   "outputs": [
    {
     "data": {
      "text/plain": [
       "0.830693625560226"
      ]
     },
     "execution_count": 131,
     "metadata": {},
     "output_type": "execute_result"
    }
   ],
   "source": [
    "gs.best_score_"
   ]
  },
  {
   "cell_type": "code",
   "execution_count": 133,
   "id": "traditional-liver",
   "metadata": {},
   "outputs": [
    {
     "data": {
      "text/plain": [
       "0.8320868162487168"
      ]
     },
     "execution_count": 133,
     "metadata": {},
     "output_type": "execute_result"
    }
   ],
   "source": [
    "y_pred = gs.predict(X_test)\n",
    "accuracy_score(y_test, y_pred)"
   ]
  },
  {
   "cell_type": "code",
   "execution_count": null,
   "id": "wrapped-optimization",
   "metadata": {},
   "outputs": [],
   "source": [
    "from sklearn.metrics import plot_roc_curve\n",
    "\n",
    "plot_roc_curve"
   ]
  },
  {
   "cell_type": "markdown",
   "id": "sensitive-coordinator",
   "metadata": {},
   "source": [
    "## Random Forest"
   ]
  },
  {
   "cell_type": "code",
   "execution_count": 157,
   "id": "valid-interaction",
   "metadata": {},
   "outputs": [
    {
     "data": {
      "text/plain": [
       "GridSearchCV(estimator=RandomForestClassifier(),\n",
       "             param_grid={'max_depth': [5, 10, 20]})"
      ]
     },
     "execution_count": 157,
     "metadata": {},
     "output_type": "execute_result"
    }
   ],
   "source": [
    "from sklearn.ensemble import RandomForestClassifier\n",
    "\n",
    "rfc = RandomForestClassifier()\n",
    "\n",
    "param_grid = {'max_depth': [5, 10, 20]}\n",
    "\n",
    "gs = GridSearchCV(rfc, param_grid=param_grid)\n",
    "\n",
    "gs.fit(X_train, y_train)"
   ]
  },
  {
   "cell_type": "code",
   "execution_count": 158,
   "id": "natural-facility",
   "metadata": {},
   "outputs": [
    {
     "data": {
      "text/plain": [
       "{'max_depth': 10}"
      ]
     },
     "execution_count": 158,
     "metadata": {},
     "output_type": "execute_result"
    }
   ],
   "source": [
    "gs.best_params_"
   ]
  },
  {
   "cell_type": "code",
   "execution_count": 159,
   "id": "loaded-filing",
   "metadata": {},
   "outputs": [
    {
     "data": {
      "text/plain": [
       "0.8767230994276582"
      ]
     },
     "execution_count": 159,
     "metadata": {},
     "output_type": "execute_result"
    }
   ],
   "source": [
    "gs.best_score_"
   ]
  },
  {
   "cell_type": "code",
   "execution_count": 160,
   "id": "interpreted-greenhouse",
   "metadata": {},
   "outputs": [
    {
     "data": {
      "text/plain": [
       "0.8751283179351811"
      ]
     },
     "execution_count": 160,
     "metadata": {},
     "output_type": "execute_result"
    }
   ],
   "source": [
    "y_pred = gs.predict(X_test)\n",
    "accuracy_score(y_test, y_pred)"
   ]
  },
  {
   "cell_type": "markdown",
   "id": "conceptual-disorder",
   "metadata": {},
   "source": [
    "## XGBoost"
   ]
  },
  {
   "cell_type": "code",
   "execution_count": 153,
   "id": "enhanced-representative",
   "metadata": {},
   "outputs": [
    {
     "name": "stderr",
     "output_type": "stream",
     "text": [
      "/Users/dutomo/miniconda3/lib/python3.8/site-packages/xgboost/sklearn.py:888: UserWarning: The use of label encoder in XGBClassifier is deprecated and will be removed in a future release. To remove this warning, do the following: 1) Pass option use_label_encoder=False when constructing XGBClassifier object; and 2) Encode your labels (y) as integers starting with 0, i.e. 0, 1, 2, ..., [num_class - 1].\n",
      "  warnings.warn(label_encoder_deprecation_msg, UserWarning)\n"
     ]
    },
    {
     "data": {
      "text/plain": [
       "GridSearchCV(estimator=XGBClassifier(base_score=None, booster=None,\n",
       "                                     colsample_bylevel=None,\n",
       "                                     colsample_bynode=None,\n",
       "                                     colsample_bytree=None, gamma=None,\n",
       "                                     gpu_id=None, importance_type='gain',\n",
       "                                     interaction_constraints=None,\n",
       "                                     learning_rate=None, max_delta_step=None,\n",
       "                                     max_depth=None, min_child_weight=None,\n",
       "                                     missing=nan, monotone_constraints=None,\n",
       "                                     n_estimators=100, n_jobs=None,\n",
       "                                     num_parallel_tree=None, random_state=None,\n",
       "                                     reg_alpha=None, reg_lambda=None,\n",
       "                                     scale_pos_weight=None, subsample=None,\n",
       "                                     tree_method=None, validate_parameters=None,\n",
       "                                     verbosity=0),\n",
       "             param_grid={'max_depth': [1, 5, 10]})"
      ]
     },
     "execution_count": 153,
     "metadata": {},
     "output_type": "execute_result"
    }
   ],
   "source": [
    "from xgboost import XGBClassifier\n",
    "\n",
    "xgb = XGBClassifier(verbosity=0)\n",
    "\n",
    "param_grid = {'max_depth': [1, 5, 10]}\n",
    "\n",
    "gs = GridSearchCV(xgb, param_grid=param_grid)\n",
    "\n",
    "gs.fit(X_train, y_train)"
   ]
  },
  {
   "cell_type": "code",
   "execution_count": 154,
   "id": "functioning-reception",
   "metadata": {},
   "outputs": [
    {
     "data": {
      "text/plain": [
       "{'max_depth': 5}"
      ]
     },
     "execution_count": 154,
     "metadata": {},
     "output_type": "execute_result"
    }
   ],
   "source": [
    "gs.best_params_"
   ]
  },
  {
   "cell_type": "code",
   "execution_count": 155,
   "id": "meaning-bruce",
   "metadata": {},
   "outputs": [
    {
     "data": {
      "text/plain": [
       "0.8757332659268589"
      ]
     },
     "execution_count": 155,
     "metadata": {},
     "output_type": "execute_result"
    }
   ],
   "source": [
    "gs.best_score_"
   ]
  },
  {
   "cell_type": "code",
   "execution_count": 156,
   "id": "documented-legend",
   "metadata": {},
   "outputs": [
    {
     "data": {
      "text/plain": [
       "0.8753482915383487"
      ]
     },
     "execution_count": 156,
     "metadata": {},
     "output_type": "execute_result"
    }
   ],
   "source": [
    "y_pred = gs.predict(X_test)\n",
    "accuracy_score(y_test, y_pred)"
   ]
  },
  {
   "cell_type": "code",
   "execution_count": null,
   "id": "processed-benjamin",
   "metadata": {},
   "outputs": [],
   "source": []
  }
 ],
 "metadata": {
  "kernelspec": {
   "display_name": "Python 3",
   "language": "python",
   "name": "python3"
  },
  "language_info": {
   "codemirror_mode": {
    "name": "ipython",
    "version": 3
   },
   "file_extension": ".py",
   "mimetype": "text/x-python",
   "name": "python",
   "nbconvert_exporter": "python",
   "pygments_lexer": "ipython3",
   "version": "3.8.5"
  }
 },
 "nbformat": 4,
 "nbformat_minor": 5
}
