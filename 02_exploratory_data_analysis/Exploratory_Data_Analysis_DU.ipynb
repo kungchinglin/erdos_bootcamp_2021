{
 "cells": [
  {
   "cell_type": "code",
   "execution_count": 1,
   "id": "mature-treatment",
   "metadata": {},
   "outputs": [],
   "source": [
    "import pandas as pd\n",
    "import sqlite3\n",
    "import numpy as np\n",
    "import datetime as dt"
   ]
  },
  {
   "cell_type": "code",
   "execution_count": 2,
   "id": "operating-street",
   "metadata": {},
   "outputs": [
    {
     "data": {
      "text/html": [
       "<div>\n",
       "<style scoped>\n",
       "    .dataframe tbody tr th:only-of-type {\n",
       "        vertical-align: middle;\n",
       "    }\n",
       "\n",
       "    .dataframe tbody tr th {\n",
       "        vertical-align: top;\n",
       "    }\n",
       "\n",
       "    .dataframe thead th {\n",
       "        text-align: right;\n",
       "    }\n",
       "</style>\n",
       "<table border=\"1\" class=\"dataframe\">\n",
       "  <thead>\n",
       "    <tr style=\"text-align: right;\">\n",
       "      <th></th>\n",
       "      <th>id</th>\n",
       "      <th>subreddit</th>\n",
       "      <th>title</th>\n",
       "      <th>author</th>\n",
       "      <th>url</th>\n",
       "      <th>created</th>\n",
       "      <th>ext_link</th>\n",
       "      <th>id</th>\n",
       "      <th>body</th>\n",
       "      <th>score</th>\n",
       "      <th>upvote_ratio</th>\n",
       "    </tr>\n",
       "  </thead>\n",
       "  <tbody>\n",
       "    <tr>\n",
       "      <th>0</th>\n",
       "      <td>koaw8g</td>\n",
       "      <td>finance</td>\n",
       "      <td>Tech's top seven companies added $3.4 trillion...</td>\n",
       "      <td>Obrocheetah</td>\n",
       "      <td>https://www.reddit.com/r/finance/comments/koaw...</td>\n",
       "      <td>1609505868</td>\n",
       "      <td>None</td>\n",
       "      <td>koaw8g</td>\n",
       "      <td>[deleted]</td>\n",
       "      <td>1</td>\n",
       "      <td>1.0</td>\n",
       "    </tr>\n",
       "    <tr>\n",
       "      <th>1</th>\n",
       "      <td>kobbka</td>\n",
       "      <td>finance</td>\n",
       "      <td>Mogo: Establishes ATM Equity Program Mogo a fi...</td>\n",
       "      <td>fintechinshorts</td>\n",
       "      <td>https://www.reddit.com/r/finance/comments/kobb...</td>\n",
       "      <td>1609507913</td>\n",
       "      <td>https://www.fintechinshorts.com/mogo-establish...</td>\n",
       "      <td>kobbka</td>\n",
       "      <td></td>\n",
       "      <td>1</td>\n",
       "      <td>1.0</td>\n",
       "    </tr>\n",
       "    <tr>\n",
       "      <th>2</th>\n",
       "      <td>koch7k</td>\n",
       "      <td>finance</td>\n",
       "      <td>NYSE to delist three Chinese telecom firms, ci...</td>\n",
       "      <td>QQQult</td>\n",
       "      <td>https://www.reddit.com/r/finance/comments/koch...</td>\n",
       "      <td>1609512819</td>\n",
       "      <td>https://www.theguardian.com/business/2021/jan/...</td>\n",
       "      <td>koch7k</td>\n",
       "      <td>[deleted]</td>\n",
       "      <td>1</td>\n",
       "      <td>1.0</td>\n",
       "    </tr>\n",
       "    <tr>\n",
       "      <th>3</th>\n",
       "      <td>koe39g</td>\n",
       "      <td>finance</td>\n",
       "      <td>Standard Capital: Partners with SolidBlock Sta...</td>\n",
       "      <td>fintechinshorts</td>\n",
       "      <td>https://www.reddit.com/r/finance/comments/koe3...</td>\n",
       "      <td>1609518689</td>\n",
       "      <td>https://www.fintechinshorts.com/standard-capit...</td>\n",
       "      <td>koe39g</td>\n",
       "      <td></td>\n",
       "      <td>1</td>\n",
       "      <td>1.0</td>\n",
       "    </tr>\n",
       "    <tr>\n",
       "      <th>4</th>\n",
       "      <td>koefpv</td>\n",
       "      <td>finance</td>\n",
       "      <td>5 things every trader needs to know</td>\n",
       "      <td>Aversionsfall</td>\n",
       "      <td>https://www.reddit.com/r/finance/comments/koef...</td>\n",
       "      <td>1609519854</td>\n",
       "      <td>https://yvestalksbitcoin.com/2021/01/01/5-thin...</td>\n",
       "      <td>koefpv</td>\n",
       "      <td></td>\n",
       "      <td>0</td>\n",
       "      <td>0.4</td>\n",
       "    </tr>\n",
       "  </tbody>\n",
       "</table>\n",
       "</div>"
      ],
      "text/plain": [
       "       id subreddit                                              title  \\\n",
       "0  koaw8g   finance  Tech's top seven companies added $3.4 trillion...   \n",
       "1  kobbka   finance  Mogo: Establishes ATM Equity Program Mogo a fi...   \n",
       "2  koch7k   finance  NYSE to delist three Chinese telecom firms, ci...   \n",
       "3  koe39g   finance  Standard Capital: Partners with SolidBlock Sta...   \n",
       "4  koefpv   finance                5 things every trader needs to know   \n",
       "\n",
       "            author                                                url  \\\n",
       "0      Obrocheetah  https://www.reddit.com/r/finance/comments/koaw...   \n",
       "1  fintechinshorts  https://www.reddit.com/r/finance/comments/kobb...   \n",
       "2           QQQult  https://www.reddit.com/r/finance/comments/koch...   \n",
       "3  fintechinshorts  https://www.reddit.com/r/finance/comments/koe3...   \n",
       "4    Aversionsfall  https://www.reddit.com/r/finance/comments/koef...   \n",
       "\n",
       "      created                                           ext_link      id  \\\n",
       "0  1609505868                                               None  koaw8g   \n",
       "1  1609507913  https://www.fintechinshorts.com/mogo-establish...  kobbka   \n",
       "2  1609512819  https://www.theguardian.com/business/2021/jan/...  koch7k   \n",
       "3  1609518689  https://www.fintechinshorts.com/standard-capit...  koe39g   \n",
       "4  1609519854  https://yvestalksbitcoin.com/2021/01/01/5-thin...  koefpv   \n",
       "\n",
       "        body  score  upvote_ratio  \n",
       "0  [deleted]      1           1.0  \n",
       "1                 1           1.0  \n",
       "2  [deleted]      1           1.0  \n",
       "3                 1           1.0  \n",
       "4                 0           0.4  "
      ]
     },
     "execution_count": 2,
     "metadata": {},
     "output_type": "execute_result"
    }
   ],
   "source": [
    "conn = sqlite3.connect('redditPosts_KCL.sqlite')\n",
    "\n",
    "query = 'SELECT * FROM Posts P JOIN PostBodyAndScore B ON P.id = B.id'\n",
    "df = pd.read_sql(sql=query, con=conn)\n",
    "df.head()"
   ]
  },
  {
   "cell_type": "code",
   "execution_count": 3,
   "id": "mobile-pencil",
   "metadata": {},
   "outputs": [
    {
     "data": {
      "text/plain": [
       "array(['finance', 'options', 'pennystocks', 'Superstonks', 'GME',\n",
       "       'dogecoin'], dtype=object)"
      ]
     },
     "execution_count": 3,
     "metadata": {},
     "output_type": "execute_result"
    }
   ],
   "source": [
    "df.subreddit.unique()"
   ]
  },
  {
   "cell_type": "code",
   "execution_count": 4,
   "id": "super-gossip",
   "metadata": {},
   "outputs": [],
   "source": [
    "df = df[(df.subreddit == 'Superstonks') |\n",
    "        (df.subreddit == 'finance') |\n",
    "        (df.subreddit == 'options') |\n",
    "        (df.subreddit == 'pennystocks')]"
   ]
  },
  {
   "cell_type": "code",
   "execution_count": 5,
   "id": "numerical-bunny",
   "metadata": {},
   "outputs": [
    {
     "data": {
      "text/html": [
       "<div>\n",
       "<style scoped>\n",
       "    .dataframe tbody tr th:only-of-type {\n",
       "        vertical-align: middle;\n",
       "    }\n",
       "\n",
       "    .dataframe tbody tr th {\n",
       "        vertical-align: top;\n",
       "    }\n",
       "\n",
       "    .dataframe thead th {\n",
       "        text-align: right;\n",
       "    }\n",
       "</style>\n",
       "<table border=\"1\" class=\"dataframe\">\n",
       "  <thead>\n",
       "    <tr style=\"text-align: right;\">\n",
       "      <th></th>\n",
       "      <th>id</th>\n",
       "      <th>subreddit</th>\n",
       "      <th>title</th>\n",
       "      <th>author</th>\n",
       "      <th>url</th>\n",
       "      <th>created</th>\n",
       "      <th>ext_link</th>\n",
       "      <th>id</th>\n",
       "      <th>body</th>\n",
       "      <th>score</th>\n",
       "      <th>upvote_ratio</th>\n",
       "    </tr>\n",
       "  </thead>\n",
       "  <tbody>\n",
       "    <tr>\n",
       "      <th>0</th>\n",
       "      <td>koaw8g</td>\n",
       "      <td>finance</td>\n",
       "      <td>Tech's top seven companies added $3.4 trillion...</td>\n",
       "      <td>Obrocheetah</td>\n",
       "      <td>https://www.reddit.com/r/finance/comments/koaw...</td>\n",
       "      <td>1609505868</td>\n",
       "      <td>None</td>\n",
       "      <td>koaw8g</td>\n",
       "      <td>[deleted]</td>\n",
       "      <td>1</td>\n",
       "      <td>1.0</td>\n",
       "    </tr>\n",
       "    <tr>\n",
       "      <th>1</th>\n",
       "      <td>kobbka</td>\n",
       "      <td>finance</td>\n",
       "      <td>Mogo: Establishes ATM Equity Program Mogo a fi...</td>\n",
       "      <td>fintechinshorts</td>\n",
       "      <td>https://www.reddit.com/r/finance/comments/kobb...</td>\n",
       "      <td>1609507913</td>\n",
       "      <td>https://www.fintechinshorts.com/mogo-establish...</td>\n",
       "      <td>kobbka</td>\n",
       "      <td></td>\n",
       "      <td>1</td>\n",
       "      <td>1.0</td>\n",
       "    </tr>\n",
       "    <tr>\n",
       "      <th>2</th>\n",
       "      <td>koch7k</td>\n",
       "      <td>finance</td>\n",
       "      <td>NYSE to delist three Chinese telecom firms, ci...</td>\n",
       "      <td>QQQult</td>\n",
       "      <td>https://www.reddit.com/r/finance/comments/koch...</td>\n",
       "      <td>1609512819</td>\n",
       "      <td>https://www.theguardian.com/business/2021/jan/...</td>\n",
       "      <td>koch7k</td>\n",
       "      <td>[deleted]</td>\n",
       "      <td>1</td>\n",
       "      <td>1.0</td>\n",
       "    </tr>\n",
       "    <tr>\n",
       "      <th>3</th>\n",
       "      <td>koe39g</td>\n",
       "      <td>finance</td>\n",
       "      <td>Standard Capital: Partners with SolidBlock Sta...</td>\n",
       "      <td>fintechinshorts</td>\n",
       "      <td>https://www.reddit.com/r/finance/comments/koe3...</td>\n",
       "      <td>1609518689</td>\n",
       "      <td>https://www.fintechinshorts.com/standard-capit...</td>\n",
       "      <td>koe39g</td>\n",
       "      <td></td>\n",
       "      <td>1</td>\n",
       "      <td>1.0</td>\n",
       "    </tr>\n",
       "    <tr>\n",
       "      <th>4</th>\n",
       "      <td>koefpv</td>\n",
       "      <td>finance</td>\n",
       "      <td>5 things every trader needs to know</td>\n",
       "      <td>Aversionsfall</td>\n",
       "      <td>https://www.reddit.com/r/finance/comments/koef...</td>\n",
       "      <td>1609519854</td>\n",
       "      <td>https://yvestalksbitcoin.com/2021/01/01/5-thin...</td>\n",
       "      <td>koefpv</td>\n",
       "      <td></td>\n",
       "      <td>0</td>\n",
       "      <td>0.4</td>\n",
       "    </tr>\n",
       "  </tbody>\n",
       "</table>\n",
       "</div>"
      ],
      "text/plain": [
       "       id subreddit                                              title  \\\n",
       "0  koaw8g   finance  Tech's top seven companies added $3.4 trillion...   \n",
       "1  kobbka   finance  Mogo: Establishes ATM Equity Program Mogo a fi...   \n",
       "2  koch7k   finance  NYSE to delist three Chinese telecom firms, ci...   \n",
       "3  koe39g   finance  Standard Capital: Partners with SolidBlock Sta...   \n",
       "4  koefpv   finance                5 things every trader needs to know   \n",
       "\n",
       "            author                                                url  \\\n",
       "0      Obrocheetah  https://www.reddit.com/r/finance/comments/koaw...   \n",
       "1  fintechinshorts  https://www.reddit.com/r/finance/comments/kobb...   \n",
       "2           QQQult  https://www.reddit.com/r/finance/comments/koch...   \n",
       "3  fintechinshorts  https://www.reddit.com/r/finance/comments/koe3...   \n",
       "4    Aversionsfall  https://www.reddit.com/r/finance/comments/koef...   \n",
       "\n",
       "      created                                           ext_link      id  \\\n",
       "0  1609505868                                               None  koaw8g   \n",
       "1  1609507913  https://www.fintechinshorts.com/mogo-establish...  kobbka   \n",
       "2  1609512819  https://www.theguardian.com/business/2021/jan/...  koch7k   \n",
       "3  1609518689  https://www.fintechinshorts.com/standard-capit...  koe39g   \n",
       "4  1609519854  https://yvestalksbitcoin.com/2021/01/01/5-thin...  koefpv   \n",
       "\n",
       "        body  score  upvote_ratio  \n",
       "0  [deleted]      1           1.0  \n",
       "1                 1           1.0  \n",
       "2  [deleted]      1           1.0  \n",
       "3                 1           1.0  \n",
       "4                 0           0.4  "
      ]
     },
     "execution_count": 5,
     "metadata": {},
     "output_type": "execute_result"
    }
   ],
   "source": [
    "df.head()"
   ]
  },
  {
   "cell_type": "markdown",
   "id": "strategic-newfoundland",
   "metadata": {},
   "source": [
    "# Author vs upvote"
   ]
  },
  {
   "cell_type": "code",
   "execution_count": 6,
   "id": "derived-housing",
   "metadata": {},
   "outputs": [
    {
     "data": {
      "text/plain": [
       "author\n",
       "--------sam           1.000000\n",
       "----The_Truth-----    0.931667\n",
       "---Tsing__Tao---      1.000000\n",
       "--Superb              0.765385\n",
       "--_--_--__--_--_--    0.920000\n",
       "Name: upvote_ratio, dtype: float64"
      ]
     },
     "execution_count": 6,
     "metadata": {},
     "output_type": "execute_result"
    }
   ],
   "source": [
    "author_votes = df.groupby('author').upvote_ratio.mean()\n",
    "author_votes.head()"
   ]
  },
  {
   "cell_type": "code",
   "execution_count": 7,
   "id": "greatest-ensemble",
   "metadata": {},
   "outputs": [
    {
     "name": "stdout",
     "output_type": "stream",
     "text": [
      "[1.         0.93166667 1.         ... 0.75       1.         0.6       ]\n"
     ]
    }
   ],
   "source": [
    "print(author_votes.values)"
   ]
  },
  {
   "cell_type": "code",
   "execution_count": 8,
   "id": "pacific-master",
   "metadata": {},
   "outputs": [],
   "source": [
    "authors = author_votes.index.tolist()\n",
    "upvotes = author_votes.values.tolist()"
   ]
  },
  {
   "cell_type": "code",
   "execution_count": 9,
   "id": "amended-blink",
   "metadata": {},
   "outputs": [],
   "source": [
    "# Sorting\n",
    "\n",
    "authors_sorted = [x for _, x in sorted(zip(upvotes, authors))]\n",
    "upvotes_sorted = [y for y, _ in sorted(zip(upvotes, authors))]"
   ]
  },
  {
   "cell_type": "code",
   "execution_count": 10,
   "id": "excess-windsor",
   "metadata": {},
   "outputs": [
    {
     "data": {
      "text/plain": [
       "12371"
      ]
     },
     "execution_count": 10,
     "metadata": {},
     "output_type": "execute_result"
    }
   ],
   "source": [
    "(np.array(upvotes_sorted) < 1).sum()"
   ]
  },
  {
   "cell_type": "code",
   "execution_count": 11,
   "id": "valuable-williams",
   "metadata": {},
   "outputs": [
    {
     "data": {
      "text/plain": [
       "0.3466139923229946"
      ]
     },
     "execution_count": 11,
     "metadata": {},
     "output_type": "execute_result"
    }
   ],
   "source": [
    "(np.array(upvotes_sorted) < 1).sum()/len(upvotes_sorted)"
   ]
  },
  {
   "cell_type": "code",
   "execution_count": 12,
   "id": "recovered-practitioner",
   "metadata": {},
   "outputs": [
    {
     "data": {
      "image/png": "[encoded data removed]",
      "text/plain": [
       "<Figure size 720x360 with 1 Axes>"
      ]
     },
     "metadata": {
      "needs_background": "light"
     },
     "output_type": "display_data"
    }
   ],
   "source": [
    "import matplotlib.pyplot as plt\n",
    "\n",
    "fig = plt.figure(figsize=(10,5))\n",
    "\n",
    "plt.plot(range(len(authors_sorted)), upvotes_sorted)\n",
    "\n",
    "plt.xlabel('Sorted authors', fontsize=14)\n",
    "plt.ylabel('Sorted upvotes', fontsize=14)\n",
    "\n",
    "plt.savefig('authors_vs_upvotes.png')\n",
    "plt.show()"
   ]
  },
  {
   "cell_type": "code",
   "execution_count": 13,
   "id": "alternative-prior",
   "metadata": {},
   "outputs": [],
   "source": [
    "author_scores = df.groupby('author').upvote_ratio.mean()\n",
    "\n",
    "authors = author_scores.index.tolist()\n",
    "scores  = author_scores.values.tolist()\n",
    "\n",
    "authors_sorted = [x for _, x in sorted(zip(upvotes, authors))]\n",
    "scores_sorted  = [y for y, _ in sorted(zip(scores,  authors))]"
   ]
  },
  {
   "cell_type": "code",
   "execution_count": 14,
   "id": "million-combat",
   "metadata": {},
   "outputs": [
    {
     "data": {
      "image/png": "[encoded data removed]",
      "text/plain": [
       "<Figure size 720x360 with 1 Axes>"
      ]
     },
     "metadata": {
      "needs_background": "light"
     },
     "output_type": "display_data"
    }
   ],
   "source": [
    "import matplotlib.pyplot as plt\n",
    "\n",
    "fig = plt.figure(figsize=(10,5))\n",
    "\n",
    "plt.plot(range(len(authors_sorted)), scores_sorted)\n",
    "\n",
    "plt.xlabel('Sorted authors', fontsize=14)\n",
    "plt.ylabel('Sorted scores', fontsize=14)\n",
    "\n",
    "plt.show()"
   ]
  },
  {
   "cell_type": "markdown",
   "id": "aggregate-myrtle",
   "metadata": {},
   "source": [
    "# Timing"
   ]
  },
  {
   "cell_type": "code",
   "execution_count": 15,
   "id": "assured-origin",
   "metadata": {},
   "outputs": [
    {
     "data": {
      "text/plain": [
       "1609477200.0"
      ]
     },
     "execution_count": 15,
     "metadata": {},
     "output_type": "execute_result"
    }
   ],
   "source": [
    "dt.datetime(2021,1,1).timestamp()"
   ]
  },
  {
   "cell_type": "code",
   "execution_count": 16,
   "id": "broke-transportation",
   "metadata": {},
   "outputs": [
    {
     "data": {
      "text/plain": [
       "datetime.date(2021, 1, 7)"
      ]
     },
     "execution_count": 16,
     "metadata": {},
     "output_type": "execute_result"
    }
   ],
   "source": [
    "dt.datetime.fromtimestamp(1609999000.0).date()"
   ]
  },
  {
   "cell_type": "code",
   "execution_count": 17,
   "id": "informative-timber",
   "metadata": {},
   "outputs": [
    {
     "data": {
      "text/plain": [
       "56"
      ]
     },
     "execution_count": 17,
     "metadata": {},
     "output_type": "execute_result"
    }
   ],
   "source": [
    "dt.datetime.fromtimestamp(1609999000.0).minute"
   ]
  },
  {
   "cell_type": "code",
   "execution_count": 18,
   "id": "political-conference",
   "metadata": {},
   "outputs": [],
   "source": [
    "df['posting_time'] = df['created'].apply(dt.datetime.fromtimestamp)"
   ]
  },
  {
   "cell_type": "code",
   "execution_count": 19,
   "id": "human-latvia",
   "metadata": {},
   "outputs": [],
   "source": [
    "def to_hour(inp):\n",
    "    return inp.hour + (inp.minute/60.) + (inp.second/3600.)\n",
    "\n",
    "\n",
    "df['hour'] = df['posting_time'].apply(to_hour)"
   ]
  },
  {
   "cell_type": "code",
   "execution_count": 20,
   "id": "wicked-pathology",
   "metadata": {},
   "outputs": [
    {
     "data": {
      "text/html": [
       "<div>\n",
       "<style scoped>\n",
       "    .dataframe tbody tr th:only-of-type {\n",
       "        vertical-align: middle;\n",
       "    }\n",
       "\n",
       "    .dataframe tbody tr th {\n",
       "        vertical-align: top;\n",
       "    }\n",
       "\n",
       "    .dataframe thead th {\n",
       "        text-align: right;\n",
       "    }\n",
       "</style>\n",
       "<table border=\"1\" class=\"dataframe\">\n",
       "  <thead>\n",
       "    <tr style=\"text-align: right;\">\n",
       "      <th></th>\n",
       "      <th>id</th>\n",
       "      <th>subreddit</th>\n",
       "      <th>title</th>\n",
       "      <th>author</th>\n",
       "      <th>url</th>\n",
       "      <th>created</th>\n",
       "      <th>ext_link</th>\n",
       "      <th>id</th>\n",
       "      <th>body</th>\n",
       "      <th>score</th>\n",
       "      <th>upvote_ratio</th>\n",
       "      <th>posting_time</th>\n",
       "      <th>hour</th>\n",
       "    </tr>\n",
       "  </thead>\n",
       "  <tbody>\n",
       "    <tr>\n",
       "      <th>0</th>\n",
       "      <td>koaw8g</td>\n",
       "      <td>finance</td>\n",
       "      <td>Tech's top seven companies added $3.4 trillion...</td>\n",
       "      <td>Obrocheetah</td>\n",
       "      <td>https://www.reddit.com/r/finance/comments/koaw...</td>\n",
       "      <td>1609505868</td>\n",
       "      <td>None</td>\n",
       "      <td>koaw8g</td>\n",
       "      <td>[deleted]</td>\n",
       "      <td>1</td>\n",
       "      <td>1.0</td>\n",
       "      <td>2021-01-01 07:57:48</td>\n",
       "      <td>7.963333</td>\n",
       "    </tr>\n",
       "    <tr>\n",
       "      <th>1</th>\n",
       "      <td>kobbka</td>\n",
       "      <td>finance</td>\n",
       "      <td>Mogo: Establishes ATM Equity Program Mogo a fi...</td>\n",
       "      <td>fintechinshorts</td>\n",
       "      <td>https://www.reddit.com/r/finance/comments/kobb...</td>\n",
       "      <td>1609507913</td>\n",
       "      <td>https://www.fintechinshorts.com/mogo-establish...</td>\n",
       "      <td>kobbka</td>\n",
       "      <td></td>\n",
       "      <td>1</td>\n",
       "      <td>1.0</td>\n",
       "      <td>2021-01-01 08:31:53</td>\n",
       "      <td>8.531389</td>\n",
       "    </tr>\n",
       "    <tr>\n",
       "      <th>2</th>\n",
       "      <td>koch7k</td>\n",
       "      <td>finance</td>\n",
       "      <td>NYSE to delist three Chinese telecom firms, ci...</td>\n",
       "      <td>QQQult</td>\n",
       "      <td>https://www.reddit.com/r/finance/comments/koch...</td>\n",
       "      <td>1609512819</td>\n",
       "      <td>https://www.theguardian.com/business/2021/jan/...</td>\n",
       "      <td>koch7k</td>\n",
       "      <td>[deleted]</td>\n",
       "      <td>1</td>\n",
       "      <td>1.0</td>\n",
       "      <td>2021-01-01 09:53:39</td>\n",
       "      <td>9.894167</td>\n",
       "    </tr>\n",
       "    <tr>\n",
       "      <th>3</th>\n",
       "      <td>koe39g</td>\n",
       "      <td>finance</td>\n",
       "      <td>Standard Capital: Partners with SolidBlock Sta...</td>\n",
       "      <td>fintechinshorts</td>\n",
       "      <td>https://www.reddit.com/r/finance/comments/koe3...</td>\n",
       "      <td>1609518689</td>\n",
       "      <td>https://www.fintechinshorts.com/standard-capit...</td>\n",
       "      <td>koe39g</td>\n",
       "      <td></td>\n",
       "      <td>1</td>\n",
       "      <td>1.0</td>\n",
       "      <td>2021-01-01 11:31:29</td>\n",
       "      <td>11.524722</td>\n",
       "    </tr>\n",
       "    <tr>\n",
       "      <th>4</th>\n",
       "      <td>koefpv</td>\n",
       "      <td>finance</td>\n",
       "      <td>5 things every trader needs to know</td>\n",
       "      <td>Aversionsfall</td>\n",
       "      <td>https://www.reddit.com/r/finance/comments/koef...</td>\n",
       "      <td>1609519854</td>\n",
       "      <td>https://yvestalksbitcoin.com/2021/01/01/5-thin...</td>\n",
       "      <td>koefpv</td>\n",
       "      <td></td>\n",
       "      <td>0</td>\n",
       "      <td>0.4</td>\n",
       "      <td>2021-01-01 11:50:54</td>\n",
       "      <td>11.848333</td>\n",
       "    </tr>\n",
       "  </tbody>\n",
       "</table>\n",
       "</div>"
      ],
      "text/plain": [
       "       id subreddit                                              title  \\\n",
       "0  koaw8g   finance  Tech's top seven companies added $3.4 trillion...   \n",
       "1  kobbka   finance  Mogo: Establishes ATM Equity Program Mogo a fi...   \n",
       "2  koch7k   finance  NYSE to delist three Chinese telecom firms, ci...   \n",
       "3  koe39g   finance  Standard Capital: Partners with SolidBlock Sta...   \n",
       "4  koefpv   finance                5 things every trader needs to know   \n",
       "\n",
       "            author                                                url  \\\n",
       "0      Obrocheetah  https://www.reddit.com/r/finance/comments/koaw...   \n",
       "1  fintechinshorts  https://www.reddit.com/r/finance/comments/kobb...   \n",
       "2           QQQult  https://www.reddit.com/r/finance/comments/koch...   \n",
       "3  fintechinshorts  https://www.reddit.com/r/finance/comments/koe3...   \n",
       "4    Aversionsfall  https://www.reddit.com/r/finance/comments/koef...   \n",
       "\n",
       "      created                                           ext_link      id  \\\n",
       "0  1609505868                                               None  koaw8g   \n",
       "1  1609507913  https://www.fintechinshorts.com/mogo-establish...  kobbka   \n",
       "2  1609512819  https://www.theguardian.com/business/2021/jan/...  koch7k   \n",
       "3  1609518689  https://www.fintechinshorts.com/standard-capit...  koe39g   \n",
       "4  1609519854  https://yvestalksbitcoin.com/2021/01/01/5-thin...  koefpv   \n",
       "\n",
       "        body  score  upvote_ratio        posting_time       hour  \n",
       "0  [deleted]      1           1.0 2021-01-01 07:57:48   7.963333  \n",
       "1                 1           1.0 2021-01-01 08:31:53   8.531389  \n",
       "2  [deleted]      1           1.0 2021-01-01 09:53:39   9.894167  \n",
       "3                 1           1.0 2021-01-01 11:31:29  11.524722  \n",
       "4                 0           0.4 2021-01-01 11:50:54  11.848333  "
      ]
     },
     "execution_count": 20,
     "metadata": {},
     "output_type": "execute_result"
    }
   ],
   "source": [
    "df.head()"
   ]
  },
  {
   "cell_type": "code",
   "execution_count": 21,
   "id": "rolled-visiting",
   "metadata": {},
   "outputs": [],
   "source": [
    "from scipy.stats import binned_statistic\n",
    "\n",
    "bin_mean, bin_edge, _ = binned_statistic(df['hour'], df['upvote_ratio'], statistic='mean', bins=24, range=(0,24))"
   ]
  },
  {
   "cell_type": "code",
   "execution_count": 22,
   "id": "packed-healing",
   "metadata": {},
   "outputs": [
    {
     "data": {
      "image/png": "[encoded data removed]",
      "text/plain": [
       "<Figure size 720x360 with 1 Axes>"
      ]
     },
     "metadata": {
      "needs_background": "light"
     },
     "output_type": "display_data"
    }
   ],
   "source": [
    "fig = plt.figure(figsize=(10,5))\n",
    "\n",
    "for subreddit in ['finance','options','pennystocks']:\n",
    "    plt.step(bin_edge[:-1], bin_mean, lw=2)\n",
    "\n",
    "plt.xlabel('Posting time [hours]', fontsize=14)\n",
    "plt.ylabel('Mean upvotes ratio', fontsize=14)\n",
    "plt.savefig('upvotes_vs_time.png')\n",
    "plt.show()"
   ]
  },
  {
   "cell_type": "markdown",
   "id": "comic-parade",
   "metadata": {},
   "source": [
    "# Title length"
   ]
  },
  {
   "cell_type": "code",
   "execution_count": 23,
   "id": "permanent-shark",
   "metadata": {},
   "outputs": [],
   "source": [
    "from nltk.tokenize import TweetTokenizer\n",
    "\n",
    "tokenizer = TweetTokenizer()\n",
    "df['tokens'] = df['title'].str.lower().apply(tokenizer.tokenize)"
   ]
  },
  {
   "cell_type": "code",
   "execution_count": 24,
   "id": "colonial-melbourne",
   "metadata": {},
   "outputs": [
    {
     "data": {
      "text/html": [
       "<div>\n",
       "<style scoped>\n",
       "    .dataframe tbody tr th:only-of-type {\n",
       "        vertical-align: middle;\n",
       "    }\n",
       "\n",
       "    .dataframe tbody tr th {\n",
       "        vertical-align: top;\n",
       "    }\n",
       "\n",
       "    .dataframe thead th {\n",
       "        text-align: right;\n",
       "    }\n",
       "</style>\n",
       "<table border=\"1\" class=\"dataframe\">\n",
       "  <thead>\n",
       "    <tr style=\"text-align: right;\">\n",
       "      <th></th>\n",
       "      <th>id</th>\n",
       "      <th>subreddit</th>\n",
       "      <th>title</th>\n",
       "      <th>author</th>\n",
       "      <th>url</th>\n",
       "      <th>created</th>\n",
       "      <th>ext_link</th>\n",
       "      <th>id</th>\n",
       "      <th>body</th>\n",
       "      <th>score</th>\n",
       "      <th>upvote_ratio</th>\n",
       "      <th>posting_time</th>\n",
       "      <th>hour</th>\n",
       "      <th>tokens</th>\n",
       "      <th>title_length</th>\n",
       "    </tr>\n",
       "  </thead>\n",
       "  <tbody>\n",
       "    <tr>\n",
       "      <th>0</th>\n",
       "      <td>koaw8g</td>\n",
       "      <td>finance</td>\n",
       "      <td>Tech's top seven companies added $3.4 trillion...</td>\n",
       "      <td>Obrocheetah</td>\n",
       "      <td>https://www.reddit.com/r/finance/comments/koaw...</td>\n",
       "      <td>1609505868</td>\n",
       "      <td>None</td>\n",
       "      <td>koaw8g</td>\n",
       "      <td>[deleted]</td>\n",
       "      <td>1</td>\n",
       "      <td>1.0</td>\n",
       "      <td>2021-01-01 07:57:48</td>\n",
       "      <td>7.963333</td>\n",
       "      <td>[tech's, top, seven, companies, added, $, 3.4,...</td>\n",
       "      <td>12</td>\n",
       "    </tr>\n",
       "    <tr>\n",
       "      <th>1</th>\n",
       "      <td>kobbka</td>\n",
       "      <td>finance</td>\n",
       "      <td>Mogo: Establishes ATM Equity Program Mogo a fi...</td>\n",
       "      <td>fintechinshorts</td>\n",
       "      <td>https://www.reddit.com/r/finance/comments/kobb...</td>\n",
       "      <td>1609507913</td>\n",
       "      <td>https://www.fintechinshorts.com/mogo-establish...</td>\n",
       "      <td>kobbka</td>\n",
       "      <td></td>\n",
       "      <td>1</td>\n",
       "      <td>1.0</td>\n",
       "      <td>2021-01-01 08:31:53</td>\n",
       "      <td>8.531389</td>\n",
       "      <td>[mogo, :, establishes, atm, equity, program, m...</td>\n",
       "      <td>18</td>\n",
       "    </tr>\n",
       "    <tr>\n",
       "      <th>2</th>\n",
       "      <td>koch7k</td>\n",
       "      <td>finance</td>\n",
       "      <td>NYSE to delist three Chinese telecom firms, ci...</td>\n",
       "      <td>QQQult</td>\n",
       "      <td>https://www.reddit.com/r/finance/comments/koch...</td>\n",
       "      <td>1609512819</td>\n",
       "      <td>https://www.theguardian.com/business/2021/jan/...</td>\n",
       "      <td>koch7k</td>\n",
       "      <td>[deleted]</td>\n",
       "      <td>1</td>\n",
       "      <td>1.0</td>\n",
       "      <td>2021-01-01 09:53:39</td>\n",
       "      <td>9.894167</td>\n",
       "      <td>[nyse, to, delist, three, chinese, telecom, fi...</td>\n",
       "      <td>15</td>\n",
       "    </tr>\n",
       "    <tr>\n",
       "      <th>3</th>\n",
       "      <td>koe39g</td>\n",
       "      <td>finance</td>\n",
       "      <td>Standard Capital: Partners with SolidBlock Sta...</td>\n",
       "      <td>fintechinshorts</td>\n",
       "      <td>https://www.reddit.com/r/finance/comments/koe3...</td>\n",
       "      <td>1609518689</td>\n",
       "      <td>https://www.fintechinshorts.com/standard-capit...</td>\n",
       "      <td>koe39g</td>\n",
       "      <td></td>\n",
       "      <td>1</td>\n",
       "      <td>1.0</td>\n",
       "      <td>2021-01-01 11:31:29</td>\n",
       "      <td>11.524722</td>\n",
       "      <td>[standard, capital, :, partners, with, solidbl...</td>\n",
       "      <td>18</td>\n",
       "    </tr>\n",
       "    <tr>\n",
       "      <th>4</th>\n",
       "      <td>koefpv</td>\n",
       "      <td>finance</td>\n",
       "      <td>5 things every trader needs to know</td>\n",
       "      <td>Aversionsfall</td>\n",
       "      <td>https://www.reddit.com/r/finance/comments/koef...</td>\n",
       "      <td>1609519854</td>\n",
       "      <td>https://yvestalksbitcoin.com/2021/01/01/5-thin...</td>\n",
       "      <td>koefpv</td>\n",
       "      <td></td>\n",
       "      <td>0</td>\n",
       "      <td>0.4</td>\n",
       "      <td>2021-01-01 11:50:54</td>\n",
       "      <td>11.848333</td>\n",
       "      <td>[5, things, every, trader, needs, to, know]</td>\n",
       "      <td>7</td>\n",
       "    </tr>\n",
       "  </tbody>\n",
       "</table>\n",
       "</div>"
      ],
      "text/plain": [
       "       id subreddit                                              title  \\\n",
       "0  koaw8g   finance  Tech's top seven companies added $3.4 trillion...   \n",
       "1  kobbka   finance  Mogo: Establishes ATM Equity Program Mogo a fi...   \n",
       "2  koch7k   finance  NYSE to delist three Chinese telecom firms, ci...   \n",
       "3  koe39g   finance  Standard Capital: Partners with SolidBlock Sta...   \n",
       "4  koefpv   finance                5 things every trader needs to know   \n",
       "\n",
       "            author                                                url  \\\n",
       "0      Obrocheetah  https://www.reddit.com/r/finance/comments/koaw...   \n",
       "1  fintechinshorts  https://www.reddit.com/r/finance/comments/kobb...   \n",
       "2           QQQult  https://www.reddit.com/r/finance/comments/koch...   \n",
       "3  fintechinshorts  https://www.reddit.com/r/finance/comments/koe3...   \n",
       "4    Aversionsfall  https://www.reddit.com/r/finance/comments/koef...   \n",
       "\n",
       "      created                                           ext_link      id  \\\n",
       "0  1609505868                                               None  koaw8g   \n",
       "1  1609507913  https://www.fintechinshorts.com/mogo-establish...  kobbka   \n",
       "2  1609512819  https://www.theguardian.com/business/2021/jan/...  koch7k   \n",
       "3  1609518689  https://www.fintechinshorts.com/standard-capit...  koe39g   \n",
       "4  1609519854  https://yvestalksbitcoin.com/2021/01/01/5-thin...  koefpv   \n",
       "\n",
       "        body  score  upvote_ratio        posting_time       hour  \\\n",
       "0  [deleted]      1           1.0 2021-01-01 07:57:48   7.963333   \n",
       "1                 1           1.0 2021-01-01 08:31:53   8.531389   \n",
       "2  [deleted]      1           1.0 2021-01-01 09:53:39   9.894167   \n",
       "3                 1           1.0 2021-01-01 11:31:29  11.524722   \n",
       "4                 0           0.4 2021-01-01 11:50:54  11.848333   \n",
       "\n",
       "                                              tokens  title_length  \n",
       "0  [tech's, top, seven, companies, added, $, 3.4,...            12  \n",
       "1  [mogo, :, establishes, atm, equity, program, m...            18  \n",
       "2  [nyse, to, delist, three, chinese, telecom, fi...            15  \n",
       "3  [standard, capital, :, partners, with, solidbl...            18  \n",
       "4        [5, things, every, trader, needs, to, know]             7  "
      ]
     },
     "execution_count": 24,
     "metadata": {},
     "output_type": "execute_result"
    }
   ],
   "source": [
    "df['title_length'] = df['tokens'].apply(len)\n",
    "df.head()"
   ]
  },
  {
   "cell_type": "code",
   "execution_count": 25,
   "id": "direct-jerusalem",
   "metadata": {},
   "outputs": [],
   "source": [
    "title_length_votes = df.groupby(['subreddit','title_length']).upvote_ratio.mean()"
   ]
  },
  {
   "cell_type": "code",
   "execution_count": 26,
   "id": "spanish-insured",
   "metadata": {},
   "outputs": [
    {
     "data": {
      "image/png": "[encoded data removed]",
      "text/plain": [
       "<Figure size 720x360 with 1 Axes>"
      ]
     },
     "metadata": {
      "needs_background": "light"
     },
     "output_type": "display_data"
    }
   ],
   "source": [
    "fig = plt.figure(figsize=(10,5))\n",
    "\n",
    "for subreddit in ['finance','options','pennystocks']:\n",
    "\n",
    "    plt.plot(title_length_votes[subreddit].index, title_length_votes[subreddit].values, lw=3, label=subreddit)\n",
    "\n",
    "plt.xlim([0,80])\n",
    "plt.ylim([0.5,1.01])\n",
    "\n",
    "plt.xlabel('Number of words in post title', fontsize=14)\n",
    "plt.ylabel('Mean upvotes ratio', fontsize=14)\n",
    "\n",
    "plt.legend(loc='lower left', fontsize=14)\n",
    "plt.grid(ls='--')\n",
    "\n",
    "plt.savefig('upvotes_vs_length.png')\n",
    "plt.show()"
   ]
  },
  {
   "cell_type": "code",
   "execution_count": 27,
   "id": "mature-deployment",
   "metadata": {},
   "outputs": [
    {
     "data": {
      "text/plain": [
       "array(['finance', 'options', 'pennystocks', 'Superstonks'], dtype=object)"
      ]
     },
     "execution_count": 27,
     "metadata": {},
     "output_type": "execute_result"
    }
   ],
   "source": [
    "df.subreddit.unique()"
   ]
  },
  {
   "cell_type": "code",
   "execution_count": 28,
   "id": "printable-mexico",
   "metadata": {},
   "outputs": [],
   "source": [
    "upvote_no_link   = df[df['ext_link'].isnull()].upvote_ratio\n",
    "upvote_with_link = df[df['ext_link'].notnull()].upvote_ratio"
   ]
  },
  {
   "cell_type": "code",
   "execution_count": 31,
   "id": "distinguished-cambodia",
   "metadata": {},
   "outputs": [],
   "source": [
    "image_file_formats = ['ai','bmp','gif','ico','jpg','jpeg','png','ps','psd','svg','tif','tiff']\n",
    "video_file_formats = ['.3g2','3gp','avi','flv','h264','m4v','mkv','mov','mp4','mpg','mpeg','rm','swf','vob','wmv']"
   ]
  },
  {
   "cell_type": "code",
   "execution_count": 32,
   "id": "specific-tuning",
   "metadata": {},
   "outputs": [],
   "source": [
    "def get_ext(inp):\n",
    "    if inp == None:\n",
    "        last_term = 'None'\n",
    "    else:\n",
    "        last_term = inp.split('.')[-1]\n",
    "    if (last_term in image_file_formats) or (last_term in video_file_formats):\n",
    "        out = 1\n",
    "    else:\n",
    "        out = 0\n",
    "    return out\n",
    "\n",
    "df['image_video'] = df['ext_link'].apply(get_ext)"
   ]
  },
  {
   "cell_type": "code",
   "execution_count": 33,
   "id": "republican-symphony",
   "metadata": {},
   "outputs": [],
   "source": [
    "cnt_no_img, bin_edge = np.histogram(df[df.image_video == 0].upvote_ratio, bins=100, range=(0,1), normed=None, weights=None, density=None)\n",
    "cnt_with_img, bin_edge = np.histogram(df[df.image_video == 1].upvote_ratio, bins=100, range=(0,1), normed=None, weights=None, density=None)\n"
   ]
  },
  {
   "cell_type": "code",
   "execution_count": 34,
   "id": "blank-morgan",
   "metadata": {},
   "outputs": [
    {
     "data": {
      "image/png": "[encoded data removed]",
      "text/plain": [
       "<Figure size 432x288 with 1 Axes>"
      ]
     },
     "metadata": {
      "needs_background": "light"
     },
     "output_type": "display_data"
    }
   ],
   "source": [
    "plt.step(bin_edge[:-1], cnt_no_img, 'b-', lw=2)\n",
    "plt.step(bin_edge[:-1], cnt_with_img, 'r-', lw=2)\n",
    "plt.yscale('log')\n",
    "plt.show()"
   ]
  },
  {
   "cell_type": "code",
   "execution_count": 35,
   "id": "organizational-sewing",
   "metadata": {},
   "outputs": [
    {
     "data": {
      "text/plain": [
       "0.9185002821202163"
      ]
     },
     "execution_count": 35,
     "metadata": {},
     "output_type": "execute_result"
    }
   ],
   "source": [
    "df[df.image_video == 0].upvote_ratio.mean()"
   ]
  },
  {
   "cell_type": "code",
   "execution_count": 36,
   "id": "worth-assistant",
   "metadata": {},
   "outputs": [
    {
     "data": {
      "text/plain": [
       "0.929726424609178"
      ]
     },
     "execution_count": 36,
     "metadata": {},
     "output_type": "execute_result"
    }
   ],
   "source": [
    "df[df.image_video == 1].upvote_ratio.mean()"
   ]
  },
  {
   "cell_type": "code",
   "execution_count": 37,
   "id": "differential-merchant",
   "metadata": {},
   "outputs": [
    {
     "data": {
      "text/plain": [
       "Ttest_indResult(statistic=-6.246131884369276, pvalue=4.3709250581888454e-10)"
      ]
     },
     "execution_count": 37,
     "metadata": {},
     "output_type": "execute_result"
    }
   ],
   "source": [
    "from scipy.stats import ttest_ind\n",
    "\n",
    "ttest_ind(df[df.image_video == 0].upvote_ratio, df[df.image_video == 1].upvote_ratio, equal_var=False, nan_policy='omit')"
   ]
  },
  {
   "cell_type": "code",
   "execution_count": null,
   "id": "mediterranean-living",
   "metadata": {},
   "outputs": [],
   "source": []
  }
 ],
 "metadata": {
  "kernelspec": {
   "display_name": "Python 3",
   "language": "python",
   "name": "python3"
  },
  "language_info": {
   "codemirror_mode": {
    "name": "ipython",
    "version": 3
   },
   "file_extension": ".py",
   "mimetype": "text/x-python",
   "name": "python",
   "nbconvert_exporter": "python",
   "pygments_lexer": "ipython3",
   "version": "3.8.5"
  }
 },
 "nbformat": 4,
 "nbformat_minor": 5
}
