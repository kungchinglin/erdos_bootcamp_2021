{
 "cells": [
  {
   "cell_type": "markdown",
   "metadata": {},
   "source": [
    "## Failed Approach (Using API)\n",
    "\n",
    "The following blocks try to use the API approach, which failed fantastically. I suggest you go to the next section, which works well.\n",
    "\n",
    "You can also use directly PushishiftAPI() without psaw."
   ]
  },
  {
   "cell_type": "code",
   "execution_count": 2,
   "metadata": {},
   "outputs": [],
   "source": [
    "from pushshift_py import PushshiftAPI\n",
    "import datetime as dt\n",
    "import psaw\n",
    "import pandas as pd\n",
    "import requests\n",
    "import json\n",
    "import csv\n",
    "import time\n",
    "api = psaw.PushshiftAPI()"
   ]
  },
  {
   "cell_type": "code",
   "execution_count": 3,
   "metadata": {},
   "outputs": [],
   "source": [
    "startEpoch = int(dt.datetime(2020,1,1).timestamp())"
   ]
  },
  {
   "cell_type": "markdown",
   "metadata": {},
   "source": [
    "The following block shows how we can get information using pushshift. It shows how we can specify the features and get them. The returned data type is a generator with \"submission\" type as elements, though we can certainly make them into a list."
   ]
  },
  {
   "cell_type": "code",
   "execution_count": 6,
   "metadata": {},
   "outputs": [
    {
     "name": "stdout",
     "output_type": "stream",
     "text": [
      "n7owcn nba Jay Williams on the Celtics struggles: \"It's the job of the head coach to make the talent mesh. Kyrie was scapegoated. Kyrie is no longer there. What's the issue now? It seems like there's always an issue in Boston to a degree. It has to be geared a little bit more towards Brad Stevens.\" LeUnbeatableJames23 https://streamable.com/xhihoh 1620497330.0 1\n",
      "n7or7u nba Malachi Flynn has passed Lamelo Ball in games played MasterPsaysUgh https://www.reddit.com/r/nba/comments/n7or7u/malachi_flynn_has_passed_lamelo_ball_in_games/ 1620496846.0 1\n",
      "n7oqjz nba Shitpost Saturday + Game Thread Index NBA_MOD https://www.reddit.com/r/nba/comments/n7oqjz/shitpost_saturday_game_thread_index/ 1620496802.0 1\n",
      "n7ook2 nba A breakdown of Stanley Johnson's playmaking vs the Wizards SkycapRex https://youtu.be/ACOYfg-KK3s 1620496607.0 1\n",
      "n7of27 nba Winners of this year's final will be somek20 https://www.reddit.com/r/nba/comments/n7of27/winners_of_this_years_final_will_be/ 1620495655.0 1\n",
      "n7o30e nba Google represents a way to find a high security password. #WorldPasswordDay ntew0 https://automativee.blogspot.com/2021/05/google-represents-way-to-find-secure.html 1620494446.0 1\n",
      "n7nx5t nba DPOY front-runner Rudy Gobert thinks Nikola Jokic is the MVP this year. Claustecter1015 https://www.reddit.com/r/nba/comments/n7nx5t/dpoy_frontrunner_rudy_gobert_thinks_nikola_jokic/ 1620493868.0 1\n",
      "n7nqpl nba [SERIOUS NEXT DAY THREAD] Post-Game Discussion (May 07, 2021) NBA_MOD https://www.reddit.com/r/nba/comments/n7nqpl/serious_next_day_thread_postgame_discussion_may/ 1620493202.0 1\n",
      "n7ni4g nba If the season ended today’s what are your first round predictions? Common-Wedding-7264 https://www.reddit.com/r/nba/comments/n7ni4g/if_the_season_ended_todays_what_are_your_first/ 1620492270.0 1\n",
      "n7ngr9 nba What does Steph have to do to become the second greatest player of the 21st century behind LeBron? How realistic is it? ResponsibleWarthog10 https://www.reddit.com/r/nba/comments/n7ngr9/what_does_steph_have_to_do_to_become_the_second/ 1620492124.0 1\n"
     ]
    }
   ],
   "source": [
    "features = ['url','author', 'title', 'subreddit', 'id', 'created', 'score']\n",
    "subreddit = 'NBA'\n",
    "\n",
    "data = api.search_submissions(after=startEpoch,\n",
    "                            subreddit=subreddit,\n",
    "                            filter= features,\n",
    "                            limit=10)\n",
    "\n",
    "for datum in data:\n",
    "    print(datum.id, datum.subreddit, datum.title, datum.author, datum.url, datum.created, datum.score)"
   ]
  },
  {
   "cell_type": "code",
   "execution_count": 7,
   "metadata": {},
   "outputs": [],
   "source": [
    "import praw\n",
    "\n",
    "reddit = praw.Reddit(\n",
    "    client_id=\"kxbUr-4PyE7DlQ\",\n",
    "    client_secret=\"Q5rIAPS9IHZ1QgOIkHNY09Y9VMxDsA\",\n",
    "    password=\"AACAXZDE\",\n",
    "    user_agent=\"testscript by u/kc_the_scraper\",\n",
    "    username=\"kc_the_scraper\",\n",
    ")"
   ]
  },
  {
   "cell_type": "markdown",
   "metadata": {},
   "source": [
    "We can use praw to get the post body using the following block."
   ]
  },
  {
   "cell_type": "code",
   "execution_count": 7,
   "metadata": {},
   "outputs": [
    {
     "data": {
      "text/plain": [
       "'first off, happy new years. feel free to spam this with “new years shit post” and get your upvotes. anyways,\\n\\n ben and embiid won’t win together. ever. if ben simmons got built around like giannis did, aka shooters all around him, as well as a coach that would push him to shoot 1-2 threes per game, that said team would be unstoppable and he would be great.\\n\\nyes, ben is a coward. but, the great sub known as r/nba, i am proposing you the idea that if ben had shooters around him he would be amazing. imagine him driving inside and using his fantastic passing ability to kick it to shooters. it would be great. instead, embiid is in the paint, and he won’t shoot it, and it’s just a mess.\\n\\na trade idea i thought if could be ben for dlo, once ben’s max kicks in, so next season. (we’ll see how this one plays out) ben simmons would be playing with klay and steph, could maybe play that forward role, and he would be golden. him with his passing ability and steph and klay with their shooting is a recipe for success. \\n\\nof course, you guys may think differently, so does ben fit on the sixers? i think it’s a pretty popular opinion that he doesn’t whether that’s his fault or not. what type of team would he thrive in, any specific ones?'"
      ]
     },
     "execution_count": 7,
     "metadata": {},
     "output_type": "execute_result"
    }
   ],
   "source": [
    "reddit.submission(id='eiev5d').selftext"
   ]
  },
  {
   "cell_type": "markdown",
   "metadata": {},
   "source": [
    "In the following blocks, we create tables and store the information. For some reason, though, the api often acts up and freezes when we loop through the data."
   ]
  },
  {
   "cell_type": "code",
   "execution_count": 2,
   "metadata": {},
   "outputs": [],
   "source": [
    "import sqlite3"
   ]
  },
  {
   "cell_type": "code",
   "execution_count": 3,
   "metadata": {},
   "outputs": [],
   "source": [
    "conn = sqlite3.connect('redditPosts.sqlite')\n",
    "cur = conn.cursor()"
   ]
  },
  {
   "cell_type": "code",
   "execution_count": 10,
   "metadata": {},
   "outputs": [
    {
     "data": {
      "text/plain": [
       "<sqlite3.Cursor at 0x22b90141340>"
      ]
     },
     "execution_count": 10,
     "metadata": {},
     "output_type": "execute_result"
    }
   ],
   "source": [
    "cur.execute('''CREATE TABLE IF NOT EXISTS Posts(\n",
    "                id TEXT PRIMARY KEY,\n",
    "                subreddit TEXT,\n",
    "                title TEXT,\n",
    "                author TEXT,\n",
    "                url TEXT,\n",
    "                created int)\n",
    "                ''')"
   ]
  },
  {
   "cell_type": "code",
   "execution_count": 11,
   "metadata": {},
   "outputs": [
    {
     "name": "stderr",
     "output_type": "stream",
     "text": [
      "C:\\Users\\kungc\\AppData\\Local\\Packages\\PythonSoftwareFoundation.Python.3.8_qbz5n2kfra8p0\\LocalCache\\local-packages\\Python38\\site-packages\\psaw\\PushshiftAPI.py:192: UserWarning: Got non 200 code 500\n",
      "  warnings.warn(\"Got non 200 code %s\" % response.status_code)\n",
      "C:\\Users\\kungc\\AppData\\Local\\Packages\\PythonSoftwareFoundation.Python.3.8_qbz5n2kfra8p0\\LocalCache\\local-packages\\Python38\\site-packages\\psaw\\PushshiftAPI.py:180: UserWarning: Unable to connect to pushshift.io. Retrying after backoff.\n",
      "  warnings.warn(\"Unable to connect to pushshift.io. Retrying after backoff.\")\n"
     ]
    },
    {
     "ename": "KeyboardInterrupt",
     "evalue": "",
     "output_type": "error",
     "traceback": [
      "\u001b[1;31m---------------------------------------------------------------------------\u001b[0m",
      "\u001b[1;31mKeyboardInterrupt\u001b[0m                         Traceback (most recent call last)",
      "\u001b[1;32m<ipython-input-11-e2103a2fad6b>\u001b[0m in \u001b[0;36m<module>\u001b[1;34m\u001b[0m\n\u001b[0;32m     12\u001b[0m                             limit=100)\n\u001b[0;32m     13\u001b[0m \u001b[1;33m\u001b[0m\u001b[0m\n\u001b[1;32m---> 14\u001b[1;33m     \u001b[1;32mfor\u001b[0m \u001b[0mdatum\u001b[0m \u001b[1;32min\u001b[0m \u001b[0mdata\u001b[0m\u001b[1;33m:\u001b[0m\u001b[1;33m\u001b[0m\u001b[1;33m\u001b[0m\u001b[0m\n\u001b[0m\u001b[0;32m     15\u001b[0m         \u001b[0mprint\u001b[0m\u001b[1;33m(\u001b[0m\u001b[1;34m'Got here 2.'\u001b[0m\u001b[1;33m)\u001b[0m\u001b[1;33m\u001b[0m\u001b[1;33m\u001b[0m\u001b[0m\n\u001b[0;32m     16\u001b[0m         cur.execute('''INSERT OR IGNORE INTO Posts VALUES (?,?,?,?,?,?)'''\n",
      "\u001b[1;32m~\\AppData\\Local\\Packages\\PythonSoftwareFoundation.Python.3.8_qbz5n2kfra8p0\\LocalCache\\local-packages\\Python38\\site-packages\\psaw\\PushshiftAPI.py\u001b[0m in \u001b[0;36m_search\u001b[1;34m(self, kind, stop_condition, return_batch, dataset, **kwargs)\u001b[0m\n\u001b[0;32m    236\u001b[0m         \u001b[0mendpoint\u001b[0m \u001b[1;33m=\u001b[0m \u001b[1;34m'{dataset}/{kind}/search'\u001b[0m\u001b[1;33m.\u001b[0m\u001b[0mformat\u001b[0m\u001b[1;33m(\u001b[0m\u001b[0mdataset\u001b[0m\u001b[1;33m=\u001b[0m\u001b[0mdataset\u001b[0m\u001b[1;33m,\u001b[0m \u001b[0mkind\u001b[0m\u001b[1;33m=\u001b[0m\u001b[0mkind\u001b[0m\u001b[1;33m)\u001b[0m\u001b[1;33m\u001b[0m\u001b[1;33m\u001b[0m\u001b[0m\n\u001b[0;32m    237\u001b[0m         \u001b[0murl\u001b[0m \u001b[1;33m=\u001b[0m \u001b[0mself\u001b[0m\u001b[1;33m.\u001b[0m\u001b[0mbase_url\u001b[0m\u001b[1;33m.\u001b[0m\u001b[0mformat\u001b[0m\u001b[1;33m(\u001b[0m\u001b[0mendpoint\u001b[0m\u001b[1;33m=\u001b[0m\u001b[0mendpoint\u001b[0m\u001b[1;33m)\u001b[0m\u001b[1;33m\u001b[0m\u001b[1;33m\u001b[0m\u001b[0m\n\u001b[1;32m--> 238\u001b[1;33m         \u001b[1;32mfor\u001b[0m \u001b[0mresponse\u001b[0m \u001b[1;32min\u001b[0m \u001b[0mself\u001b[0m\u001b[1;33m.\u001b[0m\u001b[0m_handle_paging\u001b[0m\u001b[1;33m(\u001b[0m\u001b[0murl\u001b[0m\u001b[1;33m)\u001b[0m\u001b[1;33m:\u001b[0m\u001b[1;33m\u001b[0m\u001b[1;33m\u001b[0m\u001b[0m\n\u001b[0m\u001b[0;32m    239\u001b[0m             \u001b[1;32mif\u001b[0m \u001b[1;34m'aggs'\u001b[0m \u001b[1;32min\u001b[0m \u001b[0mresponse\u001b[0m\u001b[1;33m:\u001b[0m\u001b[1;33m\u001b[0m\u001b[1;33m\u001b[0m\u001b[0m\n\u001b[0;32m    240\u001b[0m                 \u001b[1;32myield\u001b[0m \u001b[0mresponse\u001b[0m\u001b[1;33m[\u001b[0m\u001b[1;34m'aggs'\u001b[0m\u001b[1;33m]\u001b[0m\u001b[1;33m\u001b[0m\u001b[1;33m\u001b[0m\u001b[0m\n",
      "\u001b[1;32m~\\AppData\\Local\\Packages\\PythonSoftwareFoundation.Python.3.8_qbz5n2kfra8p0\\LocalCache\\local-packages\\Python38\\site-packages\\psaw\\PushshiftAPI.py\u001b[0m in \u001b[0;36m_handle_paging\u001b[1;34m(self, url)\u001b[0m\n\u001b[0;32m    213\u001b[0m             \u001b[0mself\u001b[0m\u001b[1;33m.\u001b[0m\u001b[0m_add_nec_args\u001b[0m\u001b[1;33m(\u001b[0m\u001b[0mself\u001b[0m\u001b[1;33m.\u001b[0m\u001b[0mpayload\u001b[0m\u001b[1;33m)\u001b[0m\u001b[1;33m\u001b[0m\u001b[1;33m\u001b[0m\u001b[0m\n\u001b[0;32m    214\u001b[0m \u001b[1;33m\u001b[0m\u001b[0m\n\u001b[1;32m--> 215\u001b[1;33m             \u001b[0mdata\u001b[0m \u001b[1;33m=\u001b[0m \u001b[0mself\u001b[0m\u001b[1;33m.\u001b[0m\u001b[0m_get\u001b[0m\u001b[1;33m(\u001b[0m\u001b[0murl\u001b[0m\u001b[1;33m,\u001b[0m \u001b[0mself\u001b[0m\u001b[1;33m.\u001b[0m\u001b[0mpayload\u001b[0m\u001b[1;33m)\u001b[0m\u001b[1;33m\u001b[0m\u001b[1;33m\u001b[0m\u001b[0m\n\u001b[0m\u001b[0;32m    216\u001b[0m             \u001b[1;32myield\u001b[0m \u001b[0mdata\u001b[0m\u001b[1;33m\u001b[0m\u001b[1;33m\u001b[0m\u001b[0m\n\u001b[0;32m    217\u001b[0m             \u001b[1;32mif\u001b[0m \u001b[0mlimit\u001b[0m \u001b[1;32mis\u001b[0m \u001b[1;32mnot\u001b[0m \u001b[1;32mNone\u001b[0m\u001b[1;33m:\u001b[0m\u001b[1;33m\u001b[0m\u001b[1;33m\u001b[0m\u001b[0m\n",
      "\u001b[1;32m~\\AppData\\Local\\Packages\\PythonSoftwareFoundation.Python.3.8_qbz5n2kfra8p0\\LocalCache\\local-packages\\Python38\\site-packages\\psaw\\PushshiftAPI.py\u001b[0m in \u001b[0;36m_get\u001b[1;34m(self, url, payload)\u001b[0m\n\u001b[0;32m    179\u001b[0m             \u001b[1;32mif\u001b[0m \u001b[0mi\u001b[0m \u001b[1;33m>\u001b[0m \u001b[1;36m0\u001b[0m\u001b[1;33m:\u001b[0m\u001b[1;33m\u001b[0m\u001b[1;33m\u001b[0m\u001b[0m\n\u001b[0;32m    180\u001b[0m                 \u001b[0mwarnings\u001b[0m\u001b[1;33m.\u001b[0m\u001b[0mwarn\u001b[0m\u001b[1;33m(\u001b[0m\u001b[1;34m\"Unable to connect to pushshift.io. Retrying after backoff.\"\u001b[0m\u001b[1;33m)\u001b[0m\u001b[1;33m\u001b[0m\u001b[1;33m\u001b[0m\u001b[0m\n\u001b[1;32m--> 181\u001b[1;33m             \u001b[0mself\u001b[0m\u001b[1;33m.\u001b[0m\u001b[0m_impose_rate_limit\u001b[0m\u001b[1;33m(\u001b[0m\u001b[0mi\u001b[0m\u001b[1;33m)\u001b[0m\u001b[1;33m\u001b[0m\u001b[1;33m\u001b[0m\u001b[0m\n\u001b[0m\u001b[0;32m    182\u001b[0m             \u001b[0mi\u001b[0m\u001b[1;33m+=\u001b[0m\u001b[1;36m1\u001b[0m\u001b[1;33m\u001b[0m\u001b[1;33m\u001b[0m\u001b[0m\n\u001b[0;32m    183\u001b[0m             \u001b[1;32mtry\u001b[0m\u001b[1;33m:\u001b[0m\u001b[1;33m\u001b[0m\u001b[1;33m\u001b[0m\u001b[0m\n",
      "\u001b[1;32m~\\AppData\\Local\\Packages\\PythonSoftwareFoundation.Python.3.8_qbz5n2kfra8p0\\LocalCache\\local-packages\\Python38\\site-packages\\psaw\\PushshiftAPI.py\u001b[0m in \u001b[0;36m_impose_rate_limit\u001b[1;34m(self, nth_request)\u001b[0m\n\u001b[0;32m    149\u001b[0m         \u001b[1;32mif\u001b[0m \u001b[0minterval\u001b[0m \u001b[1;33m>\u001b[0m \u001b[1;36m0\u001b[0m\u001b[1;33m:\u001b[0m\u001b[1;33m\u001b[0m\u001b[1;33m\u001b[0m\u001b[0m\n\u001b[0;32m    150\u001b[0m             \u001b[0mlog\u001b[0m\u001b[1;33m.\u001b[0m\u001b[0mdebug\u001b[0m\u001b[1;33m(\u001b[0m\u001b[1;34m\"Imposing rate limit, sleeping for %s\"\u001b[0m \u001b[1;33m%\u001b[0m \u001b[0minterval\u001b[0m\u001b[1;33m)\u001b[0m\u001b[1;33m\u001b[0m\u001b[1;33m\u001b[0m\u001b[0m\n\u001b[1;32m--> 151\u001b[1;33m             \u001b[0mtime\u001b[0m\u001b[1;33m.\u001b[0m\u001b[0msleep\u001b[0m\u001b[1;33m(\u001b[0m\u001b[0minterval\u001b[0m\u001b[1;33m)\u001b[0m\u001b[1;33m\u001b[0m\u001b[1;33m\u001b[0m\u001b[0m\n\u001b[0m\u001b[0;32m    152\u001b[0m \u001b[1;33m\u001b[0m\u001b[0m\n\u001b[0;32m    153\u001b[0m     \u001b[1;32mdef\u001b[0m \u001b[0m_add_nec_args\u001b[0m\u001b[1;33m(\u001b[0m\u001b[0mself\u001b[0m\u001b[1;33m,\u001b[0m \u001b[0mpayload\u001b[0m\u001b[1;33m)\u001b[0m\u001b[1;33m:\u001b[0m\u001b[1;33m\u001b[0m\u001b[1;33m\u001b[0m\u001b[0m\n",
      "\u001b[1;31mKeyboardInterrupt\u001b[0m: "
     ]
    }
   ],
   "source": [
    "features = ['url','author', 'title', 'subreddit', 'id', 'created']\n",
    "subreddit = 'stocks'\n",
    "latest = dt.datetime(2021,5,8).timestamp()\n",
    "earliest = dt.datetime(2020,1,1).timestamp()\n",
    "\n",
    "startEpoch = earliest\n",
    "\n",
    "while startEpoch <= latest:\n",
    "    data = api.search_submissions(after=startEpoch,\n",
    "                            subreddit=subreddit,\n",
    "                            filter= features,\n",
    "                            limit=100)\n",
    "    \n",
    "    for datum in data:\n",
    "        print('Got here 2.')\n",
    "        cur.execute('''INSERT OR IGNORE INTO Posts VALUES (?,?,?,?,?,?)'''\n",
    "                    , (datum.id, datum.subreddit, datum.title, datum.author, datum.url, datum.created))\n",
    "        \n",
    "        currentTime = datum.created\n",
    "    \n",
    "    conn.commit()\n",
    "    if currentTime == startEpoch:\n",
    "        break\n",
    "    startEpoch = currentTime + 1\n",
    "    print(dt.datetime.fromtimestamp(startEpoch))    \n",
    "\n"
   ]
  },
  {
   "cell_type": "markdown",
   "metadata": {},
   "source": [
    "## Another Approach (Getting JSON)\n",
    "\n",
    "The method above is shaky at best. A lot of times the api just freezes. On the other hand, I find using requests much easier. The following code blocks contain what you need for storing reddit data you need."
   ]
  },
  {
   "cell_type": "code",
   "execution_count": 1,
   "metadata": {},
   "outputs": [],
   "source": [
    "import requests\n",
    "import datetime as dt\n",
    "import sqlite3\n",
    "import json\n",
    "import time"
   ]
  },
  {
   "cell_type": "code",
   "execution_count": 2,
   "metadata": {},
   "outputs": [],
   "source": [
    "def getPushShiftData(after,before, sub):\n",
    "    url = 'https://api.pushshift.io/reddit/search/submission/?size=100&after='+str(int(after))+'&before='+str(int(before))+'&subreddit='+str(sub)\n",
    "    r = requests.get(url)\n",
    "    data = json.loads(r.text)\n",
    "    return data['data']"
   ]
  },
  {
   "cell_type": "code",
   "execution_count": 3,
   "metadata": {},
   "outputs": [],
   "source": [
    "def extractInfo(datum,features):\n",
    "    info = {}\n",
    "    \n",
    "    for feature in features:\n",
    "        info[feature] = datum[feature]\n",
    "    \n",
    "    return info"
   ]
  },
  {
   "cell_type": "code",
   "execution_count": 45,
   "metadata": {},
   "outputs": [
    {
     "name": "stdout",
     "output_type": "stream",
     "text": [
      "{'url': 'https://www.reddit.com/r/stocks/comments/eifodm/annual_forecast_for_facebook_fb_2020/', 'author': 'Ituglobal', 'title': 'Annual Forecast for Facebook (FB) – 2020', 'subreddit': 'stocks', 'id': 'eifodm', 'created_utc': 1577863982}\n"
     ]
    }
   ],
   "source": [
    "print(extractInfo(data[0], ['url','author', 'title', 'subreddit', 'id', 'created_utc']))"
   ]
  },
  {
   "cell_type": "code",
   "execution_count": 4,
   "metadata": {},
   "outputs": [],
   "source": [
    "def getLatestTime(data):\n",
    "    return data[-1]['created_utc']"
   ]
  },
  {
   "cell_type": "code",
   "execution_count": 5,
   "metadata": {},
   "outputs": [],
   "source": [
    "def dataStoragePipeline(after, before, sub, conn):\n",
    "    features = ['full_link','author', 'title', 'subreddit', 'id', 'created_utc']\n",
    "    cursor = conn.cursor()\n",
    "    while after < before:\n",
    "        data = getPushShiftData(after, before, sub)\n",
    "        if not data:\n",
    "            break\n",
    "        for datum in data:\n",
    "            cursor.execute('''INSERT OR IGNORE INTO Posts \n",
    "                                VALUES (?,?,?,?,?,?)'''\n",
    "                              , (datum['id'], datum['subreddit'], datum['title'], datum['author'], datum['full_link'], datum['created_utc']))\n",
    "        \n",
    "        after = getLatestTime(data) + 1\n",
    "        conn.commit()\n",
    "        print(\"The latest post is submitted at\", dt.datetime.fromtimestamp(after-1))\n",
    "        time.sleep(0.1)\n",
    "        \n",
    "        "
   ]
  },
  {
   "cell_type": "code",
   "execution_count": 7,
   "metadata": {},
   "outputs": [
    {
     "name": "stdout",
     "output_type": "stream",
     "text": [
      "2021-01-25 11:31:27\n",
      "The latest post is submitted at 2021-01-25 11:34:42\n",
      "The latest post is submitted at 2021-01-25 11:37:59\n",
      "The latest post is submitted at 2021-01-25 11:41:17\n",
      "The latest post is submitted at 2021-01-25 11:45:11\n",
      "The latest post is submitted at 2021-01-25 11:48:33\n",
      "The latest post is submitted at 2021-01-25 11:53:15\n",
      "The latest post is submitted at 2021-01-25 11:57:54\n",
      "The latest post is submitted at 2021-01-25 12:02:10\n",
      "The latest post is submitted at 2021-01-25 12:07:04\n",
      "The latest post is submitted at 2021-01-25 12:11:14\n",
      "The latest post is submitted at 2021-01-25 12:15:57\n",
      "The latest post is submitted at 2021-01-25 12:20:44\n",
      "The latest post is submitted at 2021-01-25 12:25:07\n",
      "The latest post is submitted at 2021-01-25 12:30:13\n",
      "The latest post is submitted at 2021-01-25 12:34:48\n",
      "The latest post is submitted at 2021-01-25 12:39:36\n",
      "Error occurred. Probably due to frequent requests. Will resume working in 1 seconds.\n",
      "The latest post is submitted at 2021-01-25 12:45:51\n",
      "The latest post is submitted at 2021-01-25 12:50:27\n",
      "The latest post is submitted at 2021-01-25 12:55:43\n",
      "Error occurred. Probably due to frequent requests. Will resume working in 1 seconds.\n",
      "Interrupted by keyboard. Stopping.\n"
     ]
    }
   ],
   "source": [
    "import sqlite3\n",
    "conn = sqlite3.connect('redditPosts.sqlite')\n",
    "cur = conn.cursor()\n",
    "subreddit = 'wallstreetbets'\n",
    "latest = int(time.time())\n",
    "earliest = dt.datetime(2021,1,1).timestamp()\n",
    "cur.execute('''SELECT MAX(created) FROM Posts\n",
    "                WHERE subreddit = ?''', (subreddit,))\n",
    "databaseLatest = cur.fetchone()[0]\n",
    "\n",
    "if databaseLatest:\n",
    "    start = max(earliest, databaseLatest)\n",
    "else:\n",
    "    start = earliest\n",
    "print(dt.datetime.fromtimestamp(start))\n",
    "while start < latest:\n",
    "    try:\n",
    "        dataStoragePipeline(after = start, before = latest, sub = subreddit, conn = conn)\n",
    "    except KeyboardInterrupt:\n",
    "        print(\"Interrupted by keyboard. Stopping.\")\n",
    "        break\n",
    "        \n",
    "    except:\n",
    "        print(\"Error occurred. Probably due to frequent requests. Will resume working in 1 seconds.\")\n",
    "        time.sleep(1)\n",
    "        cur.execute('''SELECT MAX(created) FROM Posts\n",
    "                        WHERE subreddit = ?''', (subreddit,))\n",
    "        databaseLatest = cur.fetchone()[0]\n",
    "        \n",
    "        if databaseLatest:\n",
    "            start = max(earliest, databaseLatest)\n",
    "        else:\n",
    "            start = earliest\n",
    "        "
   ]
  },
  {
   "cell_type": "code",
   "execution_count": null,
   "metadata": {},
   "outputs": [],
   "source": []
  }
 ],
 "metadata": {
  "kernelspec": {
   "display_name": "Python 3",
   "language": "python",
   "name": "python3"
  },
  "language_info": {
   "codemirror_mode": {
    "name": "ipython",
    "version": 3
   },
   "file_extension": ".py",
   "mimetype": "text/x-python",
   "name": "python",
   "nbconvert_exporter": "python",
   "pygments_lexer": "ipython3",
   "version": "3.8.10"
  }
 },
 "nbformat": 4,
 "nbformat_minor": 4
}
